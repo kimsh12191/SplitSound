{
 "cells": [
  {
   "cell_type": "markdown",
   "metadata": {},
   "source": [
    "- 진행계획\n",
    "    - FCN 방식을 통해서 스펙트로그램의 어떤 부분이 그 단어를 의미하는지 표시하는 것에 집중\n",
    "    - 일단 label이 bed 인것만 끄집어내서 진행"
   ]
  },
  {
   "cell_type": "code",
   "execution_count": 1,
   "metadata": {},
   "outputs": [],
   "source": [
    "import torch.nn as nn\n"
   ]
  },
  {
   "cell_type": "markdown",
   "metadata": {},
   "source": [
    "# 1. Model Structure"
   ]
  },
  {
   "cell_type": "code",
   "execution_count": 2,
   "metadata": {},
   "outputs": [],
   "source": [
    "# https://github.com/wkentaro/pytorch-fcn/blob/master/torchfcn/models/fcn32s.py <- 여기서 들고옴\n",
    "# https://github.com/shelhamer/fcn.berkeleyvision.org/blob/master/surgery.py <- 이건 윗사람이 들고온곳인듯\n",
    "\n",
    "def get_upsampling_weight(in_channels, out_channels, kernel_size):\n",
    "    \"\"\"Make a 2D bilinear kernel suitable for upsampling\"\"\"\n",
    "    factor = (kernel_size + 1) // 2\n",
    "    if kernel_size % 2 == 1:\n",
    "        center = factor - 1\n",
    "    else:\n",
    "        center = factor - 0.5\n",
    "    og = np.ogrid[:kernel_size, :kernel_size]\n",
    "    filt = (1 - abs(og[0] - center) / factor) * \\\n",
    "           (1 - abs(og[1] - center) / factor)\n",
    "    weight = np.zeros((in_channels, out_channels, kernel_size, kernel_size),\n",
    "                      dtype=np.float64)\n",
    "    weight[range(in_channels), range(out_channels), :, :] = filt\n",
    "    return torch.from_numpy(weight).float()\n",
    "\n",
    "\n",
    "class FCN8s(nn.Module):\n",
    "    def __init__(self, n_class=2):\n",
    "        super(FCN8s, self).__init__()\n",
    "        # conv1\n",
    "        self.conv1_1 = nn.Conv2d(1, 64, 3, padding=100)\n",
    "        self.relu1_1 = nn.ReLU(inplace=True)\n",
    "        self.conv1_2 = nn.Conv2d(64, 64, 3, padding=1)\n",
    "        self.relu1_2 = nn.ReLU(inplace=True)\n",
    "        self.pool1 = nn.MaxPool2d(2, stride=2, ceil_mode=True)  # 1/2\n",
    "\n",
    "        # conv2\n",
    "        self.conv2_1 = nn.Conv2d(64, 128, 3, padding=1)\n",
    "        self.relu2_1 = nn.ReLU(inplace=True)\n",
    "        self.conv2_2 = nn.Conv2d(128, 128, 3, padding=1)\n",
    "        self.relu2_2 = nn.ReLU(inplace=True)\n",
    "        self.pool2 = nn.MaxPool2d(2, stride=2, ceil_mode=True)  # 1/4\n",
    "\n",
    "        # conv3\n",
    "        self.conv3_1 = nn.Conv2d(128, 256, 3, padding=1)\n",
    "        self.relu3_1 = nn.ReLU(inplace=True)\n",
    "        self.conv3_2 = nn.Conv2d(256, 256, 3, padding=1)\n",
    "        self.relu3_2 = nn.ReLU(inplace=True)\n",
    "        self.conv3_3 = nn.Conv2d(256, 256, 3, padding=1)\n",
    "        self.relu3_3 = nn.ReLU(inplace=True)\n",
    "        self.pool3 = nn.MaxPool2d(2, stride=2, ceil_mode=True)  # 1/8\n",
    "\n",
    "        # conv4\n",
    "        self.conv4_1 = nn.Conv2d(256, 256, 3, padding=1)\n",
    "        self.relu4_1 = nn.ReLU(inplace=True)\n",
    "        self.conv4_2 = nn.Conv2d(256, 256, 3, padding=1)\n",
    "        self.relu4_2 = nn.ReLU(inplace=True)\n",
    "        self.conv4_3 = nn.Conv2d(256, 256, 3, padding=1)\n",
    "        self.relu4_3 = nn.ReLU(inplace=True)\n",
    "        self.pool4 = nn.MaxPool2d(2, stride=2, ceil_mode=True)  # 1/16\n",
    "\n",
    "        # conv5\n",
    "        self.conv5_1 = nn.Conv2d(256, 256, 3, padding=1)\n",
    "        self.relu5_1 = nn.ReLU(inplace=True)\n",
    "        self.conv5_2 = nn.Conv2d(256, 256, 3, padding=1)\n",
    "        self.relu5_2 = nn.ReLU(inplace=True)\n",
    "        self.conv5_3 = nn.Conv2d(256, 256, 3, padding=1)\n",
    "        self.relu5_3 = nn.ReLU(inplace=True)\n",
    "        self.pool5 = nn.MaxPool2d(2, stride=2, ceil_mode=True)  # 1/32\n",
    "\n",
    "        # fc6\n",
    "        self.fc6 = nn.Conv2d(256, 1024, 7)\n",
    "        self.relu6 = nn.ReLU(inplace=True)\n",
    "        self.drop6 = nn.Dropout2d()\n",
    "\n",
    "        # fc7\n",
    "        self.fc7 = nn.Conv2d(1024, 1024, 1)\n",
    "        self.relu7 = nn.ReLU(inplace=True)\n",
    "        self.drop7 = nn.Dropout2d()\n",
    "\n",
    "        self.score_fr = nn.Conv2d(1024, n_class, 1)\n",
    "        self.score_pool3 = nn.Conv2d(256, n_class, 1)\n",
    "        self.score_pool4 = nn.Conv2d(256, n_class, 1)\n",
    "\n",
    "        self.upscore2 = nn.ConvTranspose2d(\n",
    "            n_class, n_class, 4, stride=2, bias=False)\n",
    "        self.upscore8 = nn.ConvTranspose2d(\n",
    "            n_class, n_class, 16, stride=8, bias=False)\n",
    "        self.upscore_pool4 = nn.ConvTranspose2d(\n",
    "            n_class, n_class, 4, stride=2, bias=False)\n",
    "\n",
    "        self._initialize_weights()\n",
    "        \n",
    "    def _initialize_weights(self):\n",
    "        for m in self.modules():\n",
    "            if isinstance(m, nn.Conv2d):\n",
    "                m.weight.data.zero_()\n",
    "                if m.bias is not None:\n",
    "                    m.bias.data.zero_()\n",
    "            if isinstance(m, nn.ConvTranspose2d):\n",
    "                assert m.kernel_size[0] == m.kernel_size[1]\n",
    "                initial_weight = get_upsampling_weight(\n",
    "                    m.in_channels, m.out_channels, m.kernel_size[0])\n",
    "                m.weight.data.copy_(initial_weight)\n",
    "\n",
    "    def forward(self, x):\n",
    "        h = x\n",
    "        h = self.relu1_1(self.conv1_1(h))\n",
    "        h = self.relu1_2(self.conv1_2(h))\n",
    "        h = self.pool1(h)\n",
    "\n",
    "        h = self.relu2_1(self.conv2_1(h))\n",
    "        h = self.relu2_2(self.conv2_2(h))\n",
    "        h = self.pool2(h)\n",
    "\n",
    "        h = self.relu3_1(self.conv3_1(h))\n",
    "        h = self.relu3_2(self.conv3_2(h))\n",
    "        h = self.relu3_3(self.conv3_3(h))\n",
    "        h = self.pool3(h)\n",
    "        pool3 = h  # 1/8\n",
    "\n",
    "        h = self.relu4_1(self.conv4_1(h))\n",
    "        h = self.relu4_2(self.conv4_2(h))\n",
    "        h = self.relu4_3(self.conv4_3(h))\n",
    "        h = self.pool4(h)\n",
    "        pool4 = h  # 1/16\n",
    "\n",
    "        h = self.relu5_1(self.conv5_1(h))\n",
    "        h = self.relu5_2(self.conv5_2(h))\n",
    "        h = self.relu5_3(self.conv5_3(h))\n",
    "        h = self.pool5(h)\n",
    "\n",
    "        h = self.relu6(self.fc6(h))\n",
    "        h = self.drop6(h)\n",
    "\n",
    "        h = self.relu7(self.fc7(h))\n",
    "        h = self.drop7(h)\n",
    "\n",
    "        h = self.score_fr(h)\n",
    "        h = self.upscore2(h)\n",
    "        upscore2 = h  # 1/16\n",
    "\n",
    "        h = self.score_pool4(pool4)\n",
    "        h = h[:, :, 5:5 + upscore2.size()[2], 5:5 + upscore2.size()[3]]\n",
    "        score_pool4c = h  # 1/16\n",
    "\n",
    "        h = upscore2 + score_pool4c  # 1/16\n",
    "        h = self.upscore_pool4(h)\n",
    "        upscore_pool4 = h  # 1/8\n",
    "\n",
    "        h = self.score_pool3(pool3)\n",
    "        h = h[:, :,\n",
    "              9:9 + upscore_pool4.size()[2],\n",
    "              9:9 + upscore_pool4.size()[3]]\n",
    "        score_pool3c = h  # 1/8\n",
    "\n",
    "        h = upscore_pool4 + score_pool3c  # 1/8\n",
    "\n",
    "        h = self.upscore8(h)\n",
    "        h = h[:, :, 31:31 + x.size()[2], 31:31 + x.size()[3]].contiguous()\n",
    "\n",
    "        return h"
   ]
  },
  {
   "cell_type": "markdown",
   "metadata": {},
   "source": [
    "# 2. Trainer"
   ]
  },
  {
   "cell_type": "markdown",
   "metadata": {},
   "source": [
    "- loss function"
   ]
  },
  {
   "cell_type": "code",
   "execution_count": 3,
   "metadata": {},
   "outputs": [],
   "source": [
    "import datetime\n",
    "from distutils.version import LooseVersion\n",
    "import math\n",
    "import os\n",
    "import os.path as osp\n",
    "import shutil\n",
    "\n",
    "import numpy as np\n",
    "#import skimage.io\n",
    "import torch\n",
    "from torch.autograd import Variable\n",
    "import torch.nn.functional as F\n",
    "import tqdm \n",
    "import sys\n",
    "#import torchfcn"
   ]
  },
  {
   "cell_type": "code",
   "execution_count": 4,
   "metadata": {},
   "outputs": [],
   "source": [
    "def cross_entropy2d(input, target, weight=None, size_average=True):\n",
    "    # input: (n, c, h, w), \n",
    "    # target: (n, h, w), 0~n_class number\n",
    "    n, c, h, w = input.size()\n",
    "    # log_p: (n, c, h, w)\n",
    "    if LooseVersion(torch.__version__) < LooseVersion('0.3'):\n",
    "        # ==0.2.X\n",
    "        log_p = F.log_softmax(input)\n",
    "    else:\n",
    "        # >=0.3\n",
    "        log_p = F.log_softmax(input, dim=1)\n",
    "    # log_p: (n*h*w, c)\n",
    "    log_p = log_p.transpose(1, 2).transpose(2, 3).contiguous()\n",
    "\n",
    "    log_p = log_p[target.view(n, h, w, 1).repeat(1, 1, 1, c) >= 0] \n",
    "    # target: (n*h*w,)\n",
    "    mask = target >= 0\n",
    "    target = target[mask]\n",
    "    loss = F.nll_loss(log_p.view(-1, c), target.view(-1), weight=weight, reduction='sum') # The negative log likelihood loss.\n",
    "    if size_average:\n",
    "        loss /= mask.data.sum()\n",
    "    return loss\n",
    "\n",
    "# utils for validation\n",
    "def _fast_hist(label_true, label_pred, n_class):\n",
    "    mask = (label_true >= 0) & (label_true < n_class)\n",
    "    hist = np.bincount(\n",
    "        n_class * np.int32(label_true[mask]) +\n",
    "        label_pred[mask], minlength=n_class ** 2).reshape(n_class, n_class)\n",
    "    return hist\n",
    "\n",
    "\n",
    "def label_accuracy_score(label_trues, label_preds, n_class):\n",
    "    \"\"\"Returns accuracy score evaluation result.\n",
    "      - overall accuracy\n",
    "      - mean accuracy\n",
    "      - mean IU\n",
    "      - fwavacc\n",
    "    \"\"\"\n",
    "    hist = np.zeros((n_class, n_class))\n",
    "    for lt, lp in zip(label_trues, label_preds):\n",
    "        hist += _fast_hist(lt.flatten(), lp.flatten(), n_class)\n",
    "    acc = np.diag(hist).sum() / hist.sum()\n",
    "    with np.errstate(divide='ignore', invalid='ignore'):\n",
    "        acc_cls = np.diag(hist) / hist.sum(axis=1)\n",
    "    acc_cls = np.nanmean(acc_cls)\n",
    "    with np.errstate(divide='ignore', invalid='ignore'):\n",
    "        iu = np.diag(hist) / (\n",
    "            hist.sum(axis=1) + hist.sum(axis=0) - np.diag(hist)\n",
    "        )\n",
    "    mean_iu = np.nanmean(iu)\n",
    "    freq = hist.sum(axis=1) / hist.sum()\n",
    "    fwavacc = (freq[freq > 0] * iu[freq > 0]).sum()\n",
    "    return acc, acc_cls, mean_iu, fwavacc"
   ]
  },
  {
   "cell_type": "code",
   "execution_count": 5,
   "metadata": {},
   "outputs": [],
   "source": [
    "class Trainer(object):\n",
    "\n",
    "    def __init__(self, cuda, model, optimizer,\n",
    "                 train_loader, val_loader, out, max_iter, n_class, \n",
    "                 size_average=False, interval_validate=None):\n",
    "        self.cuda = cuda\n",
    "\n",
    "        self.model = model\n",
    "        self.optim = optimizer\n",
    "\n",
    "        self.train_loader = train_loader\n",
    "        self.val_loader = val_loader\n",
    "\n",
    "        self.timestamp_start = \\\n",
    "            datetime.datetime.now()\n",
    "        self.size_average = size_average\n",
    "\n",
    "        if interval_validate is None:\n",
    "            self.interval_validate = len(self.train_loader)\n",
    "        else:\n",
    "            self.interval_validate = interval_validate\n",
    "\n",
    "        self.out = out\n",
    "        if not osp.exists(self.out):\n",
    "            os.makedirs(self.out)\n",
    "\n",
    "        self.log_headers = [\n",
    "            'epoch',\n",
    "            'iteration',\n",
    "            'train/loss',\n",
    "            'train/acc',\n",
    "            'train/acc_cls',\n",
    "            'train/mean_iu',\n",
    "            'train/fwavacc',\n",
    "            'valid/loss',\n",
    "            'valid/acc',\n",
    "            'valid/acc_cls',\n",
    "            'valid/mean_iu',\n",
    "            'valid/fwavacc',\n",
    "            'elapsed_time',\n",
    "        ]\n",
    "        if not osp.exists(osp.join(self.out, 'log.csv')):\n",
    "            with open(osp.join(self.out, 'log.csv'), 'w') as f:\n",
    "                f.write(','.join(self.log_headers) + '\\n')\n",
    "\n",
    "        self.epoch = 0\n",
    "        self.loss = 0\n",
    "        self.iteration = 0\n",
    "        self.max_iter = max_iter\n",
    "        self.best_mean_iu = 0\n",
    "        self.n_class = n_class\n",
    "        \n",
    "    def validate(self):\n",
    "        training = self.model.training\n",
    "        self.model.eval()\n",
    "\n",
    "        n_class = self.n_class \n",
    "\n",
    "        val_loss = 0\n",
    "        visualizations = []\n",
    "        label_trues, label_preds = [], []\n",
    "        for batch_idx, (data, target) in tqdm.notebook.tqdm(\n",
    "                enumerate(self.val_loader), total=len(self.val_loader),\n",
    "                desc='Valid iteration=%d' % self.iteration, leave=False):\n",
    "            if self.cuda:\n",
    "                data, target = data.cuda(), target.cuda()\n",
    "            data, target = Variable(data), Variable(target).to(dtype=torch.long) # target data type 이슈\n",
    "            with torch.no_grad():\n",
    "                score = self.model(data)\n",
    "            loss = cross_entropy2d(score, target,\n",
    "                                   size_average=self.size_average)\n",
    "            loss_data = loss.data.item()\n",
    "            if np.isnan(loss_data):\n",
    "                raise ValueError('loss is nan while validating')\n",
    "            val_loss += loss_data / len(data)\n",
    "\n",
    "            imgs = data.data.cpu()\n",
    "            lbl_pred = score.data.max(1)[1].cpu().numpy()[:, :, :]\n",
    "            lbl_true = target.data.cpu()\n",
    "            fig = plt.figure(figsize=(10, 12))\n",
    "            fig.add_subplot(1, 3, 1)\n",
    "            plt.imshow(imgs.numpy()[0, 0, :, :])\n",
    "            fig.add_subplot(1, 3, 2)\n",
    "            plt.imshow(lbl_pred[0, :, :])\n",
    "            fig.add_subplot(1, 3, 3)\n",
    "            plt.imshow(lbl_true.numpy()[0, :, :])\n",
    "            plt.show()\n",
    "            for img, lt, lp in zip(imgs, lbl_true, lbl_pred):\n",
    "                label_trues.append(lt)\n",
    "                label_preds.append(lp)\n",
    "            break    \n",
    "        metrics = label_accuracy_score(\n",
    "            label_trues, label_preds, n_class)\n",
    "\n",
    "\n",
    "        val_loss /= len(self.val_loader)\n",
    "\n",
    "        with open(osp.join(self.out, 'log.csv'), 'a') as f:\n",
    "            elapsed_time = (\n",
    "                datetime.datetime.now() -\n",
    "                self.timestamp_start).total_seconds()\n",
    "            log = [self.epoch, self.iteration] + [''] * 5 + \\\n",
    "                  [val_loss] + list(metrics) + [elapsed_time]\n",
    "            log = map(str, log)\n",
    "            f.write(','.join(log) + '\\n')\n",
    "\n",
    "        mean_iu = metrics[2]\n",
    "        is_best = mean_iu > self.best_mean_iu\n",
    "        if is_best:\n",
    "            self.best_mean_iu = mean_iu\n",
    "        torch.save({\n",
    "            'epoch': self.epoch,\n",
    "            'iteration': self.iteration,\n",
    "            'arch': self.model.__class__.__name__,\n",
    "            'optim_state_dict': self.optim.state_dict(),\n",
    "            'model_state_dict': self.model.state_dict(),\n",
    "            'best_mean_iu': self.best_mean_iu,\n",
    "        }, osp.join(self.out, 'checkpoint.pth.tar'))\n",
    "        if is_best:\n",
    "            shutil.copy(osp.join(self.out, 'checkpoint.pth.tar'),\n",
    "                        osp.join(self.out, 'model_best.pth.tar'))\n",
    "\n",
    "        if training:\n",
    "            self.model.train()\n",
    "\n",
    "    def train_epoch(self):\n",
    "        self.model.train()\n",
    "        \n",
    "        n_class = self.n_class\n",
    "            # for jupyter notebook (tqdm.notebook.tqdm)\n",
    "        for batch_idx, (data, target) in tqdm.notebook.tqdm(\n",
    "                enumerate(self.train_loader), total=len(self.train_loader),\n",
    "                desc='Train epoch={}'.format(self.epoch), leave=False):\n",
    "            iteration = batch_idx + self.epoch * len(self.train_loader)\n",
    "            if self.iteration != 0 and (iteration - 1) != self.iteration:\n",
    "                continue  # for resuming\n",
    "            self.iteration = iteration\n",
    "        \n",
    "            if self.iteration % self.interval_validate == 0:\n",
    "                self.validate()\n",
    "\n",
    "            #assert self.model.training\n",
    "\n",
    "            if self.cuda:\n",
    "                data, target = data.cuda(), target.cuda()\n",
    "            data, target = Variable(data), Variable(target).to(dtype=torch.long) # target data type 이슈\n",
    "            self.optim.zero_grad()\n",
    "            score = self.model(data)\n",
    "            \n",
    "            loss = cross_entropy2d(score, target,\n",
    "                                   size_average=self.size_average)\n",
    "            loss /= len(data)\n",
    "            loss_data = loss.data.item()\n",
    "            sys.stdout.write('\\r iteration : {0}, loss : {1:>20s}'.format(iteration, str(np.round(loss_data, decimals=4))))\n",
    "            if np.isnan(loss_data):\n",
    "                raise ValueError('loss is nan while training')\n",
    "            loss.backward()\n",
    "            self.optim.step()\n",
    "\n",
    "            metrics = []\n",
    "            lbl_pred = score.data.max(1)[1].cpu().numpy()[:, :, :]\n",
    "            lbl_true = target.data.cpu().numpy()\n",
    "            acc, acc_cls, mean_iu, fwavacc = \\\n",
    "                label_accuracy_score(\n",
    "                    lbl_true, lbl_pred, n_class=n_class)\n",
    "            metrics.append((acc, acc_cls, mean_iu, fwavacc))\n",
    "            metrics = np.mean(metrics, axis=0)\n",
    "\n",
    "            with open(osp.join(self.out, 'log.csv'), 'a') as f:\n",
    "                elapsed_time = (\n",
    "                    datetime.datetime.now() -\n",
    "                    self.timestamp_start).total_seconds()\n",
    "                log = [self.epoch, self.iteration] + [loss_data] + \\\n",
    "                    metrics.tolist() + [''] * 5 + [elapsed_time]\n",
    "                log = map(str, log)\n",
    "                f.write(','.join(log) + '\\n')\n",
    "\n",
    "            if self.iteration >= self.max_iter:\n",
    "                break\n",
    "\n",
    "    def train(self):\n",
    "        max_epoch = int(math.ceil(1. * self.max_iter / len(self.train_loader)))\n",
    "        \n",
    "\n",
    "        for epoch in tqdm.notebook.trange(self.epoch, max_epoch,\n",
    "                                 desc='Train'):\n",
    "            self.epoch = epoch\n",
    "            self.train_epoch()\n",
    "            if self.iteration >= self.max_iter:\n",
    "                break"
   ]
  },
  {
   "cell_type": "markdown",
   "metadata": {},
   "source": [
    "# 3. 학습(실행)"
   ]
  },
  {
   "cell_type": "markdown",
   "metadata": {},
   "source": [
    "## 3.1. args"
   ]
  },
  {
   "cell_type": "code",
   "execution_count": 6,
   "metadata": {},
   "outputs": [],
   "source": [
    "class DictToObject(object):\n",
    "\n",
    "    def __init__(self, dictionary):\n",
    "        def _traverse(key, element):\n",
    "            if isinstance(element, dict):\n",
    "                return key, DictToObject(element)\n",
    "            else:\n",
    "                return key, element\n",
    "\n",
    "        objd = dict(_traverse(k, v) for k, v in dictionary.items())\n",
    "        self.__dict__.update(objd)\n",
    "\n"
   ]
  },
  {
   "cell_type": "code",
   "execution_count": 7,
   "metadata": {},
   "outputs": [],
   "source": [
    "config_dict = {\n",
    "    'gpu': 0, \n",
    "    'resume': False,\n",
    "    \n",
    "    'max_iteration': 500000,\n",
    "    'lr': 0.001,\n",
    "    'weight_decay': 0.0001,\n",
    "    'momentum': 0.99,\n",
    "    'batch_size': 10,\n",
    "    'model': 'fcn8',\n",
    "    'n_class': 2,\n",
    "    'interval_validate': 1000,\n",
    "}\n",
    "# log diectory 생성\n",
    "import os\n",
    "import os.path as osp\n",
    "#here = osp.dirname(osp.abspath(__file__))\n",
    "here = osp.dirname('./')\n",
    "\n",
    "now = datetime.datetime.now()\n",
    "out = osp.join(here, 'logs', now.strftime('%Y%m%d_%H%M%S.%f'))\n",
    "\n",
    "os.makedirs(out)\n",
    "config_dict['out'] = out # log output directory 넣어줌\n",
    "args = DictToObject(config_dict)"
   ]
  },
  {
   "cell_type": "code",
   "execution_count": 8,
   "metadata": {},
   "outputs": [],
   "source": [
    "os.environ['CUDA_VISIBLE_DEVICES'] = str(args.gpu)\n",
    "os.environ['CUDA_LAUNCH_BLOCKING'] = \"1\"\n",
    "cuda = torch.cuda.is_available()\n"
   ]
  },
  {
   "cell_type": "markdown",
   "metadata": {},
   "source": [
    "## 3.1. dataset"
   ]
  },
  {
   "cell_type": "code",
   "execution_count": 9,
   "metadata": {},
   "outputs": [],
   "source": [
    "from torch.utils.data import Dataset, DataLoader\n",
    "import torch\n",
    "import pandas as pd\n",
    "import numpy as np\n",
    "\n",
    "import matplotlib.pyplot as plt\n",
    "import librosa\n",
    "\n",
    "from scipy.io import wavfile\n",
    "import glob\n",
    "import tqdm\n"
   ]
  },
  {
   "cell_type": "code",
   "execution_count": 10,
   "metadata": {},
   "outputs": [],
   "source": [
    "def get_melspectrogram(signal, fs, nfft):\n",
    "    hop_length = int(fs/nfft)\n",
    "    n_mles = nfft/2\n",
    "    mel_result = librosa.feature.melspectrogram(y=np.float32(signal), sr=fs, n_mels=n_mles, hop_length=hop_length) # melspectrogram \n",
    "    mel_result_db = librosa.power_to_db(mel_result, ref=np.max) # 데시벨로 데이터 범위 한정 (로그를씌웟나 그랫던거같음)\n",
    "    \n",
    "    #print (mel_result_db.shape)\n",
    "    return mel_result_db"
   ]
  },
  {
   "cell_type": "code",
   "execution_count": 11,
   "metadata": {},
   "outputs": [],
   "source": [
    "class GetTrainDataset(Dataset):\n",
    "    # Initialize your data, download, etc. \n",
    "    def __init__(self, dir_list): \n",
    "        self.dir_list = np.sort(dir_list)\n",
    "        self.len = self.dir_list.shape[0] \n",
    "        label_df = pd.read_csv('./train_answer.csv')\n",
    "        self.label_bed = np.int32(label_df.bed.values!=0) # label bed 인 부분만 꺼내서 0이 아니면 1로지정\n",
    "        \n",
    "        \n",
    "    def __getitem__(self, index):\n",
    "        # get item이 호출될 때, directory 에서 파일 로드해서 melspectrogram 연산\n",
    "        fs, signal = wavfile.read(self.dir_list[index])\n",
    "        mel_result = get_melspectrogram(signal, fs=fs, nfft=160)\n",
    "        w, h = mel_result.shape\n",
    "        # pytorch input shape [channels, height, width]\n",
    "        self.x_data = torch.from_numpy(mel_result[np.newaxis, :, :])  \n",
    "        self.y_data = torch.from_numpy(np.tile(self.label_bed[index, np.newaxis, np.newaxis], [1, w, h])[0]) \n",
    "        \n",
    "        return self.x_data, self.y_data # 현재의문사항 앞에 batch_size없어도되나?\n",
    "    \n",
    "    def __len__(self):\n",
    "        return self.len \n",
    "    \n",
    "    # melSpectrogram 을 얻기위한 함수\n",
    "    def get_melspectrogram(self, signal, fs, nfft):\n",
    "        hop_length = int(fs/nfft)\n",
    "        n_mles = nfft/2\n",
    "        mel_result = librosa.feature.melspectrogram(y=np.float32(signal), sr=fs, n_mels=n_mles, hop_length=hop_length) # melspectrogram \n",
    "        mel_result_db = librosa.power_to_db(mel_result, ref=np.max) # 데시벨로 데이터 범위 한정 (로그를씌웟나 그랫던거같음)\n",
    "\n",
    "        #print (mel_result_db.shape)\n",
    "        return mel_result_db\n",
    "    \n",
    "    "
   ]
  },
  {
   "cell_type": "code",
   "execution_count": 12,
   "metadata": {},
   "outputs": [
    {
     "name": "stdout",
     "output_type": "stream",
     "text": [
      "100000\n"
     ]
    }
   ],
   "source": [
    "print (len(glob.glob('./train/*.wav')))"
   ]
  },
  {
   "cell_type": "code",
   "execution_count": 13,
   "metadata": {},
   "outputs": [],
   "source": [
    "# 앞에서 9만번까지는 train 그 다음은 valid로 사용\n",
    "train_dir_list = np.sort(glob.glob('./train/*.wav'))[:90000]\n",
    "valid_dir_list = np.sort(glob.glob('./train/*.wav'))[90000:]\n",
    "\n",
    "train_dataset = GetTrainDataset(train_dir_list) \n",
    "valid_dataset = GetTrainDataset(valid_dir_list) \n",
    "\n",
    "train_loader = DataLoader(dataset=train_dataset, batch_size=args.batch_size, shuffle=True, num_workers=0) # 이게 worker 0이어야 에러가안남 broken pipe인지뭔지\n",
    "valid_loader = DataLoader(dataset=valid_dataset, batch_size=args.batch_size, shuffle=True, num_workers=0) # 이게 worker 0이어야 에러가안남 broken pipe인지뭔지"
   ]
  },
  {
   "cell_type": "markdown",
   "metadata": {},
   "source": [
    "## 3.2. model"
   ]
  },
  {
   "cell_type": "code",
   "execution_count": 14,
   "metadata": {},
   "outputs": [],
   "source": [
    "model = FCN8s(n_class=args.n_class)\n",
    "start_epoch = 0\n",
    "start_iteration = 0\n",
    "if args.resume:\n",
    "    checkpoint = torch.load(args.resume)\n",
    "    model.load_state_dict(checkpoint['model_state_dict'])\n",
    "    start_epoch = checkpoint['epoch']\n",
    "    start_iteration = checkpoint['iteration']\n",
    "\n",
    "if cuda:\n",
    "    model = model.cuda()"
   ]
  },
  {
   "cell_type": "markdown",
   "metadata": {},
   "source": [
    "## 3.3. optimizer"
   ]
  },
  {
   "cell_type": "code",
   "execution_count": 15,
   "metadata": {},
   "outputs": [],
   "source": [
    "def get_parameters(model, bias=False):\n",
    "    import torch.nn as nn\n",
    "    modules_skipped = (\n",
    "        nn.ReLU,\n",
    "        nn.MaxPool2d,\n",
    "        nn.Dropout2d,\n",
    "        nn.Sequential,\n",
    "        FCN8s,\n",
    "    )\n",
    "    for m in model.modules():\n",
    "        if isinstance(m, nn.Conv2d):\n",
    "            if bias:\n",
    "                yield m.bias\n",
    "            else:\n",
    "                yield m.weight\n",
    "        elif isinstance(m, nn.ConvTranspose2d):\n",
    "            # weight is frozen because it is just a bilinear upsampling\n",
    "            if bias:\n",
    "                assert m.bias is None\n",
    "        elif isinstance(m, modules_skipped):\n",
    "            continue\n",
    "        else:\n",
    "            raise ValueError('Unexpected module: %s' % str(m))"
   ]
  },
  {
   "cell_type": "code",
   "execution_count": 16,
   "metadata": {},
   "outputs": [],
   "source": [
    "optim = torch.optim.SGD(\n",
    "    [\n",
    "        {'params': get_parameters(model, bias=False)},\n",
    "        {'params': get_parameters(model, bias=True),\n",
    "         'lr': args.lr * 2, 'weight_decay': 0},\n",
    "    ],\n",
    "    lr=args.lr,\n",
    "    momentum=args.momentum,\n",
    "    weight_decay=args.weight_decay)\n",
    "\n",
    "if args.resume:\n",
    "    optim.load_state_dict(checkpoint['optim_state_dict'])\n",
    "\n",
    "trainer = Trainer(\n",
    "    cuda=cuda,\n",
    "    model=model,\n",
    "    optimizer=optim,\n",
    "    train_loader=train_loader,\n",
    "    val_loader=valid_loader,\n",
    "    out=args.out, # log output director\n",
    "    max_iter=args.max_iteration,\n",
    "    n_class=args.n_class,\n",
    "    interval_validate=args.interval_validate,\n",
    ")"
   ]
  },
  {
   "cell_type": "code",
   "execution_count": null,
   "metadata": {
    "scrolled": true
   },
   "outputs": [
    {
     "data": {
      "application/vnd.jupyter.widget-view+json": {
       "model_id": "18a4867ede054b28889394fd1c2714dd",
       "version_major": 2,
       "version_minor": 0
      },
      "text/plain": [
       "HBox(children=(FloatProgress(value=0.0, description='Train', max=56.0, style=ProgressStyle(description_width='…"
      ]
     },
     "metadata": {},
     "output_type": "display_data"
    },
    {
     "data": {
      "application/vnd.jupyter.widget-view+json": {
       "model_id": "d9fb6b5e815d4f1d88df5a1d7c618f76",
       "version_major": 2,
       "version_minor": 0
      },
      "text/plain": [
       "HBox(children=(FloatProgress(value=0.0, description='Train epoch=0', max=9000.0, style=ProgressStyle(descripti…"
      ]
     },
     "metadata": {},
     "output_type": "display_data"
    },
    {
     "data": {
      "application/vnd.jupyter.widget-view+json": {
       "model_id": "2741345a7a754154b1bdd176533d81df",
       "version_major": 2,
       "version_minor": 0
      },
      "text/plain": [
       "HBox(children=(FloatProgress(value=0.0, description='Valid iteration=0', max=1000.0, style=ProgressStyle(descr…"
      ]
     },
     "metadata": {},
     "output_type": "display_data"
    },
    {
     "data": {
      "image/png": "[encoded data removed]",
      "text/plain": [
       "<Figure size 720x864 with 3 Axes>"
      ]
     },
     "metadata": {
      "needs_background": "light"
     },
     "output_type": "display_data"
    },
    {
     "name": "stdout",
     "output_type": "stream",
     "text": [
      " iteration : 999, loss :            1355482.0"
     ]
    },
    {
     "data": {
      "application/vnd.jupyter.widget-view+json": {
       "model_id": "5fc4702e13d7466683173843aaf71c41",
       "version_major": 2,
       "version_minor": 0
      },
      "text/plain": [
       "HBox(children=(FloatProgress(value=0.0, description='Valid iteration=1000', max=1000.0, style=ProgressStyle(de…"
      ]
     },
     "metadata": {},
     "output_type": "display_data"
    },
    {
     "data": {
      "image/png": "[encoded data removed]",
      "text/plain": [
       "<Figure size 720x864 with 3 Axes>"
      ]
     },
     "metadata": {
      "needs_background": "light"
     },
     "output_type": "display_data"
    },
    {
     "name": "stdout",
     "output_type": "stream",
     "text": [
      " iteration : 1999, loss :          1365631.125"
     ]
    },
    {
     "data": {
      "application/vnd.jupyter.widget-view+json": {
       "model_id": "26345aca0187407bb6cc63ec8034918a",
       "version_major": 2,
       "version_minor": 0
      },
      "text/plain": [
       "HBox(children=(FloatProgress(value=0.0, description='Valid iteration=2000', max=1000.0, style=ProgressStyle(de…"
      ]
     },
     "metadata": {},
     "output_type": "display_data"
    },
    {
     "data": {
      "image/png": "[encoded data removed]",
      "text/plain": [
       "<Figure size 720x864 with 3 Axes>"
      ]
     },
     "metadata": {
      "needs_background": "light"
     },
     "output_type": "display_data"
    },
    {
     "name": "stdout",
     "output_type": "stream",
     "text": [
      " iteration : 2432, loss :          1473911.625"
     ]
    }
   ],
   "source": [
    "trainer.epoch = start_epoch\n",
    "trainer.iteration = start_iteration\n",
    "trainer.train()"
   ]
  }
 ],
 "metadata": {
  "kernelspec": {
   "display_name": "Python 3",
   "language": "python",
   "name": "python3"
  },
  "language_info": {
   "codemirror_mode": {
    "name": "ipython",
    "version": 3
   },
   "file_extension": ".py",
   "mimetype": "text/x-python",
   "name": "python",
   "nbconvert_exporter": "python",
   "pygments_lexer": "ipython3",
   "version": "3.6.8"
  }
 },
 "nbformat": 4,
 "nbformat_minor": 4
}
