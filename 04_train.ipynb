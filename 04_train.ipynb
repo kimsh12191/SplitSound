{
 "cells": [
  {
   "cell_type": "code",
   "execution_count": 1,
   "metadata": {},
   "outputs": [],
   "source": [
    "from src import *\n",
    "from utils import *\n",
    "import os\n",
    "import os.path as osp\n",
    "import datetime\n",
    "\n",
    "import numpy as np\n",
    "import pandas as pd\n",
    "import matplotlib.pyplot as plt\n",
    "from six.moves import cPickle\n",
    "import torch"
   ]
  },
  {
   "cell_type": "code",
   "execution_count": 2,
   "metadata": {},
   "outputs": [],
   "source": [
    "config_dict = {\n",
    "    'gpu': 0, \n",
    "    'resume': './logs/pre_train_model/',\n",
    "#     'resume': False,\n",
    "    \n",
    "    'max_iteration': 1000000,\n",
    "    'lr': 0.001,\n",
    "    'weight_decay': 0.0001,\n",
    "    'momentum': 0.99,\n",
    "    'batch_size': 6,\n",
    "    'model': 'fcn8',\n",
    "    'n_class': 30+1,\n",
    "    'interval_validate': 10000,\n",
    "}\n",
    "\n",
    "# log diectory 생성\n",
    "#here = osp.dirname(osp.abspath(__file__))\n",
    "here = osp.dirname('./')\n",
    "\n",
    "now = datetime.datetime.now()\n",
    "out = osp.join(here, 'logs', 'fcn_'+now.strftime('%m%d_%H%M%S.%f'))\n",
    "\n",
    "os.makedirs(out)\n",
    "config_dict['out'] = out # log output directory 넣어줌\n",
    "args = DictToObject(config_dict)\n",
    "\n",
    "# GPU선정\n",
    "os.environ['CUDA_VISIBLE_DEVICES'] = str(args.gpu)\n",
    "os.environ['CUDA_LAUNCH_BLOCKING'] = \"1\"\n",
    "cuda = torch.cuda.is_available()\n"
   ]
  },
  {
   "cell_type": "markdown",
   "metadata": {},
   "source": [
    "# data loader"
   ]
  },
  {
   "cell_type": "code",
   "execution_count": 3,
   "metadata": {},
   "outputs": [],
   "source": [
    "label_df = pd.read_csv('./train_answer.csv')\n"
   ]
  },
  {
   "cell_type": "code",
   "execution_count": 4,
   "metadata": {},
   "outputs": [
    {
     "data": {
      "text/plain": [
       "Index(['bed', 'bird', 'cat', 'dog', 'down', 'eight', 'five', 'four', 'go',\n",
       "       'happy', 'house', 'left', 'marvin', 'nine', 'no', 'off', 'on', 'one',\n",
       "       'right', 'seven', 'sheila', 'six', 'stop', 'three', 'tree', 'two', 'up',\n",
       "       'wow', 'yes', 'zero'],\n",
       "      dtype='object')"
      ]
     },
     "execution_count": 4,
     "metadata": {},
     "output_type": "execute_result"
    }
   ],
   "source": [
    "label_df.columns[1:args.n_class]"
   ]
  },
  {
   "cell_type": "code",
   "execution_count": 5,
   "metadata": {},
   "outputs": [],
   "source": [
    "# data loader\n",
    "\n",
    "# 앞에서 9만번까지는 train 그 다음은 valid로 사용\n",
    "train_dir_list = np.sort(glob.glob('./train/*.wav'))[:90000]\n",
    "valid_dir_list = np.sort(glob.glob('./train/*.wav'))[90000:]\n",
    "\n",
    "train_dataset = GetTrainDataset(train_dir_list, class_list=label_df.columns[1:args.n_class]) \n",
    "valid_dataset = GetTrainDataset(valid_dir_list, class_list=label_df.columns[1:args.n_class]) \n",
    "\n",
    "train_loader = DataLoader(dataset=train_dataset, batch_size=args.batch_size, shuffle=True, num_workers=0) # 이게 worker 0이어야 에러가안남 broken pipe인지뭔지\n",
    "valid_loader = DataLoader(dataset=valid_dataset, batch_size=args.batch_size, shuffle=True, num_workers=0) # 이게 worker 0이어야 에러가안남 broken pipe인지뭔지"
   ]
  },
  {
   "cell_type": "markdown",
   "metadata": {},
   "source": [
    "# model"
   ]
  },
  {
   "cell_type": "code",
   "execution_count": null,
   "metadata": {},
   "outputs": [],
   "source": [
    "model = FCN8s(n_class=args.n_class)\n",
    "start_epoch = 0\n",
    "start_iteration = 0\n",
    "if args.resume:\n",
    "    checkpoint = torch.load(args.resume+'/checkpoint.pth.tar')\n",
    "    \n",
    "    # backbone 부분만 불러올려고 쓸모없는 정보는 지워버림\n",
    "    # class dependancy 있는 친구들 제거\n",
    "    new_model_dict = model.state_dict()\n",
    "    pretrained_dict = checkpoint['model_state_dict']\n",
    "    pretrained_dict = {k: v for k, v in pretrained_dict.items() if 'block' in k}\n",
    "    new_model_dict.update(pretrained_dict)\n",
    "    \n",
    "    #model.load_state_dict(checkpoint['model_state_dict'])\n",
    "    model.load_state_dict(new_model_dict)\n",
    "    start_epoch = checkpoint['epoch']\n",
    "    start_iteration = checkpoint['iteration']\n",
    "\n",
    "if cuda:\n",
    "    model = model.cuda()\n",
    "    \n",
    "# optim = torch.optim.SGD(model.parameters(),\n",
    "# optim = torch.optim.RMSprop(model.parameters(),\n",
    "#     lr=args.lr,\n",
    "#     momentum=args.momentum,\n",
    "#     weight_decay=args.weight_decay)\n",
    "optim = torch.optim.Adam(model.parameters(),\n",
    "    lr=args.lr,\n",
    "    weight_decay=args.weight_decay)\n",
    "# backbone 로드하는거면 이거 필요없는듯함 \n",
    "#if args.resume:\n",
    "#    optim.load_state_dict(checkpoint['optim_state_dict'])\n",
    "\n",
    "\n",
    "trainer = FCNTrainer(\n",
    "    cuda=cuda,\n",
    "    model=model,\n",
    "    optimizer=optim,\n",
    "    train_loader=train_loader,\n",
    "    val_loader=valid_loader,\n",
    "    out=args.out, # log output director\n",
    "    max_iter=args.max_iteration,\n",
    "    n_class=args.n_class,\n",
    "    interval_validate=args.interval_validate,\n",
    ")"
   ]
  },
  {
   "cell_type": "code",
   "execution_count": null,
   "metadata": {
    "scrolled": true
   },
   "outputs": [],
   "source": [
    "#trainer.epoch = start_epoch\n",
    "#trainer.iteration = start_iteration\n",
    "trainer.train()"
   ]
  },
  {
   "cell_type": "code",
   "execution_count": null,
   "metadata": {},
   "outputs": [],
   "source": [
    "batch_idx, (data, target) = next(enumerate(valid_loader))\n",
    "\n",
    "val_loss = 0\n",
    "visualizations = []\n",
    "label_trues, label_preds = [], []\n",
    "data, target = data.cuda(), target.cuda()\n",
    "data, target = Variable(data), Variable(target).to(dtype=torch.long) # target data type 이슈\n",
    "sys.stdout.write('\\r {}'.format(batch_idx))\n",
    "with torch.no_grad():\n",
    "    score = model(data)[0]\n",
    "\n",
    "\n",
    "for i in range(31):\n",
    "    plt.figure(figsize=(10, 12))\n",
    "    result = np.array(score[0, i, :, :].cpu())\n",
    "    plt.title(\"target label : {} mean {}\".format(np.array(target[0, i, 0, 0].cpu()), np.mean(result)))\n",
    "    \n",
    "#     result[result<0.5] = 0\n",
    "#     result[result>0.5] = 1\n",
    "    plt.imshow(result)\n",
    "    print (np.mean(result))\n",
    "#     plt.colorbar()\n",
    "\n",
    "    plt.show()"
   ]
  },
  {
   "cell_type": "code",
   "execution_count": null,
   "metadata": {},
   "outputs": [],
   "source": []
  }
 ],
 "metadata": {
  "kernelspec": {
   "display_name": "Python 3",
   "language": "python",
   "name": "python3"
  },
  "language_info": {
   "codemirror_mode": {
    "name": "ipython",
    "version": 3
   },
   "file_extension": ".py",
   "mimetype": "text/x-python",
   "name": "python",
   "nbconvert_exporter": "python",
   "pygments_lexer": "ipython3",
   "version": "3.6.8"
  },
  "widgets": {
   "application/vnd.jupyter.widget-state+json": {
    "state": {
     "00021fe8576c4da6b1bc8f3c3dda4c78": {
      "model_module": "@jupyter-widgets/base",
      "model_module_version": "1.2.0",
      "model_name": "LayoutModel",
      "state": {}
     },
     "001a6c79a00948c6831eda74a4883600": {
      "model_module": "@jupyter-widgets/base",
      "model_module_version": "1.2.0",
      "model_name": "LayoutModel",
      "state": {}
     },
     "0031e99f41cd47658f70a85519719d89": {
      "model_module": "@jupyter-widgets/base",
      "model_module_version": "1.2.0",
      "model_name": "LayoutModel",
      "state": {}
     },
     "00407c9c679d4b5d9f3c3d9703791ce7": {
      "model_module": "@jupyter-widgets/base",
      "model_module_version": "1.2.0",
      "model_name": "LayoutModel",
      "state": {}
     },
     "0050effdd94347bba5ed79774bf0a1aa": {
      "model_module": "@jupyter-widgets/controls",
      "model_module_version": "1.5.0",
      "model_name": "HTMLModel",
      "state": {
       "layout": "IPY_MODEL_504ad359eb014ffea45e6f39dbe679a7",
       "style": "IPY_MODEL_61be429c60304fc0a1d0c56feac79052",
       "value": " 0/12 [00:55&lt;?, ?it/s]"
      }
     },
     "008371b740ec43ce9964d406032aa261": {
      "model_module": "@jupyter-widgets/controls",
      "model_module_version": "1.5.0",
      "model_name": "ProgressStyleModel",
      "state": {
       "description_width": "initial"
      }
     },
     "00862099d8f24f1dbfd2770abf937533": {
      "model_module": "@jupyter-widgets/controls",
      "model_module_version": "1.5.0",
      "model_name": "HBoxModel",
      "state": {
       "children": [
        "IPY_MODEL_3f5235e3178f4c92ac3ee0d5bfe3e6ae",
        "IPY_MODEL_7c876fe7f9964fe9ab75d05fe32c2c31"
       ],
       "layout": "IPY_MODEL_c91a7f44883a438c8f623c4f9a4a7eda"
      }
     },
     "008fbaf8c09d42c98ead75b274b6f9c3": {
      "model_module": "@jupyter-widgets/base",
      "model_module_version": "1.2.0",
      "model_name": "LayoutModel",
      "state": {}
     },
     "00d0f6711cd84263bdeeb5da3b3c0043": {
      "model_module": "@jupyter-widgets/controls",
      "model_module_version": "1.5.0",
      "model_name": "FloatProgressModel",
      "state": {
       "bar_style": "danger",
       "description": "Train:   0%",
       "layout": "IPY_MODEL_f745a64dd5544c2bbb7ef4325d6ed0cf",
       "max": 12,
       "style": "IPY_MODEL_c959fa90ec924ace963cb4c811a7640a"
      }
     },
     "014409d41245406e8afb0c7fcbecce15": {
      "model_module": "@jupyter-widgets/base",
      "model_module_version": "1.2.0",
      "model_name": "LayoutModel",
      "state": {}
     },
     "01496fb659dd48978c00d8a35ded08ba": {
      "model_module": "@jupyter-widgets/controls",
      "model_module_version": "1.5.0",
      "model_name": "DescriptionStyleModel",
      "state": {
       "description_width": ""
      }
     },
     "015a0ee956694986abca529f4a8a27e8": {
      "model_module": "@jupyter-widgets/controls",
      "model_module_version": "1.5.0",
      "model_name": "HBoxModel",
      "state": {
       "children": [
        "IPY_MODEL_dcc784bf1d284a0088091df3b4395f87",
        "IPY_MODEL_0a448e397f344f99982f43cdea943ad7"
       ],
       "layout": "IPY_MODEL_f916d965b5624f31875094413488a795"
      }
     },
     "015c6d113b974d03a9ab7828fdcf28cc": {
      "model_module": "@jupyter-widgets/base",
      "model_module_version": "1.2.0",
      "model_name": "LayoutModel",
      "state": {}
     },
     "016e2d47a556448bb7aa658b8600fe54": {
      "model_module": "@jupyter-widgets/controls",
      "model_module_version": "1.5.0",
      "model_name": "HBoxModel",
      "state": {
       "children": [
        "IPY_MODEL_ccec8a58143c4980807905775de8265a",
        "IPY_MODEL_037e76c27aa0494ca3e9ebe1000a131a"
       ],
       "layout": "IPY_MODEL_5ee6dab633e04469abb96bf0a865db10"
      }
     },
     "0174846dbd7e4a969c2c90b6244e025d": {
      "model_module": "@jupyter-widgets/base",
      "model_module_version": "1.2.0",
      "model_name": "LayoutModel",
      "state": {}
     },
     "0178771c22f64dd9975fc1d85f8a9ff0": {
      "model_module": "@jupyter-widgets/controls",
      "model_module_version": "1.5.0",
      "model_name": "HBoxModel",
      "state": {
       "children": [
        "IPY_MODEL_5e6c75769c904cea8156a856340e7b4d",
        "IPY_MODEL_5a22760b65bc4b8ea8c1df38d5e9147d"
       ],
       "layout": "IPY_MODEL_5363b3d9f4464ad3ababc00df4ea8fd4"
      }
     },
     "018c378608fc48599afea321ad8d72b6": {
      "model_module": "@jupyter-widgets/base",
      "model_module_version": "1.2.0",
      "model_name": "LayoutModel",
      "state": {}
     },
     "019b9667eecd460a868e21e3b0cb76ff": {
      "model_module": "@jupyter-widgets/controls",
      "model_module_version": "1.5.0",
      "model_name": "HTMLModel",
      "state": {
       "layout": "IPY_MODEL_b3b5fd0225774cdbb41d120c7bdca6dd",
       "style": "IPY_MODEL_62d3c18a2a0543df88c202dc83ff8b9e",
       "value": " 11696/90000 [1:23:00&lt;9:21:25,  2.32it/s]"
      }
     },
     "01b8ac2c62444562ba1d9fc028062b42": {
      "model_module": "@jupyter-widgets/controls",
      "model_module_version": "1.5.0",
      "model_name": "DescriptionStyleModel",
      "state": {
       "description_width": ""
      }
     },
     "01e0e344b39c4da2970f4c7e17587a04": {
      "model_module": "@jupyter-widgets/base",
      "model_module_version": "1.2.0",
      "model_name": "LayoutModel",
      "state": {}
     },
     "01eeecb680aa4fa0b8fd7bfec09058d8": {
      "model_module": "@jupyter-widgets/controls",
      "model_module_version": "1.5.0",
      "model_name": "ProgressStyleModel",
      "state": {
       "description_width": "initial"
      }
     },
     "01f93a2c90284808a9e267e6791cfbff": {
      "model_module": "@jupyter-widgets/base",
      "model_module_version": "1.2.0",
      "model_name": "LayoutModel",
      "state": {}
     },
     "01fa36f2687e4dd796e924ab8d1ed5bb": {
      "model_module": "@jupyter-widgets/controls",
      "model_module_version": "1.5.0",
      "model_name": "FloatProgressModel",
      "state": {
       "bar_style": "danger",
       "description": "Train epoch=0:   0%",
       "layout": "IPY_MODEL_dd18ffbf9ffb4c968f70d53096cf565f",
       "max": 90000,
       "style": "IPY_MODEL_41facb1b93104fdc83e26d92697c1257"
      }
     },
     "024102221bff4e1895463ebe52f8b6b0": {
      "model_module": "@jupyter-widgets/controls",
      "model_module_version": "1.5.0",
      "model_name": "HTMLModel",
      "state": {
       "layout": "IPY_MODEL_aded2e6ff18247a9a2c6ba40f00f4530",
       "style": "IPY_MODEL_f0218a9c53d44a2d83860664b9d9326c",
       "value": " 0/10000 [02:32&lt;?, ?it/s]"
      }
     },
     "0256f65d7ee64274997c5e0590bb0047": {
      "model_module": "@jupyter-widgets/base",
      "model_module_version": "1.2.0",
      "model_name": "LayoutModel",
      "state": {}
     },
     "0272b0a197d8425ca29b300b0a36edf4": {
      "model_module": "@jupyter-widgets/controls",
      "model_module_version": "1.5.0",
      "model_name": "HBoxModel",
      "state": {
       "children": [
        "IPY_MODEL_88ecd62a12f1466e8186f850f3e2d88d",
        "IPY_MODEL_afb2c59dd6734caca8a388a85ba499c6"
       ],
       "layout": "IPY_MODEL_f3d9c346c3654cc382e23bf6da8e360d"
      }
     },
     "028d8feff3224f3b97a40c6747f30a6a": {
      "model_module": "@jupyter-widgets/controls",
      "model_module_version": "1.5.0",
      "model_name": "HTMLModel",
      "state": {
       "layout": "IPY_MODEL_c00f7ec904b74cd59abed9d85bb5711e",
       "style": "IPY_MODEL_5269cc5e4dc944fcbc3f653263d27cb2",
       "value": " 0/23 [00:33&lt;?, ?it/s]"
      }
     },
     "0294dcc0dba948729f40bcc1b24ad294": {
      "model_module": "@jupyter-widgets/controls",
      "model_module_version": "1.5.0",
      "model_name": "ProgressStyleModel",
      "state": {
       "description_width": "initial"
      }
     },
     "0296a1cb216941be83768ca4878cc1b8": {
      "model_module": "@jupyter-widgets/controls",
      "model_module_version": "1.5.0",
      "model_name": "HTMLModel",
      "state": {
       "layout": "IPY_MODEL_77c3ff04d9934202935bc4deae4b0422",
       "style": "IPY_MODEL_3484ef72de7745818a9f71f146f0f4b4",
       "value": " 0/45000 [00:19&lt;?, ?it/s]"
      }
     },
     "02d202b80cf64b0690bdb0f364bee5ab": {
      "model_module": "@jupyter-widgets/controls",
      "model_module_version": "1.5.0",
      "model_name": "FloatProgressModel",
      "state": {
       "bar_style": "danger",
       "description": "Train:   0%",
       "layout": "IPY_MODEL_83563504a64f4876ba0df62e4bd96fbe",
       "max": 12,
       "style": "IPY_MODEL_bb81bfcf9b8e40538685c9e5df5b0080"
      }
     },
     "02dee6686ed04e6688f0e3ef6474f590": {
      "model_module": "@jupyter-widgets/controls",
      "model_module_version": "1.5.0",
      "model_name": "ProgressStyleModel",
      "state": {
       "description_width": "initial"
      }
     },
     "02e012a3964443ea8d31bd721bbdca86": {
      "model_module": "@jupyter-widgets/base",
      "model_module_version": "1.2.0",
      "model_name": "LayoutModel",
      "state": {}
     },
     "02f205c82a084c2fad4b582b48a784d3": {
      "model_module": "@jupyter-widgets/controls",
      "model_module_version": "1.5.0",
      "model_name": "HBoxModel",
      "state": {
       "children": [
        "IPY_MODEL_5d52a491bb0b451b89eb5c6f81f7c6a9",
        "IPY_MODEL_c016711b5ab54a1bb333bcb0d337f83f"
       ],
       "layout": "IPY_MODEL_d1c304c6a4d64562962f7b92c3f84ff5"
      }
     },
     "034693a07a7c4052bd991a2bbcf4e53c": {
      "model_module": "@jupyter-widgets/base",
      "model_module_version": "1.2.0",
      "model_name": "LayoutModel",
      "state": {}
     },
     "034c4bf4fc884d988631e0716f25d621": {
      "model_module": "@jupyter-widgets/controls",
      "model_module_version": "1.5.0",
      "model_name": "DescriptionStyleModel",
      "state": {
       "description_width": ""
      }
     },
     "035c7679543b45cb887c1008aad60102": {
      "model_module": "@jupyter-widgets/controls",
      "model_module_version": "1.5.0",
      "model_name": "HTMLModel",
      "state": {
       "layout": "IPY_MODEL_ad74dc71fff64499a062bccc189ee782",
       "style": "IPY_MODEL_e3a73d91bac34a1983ab90b7c9a48fdb",
       "value": " 0/10000 [35:58&lt;?, ?it/s]"
      }
     },
     "037bcf7813094ecdb6eb2951ebe70a1b": {
      "model_module": "@jupyter-widgets/controls",
      "model_module_version": "1.5.0",
      "model_name": "HBoxModel",
      "state": {
       "children": [
        "IPY_MODEL_4a6e55862e8e4c118960c6816a883f3c",
        "IPY_MODEL_82a0f5fcb312456ca1d650550a0c66c4"
       ],
       "layout": "IPY_MODEL_bde551dd235c46cda49ce44e0dda0081"
      }
     },
     "037e76c27aa0494ca3e9ebe1000a131a": {
      "model_module": "@jupyter-widgets/controls",
      "model_module_version": "1.5.0",
      "model_name": "HTMLModel",
      "state": {
       "layout": "IPY_MODEL_1ddcffae8a8b46a1bff1ff4430e01cdc",
       "style": "IPY_MODEL_2622f732ebe34d249e3cb05b39f2165d",
       "value": " 0/5000 [15:38&lt;?, ?it/s]"
      }
     },
     "03ac1828032a415089058ec67fa8c5ed": {
      "model_module": "@jupyter-widgets/controls",
      "model_module_version": "1.5.0",
      "model_name": "HTMLModel",
      "state": {
       "layout": "IPY_MODEL_1783a2eb419643d7ad66c8294af81575",
       "style": "IPY_MODEL_810cff65dc7f4f2d826cec931238571e",
       "value": " 0/10000 [00:50&lt;?, ?it/s]"
      }
     },
     "03b0efc0381942fcb0a98077ba1759d8": {
      "model_module": "@jupyter-widgets/controls",
      "model_module_version": "1.5.0",
      "model_name": "HBoxModel",
      "state": {
       "children": [
        "IPY_MODEL_112645a42c1b4428962198fbba5cb6cf",
        "IPY_MODEL_c8d4b634fa9847e3af46fd01ac9ac72f"
       ],
       "layout": "IPY_MODEL_81fcf7ccaf7c44c089d93568ac73a6c9"
      }
     },
     "03b6414e5b434ae4b4ea69314e954779": {
      "model_module": "@jupyter-widgets/base",
      "model_module_version": "1.2.0",
      "model_name": "LayoutModel",
      "state": {}
     },
     "03dd33362b1843b49c4a6928cf3be10b": {
      "model_module": "@jupyter-widgets/controls",
      "model_module_version": "1.5.0",
      "model_name": "HBoxModel",
      "state": {
       "children": [
        "IPY_MODEL_4849cd51a9784c9f8ce44528d8c18b96",
        "IPY_MODEL_23cd0ddec51042adb0fa18484d3b9adc"
       ],
       "layout": "IPY_MODEL_bd4c86522c58452c8d756450999a114f"
      }
     },
     "03ed9c12913c44358bc638647c151e70": {
      "model_module": "@jupyter-widgets/base",
      "model_module_version": "1.2.0",
      "model_name": "LayoutModel",
      "state": {}
     },
     "03fc74a9c258413b93502a433fbc9f15": {
      "model_module": "@jupyter-widgets/controls",
      "model_module_version": "1.5.0",
      "model_name": "FloatProgressModel",
      "state": {
       "bar_style": "danger",
       "description": "Train:   0%",
       "layout": "IPY_MODEL_2536d4ac6a60485a918adbf0caa39aa3",
       "max": 23,
       "style": "IPY_MODEL_594f09a9eebd417e8e413cecf939676f"
      }
     },
     "04039c793a274052b3a20c556b3063b6": {
      "model_module": "@jupyter-widgets/controls",
      "model_module_version": "1.5.0",
      "model_name": "HTMLModel",
      "state": {
       "layout": "IPY_MODEL_3da28e8b8e5348539c6e774b962f6d59",
       "style": "IPY_MODEL_4b187ff1def94efd966b674e6a703b89",
       "value": " 0/5000 [01:31&lt;?, ?it/s]"
      }
     },
     "040a95e283184c808e968b89b1a6da28": {
      "model_module": "@jupyter-widgets/base",
      "model_module_version": "1.2.0",
      "model_name": "LayoutModel",
      "state": {}
     },
     "040d098e497148e9bcdc6acd021df030": {
      "model_module": "@jupyter-widgets/controls",
      "model_module_version": "1.5.0",
      "model_name": "DescriptionStyleModel",
      "state": {
       "description_width": ""
      }
     },
     "040d5dfa7fa84dff99fb42e753e1f43c": {
      "model_module": "@jupyter-widgets/controls",
      "model_module_version": "1.5.0",
      "model_name": "FloatProgressModel",
      "state": {
       "bar_style": "danger",
       "description": "Train:   0%",
       "layout": "IPY_MODEL_0b80df50215347b5b92f8f774d2d8f0e",
       "max": 12,
       "style": "IPY_MODEL_4851f4f38f2e44a892383b8735d0d463"
      }
     },
     "041308379af842739ec1771f69fe35b2": {
      "model_module": "@jupyter-widgets/controls",
      "model_module_version": "1.5.0",
      "model_name": "ProgressStyleModel",
      "state": {
       "description_width": "initial"
      }
     },
     "041e151e841f4df3a82be8d2f94b59e5": {
      "model_module": "@jupyter-widgets/controls",
      "model_module_version": "1.5.0",
      "model_name": "HTMLModel",
      "state": {
       "layout": "IPY_MODEL_d95da2b1d4a24ca3adef0790ff7fecc9",
       "style": "IPY_MODEL_4091eb7ad29a4fdf88b7e8bf92a04dd5",
       "value": " 0/10000 [21:09&lt;?, ?it/s]"
      }
     },
     "045d6c9c9837402dbbd2037ff196b46e": {
      "model_module": "@jupyter-widgets/base",
      "model_module_version": "1.2.0",
      "model_name": "LayoutModel",
      "state": {}
     },
     "045d848762654f808ac5dd982a5b5dc6": {
      "model_module": "@jupyter-widgets/base",
      "model_module_version": "1.2.0",
      "model_name": "LayoutModel",
      "state": {}
     },
     "04722ee366af429897db842cf04433c6": {
      "model_module": "@jupyter-widgets/controls",
      "model_module_version": "1.5.0",
      "model_name": "HTMLModel",
      "state": {
       "layout": "IPY_MODEL_e187af3952b64419b2b28f5b3828ae8f",
       "style": "IPY_MODEL_1943602648bd481ea37a9822d122f604",
       "value": " 0/12 [00:04&lt;?, ?it/s]"
      }
     },
     "04745177126645e0a1edb42cb9ed4e61": {
      "model_module": "@jupyter-widgets/controls",
      "model_module_version": "1.5.0",
      "model_name": "FloatProgressModel",
      "state": {
       "bar_style": "danger",
       "description": "Valid iteration=0:   0%",
       "layout": "IPY_MODEL_a738e913bc6547928942bf50ce8c523f",
       "max": 10000,
       "style": "IPY_MODEL_425110029ad54c519c5cdefd95267d52"
      }
     },
     "0474872ae1bc4c5391f12391f274c9bf": {
      "model_module": "@jupyter-widgets/base",
      "model_module_version": "1.2.0",
      "model_name": "LayoutModel",
      "state": {}
     },
     "0474bb1f98bb4701a160e02927235b14": {
      "model_module": "@jupyter-widgets/base",
      "model_module_version": "1.2.0",
      "model_name": "LayoutModel",
      "state": {}
     },
     "0478024bb3884e59827ccc59bf009fae": {
      "model_module": "@jupyter-widgets/base",
      "model_module_version": "1.2.0",
      "model_name": "LayoutModel",
      "state": {}
     },
     "04a9975829aa46eca4a8755c3d9ad410": {
      "model_module": "@jupyter-widgets/base",
      "model_module_version": "1.2.0",
      "model_name": "LayoutModel",
      "state": {}
     },
     "04bbe310080b4fc9b953a4ea80962670": {
      "model_module": "@jupyter-widgets/base",
      "model_module_version": "1.2.0",
      "model_name": "LayoutModel",
      "state": {}
     },
     "04d6eac62fa445e8b0b54479fc964af0": {
      "model_module": "@jupyter-widgets/base",
      "model_module_version": "1.2.0",
      "model_name": "LayoutModel",
      "state": {}
     },
     "050299f9d4ca49e0a59acff96c072e9a": {
      "model_module": "@jupyter-widgets/controls",
      "model_module_version": "1.5.0",
      "model_name": "DescriptionStyleModel",
      "state": {
       "description_width": ""
      }
     },
     "05055389688648f4a8c97f644c7e205e": {
      "model_module": "@jupyter-widgets/controls",
      "model_module_version": "1.5.0",
      "model_name": "HBoxModel",
      "state": {
       "children": [
        "IPY_MODEL_b14468c80efc4018a6c9d3a813141a56",
        "IPY_MODEL_2339c7a31d9543a086e46ae57bba213c"
       ],
       "layout": "IPY_MODEL_344aec40332f4c878186380d6d0faa7e"
      }
     },
     "050a3c5c478846fc962b16e765d75dc3": {
      "model_module": "@jupyter-widgets/base",
      "model_module_version": "1.2.0",
      "model_name": "LayoutModel",
      "state": {}
     },
     "051012dfd0094c14a3a59b3f567e8550": {
      "model_module": "@jupyter-widgets/base",
      "model_module_version": "1.2.0",
      "model_name": "LayoutModel",
      "state": {}
     },
     "051847b2aa47432a8d0c7bdb619ed790": {
      "model_module": "@jupyter-widgets/controls",
      "model_module_version": "1.5.0",
      "model_name": "HBoxModel",
      "state": {
       "children": [
        "IPY_MODEL_ce51b8c903974be2a90d806b8ce18f35",
        "IPY_MODEL_caca839a7ac041e9ae53b148dc854e89"
       ],
       "layout": "IPY_MODEL_7448afd4f81347bf883050d98993d6f6"
      }
     },
     "051ac2a531a64495837b33e2cc5f5f39": {
      "model_module": "@jupyter-widgets/base",
      "model_module_version": "1.2.0",
      "model_name": "LayoutModel",
      "state": {}
     },
     "05292a9252ab42cc81956eaa5cfabea8": {
      "model_module": "@jupyter-widgets/controls",
      "model_module_version": "1.5.0",
      "model_name": "HTMLModel",
      "state": {
       "layout": "IPY_MODEL_6c4e27ecfe70439ab9bc7cc618ae1319",
       "style": "IPY_MODEL_fc3a8fd6201e48caab324cfaade7bb93",
       "value": " 0/5000 [00:16&lt;?, ?it/s]"
      }
     },
     "0539786673324d758e903227ff3cc12c": {
      "model_module": "@jupyter-widgets/base",
      "model_module_version": "1.2.0",
      "model_name": "LayoutModel",
      "state": {}
     },
     "054d92755b4f49bbb16c36e2464dcd15": {
      "model_module": "@jupyter-widgets/controls",
      "model_module_version": "1.5.0",
      "model_name": "DescriptionStyleModel",
      "state": {
       "description_width": ""
      }
     },
     "0551f5eb7c9044b3b8a5e60ccb446324": {
      "model_module": "@jupyter-widgets/controls",
      "model_module_version": "1.5.0",
      "model_name": "FloatProgressModel",
      "state": {
       "bar_style": "danger",
       "description": "Train:   0%",
       "layout": "IPY_MODEL_b5320bf89a4c4be8b51386e1b6a78fb5",
       "max": 12,
       "style": "IPY_MODEL_27a031f1b1b44fef81d186d152039bc2"
      }
     },
     "0563cda2529244e9ae0328e1198c4e45": {
      "model_module": "@jupyter-widgets/base",
      "model_module_version": "1.2.0",
      "model_name": "LayoutModel",
      "state": {}
     },
     "058ad19bd957445a8d9c79f21f609d3d": {
      "model_module": "@jupyter-widgets/controls",
      "model_module_version": "1.5.0",
      "model_name": "DescriptionStyleModel",
      "state": {
       "description_width": ""
      }
     },
     "05ca4f7effec4aa78edde7d91be5cf07": {
      "model_module": "@jupyter-widgets/controls",
      "model_module_version": "1.5.0",
      "model_name": "FloatProgressModel",
      "state": {
       "bar_style": "danger",
       "description": "Train:   0%",
       "layout": "IPY_MODEL_e27e4b4afd20479288410a54b3cbd57d",
       "max": 12,
       "style": "IPY_MODEL_32592343e4fb4a4e9449ad6c544d135e"
      }
     },
     "0627dd1850b94171a0de7529e0ad7406": {
      "model_module": "@jupyter-widgets/base",
      "model_module_version": "1.2.0",
      "model_name": "LayoutModel",
      "state": {}
     },
     "0646adec21e6418c9319e590393f5ace": {
      "model_module": "@jupyter-widgets/controls",
      "model_module_version": "1.5.0",
      "model_name": "ProgressStyleModel",
      "state": {
       "description_width": "initial"
      }
     },
     "0649ff2ec1724485bcb8a53b72d7551e": {
      "model_module": "@jupyter-widgets/base",
      "model_module_version": "1.2.0",
      "model_name": "LayoutModel",
      "state": {}
     },
     "068616e4b4f34db1bd0d3f511192001f": {
      "model_module": "@jupyter-widgets/controls",
      "model_module_version": "1.5.0",
      "model_name": "ProgressStyleModel",
      "state": {
       "description_width": "initial"
      }
     },
     "068ca6f861d84a05a65745f58e517097": {
      "model_module": "@jupyter-widgets/base",
      "model_module_version": "1.2.0",
      "model_name": "LayoutModel",
      "state": {}
     },
     "0692ee52ffd64d3387008f4ee55ca963": {
      "model_module": "@jupyter-widgets/controls",
      "model_module_version": "1.5.0",
      "model_name": "HBoxModel",
      "state": {
       "children": [
        "IPY_MODEL_1633e2491cf94f9d83282a5bf6a91d45",
        "IPY_MODEL_ffcf419a9bfa455291bc2cc4a2a272e6"
       ],
       "layout": "IPY_MODEL_c9d8de9b7114421b9b697be18e332a1b"
      }
     },
     "069579a32d07428da7527ff5a5e616d5": {
      "model_module": "@jupyter-widgets/controls",
      "model_module_version": "1.5.0",
      "model_name": "HTMLModel",
      "state": {
       "layout": "IPY_MODEL_a61eee59062d4d84aaf9985f26f4c936",
       "style": "IPY_MODEL_6ea1e5c342454cecaaf05219d81a3d08",
       "value": " 196/90000 [01:27&lt;10:22:27,  2.40it/s]"
      }
     },
     "06b42523ed304e62b3088e1e71071ba0": {
      "model_module": "@jupyter-widgets/base",
      "model_module_version": "1.2.0",
      "model_name": "LayoutModel",
      "state": {}
     },
     "06b79818a4bc48c596019c6f9e9aee86": {
      "model_module": "@jupyter-widgets/controls",
      "model_module_version": "1.5.0",
      "model_name": "HTMLModel",
      "state": {
       "layout": "IPY_MODEL_25c5b70c026d46a0b88e63e200add994",
       "style": "IPY_MODEL_cf63268f2acf4e58b4fb4ff34fa29b4f",
       "value": " 0/12 [00:24&lt;?, ?it/s]"
      }
     },
     "06ea6eb7811c424c829a467e3804ad4a": {
      "model_module": "@jupyter-widgets/controls",
      "model_module_version": "1.5.0",
      "model_name": "FloatProgressModel",
      "state": {
       "bar_style": "danger",
       "description": "Valid iteration=0:   0%",
       "layout": "IPY_MODEL_692ff4cb47584a82b8f61adec10a2a2e",
       "max": 10000,
       "style": "IPY_MODEL_4d34e5a4045f42308fd6f3eaf3e547c6"
      }
     },
     "0702fb72483f4aab824c9233b8e79d36": {
      "model_module": "@jupyter-widgets/controls",
      "model_module_version": "1.5.0",
      "model_name": "FloatProgressModel",
      "state": {
       "bar_style": "danger",
       "description": "Train epoch=0:   0%",
       "layout": "IPY_MODEL_dcf6cd78eafb4a37967b61f459621fa5",
       "max": 90000,
       "style": "IPY_MODEL_323670c8b81641b684d909a177d40881",
       "value": 1
      }
     },
     "0707c1c1a6b2434abde0f28398730734": {
      "model_module": "@jupyter-widgets/base",
      "model_module_version": "1.2.0",
      "model_name": "LayoutModel",
      "state": {}
     },
     "0709dd584b40431a98d994e8770a2bb3": {
      "model_module": "@jupyter-widgets/controls",
      "model_module_version": "1.5.0",
      "model_name": "HTMLModel",
      "state": {
       "layout": "IPY_MODEL_b3beff5b5cde43fdbf901ca1fb85f69e",
       "style": "IPY_MODEL_336372c987714bd88a27a315bf822c75",
       "value": " 0/12 [00:18&lt;?, ?it/s]"
      }
     },
     "072b1b706500437eb78fd1c05531d812": {
      "model_module": "@jupyter-widgets/controls",
      "model_module_version": "1.5.0",
      "model_name": "DescriptionStyleModel",
      "state": {
       "description_width": ""
      }
     },
     "0734c6499f0544a682913fe4a14ddb41": {
      "model_module": "@jupyter-widgets/base",
      "model_module_version": "1.2.0",
      "model_name": "LayoutModel",
      "state": {}
     },
     "07441dad850b4a50bfaf280cf9adaab7": {
      "model_module": "@jupyter-widgets/controls",
      "model_module_version": "1.5.0",
      "model_name": "ProgressStyleModel",
      "state": {
       "description_width": "initial"
      }
     },
     "07471437a777420eb320a9b7a8336309": {
      "model_module": "@jupyter-widgets/controls",
      "model_module_version": "1.5.0",
      "model_name": "HTMLModel",
      "state": {
       "layout": "IPY_MODEL_eef1edcac8664ed1ac1e809d92dafba3",
       "style": "IPY_MODEL_e8699a3f497041fe98c08e77596119d9",
       "value": " 634/45000 [03:17&lt;4:03:30,  3.04it/s]"
      }
     },
     "0763de9ae75f4623aca88be5d1a11dec": {
      "model_module": "@jupyter-widgets/controls",
      "model_module_version": "1.5.0",
      "model_name": "ProgressStyleModel",
      "state": {
       "description_width": "initial"
      }
     },
     "07807f8849604dbab75714bce1b0b689": {
      "model_module": "@jupyter-widgets/base",
      "model_module_version": "1.2.0",
      "model_name": "LayoutModel",
      "state": {}
     },
     "07871d78b75d4df7ad2f8a910f112d9d": {
      "model_module": "@jupyter-widgets/base",
      "model_module_version": "1.2.0",
      "model_name": "LayoutModel",
      "state": {}
     },
     "07898ed972cc4d92af4c39730b9ffe66": {
      "model_module": "@jupyter-widgets/controls",
      "model_module_version": "1.5.0",
      "model_name": "DescriptionStyleModel",
      "state": {
       "description_width": ""
      }
     },
     "07c71f65429e42038fd2bd5172f18a09": {
      "model_module": "@jupyter-widgets/base",
      "model_module_version": "1.2.0",
      "model_name": "LayoutModel",
      "state": {}
     },
     "07d169b2aca44d5bb6cd62798cff174a": {
      "model_module": "@jupyter-widgets/base",
      "model_module_version": "1.2.0",
      "model_name": "LayoutModel",
      "state": {}
     },
     "07d8a7c60ea3408796417c8954b99339": {
      "model_module": "@jupyter-widgets/base",
      "model_module_version": "1.2.0",
      "model_name": "LayoutModel",
      "state": {}
     },
     "07f32c554cd94303b3b3aa3ffd42963a": {
      "model_module": "@jupyter-widgets/base",
      "model_module_version": "1.2.0",
      "model_name": "LayoutModel",
      "state": {}
     },
     "07f6e7baf3274fbf8648a27d1cc25a76": {
      "model_module": "@jupyter-widgets/controls",
      "model_module_version": "1.5.0",
      "model_name": "FloatProgressModel",
      "state": {
       "bar_style": "danger",
       "description": "Train epoch=0:   0%",
       "layout": "IPY_MODEL_f0c1c3a8fd254018b91b051fc0f59a09",
       "max": 90000,
       "style": "IPY_MODEL_96d8344347ec4100a27eecbe88967910",
       "value": 136
      }
     },
     "080d00b3432543ee960c0f9b3d7a8d0e": {
      "model_module": "@jupyter-widgets/controls",
      "model_module_version": "1.5.0",
      "model_name": "ProgressStyleModel",
      "state": {
       "description_width": "initial"
      }
     },
     "082b1cbe02a74071820114b3956ee86c": {
      "model_module": "@jupyter-widgets/base",
      "model_module_version": "1.2.0",
      "model_name": "LayoutModel",
      "state": {}
     },
     "08379a902b234d8da955ad6a52cd852d": {
      "model_module": "@jupyter-widgets/controls",
      "model_module_version": "1.5.0",
      "model_name": "DescriptionStyleModel",
      "state": {
       "description_width": ""
      }
     },
     "0841a7a4a24f43119eb5ef1b832e1797": {
      "model_module": "@jupyter-widgets/base",
      "model_module_version": "1.2.0",
      "model_name": "LayoutModel",
      "state": {}
     },
     "086656b0fd354970be8ecf9c9715bd13": {
      "model_module": "@jupyter-widgets/base",
      "model_module_version": "1.2.0",
      "model_name": "LayoutModel",
      "state": {}
     },
     "0886ff0605a24902943ba5a354b5108c": {
      "model_module": "@jupyter-widgets/base",
      "model_module_version": "1.2.0",
      "model_name": "LayoutModel",
      "state": {}
     },
     "08b6e95dc93f495889aa277b55b71715": {
      "model_module": "@jupyter-widgets/base",
      "model_module_version": "1.2.0",
      "model_name": "LayoutModel",
      "state": {}
     },
     "08c403b2e533430d8e1eb95aa2c4998e": {
      "model_module": "@jupyter-widgets/controls",
      "model_module_version": "1.5.0",
      "model_name": "HTMLModel",
      "state": {
       "layout": "IPY_MODEL_a8686e95ba964f4cae0cdcadae92c5b2",
       "style": "IPY_MODEL_a0c61d30865c44d0a4a27d20f463a1b8",
       "value": " 0/90000 [00:37&lt;?, ?it/s]"
      }
     },
     "08c947d1285542c58dbbf1d4e64a2b51": {
      "model_module": "@jupyter-widgets/controls",
      "model_module_version": "1.5.0",
      "model_name": "DescriptionStyleModel",
      "state": {
       "description_width": ""
      }
     },
     "08de7795975e4953b3ddc62fd00a82c5": {
      "model_module": "@jupyter-widgets/controls",
      "model_module_version": "1.5.0",
      "model_name": "FloatProgressModel",
      "state": {
       "bar_style": "danger",
       "description": "Valid iteration=0:   0%",
       "layout": "IPY_MODEL_4bc6b37045834b479450eb4c39b09f6c",
       "max": 5000,
       "style": "IPY_MODEL_eb1c4cba9ab341688159a56d5f579129"
      }
     },
     "08f9b93099654588ba0e3c08ddfec76f": {
      "model_module": "@jupyter-widgets/base",
      "model_module_version": "1.2.0",
      "model_name": "LayoutModel",
      "state": {}
     },
     "0924358663774bfc8e65216c438f4a6d": {
      "model_module": "@jupyter-widgets/controls",
      "model_module_version": "1.5.0",
      "model_name": "HTMLModel",
      "state": {
       "layout": "IPY_MODEL_7c79acc5bb4b49d6b543d14d0dfbd1a1",
       "style": "IPY_MODEL_60f94cd2d1374317ad0d6edda5b3de08",
       "value": " 0/10000 [01:16&lt;?, ?it/s]"
      }
     },
     "092a018ff4de486b98c04674e0902ae4": {
      "model_module": "@jupyter-widgets/controls",
      "model_module_version": "1.5.0",
      "model_name": "HTMLModel",
      "state": {
       "layout": "IPY_MODEL_9f034392b40e45a7a0f63c5ff08b6e2f",
       "style": "IPY_MODEL_1e402190242c44a99c1dbd7e7b353cfc",
       "value": " 0/10000 [00:01&lt;?, ?it/s]"
      }
     },
     "09462b7548924ea2be0514f4148f946a": {
      "model_module": "@jupyter-widgets/controls",
      "model_module_version": "1.5.0",
      "model_name": "HTMLModel",
      "state": {
       "layout": "IPY_MODEL_daadf4e5a19f4c379773ad9bb4879c69",
       "style": "IPY_MODEL_d958c658c19c48cab23551d06e29a96a",
       "value": " 0/12 [00:49&lt;?, ?it/s]"
      }
     },
     "094f17d77d7a4c148c4e080f2731e4dd": {
      "model_module": "@jupyter-widgets/controls",
      "model_module_version": "1.5.0",
      "model_name": "ProgressStyleModel",
      "state": {
       "description_width": "initial"
      }
     },
     "0961784c67a64ee3b15d4681d8d54b8d": {
      "model_module": "@jupyter-widgets/base",
      "model_module_version": "1.2.0",
      "model_name": "LayoutModel",
      "state": {}
     },
     "09707cf5a6024670ac2c6270f0377d68": {
      "model_module": "@jupyter-widgets/controls",
      "model_module_version": "1.5.0",
      "model_name": "FloatProgressModel",
      "state": {
       "bar_style": "danger",
       "description": "Train epoch=0:   0%",
       "layout": "IPY_MODEL_febbaf9040904c68b7a81876df92568f",
       "max": 90000,
       "style": "IPY_MODEL_416731e996ac46daacef8843504b15e2",
       "value": 126
      }
     },
     "097d161a4d804761b299add7c8f89314": {
      "model_module": "@jupyter-widgets/base",
      "model_module_version": "1.2.0",
      "model_name": "LayoutModel",
      "state": {}
     },
     "097dff445f3d4d2989bb273b0cf5b44f": {
      "model_module": "@jupyter-widgets/controls",
      "model_module_version": "1.5.0",
      "model_name": "DescriptionStyleModel",
      "state": {
       "description_width": ""
      }
     },
     "099c9c906e7341d6906490b842b1b762": {
      "model_module": "@jupyter-widgets/base",
      "model_module_version": "1.2.0",
      "model_name": "LayoutModel",
      "state": {}
     },
     "09b5293acc484ff4bb172798872d481d": {
      "model_module": "@jupyter-widgets/controls",
      "model_module_version": "1.5.0",
      "model_name": "FloatProgressModel",
      "state": {
       "bar_style": "danger",
       "description": "Valid iteration=0:   0%",
       "layout": "IPY_MODEL_d332801bf97341beba35295abe0eb882",
       "max": 10000,
       "style": "IPY_MODEL_0d9204b70f094678a97811fa53f1e323"
      }
     },
     "09b8148f661647e58f91c4ac309b1942": {
      "model_module": "@jupyter-widgets/base",
      "model_module_version": "1.2.0",
      "model_name": "LayoutModel",
      "state": {}
     },
     "09bdd3ddaa4b4674b82369c9e7a9b343": {
      "model_module": "@jupyter-widgets/base",
      "model_module_version": "1.2.0",
      "model_name": "LayoutModel",
      "state": {}
     },
     "09c257af04744da38a4cd82af82a13f0": {
      "model_module": "@jupyter-widgets/controls",
      "model_module_version": "1.5.0",
      "model_name": "ProgressStyleModel",
      "state": {
       "description_width": "initial"
      }
     },
     "09c394eeb92e4349a7654b60a55bc7e2": {
      "model_module": "@jupyter-widgets/controls",
      "model_module_version": "1.5.0",
      "model_name": "DescriptionStyleModel",
      "state": {
       "description_width": ""
      }
     },
     "09cfdd42c0fb4b7285b91ce2f1a6510d": {
      "model_module": "@jupyter-widgets/base",
      "model_module_version": "1.2.0",
      "model_name": "LayoutModel",
      "state": {}
     },
     "0a04bac07e454535b73a9efb7fb906d2": {
      "model_module": "@jupyter-widgets/base",
      "model_module_version": "1.2.0",
      "model_name": "LayoutModel",
      "state": {}
     },
     "0a0f538ac22d496fb5c18577fb6be297": {
      "model_module": "@jupyter-widgets/base",
      "model_module_version": "1.2.0",
      "model_name": "LayoutModel",
      "state": {}
     },
     "0a116406b1374fa2b7e5c0910ee8c996": {
      "model_module": "@jupyter-widgets/controls",
      "model_module_version": "1.5.0",
      "model_name": "HTMLModel",
      "state": {
       "layout": "IPY_MODEL_2105fb02b1554e4e910badc577af92df",
       "style": "IPY_MODEL_90e1f9825be4483e808337ecc31f84b1",
       "value": " 0/12 [00:20&lt;?, ?it/s]"
      }
     },
     "0a14059b68be40dabffa65e88c037cd5": {
      "model_module": "@jupyter-widgets/controls",
      "model_module_version": "1.5.0",
      "model_name": "FloatProgressModel",
      "state": {
       "bar_style": "danger",
       "description": "Valid iteration=0:   0%",
       "layout": "IPY_MODEL_dce6bac01c864685b56de3edca1f5321",
       "max": 10000,
       "style": "IPY_MODEL_52dcce194c2e4464b24cdb071f9ba306"
      }
     },
     "0a17405222f548e5afc20f5fb749def9": {
      "model_module": "@jupyter-widgets/controls",
      "model_module_version": "1.5.0",
      "model_name": "HBoxModel",
      "state": {
       "children": [
        "IPY_MODEL_3eb13f8344834b90b60f166dd2604d0a",
        "IPY_MODEL_d58089c51c79490d9beda63413b84ea0"
       ],
       "layout": "IPY_MODEL_b582c233dedf4712ae6191448d0e21cd"
      }
     },
     "0a2cf00563a24b7cb03e02f9c5a0f18f": {
      "model_module": "@jupyter-widgets/controls",
      "model_module_version": "1.5.0",
      "model_name": "HBoxModel",
      "state": {
       "children": [
        "IPY_MODEL_794cb9ffbd5f4e8d84132e1628c7b37d",
        "IPY_MODEL_96c798773d2f4070af69cbe05a72736f"
       ],
       "layout": "IPY_MODEL_ac616b6634b84afebe1c363f3a651b9f"
      }
     },
     "0a448e397f344f99982f43cdea943ad7": {
      "model_module": "@jupyter-widgets/controls",
      "model_module_version": "1.5.0",
      "model_name": "HTMLModel",
      "state": {
       "layout": "IPY_MODEL_3ec82414091e4e2cad8d5ca3eb8636bd",
       "style": "IPY_MODEL_beda537ab8dc44a0ab8da8b4e2bb92f1",
       "value": " 0/90000 [00:28&lt;?, ?it/s]"
      }
     },
     "0a64cf9a749b41d6895b0f98f707c543": {
      "model_module": "@jupyter-widgets/controls",
      "model_module_version": "1.5.0",
      "model_name": "HBoxModel",
      "state": {
       "children": [
        "IPY_MODEL_8719c77fa74048a6b36b4a73b349048f",
        "IPY_MODEL_07471437a777420eb320a9b7a8336309"
       ],
       "layout": "IPY_MODEL_94970e3f754f40ddaddbcb0d935ed156"
      }
     },
     "0a70d20190f7470c92727664d818e94d": {
      "model_module": "@jupyter-widgets/controls",
      "model_module_version": "1.5.0",
      "model_name": "HTMLModel",
      "state": {
       "layout": "IPY_MODEL_7406b44796ec4ca7b3dded4d00404ede",
       "style": "IPY_MODEL_93a9a4bed24149bc9bfca2f17d42bd4e",
       "value": " 0/12 [00:16&lt;?, ?it/s]"
      }
     },
     "0a9c55fd70784318b6d90f016b1010d1": {
      "model_module": "@jupyter-widgets/controls",
      "model_module_version": "1.5.0",
      "model_name": "ProgressStyleModel",
      "state": {
       "description_width": "initial"
      }
     },
     "0ac5a5533eed4f74a4dcbf448ae7e598": {
      "model_module": "@jupyter-widgets/controls",
      "model_module_version": "1.5.0",
      "model_name": "ProgressStyleModel",
      "state": {
       "description_width": "initial"
      }
     },
     "0b16386454bf496f99407914d837cb90": {
      "model_module": "@jupyter-widgets/controls",
      "model_module_version": "1.5.0",
      "model_name": "HTMLModel",
      "state": {
       "layout": "IPY_MODEL_0fe0e30640a64f64a4dd57e1c5dd8c81",
       "style": "IPY_MODEL_db4a8d6456894312a59880c27604926b",
       "value": " 0/10000 [01:13&lt;?, ?it/s]"
      }
     },
     "0b1e0a4ce52a43a3a2b5a1acecb53adb": {
      "model_module": "@jupyter-widgets/base",
      "model_module_version": "1.2.0",
      "model_name": "LayoutModel",
      "state": {}
     },
     "0b2234180bab4860a059727cfa866fc1": {
      "model_module": "@jupyter-widgets/controls",
      "model_module_version": "1.5.0",
      "model_name": "DescriptionStyleModel",
      "state": {
       "description_width": ""
      }
     },
     "0b2bec81493748d0911b6a713c492e97": {
      "model_module": "@jupyter-widgets/controls",
      "model_module_version": "1.5.0",
      "model_name": "ProgressStyleModel",
      "state": {
       "description_width": "initial"
      }
     },
     "0b2c2e94cb58423089bc7d894862cfa0": {
      "model_module": "@jupyter-widgets/base",
      "model_module_version": "1.2.0",
      "model_name": "LayoutModel",
      "state": {}
     },
     "0b34584444e541e0a225363e3ef1b0a7": {
      "model_module": "@jupyter-widgets/base",
      "model_module_version": "1.2.0",
      "model_name": "LayoutModel",
      "state": {}
     },
     "0b6e36b825ca4c328ce95a7959c4a422": {
      "model_module": "@jupyter-widgets/controls",
      "model_module_version": "1.5.0",
      "model_name": "HTMLModel",
      "state": {
       "layout": "IPY_MODEL_34910ab9f92d4384aed715ca6212711c",
       "style": "IPY_MODEL_e2983213df374d65b1091a332557240a",
       "value": " 0/90000 [01:55&lt;?, ?it/s]"
      }
     },
     "0b74c2d8549e423fabe00e03b091f6b0": {
      "model_module": "@jupyter-widgets/controls",
      "model_module_version": "1.5.0",
      "model_name": "HBoxModel",
      "state": {
       "children": [
        "IPY_MODEL_24f243c3007448219da6d6bc28033d1f",
        "IPY_MODEL_69c04aa0a788463db20eff8c1131428c"
       ],
       "layout": "IPY_MODEL_33e18f7dd59042a1b1f7e37014e9b168"
      }
     },
     "0b80df50215347b5b92f8f774d2d8f0e": {
      "model_module": "@jupyter-widgets/base",
      "model_module_version": "1.2.0",
      "model_name": "LayoutModel",
      "state": {}
     },
     "0b82b430d6ee47d5b77bede3e390b82c": {
      "model_module": "@jupyter-widgets/base",
      "model_module_version": "1.2.0",
      "model_name": "LayoutModel",
      "state": {}
     },
     "0b95260836b3469c801a71151372a947": {
      "model_module": "@jupyter-widgets/controls",
      "model_module_version": "1.5.0",
      "model_name": "HTMLModel",
      "state": {
       "layout": "IPY_MODEL_6bdd009eaeae462eaf3fa778553a03ee",
       "style": "IPY_MODEL_d7239b78eb484c2db19c87351d047b5e",
       "value": " 0/5000 [22:32&lt;?, ?it/s]"
      }
     },
     "0bd883346b854f869fa8962dd1e6bcc1": {
      "model_module": "@jupyter-widgets/controls",
      "model_module_version": "1.5.0",
      "model_name": "HTMLModel",
      "state": {
       "layout": "IPY_MODEL_fb8fabf6e6394b82a9745d896f35d261",
       "style": "IPY_MODEL_a7aa65a45c0f442ca86151b100b05f90",
       "value": " 0/5000 [08:07&lt;?, ?it/s]"
      }
     },
     "0bed80af2cc54bd98292cda70473a3ee": {
      "model_module": "@jupyter-widgets/controls",
      "model_module_version": "1.5.0",
      "model_name": "HTMLModel",
      "state": {
       "layout": "IPY_MODEL_b35388a59a464f53bc92031756a26fd6",
       "style": "IPY_MODEL_d9b5ac125f994256b1a7081980a928dd",
       "value": " 12826/45000 [42:57&lt;1:38:57,  5.42it/s]"
      }
     },
     "0bfcaa49f53a44c4bda4e7c6be0cdfa6": {
      "model_module": "@jupyter-widgets/controls",
      "model_module_version": "1.5.0",
      "model_name": "ProgressStyleModel",
      "state": {
       "description_width": "initial"
      }
     },
     "0c03a1d7a24d405a88a52a61390623cb": {
      "model_module": "@jupyter-widgets/controls",
      "model_module_version": "1.5.0",
      "model_name": "FloatProgressModel",
      "state": {
       "bar_style": "danger",
       "description": "Valid iteration=0:   0%",
       "layout": "IPY_MODEL_4731d7394f6743b19f4be9da7d859f16",
       "max": 10000,
       "style": "IPY_MODEL_e67d5e361e144df189be4ad320754cd8"
      }
     },
     "0c14de6ad1be44bba70ce2e8dbfc5fe2": {
      "model_module": "@jupyter-widgets/controls",
      "model_module_version": "1.5.0",
      "model_name": "ProgressStyleModel",
      "state": {
       "description_width": "initial"
      }
     },
     "0c1786487f7c46f882f88d9147da120d": {
      "model_module": "@jupyter-widgets/controls",
      "model_module_version": "1.5.0",
      "model_name": "DescriptionStyleModel",
      "state": {
       "description_width": ""
      }
     },
     "0c464c447f724298b462b595e3a0c73a": {
      "model_module": "@jupyter-widgets/controls",
      "model_module_version": "1.5.0",
      "model_name": "ProgressStyleModel",
      "state": {
       "description_width": "initial"
      }
     },
     "0c7fd1b2d09942d4806e739427ce6884": {
      "model_module": "@jupyter-widgets/controls",
      "model_module_version": "1.5.0",
      "model_name": "ProgressStyleModel",
      "state": {
       "description_width": "initial"
      }
     },
     "0c81b4a939944f0ead647ec09f86d80c": {
      "model_module": "@jupyter-widgets/controls",
      "model_module_version": "1.5.0",
      "model_name": "DescriptionStyleModel",
      "state": {
       "description_width": ""
      }
     },
     "0caaddf7cd6c45779250e2bf9ee625f8": {
      "model_module": "@jupyter-widgets/controls",
      "model_module_version": "1.5.0",
      "model_name": "FloatProgressModel",
      "state": {
       "bar_style": "danger",
       "description": "Valid iteration=0:   0%",
       "layout": "IPY_MODEL_04d6eac62fa445e8b0b54479fc964af0",
       "max": 10000,
       "style": "IPY_MODEL_9c4f60a575b2474ea15ad2b7f40a5b41"
      }
     },
     "0cb7e84c982445d0b466e38ef3a542fb": {
      "model_module": "@jupyter-widgets/base",
      "model_module_version": "1.2.0",
      "model_name": "LayoutModel",
      "state": {}
     },
     "0cbbcb25ed1e4abdb654ea06fd4f426c": {
      "model_module": "@jupyter-widgets/base",
      "model_module_version": "1.2.0",
      "model_name": "LayoutModel",
      "state": {}
     },
     "0cd4978c08e748ea9b57098734c10494": {
      "model_module": "@jupyter-widgets/controls",
      "model_module_version": "1.5.0",
      "model_name": "HBoxModel",
      "state": {
       "children": [
        "IPY_MODEL_b89affed294b401abd4aa88ea43a2563",
        "IPY_MODEL_035c7679543b45cb887c1008aad60102"
       ],
       "layout": "IPY_MODEL_1c2e21d9f69342b8a1120d8c1d6e1977"
      }
     },
     "0cf422f9ed764deda81f31a42a862e11": {
      "model_module": "@jupyter-widgets/controls",
      "model_module_version": "1.5.0",
      "model_name": "HBoxModel",
      "state": {
       "children": [
        "IPY_MODEL_a9d7bf5e28af4b4cb37f89022cbf6b28",
        "IPY_MODEL_7d44fea140694c978445d5e873922706"
       ],
       "layout": "IPY_MODEL_2a93a34e60cc4d73bc92ad25c587b206"
      }
     },
     "0d0b93cad2b042b1b8efe613eb66aed0": {
      "model_module": "@jupyter-widgets/controls",
      "model_module_version": "1.5.0",
      "model_name": "ProgressStyleModel",
      "state": {
       "description_width": "initial"
      }
     },
     "0d1559ebad604dca8b7f5c131ee8c47d": {
      "model_module": "@jupyter-widgets/controls",
      "model_module_version": "1.5.0",
      "model_name": "DescriptionStyleModel",
      "state": {
       "description_width": ""
      }
     },
     "0d4f414cfe2b4ce590a9cf790acbeb76": {
      "model_module": "@jupyter-widgets/controls",
      "model_module_version": "1.5.0",
      "model_name": "HBoxModel",
      "state": {
       "children": [
        "IPY_MODEL_e55593329de34de1b12f08188116765a",
        "IPY_MODEL_587eca5217df4715951d690c51c3b525"
       ],
       "layout": "IPY_MODEL_9d36a42ac6a14eaaae1d40cf32f4f990"
      }
     },
     "0d75dfd69e044e398d7516a43e8d4ffa": {
      "model_module": "@jupyter-widgets/controls",
      "model_module_version": "1.5.0",
      "model_name": "ProgressStyleModel",
      "state": {
       "description_width": "initial"
      }
     },
     "0d7ef24e7e1b413fad23d181ad29175c": {
      "model_module": "@jupyter-widgets/controls",
      "model_module_version": "1.5.0",
      "model_name": "HBoxModel",
      "state": {
       "children": [
        "IPY_MODEL_de6750f015314164b2c8543e94a048b3",
        "IPY_MODEL_8a76d18a9b1b4faba08931976c32633c"
       ],
       "layout": "IPY_MODEL_8562b2306d884b33a038511ac4a43eb8"
      }
     },
     "0d87c55369dc40068b2afe824c3b8abf": {
      "model_module": "@jupyter-widgets/controls",
      "model_module_version": "1.5.0",
      "model_name": "ProgressStyleModel",
      "state": {
       "description_width": "initial"
      }
     },
     "0d901578b35241b08d9db612e0bf277c": {
      "model_module": "@jupyter-widgets/base",
      "model_module_version": "1.2.0",
      "model_name": "LayoutModel",
      "state": {}
     },
     "0d91291d28574219819955bb6391799e": {
      "model_module": "@jupyter-widgets/controls",
      "model_module_version": "1.5.0",
      "model_name": "HTMLModel",
      "state": {
       "layout": "IPY_MODEL_a58f9309da2c48a5846724c3f2886691",
       "style": "IPY_MODEL_b6b5357db10942dbb12d75ef04a4ac72",
       "value": " 85/90000 [00:47&lt;11:07:06,  2.25it/s]"
      }
     },
     "0d9204b70f094678a97811fa53f1e323": {
      "model_module": "@jupyter-widgets/controls",
      "model_module_version": "1.5.0",
      "model_name": "ProgressStyleModel",
      "state": {
       "description_width": "initial"
      }
     },
     "0db2fae80c5446bb822ad6df6dbff4cc": {
      "model_module": "@jupyter-widgets/base",
      "model_module_version": "1.2.0",
      "model_name": "LayoutModel",
      "state": {}
     },
     "0dcc877a7fb84280a0379acf4b230879": {
      "model_module": "@jupyter-widgets/base",
      "model_module_version": "1.2.0",
      "model_name": "LayoutModel",
      "state": {}
     },
     "0e0c2115510d4814b32511dfb3fc70d3": {
      "model_module": "@jupyter-widgets/base",
      "model_module_version": "1.2.0",
      "model_name": "LayoutModel",
      "state": {}
     },
     "0e2b2b4b3dce42caa706d600cda29d7f": {
      "model_module": "@jupyter-widgets/controls",
      "model_module_version": "1.5.0",
      "model_name": "FloatProgressModel",
      "state": {
       "bar_style": "danger",
       "description": "Train:   0%",
       "layout": "IPY_MODEL_c8257ecbfbe84b0a9f00a03c647501de",
       "max": 12,
       "style": "IPY_MODEL_eea2d8e040e141eda480bdbf373cedb3"
      }
     },
     "0e2da454178e48dfa62f7e2f43921411": {
      "model_module": "@jupyter-widgets/base",
      "model_module_version": "1.2.0",
      "model_name": "LayoutModel",
      "state": {}
     },
     "0e44c657c9c14d739f1e4a5fafad64b0": {
      "model_module": "@jupyter-widgets/controls",
      "model_module_version": "1.5.0",
      "model_name": "DescriptionStyleModel",
      "state": {
       "description_width": ""
      }
     },
     "0e473ff4e3ce4bb5a8240229ac018868": {
      "model_module": "@jupyter-widgets/controls",
      "model_module_version": "1.5.0",
      "model_name": "FloatProgressModel",
      "state": {
       "bar_style": "danger",
       "description": "Train epoch=0:   0%",
       "layout": "IPY_MODEL_018c378608fc48599afea321ad8d72b6",
       "max": 90000,
       "style": "IPY_MODEL_4689b1f73bf247569269f545de0c4f8c",
       "value": 240
      }
     },
     "0e47c6e7e3bb491192b57737de645eac": {
      "model_module": "@jupyter-widgets/base",
      "model_module_version": "1.2.0",
      "model_name": "LayoutModel",
      "state": {}
     },
     "0e4bf9855a3749ab9e2dd3f467e76508": {
      "model_module": "@jupyter-widgets/controls",
      "model_module_version": "1.5.0",
      "model_name": "HTMLModel",
      "state": {
       "layout": "IPY_MODEL_6b19abba27cd4c08b3db38f1d0dd3baf",
       "style": "IPY_MODEL_863151222e0a4e76aac0d23d2595e631",
       "value": " 0/10000 [00:01&lt;?, ?it/s]"
      }
     },
     "0e5c16b1c99640e1bbc8043b1fe260a1": {
      "model_module": "@jupyter-widgets/base",
      "model_module_version": "1.2.0",
      "model_name": "LayoutModel",
      "state": {}
     },
     "0e817d47ab8342e5bf24f176e3cfffc8": {
      "model_module": "@jupyter-widgets/controls",
      "model_module_version": "1.5.0",
      "model_name": "HBoxModel",
      "state": {
       "children": [
        "IPY_MODEL_6a46037bc52543238bec816b066abe7a",
        "IPY_MODEL_92c70ca0a6174d3caed5f399a54fb222"
       ],
       "layout": "IPY_MODEL_2a2a4462d8a44a59b9c6ddea9b4ad2f8"
      }
     },
     "0e8b869ddb2943daa9e7c2569fa4aa5b": {
      "model_module": "@jupyter-widgets/base",
      "model_module_version": "1.2.0",
      "model_name": "LayoutModel",
      "state": {}
     },
     "0ebd6d979c0d43b0989de5028221d4ca": {
      "model_module": "@jupyter-widgets/controls",
      "model_module_version": "1.5.0",
      "model_name": "DescriptionStyleModel",
      "state": {
       "description_width": ""
      }
     },
     "0ebe617bf0814356b3526cdb5aa2b936": {
      "model_module": "@jupyter-widgets/controls",
      "model_module_version": "1.5.0",
      "model_name": "HTMLModel",
      "state": {
       "layout": "IPY_MODEL_b93c9539ca5d4901a060606c00281b28",
       "style": "IPY_MODEL_3dbac2c21a0042dea82f02f5ead3a695",
       "value": " 0/12 [00:25&lt;?, ?it/s]"
      }
     },
     "0ec069733b7e48cca1d094de74372846": {
      "model_module": "@jupyter-widgets/controls",
      "model_module_version": "1.5.0",
      "model_name": "HBoxModel",
      "state": {
       "children": [
        "IPY_MODEL_754b757d59434d20aa992ef45d9c28e3",
        "IPY_MODEL_69b541f222c143cc87da69ec1688fdd8"
       ],
       "layout": "IPY_MODEL_7cefecc5fa9541dea4ae70b632320a9b"
      }
     },
     "0ec53d41b8a14baaa93817eb221556db": {
      "model_module": "@jupyter-widgets/controls",
      "model_module_version": "1.5.0",
      "model_name": "HBoxModel",
      "state": {
       "children": [
        "IPY_MODEL_c5504cae4de340e3a512a429a28c30e5",
        "IPY_MODEL_f13acc5b4fdf46f6b16e2bda68dd4669"
       ],
       "layout": "IPY_MODEL_1317db239daf4b5faee8fd9f7083d648"
      }
     },
     "0ed1144e3e394cae87eb857765ef9d2f": {
      "model_module": "@jupyter-widgets/base",
      "model_module_version": "1.2.0",
      "model_name": "LayoutModel",
      "state": {}
     },
     "0ed8faed5452445faaf35c360e7efcba": {
      "model_module": "@jupyter-widgets/controls",
      "model_module_version": "1.5.0",
      "model_name": "HTMLModel",
      "state": {
       "layout": "IPY_MODEL_43de1006aee94446ab3c278682a4a9aa",
       "style": "IPY_MODEL_cb7295243a07405f95a98c668d2df5ff",
       "value": " 0/12 [01:55&lt;?, ?it/s]"
      }
     },
     "0ee3595a147649a19875e6bf9d6f5253": {
      "model_module": "@jupyter-widgets/controls",
      "model_module_version": "1.5.0",
      "model_name": "HBoxModel",
      "state": {
       "children": [
        "IPY_MODEL_3fceec8b774b48cd82431667c0a6fa86",
        "IPY_MODEL_3a28af5b5953492bac8748e48a81ec51"
       ],
       "layout": "IPY_MODEL_2b279124af92401886ea03c42ab09a8c"
      }
     },
     "0ef548e6da644b73a7ad748b4d4b0b51": {
      "model_module": "@jupyter-widgets/base",
      "model_module_version": "1.2.0",
      "model_name": "LayoutModel",
      "state": {}
     },
     "0efe1d528f3f480b9cf3a6311f2232a8": {
      "model_module": "@jupyter-widgets/base",
      "model_module_version": "1.2.0",
      "model_name": "LayoutModel",
      "state": {}
     },
     "0f2bf83ae767415f83962e253f3ddc48": {
      "model_module": "@jupyter-widgets/controls",
      "model_module_version": "1.5.0",
      "model_name": "DescriptionStyleModel",
      "state": {
       "description_width": ""
      }
     },
     "0f3ebdff09054fb39ad94f09cd7763fd": {
      "model_module": "@jupyter-widgets/controls",
      "model_module_version": "1.5.0",
      "model_name": "HTMLModel",
      "state": {
       "layout": "IPY_MODEL_a745f706ed5341748fa48d03033e0187",
       "style": "IPY_MODEL_d0e691c0fb77444aaf25d77cadf7c35f",
       "value": " 0/12 [01:02&lt;?, ?it/s]"
      }
     },
     "0f46ecded06c4eaa8e7ecf0624c71c2e": {
      "model_module": "@jupyter-widgets/base",
      "model_module_version": "1.2.0",
      "model_name": "LayoutModel",
      "state": {}
     },
     "0f4aa141134e43f2a6a84ae91ea71250": {
      "model_module": "@jupyter-widgets/base",
      "model_module_version": "1.2.0",
      "model_name": "LayoutModel",
      "state": {}
     },
     "0f6702967c9b40ada2f048a5cfc78b10": {
      "model_module": "@jupyter-widgets/controls",
      "model_module_version": "1.5.0",
      "model_name": "FloatProgressModel",
      "state": {
       "bar_style": "danger",
       "description": "Train epoch=0:   0%",
       "layout": "IPY_MODEL_08f9b93099654588ba0e3c08ddfec76f",
       "max": 45000,
       "style": "IPY_MODEL_48b70677195e4b7abc6302cd0535bf97",
       "value": 2
      }
     },
     "0f7451b7f73845f2a001f7a0bef907d4": {
      "model_module": "@jupyter-widgets/base",
      "model_module_version": "1.2.0",
      "model_name": "LayoutModel",
      "state": {}
     },
     "0f7a6b3687024a1eae01e89b9f134eb2": {
      "model_module": "@jupyter-widgets/base",
      "model_module_version": "1.2.0",
      "model_name": "LayoutModel",
      "state": {}
     },
     "0f96fd2ca36c41b08203c1e879d566a9": {
      "model_module": "@jupyter-widgets/base",
      "model_module_version": "1.2.0",
      "model_name": "LayoutModel",
      "state": {}
     },
     "0fa7c0c1d2804311abdad620969c1ded": {
      "model_module": "@jupyter-widgets/base",
      "model_module_version": "1.2.0",
      "model_name": "LayoutModel",
      "state": {}
     },
     "0fb4bb48a30448f58b3a45b03ec038f9": {
      "model_module": "@jupyter-widgets/controls",
      "model_module_version": "1.5.0",
      "model_name": "DescriptionStyleModel",
      "state": {
       "description_width": ""
      }
     },
     "0fc6fa7b46494d7e85e6cf17ad5f780f": {
      "model_module": "@jupyter-widgets/controls",
      "model_module_version": "1.5.0",
      "model_name": "FloatProgressModel",
      "state": {
       "bar_style": "danger",
       "description": "Valid iteration=0:   0%",
       "layout": "IPY_MODEL_bb6f034ba9fb4c5fbd09f69fd735012c",
       "max": 10000,
       "style": "IPY_MODEL_3efb9728c7b54666b8b58b4f2a2c0904"
      }
     },
     "0fc8c75bd06d4772b52466e5c8307aa3": {
      "model_module": "@jupyter-widgets/controls",
      "model_module_version": "1.5.0",
      "model_name": "FloatProgressModel",
      "state": {
       "bar_style": "danger",
       "description": "Train:   0%",
       "layout": "IPY_MODEL_d53002b8ee9a4f8dabfb00afead9d308",
       "max": 12,
       "style": "IPY_MODEL_3370e09320b64abebeb14bdfe2e5ad83"
      }
     },
     "0fd1f68770724db8a031aa1b138768a6": {
      "model_module": "@jupyter-widgets/controls",
      "model_module_version": "1.5.0",
      "model_name": "HTMLModel",
      "state": {
       "layout": "IPY_MODEL_90650e410bd043d2941899c796b3424d",
       "style": "IPY_MODEL_3e415c8724184122912a552a4d4ea590",
       "value": " 0/12 [02:32&lt;?, ?it/s]"
      }
     },
     "0fe0e30640a64f64a4dd57e1c5dd8c81": {
      "model_module": "@jupyter-widgets/base",
      "model_module_version": "1.2.0",
      "model_name": "LayoutModel",
      "state": {}
     },
     "101b3aac38264173bdf4a9657b59a3a0": {
      "model_module": "@jupyter-widgets/base",
      "model_module_version": "1.2.0",
      "model_name": "LayoutModel",
      "state": {}
     },
     "1021b2636fcb46c9a24ff4b121ad16e5": {
      "model_module": "@jupyter-widgets/controls",
      "model_module_version": "1.5.0",
      "model_name": "HTMLModel",
      "state": {
       "layout": "IPY_MODEL_44ba65d8fc0f4be5a05409ca7920db32",
       "style": "IPY_MODEL_8e18a249664049c581ad4c4926adde0f",
       "value": " 136/90000 [01:12&lt;10:34:30,  2.36it/s]"
      }
     },
     "103029c5836c45ee9ac52548097b3687": {
      "model_module": "@jupyter-widgets/controls",
      "model_module_version": "1.5.0",
      "model_name": "HTMLModel",
      "state": {
       "layout": "IPY_MODEL_1a9a02f25d9741cc89c3a9197574e5f0",
       "style": "IPY_MODEL_fb948b80db3642dd98d19ccaefb51b59",
       "value": " 0/10000 [07:04&lt;?, ?it/s]"
      }
     },
     "103fb5de4ca6426092a33400fb212faf": {
      "model_module": "@jupyter-widgets/controls",
      "model_module_version": "1.5.0",
      "model_name": "HTMLModel",
      "state": {
       "layout": "IPY_MODEL_61f3d783caba44ce9b6b4c37092e11f1",
       "style": "IPY_MODEL_bb7beb30db8049598b685b99dc86cb32",
       "value": " 0/10000 [00:01&lt;?, ?it/s]"
      }
     },
     "1048d6def1384ea492ebe90b99d1fdfa": {
      "model_module": "@jupyter-widgets/controls",
      "model_module_version": "1.5.0",
      "model_name": "DescriptionStyleModel",
      "state": {
       "description_width": ""
      }
     },
     "1086c191529e4558b5a3c5f1b2c4bbcf": {
      "model_module": "@jupyter-widgets/controls",
      "model_module_version": "1.5.0",
      "model_name": "FloatProgressModel",
      "state": {
       "bar_style": "danger",
       "description": "Valid iteration=0:   0%",
       "layout": "IPY_MODEL_edc80a8d7a274b2da6ef604b893b169f",
       "max": 5000,
       "style": "IPY_MODEL_eb66f189dc574502b2c0b08e51543677"
      }
     },
     "108777cbd77a4ac7a886ffe9828b0e9e": {
      "model_module": "@jupyter-widgets/base",
      "model_module_version": "1.2.0",
      "model_name": "LayoutModel",
      "state": {}
     },
     "1091b81080864544b81a44fcbdcc80a5": {
      "model_module": "@jupyter-widgets/controls",
      "model_module_version": "1.5.0",
      "model_name": "FloatProgressModel",
      "state": {
       "bar_style": "danger",
       "description": "Valid iteration=0:   0%",
       "layout": "IPY_MODEL_87de83a5f0e840e28ed1fcc08ee751b8",
       "max": 10000,
       "style": "IPY_MODEL_7a9c5e3501464bcf8e8da76d3b6a3c27"
      }
     },
     "1094f15193074f5db41f772ccb319e1e": {
      "model_module": "@jupyter-widgets/controls",
      "model_module_version": "1.5.0",
      "model_name": "HBoxModel",
      "state": {
       "children": [
        "IPY_MODEL_afc84a4d9a2b41239f2753a09f997154",
        "IPY_MODEL_1bce104c480245ed8055a278f857f0e5"
       ],
       "layout": "IPY_MODEL_2e9ba82bf2204b2fb66e1f867ecda495"
      }
     },
     "10a8bd9fc2e64521a0b7bb4e4e72901a": {
      "model_module": "@jupyter-widgets/controls",
      "model_module_version": "1.5.0",
      "model_name": "HBoxModel",
      "state": {
       "children": [
        "IPY_MODEL_64402f47329145cfb50a70673e9fa2b7",
        "IPY_MODEL_7107185a455d4e5cbe671d71e5319c95"
       ],
       "layout": "IPY_MODEL_a6cc3f572a954f9eaac9c1082b37acf6"
      }
     },
     "10d613ae9bd34b1ab0f5f617d8d8c4ef": {
      "model_module": "@jupyter-widgets/base",
      "model_module_version": "1.2.0",
      "model_name": "LayoutModel",
      "state": {}
     },
     "10e36076162a430c8e451917b22321b2": {
      "model_module": "@jupyter-widgets/base",
      "model_module_version": "1.2.0",
      "model_name": "LayoutModel",
      "state": {}
     },
     "10f234236697443a98d701ff3a353dad": {
      "model_module": "@jupyter-widgets/controls",
      "model_module_version": "1.5.0",
      "model_name": "FloatProgressModel",
      "state": {
       "bar_style": "danger",
       "description": "Train epoch=0:   1%",
       "layout": "IPY_MODEL_d20b5f5e1e584e38a795242a2f438f33",
       "max": 90000,
       "style": "IPY_MODEL_72759a48a27a4c9ea6b0fd60cb7b14ee",
       "value": 987
      }
     },
     "1113e2ec8c7d4f1db4cd00fd83018da7": {
      "model_module": "@jupyter-widgets/controls",
      "model_module_version": "1.5.0",
      "model_name": "DescriptionStyleModel",
      "state": {
       "description_width": ""
      }
     },
     "111fafad66d34532b94ef29558cd4b56": {
      "model_module": "@jupyter-widgets/controls",
      "model_module_version": "1.5.0",
      "model_name": "DescriptionStyleModel",
      "state": {
       "description_width": ""
      }
     },
     "112645a42c1b4428962198fbba5cb6cf": {
      "model_module": "@jupyter-widgets/controls",
      "model_module_version": "1.5.0",
      "model_name": "FloatProgressModel",
      "state": {
       "bar_style": "danger",
       "description": "Valid iteration=0:   0%",
       "layout": "IPY_MODEL_5c761f84ec3544a7910def7d5a94cf53",
       "max": 10000,
       "style": "IPY_MODEL_46198580c718458da3f27d19678267c0"
      }
     },
     "115d2bb76a994133b346a60396d5429f": {
      "model_module": "@jupyter-widgets/controls",
      "model_module_version": "1.5.0",
      "model_name": "DescriptionStyleModel",
      "state": {
       "description_width": ""
      }
     },
     "119207a12c904ed0a5313a39802661ed": {
      "model_module": "@jupyter-widgets/controls",
      "model_module_version": "1.5.0",
      "model_name": "FloatProgressModel",
      "state": {
       "bar_style": "danger",
       "description": "Train epoch=0:   9%",
       "layout": "IPY_MODEL_71cd3f57fa26468a9553ddd1a8deed85",
       "max": 45000,
       "style": "IPY_MODEL_1926280c42c64487b4c0ef81c7d8ccae",
       "value": 4175
      }
     },
     "11c6c02a5af24f94aa681dcb551e00c7": {
      "model_module": "@jupyter-widgets/controls",
      "model_module_version": "1.5.0",
      "model_name": "FloatProgressModel",
      "state": {
       "bar_style": "danger",
       "description": "Train:   0%",
       "layout": "IPY_MODEL_dcf48eb82a2046498b484f3771165ef8",
       "max": 12,
       "style": "IPY_MODEL_393f37fb761c4752b6d158c8e55e5c8d"
      }
     },
     "11d2fa78cae840bcbc93b046abea0feb": {
      "model_module": "@jupyter-widgets/controls",
      "model_module_version": "1.5.0",
      "model_name": "ProgressStyleModel",
      "state": {
       "description_width": "initial"
      }
     },
     "11d3aff2910542739a5df7de61eb9d81": {
      "model_module": "@jupyter-widgets/controls",
      "model_module_version": "1.5.0",
      "model_name": "DescriptionStyleModel",
      "state": {
       "description_width": ""
      }
     },
     "11d56427cea34d2d97f4e1e612f30959": {
      "model_module": "@jupyter-widgets/base",
      "model_module_version": "1.2.0",
      "model_name": "LayoutModel",
      "state": {}
     },
     "11e2a55cead340bd900a56809b8159df": {
      "model_module": "@jupyter-widgets/controls",
      "model_module_version": "1.5.0",
      "model_name": "DescriptionStyleModel",
      "state": {
       "description_width": ""
      }
     },
     "11e65ab4756841dd88590b72b9aea13c": {
      "model_module": "@jupyter-widgets/controls",
      "model_module_version": "1.5.0",
      "model_name": "HBoxModel",
      "state": {
       "children": [
        "IPY_MODEL_0caaddf7cd6c45779250e2bf9ee625f8",
        "IPY_MODEL_c53fe035b03c4830ae431e35a114a1c1"
       ],
       "layout": "IPY_MODEL_6a0e39c2a86943719862a44027ba987a"
      }
     },
     "11e7b051d8634676b6cc5b490af3f5fc": {
      "model_module": "@jupyter-widgets/base",
      "model_module_version": "1.2.0",
      "model_name": "LayoutModel",
      "state": {}
     },
     "12080fa013c84efdb5e97d213a47a760": {
      "model_module": "@jupyter-widgets/controls",
      "model_module_version": "1.5.0",
      "model_name": "ProgressStyleModel",
      "state": {
       "description_width": "initial"
      }
     },
     "1214955ac2e640e6aa4c544fa0aa78eb": {
      "model_module": "@jupyter-widgets/controls",
      "model_module_version": "1.5.0",
      "model_name": "HTMLModel",
      "state": {
       "layout": "IPY_MODEL_d0390b056f074e15ab8e8c15ce989206",
       "style": "IPY_MODEL_672c67f1645d46ea9fb977cb5c867188",
       "value": " 0/10000 [08:10&lt;?, ?it/s]"
      }
     },
     "122a4a4003eb4545b3d777caf236cd12": {
      "model_module": "@jupyter-widgets/controls",
      "model_module_version": "1.5.0",
      "model_name": "ProgressStyleModel",
      "state": {
       "description_width": "initial"
      }
     },
     "122b9e33a1fd4d3fab9550493a61a436": {
      "model_module": "@jupyter-widgets/controls",
      "model_module_version": "1.5.0",
      "model_name": "HBoxModel",
      "state": {
       "children": [
        "IPY_MODEL_640f16d4ac8c4c80a52f3b8cdff70d50",
        "IPY_MODEL_09462b7548924ea2be0514f4148f946a"
       ],
       "layout": "IPY_MODEL_ced6dd05ef5e4a91b9da5b4f47e5fa0e"
      }
     },
     "124020757d3c4908948147a47d6d5667": {
      "model_module": "@jupyter-widgets/controls",
      "model_module_version": "1.5.0",
      "model_name": "FloatProgressModel",
      "state": {
       "bar_style": "danger",
       "description": "Train epoch=0:   6%",
       "layout": "IPY_MODEL_efe2e10d4a6c4d81aff4ad4cd78dcc4e",
       "max": 90000,
       "style": "IPY_MODEL_b811e39163184086b48aeacf2f25d123",
       "value": 5776
      }
     },
     "124f27c651e640e8938c878888552fbc": {
      "model_module": "@jupyter-widgets/controls",
      "model_module_version": "1.5.0",
      "model_name": "HTMLModel",
      "state": {
       "layout": "IPY_MODEL_ff2a122701944b10920e72cdffce3611",
       "style": "IPY_MODEL_f6d6fd5386cb419a96236facad9c722c",
       "value": " 0/5000 [11:00&lt;?, ?it/s]"
      }
     },
     "1266f120df1046f8a72483a20e7600e7": {
      "model_module": "@jupyter-widgets/controls",
      "model_module_version": "1.5.0",
      "model_name": "HBoxModel",
      "state": {
       "children": [
        "IPY_MODEL_dd907674259a4146b9712385e02472c3",
        "IPY_MODEL_c2a01f9329314df7901628ebecd04678"
       ],
       "layout": "IPY_MODEL_0cb7e84c982445d0b466e38ef3a542fb"
      }
     },
     "12735ee96a1f411eb9a0604510e871c4": {
      "model_module": "@jupyter-widgets/base",
      "model_module_version": "1.2.0",
      "model_name": "LayoutModel",
      "state": {}
     },
     "127b200583cf4ea18b79fbab6679ef47": {
      "model_module": "@jupyter-widgets/controls",
      "model_module_version": "1.5.0",
      "model_name": "DescriptionStyleModel",
      "state": {
       "description_width": ""
      }
     },
     "1284c75bcd094a4eb87b0e242e239b38": {
      "model_module": "@jupyter-widgets/controls",
      "model_module_version": "1.5.0",
      "model_name": "HTMLModel",
      "state": {
       "layout": "IPY_MODEL_c57f309039ac43e58431797208703826",
       "style": "IPY_MODEL_54105ead944044e2822a727c0edc1aed",
       "value": " 0/10000 [00:06&lt;?, ?it/s]"
      }
     },
     "12a281a033984327b717fa7bba41cb40": {
      "model_module": "@jupyter-widgets/base",
      "model_module_version": "1.2.0",
      "model_name": "LayoutModel",
      "state": {}
     },
     "12c4d8c5400449afafa18aab86371910": {
      "model_module": "@jupyter-widgets/controls",
      "model_module_version": "1.5.0",
      "model_name": "FloatProgressModel",
      "state": {
       "bar_style": "danger",
       "description": "Valid iteration=0:   0%",
       "layout": "IPY_MODEL_b82e3467766b451298e8f637ed29c9e9",
       "max": 10000,
       "style": "IPY_MODEL_14de32418e87485d8dcfcd6f6f4fa720"
      }
     },
     "12c7f204818e448f9e009a5b63e3ca99": {
      "model_module": "@jupyter-widgets/controls",
      "model_module_version": "1.5.0",
      "model_name": "FloatProgressModel",
      "state": {
       "bar_style": "danger",
       "description": "Train:   0%",
       "layout": "IPY_MODEL_18fe8846aa72425888f6e17d15ed90f1",
       "max": 12,
       "style": "IPY_MODEL_f514417d216949028882676a4369af02"
      }
     },
     "12ca327f820b4534a789cee394426825": {
      "model_module": "@jupyter-widgets/base",
      "model_module_version": "1.2.0",
      "model_name": "LayoutModel",
      "state": {}
     },
     "12cb0451933d4bfeba2dbe9f53695808": {
      "model_module": "@jupyter-widgets/controls",
      "model_module_version": "1.5.0",
      "model_name": "FloatProgressModel",
      "state": {
       "bar_style": "danger",
       "description": "Valid iteration=3000:   0%",
       "layout": "IPY_MODEL_709aa181cde24c6594053954c7f3dabd",
       "max": 10000,
       "style": "IPY_MODEL_f1888ea77cd44c69964bf7cbb261533a"
      }
     },
     "12f34cd02b0943d7a4ca8f65ce1ca84b": {
      "model_module": "@jupyter-widgets/controls",
      "model_module_version": "1.5.0",
      "model_name": "DescriptionStyleModel",
      "state": {
       "description_width": ""
      }
     },
     "1317db239daf4b5faee8fd9f7083d648": {
      "model_module": "@jupyter-widgets/base",
      "model_module_version": "1.2.0",
      "model_name": "LayoutModel",
      "state": {}
     },
     "131bf51cee4044d49420d6f14e264d07": {
      "model_module": "@jupyter-widgets/controls",
      "model_module_version": "1.5.0",
      "model_name": "HBoxModel",
      "state": {
       "children": [
        "IPY_MODEL_5f39e612fb1e48f2993c6bfb5565b04c",
        "IPY_MODEL_3b4684ae6bab4801bc9aa27d31d88c56"
       ],
       "layout": "IPY_MODEL_898c8fd4419c49478fb9ff8cdd1131a1"
      }
     },
     "133dac2f9b514b9684c0a73eb69ef05f": {
      "model_module": "@jupyter-widgets/base",
      "model_module_version": "1.2.0",
      "model_name": "LayoutModel",
      "state": {}
     },
     "13456cd8074946caa1b55041e4395bc7": {
      "model_module": "@jupyter-widgets/controls",
      "model_module_version": "1.5.0",
      "model_name": "FloatProgressModel",
      "state": {
       "bar_style": "danger",
       "description": "Valid iteration=0:   0%",
       "layout": "IPY_MODEL_3202326f8bdd493f823c6884985f0af3",
       "max": 5000,
       "style": "IPY_MODEL_ebadd34839224eb98ee200f2c5acc597"
      }
     },
     "1345ff3b8db04cc787c1a509f0912bf2": {
      "model_module": "@jupyter-widgets/controls",
      "model_module_version": "1.5.0",
      "model_name": "HBoxModel",
      "state": {
       "children": [
        "IPY_MODEL_1a5f7b01bde74c449450460b30cde0ef",
        "IPY_MODEL_962cc67ffb234fdab803a5f11a072d8d"
       ],
       "layout": "IPY_MODEL_84fbfce052b94ecc8d42c2e66e0b4b15"
      }
     },
     "134d4a0fa00e4f8daf701b6eb95dec04": {
      "model_module": "@jupyter-widgets/base",
      "model_module_version": "1.2.0",
      "model_name": "LayoutModel",
      "state": {}
     },
     "1365842f52694e98bab2c5de610a06e2": {
      "model_module": "@jupyter-widgets/controls",
      "model_module_version": "1.5.0",
      "model_name": "HBoxModel",
      "state": {
       "children": [
        "IPY_MODEL_4f1f29e02c364b7b92f44becbd99ba05",
        "IPY_MODEL_ef7710fc1a5a4e909b9eb8b741110940"
       ],
       "layout": "IPY_MODEL_8e126c6b96be43c689f14be72c7f5d99"
      }
     },
     "137cb695d277482b803470d8b87a11a9": {
      "model_module": "@jupyter-widgets/controls",
      "model_module_version": "1.5.0",
      "model_name": "HTMLModel",
      "state": {
       "layout": "IPY_MODEL_6b9e951a5e5b43c99657b2774d110c2a",
       "style": "IPY_MODEL_456284cf15c74ea29130ca8a53e3f7d6",
       "value": " 0/12 [00:21&lt;?, ?it/s]"
      }
     },
     "140183c8bab3407caa567dc3bf25a58d": {
      "model_module": "@jupyter-widgets/controls",
      "model_module_version": "1.5.0",
      "model_name": "DescriptionStyleModel",
      "state": {
       "description_width": ""
      }
     },
     "142558e10787403b863a9dff0b8dfe78": {
      "model_module": "@jupyter-widgets/base",
      "model_module_version": "1.2.0",
      "model_name": "LayoutModel",
      "state": {}
     },
     "142ab0a3bd29456cb7aca70be97010f8": {
      "model_module": "@jupyter-widgets/base",
      "model_module_version": "1.2.0",
      "model_name": "LayoutModel",
      "state": {}
     },
     "1453ac9ef0294f218d022b04f488c7a8": {
      "model_module": "@jupyter-widgets/controls",
      "model_module_version": "1.5.0",
      "model_name": "HTMLModel",
      "state": {
       "layout": "IPY_MODEL_99dd428ba307491d9e3cb69b855ffb23",
       "style": "IPY_MODEL_0ebd6d979c0d43b0989de5028221d4ca",
       "value": " 1240/45000 [07:54&lt;4:39:13,  2.61it/s]"
      }
     },
     "1454d3e1cc9342bda76a2fc68d220e03": {
      "model_module": "@jupyter-widgets/controls",
      "model_module_version": "1.5.0",
      "model_name": "DescriptionStyleModel",
      "state": {
       "description_width": ""
      }
     },
     "145c2435b8b04e38ad7a01a51b4da1cc": {
      "model_module": "@jupyter-widgets/controls",
      "model_module_version": "1.5.0",
      "model_name": "FloatProgressModel",
      "state": {
       "bar_style": "danger",
       "description": "Train epoch=0:   0%",
       "layout": "IPY_MODEL_16c2fb9d02ac4c6297cc99e0573009b9",
       "max": 90000,
       "style": "IPY_MODEL_3c60ba27b9ce49d593a6ee5f623eaa1d"
      }
     },
     "1469f3aaf6d04a5083c76c6b8eddbf17": {
      "model_module": "@jupyter-widgets/controls",
      "model_module_version": "1.5.0",
      "model_name": "FloatProgressModel",
      "state": {
       "bar_style": "danger",
       "description": "Train epoch=0:   0%",
       "layout": "IPY_MODEL_b8b5615490fd4dcb8702b2de25058d9a",
       "max": 45000,
       "style": "IPY_MODEL_b5b401ebe431485cabf747cde9d8aacc"
      }
     },
     "1488c5facbb64c2ea6541cbadb7b264c": {
      "model_module": "@jupyter-widgets/controls",
      "model_module_version": "1.5.0",
      "model_name": "ProgressStyleModel",
      "state": {
       "description_width": "initial"
      }
     },
     "14c7f1c964a44f43ba0aed5a8377cd80": {
      "model_module": "@jupyter-widgets/base",
      "model_module_version": "1.2.0",
      "model_name": "LayoutModel",
      "state": {}
     },
     "14de32418e87485d8dcfcd6f6f4fa720": {
      "model_module": "@jupyter-widgets/controls",
      "model_module_version": "1.5.0",
      "model_name": "ProgressStyleModel",
      "state": {
       "description_width": "initial"
      }
     },
     "14ee8ad0988e47bf81f441c0fa28a7f0": {
      "model_module": "@jupyter-widgets/controls",
      "model_module_version": "1.5.0",
      "model_name": "HTMLModel",
      "state": {
       "layout": "IPY_MODEL_d3910de1384346379fc257d469b71810",
       "style": "IPY_MODEL_3989e8ca392c4b3fa1eef714ee191e32",
       "value": " 0/90000 [00:18&lt;?, ?it/s]"
      }
     },
     "14f0cc196678431b85a421f337c0c7f5": {
      "model_module": "@jupyter-widgets/controls",
      "model_module_version": "1.5.0",
      "model_name": "DescriptionStyleModel",
      "state": {
       "description_width": ""
      }
     },
     "14f12c6dabaa4626a65b1a8a36fc9c29": {
      "model_module": "@jupyter-widgets/controls",
      "model_module_version": "1.5.0",
      "model_name": "FloatProgressModel",
      "state": {
       "bar_style": "danger",
       "description": "Train:   0%",
       "layout": "IPY_MODEL_568978a2e3dc49db8faf1ff34192a016",
       "max": 12,
       "style": "IPY_MODEL_a1c64ad6b952491ab6cdf0981dea6981"
      }
     },
     "14f6ddc794ca4937a0dd7c79ce46f694": {
      "model_module": "@jupyter-widgets/base",
      "model_module_version": "1.2.0",
      "model_name": "LayoutModel",
      "state": {}
     },
     "15055627a7e046d28329e9463c7bdd5e": {
      "model_module": "@jupyter-widgets/controls",
      "model_module_version": "1.5.0",
      "model_name": "HBoxModel",
      "state": {
       "children": [
        "IPY_MODEL_f0fc300cfa06432790cb569622d5481b",
        "IPY_MODEL_2df2ab608ee94a5e84e1e884ca726931"
       ],
       "layout": "IPY_MODEL_07d169b2aca44d5bb6cd62798cff174a"
      }
     },
     "151c907e87964020acb1759134138c0d": {
      "model_module": "@jupyter-widgets/controls",
      "model_module_version": "1.5.0",
      "model_name": "HBoxModel",
      "state": {
       "children": [
        "IPY_MODEL_5ee588b38122436e892cc7e2b7531bca",
        "IPY_MODEL_d6a3ccafa7b14a6e92592a58357a524a"
       ],
       "layout": "IPY_MODEL_e0efa402207d4c56bda870405f0a563b"
      }
     },
     "15470d28af8a4e9d86a29419cd272cf0": {
      "model_module": "@jupyter-widgets/controls",
      "model_module_version": "1.5.0",
      "model_name": "HTMLModel",
      "state": {
       "layout": "IPY_MODEL_7955751d3fdb458d8dab906d9d728ed5",
       "style": "IPY_MODEL_81ad5eb38c594fca826e15591a15d9c6",
       "value": " 0/90000 [00:10&lt;?, ?it/s]"
      }
     },
     "1549aef7cd984a1d9857b0181d61cdec": {
      "model_module": "@jupyter-widgets/controls",
      "model_module_version": "1.5.0",
      "model_name": "FloatProgressModel",
      "state": {
       "bar_style": "danger",
       "description": "Train:   0%",
       "layout": "IPY_MODEL_9913187145c7497da2067b9967439605",
       "max": 12,
       "style": "IPY_MODEL_0bfcaa49f53a44c4bda4e7c6be0cdfa6"
      }
     },
     "154aea485cab4641b4d48db3865a9663": {
      "model_module": "@jupyter-widgets/controls",
      "model_module_version": "1.5.0",
      "model_name": "FloatProgressModel",
      "state": {
       "bar_style": "danger",
       "description": "Train:   0%",
       "layout": "IPY_MODEL_fe171bf13ed24e6d890e2e7382616518",
       "max": 12,
       "style": "IPY_MODEL_340ac6a2cc7a4309ad092ecf5da31e57"
      }
     },
     "1550c9ebf944463d8a94cc77c616f51b": {
      "model_module": "@jupyter-widgets/controls",
      "model_module_version": "1.5.0",
      "model_name": "FloatProgressModel",
      "state": {
       "bar_style": "danger",
       "description": "Train:   0%",
       "layout": "IPY_MODEL_86ad51c428dc4700b5f6986e5b14ccb8",
       "max": 12,
       "style": "IPY_MODEL_0d0b93cad2b042b1b8efe613eb66aed0"
      }
     },
     "1555dfea5bb1467aaf73ca5b0f39811b": {
      "model_module": "@jupyter-widgets/base",
      "model_module_version": "1.2.0",
      "model_name": "LayoutModel",
      "state": {}
     },
     "1556c639f0e444a5b5a49e0a732411b3": {
      "model_module": "@jupyter-widgets/controls",
      "model_module_version": "1.5.0",
      "model_name": "HBoxModel",
      "state": {
       "children": [
        "IPY_MODEL_328ebcb2d1a04afcb6dbc9f991b11ce1",
        "IPY_MODEL_699d7319d4e94042861ef2265c4d91da"
       ],
       "layout": "IPY_MODEL_5913e9f0b9e643e4ac1fd40cdaa75440"
      }
     },
     "155b16d6ec0f45a08753f5ca6e492343": {
      "model_module": "@jupyter-widgets/controls",
      "model_module_version": "1.5.0",
      "model_name": "DescriptionStyleModel",
      "state": {
       "description_width": ""
      }
     },
     "1562e0073a9e401e89f2461da0403b68": {
      "model_module": "@jupyter-widgets/controls",
      "model_module_version": "1.5.0",
      "model_name": "FloatProgressModel",
      "state": {
       "bar_style": "danger",
       "description": "Valid iteration=0:   0%",
       "layout": "IPY_MODEL_32c8eb0dc97c41349a34bccf0e785133",
       "max": 10000,
       "style": "IPY_MODEL_76d666ee9d024bdfb4378b54fc93ce62"
      }
     },
     "159283a9cb094be89ff63a5883e10e13": {
      "model_module": "@jupyter-widgets/base",
      "model_module_version": "1.2.0",
      "model_name": "LayoutModel",
      "state": {}
     },
     "15b141e6d9de4913a8b32d76bf279d8f": {
      "model_module": "@jupyter-widgets/controls",
      "model_module_version": "1.5.0",
      "model_name": "DescriptionStyleModel",
      "state": {
       "description_width": ""
      }
     },
     "15c474982a144e13a2dd4f4433bb3390": {
      "model_module": "@jupyter-widgets/controls",
      "model_module_version": "1.5.0",
      "model_name": "DescriptionStyleModel",
      "state": {
       "description_width": ""
      }
     },
     "15c9f6ba8ea64222aab86f56814a7e0a": {
      "model_module": "@jupyter-widgets/controls",
      "model_module_version": "1.5.0",
      "model_name": "ProgressStyleModel",
      "state": {
       "description_width": "initial"
      }
     },
     "15e902b109994b51a950efa077c12615": {
      "model_module": "@jupyter-widgets/controls",
      "model_module_version": "1.5.0",
      "model_name": "HBoxModel",
      "state": {
       "children": [
        "IPY_MODEL_7428156beff44861b59990a274d3d4de",
        "IPY_MODEL_75a955c02eca458b961ca01d7998cf05"
       ],
       "layout": "IPY_MODEL_cc6018449d1c43b9be3c3bc653b5739b"
      }
     },
     "15eb8e94fefc470bb684c5a26c377256": {
      "model_module": "@jupyter-widgets/controls",
      "model_module_version": "1.5.0",
      "model_name": "DescriptionStyleModel",
      "state": {
       "description_width": ""
      }
     },
     "15f3f7c04f0d4394bcb23b4cd9ddcc1a": {
      "model_module": "@jupyter-widgets/controls",
      "model_module_version": "1.5.0",
      "model_name": "ProgressStyleModel",
      "state": {
       "description_width": "initial"
      }
     },
     "15f8cb4911124be8856e4b6d1f20a6f7": {
      "model_module": "@jupyter-widgets/controls",
      "model_module_version": "1.5.0",
      "model_name": "HBoxModel",
      "state": {
       "children": [
        "IPY_MODEL_66da9deeff0c491eafe6e88c52197f9c",
        "IPY_MODEL_a5fe1752c3364eeca54664580ef16cb1"
       ],
       "layout": "IPY_MODEL_92f3a135b653460ba94af485e734eb9c"
      }
     },
     "160061cca60f44a483c727f50462a842": {
      "model_module": "@jupyter-widgets/controls",
      "model_module_version": "1.5.0",
      "model_name": "HBoxModel",
      "state": {
       "children": [
        "IPY_MODEL_cb767a3027f2436783fdd1986a81acdb",
        "IPY_MODEL_1453ac9ef0294f218d022b04f488c7a8"
       ],
       "layout": "IPY_MODEL_317a8e5509ee475f86f80a852a5fb222"
      }
     },
     "16094305b3354ee29e21d531becf9da7": {
      "model_module": "@jupyter-widgets/base",
      "model_module_version": "1.2.0",
      "model_name": "LayoutModel",
      "state": {}
     },
     "1633e2491cf94f9d83282a5bf6a91d45": {
      "model_module": "@jupyter-widgets/controls",
      "model_module_version": "1.5.0",
      "model_name": "FloatProgressModel",
      "state": {
       "bar_style": "danger",
       "description": "Train epoch=0:   0%",
       "layout": "IPY_MODEL_94d81595ffc1456fa8bb9eeb488b4b18",
       "max": 90000,
       "style": "IPY_MODEL_a5d5b76a101b49f78754c5a31471b5eb",
       "value": 2
      }
     },
     "1640b86eaaa3421280ff1d83b093b687": {
      "model_module": "@jupyter-widgets/controls",
      "model_module_version": "1.5.0",
      "model_name": "HBoxModel",
      "state": {
       "children": [
        "IPY_MODEL_7c075ece007e4542b72bb109299524eb",
        "IPY_MODEL_a7ba6c14e17e42d7bb1279d28d71d965"
       ],
       "layout": "IPY_MODEL_6a9eb8d7f6074ccd877bb3ee7a6021bb"
      }
     },
     "164cdc9fde8c4e9d9a5b9924ac4abe6e": {
      "model_module": "@jupyter-widgets/base",
      "model_module_version": "1.2.0",
      "model_name": "LayoutModel",
      "state": {}
     },
     "1697fe5d7e1e463388c819995076997c": {
      "model_module": "@jupyter-widgets/base",
      "model_module_version": "1.2.0",
      "model_name": "LayoutModel",
      "state": {}
     },
     "169b4e35c57841189245c82f5c263111": {
      "model_module": "@jupyter-widgets/controls",
      "model_module_version": "1.5.0",
      "model_name": "HTMLModel",
      "state": {
       "layout": "IPY_MODEL_1941b25c94df46618f9155d87874e1d0",
       "style": "IPY_MODEL_61cbc2298d0e4746acb8f2625d5a8cc8",
       "value": " 0/90000 [00:11&lt;?, ?it/s]"
      }
     },
     "16c0607c0d194b71914f28f82526e997": {
      "model_module": "@jupyter-widgets/controls",
      "model_module_version": "1.5.0",
      "model_name": "DescriptionStyleModel",
      "state": {
       "description_width": ""
      }
     },
     "16c2fb9d02ac4c6297cc99e0573009b9": {
      "model_module": "@jupyter-widgets/base",
      "model_module_version": "1.2.0",
      "model_name": "LayoutModel",
      "state": {}
     },
     "170fd8a1c5e04f739ef37b14f9141f58": {
      "model_module": "@jupyter-widgets/controls",
      "model_module_version": "1.5.0",
      "model_name": "ProgressStyleModel",
      "state": {
       "description_width": "initial"
      }
     },
     "171d18e8dc164510927698473e9eec9f": {
      "model_module": "@jupyter-widgets/controls",
      "model_module_version": "1.5.0",
      "model_name": "FloatProgressModel",
      "state": {
       "bar_style": "danger",
       "description": "Train:   0%",
       "layout": "IPY_MODEL_909a4cfec82145058b864902f0cf37ce",
       "max": 23,
       "style": "IPY_MODEL_d507924524824b1c8abfc525d46a94ee"
      }
     },
     "173a645efc5f42f394907eb5acff40e9": {
      "model_module": "@jupyter-widgets/controls",
      "model_module_version": "1.5.0",
      "model_name": "DescriptionStyleModel",
      "state": {
       "description_width": ""
      }
     },
     "176f4e0b8aff455aa70ab88e2897fb0d": {
      "model_module": "@jupyter-widgets/base",
      "model_module_version": "1.2.0",
      "model_name": "LayoutModel",
      "state": {}
     },
     "1783a2eb419643d7ad66c8294af81575": {
      "model_module": "@jupyter-widgets/base",
      "model_module_version": "1.2.0",
      "model_name": "LayoutModel",
      "state": {}
     },
     "17861cae6f664700aa22cc4699a7c773": {
      "model_module": "@jupyter-widgets/controls",
      "model_module_version": "1.5.0",
      "model_name": "HBoxModel",
      "state": {
       "children": [
        "IPY_MODEL_ac83baa7baef490bb9946fcc1aef1531",
        "IPY_MODEL_d93ceb8bb01d42e3aadd91ca7ec004a3"
       ],
       "layout": "IPY_MODEL_96d6e7881e544d1d9bfec2dea9a424ed"
      }
     },
     "178b9e0cd49e49e48937a5a5612a5fba": {
      "model_module": "@jupyter-widgets/base",
      "model_module_version": "1.2.0",
      "model_name": "LayoutModel",
      "state": {}
     },
     "178e6e99d60a4857a6069eb6d5208187": {
      "model_module": "@jupyter-widgets/controls",
      "model_module_version": "1.5.0",
      "model_name": "DescriptionStyleModel",
      "state": {
       "description_width": ""
      }
     },
     "179183711e4a44dabfd80fcffde37b14": {
      "model_module": "@jupyter-widgets/controls",
      "model_module_version": "1.5.0",
      "model_name": "FloatProgressModel",
      "state": {
       "bar_style": "danger",
       "description": "Valid iteration=0:   0%",
       "layout": "IPY_MODEL_ee81aaf6ec8444f88c87bda34823659a",
       "max": 5000,
       "style": "IPY_MODEL_fe72a663b3c44e33b3848255d9338063",
       "value": 2
      }
     },
     "17af1d744004461183565bc205608064": {
      "model_module": "@jupyter-widgets/controls",
      "model_module_version": "1.5.0",
      "model_name": "HTMLModel",
      "state": {
       "layout": "IPY_MODEL_cbd1c77b29d243f2a44204c471bd1d78",
       "style": "IPY_MODEL_d4d77f7f1cb8431a982d55ed0fda7211",
       "value": " 0/10000 [20:56&lt;?, ?it/s]"
      }
     },
     "17baaf001fe24ea08dfdca5e15a1c356": {
      "model_module": "@jupyter-widgets/controls",
      "model_module_version": "1.5.0",
      "model_name": "DescriptionStyleModel",
      "state": {
       "description_width": ""
      }
     },
     "17cf85f3529c44bcb9b7b2a791d30af7": {
      "model_module": "@jupyter-widgets/controls",
      "model_module_version": "1.5.0",
      "model_name": "FloatProgressModel",
      "state": {
       "bar_style": "danger",
       "description": "Train:   0%",
       "layout": "IPY_MODEL_7d8c9787caba4a96bb0e7e64078d5dcc",
       "max": 12,
       "style": "IPY_MODEL_ede58298e1db47bc8c97a1a9c52f4412"
      }
     },
     "17de5d9d9e8b4b53b8780c4519185100": {
      "model_module": "@jupyter-widgets/controls",
      "model_module_version": "1.5.0",
      "model_name": "HTMLModel",
      "state": {
       "layout": "IPY_MODEL_7d6a2f2832e14c578386ba533b5d1427",
       "style": "IPY_MODEL_1ea9ea937169455ea97ce3ceb023fc96",
       "value": " 0/45000 [04:46&lt;?, ?it/s]"
      }
     },
     "1808624a3b5c4e9ba089652e1405ab9c": {
      "model_module": "@jupyter-widgets/base",
      "model_module_version": "1.2.0",
      "model_name": "LayoutModel",
      "state": {}
     },
     "181a11fecbcd430e82f0034c0eacdfac": {
      "model_module": "@jupyter-widgets/controls",
      "model_module_version": "1.5.0",
      "model_name": "HTMLModel",
      "state": {
       "layout": "IPY_MODEL_ac590c4d384549299b9ef7a98b4c1004",
       "style": "IPY_MODEL_36d2ad178a0546fcaa1bbb66938ec18b",
       "value": " 0/23 [03:19&lt;?, ?it/s]"
      }
     },
     "182a234ceb7a40d49959bcbecbff0318": {
      "model_module": "@jupyter-widgets/controls",
      "model_module_version": "1.5.0",
      "model_name": "FloatProgressModel",
      "state": {
       "bar_style": "danger",
       "description": "Valid iteration=1000:   0%",
       "layout": "IPY_MODEL_f960278df9c6471d83cdcbbf6bdaaa13",
       "max": 5000,
       "style": "IPY_MODEL_48fc7e8536fc4503a6a721b829b06209"
      }
     },
     "18361a99cef3432797d054c217832542": {
      "model_module": "@jupyter-widgets/base",
      "model_module_version": "1.2.0",
      "model_name": "LayoutModel",
      "state": {}
     },
     "186d23bf56e844e4870aacb8ec4dfd00": {
      "model_module": "@jupyter-widgets/controls",
      "model_module_version": "1.5.0",
      "model_name": "DescriptionStyleModel",
      "state": {
       "description_width": ""
      }
     },
     "1880ad2d7f0c47cda1403ef8d4ddd4d4": {
      "model_module": "@jupyter-widgets/controls",
      "model_module_version": "1.5.0",
      "model_name": "DescriptionStyleModel",
      "state": {
       "description_width": ""
      }
     },
     "189b49f9657f4c59bc8afc45f97933b8": {
      "model_module": "@jupyter-widgets/controls",
      "model_module_version": "1.5.0",
      "model_name": "DescriptionStyleModel",
      "state": {
       "description_width": ""
      }
     },
     "18b711a87c5d4357897050e7f69d2c79": {
      "model_module": "@jupyter-widgets/controls",
      "model_module_version": "1.5.0",
      "model_name": "ProgressStyleModel",
      "state": {
       "description_width": "initial"
      }
     },
     "18c2ef885cf54611913fb293c74bcf0f": {
      "model_module": "@jupyter-widgets/base",
      "model_module_version": "1.2.0",
      "model_name": "LayoutModel",
      "state": {}
     },
     "18e2100680364b06974b229c3c8a8b8d": {
      "model_module": "@jupyter-widgets/controls",
      "model_module_version": "1.5.0",
      "model_name": "ProgressStyleModel",
      "state": {
       "description_width": "initial"
      }
     },
     "18fe8846aa72425888f6e17d15ed90f1": {
      "model_module": "@jupyter-widgets/base",
      "model_module_version": "1.2.0",
      "model_name": "LayoutModel",
      "state": {}
     },
     "18fecdbd8c1f4ac6be02b5e3c24f4efc": {
      "model_module": "@jupyter-widgets/base",
      "model_module_version": "1.2.0",
      "model_name": "LayoutModel",
      "state": {}
     },
     "1926280c42c64487b4c0ef81c7d8ccae": {
      "model_module": "@jupyter-widgets/controls",
      "model_module_version": "1.5.0",
      "model_name": "ProgressStyleModel",
      "state": {
       "description_width": "initial"
      }
     },
     "19398264672a4a1b9f63d52f7fca41a3": {
      "model_module": "@jupyter-widgets/base",
      "model_module_version": "1.2.0",
      "model_name": "LayoutModel",
      "state": {}
     },
     "193c4b10b9814e9ea3eafd06007e05fc": {
      "model_module": "@jupyter-widgets/controls",
      "model_module_version": "1.5.0",
      "model_name": "HTMLModel",
      "state": {
       "layout": "IPY_MODEL_ff751d68813b43a88087f7c517b3969f",
       "style": "IPY_MODEL_6177505960a340619c7cf6f45d47f10c",
       "value": " 0/12 [01:02&lt;?, ?it/s]"
      }
     },
     "1941b25c94df46618f9155d87874e1d0": {
      "model_module": "@jupyter-widgets/base",
      "model_module_version": "1.2.0",
      "model_name": "LayoutModel",
      "state": {}
     },
     "1943602648bd481ea37a9822d122f604": {
      "model_module": "@jupyter-widgets/controls",
      "model_module_version": "1.5.0",
      "model_name": "DescriptionStyleModel",
      "state": {
       "description_width": ""
      }
     },
     "195771fc601b418586bdd432fc3cfbff": {
      "model_module": "@jupyter-widgets/controls",
      "model_module_version": "1.5.0",
      "model_name": "HBoxModel",
      "state": {
       "children": [
        "IPY_MODEL_763dd323925e4efbbf66d5b3394088d5",
        "IPY_MODEL_a58e1181b0ea498991ed11801a501d94"
       ],
       "layout": "IPY_MODEL_7f777f79ea6047b5ad65ea2b15a5b817"
      }
     },
     "197a05759f19411a866dd41b6d2b7621": {
      "model_module": "@jupyter-widgets/controls",
      "model_module_version": "1.5.0",
      "model_name": "HBoxModel",
      "state": {
       "children": [
        "IPY_MODEL_960127a19ebf4889a0855bd8c9f568ca",
        "IPY_MODEL_93253cbb40c64f2eaa2f9cf1fd48d31f"
       ],
       "layout": "IPY_MODEL_d6dcf9f30b114ccaa5a2bd9b5186fd52"
      }
     },
     "1989a664cc3f455b80d44e87c2f9b29c": {
      "model_module": "@jupyter-widgets/controls",
      "model_module_version": "1.5.0",
      "model_name": "FloatProgressModel",
      "state": {
       "bar_style": "danger",
       "description": "Valid iteration=0:   0%",
       "layout": "IPY_MODEL_abe39451003044098187e99e8c513408",
       "max": 10000,
       "style": "IPY_MODEL_3b12b734e0af4ed89ec3abf8b8801fb8"
      }
     },
     "19903bf60d0746b8a42ee5b69871a0f5": {
      "model_module": "@jupyter-widgets/controls",
      "model_module_version": "1.5.0",
      "model_name": "HTMLModel",
      "state": {
       "layout": "IPY_MODEL_8152e1b2b6974e0eac278778e895f470",
       "style": "IPY_MODEL_4cdf67c3b6d74ca4ae6d9922676fd011",
       "value": " 78/90000 [00:03&lt;57:02, 26.27it/s]"
      }
     },
     "19b6dd2346c043819cd83be96badeb53": {
      "model_module": "@jupyter-widgets/base",
      "model_module_version": "1.2.0",
      "model_name": "LayoutModel",
      "state": {}
     },
     "19bfaefbdb844fefa582b85419c4221c": {
      "model_module": "@jupyter-widgets/controls",
      "model_module_version": "1.5.0",
      "model_name": "HBoxModel",
      "state": {
       "children": [
        "IPY_MODEL_53d7e6376bbe429ba060dcbc45a6ae83",
        "IPY_MODEL_a842bff0a4334c13a4be0de90adf39cc"
       ],
       "layout": "IPY_MODEL_ca896bb08ae74a708f2028d3a69581c8"
      }
     },
     "19eca4660f1e40149d270f4fdacf139f": {
      "model_module": "@jupyter-widgets/controls",
      "model_module_version": "1.5.0",
      "model_name": "HTMLModel",
      "state": {
       "layout": "IPY_MODEL_30fcfe83cb644c7b93bc97c0ebf18a2a",
       "style": "IPY_MODEL_de906daf9e664c5695ac9ffa9b9e4b9e",
       "value": " 0/23 [29:40&lt;?, ?it/s]"
      }
     },
     "1a0f504bc37c4f86849e0ba0b9101c8b": {
      "model_module": "@jupyter-widgets/base",
      "model_module_version": "1.2.0",
      "model_name": "LayoutModel",
      "state": {}
     },
     "1a109c8621e548549d1b6efc772cac7b": {
      "model_module": "@jupyter-widgets/base",
      "model_module_version": "1.2.0",
      "model_name": "LayoutModel",
      "state": {}
     },
     "1a4b676a7a9442648994c172be4c4d8b": {
      "model_module": "@jupyter-widgets/controls",
      "model_module_version": "1.5.0",
      "model_name": "ProgressStyleModel",
      "state": {
       "description_width": "initial"
      }
     },
     "1a5f7b01bde74c449450460b30cde0ef": {
      "model_module": "@jupyter-widgets/controls",
      "model_module_version": "1.5.0",
      "model_name": "FloatProgressModel",
      "state": {
       "bar_style": "danger",
       "description": "Valid iteration=0:   0%",
       "layout": "IPY_MODEL_f045cd4fbcb9407bb4182b5709beaaee",
       "max": 5000,
       "style": "IPY_MODEL_c049444c947a4a6f856001ec4bfa43ee"
      }
     },
     "1a6d40dffb8842aa9c28d454581d33fd": {
      "model_module": "@jupyter-widgets/controls",
      "model_module_version": "1.5.0",
      "model_name": "FloatProgressModel",
      "state": {
       "bar_style": "danger",
       "description": "Valid iteration=4000:   0%",
       "layout": "IPY_MODEL_09cfdd42c0fb4b7285b91ce2f1a6510d",
       "max": 5000,
       "style": "IPY_MODEL_e2af6fa7cfee4967b93928e4a8704245"
      }
     },
     "1a96262252ee4a7fb2a80cd5d427d972": {
      "model_module": "@jupyter-widgets/base",
      "model_module_version": "1.2.0",
      "model_name": "LayoutModel",
      "state": {}
     },
     "1a9a02f25d9741cc89c3a9197574e5f0": {
      "model_module": "@jupyter-widgets/base",
      "model_module_version": "1.2.0",
      "model_name": "LayoutModel",
      "state": {}
     },
     "1acc16b99c0d4a0e9bfc71ac074b63ea": {
      "model_module": "@jupyter-widgets/base",
      "model_module_version": "1.2.0",
      "model_name": "LayoutModel",
      "state": {}
     },
     "1ad2d4ef3d734a3b8b0f2c23a725de51": {
      "model_module": "@jupyter-widgets/controls",
      "model_module_version": "1.5.0",
      "model_name": "HTMLModel",
      "state": {
       "layout": "IPY_MODEL_1a96262252ee4a7fb2a80cd5d427d972",
       "style": "IPY_MODEL_0b2234180bab4860a059727cfa866fc1",
       "value": " 0/12 [02:30&lt;?, ?it/s]"
      }
     },
     "1ae7465b1ce4463bb2a79811a0cae832": {
      "model_module": "@jupyter-widgets/base",
      "model_module_version": "1.2.0",
      "model_name": "LayoutModel",
      "state": {}
     },
     "1aeaa5612bb3422297548194a89ebb5c": {
      "model_module": "@jupyter-widgets/base",
      "model_module_version": "1.2.0",
      "model_name": "LayoutModel",
      "state": {}
     },
     "1b2ffc042a474fbcab7c2ae92f3fd132": {
      "model_module": "@jupyter-widgets/base",
      "model_module_version": "1.2.0",
      "model_name": "LayoutModel",
      "state": {}
     },
     "1b55dde9bdf1416689063efbb5e81a7f": {
      "model_module": "@jupyter-widgets/controls",
      "model_module_version": "1.5.0",
      "model_name": "ProgressStyleModel",
      "state": {
       "description_width": "initial"
      }
     },
     "1b86004f9479497bb8072b46f71c642e": {
      "model_module": "@jupyter-widgets/controls",
      "model_module_version": "1.5.0",
      "model_name": "ProgressStyleModel",
      "state": {
       "description_width": "initial"
      }
     },
     "1b97f3df0c6947e7a3c2a1189265cf63": {
      "model_module": "@jupyter-widgets/controls",
      "model_module_version": "1.5.0",
      "model_name": "ProgressStyleModel",
      "state": {
       "description_width": "initial"
      }
     },
     "1ba39da03aa34cc7a55c1cd928e5cefc": {
      "model_module": "@jupyter-widgets/base",
      "model_module_version": "1.2.0",
      "model_name": "LayoutModel",
      "state": {}
     },
     "1bb115a1f8054675b07581584a824932": {
      "model_module": "@jupyter-widgets/controls",
      "model_module_version": "1.5.0",
      "model_name": "DescriptionStyleModel",
      "state": {
       "description_width": ""
      }
     },
     "1bce104c480245ed8055a278f857f0e5": {
      "model_module": "@jupyter-widgets/controls",
      "model_module_version": "1.5.0",
      "model_name": "HTMLModel",
      "state": {
       "layout": "IPY_MODEL_a67b4011142d4cc88cfe728249aab74c",
       "style": "IPY_MODEL_cf134e979ad146d7b7cc1e11fccb08a3",
       "value": " 0/10000 [43:26&lt;?, ?it/s]"
      }
     },
     "1bce9ab14a54426b82fc4861adac3730": {
      "model_module": "@jupyter-widgets/controls",
      "model_module_version": "1.5.0",
      "model_name": "HTMLModel",
      "state": {
       "layout": "IPY_MODEL_a12e59dae217457aa33ab3a6cb030d02",
       "style": "IPY_MODEL_354d4bc5922d41e0b3ca3a805a5e88c3",
       "value": " 0/90000 [00:28&lt;?, ?it/s]"
      }
     },
     "1bde0c6e14ec492aab3a8d66637f1a23": {
      "model_module": "@jupyter-widgets/base",
      "model_module_version": "1.2.0",
      "model_name": "LayoutModel",
      "state": {}
     },
     "1bf28716c9be4e99b2cbf82fed9f0588": {
      "model_module": "@jupyter-widgets/base",
      "model_module_version": "1.2.0",
      "model_name": "LayoutModel",
      "state": {}
     },
     "1c134f427b044f9bb16114bc84b8980a": {
      "model_module": "@jupyter-widgets/controls",
      "model_module_version": "1.5.0",
      "model_name": "HBoxModel",
      "state": {
       "children": [
        "IPY_MODEL_c4faa74bfdbe463ab212228163eaee9c",
        "IPY_MODEL_d06c1eefa651499b8babb8601e81aa6d"
       ],
       "layout": "IPY_MODEL_b1ca2435ccec4768af53877c20ddf6a0"
      }
     },
     "1c2e21d9f69342b8a1120d8c1d6e1977": {
      "model_module": "@jupyter-widgets/base",
      "model_module_version": "1.2.0",
      "model_name": "LayoutModel",
      "state": {}
     },
     "1c40f28a88de4cc897e009b5211bfcfe": {
      "model_module": "@jupyter-widgets/controls",
      "model_module_version": "1.5.0",
      "model_name": "FloatProgressModel",
      "state": {
       "bar_style": "danger",
       "description": "Train:   0%",
       "layout": "IPY_MODEL_7d3033b6c35f4d6fb48e5699aca642b9",
       "max": 12,
       "style": "IPY_MODEL_15f3f7c04f0d4394bcb23b4cd9ddcc1a"
      }
     },
     "1c60f9a68bba445f80ff6a8dbb60a09b": {
      "model_module": "@jupyter-widgets/controls",
      "model_module_version": "1.5.0",
      "model_name": "HTMLModel",
      "state": {
       "layout": "IPY_MODEL_03ed9c12913c44358bc638647c151e70",
       "style": "IPY_MODEL_b1ea9c2e82e64654928c47a64cf6dba9",
       "value": " 0/10000 [01:44&lt;?, ?it/s]"
      }
     },
     "1c7748fed9e547fa933528296512a7dc": {
      "model_module": "@jupyter-widgets/base",
      "model_module_version": "1.2.0",
      "model_name": "LayoutModel",
      "state": {}
     },
     "1c776ee468f447a49170d2204b388277": {
      "model_module": "@jupyter-widgets/controls",
      "model_module_version": "1.5.0",
      "model_name": "DescriptionStyleModel",
      "state": {
       "description_width": ""
      }
     },
     "1c8150fbfa5845079455a597ce745874": {
      "model_module": "@jupyter-widgets/base",
      "model_module_version": "1.2.0",
      "model_name": "LayoutModel",
      "state": {}
     },
     "1c92f4f6d87142328b1f2f98915874e0": {
      "model_module": "@jupyter-widgets/controls",
      "model_module_version": "1.5.0",
      "model_name": "FloatProgressModel",
      "state": {
       "bar_style": "danger",
       "description": "Train epoch=0:   0%",
       "layout": "IPY_MODEL_8783afa649e143929b5982fac2cd1aba",
       "max": 90000,
       "style": "IPY_MODEL_ceecf9bbb62a401eaba6dc9842d3fba4",
       "value": 30
      }
     },
     "1cb0e9411ecf42f3adccc8914f683e78": {
      "model_module": "@jupyter-widgets/base",
      "model_module_version": "1.2.0",
      "model_name": "LayoutModel",
      "state": {}
     },
     "1cbaf921c0a04390b270b60507664e43": {
      "model_module": "@jupyter-widgets/base",
      "model_module_version": "1.2.0",
      "model_name": "LayoutModel",
      "state": {}
     },
     "1cc5a5909a704bcc84ea734c9346504f": {
      "model_module": "@jupyter-widgets/base",
      "model_module_version": "1.2.0",
      "model_name": "LayoutModel",
      "state": {}
     },
     "1cd766123af0406dbad8f21eb575027c": {
      "model_module": "@jupyter-widgets/controls",
      "model_module_version": "1.5.0",
      "model_name": "DescriptionStyleModel",
      "state": {
       "description_width": ""
      }
     },
     "1ce15f28bc4c4caba021fb0723dc3393": {
      "model_module": "@jupyter-widgets/controls",
      "model_module_version": "1.5.0",
      "model_name": "DescriptionStyleModel",
      "state": {
       "description_width": ""
      }
     },
     "1ce4002622394d368854acd330b62072": {
      "model_module": "@jupyter-widgets/controls",
      "model_module_version": "1.5.0",
      "model_name": "DescriptionStyleModel",
      "state": {
       "description_width": ""
      }
     },
     "1d0366f9e16843c58dde75c1261f1573": {
      "model_module": "@jupyter-widgets/base",
      "model_module_version": "1.2.0",
      "model_name": "LayoutModel",
      "state": {}
     },
     "1d06a6847ce1402bbacadc3c9dd1cbc6": {
      "model_module": "@jupyter-widgets/base",
      "model_module_version": "1.2.0",
      "model_name": "LayoutModel",
      "state": {}
     },
     "1d0bcc0a86644bfa9a5d0e6a8373b37b": {
      "model_module": "@jupyter-widgets/base",
      "model_module_version": "1.2.0",
      "model_name": "LayoutModel",
      "state": {}
     },
     "1d1080768a324c888c629bfbfc8ef5d4": {
      "model_module": "@jupyter-widgets/controls",
      "model_module_version": "1.5.0",
      "model_name": "HTMLModel",
      "state": {
       "layout": "IPY_MODEL_068ca6f861d84a05a65745f58e517097",
       "style": "IPY_MODEL_ca3f84f9283c4407bc9b7cb3bd6fbe90",
       "value": " 0/90000 [01:38&lt;?, ?it/s]"
      }
     },
     "1d1de2df125f4a44aedab3d9cea631e9": {
      "model_module": "@jupyter-widgets/base",
      "model_module_version": "1.2.0",
      "model_name": "LayoutModel",
      "state": {}
     },
     "1d20c4dd0da04448935a43b1615fe363": {
      "model_module": "@jupyter-widgets/controls",
      "model_module_version": "1.5.0",
      "model_name": "DescriptionStyleModel",
      "state": {
       "description_width": ""
      }
     },
     "1d47adc67de34f829a523eb7dda176d3": {
      "model_module": "@jupyter-widgets/controls",
      "model_module_version": "1.5.0",
      "model_name": "HTMLModel",
      "state": {
       "layout": "IPY_MODEL_df760944798e449b8e3e23806b2d8af3",
       "style": "IPY_MODEL_a025f45f0faf400dbecfb52c87aaaf19",
       "value": " 0/5000 [00:01&lt;?, ?it/s]"
      }
     },
     "1d5c4d0b45f4469db19dba1039f7ba49": {
      "model_module": "@jupyter-widgets/controls",
      "model_module_version": "1.5.0",
      "model_name": "ProgressStyleModel",
      "state": {
       "description_width": "initial"
      }
     },
     "1d67084d72674a95a415d9620d25cfc5": {
      "model_module": "@jupyter-widgets/base",
      "model_module_version": "1.2.0",
      "model_name": "LayoutModel",
      "state": {}
     },
     "1d7002a3b72646c6b39c926615d4ff67": {
      "model_module": "@jupyter-widgets/base",
      "model_module_version": "1.2.0",
      "model_name": "LayoutModel",
      "state": {}
     },
     "1d7231b9f8a24230bd5f5cb667645c85": {
      "model_module": "@jupyter-widgets/base",
      "model_module_version": "1.2.0",
      "model_name": "LayoutModel",
      "state": {}
     },
     "1d844e52952b46fcb4288d366f31ef00": {
      "model_module": "@jupyter-widgets/controls",
      "model_module_version": "1.5.0",
      "model_name": "HBoxModel",
      "state": {
       "children": [
        "IPY_MODEL_7bd48d8769f140088682897676805838",
        "IPY_MODEL_fd7e86cf5bca44e5a8dc3ecc0a7a9dc3"
       ],
       "layout": "IPY_MODEL_b13daf3fe292438498403c20888fce49"
      }
     },
     "1d999462e5974e0cb9e352b17d00ddcb": {
      "model_module": "@jupyter-widgets/base",
      "model_module_version": "1.2.0",
      "model_name": "LayoutModel",
      "state": {}
     },
     "1d9ed5b0eb9f4751a25316445341e1ca": {
      "model_module": "@jupyter-widgets/controls",
      "model_module_version": "1.5.0",
      "model_name": "ProgressStyleModel",
      "state": {
       "description_width": "initial"
      }
     },
     "1da78d769f3d444384603ff355eb27a5": {
      "model_module": "@jupyter-widgets/controls",
      "model_module_version": "1.5.0",
      "model_name": "ProgressStyleModel",
      "state": {
       "description_width": "initial"
      }
     },
     "1dc041304aa549918ab6286698539c61": {
      "model_module": "@jupyter-widgets/controls",
      "model_module_version": "1.5.0",
      "model_name": "HTMLModel",
      "state": {
       "layout": "IPY_MODEL_1c8150fbfa5845079455a597ce745874",
       "style": "IPY_MODEL_53b5f5d1f0bf4f88b67b0fbfda0a2b2e",
       "value": " 0/23 [09:17&lt;?, ?it/s]"
      }
     },
     "1dcaf8fd6003412dbe2864350e988629": {
      "model_module": "@jupyter-widgets/base",
      "model_module_version": "1.2.0",
      "model_name": "LayoutModel",
      "state": {}
     },
     "1ddcffae8a8b46a1bff1ff4430e01cdc": {
      "model_module": "@jupyter-widgets/base",
      "model_module_version": "1.2.0",
      "model_name": "LayoutModel",
      "state": {}
     },
     "1de024bb402f4b17b091545b63fd024b": {
      "model_module": "@jupyter-widgets/controls",
      "model_module_version": "1.5.0",
      "model_name": "FloatProgressModel",
      "state": {
       "bar_style": "danger",
       "description": "Train epoch=0:   0%",
       "layout": "IPY_MODEL_3202525cd92e4e98a0c7393a1a8cb0e5",
       "max": 90000,
       "style": "IPY_MODEL_fd93df1948374b7e9fb0b9e820e9fdc6",
       "value": 99
      }
     },
     "1df39978e0f84cc0865099004e089d1c": {
      "model_module": "@jupyter-widgets/controls",
      "model_module_version": "1.5.0",
      "model_name": "DescriptionStyleModel",
      "state": {
       "description_width": ""
      }
     },
     "1e0b1b1113d542aea9894b66c86aedbf": {
      "model_module": "@jupyter-widgets/controls",
      "model_module_version": "1.5.0",
      "model_name": "ProgressStyleModel",
      "state": {
       "description_width": "initial"
      }
     },
     "1e12f769d26246589cbd9785cbf3475d": {
      "model_module": "@jupyter-widgets/controls",
      "model_module_version": "1.5.0",
      "model_name": "DescriptionStyleModel",
      "state": {
       "description_width": ""
      }
     },
     "1e25b5a6094b4d9a8cd3d555291b96fc": {
      "model_module": "@jupyter-widgets/base",
      "model_module_version": "1.2.0",
      "model_name": "LayoutModel",
      "state": {}
     },
     "1e402190242c44a99c1dbd7e7b353cfc": {
      "model_module": "@jupyter-widgets/controls",
      "model_module_version": "1.5.0",
      "model_name": "DescriptionStyleModel",
      "state": {
       "description_width": ""
      }
     },
     "1e8b4c5dfff44e64bfba23bd20dcfca7": {
      "model_module": "@jupyter-widgets/controls",
      "model_module_version": "1.5.0",
      "model_name": "ProgressStyleModel",
      "state": {
       "description_width": "initial"
      }
     },
     "1e9193d4cf1d4f62bccbf533da4d79cc": {
      "model_module": "@jupyter-widgets/controls",
      "model_module_version": "1.5.0",
      "model_name": "HBoxModel",
      "state": {
       "children": [
        "IPY_MODEL_b6debf8fe23c406bb8301c0b625fecee",
        "IPY_MODEL_af47052e21fd40679a241a953a42f230"
       ],
       "layout": "IPY_MODEL_e2b65b71e3d243f5aac9f430ea96627f"
      }
     },
     "1ea9ea937169455ea97ce3ceb023fc96": {
      "model_module": "@jupyter-widgets/controls",
      "model_module_version": "1.5.0",
      "model_name": "DescriptionStyleModel",
      "state": {
       "description_width": ""
      }
     },
     "1eaa9cb3b6ba4445a13baf86bafbc862": {
      "model_module": "@jupyter-widgets/base",
      "model_module_version": "1.2.0",
      "model_name": "LayoutModel",
      "state": {}
     },
     "1eae0acb1b9044e8bb8e078ab9ab6c0d": {
      "model_module": "@jupyter-widgets/controls",
      "model_module_version": "1.5.0",
      "model_name": "HTMLModel",
      "state": {
       "layout": "IPY_MODEL_050a3c5c478846fc962b16e765d75dc3",
       "style": "IPY_MODEL_01b8ac2c62444562ba1d9fc028062b42",
       "value": " 0/12 [01:13&lt;?, ?it/s]"
      }
     },
     "1ee72eca0ce14e178185abfb3d20f018": {
      "model_module": "@jupyter-widgets/controls",
      "model_module_version": "1.5.0",
      "model_name": "FloatProgressModel",
      "state": {
       "bar_style": "danger",
       "description": "Train epoch=0:   0%",
       "layout": "IPY_MODEL_2d9e779160a84776876896220d19656b",
       "max": 90000,
       "style": "IPY_MODEL_8246f03cd45646f0888b547ccd6c49bc",
       "value": 37
      }
     },
     "1ef7db765fdc43bbb1071a12af12ef51": {
      "model_module": "@jupyter-widgets/controls",
      "model_module_version": "1.5.0",
      "model_name": "FloatProgressModel",
      "state": {
       "bar_style": "danger",
       "description": "Valid iteration=0:   0%",
       "layout": "IPY_MODEL_e2fca411fd434fbbbc991299e5fc9dcd",
       "max": 10000,
       "style": "IPY_MODEL_6dde1a6bbab446f180e0200e5dc55d51"
      }
     },
     "1f079dcc6f2348d2adea8ae2e5f6ed8e": {
      "model_module": "@jupyter-widgets/base",
      "model_module_version": "1.2.0",
      "model_name": "LayoutModel",
      "state": {}
     },
     "1f10146b4a424ce0bdf007e412aefdd9": {
      "model_module": "@jupyter-widgets/base",
      "model_module_version": "1.2.0",
      "model_name": "LayoutModel",
      "state": {}
     },
     "1f17a0a2f1b64a24b4ee73a965ce7b35": {
      "model_module": "@jupyter-widgets/controls",
      "model_module_version": "1.5.0",
      "model_name": "ProgressStyleModel",
      "state": {
       "description_width": "initial"
      }
     },
     "1f1f4c2db93e4723aa87a1897b6d34f0": {
      "model_module": "@jupyter-widgets/controls",
      "model_module_version": "1.5.0",
      "model_name": "ProgressStyleModel",
      "state": {
       "description_width": "initial"
      }
     },
     "1f201bebf81d461fafe29e0e95186229": {
      "model_module": "@jupyter-widgets/controls",
      "model_module_version": "1.5.0",
      "model_name": "HBoxModel",
      "state": {
       "children": [
        "IPY_MODEL_b65e82e532e94525b5c9eb32ecec1bad",
        "IPY_MODEL_86809217e18b43f7ba260b03d6883bc0"
       ],
       "layout": "IPY_MODEL_ba931e51145a42a4896e9463bc786e00"
      }
     },
     "1f252c5c909d4225aa1f477e2500a0cb": {
      "model_module": "@jupyter-widgets/base",
      "model_module_version": "1.2.0",
      "model_name": "LayoutModel",
      "state": {}
     },
     "1f3027b49ff44b5eba0612fa088749e3": {
      "model_module": "@jupyter-widgets/controls",
      "model_module_version": "1.5.0",
      "model_name": "HTMLModel",
      "state": {
       "layout": "IPY_MODEL_cb6ffb6d414f4f169dddfe092236550e",
       "style": "IPY_MODEL_c9132eb147f643d0a8283ff9d377b257",
       "value": " 219/45000 [01:24&lt;5:10:39,  2.40it/s]"
      }
     },
     "1f69ca78865e452896269de8b3641dce": {
      "model_module": "@jupyter-widgets/base",
      "model_module_version": "1.2.0",
      "model_name": "LayoutModel",
      "state": {}
     },
     "1f8afbed3fa746489dd47991f76366a3": {
      "model_module": "@jupyter-widgets/controls",
      "model_module_version": "1.5.0",
      "model_name": "HBoxModel",
      "state": {
       "children": [
        "IPY_MODEL_2bc480e5942944d7b064ea1001ce303c",
        "IPY_MODEL_93370cd7b1664326a1e606db87650388"
       ],
       "layout": "IPY_MODEL_5c08febff61d426daf593e69c515dbaa"
      }
     },
     "1f8dbc36558d4b3c8450c3b456787f59": {
      "model_module": "@jupyter-widgets/base",
      "model_module_version": "1.2.0",
      "model_name": "LayoutModel",
      "state": {}
     },
     "1f9217b129024d58acf21217c2390b5d": {
      "model_module": "@jupyter-widgets/controls",
      "model_module_version": "1.5.0",
      "model_name": "FloatProgressModel",
      "state": {
       "bar_style": "danger",
       "description": "Train:   0%",
       "layout": "IPY_MODEL_bafc1b0c1cb94b31abcc196fe12c68de",
       "max": 12,
       "style": "IPY_MODEL_93f95ea27fa64c2a8c427dc5cb9be675"
      }
     },
     "1fc58cde4dd94277a05e3781f1c507cb": {
      "model_module": "@jupyter-widgets/controls",
      "model_module_version": "1.5.0",
      "model_name": "DescriptionStyleModel",
      "state": {
       "description_width": ""
      }
     },
     "2001720533484e0faf01cf139fb5b2eb": {
      "model_module": "@jupyter-widgets/base",
      "model_module_version": "1.2.0",
      "model_name": "LayoutModel",
      "state": {}
     },
     "202d48832e4b47cdbfbf0b0662fc5148": {
      "model_module": "@jupyter-widgets/base",
      "model_module_version": "1.2.0",
      "model_name": "LayoutModel",
      "state": {}
     },
     "202edc11aa064f1580287b5aed5d6ecd": {
      "model_module": "@jupyter-widgets/base",
      "model_module_version": "1.2.0",
      "model_name": "LayoutModel",
      "state": {}
     },
     "2085f2b956e24b28ba56c4b597fd6ad5": {
      "model_module": "@jupyter-widgets/controls",
      "model_module_version": "1.5.0",
      "model_name": "HBoxModel",
      "state": {
       "children": [
        "IPY_MODEL_00d0f6711cd84263bdeeb5da3b3c0043",
        "IPY_MODEL_04722ee366af429897db842cf04433c6"
       ],
       "layout": "IPY_MODEL_bcdf864f93504a859dc42d6c6fe585ac"
      }
     },
     "209797e11c1d444599a0f6c7dae07a88": {
      "model_module": "@jupyter-widgets/base",
      "model_module_version": "1.2.0",
      "model_name": "LayoutModel",
      "state": {}
     },
     "20a0e6b707b144bfa728802f2e3d8aaa": {
      "model_module": "@jupyter-widgets/base",
      "model_module_version": "1.2.0",
      "model_name": "LayoutModel",
      "state": {}
     },
     "20a8e919283943d68d505a51bb2eae01": {
      "model_module": "@jupyter-widgets/controls",
      "model_module_version": "1.5.0",
      "model_name": "HBoxModel",
      "state": {
       "children": [
        "IPY_MODEL_1c92f4f6d87142328b1f2f98915874e0",
        "IPY_MODEL_f17c058f487e4c2787a68648f03d57a0"
       ],
       "layout": "IPY_MODEL_e470368123f04ed4917333b8dcaef032"
      }
     },
     "20ad9c9022ae4e398a520e198a303603": {
      "model_module": "@jupyter-widgets/controls",
      "model_module_version": "1.5.0",
      "model_name": "DescriptionStyleModel",
      "state": {
       "description_width": ""
      }
     },
     "20c05ca713914e5897a9fd536dbfa1ff": {
      "model_module": "@jupyter-widgets/controls",
      "model_module_version": "1.5.0",
      "model_name": "DescriptionStyleModel",
      "state": {
       "description_width": ""
      }
     },
     "20d349593cf64f2396f73f38807a919a": {
      "model_module": "@jupyter-widgets/controls",
      "model_module_version": "1.5.0",
      "model_name": "HBoxModel",
      "state": {
       "children": [
        "IPY_MODEL_3acedcac7a87463e9c8df885fe15115d",
        "IPY_MODEL_4ade6810b6564f51b61ebc83d460d818"
       ],
       "layout": "IPY_MODEL_db73965b54d8452785f4acfdc44ec9ca"
      }
     },
     "20dd44819fbd44c1938f2f49e4c19699": {
      "model_module": "@jupyter-widgets/base",
      "model_module_version": "1.2.0",
      "model_name": "LayoutModel",
      "state": {}
     },
     "20df71fa77844ffcb9c130fe124f4eda": {
      "model_module": "@jupyter-widgets/base",
      "model_module_version": "1.2.0",
      "model_name": "LayoutModel",
      "state": {}
     },
     "20e84a33c93a4fc2bcafaae942914e04": {
      "model_module": "@jupyter-widgets/base",
      "model_module_version": "1.2.0",
      "model_name": "LayoutModel",
      "state": {}
     },
     "20f69d1571264efdb24a7e6420e20c48": {
      "model_module": "@jupyter-widgets/controls",
      "model_module_version": "1.5.0",
      "model_name": "HTMLModel",
      "state": {
       "layout": "IPY_MODEL_7811c16330194a959abf0a2789b0ef0b",
       "style": "IPY_MODEL_01496fb659dd48978c00d8a35ded08ba",
       "value": " 0/12 [00:11&lt;?, ?it/s]"
      }
     },
     "2105fb02b1554e4e910badc577af92df": {
      "model_module": "@jupyter-widgets/base",
      "model_module_version": "1.2.0",
      "model_name": "LayoutModel",
      "state": {}
     },
     "210f1cb6f5ac4da5ac27bf0b3cf3d746": {
      "model_module": "@jupyter-widgets/controls",
      "model_module_version": "1.5.0",
      "model_name": "DescriptionStyleModel",
      "state": {
       "description_width": ""
      }
     },
     "2118f415d05a47d286286ab893fa0e37": {
      "model_module": "@jupyter-widgets/controls",
      "model_module_version": "1.5.0",
      "model_name": "FloatProgressModel",
      "state": {
       "bar_style": "danger",
       "description": "Valid iteration=0:   0%",
       "layout": "IPY_MODEL_aab7dbe05280419293a7a847fc091246",
       "max": 10000,
       "style": "IPY_MODEL_c846d9cd923145e28e2cb51aed8a54cd"
      }
     },
     "211a8d80f37b4435a1ed80d2bc0bcdc3": {
      "model_module": "@jupyter-widgets/controls",
      "model_module_version": "1.5.0",
      "model_name": "DescriptionStyleModel",
      "state": {
       "description_width": ""
      }
     },
     "2123c13b764f4eac8cc82ff5e2ad033d": {
      "model_module": "@jupyter-widgets/controls",
      "model_module_version": "1.5.0",
      "model_name": "DescriptionStyleModel",
      "state": {
       "description_width": ""
      }
     },
     "2136ac419b7c43d18bf9fc0f391ecd7e": {
      "model_module": "@jupyter-widgets/controls",
      "model_module_version": "1.5.0",
      "model_name": "ProgressStyleModel",
      "state": {
       "description_width": "initial"
      }
     },
     "213c574e18bc45b58b3a75d9a41aeed2": {
      "model_module": "@jupyter-widgets/controls",
      "model_module_version": "1.5.0",
      "model_name": "DescriptionStyleModel",
      "state": {
       "description_width": ""
      }
     },
     "2154272502264b41b3a747bc7208da60": {
      "model_module": "@jupyter-widgets/base",
      "model_module_version": "1.2.0",
      "model_name": "LayoutModel",
      "state": {}
     },
     "2163938879c047cbadb29a26c4745ae6": {
      "model_module": "@jupyter-widgets/controls",
      "model_module_version": "1.5.0",
      "model_name": "DescriptionStyleModel",
      "state": {
       "description_width": ""
      }
     },
     "21ac3a3566fd4a8e86c90d5e07cdf1a5": {
      "model_module": "@jupyter-widgets/controls",
      "model_module_version": "1.5.0",
      "model_name": "FloatProgressModel",
      "state": {
       "bar_style": "danger",
       "description": "Train epoch=0:   0%",
       "layout": "IPY_MODEL_5b8d18f719754bbf871b988ea4ba379b",
       "max": 90000,
       "style": "IPY_MODEL_edc00a071c86498fa0112b2b172ff6f4"
      }
     },
     "21b0d49a62634d7c8bde54eda5440123": {
      "model_module": "@jupyter-widgets/controls",
      "model_module_version": "1.5.0",
      "model_name": "ProgressStyleModel",
      "state": {
       "description_width": "initial"
      }
     },
     "21b129cd7096422c98bbfdbc06f63483": {
      "model_module": "@jupyter-widgets/base",
      "model_module_version": "1.2.0",
      "model_name": "LayoutModel",
      "state": {}
     },
     "21b1fc4804ae42baac6d9bea8ae263f6": {
      "model_module": "@jupyter-widgets/base",
      "model_module_version": "1.2.0",
      "model_name": "LayoutModel",
      "state": {}
     },
     "21db36f373294e689091efd2a0dda712": {
      "model_module": "@jupyter-widgets/controls",
      "model_module_version": "1.5.0",
      "model_name": "ProgressStyleModel",
      "state": {
       "description_width": "initial"
      }
     },
     "21e05561e81f406d9a05eaab4f747459": {
      "model_module": "@jupyter-widgets/base",
      "model_module_version": "1.2.0",
      "model_name": "LayoutModel",
      "state": {}
     },
     "21e54f584fec4765bbd341aba36c55a9": {
      "model_module": "@jupyter-widgets/base",
      "model_module_version": "1.2.0",
      "model_name": "LayoutModel",
      "state": {}
     },
     "21e6744b0bbf40e28ffdb5bdcc4b1510": {
      "model_module": "@jupyter-widgets/controls",
      "model_module_version": "1.5.0",
      "model_name": "HTMLModel",
      "state": {
       "layout": "IPY_MODEL_051ac2a531a64495837b33e2cc5f5f39",
       "style": "IPY_MODEL_e21021f3e96e4567b30f486a229435dd",
       "value": " 0/12 [04:10&lt;?, ?it/s]"
      }
     },
     "21e8c97ae01a4b5b992bb0870dd30468": {
      "model_module": "@jupyter-widgets/base",
      "model_module_version": "1.2.0",
      "model_name": "LayoutModel",
      "state": {}
     },
     "21eff853974f47f49c2d1c3278a615ed": {
      "model_module": "@jupyter-widgets/controls",
      "model_module_version": "1.5.0",
      "model_name": "HTMLModel",
      "state": {
       "layout": "IPY_MODEL_7460c55298c34085a86264496a156632",
       "style": "IPY_MODEL_9425bd6774294b0dbfcc26a3c292f037",
       "value": " 0/10000 [04:03&lt;?, ?it/s]"
      }
     },
     "21f3f198e75a4a669f32bf5864874b49": {
      "model_module": "@jupyter-widgets/controls",
      "model_module_version": "1.5.0",
      "model_name": "FloatProgressModel",
      "state": {
       "bar_style": "danger",
       "description": "Valid iteration=0:   0%",
       "layout": "IPY_MODEL_4c5405fcec214a86a77646c9b0ad3647",
       "max": 10000,
       "style": "IPY_MODEL_ba786698bd1f4c9f817cf31197466c84"
      }
     },
     "21f842dd6c1541148dd16c1de97452d8": {
      "model_module": "@jupyter-widgets/controls",
      "model_module_version": "1.5.0",
      "model_name": "HTMLModel",
      "state": {
       "layout": "IPY_MODEL_dfe2b65d795d4530a5c965399a7b5861",
       "style": "IPY_MODEL_4c3880860a694e03adefafd65f35cb91",
       "value": " 604/90000 [04:05&lt;10:08:23,  2.45it/s]"
      }
     },
     "220441e1ed694fc3960f7ec3124f4c7e": {
      "model_module": "@jupyter-widgets/controls",
      "model_module_version": "1.5.0",
      "model_name": "FloatProgressModel",
      "state": {
       "bar_style": "danger",
       "description": "Train epoch=0:   0%",
       "layout": "IPY_MODEL_fa2191e44ebe4c69864fcb6d60ac9316",
       "max": 90000,
       "style": "IPY_MODEL_7403aeffe6c747439d01567223c5d418"
      }
     },
     "22088478178f47178d6e0debbe4299c8": {
      "model_module": "@jupyter-widgets/base",
      "model_module_version": "1.2.0",
      "model_name": "LayoutModel",
      "state": {}
     },
     "221b4bc1820144388e2f6830e3db0ed7": {
      "model_module": "@jupyter-widgets/controls",
      "model_module_version": "1.5.0",
      "model_name": "HBoxModel",
      "state": {
       "children": [
        "IPY_MODEL_145c2435b8b04e38ad7a01a51b4da1cc",
        "IPY_MODEL_7327df87cb2f476084da5d67571a8df9"
       ],
       "layout": "IPY_MODEL_ec0a02cbac664c749e8dd9ba43ba23e7"
      }
     },
     "2259bf74dbb249f49be4403dfe120ffe": {
      "model_module": "@jupyter-widgets/controls",
      "model_module_version": "1.5.0",
      "model_name": "HBoxModel",
      "state": {
       "children": [
        "IPY_MODEL_7b9ca3e6b70144e7951f61e22322f7d7",
        "IPY_MODEL_ce44b1e7235e4704aa2e5945a2d097ef"
       ],
       "layout": "IPY_MODEL_680c796874784c18bbfe11ebdbecf1a6"
      }
     },
     "22631018c0e54239aca9d2ea11e88789": {
      "model_module": "@jupyter-widgets/controls",
      "model_module_version": "1.5.0",
      "model_name": "ProgressStyleModel",
      "state": {
       "description_width": "initial"
      }
     },
     "228f1a357d3041dbacb5685cc489caa3": {
      "model_module": "@jupyter-widgets/controls",
      "model_module_version": "1.5.0",
      "model_name": "HTMLModel",
      "state": {
       "layout": "IPY_MODEL_be4ef5c5b2774a849656674f605ee4eb",
       "style": "IPY_MODEL_155b16d6ec0f45a08753f5ca6e492343",
       "value": " 0/10000 [00:16&lt;?, ?it/s]"
      }
     },
     "22d80c3aff2d4e4c9c68e561f60cf802": {
      "model_module": "@jupyter-widgets/controls",
      "model_module_version": "1.5.0",
      "model_name": "HBoxModel",
      "state": {
       "children": [
        "IPY_MODEL_04745177126645e0a1edb42cb9ed4e61",
        "IPY_MODEL_28ee5ef314a541f0a9023eba0bd00bfb"
       ],
       "layout": "IPY_MODEL_2f58bb1688c24879a6acb496028c3756"
      }
     },
     "2313faf4b0354759a9c3b8f8aa488d9b": {
      "model_module": "@jupyter-widgets/controls",
      "model_module_version": "1.5.0",
      "model_name": "FloatProgressModel",
      "state": {
       "bar_style": "danger",
       "description": "Valid iteration=0:   0%",
       "layout": "IPY_MODEL_bb187b00904741f888b8ed1f7306a973",
       "max": 10000,
       "style": "IPY_MODEL_89be508fcb18436faf899dcc16471b01"
      }
     },
     "23167644c90b4d21a7306f6fe44c6ab6": {
      "model_module": "@jupyter-widgets/base",
      "model_module_version": "1.2.0",
      "model_name": "LayoutModel",
      "state": {}
     },
     "232830fbd8394878ba79530f0bb601f1": {
      "model_module": "@jupyter-widgets/controls",
      "model_module_version": "1.5.0",
      "model_name": "ProgressStyleModel",
      "state": {
       "description_width": "initial"
      }
     },
     "2339c7a31d9543a086e46ae57bba213c": {
      "model_module": "@jupyter-widgets/controls",
      "model_module_version": "1.5.0",
      "model_name": "HTMLModel",
      "state": {
       "layout": "IPY_MODEL_30d1357afa864263a4b499569f240bd4",
       "style": "IPY_MODEL_de555ce3050e4284b183ef01a10e9530",
       "value": " 0/10000 [00:01&lt;?, ?it/s]"
      }
     },
     "23564a36dd2c41c38a1705dfdebd293b": {
      "model_module": "@jupyter-widgets/base",
      "model_module_version": "1.2.0",
      "model_name": "LayoutModel",
      "state": {}
     },
     "23594f6bb1044f349ed0c94b795a15b9": {
      "model_module": "@jupyter-widgets/controls",
      "model_module_version": "1.5.0",
      "model_name": "HTMLModel",
      "state": {
       "layout": "IPY_MODEL_4c7e83bd04aa4299967f7328f2271373",
       "style": "IPY_MODEL_a7db7eb0843d4a3abc3b33f979773276",
       "value": " 0/12 [01:28&lt;?, ?it/s]"
      }
     },
     "238d7a6845eb4888beb23012a050ca12": {
      "model_module": "@jupyter-widgets/controls",
      "model_module_version": "1.5.0",
      "model_name": "FloatProgressModel",
      "state": {
       "bar_style": "danger",
       "description": "Train:   0%",
       "layout": "IPY_MODEL_8c1fdf091c244566b947e4c7faec3c01",
       "max": 12,
       "style": "IPY_MODEL_4fa0fcbd1bf34472ab04243850700877"
      }
     },
     "23986c6030b5437a9d66278ea373e5a8": {
      "model_module": "@jupyter-widgets/base",
      "model_module_version": "1.2.0",
      "model_name": "LayoutModel",
      "state": {}
     },
     "23cd0ddec51042adb0fa18484d3b9adc": {
      "model_module": "@jupyter-widgets/controls",
      "model_module_version": "1.5.0",
      "model_name": "HTMLModel",
      "state": {
       "layout": "IPY_MODEL_32d2490c473b457db01e3ace76c4a275",
       "style": "IPY_MODEL_1ce4002622394d368854acd330b62072",
       "value": " 0/10000 [00:01&lt;?, ?it/s]"
      }
     },
     "241b6ea2ecc14d349911453b280ca8d3": {
      "model_module": "@jupyter-widgets/base",
      "model_module_version": "1.2.0",
      "model_name": "LayoutModel",
      "state": {}
     },
     "241f868ea488423a8f0635cfb5f5386c": {
      "model_module": "@jupyter-widgets/controls",
      "model_module_version": "1.5.0",
      "model_name": "HTMLModel",
      "state": {
       "layout": "IPY_MODEL_7f94e145fcb94bb0bdf23581428fcdb8",
       "style": "IPY_MODEL_1880ad2d7f0c47cda1403ef8d4ddd4d4",
       "value": " 0/10000 [02:50&lt;?, ?it/s]"
      }
     },
     "24359aa1e963428da44be5a45df5eacf": {
      "model_module": "@jupyter-widgets/base",
      "model_module_version": "1.2.0",
      "model_name": "LayoutModel",
      "state": {}
     },
     "24618250935c422c8c10ddc8f09ba025": {
      "model_module": "@jupyter-widgets/controls",
      "model_module_version": "1.5.0",
      "model_name": "ProgressStyleModel",
      "state": {
       "description_width": "initial"
      }
     },
     "246c4149167446e9a1d45576e9786c23": {
      "model_module": "@jupyter-widgets/controls",
      "model_module_version": "1.5.0",
      "model_name": "HBoxModel",
      "state": {
       "children": [
        "IPY_MODEL_9b6a4b7200bf4daf95fb2511b3e4f2d7",
        "IPY_MODEL_f9192a102c4f4a3c832ff0dae196f6cc"
       ],
       "layout": "IPY_MODEL_41d2aa54534546349bab549342e58cff"
      }
     },
     "247e3fd1a6104ae5bf61a256701f188f": {
      "model_module": "@jupyter-widgets/base",
      "model_module_version": "1.2.0",
      "model_name": "LayoutModel",
      "state": {}
     },
     "248d4d76e21d403e9a1774322fb4f534": {
      "model_module": "@jupyter-widgets/base",
      "model_module_version": "1.2.0",
      "model_name": "LayoutModel",
      "state": {}
     },
     "24a45e8bac6e4f6486fc5f2d26e63088": {
      "model_module": "@jupyter-widgets/controls",
      "model_module_version": "1.5.0",
      "model_name": "FloatProgressModel",
      "state": {
       "bar_style": "danger",
       "description": "Valid iteration=0:   0%",
       "layout": "IPY_MODEL_d14e2942ad5140418f72f480eafe29ab",
       "max": 10000,
       "style": "IPY_MODEL_9f09157328474175be4b19a68d0f6435"
      }
     },
     "24b2722fd7db42e8a3a8ca14dff64af0": {
      "model_module": "@jupyter-widgets/controls",
      "model_module_version": "1.5.0",
      "model_name": "HTMLModel",
      "state": {
       "layout": "IPY_MODEL_58b592ae2a514635a5558ef26a034e5f",
       "style": "IPY_MODEL_6836bb8a3117494d9f2ac57199b9eb14",
       "value": " 0/12 [00:28&lt;?, ?it/s]"
      }
     },
     "24be9a757c1a4aa9a35b3a67315a068e": {
      "model_module": "@jupyter-widgets/controls",
      "model_module_version": "1.5.0",
      "model_name": "ProgressStyleModel",
      "state": {
       "description_width": "initial"
      }
     },
     "24bea049f25248d88b436fc67bf34e51": {
      "model_module": "@jupyter-widgets/controls",
      "model_module_version": "1.5.0",
      "model_name": "HBoxModel",
      "state": {
       "children": [
        "IPY_MODEL_1ef7db765fdc43bbb1071a12af12ef51",
        "IPY_MODEL_f68d2b0eafd44cb982b82b9e5948c921"
       ],
       "layout": "IPY_MODEL_7dd6a9d3db5d4bb0bd6d1ec22f44b061"
      }
     },
     "24bf08133cc140ec9e4fa9f330bde0ab": {
      "model_module": "@jupyter-widgets/controls",
      "model_module_version": "1.5.0",
      "model_name": "DescriptionStyleModel",
      "state": {
       "description_width": ""
      }
     },
     "24c520fa467c4618b8988a1b288734f4": {
      "model_module": "@jupyter-widgets/base",
      "model_module_version": "1.2.0",
      "model_name": "LayoutModel",
      "state": {}
     },
     "24c73fe5686c46369aee7da4a5316209": {
      "model_module": "@jupyter-widgets/base",
      "model_module_version": "1.2.0",
      "model_name": "LayoutModel",
      "state": {}
     },
     "24ca400c51d245c68350cf783d68f6f3": {
      "model_module": "@jupyter-widgets/controls",
      "model_module_version": "1.5.0",
      "model_name": "ProgressStyleModel",
      "state": {
       "description_width": "initial"
      }
     },
     "24da6a8d60484dd990a13b4640e3b964": {
      "model_module": "@jupyter-widgets/controls",
      "model_module_version": "1.5.0",
      "model_name": "HBoxModel",
      "state": {
       "children": [
        "IPY_MODEL_7ad3f395ef204ebaa97ed628b28d3f64",
        "IPY_MODEL_d5f11b49e3334cfb80706269efaa457a"
       ],
       "layout": "IPY_MODEL_639500b4f12d40d39609a315f21bb2e0"
      }
     },
     "24f243c3007448219da6d6bc28033d1f": {
      "model_module": "@jupyter-widgets/controls",
      "model_module_version": "1.5.0",
      "model_name": "FloatProgressModel",
      "state": {
       "bar_style": "danger",
       "description": "Valid iteration=0:   0%",
       "layout": "IPY_MODEL_811729fd0a84430aac60f26892c6e03b",
       "max": 10000,
       "style": "IPY_MODEL_f6a22e4dfbe3452cb44aa46dfc486628"
      }
     },
     "24f286cf2b5f41aeb66d13c2aac5358b": {
      "model_module": "@jupyter-widgets/base",
      "model_module_version": "1.2.0",
      "model_name": "LayoutModel",
      "state": {}
     },
     "2517d20772c04633a057eac3406cc77b": {
      "model_module": "@jupyter-widgets/base",
      "model_module_version": "1.2.0",
      "model_name": "LayoutModel",
      "state": {}
     },
     "252f6f2bfc45408c8d1e1922b99af4f4": {
      "model_module": "@jupyter-widgets/controls",
      "model_module_version": "1.5.0",
      "model_name": "HTMLModel",
      "state": {
       "layout": "IPY_MODEL_79d218f31a594715ab0b2293c72cb302",
       "style": "IPY_MODEL_111fafad66d34532b94ef29558cd4b56",
       "value": " 187/90000 [01:10&lt;9:10:50,  2.72it/s]"
      }
     },
     "253251cf63e94566ba400e9e7e84a406": {
      "model_module": "@jupyter-widgets/controls",
      "model_module_version": "1.5.0",
      "model_name": "HTMLModel",
      "state": {
       "layout": "IPY_MODEL_e24fc43fb08240e5a705853a99b567bd",
       "style": "IPY_MODEL_db2ed4eb305d4d94b5f8292d694893ea",
       "value": " 0/5000 [00:48&lt;?, ?it/s]"
      }
     },
     "2536d4ac6a60485a918adbf0caa39aa3": {
      "model_module": "@jupyter-widgets/base",
      "model_module_version": "1.2.0",
      "model_name": "LayoutModel",
      "state": {}
     },
     "25690bb30eee4d9ebe91ad61b9491ed2": {
      "model_module": "@jupyter-widgets/controls",
      "model_module_version": "1.5.0",
      "model_name": "HTMLModel",
      "state": {
       "layout": "IPY_MODEL_955e28318aaa4ef68e5973af57451775",
       "style": "IPY_MODEL_7b73b919421b413daf4e7a6ef9861bce",
       "value": " 0/12 [01:38&lt;?, ?it/s]"
      }
     },
     "257b40a6995f4cfa90364f99c5d9e458": {
      "model_module": "@jupyter-widgets/base",
      "model_module_version": "1.2.0",
      "model_name": "LayoutModel",
      "state": {}
     },
     "2583cd0f4f0e437cb77eaa3fb33c9da5": {
      "model_module": "@jupyter-widgets/controls",
      "model_module_version": "1.5.0",
      "model_name": "HBoxModel",
      "state": {
       "children": [
        "IPY_MODEL_4121a5a4f7e54c96970fec9df0161302",
        "IPY_MODEL_7aca2c3bb3a9427c95b0f5c47007ef96"
       ],
       "layout": "IPY_MODEL_28106899d6e442008d59ad9ac7cd700a"
      }
     },
     "258897076caf4c5091b7a199d5e61a0d": {
      "model_module": "@jupyter-widgets/controls",
      "model_module_version": "1.5.0",
      "model_name": "ProgressStyleModel",
      "state": {
       "description_width": "initial"
      }
     },
     "2595a4bacb65457986153b1abf8bf78a": {
      "model_module": "@jupyter-widgets/controls",
      "model_module_version": "1.5.0",
      "model_name": "DescriptionStyleModel",
      "state": {
       "description_width": ""
      }
     },
     "25a17aa3caef44dfa583fdd319c1c2e7": {
      "model_module": "@jupyter-widgets/controls",
      "model_module_version": "1.5.0",
      "model_name": "DescriptionStyleModel",
      "state": {
       "description_width": ""
      }
     },
     "25b60bf9eae94345acabb90510c92df9": {
      "model_module": "@jupyter-widgets/base",
      "model_module_version": "1.2.0",
      "model_name": "LayoutModel",
      "state": {}
     },
     "25c5b70c026d46a0b88e63e200add994": {
      "model_module": "@jupyter-widgets/base",
      "model_module_version": "1.2.0",
      "model_name": "LayoutModel",
      "state": {}
     },
     "25d4d63f8cd64a6ebca276f427117a4d": {
      "model_module": "@jupyter-widgets/controls",
      "model_module_version": "1.5.0",
      "model_name": "HBoxModel",
      "state": {
       "children": [
        "IPY_MODEL_1469f3aaf6d04a5083c76c6b8eddbf17",
        "IPY_MODEL_991d43718d264ea183c9b9033f14504b"
       ],
       "layout": "IPY_MODEL_fcf2dd1c873d4bb7a8d57d5540d289ab"
      }
     },
     "260fc2d1dc5442228e7768bd6c912dcf": {
      "model_module": "@jupyter-widgets/base",
      "model_module_version": "1.2.0",
      "model_name": "LayoutModel",
      "state": {}
     },
     "2622f732ebe34d249e3cb05b39f2165d": {
      "model_module": "@jupyter-widgets/controls",
      "model_module_version": "1.5.0",
      "model_name": "DescriptionStyleModel",
      "state": {
       "description_width": ""
      }
     },
     "2650c582f40b495d8fc62110e755940b": {
      "model_module": "@jupyter-widgets/controls",
      "model_module_version": "1.5.0",
      "model_name": "ProgressStyleModel",
      "state": {
       "description_width": "initial"
      }
     },
     "2663de17bd5e4c1298124380a93c5a1a": {
      "model_module": "@jupyter-widgets/base",
      "model_module_version": "1.2.0",
      "model_name": "LayoutModel",
      "state": {}
     },
     "26701c6d5b05466993e86b263bcf3dd5": {
      "model_module": "@jupyter-widgets/base",
      "model_module_version": "1.2.0",
      "model_name": "LayoutModel",
      "state": {}
     },
     "2679785ac2c9415c861ff178c7854bcc": {
      "model_module": "@jupyter-widgets/base",
      "model_module_version": "1.2.0",
      "model_name": "LayoutModel",
      "state": {}
     },
     "2679e0ebebd04455a074280ab4d3de3a": {
      "model_module": "@jupyter-widgets/controls",
      "model_module_version": "1.5.0",
      "model_name": "HBoxModel",
      "state": {
       "children": [
        "IPY_MODEL_f1a1dbfb555a4b27a4d31438f4e154fa",
        "IPY_MODEL_4c1628b923b9492a9ccffd4ecced4077"
       ],
       "layout": "IPY_MODEL_f6f01b2a5ea8406ab6eca5f46c874d23"
      }
     },
     "2695f8013cda4e9386bc711e0004e5ea": {
      "model_module": "@jupyter-widgets/controls",
      "model_module_version": "1.5.0",
      "model_name": "HBoxModel",
      "state": {
       "children": [
        "IPY_MODEL_a233c21467e64e7d9b37f2a14dadc19a",
        "IPY_MODEL_af1e29ed17b84c9c8b5fabee726f4939"
       ],
       "layout": "IPY_MODEL_d84fda1fb8784db084388cd72b76d1c3"
      }
     },
     "269da9e67a4a4ace82bfbfcfb2d7b8b8": {
      "model_module": "@jupyter-widgets/controls",
      "model_module_version": "1.5.0",
      "model_name": "ProgressStyleModel",
      "state": {
       "description_width": "initial"
      }
     },
     "269f6cd71b864338bb760e14aeee730a": {
      "model_module": "@jupyter-widgets/controls",
      "model_module_version": "1.5.0",
      "model_name": "HBoxModel",
      "state": {
       "children": [
        "IPY_MODEL_bc999d02ae5d43808d38c316812a6f2f",
        "IPY_MODEL_a3dced2646aa420388cff9c70d8f076a"
       ],
       "layout": "IPY_MODEL_2fa7269be19642cf91a0acdc00d08504"
      }
     },
     "26b478328f7e4c7097a0c24ec5122f28": {
      "model_module": "@jupyter-widgets/base",
      "model_module_version": "1.2.0",
      "model_name": "LayoutModel",
      "state": {}
     },
     "26f2d6bb15b342538cbfedaa4fbc5020": {
      "model_module": "@jupyter-widgets/controls",
      "model_module_version": "1.5.0",
      "model_name": "FloatProgressModel",
      "state": {
       "bar_style": "danger",
       "description": "Valid iteration=3000:   0%",
       "layout": "IPY_MODEL_edb37e0579b84229ab593ba5d456fd68",
       "max": 10000,
       "style": "IPY_MODEL_18b711a87c5d4357897050e7f69d2c79"
      }
     },
     "27217cac7ca542f9a7e74c10943238d6": {
      "model_module": "@jupyter-widgets/controls",
      "model_module_version": "1.5.0",
      "model_name": "HTMLModel",
      "state": {
       "layout": "IPY_MODEL_399131c4756e498583393c4d5844d81b",
       "style": "IPY_MODEL_efea08a5eb224bc2a26a627d0a106073",
       "value": " 0/12 [08:10&lt;?, ?it/s]"
      }
     },
     "272ffbb4ec01431cbb013be3ac07b50b": {
      "model_module": "@jupyter-widgets/controls",
      "model_module_version": "1.5.0",
      "model_name": "DescriptionStyleModel",
      "state": {
       "description_width": ""
      }
     },
     "27528b8595bf4abd81e4a95033220360": {
      "model_module": "@jupyter-widgets/controls",
      "model_module_version": "1.5.0",
      "model_name": "HTMLModel",
      "state": {
       "layout": "IPY_MODEL_0f96fd2ca36c41b08203c1e879d566a9",
       "style": "IPY_MODEL_1bb115a1f8054675b07581584a824932",
       "value": " 0/12 [01:27&lt;?, ?it/s]"
      }
     },
     "275aa58885ba451a909c51abba26ed5d": {
      "model_module": "@jupyter-widgets/base",
      "model_module_version": "1.2.0",
      "model_name": "LayoutModel",
      "state": {}
     },
     "276094a3b71043b4b792a5daa8361de4": {
      "model_module": "@jupyter-widgets/base",
      "model_module_version": "1.2.0",
      "model_name": "LayoutModel",
      "state": {}
     },
     "278757f18ba64634a602111f803b46cc": {
      "model_module": "@jupyter-widgets/base",
      "model_module_version": "1.2.0",
      "model_name": "LayoutModel",
      "state": {}
     },
     "27a031f1b1b44fef81d186d152039bc2": {
      "model_module": "@jupyter-widgets/controls",
      "model_module_version": "1.5.0",
      "model_name": "ProgressStyleModel",
      "state": {
       "description_width": "initial"
      }
     },
     "27b87f2eda21405485e4fa3c9d2fc4d7": {
      "model_module": "@jupyter-widgets/controls",
      "model_module_version": "1.5.0",
      "model_name": "DescriptionStyleModel",
      "state": {
       "description_width": ""
      }
     },
     "27c73e42cf154fa69ad06faac023cdba": {
      "model_module": "@jupyter-widgets/controls",
      "model_module_version": "1.5.0",
      "model_name": "ProgressStyleModel",
      "state": {
       "description_width": "initial"
      }
     },
     "280ada516bfc403bb1089f27d604a443": {
      "model_module": "@jupyter-widgets/controls",
      "model_module_version": "1.5.0",
      "model_name": "DescriptionStyleModel",
      "state": {
       "description_width": ""
      }
     },
     "28106899d6e442008d59ad9ac7cd700a": {
      "model_module": "@jupyter-widgets/base",
      "model_module_version": "1.2.0",
      "model_name": "LayoutModel",
      "state": {}
     },
     "2813499413d44db3b4da6ee96f502d7b": {
      "model_module": "@jupyter-widgets/base",
      "model_module_version": "1.2.0",
      "model_name": "LayoutModel",
      "state": {}
     },
     "2824267041254f2bb31b399ded7580df": {
      "model_module": "@jupyter-widgets/controls",
      "model_module_version": "1.5.0",
      "model_name": "ProgressStyleModel",
      "state": {
       "description_width": "initial"
      }
     },
     "28684d71e36b44459ab92e28d329de2c": {
      "model_module": "@jupyter-widgets/controls",
      "model_module_version": "1.5.0",
      "model_name": "FloatProgressModel",
      "state": {
       "bar_style": "danger",
       "description": "Train:   0%",
       "layout": "IPY_MODEL_30c3d4eb911e43e3afb747b49571aaa9",
       "max": 23,
       "style": "IPY_MODEL_4a5a2944a73f41a3a4039385823c15ae"
      }
     },
     "28ab97598e4e40859938d362c79228e9": {
      "model_module": "@jupyter-widgets/controls",
      "model_module_version": "1.5.0",
      "model_name": "ProgressStyleModel",
      "state": {
       "description_width": "initial"
      }
     },
     "28e0e89a6e494563b3472a62d128b1a6": {
      "model_module": "@jupyter-widgets/base",
      "model_module_version": "1.2.0",
      "model_name": "LayoutModel",
      "state": {}
     },
     "28ee5ef314a541f0a9023eba0bd00bfb": {
      "model_module": "@jupyter-widgets/controls",
      "model_module_version": "1.5.0",
      "model_name": "HTMLModel",
      "state": {
       "layout": "IPY_MODEL_6fc236bd80c049f8aca1edac054b326c",
       "style": "IPY_MODEL_c6d16e3f5a3f4917a63f1ceaa887c0b8",
       "value": " 0/10000 [04:10&lt;?, ?it/s]"
      }
     },
     "2904eb67820f4619a98e28d09585153c": {
      "model_module": "@jupyter-widgets/controls",
      "model_module_version": "1.5.0",
      "model_name": "DescriptionStyleModel",
      "state": {
       "description_width": ""
      }
     },
     "290ee88c973540eaae943238b16dae32": {
      "model_module": "@jupyter-widgets/controls",
      "model_module_version": "1.5.0",
      "model_name": "ProgressStyleModel",
      "state": {
       "description_width": "initial"
      }
     },
     "2913adcea8b143059f5ce8ad0e4602e8": {
      "model_module": "@jupyter-widgets/controls",
      "model_module_version": "1.5.0",
      "model_name": "HBoxModel",
      "state": {
       "children": [
        "IPY_MODEL_f85538b4a182451b9ffc53e7422570bf",
        "IPY_MODEL_253251cf63e94566ba400e9e7e84a406"
       ],
       "layout": "IPY_MODEL_79bafc963ab84687885796f8a8b8f409"
      }
     },
     "2946c1972ad7462c8b028ed12dcaa292": {
      "model_module": "@jupyter-widgets/base",
      "model_module_version": "1.2.0",
      "model_name": "LayoutModel",
      "state": {}
     },
     "294e624e53b14722899e5217c33d7976": {
      "model_module": "@jupyter-widgets/base",
      "model_module_version": "1.2.0",
      "model_name": "LayoutModel",
      "state": {}
     },
     "29578ef5366b4c95851f2571ea0453cb": {
      "model_module": "@jupyter-widgets/controls",
      "model_module_version": "1.5.0",
      "model_name": "FloatProgressModel",
      "state": {
       "bar_style": "danger",
       "description": "Train:   0%",
       "layout": "IPY_MODEL_b494eac98c6049f5973bc012d33dc0f8",
       "max": 12,
       "style": "IPY_MODEL_83fa8da8e296410595c38b23b57abdb0"
      }
     },
     "295a9586dd6f4fc3a4e0fb9980042f92": {
      "model_module": "@jupyter-widgets/base",
      "model_module_version": "1.2.0",
      "model_name": "LayoutModel",
      "state": {}
     },
     "29609df0a4f7481ebfe7318268daf07b": {
      "model_module": "@jupyter-widgets/controls",
      "model_module_version": "1.5.0",
      "model_name": "HBoxModel",
      "state": {
       "children": [
        "IPY_MODEL_f30d4221018945958c9d842fdc87d914",
        "IPY_MODEL_ba8e684a8e734170824bba1a0aa72e39"
       ],
       "layout": "IPY_MODEL_809f543d4b6b4c8dbd660dfb21a6be56"
      }
     },
     "297059d7c9f34464905b48f5403cde66": {
      "model_module": "@jupyter-widgets/controls",
      "model_module_version": "1.5.0",
      "model_name": "HBoxModel",
      "state": {
       "children": [
        "IPY_MODEL_e0a7dec596864ec19867af83db8ed8cf",
        "IPY_MODEL_739a3d810e13411795eaeb5d5796435d"
       ],
       "layout": "IPY_MODEL_3e2640d1b3c345cf980529ac974797d1"
      }
     },
     "297c76bd48e8415c9be989d25bdf7a36": {
      "model_module": "@jupyter-widgets/base",
      "model_module_version": "1.2.0",
      "model_name": "LayoutModel",
      "state": {}
     },
     "29ac7229d7994ce2b5a546adffc09ab0": {
      "model_module": "@jupyter-widgets/base",
      "model_module_version": "1.2.0",
      "model_name": "LayoutModel",
      "state": {}
     },
     "29bc9b8f525c48c48a0b271d1c6419be": {
      "model_module": "@jupyter-widgets/controls",
      "model_module_version": "1.5.0",
      "model_name": "HBoxModel",
      "state": {
       "children": [
        "IPY_MODEL_4ac416a13dc74e4d9d49df46a62e7044",
        "IPY_MODEL_de12f9acc32f4d44a5985fa905bdb3d0"
       ],
       "layout": "IPY_MODEL_edfd7242c7f64d708831ac0515dc47df"
      }
     },
     "29d59f83ad5447d4a5d9829328cee093": {
      "model_module": "@jupyter-widgets/controls",
      "model_module_version": "1.5.0",
      "model_name": "ProgressStyleModel",
      "state": {
       "description_width": "initial"
      }
     },
     "29dbd81a3e6d4474a3cecb265b5bb104": {
      "model_module": "@jupyter-widgets/base",
      "model_module_version": "1.2.0",
      "model_name": "LayoutModel",
      "state": {}
     },
     "29e9059fc19f4b529d990f74fcbdfdb3": {
      "model_module": "@jupyter-widgets/base",
      "model_module_version": "1.2.0",
      "model_name": "LayoutModel",
      "state": {}
     },
     "29ea48d0bfc04229977eab0adf9d3cd6": {
      "model_module": "@jupyter-widgets/base",
      "model_module_version": "1.2.0",
      "model_name": "LayoutModel",
      "state": {}
     },
     "29f568c7113a4e028bc06babcf117a42": {
      "model_module": "@jupyter-widgets/base",
      "model_module_version": "1.2.0",
      "model_name": "LayoutModel",
      "state": {}
     },
     "29f9be63641847b8b38bf352ce0ef9ef": {
      "model_module": "@jupyter-widgets/base",
      "model_module_version": "1.2.0",
      "model_name": "LayoutModel",
      "state": {}
     },
     "2a009356adcf445aa81aca483d1c9617": {
      "model_module": "@jupyter-widgets/controls",
      "model_module_version": "1.5.0",
      "model_name": "DescriptionStyleModel",
      "state": {
       "description_width": ""
      }
     },
     "2a2a4462d8a44a59b9c6ddea9b4ad2f8": {
      "model_module": "@jupyter-widgets/base",
      "model_module_version": "1.2.0",
      "model_name": "LayoutModel",
      "state": {}
     },
     "2a6341799dd44559bbf3b2ae6b390f06": {
      "model_module": "@jupyter-widgets/controls",
      "model_module_version": "1.5.0",
      "model_name": "ProgressStyleModel",
      "state": {
       "description_width": "initial"
      }
     },
     "2a81f970fb954ead8a94f1dcd9d390c5": {
      "model_module": "@jupyter-widgets/base",
      "model_module_version": "1.2.0",
      "model_name": "LayoutModel",
      "state": {}
     },
     "2a85a7d4e6394405825786eeabc86dbf": {
      "model_module": "@jupyter-widgets/controls",
      "model_module_version": "1.5.0",
      "model_name": "HTMLModel",
      "state": {
       "layout": "IPY_MODEL_9e5427bb24c94fad8efad83729a5c082",
       "style": "IPY_MODEL_97669c097e954a67a7bd833ad3d7753f",
       "value": " 0/23 [02:21&lt;?, ?it/s]"
      }
     },
     "2a93a34e60cc4d73bc92ad25c587b206": {
      "model_module": "@jupyter-widgets/base",
      "model_module_version": "1.2.0",
      "model_name": "LayoutModel",
      "state": {}
     },
     "2ab52c05113e4e0a8fa83edc20ceb56e": {
      "model_module": "@jupyter-widgets/base",
      "model_module_version": "1.2.0",
      "model_name": "LayoutModel",
      "state": {}
     },
     "2ac45984ecd14763aab3d63d962955cb": {
      "model_module": "@jupyter-widgets/controls",
      "model_module_version": "1.5.0",
      "model_name": "ProgressStyleModel",
      "state": {
       "description_width": "initial"
      }
     },
     "2adc261ca046428fbed2bcc59547ef09": {
      "model_module": "@jupyter-widgets/controls",
      "model_module_version": "1.5.0",
      "model_name": "FloatProgressModel",
      "state": {
       "bar_style": "danger",
       "description": "Train:   0%",
       "layout": "IPY_MODEL_8a1ba7bbdbbd451bbe68e24304135a8d",
       "max": 12,
       "style": "IPY_MODEL_8e4519b71c3a4b579143fea5550d1a64"
      }
     },
     "2addd1e092e9478c90a4e6316c1d9f3d": {
      "model_module": "@jupyter-widgets/base",
      "model_module_version": "1.2.0",
      "model_name": "LayoutModel",
      "state": {}
     },
     "2ae25a6ca6614864951cfe6abb9ce238": {
      "model_module": "@jupyter-widgets/base",
      "model_module_version": "1.2.0",
      "model_name": "LayoutModel",
      "state": {}
     },
     "2af4e6445d414e96891c3bac195fa1bf": {
      "model_module": "@jupyter-widgets/base",
      "model_module_version": "1.2.0",
      "model_name": "LayoutModel",
      "state": {}
     },
     "2b279124af92401886ea03c42ab09a8c": {
      "model_module": "@jupyter-widgets/base",
      "model_module_version": "1.2.0",
      "model_name": "LayoutModel",
      "state": {}
     },
     "2b28fd445d4342e28c149b45cd56c347": {
      "model_module": "@jupyter-widgets/controls",
      "model_module_version": "1.5.0",
      "model_name": "ProgressStyleModel",
      "state": {
       "description_width": "initial"
      }
     },
     "2b4bcb4290ac4b56bab7f2d43e9d2498": {
      "model_module": "@jupyter-widgets/controls",
      "model_module_version": "1.5.0",
      "model_name": "DescriptionStyleModel",
      "state": {
       "description_width": ""
      }
     },
     "2b79f3314bc842d28c114a680f6f6a6e": {
      "model_module": "@jupyter-widgets/controls",
      "model_module_version": "1.5.0",
      "model_name": "DescriptionStyleModel",
      "state": {
       "description_width": ""
      }
     },
     "2b8837e6e87848f494daacab401078e4": {
      "model_module": "@jupyter-widgets/controls",
      "model_module_version": "1.5.0",
      "model_name": "HTMLModel",
      "state": {
       "layout": "IPY_MODEL_5a5214bb61d0492a844f55011a7e9f5b",
       "style": "IPY_MODEL_5500e8dbf5454c7c9770545e1a33702b",
       "value": " 0/10000 [00:35&lt;?, ?it/s]"
      }
     },
     "2b8f028ed8324659be39569c97b76598": {
      "model_module": "@jupyter-widgets/controls",
      "model_module_version": "1.5.0",
      "model_name": "HTMLModel",
      "state": {
       "layout": "IPY_MODEL_0f46ecded06c4eaa8e7ecf0624c71c2e",
       "style": "IPY_MODEL_867fa606e5cd4a4a9f15a65879d35642",
       "value": " 0/23 [00:19&lt;?, ?it/s]"
      }
     },
     "2b9541d24684496792eb835df81d4ad8": {
      "model_module": "@jupyter-widgets/controls",
      "model_module_version": "1.5.0",
      "model_name": "ProgressStyleModel",
      "state": {
       "description_width": "initial"
      }
     },
     "2b9fff1722684f209365319e2d5a2af2": {
      "model_module": "@jupyter-widgets/base",
      "model_module_version": "1.2.0",
      "model_name": "LayoutModel",
      "state": {}
     },
     "2bc480e5942944d7b064ea1001ce303c": {
      "model_module": "@jupyter-widgets/controls",
      "model_module_version": "1.5.0",
      "model_name": "FloatProgressModel",
      "state": {
       "bar_style": "danger",
       "description": "Train epoch=0:   0%",
       "layout": "IPY_MODEL_9e080b4443f84d04ad8135adf17cf247",
       "max": 90000,
       "style": "IPY_MODEL_79323c4760fa4864aaeac7e7b25b88b2"
      }
     },
     "2bdd8133dfd8493481a745c00945561d": {
      "model_module": "@jupyter-widgets/controls",
      "model_module_version": "1.5.0",
      "model_name": "FloatProgressModel",
      "state": {
       "bar_style": "danger",
       "description": "Valid iteration=0:   0%",
       "layout": "IPY_MODEL_0b34584444e541e0a225363e3ef1b0a7",
       "max": 10000,
       "style": "IPY_MODEL_97fb81efd134405899807603b15711ac"
      }
     },
     "2bf40ee43a7b45cd99fd88e49b905451": {
      "model_module": "@jupyter-widgets/controls",
      "model_module_version": "1.5.0",
      "model_name": "HTMLModel",
      "state": {
       "layout": "IPY_MODEL_cd9b21b2461941a59d68bc8c1eec2911",
       "style": "IPY_MODEL_c1d3d7f36fce4b6f8a274449e0b866da",
       "value": " 0/90000 [00:16&lt;?, ?it/s]"
      }
     },
     "2bfa965dd15d40cabbde1da443067766": {
      "model_module": "@jupyter-widgets/base",
      "model_module_version": "1.2.0",
      "model_name": "LayoutModel",
      "state": {}
     },
     "2c12b891ae414e7ba421f1b6be3d0bcf": {
      "model_module": "@jupyter-widgets/controls",
      "model_module_version": "1.5.0",
      "model_name": "DescriptionStyleModel",
      "state": {
       "description_width": ""
      }
     },
     "2c224b3084474743a3151e39e0b13bd6": {
      "model_module": "@jupyter-widgets/controls",
      "model_module_version": "1.5.0",
      "model_name": "FloatProgressModel",
      "state": {
       "bar_style": "danger",
       "description": "Train:   0%",
       "layout": "IPY_MODEL_709e0f3642e04a46887ca27c44e31c70",
       "max": 12,
       "style": "IPY_MODEL_f6ed9311c33b4ac4b3f0d8711badadfc"
      }
     },
     "2c250cf22a8342d4813e85bd782b5df2": {
      "model_module": "@jupyter-widgets/controls",
      "model_module_version": "1.5.0",
      "model_name": "FloatProgressModel",
      "state": {
       "bar_style": "danger",
       "description": "Valid iteration=0:   0%",
       "layout": "IPY_MODEL_cffc6fc351ba4a53bca4bd8eb1325c7c",
       "max": 10000,
       "style": "IPY_MODEL_6e32f3e75b6c47159cf04d8334374ff3"
      }
     },
     "2c4626e3932a48829654991996b00d87": {
      "model_module": "@jupyter-widgets/controls",
      "model_module_version": "1.5.0",
      "model_name": "DescriptionStyleModel",
      "state": {
       "description_width": ""
      }
     },
     "2c6747f5008943daa9335c14f34a51f6": {
      "model_module": "@jupyter-widgets/base",
      "model_module_version": "1.2.0",
      "model_name": "LayoutModel",
      "state": {}
     },
     "2c966bf129eb4f909cbf48da0c3da6c1": {
      "model_module": "@jupyter-widgets/controls",
      "model_module_version": "1.5.0",
      "model_name": "DescriptionStyleModel",
      "state": {
       "description_width": ""
      }
     },
     "2ca32eb42bd849a794428997d8442727": {
      "model_module": "@jupyter-widgets/base",
      "model_module_version": "1.2.0",
      "model_name": "LayoutModel",
      "state": {}
     },
     "2cca06944a8c4140ba1f171c88873001": {
      "model_module": "@jupyter-widgets/base",
      "model_module_version": "1.2.0",
      "model_name": "LayoutModel",
      "state": {}
     },
     "2cda62e387364d6b9b35623fbdaf5c7f": {
      "model_module": "@jupyter-widgets/controls",
      "model_module_version": "1.5.0",
      "model_name": "ProgressStyleModel",
      "state": {
       "description_width": "initial"
      }
     },
     "2cf1da09449c42909d423021cc7b0a6c": {
      "model_module": "@jupyter-widgets/base",
      "model_module_version": "1.2.0",
      "model_name": "LayoutModel",
      "state": {}
     },
     "2cf48c30ef9747fd88fdaa3be2e93070": {
      "model_module": "@jupyter-widgets/base",
      "model_module_version": "1.2.0",
      "model_name": "LayoutModel",
      "state": {}
     },
     "2d017c1c586b44c5a09ed35fd63c75b7": {
      "model_module": "@jupyter-widgets/controls",
      "model_module_version": "1.5.0",
      "model_name": "HBoxModel",
      "state": {
       "children": [
        "IPY_MODEL_77005d70fdf0450baf3e23ac8ccd6483",
        "IPY_MODEL_e4ca1a0e22ac481e81b4530ab9c6eeac"
       ],
       "layout": "IPY_MODEL_21b1fc4804ae42baac6d9bea8ae263f6"
      }
     },
     "2d1d227acf2e429a8fb4c0b3fb51920a": {
      "model_module": "@jupyter-widgets/base",
      "model_module_version": "1.2.0",
      "model_name": "LayoutModel",
      "state": {}
     },
     "2d2db8bb395d46d89a9b15009278564a": {
      "model_module": "@jupyter-widgets/base",
      "model_module_version": "1.2.0",
      "model_name": "LayoutModel",
      "state": {}
     },
     "2d4960eec931446188880c5bcdc1378e": {
      "model_module": "@jupyter-widgets/base",
      "model_module_version": "1.2.0",
      "model_name": "LayoutModel",
      "state": {}
     },
     "2d908c0da29f4e03a73993bbe5770599": {
      "model_module": "@jupyter-widgets/base",
      "model_module_version": "1.2.0",
      "model_name": "LayoutModel",
      "state": {}
     },
     "2d9e779160a84776876896220d19656b": {
      "model_module": "@jupyter-widgets/base",
      "model_module_version": "1.2.0",
      "model_name": "LayoutModel",
      "state": {}
     },
     "2dc4f0e54e2947e3ad2f3c807a6f8b4c": {
      "model_module": "@jupyter-widgets/controls",
      "model_module_version": "1.5.0",
      "model_name": "HBoxModel",
      "state": {
       "children": [
        "IPY_MODEL_f474d371dace48099ea92362d53361b5",
        "IPY_MODEL_7a2addfb2fce41ac9c6985e7c0d19407"
       ],
       "layout": "IPY_MODEL_48aa6d9597df4d84a85c38487da51cb1"
      }
     },
     "2dcba572628d4c3385d0d94e76de6f30": {
      "model_module": "@jupyter-widgets/base",
      "model_module_version": "1.2.0",
      "model_name": "LayoutModel",
      "state": {}
     },
     "2de4e639015e4d28935600240e8d935a": {
      "model_module": "@jupyter-widgets/base",
      "model_module_version": "1.2.0",
      "model_name": "LayoutModel",
      "state": {}
     },
     "2de6d10330dd4f9f8ae5dab9edf93bca": {
      "model_module": "@jupyter-widgets/base",
      "model_module_version": "1.2.0",
      "model_name": "LayoutModel",
      "state": {}
     },
     "2df2ab608ee94a5e84e1e884ca726931": {
      "model_module": "@jupyter-widgets/controls",
      "model_module_version": "1.5.0",
      "model_name": "HTMLModel",
      "state": {
       "layout": "IPY_MODEL_57b020c154aa4310bc035d429aa3adbe",
       "style": "IPY_MODEL_f442c5f91ee94f909ac3759d26377a66",
       "value": " 0/12 [01:10&lt;?, ?it/s]"
      }
     },
     "2df5a09c99ac46d4a75f9facfe33f10f": {
      "model_module": "@jupyter-widgets/controls",
      "model_module_version": "1.5.0",
      "model_name": "FloatProgressModel",
      "state": {
       "bar_style": "danger",
       "description": "Valid iteration=0:   0%",
       "layout": "IPY_MODEL_b1f6e98a1e97453fbb70428470874ab5",
       "max": 5000,
       "style": "IPY_MODEL_66ce7f2157dd43c0b1bdbe8e2c2a45be"
      }
     },
     "2e027122f5d2489da6803cc7b218be1d": {
      "model_module": "@jupyter-widgets/base",
      "model_module_version": "1.2.0",
      "model_name": "LayoutModel",
      "state": {}
     },
     "2e0f31969f3b4ec6b5a993cb6fb8dfca": {
      "model_module": "@jupyter-widgets/base",
      "model_module_version": "1.2.0",
      "model_name": "LayoutModel",
      "state": {}
     },
     "2e23ea84ee3d49e199bd411c0914144a": {
      "model_module": "@jupyter-widgets/controls",
      "model_module_version": "1.5.0",
      "model_name": "HTMLModel",
      "state": {
       "layout": "IPY_MODEL_3d2c5fb922b24d18998a9331e4c3935d",
       "style": "IPY_MODEL_0d1559ebad604dca8b7f5c131ee8c47d",
       "value": " 0/10000 [00:49&lt;?, ?it/s]"
      }
     },
     "2e26a67fea51455d95cd4db135795864": {
      "model_module": "@jupyter-widgets/base",
      "model_module_version": "1.2.0",
      "model_name": "LayoutModel",
      "state": {}
     },
     "2e49041636c742b8a1bc718e31bb63db": {
      "model_module": "@jupyter-widgets/base",
      "model_module_version": "1.2.0",
      "model_name": "LayoutModel",
      "state": {}
     },
     "2e520f554f7b4256801666faf5bb2787": {
      "model_module": "@jupyter-widgets/controls",
      "model_module_version": "1.5.0",
      "model_name": "DescriptionStyleModel",
      "state": {
       "description_width": ""
      }
     },
     "2e5b2dc011be494395f7bd2809f66d68": {
      "model_module": "@jupyter-widgets/controls",
      "model_module_version": "1.5.0",
      "model_name": "ProgressStyleModel",
      "state": {
       "description_width": "initial"
      }
     },
     "2e8261b176434b59acfab788a781dad2": {
      "model_module": "@jupyter-widgets/controls",
      "model_module_version": "1.5.0",
      "model_name": "ProgressStyleModel",
      "state": {
       "description_width": "initial"
      }
     },
     "2e9ba82bf2204b2fb66e1f867ecda495": {
      "model_module": "@jupyter-widgets/base",
      "model_module_version": "1.2.0",
      "model_name": "LayoutModel",
      "state": {}
     },
     "2ea99ae54f8d45a39ed32819dcf72b83": {
      "model_module": "@jupyter-widgets/controls",
      "model_module_version": "1.5.0",
      "model_name": "HTMLModel",
      "state": {
       "layout": "IPY_MODEL_ef02674a3bf34fdf901a76f71dc653ef",
       "style": "IPY_MODEL_f804d6b8b6444706b85694de0083f8e6",
       "value": " 0/45000 [00:59&lt;?, ?it/s]"
      }
     },
     "2ead91a047b249adaf28654ae2ea5b15": {
      "model_module": "@jupyter-widgets/base",
      "model_module_version": "1.2.0",
      "model_name": "LayoutModel",
      "state": {}
     },
     "2f001057ee7f49c9b96573c33e09dbc8": {
      "model_module": "@jupyter-widgets/controls",
      "model_module_version": "1.5.0",
      "model_name": "HTMLModel",
      "state": {
       "layout": "IPY_MODEL_95579280ffaf4c3f989cad4a2f5ddd23",
       "style": "IPY_MODEL_89036f34e9b44f299d2f10316f0b6a46",
       "value": " 0/12 [00:40&lt;?, ?it/s]"
      }
     },
     "2f39699b45e846459dd3a7985839ba35": {
      "model_module": "@jupyter-widgets/controls",
      "model_module_version": "1.5.0",
      "model_name": "HTMLModel",
      "state": {
       "layout": "IPY_MODEL_202d48832e4b47cdbfbf0b0662fc5148",
       "style": "IPY_MODEL_6964692857e24e58abdbfaf5dfacbb4a",
       "value": " 0/10000 [02:52&lt;?, ?it/s]"
      }
     },
     "2f58bb1688c24879a6acb496028c3756": {
      "model_module": "@jupyter-widgets/base",
      "model_module_version": "1.2.0",
      "model_name": "LayoutModel",
      "state": {}
     },
     "2f5e85b6b17d44878c423345a36eb38c": {
      "model_module": "@jupyter-widgets/base",
      "model_module_version": "1.2.0",
      "model_name": "LayoutModel",
      "state": {}
     },
     "2f755622eb5b41348eda879dd479bf21": {
      "model_module": "@jupyter-widgets/controls",
      "model_module_version": "1.5.0",
      "model_name": "HTMLModel",
      "state": {
       "layout": "IPY_MODEL_10e36076162a430c8e451917b22321b2",
       "style": "IPY_MODEL_2163938879c047cbadb29a26c4745ae6",
       "value": " 0/10000 [00:01&lt;?, ?it/s]"
      }
     },
     "2f79c2e31edc455e80d7478d8175f986": {
      "model_module": "@jupyter-widgets/base",
      "model_module_version": "1.2.0",
      "model_name": "LayoutModel",
      "state": {}
     },
     "2fa7269be19642cf91a0acdc00d08504": {
      "model_module": "@jupyter-widgets/base",
      "model_module_version": "1.2.0",
      "model_name": "LayoutModel",
      "state": {}
     },
     "2fb13289913f45dbbd79a3d2b5963e4b": {
      "model_module": "@jupyter-widgets/base",
      "model_module_version": "1.2.0",
      "model_name": "LayoutModel",
      "state": {}
     },
     "2fd35af46a414dcea3828c4b5e3e862b": {
      "model_module": "@jupyter-widgets/controls",
      "model_module_version": "1.5.0",
      "model_name": "HBoxModel",
      "state": {
       "children": [
        "IPY_MODEL_f7a51563117b4448b050f1d6f6662c91",
        "IPY_MODEL_ff023a040c384a5fb4bcf3980126fe59"
       ],
       "layout": "IPY_MODEL_e781faca274641ddbb01fd15afceb0f8"
      }
     },
     "3000cf835f2f4653a001db8b41946415": {
      "model_module": "@jupyter-widgets/controls",
      "model_module_version": "1.5.0",
      "model_name": "DescriptionStyleModel",
      "state": {
       "description_width": ""
      }
     },
     "30016fe9deaf42969749b61fe6b10ea3": {
      "model_module": "@jupyter-widgets/base",
      "model_module_version": "1.2.0",
      "model_name": "LayoutModel",
      "state": {}
     },
     "30370e44de434354b3e2d444f0de95ca": {
      "model_module": "@jupyter-widgets/controls",
      "model_module_version": "1.5.0",
      "model_name": "HTMLModel",
      "state": {
       "layout": "IPY_MODEL_610d4c9545c04a40b73e78c85472ea62",
       "style": "IPY_MODEL_758660b0a5c24487b057d427f48cfc0c",
       "value": " 0/45000 [00:20&lt;?, ?it/s]"
      }
     },
     "304e23c65bc24a49b8e83b92a81ee526": {
      "model_module": "@jupyter-widgets/base",
      "model_module_version": "1.2.0",
      "model_name": "LayoutModel",
      "state": {}
     },
     "306d81138fc846a9bfc2af6858bc4702": {
      "model_module": "@jupyter-widgets/base",
      "model_module_version": "1.2.0",
      "model_name": "LayoutModel",
      "state": {}
     },
     "3081d363ddca4956a96befdd4f7c66d5": {
      "model_module": "@jupyter-widgets/controls",
      "model_module_version": "1.5.0",
      "model_name": "HTMLModel",
      "state": {
       "layout": "IPY_MODEL_b16948663ace4ea9937692df7a952c7e",
       "style": "IPY_MODEL_71e7ecf613eb4cb6860139fb55363ed5",
       "value": " 0/23 [11:00&lt;?, ?it/s]"
      }
     },
     "308b8ff88a6348fa8acd248ae57c5224": {
      "model_module": "@jupyter-widgets/base",
      "model_module_version": "1.2.0",
      "model_name": "LayoutModel",
      "state": {}
     },
     "309a9954b04249e286d0e28b6fe75ffd": {
      "model_module": "@jupyter-widgets/controls",
      "model_module_version": "1.5.0",
      "model_name": "FloatProgressModel",
      "state": {
       "bar_style": "danger",
       "description": "Valid iteration=1000:   0%",
       "layout": "IPY_MODEL_5e6d178f20f24a1e94dcea14c04090c4",
       "max": 10000,
       "style": "IPY_MODEL_cf9151de519149aa979109610bf55bb9"
      }
     },
     "30a260e4f5e14bcdaae33ac51fc215ab": {
      "model_module": "@jupyter-widgets/controls",
      "model_module_version": "1.5.0",
      "model_name": "ProgressStyleModel",
      "state": {
       "description_width": "initial"
      }
     },
     "30abab10a1694710930a667900f24840": {
      "model_module": "@jupyter-widgets/controls",
      "model_module_version": "1.5.0",
      "model_name": "ProgressStyleModel",
      "state": {
       "description_width": "initial"
      }
     },
     "30b8d8b3ce554bd3be0555aa4e874b34": {
      "model_module": "@jupyter-widgets/controls",
      "model_module_version": "1.5.0",
      "model_name": "FloatProgressModel",
      "state": {
       "bar_style": "danger",
       "description": "Train epoch=0:   0%",
       "layout": "IPY_MODEL_2f5e85b6b17d44878c423345a36eb38c",
       "max": 45000,
       "style": "IPY_MODEL_784fb98daab949e58205b718a96e3de1",
       "value": 5
      }
     },
     "30c3d4eb911e43e3afb747b49571aaa9": {
      "model_module": "@jupyter-widgets/base",
      "model_module_version": "1.2.0",
      "model_name": "LayoutModel",
      "state": {}
     },
     "30cf2ce8c24949eabfb38cd3c13f11c6": {
      "model_module": "@jupyter-widgets/base",
      "model_module_version": "1.2.0",
      "model_name": "LayoutModel",
      "state": {}
     },
     "30d1357afa864263a4b499569f240bd4": {
      "model_module": "@jupyter-widgets/base",
      "model_module_version": "1.2.0",
      "model_name": "LayoutModel",
      "state": {}
     },
     "30dbfe3dcbee4464a67e792ebb4256c2": {
      "model_module": "@jupyter-widgets/controls",
      "model_module_version": "1.5.0",
      "model_name": "FloatProgressModel",
      "state": {
       "bar_style": "danger",
       "description": "Train:   0%",
       "layout": "IPY_MODEL_d15927c942d54de4974fe0febfd2830c",
       "max": 23,
       "style": "IPY_MODEL_e1239df7465b4f97b94901f8d9f05869"
      }
     },
     "30dd2ed588ac4b2d8d6dc5a4f1140997": {
      "model_module": "@jupyter-widgets/controls",
      "model_module_version": "1.5.0",
      "model_name": "HBoxModel",
      "state": {
       "children": [
        "IPY_MODEL_fc4be1e945e14e7caa1b3bee1ff70348",
        "IPY_MODEL_39549c72e3f74369990e71299e91353c"
       ],
       "layout": "IPY_MODEL_19b6dd2346c043819cd83be96badeb53"
      }
     },
     "30f14741b7fd477ea164fcc2d1d6158f": {
      "model_module": "@jupyter-widgets/controls",
      "model_module_version": "1.5.0",
      "model_name": "HBoxModel",
      "state": {
       "children": [
        "IPY_MODEL_c842b2cb7bb043459808965b51cca69a",
        "IPY_MODEL_2f755622eb5b41348eda879dd479bf21"
       ],
       "layout": "IPY_MODEL_714a62b7c9414a47994793de1c8d9571"
      }
     },
     "30f3aca9e82040609f1a4d70f52b22da": {
      "model_module": "@jupyter-widgets/controls",
      "model_module_version": "1.5.0",
      "model_name": "HTMLModel",
      "state": {
       "layout": "IPY_MODEL_f08e976d3575407fabe1b150dccc43c3",
       "style": "IPY_MODEL_53c5ab74e2544b6ebb8da840621f3477",
       "value": " 605/90000 [03:59&lt;9:50:04,  2.52it/s]"
      }
     },
     "30fbbd8891b14f2ca573481c8c414a43": {
      "model_module": "@jupyter-widgets/controls",
      "model_module_version": "1.5.0",
      "model_name": "HBoxModel",
      "state": {
       "children": [
        "IPY_MODEL_02d202b80cf64b0690bdb0f364bee5ab",
        "IPY_MODEL_f7d13e6738fe4f32aed057b0c8fc0898"
       ],
       "layout": "IPY_MODEL_aa0c4b837ad5437d9ad891eb5e301f24"
      }
     },
     "30fcfe83cb644c7b93bc97c0ebf18a2a": {
      "model_module": "@jupyter-widgets/base",
      "model_module_version": "1.2.0",
      "model_name": "LayoutModel",
      "state": {}
     },
     "3124a842482f4a3f953f134917d08b75": {
      "model_module": "@jupyter-widgets/controls",
      "model_module_version": "1.5.0",
      "model_name": "DescriptionStyleModel",
      "state": {
       "description_width": ""
      }
     },
     "3125fc0e640b4fa3bd6d5bc1663e07bc": {
      "model_module": "@jupyter-widgets/controls",
      "model_module_version": "1.5.0",
      "model_name": "HBoxModel",
      "state": {
       "children": [
        "IPY_MODEL_4a8174b5b08b4e05bfaff45e25e04f86",
        "IPY_MODEL_46db174c7d1e4e9aab2d4847123ea1ea"
       ],
       "layout": "IPY_MODEL_643fb5a8747a462bad15e1287c9069db"
      }
     },
     "315ef4e68ec14da0a1880c1f6449be41": {
      "model_module": "@jupyter-widgets/controls",
      "model_module_version": "1.5.0",
      "model_name": "HBoxModel",
      "state": {
       "children": [
        "IPY_MODEL_4277f46cdff74e4ea2d5f5799f067f33",
        "IPY_MODEL_20f69d1571264efdb24a7e6420e20c48"
       ],
       "layout": "IPY_MODEL_dc23e904dbf74cb19f647d0265521824"
      }
     },
     "316bfd5f29004dc9a8a40e8c96a1351e": {
      "model_module": "@jupyter-widgets/base",
      "model_module_version": "1.2.0",
      "model_name": "LayoutModel",
      "state": {}
     },
     "316cf0b1de1e48bca7c96a1e346e2337": {
      "model_module": "@jupyter-widgets/base",
      "model_module_version": "1.2.0",
      "model_name": "LayoutModel",
      "state": {}
     },
     "317a8e5509ee475f86f80a852a5fb222": {
      "model_module": "@jupyter-widgets/base",
      "model_module_version": "1.2.0",
      "model_name": "LayoutModel",
      "state": {}
     },
     "31bb9f40f3664d4ba4db7b0f61a12ab4": {
      "model_module": "@jupyter-widgets/controls",
      "model_module_version": "1.5.0",
      "model_name": "ProgressStyleModel",
      "state": {
       "description_width": "initial"
      }
     },
     "31d07afdd21a4a7d894195c6de1d0e81": {
      "model_module": "@jupyter-widgets/base",
      "model_module_version": "1.2.0",
      "model_name": "LayoutModel",
      "state": {}
     },
     "31e07ec3526e43928bd9884885992ebd": {
      "model_module": "@jupyter-widgets/base",
      "model_module_version": "1.2.0",
      "model_name": "LayoutModel",
      "state": {}
     },
     "31e4d9666999432ea81ffce5f2c4431e": {
      "model_module": "@jupyter-widgets/controls",
      "model_module_version": "1.5.0",
      "model_name": "HBoxModel",
      "state": {
       "children": [
        "IPY_MODEL_30b8d8b3ce554bd3be0555aa4e874b34",
        "IPY_MODEL_d43ce5cfca8f4104bbc0dc6a07b5c5c0"
       ],
       "layout": "IPY_MODEL_a140f21dd3fe4505bb999767a1c7a0f1"
      }
     },
     "3202326f8bdd493f823c6884985f0af3": {
      "model_module": "@jupyter-widgets/base",
      "model_module_version": "1.2.0",
      "model_name": "LayoutModel",
      "state": {}
     },
     "3202525cd92e4e98a0c7393a1a8cb0e5": {
      "model_module": "@jupyter-widgets/base",
      "model_module_version": "1.2.0",
      "model_name": "LayoutModel",
      "state": {}
     },
     "321a9e1348f747aab82864cefcab71c0": {
      "model_module": "@jupyter-widgets/controls",
      "model_module_version": "1.5.0",
      "model_name": "ProgressStyleModel",
      "state": {
       "description_width": "initial"
      }
     },
     "321ecc4a6e8d4113b31d45c91ff1b8e4": {
      "model_module": "@jupyter-widgets/controls",
      "model_module_version": "1.5.0",
      "model_name": "DescriptionStyleModel",
      "state": {
       "description_width": ""
      }
     },
     "323670c8b81641b684d909a177d40881": {
      "model_module": "@jupyter-widgets/controls",
      "model_module_version": "1.5.0",
      "model_name": "ProgressStyleModel",
      "state": {
       "description_width": "initial"
      }
     },
     "32592343e4fb4a4e9449ad6c544d135e": {
      "model_module": "@jupyter-widgets/controls",
      "model_module_version": "1.5.0",
      "model_name": "ProgressStyleModel",
      "state": {
       "description_width": "initial"
      }
     },
     "3260867817b24a55beb1e9ac3d14096b": {
      "model_module": "@jupyter-widgets/controls",
      "model_module_version": "1.5.0",
      "model_name": "HBoxModel",
      "state": {
       "children": [
        "IPY_MODEL_2118f415d05a47d286286ab893fa0e37",
        "IPY_MODEL_b1d1cd2281b94adc9e8fcb834c6daf6e"
       ],
       "layout": "IPY_MODEL_29ac7229d7994ce2b5a546adffc09ab0"
      }
     },
     "328404aaf64a4bff99a74546ea4aef18": {
      "model_module": "@jupyter-widgets/controls",
      "model_module_version": "1.5.0",
      "model_name": "ProgressStyleModel",
      "state": {
       "description_width": "initial"
      }
     },
     "3289952ae40848538bb727735c7b94de": {
      "model_module": "@jupyter-widgets/controls",
      "model_module_version": "1.5.0",
      "model_name": "FloatProgressModel",
      "state": {
       "bar_style": "danger",
       "description": "Train:   0%",
       "layout": "IPY_MODEL_6378a9ddbd7b40a19240619f9975050c",
       "max": 23,
       "style": "IPY_MODEL_1d5c4d0b45f4469db19dba1039f7ba49"
      }
     },
     "328ebcb2d1a04afcb6dbc9f991b11ce1": {
      "model_module": "@jupyter-widgets/controls",
      "model_module_version": "1.5.0",
      "model_name": "FloatProgressModel",
      "state": {
       "bar_style": "danger",
       "description": "Train epoch=0:   0%",
       "layout": "IPY_MODEL_247e3fd1a6104ae5bf61a256701f188f",
       "max": 90000,
       "style": "IPY_MODEL_3a0b14ccb8e44ccd8d2ee33514e8a062",
       "value": 95
      }
     },
     "328f83e6aa3b43ee8651ce22509d64af": {
      "model_module": "@jupyter-widgets/controls",
      "model_module_version": "1.5.0",
      "model_name": "HTMLModel",
      "state": {
       "layout": "IPY_MODEL_2bfa965dd15d40cabbde1da443067766",
       "style": "IPY_MODEL_f102453bb89544c8886ba4e593004643",
       "value": " 0/5000 [00:01&lt;?, ?it/s]"
      }
     },
     "329e9d6c1f3140f6b70aeb78451168d1": {
      "model_module": "@jupyter-widgets/controls",
      "model_module_version": "1.5.0",
      "model_name": "DescriptionStyleModel",
      "state": {
       "description_width": ""
      }
     },
     "32a2a900502e4d5681e9fca090a940a5": {
      "model_module": "@jupyter-widgets/base",
      "model_module_version": "1.2.0",
      "model_name": "LayoutModel",
      "state": {}
     },
     "32a7be6f11954fb198b5e977eca7c9bc": {
      "model_module": "@jupyter-widgets/controls",
      "model_module_version": "1.5.0",
      "model_name": "DescriptionStyleModel",
      "state": {
       "description_width": ""
      }
     },
     "32ac9fd7ab764989bb5380d9af7eeb7c": {
      "model_module": "@jupyter-widgets/controls",
      "model_module_version": "1.5.0",
      "model_name": "HTMLModel",
      "state": {
       "layout": "IPY_MODEL_257b40a6995f4cfa90364f99c5d9e458",
       "style": "IPY_MODEL_8b04808cd6464f43b3d57d8e5f31c941",
       "value": " 0/10000 [06:02&lt;?, ?it/s]"
      }
     },
     "32af592e53e44d1198ed231ca1eb959e": {
      "model_module": "@jupyter-widgets/controls",
      "model_module_version": "1.5.0",
      "model_name": "HBoxModel",
      "state": {
       "children": [
        "IPY_MODEL_4f5b1008f6a741e4aebcf97f18376848",
        "IPY_MODEL_dce81160a09e4ca59db252bc3217580b"
       ],
       "layout": "IPY_MODEL_4dcd203d9fab4887a419d5dc96a6f6c3"
      }
     },
     "32c67f94b342452daffa04b35096a411": {
      "model_module": "@jupyter-widgets/controls",
      "model_module_version": "1.5.0",
      "model_name": "HBoxModel",
      "state": {
       "children": [
        "IPY_MODEL_de8cc2aa8a8b4864a62f9df4f11433e5",
        "IPY_MODEL_a59825095f504bc0ad2c27a65036ea0f"
       ],
       "layout": "IPY_MODEL_0e0c2115510d4814b32511dfb3fc70d3"
      }
     },
     "32c8eb0dc97c41349a34bccf0e785133": {
      "model_module": "@jupyter-widgets/base",
      "model_module_version": "1.2.0",
      "model_name": "LayoutModel",
      "state": {}
     },
     "32d2490c473b457db01e3ace76c4a275": {
      "model_module": "@jupyter-widgets/base",
      "model_module_version": "1.2.0",
      "model_name": "LayoutModel",
      "state": {}
     },
     "32f6c1b097cb4e09a4601d3d1ae03cfa": {
      "model_module": "@jupyter-widgets/base",
      "model_module_version": "1.2.0",
      "model_name": "LayoutModel",
      "state": {}
     },
     "32f6d120b7d34875a359fabf67c83ba3": {
      "model_module": "@jupyter-widgets/base",
      "model_module_version": "1.2.0",
      "model_name": "LayoutModel",
      "state": {}
     },
     "3308823fc78246ab8dba290843c14ae8": {
      "model_module": "@jupyter-widgets/base",
      "model_module_version": "1.2.0",
      "model_name": "LayoutModel",
      "state": {}
     },
     "333af4c42e9148e9b25bc039a20088d3": {
      "model_module": "@jupyter-widgets/controls",
      "model_module_version": "1.5.0",
      "model_name": "DescriptionStyleModel",
      "state": {
       "description_width": ""
      }
     },
     "33494cda969a4af09e7617aa77ee5074": {
      "model_module": "@jupyter-widgets/controls",
      "model_module_version": "1.5.0",
      "model_name": "DescriptionStyleModel",
      "state": {
       "description_width": ""
      }
     },
     "336372c987714bd88a27a315bf822c75": {
      "model_module": "@jupyter-widgets/controls",
      "model_module_version": "1.5.0",
      "model_name": "DescriptionStyleModel",
      "state": {
       "description_width": ""
      }
     },
     "3370e09320b64abebeb14bdfe2e5ad83": {
      "model_module": "@jupyter-widgets/controls",
      "model_module_version": "1.5.0",
      "model_name": "ProgressStyleModel",
      "state": {
       "description_width": "initial"
      }
     },
     "33b753fbf9c3401d88c68ec27784b10f": {
      "model_module": "@jupyter-widgets/controls",
      "model_module_version": "1.5.0",
      "model_name": "HBoxModel",
      "state": {
       "children": [
        "IPY_MODEL_903f583896e34cc5814c4a5334fc5307",
        "IPY_MODEL_832710c7e7d94b768c7fa4321108324f"
       ],
       "layout": "IPY_MODEL_c194f344da7b483ca9349460ea9b82b5"
      }
     },
     "33bd9bc245d4496f86265453efd8d216": {
      "model_module": "@jupyter-widgets/base",
      "model_module_version": "1.2.0",
      "model_name": "LayoutModel",
      "state": {}
     },
     "33c3651e16c94ddfaa32ecfaea57d562": {
      "model_module": "@jupyter-widgets/base",
      "model_module_version": "1.2.0",
      "model_name": "LayoutModel",
      "state": {}
     },
     "33e18f7dd59042a1b1f7e37014e9b168": {
      "model_module": "@jupyter-widgets/base",
      "model_module_version": "1.2.0",
      "model_name": "LayoutModel",
      "state": {}
     },
     "33ec4c75c56a46edb886fe4244fb0d1d": {
      "model_module": "@jupyter-widgets/base",
      "model_module_version": "1.2.0",
      "model_name": "LayoutModel",
      "state": {}
     },
     "33fa8194bf6a451195288509163dc2df": {
      "model_module": "@jupyter-widgets/controls",
      "model_module_version": "1.5.0",
      "model_name": "DescriptionStyleModel",
      "state": {
       "description_width": ""
      }
     },
     "340ac6a2cc7a4309ad092ecf5da31e57": {
      "model_module": "@jupyter-widgets/controls",
      "model_module_version": "1.5.0",
      "model_name": "ProgressStyleModel",
      "state": {
       "description_width": "initial"
      }
     },
     "3419b105d9f14cff93c0ce2ac97431e6": {
      "model_module": "@jupyter-widgets/controls",
      "model_module_version": "1.5.0",
      "model_name": "FloatProgressModel",
      "state": {
       "bar_style": "danger",
       "description": "Valid iteration=11000:   0%",
       "layout": "IPY_MODEL_07f32c554cd94303b3b3aa3ffd42963a",
       "max": 10000,
       "style": "IPY_MODEL_6d4bf13b56d74a6d9f80385567c3867e"
      }
     },
     "34313c2db93c4983a4afec7ba95c2c55": {
      "model_module": "@jupyter-widgets/controls",
      "model_module_version": "1.5.0",
      "model_name": "DescriptionStyleModel",
      "state": {
       "description_width": ""
      }
     },
     "344aec40332f4c878186380d6d0faa7e": {
      "model_module": "@jupyter-widgets/base",
      "model_module_version": "1.2.0",
      "model_name": "LayoutModel",
      "state": {}
     },
     "3482d5fccf60472eabbdc011caed6317": {
      "model_module": "@jupyter-widgets/controls",
      "model_module_version": "1.5.0",
      "model_name": "HBoxModel",
      "state": {
       "children": [
        "IPY_MODEL_3b97fee497004f689faf823e684854bd",
        "IPY_MODEL_73a79b7b894a44c78d917519969b4df3"
       ],
       "layout": "IPY_MODEL_5251078be4f9437fb85fd67a455ee277"
      }
     },
     "3484ef72de7745818a9f71f146f0f4b4": {
      "model_module": "@jupyter-widgets/controls",
      "model_module_version": "1.5.0",
      "model_name": "DescriptionStyleModel",
      "state": {
       "description_width": ""
      }
     },
     "348a3319c4e74e5fb072667f114893ff": {
      "model_module": "@jupyter-widgets/base",
      "model_module_version": "1.2.0",
      "model_name": "LayoutModel",
      "state": {}
     },
     "34910ab9f92d4384aed715ca6212711c": {
      "model_module": "@jupyter-widgets/base",
      "model_module_version": "1.2.0",
      "model_name": "LayoutModel",
      "state": {}
     },
     "34af3f56310a4278a1eff28e648ed7c1": {
      "model_module": "@jupyter-widgets/base",
      "model_module_version": "1.2.0",
      "model_name": "LayoutModel",
      "state": {}
     },
     "34c161e726144e178532e9f25808ee3b": {
      "model_module": "@jupyter-widgets/base",
      "model_module_version": "1.2.0",
      "model_name": "LayoutModel",
      "state": {}
     },
     "34d4040a8a03408bb6f06eccf0a85f02": {
      "model_module": "@jupyter-widgets/controls",
      "model_module_version": "1.5.0",
      "model_name": "HTMLModel",
      "state": {
       "layout": "IPY_MODEL_bfdfbed80b394fa090939880f27c573a",
       "style": "IPY_MODEL_63808864215745118f5e1e6b6d165c8d",
       "value": " 0/10000 [13:22&lt;?, ?it/s]"
      }
     },
     "3500bbdbcd0d4639bd0f146f8e87ad42": {
      "model_module": "@jupyter-widgets/controls",
      "model_module_version": "1.5.0",
      "model_name": "ProgressStyleModel",
      "state": {
       "description_width": "initial"
      }
     },
     "35215af5a1624adbb20d8dd98cb298b0": {
      "model_module": "@jupyter-widgets/controls",
      "model_module_version": "1.5.0",
      "model_name": "DescriptionStyleModel",
      "state": {
       "description_width": ""
      }
     },
     "354d4bc5922d41e0b3ca3a805a5e88c3": {
      "model_module": "@jupyter-widgets/controls",
      "model_module_version": "1.5.0",
      "model_name": "DescriptionStyleModel",
      "state": {
       "description_width": ""
      }
     },
     "355167d8197a4fc09f742e6e1cd8f33f": {
      "model_module": "@jupyter-widgets/base",
      "model_module_version": "1.2.0",
      "model_name": "LayoutModel",
      "state": {}
     },
     "355b4868619c485495b39e90af4ccdec": {
      "model_module": "@jupyter-widgets/controls",
      "model_module_version": "1.5.0",
      "model_name": "FloatProgressModel",
      "state": {
       "bar_style": "danger",
       "description": "Train:   0%",
       "layout": "IPY_MODEL_7e2f28443cd644e8ab8aca6e380ef335",
       "max": 23,
       "style": "IPY_MODEL_aa25de63a24a4650a6dc6c99ad899691"
      }
     },
     "355ebe5bad464d9785ee69553f7a4ee0": {
      "model_module": "@jupyter-widgets/base",
      "model_module_version": "1.2.0",
      "model_name": "LayoutModel",
      "state": {}
     },
     "35815e5640dc46bdbac8c4f3f141d3f8": {
      "model_module": "@jupyter-widgets/base",
      "model_module_version": "1.2.0",
      "model_name": "LayoutModel",
      "state": {}
     },
     "35933a5aedc44ce484e01dad39cf1759": {
      "model_module": "@jupyter-widgets/controls",
      "model_module_version": "1.5.0",
      "model_name": "HTMLModel",
      "state": {
       "layout": "IPY_MODEL_a226d05b76a3488aba8b831ff3ca401e",
       "style": "IPY_MODEL_3d1fea2f78ae4263b06a51373875acdb",
       "value": " 0/10000 [00:55&lt;?, ?it/s]"
      }
     },
     "35aa392f152b4d08bfdca915073ab05c": {
      "model_module": "@jupyter-widgets/controls",
      "model_module_version": "1.5.0",
      "model_name": "HTMLModel",
      "state": {
       "layout": "IPY_MODEL_07c71f65429e42038fd2bd5172f18a09",
       "style": "IPY_MODEL_1fc58cde4dd94277a05e3781f1c507cb",
       "value": " 0/5000 [02:21&lt;?, ?it/s]"
      }
     },
     "35b35924a0aa45b48a008fe9b232451d": {
      "model_module": "@jupyter-widgets/base",
      "model_module_version": "1.2.0",
      "model_name": "LayoutModel",
      "state": {}
     },
     "35cf9eee38234ea5a0bf2bbdf2298895": {
      "model_module": "@jupyter-widgets/controls",
      "model_module_version": "1.5.0",
      "model_name": "ProgressStyleModel",
      "state": {
       "description_width": "initial"
      }
     },
     "35d4e164901441e39ef39166269472ad": {
      "model_module": "@jupyter-widgets/base",
      "model_module_version": "1.2.0",
      "model_name": "LayoutModel",
      "state": {}
     },
     "35fa36776ed34e2894e44e2db6a8965b": {
      "model_module": "@jupyter-widgets/base",
      "model_module_version": "1.2.0",
      "model_name": "LayoutModel",
      "state": {}
     },
     "360e43667f924547a5355253c7fb4aae": {
      "model_module": "@jupyter-widgets/base",
      "model_module_version": "1.2.0",
      "model_name": "LayoutModel",
      "state": {}
     },
     "3623095697294264b9ae2e509fc630bb": {
      "model_module": "@jupyter-widgets/base",
      "model_module_version": "1.2.0",
      "model_name": "LayoutModel",
      "state": {}
     },
     "36231eef9ecf45d180505f7af2bb022c": {
      "model_module": "@jupyter-widgets/controls",
      "model_module_version": "1.5.0",
      "model_name": "DescriptionStyleModel",
      "state": {
       "description_width": ""
      }
     },
     "36383a166aed4370bb8fa3f30a7cf263": {
      "model_module": "@jupyter-widgets/controls",
      "model_module_version": "1.5.0",
      "model_name": "HTMLModel",
      "state": {
       "layout": "IPY_MODEL_54b8787444d14c70b3946bd81cd38a8a",
       "style": "IPY_MODEL_c50b529f02af4195be2e2cef4d364005",
       "value": " 0/10000 [01:08&lt;?, ?it/s]"
      }
     },
     "3658c0d33c7347feb3c775f55bd4da44": {
      "model_module": "@jupyter-widgets/controls",
      "model_module_version": "1.5.0",
      "model_name": "FloatProgressModel",
      "state": {
       "bar_style": "danger",
       "description": "Train:   0%",
       "layout": "IPY_MODEL_360e43667f924547a5355253c7fb4aae",
       "max": 12,
       "style": "IPY_MODEL_f4abfff117c8417da3b5542fa695afe3"
      }
     },
     "3690abcaffe740ae9e3af56483a2b674": {
      "model_module": "@jupyter-widgets/controls",
      "model_module_version": "1.5.0",
      "model_name": "FloatProgressModel",
      "state": {
       "bar_style": "danger",
       "description": "Train epoch=0:   0%",
       "layout": "IPY_MODEL_4ec80dfa08754d1394baa9c74657286f",
       "max": 90000,
       "style": "IPY_MODEL_0294dcc0dba948729f40bcc1b24ad294",
       "value": 142
      }
     },
     "3696c5d8ae334b3c8ef960abcf2adbde": {
      "model_module": "@jupyter-widgets/controls",
      "model_module_version": "1.5.0",
      "model_name": "FloatProgressModel",
      "state": {
       "bar_style": "danger",
       "description": "Valid iteration=0:   0%",
       "layout": "IPY_MODEL_b001b1d2e4f449b2a76ec981bdbef052",
       "max": 10000,
       "style": "IPY_MODEL_0646adec21e6418c9319e590393f5ace"
      }
     },
     "36be6e683c154df0986e81e14245cd19": {
      "model_module": "@jupyter-widgets/base",
      "model_module_version": "1.2.0",
      "model_name": "LayoutModel",
      "state": {}
     },
     "36d0f705b1384b02a05cb1584b096e00": {
      "model_module": "@jupyter-widgets/controls",
      "model_module_version": "1.5.0",
      "model_name": "HBoxModel",
      "state": {
       "children": [
        "IPY_MODEL_b0456d92a20f4ad5994e992b011ffbff",
        "IPY_MODEL_953d6f38b1f24d69962892623ea628fe"
       ],
       "layout": "IPY_MODEL_cd0699c8a6ea4e999dac00ce1177d84c"
      }
     },
     "36d2ad178a0546fcaa1bbb66938ec18b": {
      "model_module": "@jupyter-widgets/controls",
      "model_module_version": "1.5.0",
      "model_name": "DescriptionStyleModel",
      "state": {
       "description_width": ""
      }
     },
     "36d4bdcd75194610bd83084d84dc5466": {
      "model_module": "@jupyter-widgets/controls",
      "model_module_version": "1.5.0",
      "model_name": "ProgressStyleModel",
      "state": {
       "description_width": "initial"
      }
     },
     "36d978d72c254032b3b4b2c93b34cd6a": {
      "model_module": "@jupyter-widgets/controls",
      "model_module_version": "1.5.0",
      "model_name": "DescriptionStyleModel",
      "state": {
       "description_width": ""
      }
     },
     "372a66d45e4b4028970b7813ff52259a": {
      "model_module": "@jupyter-widgets/base",
      "model_module_version": "1.2.0",
      "model_name": "LayoutModel",
      "state": {}
     },
     "372e4ca3b2e34da9adc9afa77bd61d55": {
      "model_module": "@jupyter-widgets/controls",
      "model_module_version": "1.5.0",
      "model_name": "HTMLModel",
      "state": {
       "layout": "IPY_MODEL_66b5e69e947b483c8a932a0b38af07f7",
       "style": "IPY_MODEL_4de3b30cc83048258fae8392f5a4a2da",
       "value": " 1/5000 [03:19&lt;276:35:27, 199.19s/it]"
      }
     },
     "37388867d4b0463e8f391f539ac299fd": {
      "model_module": "@jupyter-widgets/controls",
      "model_module_version": "1.5.0",
      "model_name": "HBoxModel",
      "state": {
       "children": [
        "IPY_MODEL_7bb10753cbd34c9e96ab3cb3a7e1fa04",
        "IPY_MODEL_7c372d40145541a0b39a50a7dd21af35"
       ],
       "layout": "IPY_MODEL_ef94798eb24845198ce41ca31e1980dd"
      }
     },
     "373f48f9474a4ba690eebc9f75e87657": {
      "model_module": "@jupyter-widgets/base",
      "model_module_version": "1.2.0",
      "model_name": "LayoutModel",
      "state": {}
     },
     "375313e6a8be4f9ba61ded7acadf8f84": {
      "model_module": "@jupyter-widgets/base",
      "model_module_version": "1.2.0",
      "model_name": "LayoutModel",
      "state": {}
     },
     "37816c3aac984e4091b18ef364407139": {
      "model_module": "@jupyter-widgets/controls",
      "model_module_version": "1.5.0",
      "model_name": "ProgressStyleModel",
      "state": {
       "description_width": "initial"
      }
     },
     "37853ceb631a4f25a9d38189c1de12b5": {
      "model_module": "@jupyter-widgets/controls",
      "model_module_version": "1.5.0",
      "model_name": "FloatProgressModel",
      "state": {
       "bar_style": "danger",
       "description": "Train:   0%",
       "layout": "IPY_MODEL_e1521107829c4d2a97950f9540bbf2de",
       "max": 12,
       "style": "IPY_MODEL_170fd8a1c5e04f739ef37b14f9141f58"
      }
     },
     "3796ff5475ef4949976fea7b37572f08": {
      "model_module": "@jupyter-widgets/controls",
      "model_module_version": "1.5.0",
      "model_name": "HTMLModel",
      "state": {
       "layout": "IPY_MODEL_728166b5e3154913b34b97bbc4ea8bf5",
       "style": "IPY_MODEL_b40fdbbeee3643dfb3f74b2c0c474b6b",
       "value": " 0/12 [00:13&lt;?, ?it/s]"
      }
     },
     "37a5dc4c54444b418999fce5006cb928": {
      "model_module": "@jupyter-widgets/controls",
      "model_module_version": "1.5.0",
      "model_name": "ProgressStyleModel",
      "state": {
       "description_width": "initial"
      }
     },
     "37f00abbbb05413cb2e1767c6f5a6c42": {
      "model_module": "@jupyter-widgets/controls",
      "model_module_version": "1.5.0",
      "model_name": "HBoxModel",
      "state": {
       "children": [
        "IPY_MODEL_390ecbd910144f0bbb5f76baa28d7829",
        "IPY_MODEL_d69a961e112c466b8ece6bf46f281412"
       ],
       "layout": "IPY_MODEL_4a68b8df37ac46ac9d261058a77212b3"
      }
     },
     "3823877f6fd2490a9323ff9ad2dd6039": {
      "model_module": "@jupyter-widgets/base",
      "model_module_version": "1.2.0",
      "model_name": "LayoutModel",
      "state": {}
     },
     "3825b09cc5a44da2ba62cc684e7f0906": {
      "model_module": "@jupyter-widgets/controls",
      "model_module_version": "1.5.0",
      "model_name": "DescriptionStyleModel",
      "state": {
       "description_width": ""
      }
     },
     "383524b9fe08479ca3b086abbc1517a7": {
      "model_module": "@jupyter-widgets/controls",
      "model_module_version": "1.5.0",
      "model_name": "HBoxModel",
      "state": {
       "children": [
        "IPY_MODEL_e9924aa3ea514215b292666e2f57094c",
        "IPY_MODEL_d901e3bdcee8499881267f18097e8c5a"
       ],
       "layout": "IPY_MODEL_b9c49f0badc642e39ec2479baed5eff6"
      }
     },
     "3860d89d54bf44b98ea50fd4e3d182fb": {
      "model_module": "@jupyter-widgets/controls",
      "model_module_version": "1.5.0",
      "model_name": "HTMLModel",
      "state": {
       "layout": "IPY_MODEL_5a653957d7c1417999ea188dbfc927c1",
       "style": "IPY_MODEL_cd848f231d774fd699b1f1904ab14162",
       "value": " 0/90000 [02:30&lt;?, ?it/s]"
      }
     },
     "387848aa8c604ba79810d0d35f176c05": {
      "model_module": "@jupyter-widgets/base",
      "model_module_version": "1.2.0",
      "model_name": "LayoutModel",
      "state": {}
     },
     "3880658ed8814795a2f27a71805f3f8d": {
      "model_module": "@jupyter-widgets/base",
      "model_module_version": "1.2.0",
      "model_name": "LayoutModel",
      "state": {}
     },
     "3888e16e63a54eee873bed0c7fc47ddd": {
      "model_module": "@jupyter-widgets/base",
      "model_module_version": "1.2.0",
      "model_name": "LayoutModel",
      "state": {}
     },
     "38b1747de2dc4811bd41c4ef743241f7": {
      "model_module": "@jupyter-widgets/controls",
      "model_module_version": "1.5.0",
      "model_name": "HTMLModel",
      "state": {
       "layout": "IPY_MODEL_28e0e89a6e494563b3472a62d128b1a6",
       "style": "IPY_MODEL_fbd5840849b849b6a252d9556090215a",
       "value": " 0/5000 [01:08&lt;?, ?it/s]"
      }
     },
     "38c375e79745443ca5aa202fe9eb7f13": {
      "model_module": "@jupyter-widgets/base",
      "model_module_version": "1.2.0",
      "model_name": "LayoutModel",
      "state": {}
     },
     "38eb1850e223451ea63cb30dc5eb66ba": {
      "model_module": "@jupyter-widgets/controls",
      "model_module_version": "1.5.0",
      "model_name": "DescriptionStyleModel",
      "state": {
       "description_width": ""
      }
     },
     "38fc8da445a54df0991f16913f73bc23": {
      "model_module": "@jupyter-widgets/controls",
      "model_module_version": "1.5.0",
      "model_name": "HBoxModel",
      "state": {
       "children": [
        "IPY_MODEL_0702fb72483f4aab824c9233b8e79d36",
        "IPY_MODEL_d9f2d7192636422ca15647216205d8ca"
       ],
       "layout": "IPY_MODEL_527310dab0494baea05a2a2544b2ff11"
      }
     },
     "38ff05edad90475181d51253ce3166e6": {
      "model_module": "@jupyter-widgets/controls",
      "model_module_version": "1.5.0",
      "model_name": "FloatProgressModel",
      "state": {
       "bar_style": "danger",
       "description": "Train:   0%",
       "layout": "IPY_MODEL_6b329131356a4f1284b3aa691f82f61d",
       "max": 12,
       "style": "IPY_MODEL_e8fc8a1b031f4177a8d7c05c3998f085"
      }
     },
     "390ecbd910144f0bbb5f76baa28d7829": {
      "model_module": "@jupyter-widgets/controls",
      "model_module_version": "1.5.0",
      "model_name": "FloatProgressModel",
      "state": {
       "bar_style": "danger",
       "description": "Valid iteration=1000:   0%",
       "layout": "IPY_MODEL_934848da48004870818dcf39e112554c",
       "max": 5000,
       "style": "IPY_MODEL_567d4231d00e488b8d39af22f0da6a0b"
      }
     },
     "393541b9616540c68aed28441c8f9207": {
      "model_module": "@jupyter-widgets/base",
      "model_module_version": "1.2.0",
      "model_name": "LayoutModel",
      "state": {}
     },
     "393f37fb761c4752b6d158c8e55e5c8d": {
      "model_module": "@jupyter-widgets/controls",
      "model_module_version": "1.5.0",
      "model_name": "ProgressStyleModel",
      "state": {
       "description_width": "initial"
      }
     },
     "39549c72e3f74369990e71299e91353c": {
      "model_module": "@jupyter-widgets/controls",
      "model_module_version": "1.5.0",
      "model_name": "HTMLModel",
      "state": {
       "layout": "IPY_MODEL_c5641e131c344d0592cdb7d768a3ba84",
       "style": "IPY_MODEL_0fb4bb48a30448f58b3a45b03ec038f9",
       "value": " 0/12 [00:49&lt;?, ?it/s]"
      }
     },
     "396ac5e2c63b4964b0ceeb8c9a8677b0": {
      "model_module": "@jupyter-widgets/base",
      "model_module_version": "1.2.0",
      "model_name": "LayoutModel",
      "state": {}
     },
     "396f39e1f81842a09f53186379d9e283": {
      "model_module": "@jupyter-widgets/controls",
      "model_module_version": "1.5.0",
      "model_name": "HBoxModel",
      "state": {
       "children": [
        "IPY_MODEL_776daa40b91d4817b122e81ac82066c6",
        "IPY_MODEL_af5788f3aff041b49ccd94ed11e71092"
       ],
       "layout": "IPY_MODEL_c7b7c2b632cc4f689fc004aca35564c2"
      }
     },
     "39749eb51d8143e08921fd2573a10ff1": {
      "model_module": "@jupyter-widgets/base",
      "model_module_version": "1.2.0",
      "model_name": "LayoutModel",
      "state": {}
     },
     "39888fad47dd46d6bb19df3c0b3dfbdb": {
      "model_module": "@jupyter-widgets/base",
      "model_module_version": "1.2.0",
      "model_name": "LayoutModel",
      "state": {}
     },
     "3989e8ca392c4b3fa1eef714ee191e32": {
      "model_module": "@jupyter-widgets/controls",
      "model_module_version": "1.5.0",
      "model_name": "DescriptionStyleModel",
      "state": {
       "description_width": ""
      }
     },
     "399131c4756e498583393c4d5844d81b": {
      "model_module": "@jupyter-widgets/base",
      "model_module_version": "1.2.0",
      "model_name": "LayoutModel",
      "state": {}
     },
     "39994286827f41569f8fea2d0f8a12c2": {
      "model_module": "@jupyter-widgets/base",
      "model_module_version": "1.2.0",
      "model_name": "LayoutModel",
      "state": {}
     },
     "39a4bd9087024e71b101ca9addaf38b4": {
      "model_module": "@jupyter-widgets/controls",
      "model_module_version": "1.5.0",
      "model_name": "DescriptionStyleModel",
      "state": {
       "description_width": ""
      }
     },
     "39c996121b4e42558f8daf4858d85379": {
      "model_module": "@jupyter-widgets/base",
      "model_module_version": "1.2.0",
      "model_name": "LayoutModel",
      "state": {}
     },
     "39d05f55aaff48838594726f5d83b96e": {
      "model_module": "@jupyter-widgets/controls",
      "model_module_version": "1.5.0",
      "model_name": "DescriptionStyleModel",
      "state": {
       "description_width": ""
      }
     },
     "39e718d7fd9343c6a5876e9f99ca65bb": {
      "model_module": "@jupyter-widgets/controls",
      "model_module_version": "1.5.0",
      "model_name": "HTMLModel",
      "state": {
       "layout": "IPY_MODEL_0a0f538ac22d496fb5c18577fb6be297",
       "style": "IPY_MODEL_33fa8194bf6a451195288509163dc2df",
       "value": " 0/90000 [02:41&lt;?, ?it/s]"
      }
     },
     "3a0b14ccb8e44ccd8d2ee33514e8a062": {
      "model_module": "@jupyter-widgets/controls",
      "model_module_version": "1.5.0",
      "model_name": "ProgressStyleModel",
      "state": {
       "description_width": "initial"
      }
     },
     "3a141590fb62430996227f2568217c0a": {
      "model_module": "@jupyter-widgets/base",
      "model_module_version": "1.2.0",
      "model_name": "LayoutModel",
      "state": {}
     },
     "3a24f00557c8415986f83223539548bc": {
      "model_module": "@jupyter-widgets/controls",
      "model_module_version": "1.5.0",
      "model_name": "ProgressStyleModel",
      "state": {
       "description_width": "initial"
      }
     },
     "3a28af5b5953492bac8748e48a81ec51": {
      "model_module": "@jupyter-widgets/controls",
      "model_module_version": "1.5.0",
      "model_name": "HTMLModel",
      "state": {
       "layout": "IPY_MODEL_ec76a69fcb67412d9556c1bc812ed207",
       "style": "IPY_MODEL_bf94becde0114ff89b74e6787bdefff6",
       "value": " 38/90000 [00:21&lt;8:39:14,  2.89it/s]"
      }
     },
     "3a4872046f6f4f3bb5265b58ad2fe6d5": {
      "model_module": "@jupyter-widgets/base",
      "model_module_version": "1.2.0",
      "model_name": "LayoutModel",
      "state": {}
     },
     "3a563dd1d1a74dac9e9345b86d851724": {
      "model_module": "@jupyter-widgets/base",
      "model_module_version": "1.2.0",
      "model_name": "LayoutModel",
      "state": {}
     },
     "3a58f2029fbc4f04bd988ccbb518c7b8": {
      "model_module": "@jupyter-widgets/base",
      "model_module_version": "1.2.0",
      "model_name": "LayoutModel",
      "state": {}
     },
     "3a5d5c93f71a4be7bd4c53c16471b703": {
      "model_module": "@jupyter-widgets/controls",
      "model_module_version": "1.5.0",
      "model_name": "HBoxModel",
      "state": {
       "children": [
        "IPY_MODEL_f11c85dc3729473d83e0ca7b8dd69744",
        "IPY_MODEL_9b882676adcf42b39f9fe933c9d71b75"
       ],
       "layout": "IPY_MODEL_74c212022eb141b49442cc1ea89c4d10"
      }
     },
     "3a8e88ee37bc417b9551e8adcea23084": {
      "model_module": "@jupyter-widgets/base",
      "model_module_version": "1.2.0",
      "model_name": "LayoutModel",
      "state": {}
     },
     "3aa37186541c4beeb33f7169e5304bb7": {
      "model_module": "@jupyter-widgets/base",
      "model_module_version": "1.2.0",
      "model_name": "LayoutModel",
      "state": {}
     },
     "3abb3bad10964c04bc79df9efbdd9d3b": {
      "model_module": "@jupyter-widgets/controls",
      "model_module_version": "1.5.0",
      "model_name": "HBoxModel",
      "state": {
       "children": [
        "IPY_MODEL_bc611bb2293849579ef4989032980c8d",
        "IPY_MODEL_56b1f64b02a14e17ba1f9822ad0ff009"
       ],
       "layout": "IPY_MODEL_4da72121fdd8417599e24c3cb2fa30ae"
      }
     },
     "3abcb97e104849b4970067c46712fa5c": {
      "model_module": "@jupyter-widgets/controls",
      "model_module_version": "1.5.0",
      "model_name": "ProgressStyleModel",
      "state": {
       "description_width": "initial"
      }
     },
     "3ac0cf73446044bda4cc3459c49fd030": {
      "model_module": "@jupyter-widgets/base",
      "model_module_version": "1.2.0",
      "model_name": "LayoutModel",
      "state": {}
     },
     "3acedcac7a87463e9c8df885fe15115d": {
      "model_module": "@jupyter-widgets/controls",
      "model_module_version": "1.5.0",
      "model_name": "FloatProgressModel",
      "state": {
       "bar_style": "danger",
       "description": "Valid iteration=0:   0%",
       "layout": "IPY_MODEL_d586ba3ffdd74787a68dd50e553df2bf",
       "max": 10000,
       "style": "IPY_MODEL_e7ebc2461d7e45fbab5a9b0af1fea6d9"
      }
     },
     "3ad8d6e8526e4062969804cbbfbd771e": {
      "model_module": "@jupyter-widgets/controls",
      "model_module_version": "1.5.0",
      "model_name": "HBoxModel",
      "state": {
       "children": [
        "IPY_MODEL_4c953487d5c04694baa2c0126f84a2df",
        "IPY_MODEL_902b651b83e84fcb824c30bcbffe92cf"
       ],
       "layout": "IPY_MODEL_61161137ec934d1a93a2ebaac330b6be"
      }
     },
     "3aefb6fea3284878b5fdab9062a6c6d3": {
      "model_module": "@jupyter-widgets/base",
      "model_module_version": "1.2.0",
      "model_name": "LayoutModel",
      "state": {}
     },
     "3b11e0d3f4ba4a2296cd33cab4569906": {
      "model_module": "@jupyter-widgets/base",
      "model_module_version": "1.2.0",
      "model_name": "LayoutModel",
      "state": {}
     },
     "3b12b734e0af4ed89ec3abf8b8801fb8": {
      "model_module": "@jupyter-widgets/controls",
      "model_module_version": "1.5.0",
      "model_name": "ProgressStyleModel",
      "state": {
       "description_width": "initial"
      }
     },
     "3b1ec1fcf69b4449a398e3355fca7c32": {
      "model_module": "@jupyter-widgets/controls",
      "model_module_version": "1.5.0",
      "model_name": "HBoxModel",
      "state": {
       "children": [
        "IPY_MODEL_dac3af3a5d5b47038de60b5c1f687aeb",
        "IPY_MODEL_f47bb3600ca34967bc29cb02bbc7a7fd"
       ],
       "layout": "IPY_MODEL_2946c1972ad7462c8b028ed12dcaa292"
      }
     },
     "3b4684ae6bab4801bc9aa27d31d88c56": {
      "model_module": "@jupyter-widgets/controls",
      "model_module_version": "1.5.0",
      "model_name": "HTMLModel",
      "state": {
       "layout": "IPY_MODEL_a9680faef12e4840b1b94e8952b360b6",
       "style": "IPY_MODEL_f651565f9ff24606a9763680010fbe09",
       "value": " 0/10000 [01:30&lt;?, ?it/s]"
      }
     },
     "3b6bcae288cc4be8a53833c99366b312": {
      "model_module": "@jupyter-widgets/controls",
      "model_module_version": "1.5.0",
      "model_name": "HTMLModel",
      "state": {
       "layout": "IPY_MODEL_55a9c5e3cab94ee2aa3126a30d83444c",
       "style": "IPY_MODEL_b0f06964b4254b79a65726f3b4c870f7",
       "value": " 0/5000 [00:01&lt;?, ?it/s]"
      }
     },
     "3b7ab096c455458ca688c315ae810c6f": {
      "model_module": "@jupyter-widgets/base",
      "model_module_version": "1.2.0",
      "model_name": "LayoutModel",
      "state": {}
     },
     "3b91b1b0cbed416887654a79064accd8": {
      "model_module": "@jupyter-widgets/controls",
      "model_module_version": "1.5.0",
      "model_name": "DescriptionStyleModel",
      "state": {
       "description_width": ""
      }
     },
     "3b96382f1643425fb429cb4b71b87725": {
      "model_module": "@jupyter-widgets/base",
      "model_module_version": "1.2.0",
      "model_name": "LayoutModel",
      "state": {}
     },
     "3b97fee497004f689faf823e684854bd": {
      "model_module": "@jupyter-widgets/controls",
      "model_module_version": "1.5.0",
      "model_name": "FloatProgressModel",
      "state": {
       "bar_style": "danger",
       "description": "Train:   0%",
       "layout": "IPY_MODEL_e2d9456e835d4923943108c608753e60",
       "max": 12,
       "style": "IPY_MODEL_b629a0deda534470900d03c9c3ec2297"
      }
     },
     "3baf7a500d1540eeb6cf6c56627c5214": {
      "model_module": "@jupyter-widgets/controls",
      "model_module_version": "1.5.0",
      "model_name": "HTMLModel",
      "state": {
       "layout": "IPY_MODEL_3e676f805fae4183bde4ef64cf418a3f",
       "style": "IPY_MODEL_5a23dcc1367d48a18b23e085fac6f748",
       "value": " 0/10000 [00:18&lt;?, ?it/s]"
      }
     },
     "3be558c0198b403f9aa5652acb348b23": {
      "model_module": "@jupyter-widgets/base",
      "model_module_version": "1.2.0",
      "model_name": "LayoutModel",
      "state": {}
     },
     "3be9192e20be45368d4d91fec5549edc": {
      "model_module": "@jupyter-widgets/controls",
      "model_module_version": "1.5.0",
      "model_name": "FloatProgressModel",
      "state": {
       "bar_style": "danger",
       "description": "Train epoch=0:   0%",
       "layout": "IPY_MODEL_9f43c925356a421f9a68bf523ec23493",
       "max": 90000,
       "style": "IPY_MODEL_e7565061eda64c8b9271e452a0065038"
      }
     },
     "3c0ccf022fce48e6bcc4468e0893ae4d": {
      "model_module": "@jupyter-widgets/controls",
      "model_module_version": "1.5.0",
      "model_name": "ProgressStyleModel",
      "state": {
       "description_width": "initial"
      }
     },
     "3c4b44864eaf4224886a43fc582a497a": {
      "model_module": "@jupyter-widgets/controls",
      "model_module_version": "1.5.0",
      "model_name": "DescriptionStyleModel",
      "state": {
       "description_width": ""
      }
     },
     "3c60ba27b9ce49d593a6ee5f623eaa1d": {
      "model_module": "@jupyter-widgets/controls",
      "model_module_version": "1.5.0",
      "model_name": "ProgressStyleModel",
      "state": {
       "description_width": "initial"
      }
     },
     "3c63f707ee604837833f023513f248c7": {
      "model_module": "@jupyter-widgets/base",
      "model_module_version": "1.2.0",
      "model_name": "LayoutModel",
      "state": {}
     },
     "3cb9ef85313447dab70d1d799ae7d120": {
      "model_module": "@jupyter-widgets/base",
      "model_module_version": "1.2.0",
      "model_name": "LayoutModel",
      "state": {}
     },
     "3ce038c4008e469dbb098cff3dfc1aa8": {
      "model_module": "@jupyter-widgets/base",
      "model_module_version": "1.2.0",
      "model_name": "LayoutModel",
      "state": {}
     },
     "3cfd3b0163244b28b8102540070f8a7e": {
      "model_module": "@jupyter-widgets/base",
      "model_module_version": "1.2.0",
      "model_name": "LayoutModel",
      "state": {}
     },
     "3d13663877384502a01e652f4579f52f": {
      "model_module": "@jupyter-widgets/base",
      "model_module_version": "1.2.0",
      "model_name": "LayoutModel",
      "state": {}
     },
     "3d1fea2f78ae4263b06a51373875acdb": {
      "model_module": "@jupyter-widgets/controls",
      "model_module_version": "1.5.0",
      "model_name": "DescriptionStyleModel",
      "state": {
       "description_width": ""
      }
     },
     "3d2c5fb922b24d18998a9331e4c3935d": {
      "model_module": "@jupyter-widgets/base",
      "model_module_version": "1.2.0",
      "model_name": "LayoutModel",
      "state": {}
     },
     "3d38e81523ec4b7d8bfcdca893a827ac": {
      "model_module": "@jupyter-widgets/controls",
      "model_module_version": "1.5.0",
      "model_name": "ProgressStyleModel",
      "state": {
       "description_width": "initial"
      }
     },
     "3d3ec4dd93b443a2a05ac496b3411d25": {
      "model_module": "@jupyter-widgets/base",
      "model_module_version": "1.2.0",
      "model_name": "LayoutModel",
      "state": {}
     },
     "3d5a06f00f554871b5258ce668de3a9f": {
      "model_module": "@jupyter-widgets/base",
      "model_module_version": "1.2.0",
      "model_name": "LayoutModel",
      "state": {}
     },
     "3d5a82d740304b36b040a12bba7c746c": {
      "model_module": "@jupyter-widgets/controls",
      "model_module_version": "1.5.0",
      "model_name": "HTMLModel",
      "state": {
       "layout": "IPY_MODEL_e66a91124dd249609ef8925160519e87",
       "style": "IPY_MODEL_050299f9d4ca49e0a59acff96c072e9a",
       "value": " 0/12 [04:03&lt;?, ?it/s]"
      }
     },
     "3d73c0bb8a7a4a6ab05e43bd83d41497": {
      "model_module": "@jupyter-widgets/base",
      "model_module_version": "1.2.0",
      "model_name": "LayoutModel",
      "state": {}
     },
     "3d8da7fb48d84b8e84f6ce8896b5ea6f": {
      "model_module": "@jupyter-widgets/controls",
      "model_module_version": "1.5.0",
      "model_name": "HTMLModel",
      "state": {
       "layout": "IPY_MODEL_e2f366fca7ad403c8cc7612d02875612",
       "style": "IPY_MODEL_b222ebe96e1c4669a271d0c91aa59e12",
       "value": " 0/12 [03:49&lt;?, ?it/s]"
      }
     },
     "3da28e8b8e5348539c6e774b962f6d59": {
      "model_module": "@jupyter-widgets/base",
      "model_module_version": "1.2.0",
      "model_name": "LayoutModel",
      "state": {}
     },
     "3da595c3e2b04b958d9f28f906c807bb": {
      "model_module": "@jupyter-widgets/controls",
      "model_module_version": "1.5.0",
      "model_name": "FloatProgressModel",
      "state": {
       "bar_style": "danger",
       "description": "Train epoch=0:   0%",
       "layout": "IPY_MODEL_a32380c034af42739f089bdb54ce0256",
       "max": 90000,
       "style": "IPY_MODEL_01eeecb680aa4fa0b8fd7bfec09058d8",
       "value": 32
      }
     },
     "3daa44dd41184237a556efb43293aa68": {
      "model_module": "@jupyter-widgets/base",
      "model_module_version": "1.2.0",
      "model_name": "LayoutModel",
      "state": {}
     },
     "3dbac2c21a0042dea82f02f5ead3a695": {
      "model_module": "@jupyter-widgets/controls",
      "model_module_version": "1.5.0",
      "model_name": "DescriptionStyleModel",
      "state": {
       "description_width": ""
      }
     },
     "3dc41c8b1c4842a6ad6cd6b5eeaa667b": {
      "model_module": "@jupyter-widgets/base",
      "model_module_version": "1.2.0",
      "model_name": "LayoutModel",
      "state": {}
     },
     "3e10f7d8eb1e4957b9023ebee35f0b48": {
      "model_module": "@jupyter-widgets/base",
      "model_module_version": "1.2.0",
      "model_name": "LayoutModel",
      "state": {}
     },
     "3e2384001cf147c0827b5f88a1c34747": {
      "model_module": "@jupyter-widgets/controls",
      "model_module_version": "1.5.0",
      "model_name": "HBoxModel",
      "state": {
       "children": [
        "IPY_MODEL_5ff6f9dd60be4f1d951344c2e756e6fc",
        "IPY_MODEL_a79034f897a6408da788c06e243c613d"
       ],
       "layout": "IPY_MODEL_b88ac9aadbf1466cb68c15720bbd74f9"
      }
     },
     "3e2640d1b3c345cf980529ac974797d1": {
      "model_module": "@jupyter-widgets/base",
      "model_module_version": "1.2.0",
      "model_name": "LayoutModel",
      "state": {}
     },
     "3e27c8bb3d424ba5a1b853a2a6474099": {
      "model_module": "@jupyter-widgets/controls",
      "model_module_version": "1.5.0",
      "model_name": "HTMLModel",
      "state": {
       "layout": "IPY_MODEL_0734c6499f0544a682913fe4a14ddb41",
       "style": "IPY_MODEL_55ecd7aaa7f14f90a0e01b2e604f2df7",
       "value": " 0/5000 [00:01&lt;?, ?it/s]"
      }
     },
     "3e3d4139dc344207947aab36cf870094": {
      "model_module": "@jupyter-widgets/controls",
      "model_module_version": "1.5.0",
      "model_name": "ProgressStyleModel",
      "state": {
       "description_width": "initial"
      }
     },
     "3e415c8724184122912a552a4d4ea590": {
      "model_module": "@jupyter-widgets/controls",
      "model_module_version": "1.5.0",
      "model_name": "DescriptionStyleModel",
      "state": {
       "description_width": ""
      }
     },
     "3e419caeca1b4c10b3c8d49be48e9e66": {
      "model_module": "@jupyter-widgets/base",
      "model_module_version": "1.2.0",
      "model_name": "LayoutModel",
      "state": {}
     },
     "3e4d7a02b87141ffa3f3d31f561fc6bd": {
      "model_module": "@jupyter-widgets/base",
      "model_module_version": "1.2.0",
      "model_name": "LayoutModel",
      "state": {}
     },
     "3e676f805fae4183bde4ef64cf418a3f": {
      "model_module": "@jupyter-widgets/base",
      "model_module_version": "1.2.0",
      "model_name": "LayoutModel",
      "state": {}
     },
     "3e6c9913e224405f93a57fb105ad399e": {
      "model_module": "@jupyter-widgets/controls",
      "model_module_version": "1.5.0",
      "model_name": "HBoxModel",
      "state": {
       "children": [
        "IPY_MODEL_cfd317907cc34d77a5f7a8da3b82e5ef",
        "IPY_MODEL_651489ffdbd643e2bf8994dff0f22fa6"
       ],
       "layout": "IPY_MODEL_db99d70a3fe14643a3f65d89f0f91f85"
      }
     },
     "3e99cadc8e574ad6b10593341b4da037": {
      "model_module": "@jupyter-widgets/controls",
      "model_module_version": "1.5.0",
      "model_name": "HTMLModel",
      "state": {
       "layout": "IPY_MODEL_0db2fae80c5446bb822ad6df6dbff4cc",
       "style": "IPY_MODEL_1113e2ec8c7d4f1db4cd00fd83018da7",
       "value": " 0/45000 [00:52&lt;?, ?it/s]"
      }
     },
     "3ea347125e5f47d88065a32bcfefbfa6": {
      "model_module": "@jupyter-widgets/base",
      "model_module_version": "1.2.0",
      "model_name": "LayoutModel",
      "state": {}
     },
     "3eae9294051d4257aa44f34051186894": {
      "model_module": "@jupyter-widgets/base",
      "model_module_version": "1.2.0",
      "model_name": "LayoutModel",
      "state": {}
     },
     "3eb03d66a76746ecb840c942aa928100": {
      "model_module": "@jupyter-widgets/base",
      "model_module_version": "1.2.0",
      "model_name": "LayoutModel",
      "state": {}
     },
     "3eb13f8344834b90b60f166dd2604d0a": {
      "model_module": "@jupyter-widgets/controls",
      "model_module_version": "1.5.0",
      "model_name": "FloatProgressModel",
      "state": {
       "bar_style": "danger",
       "description": "Valid iteration=0:   0%",
       "layout": "IPY_MODEL_2d2db8bb395d46d89a9b15009278564a",
       "max": 10000,
       "style": "IPY_MODEL_2e8261b176434b59acfab788a781dad2"
      }
     },
     "3eb4720bdb3f4dbdbed4166459246f68": {
      "model_module": "@jupyter-widgets/base",
      "model_module_version": "1.2.0",
      "model_name": "LayoutModel",
      "state": {}
     },
     "3ec82414091e4e2cad8d5ca3eb8636bd": {
      "model_module": "@jupyter-widgets/base",
      "model_module_version": "1.2.0",
      "model_name": "LayoutModel",
      "state": {}
     },
     "3ed787e953f74fc99e04ce005e016ab9": {
      "model_module": "@jupyter-widgets/controls",
      "model_module_version": "1.5.0",
      "model_name": "HBoxModel",
      "state": {
       "children": [
        "IPY_MODEL_958f6fd0d97a4bf79fd346a87eb61bc8",
        "IPY_MODEL_3f7b22f0a9714f72a9b8d65614cb5b7a"
       ],
       "layout": "IPY_MODEL_308b8ff88a6348fa8acd248ae57c5224"
      }
     },
     "3edd371478f14ada8e89650f2916079d": {
      "model_module": "@jupyter-widgets/base",
      "model_module_version": "1.2.0",
      "model_name": "LayoutModel",
      "state": {}
     },
     "3eee619a6b444345ae993b568d41dafb": {
      "model_module": "@jupyter-widgets/controls",
      "model_module_version": "1.5.0",
      "model_name": "FloatProgressModel",
      "state": {
       "bar_style": "danger",
       "description": "Train epoch=0:   2%",
       "layout": "IPY_MODEL_5450d12b2ea6473887d914185b047ace",
       "max": 90000,
       "style": "IPY_MODEL_723df77532b54b3189b576215ea5a8be",
       "value": 1492
      }
     },
     "3efb9728c7b54666b8b58b4f2a2c0904": {
      "model_module": "@jupyter-widgets/controls",
      "model_module_version": "1.5.0",
      "model_name": "ProgressStyleModel",
      "state": {
       "description_width": "initial"
      }
     },
     "3f143fbfbb924f6ebf875fb3ec8733bd": {
      "model_module": "@jupyter-widgets/controls",
      "model_module_version": "1.5.0",
      "model_name": "HTMLModel",
      "state": {
       "layout": "IPY_MODEL_8b22a080c92745d38d1d8f5e4affbe70",
       "style": "IPY_MODEL_b2c571ff01c44e3abf63d5a831dd23e0",
       "value": " 0/12 [01:44&lt;?, ?it/s]"
      }
     },
     "3f17d1bfb1e440d7b9bd2b261363c126": {
      "model_module": "@jupyter-widgets/controls",
      "model_module_version": "1.5.0",
      "model_name": "FloatProgressModel",
      "state": {
       "bar_style": "danger",
       "description": "Valid iteration=0:   0%",
       "layout": "IPY_MODEL_393541b9616540c68aed28441c8f9207",
       "max": 5000,
       "style": "IPY_MODEL_53474c9fa0f74dd1baac376ac2da5b9f"
      }
     },
     "3f264e476c684d679506772a5a85c077": {
      "model_module": "@jupyter-widgets/controls",
      "model_module_version": "1.5.0",
      "model_name": "HBoxModel",
      "state": {
       "children": [
        "IPY_MODEL_574e8e5282744b5896531ca0afb8edf4",
        "IPY_MODEL_5fbd647cbdd643439bbf7bc6cd081697"
       ],
       "layout": "IPY_MODEL_761ae5b06f654c3a993a4b92c79b6e4e"
      }
     },
     "3f3a117cee8647bda45deb67278db131": {
      "model_module": "@jupyter-widgets/controls",
      "model_module_version": "1.5.0",
      "model_name": "FloatProgressModel",
      "state": {
       "bar_style": "danger",
       "description": "Train:   0%",
       "layout": "IPY_MODEL_710664ec3bec4597be7837fe02b2ef2b",
       "max": 12,
       "style": "IPY_MODEL_3f41aef75fd4495aab771108cde62793"
      }
     },
     "3f41aef75fd4495aab771108cde62793": {
      "model_module": "@jupyter-widgets/controls",
      "model_module_version": "1.5.0",
      "model_name": "ProgressStyleModel",
      "state": {
       "description_width": "initial"
      }
     },
     "3f5235e3178f4c92ac3ee0d5bfe3e6ae": {
      "model_module": "@jupyter-widgets/controls",
      "model_module_version": "1.5.0",
      "model_name": "FloatProgressModel",
      "state": {
       "bar_style": "danger",
       "description": "Train:   0%",
       "layout": "IPY_MODEL_3d13663877384502a01e652f4579f52f",
       "max": 12,
       "style": "IPY_MODEL_45c298f1327c4a19aa783568a2942aa0"
      }
     },
     "3f5a767a50224cf4815428a1af1664bf": {
      "model_module": "@jupyter-widgets/controls",
      "model_module_version": "1.5.0",
      "model_name": "HBoxModel",
      "state": {
       "children": [
        "IPY_MODEL_09707cf5a6024670ac2c6270f0377d68",
        "IPY_MODEL_d206bd8bf5ef498abb2e12f968ddcdc5"
       ],
       "layout": "IPY_MODEL_f74d82fa681b45eb9bc2d843a540a206"
      }
     },
     "3f5cf6e473db48c6aa9f944b72e77d3b": {
      "model_module": "@jupyter-widgets/controls",
      "model_module_version": "1.5.0",
      "model_name": "HBoxModel",
      "state": {
       "children": [
        "IPY_MODEL_654b2d927e5b4246af321f3b65ce6dd6",
        "IPY_MODEL_c49de67a7bb446728fad2b11a38c9869"
       ],
       "layout": "IPY_MODEL_6cf03e82ac074dae826360ffc78dcf8e"
      }
     },
     "3f7b22f0a9714f72a9b8d65614cb5b7a": {
      "model_module": "@jupyter-widgets/controls",
      "model_module_version": "1.5.0",
      "model_name": "HTMLModel",
      "state": {
       "layout": "IPY_MODEL_f7a000a81ff245c18a354373797b499d",
       "style": "IPY_MODEL_33494cda969a4af09e7617aa77ee5074",
       "value": " 0/90000 [00:28&lt;?, ?it/s]"
      }
     },
     "3f7c2724d6f94cc9a7f99ab73945d4be": {
      "model_module": "@jupyter-widgets/controls",
      "model_module_version": "1.5.0",
      "model_name": "HBoxModel",
      "state": {
       "children": [
        "IPY_MODEL_448d45f8f85d4779b94d9ec69cdab5e2",
        "IPY_MODEL_c267c85dacfa4f2c8ee3a9ce087e74b7"
       ],
       "layout": "IPY_MODEL_d307193fe30a495a9be4b04c53362c3c"
      }
     },
     "3f862e82b23045598748a4e93d0b89ec": {
      "model_module": "@jupyter-widgets/controls",
      "model_module_version": "1.5.0",
      "model_name": "HTMLModel",
      "state": {
       "layout": "IPY_MODEL_23564a36dd2c41c38a1705dfdebd293b",
       "style": "IPY_MODEL_c2f6b3bc300d484aa66dc75354c335a6",
       "value": " 0/12 [00:29&lt;?, ?it/s]"
      }
     },
     "3fb56372f3d94f71b1d534b1979a1d11": {
      "model_module": "@jupyter-widgets/controls",
      "model_module_version": "1.5.0",
      "model_name": "HBoxModel",
      "state": {
       "children": [
        "IPY_MODEL_1c40f28a88de4cc897e009b5211bfcfe",
        "IPY_MODEL_7180f3bc746e47908a3dbb39086cb553"
       ],
       "layout": "IPY_MODEL_b3b3df8edf4b44e198412b05510f9d59"
      }
     },
     "3fceec8b774b48cd82431667c0a6fa86": {
      "model_module": "@jupyter-widgets/controls",
      "model_module_version": "1.5.0",
      "model_name": "FloatProgressModel",
      "state": {
       "bar_style": "danger",
       "description": "Train epoch=0:   0%",
       "layout": "IPY_MODEL_01e0e344b39c4da2970f4c7e17587a04",
       "max": 90000,
       "style": "IPY_MODEL_90961e14babb4815ab34675fb8c24ac2",
       "value": 38
      }
     },
     "3fd177cbb08746f6b9aede3f56f375de": {
      "model_module": "@jupyter-widgets/base",
      "model_module_version": "1.2.0",
      "model_name": "LayoutModel",
      "state": {}
     },
     "401cad1ffc1d4f75b54d7e555dfff605": {
      "model_module": "@jupyter-widgets/controls",
      "model_module_version": "1.5.0",
      "model_name": "HBoxModel",
      "state": {
       "children": [
        "IPY_MODEL_7aa0a965807c453db90a6362a0bdc148",
        "IPY_MODEL_9b8c6865c17c453086d1867b59c18046"
       ],
       "layout": "IPY_MODEL_3e4d7a02b87141ffa3f3d31f561fc6bd"
      }
     },
     "40243b7385d94140b6b842329926ac67": {
      "model_module": "@jupyter-widgets/base",
      "model_module_version": "1.2.0",
      "model_name": "LayoutModel",
      "state": {}
     },
     "402491cdc27b46a5b5ccaf341492d4ee": {
      "model_module": "@jupyter-widgets/controls",
      "model_module_version": "1.5.0",
      "model_name": "DescriptionStyleModel",
      "state": {
       "description_width": ""
      }
     },
     "403739b2ecbd4e9bbad85da6ef39ef15": {
      "model_module": "@jupyter-widgets/controls",
      "model_module_version": "1.5.0",
      "model_name": "ProgressStyleModel",
      "state": {
       "description_width": "initial"
      }
     },
     "403bc7db52ef44ee958df1c7b8592309": {
      "model_module": "@jupyter-widgets/base",
      "model_module_version": "1.2.0",
      "model_name": "LayoutModel",
      "state": {}
     },
     "4044e70853aa46839660c68f441f1846": {
      "model_module": "@jupyter-widgets/controls",
      "model_module_version": "1.5.0",
      "model_name": "ProgressStyleModel",
      "state": {
       "description_width": "initial"
      }
     },
     "4048351e1eaf457aacc969081dc5992d": {
      "model_module": "@jupyter-widgets/controls",
      "model_module_version": "1.5.0",
      "model_name": "ProgressStyleModel",
      "state": {
       "description_width": "initial"
      }
     },
     "405418bdceaa4ab09aae6d60659b8579": {
      "model_module": "@jupyter-widgets/controls",
      "model_module_version": "1.5.0",
      "model_name": "DescriptionStyleModel",
      "state": {
       "description_width": ""
      }
     },
     "40782c64c8fd4631843009add34f536e": {
      "model_module": "@jupyter-widgets/controls",
      "model_module_version": "1.5.0",
      "model_name": "ProgressStyleModel",
      "state": {
       "description_width": "initial"
      }
     },
     "4091eb7ad29a4fdf88b7e8bf92a04dd5": {
      "model_module": "@jupyter-widgets/controls",
      "model_module_version": "1.5.0",
      "model_name": "DescriptionStyleModel",
      "state": {
       "description_width": ""
      }
     },
     "40ab0993257942288131cc802fa5d345": {
      "model_module": "@jupyter-widgets/base",
      "model_module_version": "1.2.0",
      "model_name": "LayoutModel",
      "state": {}
     },
     "40ac25d0b48c4fa882e6acee82a308f4": {
      "model_module": "@jupyter-widgets/controls",
      "model_module_version": "1.5.0",
      "model_name": "DescriptionStyleModel",
      "state": {
       "description_width": ""
      }
     },
     "40bc3db910434b40b8ea5f42adbf6915": {
      "model_module": "@jupyter-widgets/base",
      "model_module_version": "1.2.0",
      "model_name": "LayoutModel",
      "state": {}
     },
     "40e29d345785407e9c2b0bf54dae2444": {
      "model_module": "@jupyter-widgets/controls",
      "model_module_version": "1.5.0",
      "model_name": "HBoxModel",
      "state": {
       "children": [
        "IPY_MODEL_a59bf518c97a42f49d0841bbcf4768c8",
        "IPY_MODEL_9f34d0308968464da81e270532486b31"
       ],
       "layout": "IPY_MODEL_63273ff5dab04fafad46ab99f99cd2c6"
      }
     },
     "410a5da714c946ef82a2f9e5fe464451": {
      "model_module": "@jupyter-widgets/controls",
      "model_module_version": "1.5.0",
      "model_name": "DescriptionStyleModel",
      "state": {
       "description_width": ""
      }
     },
     "41206809855343f6a4746218bbacaf24": {
      "model_module": "@jupyter-widgets/base",
      "model_module_version": "1.2.0",
      "model_name": "LayoutModel",
      "state": {}
     },
     "4121a5a4f7e54c96970fec9df0161302": {
      "model_module": "@jupyter-widgets/controls",
      "model_module_version": "1.5.0",
      "model_name": "FloatProgressModel",
      "state": {
       "bar_style": "danger",
       "description": "Train epoch=0:   0%",
       "layout": "IPY_MODEL_2154272502264b41b3a747bc7208da60",
       "max": 90000,
       "style": "IPY_MODEL_743a51a8ec6449908864f4d46cf0eb74",
       "value": 5
      }
     },
     "416731e996ac46daacef8843504b15e2": {
      "model_module": "@jupyter-widgets/controls",
      "model_module_version": "1.5.0",
      "model_name": "ProgressStyleModel",
      "state": {
       "description_width": "initial"
      }
     },
     "416757688b0b410d95e1e75e346bcd88": {
      "model_module": "@jupyter-widgets/controls",
      "model_module_version": "1.5.0",
      "model_name": "HBoxModel",
      "state": {
       "children": [
        "IPY_MODEL_7f73e129de6145cda3fd9fe770bd79bc",
        "IPY_MODEL_733dc6c737404f2eb9439fa21894050f"
       ],
       "layout": "IPY_MODEL_83965008fd3c4dcbaf4cad160ad708c1"
      }
     },
     "41727bd9df724d2b9a73d1d3cfb15400": {
      "model_module": "@jupyter-widgets/controls",
      "model_module_version": "1.5.0",
      "model_name": "ProgressStyleModel",
      "state": {
       "description_width": "initial"
      }
     },
     "418b85739d1a4412ba0f9b57b0f14acf": {
      "model_module": "@jupyter-widgets/controls",
      "model_module_version": "1.5.0",
      "model_name": "HBoxModel",
      "state": {
       "children": [
        "IPY_MODEL_bf927b8429a4400baf5f9d3593d00672",
        "IPY_MODEL_f1eae997e84d48a592ccc1717c25fe1b"
       ],
       "layout": "IPY_MODEL_431f05c7922d48b89c550a8a01efb892"
      }
     },
     "418cab4d0c2d4d859fe84319a6486a21": {
      "model_module": "@jupyter-widgets/controls",
      "model_module_version": "1.5.0",
      "model_name": "ProgressStyleModel",
      "state": {
       "description_width": "initial"
      }
     },
     "41905e04d7a5428a95f987d233de79d3": {
      "model_module": "@jupyter-widgets/base",
      "model_module_version": "1.2.0",
      "model_name": "LayoutModel",
      "state": {}
     },
     "4191355b794c49df85bbac9edef43bec": {
      "model_module": "@jupyter-widgets/controls",
      "model_module_version": "1.5.0",
      "model_name": "ProgressStyleModel",
      "state": {
       "description_width": "initial"
      }
     },
     "41a536e892ac4619954eec125641bcd1": {
      "model_module": "@jupyter-widgets/base",
      "model_module_version": "1.2.0",
      "model_name": "LayoutModel",
      "state": {}
     },
     "41b1fde3f81b49c68617ac26f951f3ef": {
      "model_module": "@jupyter-widgets/controls",
      "model_module_version": "1.5.0",
      "model_name": "DescriptionStyleModel",
      "state": {
       "description_width": ""
      }
     },
     "41bfc97758504e5ebecd6b15bb45d37c": {
      "model_module": "@jupyter-widgets/controls",
      "model_module_version": "1.5.0",
      "model_name": "ProgressStyleModel",
      "state": {
       "description_width": "initial"
      }
     },
     "41d2aa54534546349bab549342e58cff": {
      "model_module": "@jupyter-widgets/base",
      "model_module_version": "1.2.0",
      "model_name": "LayoutModel",
      "state": {}
     },
     "41facb1b93104fdc83e26d92697c1257": {
      "model_module": "@jupyter-widgets/controls",
      "model_module_version": "1.5.0",
      "model_name": "ProgressStyleModel",
      "state": {
       "description_width": "initial"
      }
     },
     "425110029ad54c519c5cdefd95267d52": {
      "model_module": "@jupyter-widgets/controls",
      "model_module_version": "1.5.0",
      "model_name": "ProgressStyleModel",
      "state": {
       "description_width": "initial"
      }
     },
     "4255ab53c1e74dd0862b0447c5e2028c": {
      "model_module": "@jupyter-widgets/controls",
      "model_module_version": "1.5.0",
      "model_name": "DescriptionStyleModel",
      "state": {
       "description_width": ""
      }
     },
     "425c6a3323024fc5a2610949b7d5845f": {
      "model_module": "@jupyter-widgets/base",
      "model_module_version": "1.2.0",
      "model_name": "LayoutModel",
      "state": {}
     },
     "4271cc41eaaa4f00addbeadc8d0885e0": {
      "model_module": "@jupyter-widgets/base",
      "model_module_version": "1.2.0",
      "model_name": "LayoutModel",
      "state": {}
     },
     "4277f46cdff74e4ea2d5f5799f067f33": {
      "model_module": "@jupyter-widgets/controls",
      "model_module_version": "1.5.0",
      "model_name": "FloatProgressModel",
      "state": {
       "bar_style": "danger",
       "description": "Train:   0%",
       "layout": "IPY_MODEL_36be6e683c154df0986e81e14245cd19",
       "max": 12,
       "style": "IPY_MODEL_290ee88c973540eaae943238b16dae32"
      }
     },
     "42c2427101104395a0fa7dda6e85201d": {
      "model_module": "@jupyter-widgets/controls",
      "model_module_version": "1.5.0",
      "model_name": "FloatProgressModel",
      "state": {
       "bar_style": "danger",
       "description": "Valid iteration=0:   0%",
       "layout": "IPY_MODEL_5289ce96d58f4d518c28aea5970733b1",
       "max": 10000,
       "style": "IPY_MODEL_5cc6cfc003e5497eae738468421ce250"
      }
     },
     "42d11c30e9e34eac9903efe0763b9e7d": {
      "model_module": "@jupyter-widgets/base",
      "model_module_version": "1.2.0",
      "model_name": "LayoutModel",
      "state": {}
     },
     "42e0c54f1c564fc9a3754ec0a829a5e4": {
      "model_module": "@jupyter-widgets/controls",
      "model_module_version": "1.5.0",
      "model_name": "HBoxModel",
      "state": {
       "children": [
        "IPY_MODEL_0e473ff4e3ce4bb5a8240229ac018868",
        "IPY_MODEL_a5e4a4a473184286b7f18db41d27a5e7"
       ],
       "layout": "IPY_MODEL_3e419caeca1b4c10b3c8d49be48e9e66"
      }
     },
     "42ebdb565c344879bb04dea717eb261d": {
      "model_module": "@jupyter-widgets/base",
      "model_module_version": "1.2.0",
      "model_name": "LayoutModel",
      "state": {}
     },
     "430b78d148d04d5a9cc4a73509327029": {
      "model_module": "@jupyter-widgets/controls",
      "model_module_version": "1.5.0",
      "model_name": "FloatProgressModel",
      "state": {
       "bar_style": "danger",
       "description": "Train epoch=0:   0%",
       "layout": "IPY_MODEL_2a81f970fb954ead8a94f1dcd9d390c5",
       "max": 90000,
       "style": "IPY_MODEL_37a5dc4c54444b418999fce5006cb928"
      }
     },
     "431f05c7922d48b89c550a8a01efb892": {
      "model_module": "@jupyter-widgets/base",
      "model_module_version": "1.2.0",
      "model_name": "LayoutModel",
      "state": {}
     },
     "4322422632634995a3161d81e8340d64": {
      "model_module": "@jupyter-widgets/base",
      "model_module_version": "1.2.0",
      "model_name": "LayoutModel",
      "state": {}
     },
     "432e939f8bb84586a028f2e5c894e156": {
      "model_module": "@jupyter-widgets/base",
      "model_module_version": "1.2.0",
      "model_name": "LayoutModel",
      "state": {}
     },
     "433fee49f8b541fb8aa72b16ad2d12ed": {
      "model_module": "@jupyter-widgets/controls",
      "model_module_version": "1.5.0",
      "model_name": "HBoxModel",
      "state": {
       "children": [
        "IPY_MODEL_471774655b414bb78dbc95ce9f050bea",
        "IPY_MODEL_d3087c58dd1046ecbac67cd1f2a6b050"
       ],
       "layout": "IPY_MODEL_0fa7c0c1d2804311abdad620969c1ded"
      }
     },
     "43ab5534061f44e3b57db3d9c5829005": {
      "model_module": "@jupyter-widgets/base",
      "model_module_version": "1.2.0",
      "model_name": "LayoutModel",
      "state": {}
     },
     "43ac4a380998471faa0d9076c4c0e350": {
      "model_module": "@jupyter-widgets/base",
      "model_module_version": "1.2.0",
      "model_name": "LayoutModel",
      "state": {}
     },
     "43af4ebf5fa4477f93f420058b07a553": {
      "model_module": "@jupyter-widgets/controls",
      "model_module_version": "1.5.0",
      "model_name": "HBoxModel",
      "state": {
       "children": [
        "IPY_MODEL_154aea485cab4641b4d48db3865a9663",
        "IPY_MODEL_3796ff5475ef4949976fea7b37572f08"
       ],
       "layout": "IPY_MODEL_040a95e283184c808e968b89b1a6da28"
      }
     },
     "43ba37a5ab864765b7f74023c4672ecb": {
      "model_module": "@jupyter-widgets/controls",
      "model_module_version": "1.5.0",
      "model_name": "ProgressStyleModel",
      "state": {
       "description_width": "initial"
      }
     },
     "43bb0ac6c8ac46d3bfcf427622351e1b": {
      "model_module": "@jupyter-widgets/controls",
      "model_module_version": "1.5.0",
      "model_name": "HBoxModel",
      "state": {
       "children": [
        "IPY_MODEL_7bfca44cb35849ef9a8b3dd7b8d90aef",
        "IPY_MODEL_a96dbe7017204607993fe6c244d5e9fa"
       ],
       "layout": "IPY_MODEL_04a9975829aa46eca4a8755c3d9ad410"
      }
     },
     "43d1ee9293324e39b927e974ce8ad7a7": {
      "model_module": "@jupyter-widgets/controls",
      "model_module_version": "1.5.0",
      "model_name": "HBoxModel",
      "state": {
       "children": [
        "IPY_MODEL_b5e713e1518a4fa8b74cb828f7f85036",
        "IPY_MODEL_1dc041304aa549918ab6286698539c61"
       ],
       "layout": "IPY_MODEL_d435ba4c1fee4a93841c4a30c6f7860d"
      }
     },
     "43de1006aee94446ab3c278682a4a9aa": {
      "model_module": "@jupyter-widgets/base",
      "model_module_version": "1.2.0",
      "model_name": "LayoutModel",
      "state": {}
     },
     "43e255be17604a42ac2f26fc3d32b33a": {
      "model_module": "@jupyter-widgets/controls",
      "model_module_version": "1.5.0",
      "model_name": "ProgressStyleModel",
      "state": {
       "description_width": "initial"
      }
     },
     "43e48a840b8a492fab9daa7fba8f7f08": {
      "model_module": "@jupyter-widgets/controls",
      "model_module_version": "1.5.0",
      "model_name": "FloatProgressModel",
      "state": {
       "bar_style": "danger",
       "description": "Train epoch=0:  10%",
       "layout": "IPY_MODEL_734bfde315924a66b1730df17f85d2d9",
       "max": 45000,
       "style": "IPY_MODEL_cc771f9bbbd44c6186878eef0ee529c3",
       "value": 4333
      }
     },
     "43faa286e8f94947beaf279bb6c33cf9": {
      "model_module": "@jupyter-widgets/base",
      "model_module_version": "1.2.0",
      "model_name": "LayoutModel",
      "state": {}
     },
     "441c4cf543a34711b7a3f7b565867bcb": {
      "model_module": "@jupyter-widgets/base",
      "model_module_version": "1.2.0",
      "model_name": "LayoutModel",
      "state": {}
     },
     "4465fbc40199446c90ba54c2f76a3130": {
      "model_module": "@jupyter-widgets/base",
      "model_module_version": "1.2.0",
      "model_name": "LayoutModel",
      "state": {}
     },
     "446bd34ee3e4479a868ccdce4ec7838c": {
      "model_module": "@jupyter-widgets/base",
      "model_module_version": "1.2.0",
      "model_name": "LayoutModel",
      "state": {}
     },
     "447247337b8740ba9c7c03607bbaddbb": {
      "model_module": "@jupyter-widgets/controls",
      "model_module_version": "1.5.0",
      "model_name": "DescriptionStyleModel",
      "state": {
       "description_width": ""
      }
     },
     "4474cdca8a6b4bdd84bb34d1c1793738": {
      "model_module": "@jupyter-widgets/controls",
      "model_module_version": "1.5.0",
      "model_name": "HBoxModel",
      "state": {
       "children": [
        "IPY_MODEL_b7c62c568f8343ccb6e93635cd37346d",
        "IPY_MODEL_6307dc24b019410f96c4029815fdecc9"
       ],
       "layout": "IPY_MODEL_7a3fde3ec0b34446967f9ac7b5a3962d"
      }
     },
     "448d45f8f85d4779b94d9ec69cdab5e2": {
      "model_module": "@jupyter-widgets/controls",
      "model_module_version": "1.5.0",
      "model_name": "FloatProgressModel",
      "state": {
       "bar_style": "danger",
       "description": "Train:   0%",
       "layout": "IPY_MODEL_bc772f0916834c8c889a831c6af869a3",
       "max": 12,
       "style": "IPY_MODEL_738e4e2dc2a4416cb1cbd62a8cc49273"
      }
     },
     "44abe1e8e8a1415fb71ab4e8bf4db4d5": {
      "model_module": "@jupyter-widgets/controls",
      "model_module_version": "1.5.0",
      "model_name": "HTMLModel",
      "state": {
       "layout": "IPY_MODEL_4920760cbfe3434890c3f54db2e602dd",
       "style": "IPY_MODEL_6741a320f4544699acff9baf51a6fe26",
       "value": " 0/10000 [56:23&lt;?, ?it/s]"
      }
     },
     "44b1aa5743bc4947bea64f9705c1a256": {
      "model_module": "@jupyter-widgets/controls",
      "model_module_version": "1.5.0",
      "model_name": "HTMLModel",
      "state": {
       "layout": "IPY_MODEL_0841a7a4a24f43119eb5ef1b832e1797",
       "style": "IPY_MODEL_7dadb67be1104c7db1c6acbb92632285",
       "value": " 0/12 [00:11&lt;?, ?it/s]"
      }
     },
     "44b7d1b1c88a48edb7a8b00cb0e60357": {
      "model_module": "@jupyter-widgets/controls",
      "model_module_version": "1.5.0",
      "model_name": "ProgressStyleModel",
      "state": {
       "description_width": "initial"
      }
     },
     "44ba65d8fc0f4be5a05409ca7920db32": {
      "model_module": "@jupyter-widgets/base",
      "model_module_version": "1.2.0",
      "model_name": "LayoutModel",
      "state": {}
     },
     "44f0d1ccb1874266a51c8dc7afe14cb3": {
      "model_module": "@jupyter-widgets/controls",
      "model_module_version": "1.5.0",
      "model_name": "HBoxModel",
      "state": {
       "children": [
        "IPY_MODEL_1ee72eca0ce14e178185abfb3d20f018",
        "IPY_MODEL_69b209083e9c40f28139922416d824fd"
       ],
       "layout": "IPY_MODEL_746b85c2151f4f6d8a0937954f919921"
      }
     },
     "45030994245a401dadda7e00990a1957": {
      "model_module": "@jupyter-widgets/base",
      "model_module_version": "1.2.0",
      "model_name": "LayoutModel",
      "state": {}
     },
     "4555d36fe1284ba9ba2596c4135eb269": {
      "model_module": "@jupyter-widgets/base",
      "model_module_version": "1.2.0",
      "model_name": "LayoutModel",
      "state": {}
     },
     "455f7db88aa94f9cb2bc58aeca045d15": {
      "model_module": "@jupyter-widgets/controls",
      "model_module_version": "1.5.0",
      "model_name": "HBoxModel",
      "state": {
       "children": [
        "IPY_MODEL_58ecb310bf6b46a4bb678c2344b78bae",
        "IPY_MODEL_559da26304ec4e33b3a87c1c0eef8095"
       ],
       "layout": "IPY_MODEL_35d4e164901441e39ef39166269472ad"
      }
     },
     "456284cf15c74ea29130ca8a53e3f7d6": {
      "model_module": "@jupyter-widgets/controls",
      "model_module_version": "1.5.0",
      "model_name": "DescriptionStyleModel",
      "state": {
       "description_width": ""
      }
     },
     "45a0ccca17e146b9b53e8a2e9002fc2f": {
      "model_module": "@jupyter-widgets/controls",
      "model_module_version": "1.5.0",
      "model_name": "DescriptionStyleModel",
      "state": {
       "description_width": ""
      }
     },
     "45a8ca4a4900431d9b20b400661a52e9": {
      "model_module": "@jupyter-widgets/controls",
      "model_module_version": "1.5.0",
      "model_name": "DescriptionStyleModel",
      "state": {
       "description_width": ""
      }
     },
     "45c298f1327c4a19aa783568a2942aa0": {
      "model_module": "@jupyter-widgets/controls",
      "model_module_version": "1.5.0",
      "model_name": "ProgressStyleModel",
      "state": {
       "description_width": "initial"
      }
     },
     "45c49c0424a047ecbb238ff9a7ba3368": {
      "model_module": "@jupyter-widgets/base",
      "model_module_version": "1.2.0",
      "model_name": "LayoutModel",
      "state": {}
     },
     "45ce992b704b46e69c1d8db26e44238a": {
      "model_module": "@jupyter-widgets/controls",
      "model_module_version": "1.5.0",
      "model_name": "DescriptionStyleModel",
      "state": {
       "description_width": ""
      }
     },
     "45f941aacd8945f8b19aadfbe5e51fa0": {
      "model_module": "@jupyter-widgets/controls",
      "model_module_version": "1.5.0",
      "model_name": "FloatProgressModel",
      "state": {
       "bar_style": "danger",
       "description": "Train epoch=0:   0%",
       "layout": "IPY_MODEL_fb28bdffaf2f416fb9f97fbc4a43eedd",
       "max": 90000,
       "style": "IPY_MODEL_094f17d77d7a4c148c4e080f2731e4dd"
      }
     },
     "46198580c718458da3f27d19678267c0": {
      "model_module": "@jupyter-widgets/controls",
      "model_module_version": "1.5.0",
      "model_name": "ProgressStyleModel",
      "state": {
       "description_width": "initial"
      }
     },
     "461e59cc6ecd479aa0e4499c45163842": {
      "model_module": "@jupyter-widgets/controls",
      "model_module_version": "1.5.0",
      "model_name": "HTMLModel",
      "state": {
       "layout": "IPY_MODEL_e18a10541aae4df0aee2a73ad58fe66d",
       "style": "IPY_MODEL_bac61abb18cf4046bf506fd5e488a1f3",
       "value": " 0/45000 [02:01&lt;?, ?it/s]"
      }
     },
     "46358b7b43134d13aa4bbda54359d26a": {
      "model_module": "@jupyter-widgets/controls",
      "model_module_version": "1.5.0",
      "model_name": "ProgressStyleModel",
      "state": {
       "description_width": "initial"
      }
     },
     "465c56a79f814a3e8999b1eceec8a735": {
      "model_module": "@jupyter-widgets/controls",
      "model_module_version": "1.5.0",
      "model_name": "DescriptionStyleModel",
      "state": {
       "description_width": ""
      }
     },
     "4674426b8d994997aff50479b7ed9a65": {
      "model_module": "@jupyter-widgets/base",
      "model_module_version": "1.2.0",
      "model_name": "LayoutModel",
      "state": {}
     },
     "4689b1f73bf247569269f545de0c4f8c": {
      "model_module": "@jupyter-widgets/controls",
      "model_module_version": "1.5.0",
      "model_name": "ProgressStyleModel",
      "state": {
       "description_width": "initial"
      }
     },
     "468d92b91a0b408faa196972e3598ec9": {
      "model_module": "@jupyter-widgets/controls",
      "model_module_version": "1.5.0",
      "model_name": "HBoxModel",
      "state": {
       "children": [
        "IPY_MODEL_1091b81080864544b81a44fcbdcc80a5",
        "IPY_MODEL_44abe1e8e8a1415fb71ab4e8bf4db4d5"
       ],
       "layout": "IPY_MODEL_a155bccf123249cb9b49b0cfb7714b1f"
      }
     },
     "46905f30203644a6b6bc40653bc1fbc1": {
      "model_module": "@jupyter-widgets/base",
      "model_module_version": "1.2.0",
      "model_name": "LayoutModel",
      "state": {}
     },
     "46c3df9db61147c0b3778a5805961eb7": {
      "model_module": "@jupyter-widgets/controls",
      "model_module_version": "1.5.0",
      "model_name": "FloatProgressModel",
      "state": {
       "bar_style": "danger",
       "description": "Train epoch=0:   0%",
       "layout": "IPY_MODEL_1d0366f9e16843c58dde75c1261f1573",
       "max": 90000,
       "style": "IPY_MODEL_22631018c0e54239aca9d2ea11e88789",
       "value": 85
      }
     },
     "46dad6877c66419a85891f23aaf6c0ea": {
      "model_module": "@jupyter-widgets/controls",
      "model_module_version": "1.5.0",
      "model_name": "HBoxModel",
      "state": {
       "children": [
        "IPY_MODEL_29578ef5366b4c95851f2571ea0453cb",
        "IPY_MODEL_3f143fbfbb924f6ebf875fb3ec8733bd"
       ],
       "layout": "IPY_MODEL_276094a3b71043b4b792a5daa8361de4"
      }
     },
     "46db174c7d1e4e9aab2d4847123ea1ea": {
      "model_module": "@jupyter-widgets/controls",
      "model_module_version": "1.5.0",
      "model_name": "HTMLModel",
      "state": {
       "layout": "IPY_MODEL_133dac2f9b514b9684c0a73eb69ef05f",
       "style": "IPY_MODEL_d6b230b3308446e5902d89ced1995f00",
       "value": " 0/12 [01:05&lt;?, ?it/s]"
      }
     },
     "46fc2b8fd007483eacd098a142d0e488": {
      "model_module": "@jupyter-widgets/controls",
      "model_module_version": "1.5.0",
      "model_name": "FloatProgressModel",
      "state": {
       "bar_style": "danger",
       "description": "Train:   0%",
       "layout": "IPY_MODEL_2d1d227acf2e429a8fb4c0b3fb51920a",
       "max": 12,
       "style": "IPY_MODEL_e551f3c4036143f7ad7ed8ee26faef06"
      }
     },
     "47112281a6ac4fefa834e0b8e86da672": {
      "model_module": "@jupyter-widgets/controls",
      "model_module_version": "1.5.0",
      "model_name": "HTMLModel",
      "state": {
       "layout": "IPY_MODEL_d5b1d6afcbc946bfb921df8db5861c79",
       "style": "IPY_MODEL_5a7da93a78f8430f87e8589e4a0ade0f",
       "value": " 0/90000 [00:39&lt;?, ?it/s]"
      }
     },
     "4712006b7a57403a84c86f79e9baf10b": {
      "model_module": "@jupyter-widgets/controls",
      "model_module_version": "1.5.0",
      "model_name": "ProgressStyleModel",
      "state": {
       "description_width": "initial"
      }
     },
     "471774655b414bb78dbc95ce9f050bea": {
      "model_module": "@jupyter-widgets/controls",
      "model_module_version": "1.5.0",
      "model_name": "FloatProgressModel",
      "state": {
       "bar_style": "danger",
       "description": "Train:   0%",
       "layout": "IPY_MODEL_20df71fa77844ffcb9c130fe124f4eda",
       "max": 12,
       "style": "IPY_MODEL_4048351e1eaf457aacc969081dc5992d"
      }
     },
     "471893a391034416a70cb50c95b00a9b": {
      "model_module": "@jupyter-widgets/base",
      "model_module_version": "1.2.0",
      "model_name": "LayoutModel",
      "state": {}
     },
     "4731d7394f6743b19f4be9da7d859f16": {
      "model_module": "@jupyter-widgets/base",
      "model_module_version": "1.2.0",
      "model_name": "LayoutModel",
      "state": {}
     },
     "473afc458ee843bbb2f7cc6906a0c488": {
      "model_module": "@jupyter-widgets/base",
      "model_module_version": "1.2.0",
      "model_name": "LayoutModel",
      "state": {}
     },
     "47485dbbf88a4fd19b196dd056769dac": {
      "model_module": "@jupyter-widgets/controls",
      "model_module_version": "1.5.0",
      "model_name": "FloatProgressModel",
      "state": {
       "bar_style": "danger",
       "description": "Valid iteration=0:   0%",
       "layout": "IPY_MODEL_6b2a7e1afa3b434a97f3466e59552835",
       "max": 5000,
       "style": "IPY_MODEL_58827b81d73344bba618619a61fd6915",
       "value": 1
      }
     },
     "475c8db1e51c42489e750fa3fce8b990": {
      "model_module": "@jupyter-widgets/controls",
      "model_module_version": "1.5.0",
      "model_name": "HBoxModel",
      "state": {
       "children": [
        "IPY_MODEL_e10b3a4ff0ba4332955cf4cc2300b398",
        "IPY_MODEL_019b9667eecd460a868e21e3b0cb76ff"
       ],
       "layout": "IPY_MODEL_d2e3c38e05be4fa99ff1c0c0bd2470af"
      }
     },
     "4772443c930046d0aed07e2171306c35": {
      "model_module": "@jupyter-widgets/base",
      "model_module_version": "1.2.0",
      "model_name": "LayoutModel",
      "state": {}
     },
     "477d3744fb5d446ab14f6cd7c1c35a26": {
      "model_module": "@jupyter-widgets/controls",
      "model_module_version": "1.5.0",
      "model_name": "FloatProgressModel",
      "state": {
       "bar_style": "danger",
       "description": "Train:   0%",
       "layout": "IPY_MODEL_b655e06736c8408baa342021c15b5b03",
       "max": 12,
       "style": "IPY_MODEL_5b9cb49b98734c35ae7a7acf7c2b985f"
      }
     },
     "47930a9b89414ceaa07fdf3a9512552d": {
      "model_module": "@jupyter-widgets/controls",
      "model_module_version": "1.5.0",
      "model_name": "HTMLModel",
      "state": {
       "layout": "IPY_MODEL_a81c0775e209475abfdc32d6adecb9e1",
       "style": "IPY_MODEL_a437ff3eafd045b4a3a7cb31d89356fa",
       "value": " 0/90000 [01:05&lt;?, ?it/s]"
      }
     },
     "479cad4502dc432a997a11c0fe48241c": {
      "model_module": "@jupyter-widgets/controls",
      "model_module_version": "1.5.0",
      "model_name": "DescriptionStyleModel",
      "state": {
       "description_width": ""
      }
     },
     "479d3df5681f44f48b4e3c755927e43f": {
      "model_module": "@jupyter-widgets/controls",
      "model_module_version": "1.5.0",
      "model_name": "FloatProgressModel",
      "state": {
       "bar_style": "danger",
       "description": "Valid iteration=1000:   0%",
       "layout": "IPY_MODEL_cc096ba894ce44e0925e4f9fa7cae4fe",
       "max": 5000,
       "style": "IPY_MODEL_41bfc97758504e5ebecd6b15bb45d37c"
      }
     },
     "47dde2f9c4714c86888f31bd681f0e92": {
      "model_module": "@jupyter-widgets/controls",
      "model_module_version": "1.5.0",
      "model_name": "DescriptionStyleModel",
      "state": {
       "description_width": ""
      }
     },
     "4802ed1af160402b95ee637a51b7cd8a": {
      "model_module": "@jupyter-widgets/controls",
      "model_module_version": "1.5.0",
      "model_name": "HBoxModel",
      "state": {
       "children": [
        "IPY_MODEL_f8df3281d2854b7ca385dc643f1b40cf",
        "IPY_MODEL_0a70d20190f7470c92727664d818e94d"
       ],
       "layout": "IPY_MODEL_77718e8633da4bfa9a957934704ae27b"
      }
     },
     "4849cd51a9784c9f8ce44528d8c18b96": {
      "model_module": "@jupyter-widgets/controls",
      "model_module_version": "1.5.0",
      "model_name": "FloatProgressModel",
      "state": {
       "bar_style": "danger",
       "description": "Valid iteration=0:   0%",
       "layout": "IPY_MODEL_9f32fecdfd9f4001b6dfc317a4231d16",
       "max": 10000,
       "style": "IPY_MODEL_6e0fa63113764fa6b2e3f9557bc33236"
      }
     },
     "4851f4f38f2e44a892383b8735d0d463": {
      "model_module": "@jupyter-widgets/controls",
      "model_module_version": "1.5.0",
      "model_name": "ProgressStyleModel",
      "state": {
       "description_width": "initial"
      }
     },
     "4868e874fce94fcc9ccbcd667a6f1e04": {
      "model_module": "@jupyter-widgets/base",
      "model_module_version": "1.2.0",
      "model_name": "LayoutModel",
      "state": {}
     },
     "48846a0578934f4394765394a22ad7eb": {
      "model_module": "@jupyter-widgets/controls",
      "model_module_version": "1.5.0",
      "model_name": "DescriptionStyleModel",
      "state": {
       "description_width": ""
      }
     },
     "48a425ff7d3643eb97636ce01cf7f234": {
      "model_module": "@jupyter-widgets/controls",
      "model_module_version": "1.5.0",
      "model_name": "HBoxModel",
      "state": {
       "children": [
        "IPY_MODEL_8c25b32a5757451eb38c5b03b6acdbd6",
        "IPY_MODEL_c660253c879043b2beaadd5b914ab6f9"
       ],
       "layout": "IPY_MODEL_65a418aa0c6243da91ed6868817b7203"
      }
     },
     "48aa6d9597df4d84a85c38487da51cb1": {
      "model_module": "@jupyter-widgets/base",
      "model_module_version": "1.2.0",
      "model_name": "LayoutModel",
      "state": {}
     },
     "48b50eb2c030474eabde3201c7bf6f11": {
      "model_module": "@jupyter-widgets/controls",
      "model_module_version": "1.5.0",
      "model_name": "HBoxModel",
      "state": {
       "children": [
        "IPY_MODEL_6f79b6482e844d8194fb211d45db646d",
        "IPY_MODEL_a2ce7d77f67744e18bd10093d4139497"
       ],
       "layout": "IPY_MODEL_9ecb4b63e2f74c4aa37f38fb9ddafa60"
      }
     },
     "48b70677195e4b7abc6302cd0535bf97": {
      "model_module": "@jupyter-widgets/controls",
      "model_module_version": "1.5.0",
      "model_name": "ProgressStyleModel",
      "state": {
       "description_width": "initial"
      }
     },
     "48c05ef41ca642a8ac71f5a0d9946d27": {
      "model_module": "@jupyter-widgets/controls",
      "model_module_version": "1.5.0",
      "model_name": "DescriptionStyleModel",
      "state": {
       "description_width": ""
      }
     },
     "48c91c2e6a074654aca11cfb0b0412f6": {
      "model_module": "@jupyter-widgets/base",
      "model_module_version": "1.2.0",
      "model_name": "LayoutModel",
      "state": {}
     },
     "48de28629fb1445db1dd9b4bf2adfd5f": {
      "model_module": "@jupyter-widgets/controls",
      "model_module_version": "1.5.0",
      "model_name": "HBoxModel",
      "state": {
       "children": [
        "IPY_MODEL_21ac3a3566fd4a8e86c90d5e07cdf1a5",
        "IPY_MODEL_2bf40ee43a7b45cd99fd88e49b905451"
       ],
       "layout": "IPY_MODEL_6756e047dd564161aef536610f08e4ee"
      }
     },
     "48df653eb91a43efafcd2443f1076892": {
      "model_module": "@jupyter-widgets/controls",
      "model_module_version": "1.5.0",
      "model_name": "HBoxModel",
      "state": {
       "children": [
        "IPY_MODEL_cd85caeece5446d59c6bf808bd1972f8",
        "IPY_MODEL_c7ee8136237842ee85720801f8172156"
       ],
       "layout": "IPY_MODEL_bbdcb383564742eab0ac55e01e42e1b1"
      }
     },
     "48eb59304d7c483f9afffd3e0b569e97": {
      "model_module": "@jupyter-widgets/controls",
      "model_module_version": "1.5.0",
      "model_name": "HTMLModel",
      "state": {
       "layout": "IPY_MODEL_f41b67d63698446db2207684243913f1",
       "style": "IPY_MODEL_969d9ac509424dbc88f515734dd105e3",
       "value": " 0/10000 [00:01&lt;?, ?it/s]"
      }
     },
     "48fc7e8536fc4503a6a721b829b06209": {
      "model_module": "@jupyter-widgets/controls",
      "model_module_version": "1.5.0",
      "model_name": "ProgressStyleModel",
      "state": {
       "description_width": "initial"
      }
     },
     "4920760cbfe3434890c3f54db2e602dd": {
      "model_module": "@jupyter-widgets/base",
      "model_module_version": "1.2.0",
      "model_name": "LayoutModel",
      "state": {}
     },
     "4928ce2c6d4c48deb96dda1c776a835a": {
      "model_module": "@jupyter-widgets/controls",
      "model_module_version": "1.5.0",
      "model_name": "DescriptionStyleModel",
      "state": {
       "description_width": ""
      }
     },
     "4935afe2c5b0426a8cc7dd06959ae3e0": {
      "model_module": "@jupyter-widgets/controls",
      "model_module_version": "1.5.0",
      "model_name": "HBoxModel",
      "state": {
       "children": [
        "IPY_MODEL_fbc0e59df4844d489dae0434338876e8",
        "IPY_MODEL_4c8d43db2b13461ea7e466669ccc29a7"
       ],
       "layout": "IPY_MODEL_ce766984bcf84d54a0737b394355380e"
      }
     },
     "4937ea24aa6345e39399bf1b016b5c7e": {
      "model_module": "@jupyter-widgets/base",
      "model_module_version": "1.2.0",
      "model_name": "LayoutModel",
      "state": {}
     },
     "496dae94f6d742368ae8b5c082d49210": {
      "model_module": "@jupyter-widgets/controls",
      "model_module_version": "1.5.0",
      "model_name": "HBoxModel",
      "state": {
       "children": [
        "IPY_MODEL_53df619d6bb54d27adaa2aa229de35fb",
        "IPY_MODEL_6b83e50c0aa740af8041707a1a88f66a"
       ],
       "layout": "IPY_MODEL_daa1d3b5494c4f69bece5cfa10b3e830"
      }
     },
     "4989b3057b1f435c8e58799d1f40f831": {
      "model_module": "@jupyter-widgets/controls",
      "model_module_version": "1.5.0",
      "model_name": "HTMLModel",
      "state": {
       "layout": "IPY_MODEL_e788ede061774fb68146a12d0aa2108e",
       "style": "IPY_MODEL_4b22a3f3c8564124a0e2b1d6cad374d8",
       "value": " 0/10000 [00:01&lt;?, ?it/s]"
      }
     },
     "498d61eca8514ff4a390fdb77602ab36": {
      "model_module": "@jupyter-widgets/controls",
      "model_module_version": "1.5.0",
      "model_name": "FloatProgressModel",
      "state": {
       "bar_style": "danger",
       "description": "Valid iteration=0:   0%",
       "layout": "IPY_MODEL_6edb0f542a2548899064ead7beddff20",
       "max": 5000,
       "style": "IPY_MODEL_b0ad73460e86478b8e95987a9076ff71"
      }
     },
     "49a8b02eb7fb4804bc37470cb6f44232": {
      "model_module": "@jupyter-widgets/controls",
      "model_module_version": "1.5.0",
      "model_name": "HTMLModel",
      "state": {
       "layout": "IPY_MODEL_1f8dbc36558d4b3c8450c3b456787f59",
       "style": "IPY_MODEL_552dd35332d44a068d6458952552f347",
       "value": " 0/10000 [00:01&lt;?, ?it/s]"
      }
     },
     "49b0632adbaa49c69d41093d88f8a420": {
      "model_module": "@jupyter-widgets/controls",
      "model_module_version": "1.5.0",
      "model_name": "HTMLModel",
      "state": {
       "layout": "IPY_MODEL_0f7a6b3687024a1eae01e89b9f134eb2",
       "style": "IPY_MODEL_50ee33b92ac84b029f14a70af5ef30cc",
       "value": " 0/10000 [14:06&lt;?, ?it/s]"
      }
     },
     "49e8f679ec0e4efb8f20d302413ba61f": {
      "model_module": "@jupyter-widgets/controls",
      "model_module_version": "1.5.0",
      "model_name": "DescriptionStyleModel",
      "state": {
       "description_width": ""
      }
     },
     "49ef05c2e94e4b91ae11a851cea6a35b": {
      "model_module": "@jupyter-widgets/base",
      "model_module_version": "1.2.0",
      "model_name": "LayoutModel",
      "state": {}
     },
     "49f0120fcace4757a7bb1f598799773f": {
      "model_module": "@jupyter-widgets/controls",
      "model_module_version": "1.5.0",
      "model_name": "FloatProgressModel",
      "state": {
       "bar_style": "danger",
       "description": "Train epoch=0:   0%",
       "layout": "IPY_MODEL_d896f24549364cdbba4907f8bab65d35",
       "max": 90000,
       "style": "IPY_MODEL_754cb9e0afc74bf4bac631385961d1dc",
       "value": 169
      }
     },
     "49fb8882b8814f5cb49355ac29900f50": {
      "model_module": "@jupyter-widgets/base",
      "model_module_version": "1.2.0",
      "model_name": "LayoutModel",
      "state": {}
     },
     "49ff38692e4d429caff6680a3def1f96": {
      "model_module": "@jupyter-widgets/controls",
      "model_module_version": "1.5.0",
      "model_name": "ProgressStyleModel",
      "state": {
       "description_width": "initial"
      }
     },
     "4a1701a08a464a1090bb9d35e454892b": {
      "model_module": "@jupyter-widgets/base",
      "model_module_version": "1.2.0",
      "model_name": "LayoutModel",
      "state": {}
     },
     "4a20b5a0a85b4e668698c0de2f8ca5de": {
      "model_module": "@jupyter-widgets/controls",
      "model_module_version": "1.5.0",
      "model_name": "DescriptionStyleModel",
      "state": {
       "description_width": ""
      }
     },
     "4a310778c84440d49e56299791065577": {
      "model_module": "@jupyter-widgets/controls",
      "model_module_version": "1.5.0",
      "model_name": "ProgressStyleModel",
      "state": {
       "description_width": "initial"
      }
     },
     "4a397eb9abc74ceeb55eddeb64c6f06d": {
      "model_module": "@jupyter-widgets/controls",
      "model_module_version": "1.5.0",
      "model_name": "HBoxModel",
      "state": {
       "children": [
        "IPY_MODEL_46c3df9db61147c0b3778a5805961eb7",
        "IPY_MODEL_0d91291d28574219819955bb6391799e"
       ],
       "layout": "IPY_MODEL_1b2ffc042a474fbcab7c2ae92f3fd132"
      }
     },
     "4a5a2944a73f41a3a4039385823c15ae": {
      "model_module": "@jupyter-widgets/controls",
      "model_module_version": "1.5.0",
      "model_name": "ProgressStyleModel",
      "state": {
       "description_width": "initial"
      }
     },
     "4a6224ae51624efdbcf1008b3eee09e8": {
      "model_module": "@jupyter-widgets/controls",
      "model_module_version": "1.5.0",
      "model_name": "HBoxModel",
      "state": {
       "children": [
        "IPY_MODEL_c42865250ab04cb9882aefdd9cf1decc",
        "IPY_MODEL_103fb5de4ca6426092a33400fb212faf"
       ],
       "layout": "IPY_MODEL_9f1f96f43637499b8885ea11a10e5069"
      }
     },
     "4a68b8df37ac46ac9d261058a77212b3": {
      "model_module": "@jupyter-widgets/base",
      "model_module_version": "1.2.0",
      "model_name": "LayoutModel",
      "state": {}
     },
     "4a6e55862e8e4c118960c6816a883f3c": {
      "model_module": "@jupyter-widgets/controls",
      "model_module_version": "1.5.0",
      "model_name": "FloatProgressModel",
      "state": {
       "bar_style": "danger",
       "description": "Valid iteration=0:   0%",
       "layout": "IPY_MODEL_7e055d8adb3e44eb9e88f528f38f3023",
       "max": 10000,
       "style": "IPY_MODEL_beee9752ab984767b5bb7330c791f7dc"
      }
     },
     "4a8174b5b08b4e05bfaff45e25e04f86": {
      "model_module": "@jupyter-widgets/controls",
      "model_module_version": "1.5.0",
      "model_name": "FloatProgressModel",
      "state": {
       "bar_style": "danger",
       "description": "Train:   0%",
       "layout": "IPY_MODEL_dac004a5e56f4201b716849aa5e77f1f",
       "max": 12,
       "style": "IPY_MODEL_0c14de6ad1be44bba70ce2e8dbfc5fe2"
      }
     },
     "4a820d2f7202476386e76aa3c149ec26": {
      "model_module": "@jupyter-widgets/controls",
      "model_module_version": "1.5.0",
      "model_name": "HTMLModel",
      "state": {
       "layout": "IPY_MODEL_02e012a3964443ea8d31bd721bbdca86",
       "style": "IPY_MODEL_56ad767e4db04a549525f7e7059016fa",
       "value": " 0/12 [02:50&lt;?, ?it/s]"
      }
     },
     "4a9dba9c29274efbaa14cbcea9087277": {
      "model_module": "@jupyter-widgets/controls",
      "model_module_version": "1.5.0",
      "model_name": "ProgressStyleModel",
      "state": {
       "description_width": "initial"
      }
     },
     "4aa80affa41b4b67a972b0e428457eae": {
      "model_module": "@jupyter-widgets/controls",
      "model_module_version": "1.5.0",
      "model_name": "HBoxModel",
      "state": {
       "children": [
        "IPY_MODEL_7794569ac6664aceabbabbe3bddcbab0",
        "IPY_MODEL_dfda971e44074426b57ad2ea996459ae"
       ],
       "layout": "IPY_MODEL_4322422632634995a3161d81e8340d64"
      }
     },
     "4aaacd2a6fd6443a9d804512c4540ffa": {
      "model_module": "@jupyter-widgets/controls",
      "model_module_version": "1.5.0",
      "model_name": "DescriptionStyleModel",
      "state": {
       "description_width": ""
      }
     },
     "4ab06203efe74ba98e226198c3aadf27": {
      "model_module": "@jupyter-widgets/controls",
      "model_module_version": "1.5.0",
      "model_name": "ProgressStyleModel",
      "state": {
       "description_width": "initial"
      }
     },
     "4ac381c033054e748277462c59074a40": {
      "model_module": "@jupyter-widgets/controls",
      "model_module_version": "1.5.0",
      "model_name": "HBoxModel",
      "state": {
       "children": [
        "IPY_MODEL_08de7795975e4953b3ddc62fd00a82c5",
        "IPY_MODEL_8343441f84554a91851f448befbb52ca"
       ],
       "layout": "IPY_MODEL_d8948d2cbc0543b18247fe867dc5bd0b"
      }
     },
     "4ac416a13dc74e4d9d49df46a62e7044": {
      "model_module": "@jupyter-widgets/controls",
      "model_module_version": "1.5.0",
      "model_name": "FloatProgressModel",
      "state": {
       "bar_style": "danger",
       "description": "Train epoch=0:   1%",
       "layout": "IPY_MODEL_6e814d72b4664f1f9b81048e8758870d",
       "max": 90000,
       "style": "IPY_MODEL_f293de586dd94673b59d7334e299ea0b",
       "value": 476
      }
     },
     "4ade6810b6564f51b61ebc83d460d818": {
      "model_module": "@jupyter-widgets/controls",
      "model_module_version": "1.5.0",
      "model_name": "HTMLModel",
      "state": {
       "layout": "IPY_MODEL_b391d10e71014792a32d46ab8681eeb6",
       "style": "IPY_MODEL_410a5da714c946ef82a2f9e5fe464451",
       "value": " 0/10000 [00:01&lt;?, ?it/s]"
      }
     },
     "4b0c27cb85f44b9eaa533417e427b0d0": {
      "model_module": "@jupyter-widgets/base",
      "model_module_version": "1.2.0",
      "model_name": "LayoutModel",
      "state": {}
     },
     "4b10ccb160854316b6a2c94c8c54576f": {
      "model_module": "@jupyter-widgets/base",
      "model_module_version": "1.2.0",
      "model_name": "LayoutModel",
      "state": {}
     },
     "4b187ff1def94efd966b674e6a703b89": {
      "model_module": "@jupyter-widgets/controls",
      "model_module_version": "1.5.0",
      "model_name": "DescriptionStyleModel",
      "state": {
       "description_width": ""
      }
     },
     "4b22a3f3c8564124a0e2b1d6cad374d8": {
      "model_module": "@jupyter-widgets/controls",
      "model_module_version": "1.5.0",
      "model_name": "DescriptionStyleModel",
      "state": {
       "description_width": ""
      }
     },
     "4b6e2d39e34746c582e0e3235c9c3a67": {
      "model_module": "@jupyter-widgets/base",
      "model_module_version": "1.2.0",
      "model_name": "LayoutModel",
      "state": {}
     },
     "4b76cf80a04e42fc99280aca7352e27f": {
      "model_module": "@jupyter-widgets/controls",
      "model_module_version": "1.5.0",
      "model_name": "HBoxModel",
      "state": {
       "children": [
        "IPY_MODEL_9975d8fab4ab4e4682745b0f21f7191e",
        "IPY_MODEL_c164dc04dc204d4e9d96a05d3b547c1b"
       ],
       "layout": "IPY_MODEL_ab1ed79ed07445e09f7c3494ea1604e5"
      }
     },
     "4bae6250eb644808984887059ad9a2a8": {
      "model_module": "@jupyter-widgets/controls",
      "model_module_version": "1.5.0",
      "model_name": "ProgressStyleModel",
      "state": {
       "description_width": "initial"
      }
     },
     "4bbad52cb996468098f6bc980579cf13": {
      "model_module": "@jupyter-widgets/controls",
      "model_module_version": "1.5.0",
      "model_name": "ProgressStyleModel",
      "state": {
       "description_width": "initial"
      }
     },
     "4bc0f960e16b4b9caf437e2445908d95": {
      "model_module": "@jupyter-widgets/controls",
      "model_module_version": "1.5.0",
      "model_name": "HBoxModel",
      "state": {
       "children": [
        "IPY_MODEL_d650e2dd4256472b87ae51b975eb889c",
        "IPY_MODEL_e3ade650b6ae4bd1ab88491bcd3e6d9d"
       ],
       "layout": "IPY_MODEL_f11d9f039e964b3d9103253bde55aa58"
      }
     },
     "4bc6b37045834b479450eb4c39b09f6c": {
      "model_module": "@jupyter-widgets/base",
      "model_module_version": "1.2.0",
      "model_name": "LayoutModel",
      "state": {}
     },
     "4bcf07ceacff4e8bb72bb68757257a64": {
      "model_module": "@jupyter-widgets/controls",
      "model_module_version": "1.5.0",
      "model_name": "FloatProgressModel",
      "state": {
       "bar_style": "danger",
       "description": "Train:   0%",
       "layout": "IPY_MODEL_2f79c2e31edc455e80d7478d8175f986",
       "max": 23,
       "style": "IPY_MODEL_59a1c9a1c2c649478f813620ae06ca22"
      }
     },
     "4bf3a911b8884803ab3c33a6ade6788c": {
      "model_module": "@jupyter-widgets/base",
      "model_module_version": "1.2.0",
      "model_name": "LayoutModel",
      "state": {}
     },
     "4c04819e93cf4f31be574228d1dff53d": {
      "model_module": "@jupyter-widgets/base",
      "model_module_version": "1.2.0",
      "model_name": "LayoutModel",
      "state": {}
     },
     "4c12a13019ef452dac5c82994d026649": {
      "model_module": "@jupyter-widgets/controls",
      "model_module_version": "1.5.0",
      "model_name": "HBoxModel",
      "state": {
       "children": [
        "IPY_MODEL_96d4b8bf7f374707bb39a6ad48565824",
        "IPY_MODEL_19eca4660f1e40149d270f4fdacf139f"
       ],
       "layout": "IPY_MODEL_c613540607c449deb6d6b563c4741a8c"
      }
     },
     "4c1628b923b9492a9ccffd4ecced4077": {
      "model_module": "@jupyter-widgets/controls",
      "model_module_version": "1.5.0",
      "model_name": "HTMLModel",
      "state": {
       "layout": "IPY_MODEL_c1610edd24e54918a268df4369d95c81",
       "style": "IPY_MODEL_5d6eb1282ba4478f8b94ad0331672565",
       "value": " 0/90000 [00:29&lt;?, ?it/s]"
      }
     },
     "4c3880860a694e03adefafd65f35cb91": {
      "model_module": "@jupyter-widgets/controls",
      "model_module_version": "1.5.0",
      "model_name": "DescriptionStyleModel",
      "state": {
       "description_width": ""
      }
     },
     "4c3a3d3260c544cab348191cfad8374d": {
      "model_module": "@jupyter-widgets/controls",
      "model_module_version": "1.5.0",
      "model_name": "HBoxModel",
      "state": {
       "children": [
        "IPY_MODEL_3658c0d33c7347feb3c775f55bd4da44",
        "IPY_MODEL_d0371ab4abfd45c1b379fd20f88dfb48"
       ],
       "layout": "IPY_MODEL_813eddbbd38a412eae292c32f6dea939"
      }
     },
     "4c5405fcec214a86a77646c9b0ad3647": {
      "model_module": "@jupyter-widgets/base",
      "model_module_version": "1.2.0",
      "model_name": "LayoutModel",
      "state": {}
     },
     "4c7e83bd04aa4299967f7328f2271373": {
      "model_module": "@jupyter-widgets/base",
      "model_module_version": "1.2.0",
      "model_name": "LayoutModel",
      "state": {}
     },
     "4c8d43db2b13461ea7e466669ccc29a7": {
      "model_module": "@jupyter-widgets/controls",
      "model_module_version": "1.5.0",
      "model_name": "HTMLModel",
      "state": {
       "layout": "IPY_MODEL_9e7e21a622374da7a6d34602abcf286f",
       "style": "IPY_MODEL_c906afd1db2c4d1dac2d13abdf93552d",
       "value": " 0/45000 [00:02&lt;?, ?it/s]"
      }
     },
     "4c953487d5c04694baa2c0126f84a2df": {
      "model_module": "@jupyter-widgets/controls",
      "model_module_version": "1.5.0",
      "model_name": "FloatProgressModel",
      "state": {
       "bar_style": "danger",
       "description": "Train:   0%",
       "layout": "IPY_MODEL_8523fc0556a54e7b9a4bc807293b0338",
       "max": 12,
       "style": "IPY_MODEL_bc6cb126dee4488e9817d39f7db82339"
      }
     },
     "4cd16538ab0f4921a48f965a7bfe17c2": {
      "model_module": "@jupyter-widgets/controls",
      "model_module_version": "1.5.0",
      "model_name": "HBoxModel",
      "state": {
       "children": [
        "IPY_MODEL_c00be09cc22b472c91a70fe4fc2aef3e",
        "IPY_MODEL_47930a9b89414ceaa07fdf3a9512552d"
       ],
       "layout": "IPY_MODEL_a09d2afe3cae40cfba3c69e963e9164f"
      }
     },
     "4cdf67c3b6d74ca4ae6d9922676fd011": {
      "model_module": "@jupyter-widgets/controls",
      "model_module_version": "1.5.0",
      "model_name": "DescriptionStyleModel",
      "state": {
       "description_width": ""
      }
     },
     "4d0598a985544c62b9d6f532555084b2": {
      "model_module": "@jupyter-widgets/base",
      "model_module_version": "1.2.0",
      "model_name": "LayoutModel",
      "state": {}
     },
     "4d2e0acf75cc4458b08fc0fe9ac4aae9": {
      "model_module": "@jupyter-widgets/controls",
      "model_module_version": "1.5.0",
      "model_name": "FloatProgressModel",
      "state": {
       "bar_style": "danger",
       "description": "Valid iteration=0:   0%",
       "layout": "IPY_MODEL_f6878fa724244dd0b9ec10ae6cdfcdea",
       "max": 10000,
       "style": "IPY_MODEL_50c409ebce2a4a5e8d624496a682494c"
      }
     },
     "4d34e5a4045f42308fd6f3eaf3e547c6": {
      "model_module": "@jupyter-widgets/controls",
      "model_module_version": "1.5.0",
      "model_name": "ProgressStyleModel",
      "state": {
       "description_width": "initial"
      }
     },
     "4d9c7b286ce84634b59e06f2e56b1004": {
      "model_module": "@jupyter-widgets/base",
      "model_module_version": "1.2.0",
      "model_name": "LayoutModel",
      "state": {}
     },
     "4da72121fdd8417599e24c3cb2fa30ae": {
      "model_module": "@jupyter-widgets/base",
      "model_module_version": "1.2.0",
      "model_name": "LayoutModel",
      "state": {}
     },
     "4db7551d9ac0492d8962f2d0806a6c88": {
      "model_module": "@jupyter-widgets/controls",
      "model_module_version": "1.5.0",
      "model_name": "HBoxModel",
      "state": {
       "children": [
        "IPY_MODEL_1989a664cc3f455b80d44e87c2f9b29c",
        "IPY_MODEL_1214955ac2e640e6aa4c544fa0aa78eb"
       ],
       "layout": "IPY_MODEL_f7710e6cbaea4dd7ab18b31d9c92483b"
      }
     },
     "4dbd696587e3465eaec446555aae23f5": {
      "model_module": "@jupyter-widgets/controls",
      "model_module_version": "1.5.0",
      "model_name": "HTMLModel",
      "state": {
       "layout": "IPY_MODEL_3ea347125e5f47d88065a32bcfefbfa6",
       "style": "IPY_MODEL_6f37d1920bbc4b3a959609d33f7abe68",
       "value": " 0/90000 [00:31&lt;?, ?it/s]"
      }
     },
     "4dcd203d9fab4887a419d5dc96a6f6c3": {
      "model_module": "@jupyter-widgets/base",
      "model_module_version": "1.2.0",
      "model_name": "LayoutModel",
      "state": {}
     },
     "4de3b30cc83048258fae8392f5a4a2da": {
      "model_module": "@jupyter-widgets/controls",
      "model_module_version": "1.5.0",
      "model_name": "DescriptionStyleModel",
      "state": {
       "description_width": ""
      }
     },
     "4de5e2e0858c4f54ab3ee290851a7c20": {
      "model_module": "@jupyter-widgets/controls",
      "model_module_version": "1.5.0",
      "model_name": "HTMLModel",
      "state": {
       "layout": "IPY_MODEL_c7db97b35ccd426db4e6a62128b8f47a",
       "style": "IPY_MODEL_80f659ba30994617be1784775ca16073",
       "value": " 0/12 [00:21&lt;?, ?it/s]"
      }
     },
     "4dfa4384ceb84b07b691fe4a229932a8": {
      "model_module": "@jupyter-widgets/base",
      "model_module_version": "1.2.0",
      "model_name": "LayoutModel",
      "state": {}
     },
     "4e1a1493204c4b2182eee3a5c45c931d": {
      "model_module": "@jupyter-widgets/base",
      "model_module_version": "1.2.0",
      "model_name": "LayoutModel",
      "state": {}
     },
     "4e2f59d9c3004550a19de2d05f50536b": {
      "model_module": "@jupyter-widgets/controls",
      "model_module_version": "1.5.0",
      "model_name": "HTMLModel",
      "state": {
       "layout": "IPY_MODEL_e87ed1b966fd42b9a5e8a144de60e031",
       "style": "IPY_MODEL_a3e6daca72e740a1be46e35b7638980d",
       "value": " 0/5000 [01:52&lt;?, ?it/s]"
      }
     },
     "4e3926bac65f4fe4a23b2a1a7372551a": {
      "model_module": "@jupyter-widgets/base",
      "model_module_version": "1.2.0",
      "model_name": "LayoutModel",
      "state": {}
     },
     "4e41d6e20c5b4483bad5d27202ae6e17": {
      "model_module": "@jupyter-widgets/controls",
      "model_module_version": "1.5.0",
      "model_name": "HBoxModel",
      "state": {
       "children": [
        "IPY_MODEL_f697064f9f9942afb61e781e044d79ba",
        "IPY_MODEL_08c403b2e533430d8e1eb95aa2c4998e"
       ],
       "layout": "IPY_MODEL_d18529c558dd408b9a4086cb9ff03ab2"
      }
     },
     "4e46344d8fe14a6bb6375c97f8a2ad7c": {
      "model_module": "@jupyter-widgets/controls",
      "model_module_version": "1.5.0",
      "model_name": "DescriptionStyleModel",
      "state": {
       "description_width": ""
      }
     },
     "4e4b3e86214d4e708ff6fca0272d9fee": {
      "model_module": "@jupyter-widgets/base",
      "model_module_version": "1.2.0",
      "model_name": "LayoutModel",
      "state": {}
     },
     "4e5285811abf421faa2c3b9b68a972e6": {
      "model_module": "@jupyter-widgets/controls",
      "model_module_version": "1.5.0",
      "model_name": "HTMLModel",
      "state": {
       "layout": "IPY_MODEL_dff96b629209479fa144334e5df5f24f",
       "style": "IPY_MODEL_b0d2155ca50342b88bfd4a66d7ce825e",
       "value": " 0/5000 [01:24&lt;?, ?it/s]"
      }
     },
     "4e5988b7eeee409199f413803e71ce91": {
      "model_module": "@jupyter-widgets/controls",
      "model_module_version": "1.5.0",
      "model_name": "HBoxModel",
      "state": {
       "children": [
        "IPY_MODEL_acea126ba09645f4ad5b0f59b301b6eb",
        "IPY_MODEL_8c92244b742441debc7e5d762dd10f72"
       ],
       "layout": "IPY_MODEL_cd8f23edd2bc4a918ab013f46b5a7b47"
      }
     },
     "4e8227a608054360afd27c983db1b15f": {
      "model_module": "@jupyter-widgets/controls",
      "model_module_version": "1.5.0",
      "model_name": "HTMLModel",
      "state": {
       "layout": "IPY_MODEL_1dcaf8fd6003412dbe2864350e988629",
       "style": "IPY_MODEL_9683f6b6cf0a4799b0b8241348399802",
       "value": " 0/10000 [19:26&lt;?, ?it/s]"
      }
     },
     "4eac0865b7dd49fcae619f89369e8635": {
      "model_module": "@jupyter-widgets/controls",
      "model_module_version": "1.5.0",
      "model_name": "DescriptionStyleModel",
      "state": {
       "description_width": ""
      }
     },
     "4ec68cc413824953a14a76a5ab003449": {
      "model_module": "@jupyter-widgets/controls",
      "model_module_version": "1.5.0",
      "model_name": "HTMLModel",
      "state": {
       "layout": "IPY_MODEL_9255d785305a48d193a7b396af060ae3",
       "style": "IPY_MODEL_210f1cb6f5ac4da5ac27bf0b3cf3d746",
       "value": " 0/10000 [00:20&lt;?, ?it/s]"
      }
     },
     "4ec80dfa08754d1394baa9c74657286f": {
      "model_module": "@jupyter-widgets/base",
      "model_module_version": "1.2.0",
      "model_name": "LayoutModel",
      "state": {}
     },
     "4f0db81d1b45478390bfdc53bdba5c11": {
      "model_module": "@jupyter-widgets/base",
      "model_module_version": "1.2.0",
      "model_name": "LayoutModel",
      "state": {}
     },
     "4f1f29e02c364b7b92f44becbd99ba05": {
      "model_module": "@jupyter-widgets/controls",
      "model_module_version": "1.5.0",
      "model_name": "FloatProgressModel",
      "state": {
       "bar_style": "danger",
       "description": "Train:   0%",
       "layout": "IPY_MODEL_1bf28716c9be4e99b2cbf82fed9f0588",
       "max": 12,
       "style": "IPY_MODEL_403739b2ecbd4e9bbad85da6ef39ef15"
      }
     },
     "4f3d1f4466314fad8a897c3ee5826c10": {
      "model_module": "@jupyter-widgets/base",
      "model_module_version": "1.2.0",
      "model_name": "LayoutModel",
      "state": {}
     },
     "4f5b1008f6a741e4aebcf97f18376848": {
      "model_module": "@jupyter-widgets/controls",
      "model_module_version": "1.5.0",
      "model_name": "FloatProgressModel",
      "state": {
       "bar_style": "danger",
       "description": "Train epoch=0:   0%",
       "layout": "IPY_MODEL_9f71431b0b4f4bcca460c51322e3d7be",
       "max": 90000,
       "style": "IPY_MODEL_7c06d2f11ff64e16898eff62c0cb81f2"
      }
     },
     "4f9610a568194453a65f84a630225651": {
      "model_module": "@jupyter-widgets/controls",
      "model_module_version": "1.5.0",
      "model_name": "HTMLModel",
      "state": {
       "layout": "IPY_MODEL_008fbaf8c09d42c98ead75b274b6f9c3",
       "style": "IPY_MODEL_7945d726abad42d7b44540fb9d01c656",
       "value": " 0/12 [00:16&lt;?, ?it/s]"
      }
     },
     "4fa0fcbd1bf34472ab04243850700877": {
      "model_module": "@jupyter-widgets/controls",
      "model_module_version": "1.5.0",
      "model_name": "ProgressStyleModel",
      "state": {
       "description_width": "initial"
      }
     },
     "500be0355d2f4a8f98f4b073ea98d3b1": {
      "model_module": "@jupyter-widgets/base",
      "model_module_version": "1.2.0",
      "model_name": "LayoutModel",
      "state": {}
     },
     "504ad359eb014ffea45e6f39dbe679a7": {
      "model_module": "@jupyter-widgets/base",
      "model_module_version": "1.2.0",
      "model_name": "LayoutModel",
      "state": {}
     },
     "50577096c6a64befa8f209f9cadaecd3": {
      "model_module": "@jupyter-widgets/base",
      "model_module_version": "1.2.0",
      "model_name": "LayoutModel",
      "state": {}
     },
     "50637c8c773f4c18a378964ad6264cc6": {
      "model_module": "@jupyter-widgets/controls",
      "model_module_version": "1.5.0",
      "model_name": "DescriptionStyleModel",
      "state": {
       "description_width": ""
      }
     },
     "508cbc6248814ea5b05522d5a2fcd1de": {
      "model_module": "@jupyter-widgets/base",
      "model_module_version": "1.2.0",
      "model_name": "LayoutModel",
      "state": {}
     },
     "50b517f1e44d4c5282bf9366c9f0ca27": {
      "model_module": "@jupyter-widgets/controls",
      "model_module_version": "1.5.0",
      "model_name": "HBoxModel",
      "state": {
       "children": [
        "IPY_MODEL_6a1309a738414bc592da22cd101ee439",
        "IPY_MODEL_d332d9b37bed4e30885496372cf8bb2b"
       ],
       "layout": "IPY_MODEL_c1fe36cd58ab4b38b7befcad6da3cf1d"
      }
     },
     "50c409ebce2a4a5e8d624496a682494c": {
      "model_module": "@jupyter-widgets/controls",
      "model_module_version": "1.5.0",
      "model_name": "ProgressStyleModel",
      "state": {
       "description_width": "initial"
      }
     },
     "50e22b8308254b4b8f0f0dcb987bcaf6": {
      "model_module": "@jupyter-widgets/controls",
      "model_module_version": "1.5.0",
      "model_name": "HBoxModel",
      "state": {
       "children": [
        "IPY_MODEL_38ff05edad90475181d51253ce3166e6",
        "IPY_MODEL_a68b6875a1f14421be3cb030a7f61c80"
       ],
       "layout": "IPY_MODEL_bb540fb041584429becb56f9b2a05d86"
      }
     },
     "50eb49e28e4d4124ba6aa1b66dfc2d84": {
      "model_module": "@jupyter-widgets/controls",
      "model_module_version": "1.5.0",
      "model_name": "HBoxModel",
      "state": {
       "children": [
        "IPY_MODEL_171d18e8dc164510927698473e9eec9f",
        "IPY_MODEL_5d6bb94aac134cff8a9e77079156b988"
       ],
       "layout": "IPY_MODEL_a3598d162a5043dba0adc0c4287fc6b7"
      }
     },
     "50eca8f2fb404231954cb4f05ad9d152": {
      "model_module": "@jupyter-widgets/controls",
      "model_module_version": "1.5.0",
      "model_name": "HTMLModel",
      "state": {
       "layout": "IPY_MODEL_50577096c6a64befa8f209f9cadaecd3",
       "style": "IPY_MODEL_38eb1850e223451ea63cb30dc5eb66ba",
       "value": " 0/90000 [00:49&lt;?, ?it/s]"
      }
     },
     "50ee33b92ac84b029f14a70af5ef30cc": {
      "model_module": "@jupyter-widgets/controls",
      "model_module_version": "1.5.0",
      "model_name": "DescriptionStyleModel",
      "state": {
       "description_width": ""
      }
     },
     "511e52b8e2594326b09b4573877d91e2": {
      "model_module": "@jupyter-widgets/controls",
      "model_module_version": "1.5.0",
      "model_name": "DescriptionStyleModel",
      "state": {
       "description_width": ""
      }
     },
     "511ed78f63214b0e99825a2a1c166a60": {
      "model_module": "@jupyter-widgets/base",
      "model_module_version": "1.2.0",
      "model_name": "LayoutModel",
      "state": {}
     },
     "513208c0920f4ccaabe4eccdf7cda7f3": {
      "model_module": "@jupyter-widgets/controls",
      "model_module_version": "1.5.0",
      "model_name": "ProgressStyleModel",
      "state": {
       "description_width": "initial"
      }
     },
     "514675e888574a149eeb5b3aae6c9c26": {
      "model_module": "@jupyter-widgets/base",
      "model_module_version": "1.2.0",
      "model_name": "LayoutModel",
      "state": {}
     },
     "516ba1f547f246779a2117d5a470d0bb": {
      "model_module": "@jupyter-widgets/controls",
      "model_module_version": "1.5.0",
      "model_name": "FloatProgressModel",
      "state": {
       "bar_style": "danger",
       "description": "Valid iteration=0:   0%",
       "layout": "IPY_MODEL_30cf2ce8c24949eabfb38cd3c13f11c6",
       "max": 10000,
       "style": "IPY_MODEL_1da78d769f3d444384603ff355eb27a5"
      }
     },
     "51859c584a294c5ca6191a227db92f8f": {
      "model_module": "@jupyter-widgets/controls",
      "model_module_version": "1.5.0",
      "model_name": "HBoxModel",
      "state": {
       "children": [
        "IPY_MODEL_0fc6fa7b46494d7e85e6cf17ad5f780f",
        "IPY_MODEL_0b16386454bf496f99407914d837cb90"
       ],
       "layout": "IPY_MODEL_616c02d317db4a08bb38115e75b6439b"
      }
     },
     "518a8d50883c4256b78fe9926d42b46b": {
      "model_module": "@jupyter-widgets/controls",
      "model_module_version": "1.5.0",
      "model_name": "HTMLModel",
      "state": {
       "layout": "IPY_MODEL_c5a986e77fbc4683a1148b009f11de37",
       "style": "IPY_MODEL_08379a902b234d8da955ad6a52cd852d",
       "value": " 0/5000 [00:28&lt;?, ?it/s]"
      }
     },
     "519521bcf2084f18899d36aba6803e03": {
      "model_module": "@jupyter-widgets/controls",
      "model_module_version": "1.5.0",
      "model_name": "ProgressStyleModel",
      "state": {
       "description_width": "initial"
      }
     },
     "51a0427adab9498d88f38adb13c8d37e": {
      "model_module": "@jupyter-widgets/controls",
      "model_module_version": "1.5.0",
      "model_name": "HTMLModel",
      "state": {
       "layout": "IPY_MODEL_1a109c8621e548549d1b6efc772cac7b",
       "style": "IPY_MODEL_c74bf2e1ec43492f97db6d84fc3d5ba8",
       "value": " 0/5000 [00:18&lt;?, ?it/s]"
      }
     },
     "51b59fd83ff744309b631dcbbe0e1069": {
      "model_module": "@jupyter-widgets/controls",
      "model_module_version": "1.5.0",
      "model_name": "DescriptionStyleModel",
      "state": {
       "description_width": ""
      }
     },
     "51c91c851e2b4e70b641642da65d0729": {
      "model_module": "@jupyter-widgets/controls",
      "model_module_version": "1.5.0",
      "model_name": "HBoxModel",
      "state": {
       "children": [
        "IPY_MODEL_0a14059b68be40dabffa65e88c037cd5",
        "IPY_MODEL_b78a00d9bffe4a00b6ed1174344c576a"
       ],
       "layout": "IPY_MODEL_b5356db26e234932b56cf4a720b08716"
      }
     },
     "523af47c3a454760949a2b710ad0d315": {
      "model_module": "@jupyter-widgets/controls",
      "model_module_version": "1.5.0",
      "model_name": "FloatProgressModel",
      "state": {
       "bar_style": "danger",
       "description": "Valid iteration=0:   0%",
       "layout": "IPY_MODEL_8f57978dfd8f405fa631c61eb4f32c6b",
       "max": 10000,
       "style": "IPY_MODEL_f698a53874ec46cf9bc2f6057c42b117"
      }
     },
     "524eaa88ee644f5e840a6a1d74a5b0ea": {
      "model_module": "@jupyter-widgets/controls",
      "model_module_version": "1.5.0",
      "model_name": "HTMLModel",
      "state": {
       "layout": "IPY_MODEL_446bd34ee3e4479a868ccdce4ec7838c",
       "style": "IPY_MODEL_ddccdbc80db1419fba4397dc27d99873",
       "value": " 242/90000 [01:27&lt;8:34:28,  2.91it/s]"
      }
     },
     "5251078be4f9437fb85fd67a455ee277": {
      "model_module": "@jupyter-widgets/base",
      "model_module_version": "1.2.0",
      "model_name": "LayoutModel",
      "state": {}
     },
     "52657a4662a149a5a70ad40168b6b0d7": {
      "model_module": "@jupyter-widgets/controls",
      "model_module_version": "1.5.0",
      "model_name": "ProgressStyleModel",
      "state": {
       "description_width": "initial"
      }
     },
     "5269cc5e4dc944fcbc3f653263d27cb2": {
      "model_module": "@jupyter-widgets/controls",
      "model_module_version": "1.5.0",
      "model_name": "DescriptionStyleModel",
      "state": {
       "description_width": ""
      }
     },
     "526f67493b754652a2730425eef62b18": {
      "model_module": "@jupyter-widgets/base",
      "model_module_version": "1.2.0",
      "model_name": "LayoutModel",
      "state": {}
     },
     "527310dab0494baea05a2a2544b2ff11": {
      "model_module": "@jupyter-widgets/base",
      "model_module_version": "1.2.0",
      "model_name": "LayoutModel",
      "state": {}
     },
     "5280183aac18425bac2415fd9d2f0993": {
      "model_module": "@jupyter-widgets/base",
      "model_module_version": "1.2.0",
      "model_name": "LayoutModel",
      "state": {}
     },
     "5289ce96d58f4d518c28aea5970733b1": {
      "model_module": "@jupyter-widgets/base",
      "model_module_version": "1.2.0",
      "model_name": "LayoutModel",
      "state": {}
     },
     "52b0811a2ced438cab72cd626ffae548": {
      "model_module": "@jupyter-widgets/controls",
      "model_module_version": "1.5.0",
      "model_name": "DescriptionStyleModel",
      "state": {
       "description_width": ""
      }
     },
     "52c5efe6531a4e95a6cff193a9c1c96c": {
      "model_module": "@jupyter-widgets/base",
      "model_module_version": "1.2.0",
      "model_name": "LayoutModel",
      "state": {}
     },
     "52ceb358066a4c2eb93859a827e80e9a": {
      "model_module": "@jupyter-widgets/base",
      "model_module_version": "1.2.0",
      "model_name": "LayoutModel",
      "state": {}
     },
     "52dcce194c2e4464b24cdb071f9ba306": {
      "model_module": "@jupyter-widgets/controls",
      "model_module_version": "1.5.0",
      "model_name": "ProgressStyleModel",
      "state": {
       "description_width": "initial"
      }
     },
     "52e0c7b17e5c47648e1154d9e68f4c41": {
      "model_module": "@jupyter-widgets/base",
      "model_module_version": "1.2.0",
      "model_name": "LayoutModel",
      "state": {}
     },
     "52ee251ecdc44e50ad4da6f436074673": {
      "model_module": "@jupyter-widgets/base",
      "model_module_version": "1.2.0",
      "model_name": "LayoutModel",
      "state": {}
     },
     "533240768e6440d5a6c8cb44518da7d1": {
      "model_module": "@jupyter-widgets/base",
      "model_module_version": "1.2.0",
      "model_name": "LayoutModel",
      "state": {}
     },
     "53474c9fa0f74dd1baac376ac2da5b9f": {
      "model_module": "@jupyter-widgets/controls",
      "model_module_version": "1.5.0",
      "model_name": "ProgressStyleModel",
      "state": {
       "description_width": "initial"
      }
     },
     "536388003ef548268b4f35224858d46f": {
      "model_module": "@jupyter-widgets/controls",
      "model_module_version": "1.5.0",
      "model_name": "HTMLModel",
      "state": {
       "layout": "IPY_MODEL_514675e888574a149eeb5b3aae6c9c26",
       "style": "IPY_MODEL_557939bc9dfe41c087f0cc78f0224d49",
       "value": " 0/23 [01:24&lt;?, ?it/s]"
      }
     },
     "5363b3d9f4464ad3ababc00df4ea8fd4": {
      "model_module": "@jupyter-widgets/base",
      "model_module_version": "1.2.0",
      "model_name": "LayoutModel",
      "state": {}
     },
     "5371ae06dd4e4dee9161cb6b6634664c": {
      "model_module": "@jupyter-widgets/controls",
      "model_module_version": "1.5.0",
      "model_name": "HBoxModel",
      "state": {
       "children": [
        "IPY_MODEL_96a6acea898b4c4aaaf44f8daa872b09",
        "IPY_MODEL_82bb188771c746e4b5920515a91b4b5f"
       ],
       "layout": "IPY_MODEL_cf0b3c75c7cc428ab859c4d76c52ea0e"
      }
     },
     "537893b03cdd4119bcf1cfd4dd519b37": {
      "model_module": "@jupyter-widgets/controls",
      "model_module_version": "1.5.0",
      "model_name": "HBoxModel",
      "state": {
       "children": [
        "IPY_MODEL_dbe6717df7d34be8acc9721c31899f56",
        "IPY_MODEL_169b4e35c57841189245c82f5c263111"
       ],
       "layout": "IPY_MODEL_3b7ab096c455458ca688c315ae810c6f"
      }
     },
     "53abf383c99e45f592efd961a48b9af7": {
      "model_module": "@jupyter-widgets/base",
      "model_module_version": "1.2.0",
      "model_name": "LayoutModel",
      "state": {}
     },
     "53b5f5d1f0bf4f88b67b0fbfda0a2b2e": {
      "model_module": "@jupyter-widgets/controls",
      "model_module_version": "1.5.0",
      "model_name": "DescriptionStyleModel",
      "state": {
       "description_width": ""
      }
     },
     "53c5ab74e2544b6ebb8da840621f3477": {
      "model_module": "@jupyter-widgets/controls",
      "model_module_version": "1.5.0",
      "model_name": "DescriptionStyleModel",
      "state": {
       "description_width": ""
      }
     },
     "53cf4b2fd2924cfd9e0222e9b08bac6d": {
      "model_module": "@jupyter-widgets/controls",
      "model_module_version": "1.5.0",
      "model_name": "FloatProgressModel",
      "state": {
       "bar_style": "danger",
       "description": "Train epoch=0:   0%",
       "layout": "IPY_MODEL_cf4d179191694f72b3cd30e0b72e3c31",
       "max": 90000,
       "style": "IPY_MODEL_122a4a4003eb4545b3d777caf236cd12",
       "value": 326
      }
     },
     "53d7e6376bbe429ba060dcbc45a6ae83": {
      "model_module": "@jupyter-widgets/controls",
      "model_module_version": "1.5.0",
      "model_name": "FloatProgressModel",
      "state": {
       "bar_style": "danger",
       "description": "Train:   0%",
       "layout": "IPY_MODEL_899c685b8ab545c89ef31a394899756e",
       "max": 23,
       "style": "IPY_MODEL_0c464c447f724298b462b595e3a0c73a"
      }
     },
     "53df619d6bb54d27adaa2aa229de35fb": {
      "model_module": "@jupyter-widgets/controls",
      "model_module_version": "1.5.0",
      "model_name": "FloatProgressModel",
      "state": {
       "bar_style": "danger",
       "description": "Valid iteration=0:   0%",
       "layout": "IPY_MODEL_87041756fc034651a4be103cd25e65d7",
       "max": 10000,
       "style": "IPY_MODEL_f9c46af681394f56b00a8d6ec41da1fc"
      }
     },
     "53f63b787b6d4907939cca319194927f": {
      "model_module": "@jupyter-widgets/controls",
      "model_module_version": "1.5.0",
      "model_name": "HTMLModel",
      "state": {
       "layout": "IPY_MODEL_acfaa1f9becc44b1a227a07f2235b9ee",
       "style": "IPY_MODEL_eb1491af55ae494a994b38e6e7c5530a",
       "value": " 0/10000 [01:59&lt;?, ?it/s]"
      }
     },
     "54069982f1c84a8a82ad325113cdec0e": {
      "model_module": "@jupyter-widgets/controls",
      "model_module_version": "1.5.0",
      "model_name": "HBoxModel",
      "state": {
       "children": [
        "IPY_MODEL_c7349a58e7aa4f6799a617333ae78bef",
        "IPY_MODEL_857802ce65774c27b67d985d0c5f8df0"
       ],
       "layout": "IPY_MODEL_387848aa8c604ba79810d0d35f176c05"
      }
     },
     "54105ead944044e2822a727c0edc1aed": {
      "model_module": "@jupyter-widgets/controls",
      "model_module_version": "1.5.0",
      "model_name": "DescriptionStyleModel",
      "state": {
       "description_width": ""
      }
     },
     "54218cb0bb534dae880efd3da3a403bb": {
      "model_module": "@jupyter-widgets/base",
      "model_module_version": "1.2.0",
      "model_name": "LayoutModel",
      "state": {}
     },
     "5440c9a280e64a8092f3fe4eb280eb5a": {
      "model_module": "@jupyter-widgets/base",
      "model_module_version": "1.2.0",
      "model_name": "LayoutModel",
      "state": {}
     },
     "5450d12b2ea6473887d914185b047ace": {
      "model_module": "@jupyter-widgets/base",
      "model_module_version": "1.2.0",
      "model_name": "LayoutModel",
      "state": {}
     },
     "5467f25b52f04aa68dcc9f8b323e3bef": {
      "model_module": "@jupyter-widgets/controls",
      "model_module_version": "1.5.0",
      "model_name": "HTMLModel",
      "state": {
       "layout": "IPY_MODEL_1c7748fed9e547fa933528296512a7dc",
       "style": "IPY_MODEL_d30e31076d974961b822bb7d6abe450b",
       "value": " 0/90000 [00:22&lt;?, ?it/s]"
      }
     },
     "547119c714834b9d8fc4f522685a9c5c": {
      "model_module": "@jupyter-widgets/base",
      "model_module_version": "1.2.0",
      "model_name": "LayoutModel",
      "state": {}
     },
     "5474d4334da64a36aca8646cc9dbbeda": {
      "model_module": "@jupyter-widgets/controls",
      "model_module_version": "1.5.0",
      "model_name": "FloatProgressModel",
      "state": {
       "bar_style": "danger",
       "description": "Train:   0%",
       "layout": "IPY_MODEL_1f10146b4a424ce0bdf007e412aefdd9",
       "max": 12,
       "style": "IPY_MODEL_776b5d4ffe504bebb1fcc1be18c84bdc"
      }
     },
     "548ec52a4cb749c4b0a38e76b7631e54": {
      "model_module": "@jupyter-widgets/base",
      "model_module_version": "1.2.0",
      "model_name": "LayoutModel",
      "state": {}
     },
     "54a996a33b214ce08362c81ecbd4428f": {
      "model_module": "@jupyter-widgets/controls",
      "model_module_version": "1.5.0",
      "model_name": "ProgressStyleModel",
      "state": {
       "description_width": "initial"
      }
     },
     "54af1979a78645f7901f85fabf424e30": {
      "model_module": "@jupyter-widgets/base",
      "model_module_version": "1.2.0",
      "model_name": "LayoutModel",
      "state": {}
     },
     "54b8787444d14c70b3946bd81cd38a8a": {
      "model_module": "@jupyter-widgets/base",
      "model_module_version": "1.2.0",
      "model_name": "LayoutModel",
      "state": {}
     },
     "54d53286cda546439b70ab5402c90fb3": {
      "model_module": "@jupyter-widgets/base",
      "model_module_version": "1.2.0",
      "model_name": "LayoutModel",
      "state": {}
     },
     "54f6c1a1c0654729812b7cf682cced20": {
      "model_module": "@jupyter-widgets/base",
      "model_module_version": "1.2.0",
      "model_name": "LayoutModel",
      "state": {}
     },
     "5500e8dbf5454c7c9770545e1a33702b": {
      "model_module": "@jupyter-widgets/controls",
      "model_module_version": "1.5.0",
      "model_name": "DescriptionStyleModel",
      "state": {
       "description_width": ""
      }
     },
     "552dd35332d44a068d6458952552f347": {
      "model_module": "@jupyter-widgets/controls",
      "model_module_version": "1.5.0",
      "model_name": "DescriptionStyleModel",
      "state": {
       "description_width": ""
      }
     },
     "5563c949d7694942925ca371502a62f7": {
      "model_module": "@jupyter-widgets/base",
      "model_module_version": "1.2.0",
      "model_name": "LayoutModel",
      "state": {}
     },
     "556cc179f7b44336909b7e6e657d1b24": {
      "model_module": "@jupyter-widgets/controls",
      "model_module_version": "1.5.0",
      "model_name": "HTMLModel",
      "state": {
       "layout": "IPY_MODEL_d602217a032644c78c9b014996a29b84",
       "style": "IPY_MODEL_39d05f55aaff48838594726f5d83b96e",
       "value": " 32/90000 [00:21&lt;10:14:52,  2.44it/s]"
      }
     },
     "556e7f675e4141569d410efd889677ad": {
      "model_module": "@jupyter-widgets/controls",
      "model_module_version": "1.5.0",
      "model_name": "DescriptionStyleModel",
      "state": {
       "description_width": ""
      }
     },
     "557939bc9dfe41c087f0cc78f0224d49": {
      "model_module": "@jupyter-widgets/controls",
      "model_module_version": "1.5.0",
      "model_name": "DescriptionStyleModel",
      "state": {
       "description_width": ""
      }
     },
     "55821e4c9b1d41f0b044b80b1962cf79": {
      "model_module": "@jupyter-widgets/base",
      "model_module_version": "1.2.0",
      "model_name": "LayoutModel",
      "state": {}
     },
     "5587ab95c17e4348a0db9d28a563dfc3": {
      "model_module": "@jupyter-widgets/base",
      "model_module_version": "1.2.0",
      "model_name": "LayoutModel",
      "state": {}
     },
     "558d334d36c44eb08e533bc74d78c14c": {
      "model_module": "@jupyter-widgets/controls",
      "model_module_version": "1.5.0",
      "model_name": "ProgressStyleModel",
      "state": {
       "description_width": "initial"
      }
     },
     "559da26304ec4e33b3a87c1c0eef8095": {
      "model_module": "@jupyter-widgets/controls",
      "model_module_version": "1.5.0",
      "model_name": "HTMLModel",
      "state": {
       "layout": "IPY_MODEL_b0519f04b1f7401cb0e71ec269190f36",
       "style": "IPY_MODEL_8159f5f0b7e144ec86123cd12f436086",
       "value": " 0/23 [01:41&lt;?, ?it/s]"
      }
     },
     "55a9c5e3cab94ee2aa3126a30d83444c": {
      "model_module": "@jupyter-widgets/base",
      "model_module_version": "1.2.0",
      "model_name": "LayoutModel",
      "state": {}
     },
     "55ecd7aaa7f14f90a0e01b2e604f2df7": {
      "model_module": "@jupyter-widgets/controls",
      "model_module_version": "1.5.0",
      "model_name": "DescriptionStyleModel",
      "state": {
       "description_width": ""
      }
     },
     "560ee1189e6943f6aeac8c924787e5e8": {
      "model_module": "@jupyter-widgets/controls",
      "model_module_version": "1.5.0",
      "model_name": "FloatProgressModel",
      "state": {
       "bar_style": "danger",
       "description": "Train epoch=0:   0%",
       "layout": "IPY_MODEL_cb110a3c7347446d9de2269d884bcdbd",
       "max": 90000,
       "style": "IPY_MODEL_59914bc14e1e49b3a46a135104ab4fe3"
      }
     },
     "561abc75a64949dca08ea19aac3b2564": {
      "model_module": "@jupyter-widgets/controls",
      "model_module_version": "1.5.0",
      "model_name": "FloatProgressModel",
      "state": {
       "bar_style": "danger",
       "description": "Train epoch=0:   0%",
       "layout": "IPY_MODEL_a31e3bdde8db4981b3575d608d7c09fb",
       "max": 90000,
       "style": "IPY_MODEL_cf13da3cc31148b0afe9e075176b723c"
      }
     },
     "561de7419caa42bda8d876fd86103e70": {
      "model_module": "@jupyter-widgets/controls",
      "model_module_version": "1.5.0",
      "model_name": "DescriptionStyleModel",
      "state": {
       "description_width": ""
      }
     },
     "562cc12ebfdf4e7cb25cb64a3f89792c": {
      "model_module": "@jupyter-widgets/controls",
      "model_module_version": "1.5.0",
      "model_name": "FloatProgressModel",
      "state": {
       "bar_style": "danger",
       "description": "Valid iteration=4000:   0%",
       "layout": "IPY_MODEL_f89c9e084a764a51b7cbbf9a8295f5dd",
       "max": 10000,
       "style": "IPY_MODEL_43ba37a5ab864765b7f74023c4672ecb"
      }
     },
     "56339768f6fb4d688d9852f01d313f26": {
      "model_module": "@jupyter-widgets/base",
      "model_module_version": "1.2.0",
      "model_name": "LayoutModel",
      "state": {}
     },
     "56370c1add60403fae8e8635db0a7b95": {
      "model_module": "@jupyter-widgets/controls",
      "model_module_version": "1.5.0",
      "model_name": "HBoxModel",
      "state": {
       "children": [
        "IPY_MODEL_1086c191529e4558b5a3c5f1b2c4bbcf",
        "IPY_MODEL_4e5285811abf421faa2c3b9b68a972e6"
       ],
       "layout": "IPY_MODEL_756b61b51c9d49e1bb4d8946a8d50d03"
      }
     },
     "5646cfcee27d44fd825fad830df9342c": {
      "model_module": "@jupyter-widgets/controls",
      "model_module_version": "1.5.0",
      "model_name": "DescriptionStyleModel",
      "state": {
       "description_width": ""
      }
     },
     "564b630ba30a48299fe287a913f9bebb": {
      "model_module": "@jupyter-widgets/base",
      "model_module_version": "1.2.0",
      "model_name": "LayoutModel",
      "state": {}
     },
     "5660d37bc7314f6eb2593a4ad8db2997": {
      "model_module": "@jupyter-widgets/base",
      "model_module_version": "1.2.0",
      "model_name": "LayoutModel",
      "state": {}
     },
     "56661b22d42644cbab2a642042e9c96e": {
      "model_module": "@jupyter-widgets/controls",
      "model_module_version": "1.5.0",
      "model_name": "FloatProgressModel",
      "state": {
       "bar_style": "danger",
       "description": "Train epoch=0:   0%",
       "layout": "IPY_MODEL_c454897709374e5581d5e48a8605d2bd",
       "max": 90000,
       "style": "IPY_MODEL_acbb7173fcbe456380be0072befa3503"
      }
     },
     "5678359a5acc4ca29723d403d6204aac": {
      "model_module": "@jupyter-widgets/controls",
      "model_module_version": "1.5.0",
      "model_name": "HBoxModel",
      "state": {
       "children": [
        "IPY_MODEL_dc3603c1569b49129e22036c2cd5ca52",
        "IPY_MODEL_5ee850e163eb4e56943f31f96da22f41"
       ],
       "layout": "IPY_MODEL_8e6ced4ea7c744519957fa5c47347c22"
      }
     },
     "567d4231d00e488b8d39af22f0da6a0b": {
      "model_module": "@jupyter-widgets/controls",
      "model_module_version": "1.5.0",
      "model_name": "ProgressStyleModel",
      "state": {
       "description_width": "initial"
      }
     },
     "568301bf36434e2e8a8eea1d74325783": {
      "model_module": "@jupyter-widgets/controls",
      "model_module_version": "1.5.0",
      "model_name": "HBoxModel",
      "state": {
       "children": [
        "IPY_MODEL_a833fa0a2a6944a7b0260a66826e5d09",
        "IPY_MODEL_48eb59304d7c483f9afffd3e0b569e97"
       ],
       "layout": "IPY_MODEL_8fd2bab22f424f92a318617bd88483a6"
      }
     },
     "568978a2e3dc49db8faf1ff34192a016": {
      "model_module": "@jupyter-widgets/base",
      "model_module_version": "1.2.0",
      "model_name": "LayoutModel",
      "state": {}
     },
     "56a8840471344d23a6553a10625cf165": {
      "model_module": "@jupyter-widgets/base",
      "model_module_version": "1.2.0",
      "model_name": "LayoutModel",
      "state": {}
     },
     "56ad767e4db04a549525f7e7059016fa": {
      "model_module": "@jupyter-widgets/controls",
      "model_module_version": "1.5.0",
      "model_name": "DescriptionStyleModel",
      "state": {
       "description_width": ""
      }
     },
     "56b1f64b02a14e17ba1f9822ad0ff009": {
      "model_module": "@jupyter-widgets/controls",
      "model_module_version": "1.5.0",
      "model_name": "HTMLModel",
      "state": {
       "layout": "IPY_MODEL_5a58cfe488d0495591ce2833c35403e0",
       "style": "IPY_MODEL_5b277cbfbcdd45af8e590476e07aff68",
       "value": " 0/5000 [02:01&lt;?, ?it/s]"
      }
     },
     "56c45d904d08415d900293e9711d283b": {
      "model_module": "@jupyter-widgets/base",
      "model_module_version": "1.2.0",
      "model_name": "LayoutModel",
      "state": {}
     },
     "56c67ce8918045bba703676d78e2f466": {
      "model_module": "@jupyter-widgets/controls",
      "model_module_version": "1.5.0",
      "model_name": "HTMLModel",
      "state": {
       "layout": "IPY_MODEL_5e97663a3e044e5c83b16bfaa76af476",
       "style": "IPY_MODEL_a5f2b4580d634b12aed673a4b7cce35a",
       "value": " 0/5000 [20:32&lt;?, ?it/s]"
      }
     },
     "5710bbf4f1974ab1b26ae291f3ecbcbf": {
      "model_module": "@jupyter-widgets/controls",
      "model_module_version": "1.5.0",
      "model_name": "HBoxModel",
      "state": {
       "children": [
        "IPY_MODEL_57c2bda3e11440c0a68bd090318e36ef",
        "IPY_MODEL_092a018ff4de486b98c04674e0902ae4"
       ],
       "layout": "IPY_MODEL_bc82f751e85f4e40941dab8adb7a300a"
      }
     },
     "571a8bb5b28c4435893a3afc1953dfe2": {
      "model_module": "@jupyter-widgets/controls",
      "model_module_version": "1.5.0",
      "model_name": "DescriptionStyleModel",
      "state": {
       "description_width": ""
      }
     },
     "574e8e5282744b5896531ca0afb8edf4": {
      "model_module": "@jupyter-widgets/controls",
      "model_module_version": "1.5.0",
      "model_name": "FloatProgressModel",
      "state": {
       "bar_style": "danger",
       "description": "Train epoch=0:   0%",
       "layout": "IPY_MODEL_ae08db1b64b24cc5a19d72a1b4ef6c42",
       "max": 45000,
       "style": "IPY_MODEL_81d6ac4eed0b4edea02e7d8dddeb6b6b"
      }
     },
     "576bb3af20ea42dea5f098459afcc616": {
      "model_module": "@jupyter-widgets/controls",
      "model_module_version": "1.5.0",
      "model_name": "ProgressStyleModel",
      "state": {
       "description_width": "initial"
      }
     },
     "57894494dc3a4a2d8b5c882dd214499b": {
      "model_module": "@jupyter-widgets/controls",
      "model_module_version": "1.5.0",
      "model_name": "ProgressStyleModel",
      "state": {
       "description_width": "initial"
      }
     },
     "57a4c3d74d3040b3bf6b78436c7f3772": {
      "model_module": "@jupyter-widgets/controls",
      "model_module_version": "1.5.0",
      "model_name": "DescriptionStyleModel",
      "state": {
       "description_width": ""
      }
     },
     "57b020c154aa4310bc035d429aa3adbe": {
      "model_module": "@jupyter-widgets/base",
      "model_module_version": "1.2.0",
      "model_name": "LayoutModel",
      "state": {}
     },
     "57c2bda3e11440c0a68bd090318e36ef": {
      "model_module": "@jupyter-widgets/controls",
      "model_module_version": "1.5.0",
      "model_name": "FloatProgressModel",
      "state": {
       "bar_style": "danger",
       "description": "Valid iteration=0:   0%",
       "layout": "IPY_MODEL_24359aa1e963428da44be5a45df5eacf",
       "max": 10000,
       "style": "IPY_MODEL_997dc846cf47473e819247772f6d85d2"
      }
     },
     "57ce5a626ad741f1bedc4136f4b3daf6": {
      "model_module": "@jupyter-widgets/controls",
      "model_module_version": "1.5.0",
      "model_name": "HBoxModel",
      "state": {
       "children": [
        "IPY_MODEL_ad96e902d21c4f91b141268af38f0e53",
        "IPY_MODEL_f8c17d83cd8d446a84b3a14c991b9752"
       ],
       "layout": "IPY_MODEL_9f44354d206049f4ae2350ab373c770d"
      }
     },
     "57d4dfebefc54fe28069e97e4faf4ffd": {
      "model_module": "@jupyter-widgets/controls",
      "model_module_version": "1.5.0",
      "model_name": "FloatProgressModel",
      "state": {
       "bar_style": "danger",
       "description": "Train:   0%",
       "layout": "IPY_MODEL_432e939f8bb84586a028f2e5c894e156",
       "max": 12,
       "style": "IPY_MODEL_93cc2854b4c64fe59a0c8bd8ea87518d"
      }
     },
     "57e51660774243beac83392415ad4367": {
      "model_module": "@jupyter-widgets/base",
      "model_module_version": "1.2.0",
      "model_name": "LayoutModel",
      "state": {}
     },
     "57fec01a0a0d4b2580d67832a96c9061": {
      "model_module": "@jupyter-widgets/controls",
      "model_module_version": "1.5.0",
      "model_name": "DescriptionStyleModel",
      "state": {
       "description_width": ""
      }
     },
     "5813452dc28f4d3c8a1fd05de6ff88ee": {
      "model_module": "@jupyter-widgets/controls",
      "model_module_version": "1.5.0",
      "model_name": "ProgressStyleModel",
      "state": {
       "description_width": "initial"
      }
     },
     "5822b8b98b2b42d29fb81a84eeae517e": {
      "model_module": "@jupyter-widgets/controls",
      "model_module_version": "1.5.0",
      "model_name": "ProgressStyleModel",
      "state": {
       "description_width": "initial"
      }
     },
     "582343bcea444e4f84d3ab85d1ffaae8": {
      "model_module": "@jupyter-widgets/base",
      "model_module_version": "1.2.0",
      "model_name": "LayoutModel",
      "state": {}
     },
     "583af364c9954a7a982405b3299b8af0": {
      "model_module": "@jupyter-widgets/controls",
      "model_module_version": "1.5.0",
      "model_name": "FloatProgressModel",
      "state": {
       "bar_style": "danger",
       "description": "Train epoch=0:   0%",
       "layout": "IPY_MODEL_0563cda2529244e9ae0328e1198c4e45",
       "max": 90000,
       "style": "IPY_MODEL_95cb7b1764104542afe84253d241be7b"
      }
     },
     "5866ef739373469b812d2ad5f7354351": {
      "model_module": "@jupyter-widgets/controls",
      "model_module_version": "1.5.0",
      "model_name": "HBoxModel",
      "state": {
       "children": [
        "IPY_MODEL_fbc84584a73049f08826a5f0dbd88b60",
        "IPY_MODEL_e27e3b4102f44d5d8faac744af37a7bf"
       ],
       "layout": "IPY_MODEL_f1738870df4c4da99e07cd4e8eddea40"
      }
     },
     "586f1945c0cc48f4b6307b5695d33437": {
      "model_module": "@jupyter-widgets/base",
      "model_module_version": "1.2.0",
      "model_name": "LayoutModel",
      "state": {}
     },
     "587c941a3a814a9e8c8ce115386fe807": {
      "model_module": "@jupyter-widgets/controls",
      "model_module_version": "1.5.0",
      "model_name": "FloatProgressModel",
      "state": {
       "bar_style": "danger",
       "description": "Valid iteration=0:   0%",
       "layout": "IPY_MODEL_80b3ab3a919d465f88ecaeb3209b158d",
       "max": 10000,
       "style": "IPY_MODEL_1d9ed5b0eb9f4751a25316445341e1ca"
      }
     },
     "587eca5217df4715951d690c51c3b525": {
      "model_module": "@jupyter-widgets/controls",
      "model_module_version": "1.5.0",
      "model_name": "HTMLModel",
      "state": {
       "layout": "IPY_MODEL_9a97b2e5226747e2a5cbdda95dd2ceb7",
       "style": "IPY_MODEL_b1440adb9e84428685a6ddd3b96cfca3",
       "value": " 1071/45000 [10:59&lt;7:28:00,  1.63it/s]"
      }
     },
     "58827b81d73344bba618619a61fd6915": {
      "model_module": "@jupyter-widgets/controls",
      "model_module_version": "1.5.0",
      "model_name": "ProgressStyleModel",
      "state": {
       "description_width": "initial"
      }
     },
     "58b592ae2a514635a5558ef26a034e5f": {
      "model_module": "@jupyter-widgets/base",
      "model_module_version": "1.2.0",
      "model_name": "LayoutModel",
      "state": {}
     },
     "58cdb684d6594c84a8c0cff05f879cc7": {
      "model_module": "@jupyter-widgets/base",
      "model_module_version": "1.2.0",
      "model_name": "LayoutModel",
      "state": {}
     },
     "58e19f828b944ad598ed086fb59804c0": {
      "model_module": "@jupyter-widgets/controls",
      "model_module_version": "1.5.0",
      "model_name": "ProgressStyleModel",
      "state": {
       "description_width": "initial"
      }
     },
     "58e296248f684f5e82ce9e081a03442c": {
      "model_module": "@jupyter-widgets/base",
      "model_module_version": "1.2.0",
      "model_name": "LayoutModel",
      "state": {}
     },
     "58eb746e8a4d4057afc311c16cc86e6f": {
      "model_module": "@jupyter-widgets/controls",
      "model_module_version": "1.5.0",
      "model_name": "ProgressStyleModel",
      "state": {
       "description_width": "initial"
      }
     },
     "58ecb310bf6b46a4bb678c2344b78bae": {
      "model_module": "@jupyter-widgets/controls",
      "model_module_version": "1.5.0",
      "model_name": "FloatProgressModel",
      "state": {
       "bar_style": "danger",
       "description": "Train:   0%",
       "layout": "IPY_MODEL_deba3b7edc5f4f038b968bcd2d701b2e",
       "max": 23,
       "style": "IPY_MODEL_a95a62fa4a594917b218e456a2cf442b"
      }
     },
     "58f1969ab07b42a3b78a3633b243690a": {
      "model_module": "@jupyter-widgets/base",
      "model_module_version": "1.2.0",
      "model_name": "LayoutModel",
      "state": {}
     },
     "58fc50cb87c34294b4a3a4169513d5d5": {
      "model_module": "@jupyter-widgets/controls",
      "model_module_version": "1.5.0",
      "model_name": "ProgressStyleModel",
      "state": {
       "description_width": "initial"
      }
     },
     "5913e9f0b9e643e4ac1fd40cdaa75440": {
      "model_module": "@jupyter-widgets/base",
      "model_module_version": "1.2.0",
      "model_name": "LayoutModel",
      "state": {}
     },
     "59346b636df241d093573e1c90140002": {
      "model_module": "@jupyter-widgets/controls",
      "model_module_version": "1.5.0",
      "model_name": "ProgressStyleModel",
      "state": {
       "description_width": "initial"
      }
     },
     "5942f9887f074eb393ce60d6a4ee0254": {
      "model_module": "@jupyter-widgets/base",
      "model_module_version": "1.2.0",
      "model_name": "LayoutModel",
      "state": {}
     },
     "594f09a9eebd417e8e413cecf939676f": {
      "model_module": "@jupyter-widgets/controls",
      "model_module_version": "1.5.0",
      "model_name": "ProgressStyleModel",
      "state": {
       "description_width": "initial"
      }
     },
     "595961e530e0404abcc6b4751fa5a469": {
      "model_module": "@jupyter-widgets/controls",
      "model_module_version": "1.5.0",
      "model_name": "HBoxModel",
      "state": {
       "children": [
        "IPY_MODEL_98fc5b1f5a3a43dfbdae5dacdc5ed952",
        "IPY_MODEL_241f868ea488423a8f0635cfb5f5386c"
       ],
       "layout": "IPY_MODEL_d11c3b661b28449aa5c8dbbadd7b8c6f"
      }
     },
     "595fe48336b14ab08ab44abfc8c18246": {
      "model_module": "@jupyter-widgets/controls",
      "model_module_version": "1.5.0",
      "model_name": "FloatProgressModel",
      "state": {
       "bar_style": "danger",
       "description": "Valid iteration=0:   0%",
       "layout": "IPY_MODEL_c4dcad6ddbb2486bb08fe04a8243a68c",
       "max": 10000,
       "style": "IPY_MODEL_44b7d1b1c88a48edb7a8b00cb0e60357"
      }
     },
     "59795e1dd46542f9a973d525796eb5e9": {
      "model_module": "@jupyter-widgets/controls",
      "model_module_version": "1.5.0",
      "model_name": "DescriptionStyleModel",
      "state": {
       "description_width": ""
      }
     },
     "597de506c90143d69d00f9fc0acc4b29": {
      "model_module": "@jupyter-widgets/controls",
      "model_module_version": "1.5.0",
      "model_name": "HTMLModel",
      "state": {
       "layout": "IPY_MODEL_bfdc1f73f3cc4f2c8dedda7a62757d59",
       "style": "IPY_MODEL_709cd3924fa640a080b6d06b07564d91",
       "value": " 0/10000 [00:01&lt;?, ?it/s]"
      }
     },
     "59914bc14e1e49b3a46a135104ab4fe3": {
      "model_module": "@jupyter-widgets/controls",
      "model_module_version": "1.5.0",
      "model_name": "ProgressStyleModel",
      "state": {
       "description_width": "initial"
      }
     },
     "599f345eba7b4e50bd27450d16ad2115": {
      "model_module": "@jupyter-widgets/controls",
      "model_module_version": "1.5.0",
      "model_name": "ProgressStyleModel",
      "state": {
       "description_width": "initial"
      }
     },
     "59a1c9a1c2c649478f813620ae06ca22": {
      "model_module": "@jupyter-widgets/controls",
      "model_module_version": "1.5.0",
      "model_name": "ProgressStyleModel",
      "state": {
       "description_width": "initial"
      }
     },
     "59a6a5b29a154f75aa9b3c6d6a886cc2": {
      "model_module": "@jupyter-widgets/controls",
      "model_module_version": "1.5.0",
      "model_name": "HBoxModel",
      "state": {
       "children": [
        "IPY_MODEL_6deb2de7ff8d46e69ea05b6c66c14dce",
        "IPY_MODEL_328f83e6aa3b43ee8651ce22509d64af"
       ],
       "layout": "IPY_MODEL_e1353b42a2444b93ab0adad64bf4ef6a"
      }
     },
     "59e5ac451fd94352bb18350a0617d997": {
      "model_module": "@jupyter-widgets/base",
      "model_module_version": "1.2.0",
      "model_name": "LayoutModel",
      "state": {}
     },
     "59f2731b59da4899a0b95f0496e687b6": {
      "model_module": "@jupyter-widgets/controls",
      "model_module_version": "1.5.0",
      "model_name": "HBoxModel",
      "state": {
       "children": [
        "IPY_MODEL_8e2d89e26a9e419a8c713ffc4d937d69",
        "IPY_MODEL_14ee8ad0988e47bf81f441c0fa28a7f0"
       ],
       "layout": "IPY_MODEL_b04ea04a65e54cd88deb069725174255"
      }
     },
     "59f4d38312a046fbbbaeec63595dcf2b": {
      "model_module": "@jupyter-widgets/controls",
      "model_module_version": "1.5.0",
      "model_name": "HTMLModel",
      "state": {
       "layout": "IPY_MODEL_e3e4ac0a3cad4d5a8ee7b05b7504dc05",
       "style": "IPY_MODEL_b3b3c68a8217422ba8a93e5ad7e34421",
       "value": " 29/90000 [00:16&lt;8:20:55,  2.99it/s]"
      }
     },
     "5a0aab5cc95c40ada9126733f99faaf4": {
      "model_module": "@jupyter-widgets/controls",
      "model_module_version": "1.5.0",
      "model_name": "DescriptionStyleModel",
      "state": {
       "description_width": ""
      }
     },
     "5a1ad4ea68034d9ab4425a0e10a7f312": {
      "model_module": "@jupyter-widgets/controls",
      "model_module_version": "1.5.0",
      "model_name": "FloatProgressModel",
      "state": {
       "bar_style": "danger",
       "description": "Train:   0%",
       "layout": "IPY_MODEL_58f1969ab07b42a3b78a3633b243690a",
       "max": 12,
       "style": "IPY_MODEL_258897076caf4c5091b7a199d5e61a0d"
      }
     },
     "5a22760b65bc4b8ea8c1df38d5e9147d": {
      "model_module": "@jupyter-widgets/controls",
      "model_module_version": "1.5.0",
      "model_name": "HTMLModel",
      "state": {
       "layout": "IPY_MODEL_8aeccc53ed544600af89c35f77f685f7",
       "style": "IPY_MODEL_ca8b46df807445da96bcedd6fcb25867",
       "value": " 0/12 [01:31&lt;?, ?it/s]"
      }
     },
     "5a23dcc1367d48a18b23e085fac6f748": {
      "model_module": "@jupyter-widgets/controls",
      "model_module_version": "1.5.0",
      "model_name": "DescriptionStyleModel",
      "state": {
       "description_width": ""
      }
     },
     "5a5214bb61d0492a844f55011a7e9f5b": {
      "model_module": "@jupyter-widgets/base",
      "model_module_version": "1.2.0",
      "model_name": "LayoutModel",
      "state": {}
     },
     "5a58cfe488d0495591ce2833c35403e0": {
      "model_module": "@jupyter-widgets/base",
      "model_module_version": "1.2.0",
      "model_name": "LayoutModel",
      "state": {}
     },
     "5a653957d7c1417999ea188dbfc927c1": {
      "model_module": "@jupyter-widgets/base",
      "model_module_version": "1.2.0",
      "model_name": "LayoutModel",
      "state": {}
     },
     "5a76c2f3e3684ccbb050cd277d8cb12d": {
      "model_module": "@jupyter-widgets/base",
      "model_module_version": "1.2.0",
      "model_name": "LayoutModel",
      "state": {}
     },
     "5a778cce6b0e486fb9eac2d7906d87f0": {
      "model_module": "@jupyter-widgets/controls",
      "model_module_version": "1.5.0",
      "model_name": "FloatProgressModel",
      "state": {
       "bar_style": "danger",
       "description": "Valid iteration=5000:   0%",
       "layout": "IPY_MODEL_fbfb86fe1e6940868f767a1965b8a519",
       "max": 10000,
       "style": "IPY_MODEL_e9af25ff996c41b8b0e6e16d30313e06"
      }
     },
     "5a7da93a78f8430f87e8589e4a0ade0f": {
      "model_module": "@jupyter-widgets/controls",
      "model_module_version": "1.5.0",
      "model_name": "DescriptionStyleModel",
      "state": {
       "description_width": ""
      }
     },
     "5a9599b693c546809b41c0a13196565b": {
      "model_module": "@jupyter-widgets/base",
      "model_module_version": "1.2.0",
      "model_name": "LayoutModel",
      "state": {}
     },
     "5a9faa48cdf64f76953948811d689328": {
      "model_module": "@jupyter-widgets/controls",
      "model_module_version": "1.5.0",
      "model_name": "HBoxModel",
      "state": {
       "children": [
        "IPY_MODEL_477d3744fb5d446ab14f6cd7c1c35a26",
        "IPY_MODEL_44b1aa5743bc4947bea64f9705c1a256"
       ],
       "layout": "IPY_MODEL_d8fb88f4869c481ca9774bd8a99e393d"
      }
     },
     "5ac2e4ffe7ea422e83fe9a0d6f61ad64": {
      "model_module": "@jupyter-widgets/controls",
      "model_module_version": "1.5.0",
      "model_name": "HTMLModel",
      "state": {
       "layout": "IPY_MODEL_a5cb4d90e4f2412aa3db93dc18440708",
       "style": "IPY_MODEL_50637c8c773f4c18a378964ad6264cc6",
       "value": " 0/5000 [01:10&lt;?, ?it/s]"
      }
     },
     "5ad533511de64b89bbd2c2109c11359f": {
      "model_module": "@jupyter-widgets/base",
      "model_module_version": "1.2.0",
      "model_name": "LayoutModel",
      "state": {}
     },
     "5afb0927988649f696fd19c01bd03114": {
      "model_module": "@jupyter-widgets/controls",
      "model_module_version": "1.5.0",
      "model_name": "HBoxModel",
      "state": {
       "children": [
        "IPY_MODEL_7c445b757f254b6597ed43d94b1ec66c",
        "IPY_MODEL_524eaa88ee644f5e840a6a1d74a5b0ea"
       ],
       "layout": "IPY_MODEL_1ae7465b1ce4463bb2a79811a0cae832"
      }
     },
     "5b039f927454491a81c3cd8f2163a9f1": {
      "model_module": "@jupyter-widgets/controls",
      "model_module_version": "1.5.0",
      "model_name": "FloatProgressModel",
      "state": {
       "bar_style": "danger",
       "description": "Valid iteration=1000:   0%",
       "layout": "IPY_MODEL_001a6c79a00948c6831eda74a4883600",
       "max": 5000,
       "style": "IPY_MODEL_a63da02a6f6b4f0a89cef0a51ce39289"
      }
     },
     "5b277cbfbcdd45af8e590476e07aff68": {
      "model_module": "@jupyter-widgets/controls",
      "model_module_version": "1.5.0",
      "model_name": "DescriptionStyleModel",
      "state": {
       "description_width": ""
      }
     },
     "5b63105f383a4df3882fab2d7b499867": {
      "model_module": "@jupyter-widgets/base",
      "model_module_version": "1.2.0",
      "model_name": "LayoutModel",
      "state": {}
     },
     "5b79a817337b4f8cab490be37acbe038": {
      "model_module": "@jupyter-widgets/controls",
      "model_module_version": "1.5.0",
      "model_name": "DescriptionStyleModel",
      "state": {
       "description_width": ""
      }
     },
     "5b7e6167bfa04ace9c1ff8fa0df8fe75": {
      "model_module": "@jupyter-widgets/base",
      "model_module_version": "1.2.0",
      "model_name": "LayoutModel",
      "state": {}
     },
     "5b8d18f719754bbf871b988ea4ba379b": {
      "model_module": "@jupyter-widgets/base",
      "model_module_version": "1.2.0",
      "model_name": "LayoutModel",
      "state": {}
     },
     "5b9cb49b98734c35ae7a7acf7c2b985f": {
      "model_module": "@jupyter-widgets/controls",
      "model_module_version": "1.5.0",
      "model_name": "ProgressStyleModel",
      "state": {
       "description_width": "initial"
      }
     },
     "5ba1c43753494d70a0ba826cefe048bd": {
      "model_module": "@jupyter-widgets/controls",
      "model_module_version": "1.5.0",
      "model_name": "FloatProgressModel",
      "state": {
       "bar_style": "danger",
       "description": "Valid iteration=0:   0%",
       "layout": "IPY_MODEL_80d1bb4fdffc465a9529e4efc896e36d",
       "max": 10000,
       "style": "IPY_MODEL_c9f933758c9943bf8e91cf61f27136a3"
      }
     },
     "5bb85ca4ecd3459794821caffdc36190": {
      "model_module": "@jupyter-widgets/base",
      "model_module_version": "1.2.0",
      "model_name": "LayoutModel",
      "state": {}
     },
     "5bc4347685f74c9fb1b3f06924235287": {
      "model_module": "@jupyter-widgets/controls",
      "model_module_version": "1.5.0",
      "model_name": "HBoxModel",
      "state": {
       "children": [
        "IPY_MODEL_595fe48336b14ab08ab44abfc8c18246",
        "IPY_MODEL_c1ad42fae3fc480093cac88450a55c5f"
       ],
       "layout": "IPY_MODEL_9aedc1eba1e44f699b84123a6543c57f"
      }
     },
     "5be710e040bf41e9a9372946979ef9b7": {
      "model_module": "@jupyter-widgets/controls",
      "model_module_version": "1.5.0",
      "model_name": "DescriptionStyleModel",
      "state": {
       "description_width": ""
      }
     },
     "5c08febff61d426daf593e69c515dbaa": {
      "model_module": "@jupyter-widgets/base",
      "model_module_version": "1.2.0",
      "model_name": "LayoutModel",
      "state": {}
     },
     "5c33b771483047f1a191caf002ccc972": {
      "model_module": "@jupyter-widgets/base",
      "model_module_version": "1.2.0",
      "model_name": "LayoutModel",
      "state": {}
     },
     "5c441b88e75448cf8ddab4a5f9e55804": {
      "model_module": "@jupyter-widgets/controls",
      "model_module_version": "1.5.0",
      "model_name": "HTMLModel",
      "state": {
       "layout": "IPY_MODEL_4d9c7b286ce84634b59e06f2e56b1004",
       "style": "IPY_MODEL_c2c23e9971144917b1c35ed1e2ffbd7c",
       "value": " 0/10000 [00:11&lt;?, ?it/s]"
      }
     },
     "5c49c91ea2304b58812443921f59db1e": {
      "model_module": "@jupyter-widgets/controls",
      "model_module_version": "1.5.0",
      "model_name": "HBoxModel",
      "state": {
       "children": [
        "IPY_MODEL_aa7d557769264681bc2f68ac83746f9b",
        "IPY_MODEL_89808dabe7a2491f8427c7d33572cce0"
       ],
       "layout": "IPY_MODEL_2dcba572628d4c3385d0d94e76de6f30"
      }
     },
     "5c50fb3be784458eace35427ed93a158": {
      "model_module": "@jupyter-widgets/base",
      "model_module_version": "1.2.0",
      "model_name": "LayoutModel",
      "state": {}
     },
     "5c6bd313fdf94853abf94e976b17f6b2": {
      "model_module": "@jupyter-widgets/controls",
      "model_module_version": "1.5.0",
      "model_name": "DescriptionStyleModel",
      "state": {
       "description_width": ""
      }
     },
     "5c761f84ec3544a7910def7d5a94cf53": {
      "model_module": "@jupyter-widgets/base",
      "model_module_version": "1.2.0",
      "model_name": "LayoutModel",
      "state": {}
     },
     "5c7fa270869c4924a8eccda71341a00c": {
      "model_module": "@jupyter-widgets/controls",
      "model_module_version": "1.5.0",
      "model_name": "HTMLModel",
      "state": {
       "layout": "IPY_MODEL_95f6b8b1634a465782d70fcf80ce5c68",
       "style": "IPY_MODEL_211a8d80f37b4435a1ed80d2bc0bcdc3",
       "value": " 0/10000 [35:16&lt;?, ?it/s]"
      }
     },
     "5c85a395da8d4468a5030ce1cd2a94dd": {
      "model_module": "@jupyter-widgets/base",
      "model_module_version": "1.2.0",
      "model_name": "LayoutModel",
      "state": {}
     },
     "5c8e233c132547de95ad27b5c5dcf0b8": {
      "model_module": "@jupyter-widgets/base",
      "model_module_version": "1.2.0",
      "model_name": "LayoutModel",
      "state": {}
     },
     "5c9e85e946404658afeca1787d50c8bf": {
      "model_module": "@jupyter-widgets/base",
      "model_module_version": "1.2.0",
      "model_name": "LayoutModel",
      "state": {}
     },
     "5ca0e0f478f0493995fb5222e452d8ec": {
      "model_module": "@jupyter-widgets/controls",
      "model_module_version": "1.5.0",
      "model_name": "FloatProgressModel",
      "state": {
       "bar_style": "danger",
       "description": "Train:   0%",
       "layout": "IPY_MODEL_bd3142c6310d43a89027d8270a0cee75",
       "max": 12,
       "style": "IPY_MODEL_dd9a2eb63904457fafeada49c1474ef1"
      }
     },
     "5cb0a1d46d454c6aa9e9d1dc083193a0": {
      "model_module": "@jupyter-widgets/base",
      "model_module_version": "1.2.0",
      "model_name": "LayoutModel",
      "state": {}
     },
     "5cb6aa4805b74b5da2a7a82d1e7d40a8": {
      "model_module": "@jupyter-widgets/controls",
      "model_module_version": "1.5.0",
      "model_name": "HBoxModel",
      "state": {
       "children": [
        "IPY_MODEL_49f0120fcace4757a7bb1f598799773f",
        "IPY_MODEL_92dc64d4ad35463ba7e39307331ff46a"
       ],
       "layout": "IPY_MODEL_bb878f782e31462988331ad7661a8709"
      }
     },
     "5cc6cfc003e5497eae738468421ce250": {
      "model_module": "@jupyter-widgets/controls",
      "model_module_version": "1.5.0",
      "model_name": "ProgressStyleModel",
      "state": {
       "description_width": "initial"
      }
     },
     "5ccf0399241b406b891a598e0bbdb22a": {
      "model_module": "@jupyter-widgets/controls",
      "model_module_version": "1.5.0",
      "model_name": "HTMLModel",
      "state": {
       "layout": "IPY_MODEL_ac955b651f7c46158174483ee78ec0cc",
       "style": "IPY_MODEL_329e9d6c1f3140f6b70aeb78451168d1",
       "value": " 12/45000 [01:31&lt;4:43:25,  2.65it/s]"
      }
     },
     "5ceb2cffdc2a48d99552b347db9256d5": {
      "model_module": "@jupyter-widgets/controls",
      "model_module_version": "1.5.0",
      "model_name": "FloatProgressModel",
      "state": {
       "bar_style": "danger",
       "description": "Train epoch=0:   0%",
       "layout": "IPY_MODEL_316bfd5f29004dc9a8a40e8c96a1351e",
       "max": 45000,
       "style": "IPY_MODEL_43e255be17604a42ac2f26fc3d32b33a",
       "value": 12
      }
     },
     "5d06258cfc5a454691945a87f40ff579": {
      "model_module": "@jupyter-widgets/controls",
      "model_module_version": "1.5.0",
      "model_name": "DescriptionStyleModel",
      "state": {
       "description_width": ""
      }
     },
     "5d09b4ca208f4869ab379f667a1913df": {
      "model_module": "@jupyter-widgets/controls",
      "model_module_version": "1.5.0",
      "model_name": "DescriptionStyleModel",
      "state": {
       "description_width": ""
      }
     },
     "5d0a2fc343b44b6fb9882babb2d327c6": {
      "model_module": "@jupyter-widgets/controls",
      "model_module_version": "1.5.0",
      "model_name": "ProgressStyleModel",
      "state": {
       "description_width": "initial"
      }
     },
     "5d36c4c604ae413a833f4c5720218202": {
      "model_module": "@jupyter-widgets/controls",
      "model_module_version": "1.5.0",
      "model_name": "DescriptionStyleModel",
      "state": {
       "description_width": ""
      }
     },
     "5d42ae279f8e4a92bf3d82d5cdce91da": {
      "model_module": "@jupyter-widgets/base",
      "model_module_version": "1.2.0",
      "model_name": "LayoutModel",
      "state": {}
     },
     "5d44cac8171d43b7a9260abc1529283d": {
      "model_module": "@jupyter-widgets/controls",
      "model_module_version": "1.5.0",
      "model_name": "HTMLModel",
      "state": {
       "layout": "IPY_MODEL_f5f994e0901048c78571e1a677bec97e",
       "style": "IPY_MODEL_5be710e040bf41e9a9372946979ef9b7",
       "value": " 181/90000 [01:31&lt;10:54:45,  2.29it/s]"
      }
     },
     "5d52a491bb0b451b89eb5c6f81f7c6a9": {
      "model_module": "@jupyter-widgets/controls",
      "model_module_version": "1.5.0",
      "model_name": "FloatProgressModel",
      "state": {
       "bar_style": "danger",
       "description": "Train:   0%",
       "layout": "IPY_MODEL_754648802c8a4e46b1a7e57cfc3be00f",
       "max": 23,
       "style": "IPY_MODEL_71fc3c9fc9084bc48fe1f7931097250f"
      }
     },
     "5d6bb94aac134cff8a9e77079156b988": {
      "model_module": "@jupyter-widgets/controls",
      "model_module_version": "1.5.0",
      "model_name": "HTMLModel",
      "state": {
       "layout": "IPY_MODEL_3cb9ef85313447dab70d1d799ae7d120",
       "style": "IPY_MODEL_a95d6c41d7924b2ab4f475b02a58987c",
       "value": " 0/23 [30:13&lt;?, ?it/s]"
      }
     },
     "5d6eb1282ba4478f8b94ad0331672565": {
      "model_module": "@jupyter-widgets/controls",
      "model_module_version": "1.5.0",
      "model_name": "DescriptionStyleModel",
      "state": {
       "description_width": ""
      }
     },
     "5d6f05dd228147c391926a43d29bc24f": {
      "model_module": "@jupyter-widgets/controls",
      "model_module_version": "1.5.0",
      "model_name": "HTMLModel",
      "state": {
       "layout": "IPY_MODEL_11e7b051d8634676b6cc5b490af3f5fc",
       "style": "IPY_MODEL_7aa740b97c754570a20f3c25dfcd1107",
       "value": " 25/90000 [00:13&lt;8:40:44,  2.88it/s]"
      }
     },
     "5da0cf7e803140ef8a7445676c875137": {
      "model_module": "@jupyter-widgets/controls",
      "model_module_version": "1.5.0",
      "model_name": "FloatProgressModel",
      "state": {
       "bar_style": "danger",
       "description": "Train:   0%",
       "layout": "IPY_MODEL_75f1fde238d54abe851e5a7f0ea1d4ec",
       "max": 12,
       "style": "IPY_MODEL_0c7fd1b2d09942d4806e739427ce6884"
      }
     },
     "5da7b518f1b34b66b15c9bd7a0723cb4": {
      "model_module": "@jupyter-widgets/controls",
      "model_module_version": "1.5.0",
      "model_name": "HBoxModel",
      "state": {
       "children": [
        "IPY_MODEL_498d61eca8514ff4a390fdb77602ab36",
        "IPY_MODEL_db8569a7199843408e46eeac66dc04ff"
       ],
       "layout": "IPY_MODEL_533240768e6440d5a6c8cb44518da7d1"
      }
     },
     "5dc07ae7f4ea42ceb04a9955734a9d7c": {
      "model_module": "@jupyter-widgets/controls",
      "model_module_version": "1.5.0",
      "model_name": "HBoxModel",
      "state": {
       "children": [
        "IPY_MODEL_b9d541de28a94ff891cd2c99356248f5",
        "IPY_MODEL_70b63e68fb514e01af86ccc449668592"
       ],
       "layout": "IPY_MODEL_876809955c4541df9c38dc4db9dc6b16"
      }
     },
     "5dd6cef67c054747932f1daac956b8bc": {
      "model_module": "@jupyter-widgets/controls",
      "model_module_version": "1.5.0",
      "model_name": "FloatProgressModel",
      "state": {
       "bar_style": "danger",
       "description": "Train:   0%",
       "layout": "IPY_MODEL_72e166a9d73f4948b807b5b021d73f10",
       "max": 23,
       "style": "IPY_MODEL_a8bd6838e2b0445899ac5918578868c0"
      }
     },
     "5de50b7dfed0439eb7865eaf654672aa": {
      "model_module": "@jupyter-widgets/base",
      "model_module_version": "1.2.0",
      "model_name": "LayoutModel",
      "state": {}
     },
     "5def0391ac794c9a829a5a7f860dd609": {
      "model_module": "@jupyter-widgets/controls",
      "model_module_version": "1.5.0",
      "model_name": "HBoxModel",
      "state": {
       "children": [
        "IPY_MODEL_6b85a0e1561243dba101b051c03cd838",
        "IPY_MODEL_c25d9d416b68436e866b54a57174d103"
       ],
       "layout": "IPY_MODEL_c63932156c18437dbf30b9ed40c93668"
      }
     },
     "5dfc8411498a40a6a1333dc1c10d70c5": {
      "model_module": "@jupyter-widgets/controls",
      "model_module_version": "1.5.0",
      "model_name": "DescriptionStyleModel",
      "state": {
       "description_width": ""
      }
     },
     "5e0a6970b8514561b16cdb314904e8e4": {
      "model_module": "@jupyter-widgets/controls",
      "model_module_version": "1.5.0",
      "model_name": "HBoxModel",
      "state": {
       "children": [
        "IPY_MODEL_6c7f28356c1a4a1e916baf3639823cfa",
        "IPY_MODEL_04039c793a274052b3a20c556b3063b6"
       ],
       "layout": "IPY_MODEL_3a563dd1d1a74dac9e9345b86d851724"
      }
     },
     "5e6c75769c904cea8156a856340e7b4d": {
      "model_module": "@jupyter-widgets/controls",
      "model_module_version": "1.5.0",
      "model_name": "FloatProgressModel",
      "state": {
       "bar_style": "danger",
       "description": "Train:   0%",
       "layout": "IPY_MODEL_8a841dc510444732b5a35a566e3958c5",
       "max": 12,
       "style": "IPY_MODEL_0ac5a5533eed4f74a4dcbf448ae7e598"
      }
     },
     "5e6d178f20f24a1e94dcea14c04090c4": {
      "model_module": "@jupyter-widgets/base",
      "model_module_version": "1.2.0",
      "model_name": "LayoutModel",
      "state": {}
     },
     "5e7d5f0278544658993bb3ded5f6e232": {
      "model_module": "@jupyter-widgets/controls",
      "model_module_version": "1.5.0",
      "model_name": "HBoxModel",
      "state": {
       "children": [
        "IPY_MODEL_1de024bb402f4b17b091545b63fd024b",
        "IPY_MODEL_6e778934139d4736ba4752b1f39190fd"
       ],
       "layout": "IPY_MODEL_00021fe8576c4da6b1bc8f3c3dda4c78"
      }
     },
     "5e82020faa3643c38be20483fc96f33f": {
      "model_module": "@jupyter-widgets/base",
      "model_module_version": "1.2.0",
      "model_name": "LayoutModel",
      "state": {}
     },
     "5e97663a3e044e5c83b16bfaa76af476": {
      "model_module": "@jupyter-widgets/base",
      "model_module_version": "1.2.0",
      "model_name": "LayoutModel",
      "state": {}
     },
     "5e9ff4aaadfe495d828b87d35f3e76f6": {
      "model_module": "@jupyter-widgets/controls",
      "model_module_version": "1.5.0",
      "model_name": "FloatProgressModel",
      "state": {
       "bar_style": "danger",
       "description": "Valid iteration=0:   0%",
       "layout": "IPY_MODEL_bbfd3816de234442bf4b5756357b2795",
       "max": 10000,
       "style": "IPY_MODEL_96ce7424e5ba4f039d2eed95ff0ba17c"
      }
     },
     "5eb137be5cfa435eb5cc988188ebab68": {
      "model_module": "@jupyter-widgets/controls",
      "model_module_version": "1.5.0",
      "model_name": "ProgressStyleModel",
      "state": {
       "description_width": "initial"
      }
     },
     "5eb8a90b0075431db4e4497ab00673fb": {
      "model_module": "@jupyter-widgets/controls",
      "model_module_version": "1.5.0",
      "model_name": "FloatProgressModel",
      "state": {
       "bar_style": "danger",
       "description": "Train:   0%",
       "layout": "IPY_MODEL_fcea5ffe619d4941a5d4f8dde7d733d1",
       "max": 12,
       "style": "IPY_MODEL_87f90dfd9f524846879a50c2873bbfef"
      }
     },
     "5ee588b38122436e892cc7e2b7531bca": {
      "model_module": "@jupyter-widgets/controls",
      "model_module_version": "1.5.0",
      "model_name": "FloatProgressModel",
      "state": {
       "bar_style": "danger",
       "description": "Train epoch=0:   1%",
       "layout": "IPY_MODEL_91bb6ffa15914c948efce1062e03945b",
       "max": 90000,
       "style": "IPY_MODEL_6fe0bc14509946f4886e341c4b9b21a7",
       "value": 1033
      }
     },
     "5ee6dab633e04469abb96bf0a865db10": {
      "model_module": "@jupyter-widgets/base",
      "model_module_version": "1.2.0",
      "model_name": "LayoutModel",
      "state": {}
     },
     "5ee850e163eb4e56943f31f96da22f41": {
      "model_module": "@jupyter-widgets/controls",
      "model_module_version": "1.5.0",
      "model_name": "HTMLModel",
      "state": {
       "layout": "IPY_MODEL_526f67493b754652a2730425eef62b18",
       "style": "IPY_MODEL_5dfc8411498a40a6a1333dc1c10d70c5",
       "value": " 0/90000 [01:04&lt;?, ?it/s]"
      }
     },
     "5eeaa3c94c5a4bebaf15be33d74326d6": {
      "model_module": "@jupyter-widgets/controls",
      "model_module_version": "1.5.0",
      "model_name": "FloatProgressModel",
      "state": {
       "bar_style": "danger",
       "description": "Train epoch=0:   4%",
       "layout": "IPY_MODEL_b500551ba51044de81a4a97a05fb0abc",
       "max": 45000,
       "style": "IPY_MODEL_24ca400c51d245c68350cf783d68f6f3",
       "value": 1633
      }
     },
     "5f03c8c1c82a4a29b872a5c80f089a83": {
      "model_module": "@jupyter-widgets/base",
      "model_module_version": "1.2.0",
      "model_name": "LayoutModel",
      "state": {}
     },
     "5f1bec3e8cab43c9b67d0cc010b6e7b0": {
      "model_module": "@jupyter-widgets/controls",
      "model_module_version": "1.5.0",
      "model_name": "FloatProgressModel",
      "state": {
       "bar_style": "danger",
       "description": "Valid iteration=0:   0%",
       "layout": "IPY_MODEL_5b7e6167bfa04ace9c1ff8fa0df8fe75",
       "max": 5000,
       "style": "IPY_MODEL_cbf3d3ceff0f405ba342db27a652851c"
      }
     },
     "5f39e612fb1e48f2993c6bfb5565b04c": {
      "model_module": "@jupyter-widgets/controls",
      "model_module_version": "1.5.0",
      "model_name": "FloatProgressModel",
      "state": {
       "bar_style": "danger",
       "description": "Valid iteration=0:   0%",
       "layout": "IPY_MODEL_e65c52d75ec94dc5b57b22f1460dc159",
       "max": 10000,
       "style": "IPY_MODEL_68ac4e4e366444f187d533f286004ce0"
      }
     },
     "5f75866a4b134a32802d6c06258784ed": {
      "model_module": "@jupyter-widgets/base",
      "model_module_version": "1.2.0",
      "model_name": "LayoutModel",
      "state": {}
     },
     "5fa265082976490fac14d10c092a73ad": {
      "model_module": "@jupyter-widgets/controls",
      "model_module_version": "1.5.0",
      "model_name": "HBoxModel",
      "state": {
       "children": [
        "IPY_MODEL_a740e0d6a26d45d2be96f14d53d48469",
        "IPY_MODEL_c7a0caf000334265a4641c8fdd8f7ae4"
       ],
       "layout": "IPY_MODEL_8bfaff30f70648e5967fb8d529ace400"
      }
     },
     "5fbd647cbdd643439bbf7bc6cd081697": {
      "model_module": "@jupyter-widgets/controls",
      "model_module_version": "1.5.0",
      "model_name": "HTMLModel",
      "state": {
       "layout": "IPY_MODEL_508cbc6248814ea5b05522d5a2fcd1de",
       "style": "IPY_MODEL_789380c063264c71a98bc3f4741177ae",
       "value": " 0/45000 [00:15&lt;?, ?it/s]"
      }
     },
     "5fc0ae414a764684b8c2624a6eadb825": {
      "model_module": "@jupyter-widgets/base",
      "model_module_version": "1.2.0",
      "model_name": "LayoutModel",
      "state": {}
     },
     "5fc55a8478dd4544ba76361402696f36": {
      "model_module": "@jupyter-widgets/base",
      "model_module_version": "1.2.0",
      "model_name": "LayoutModel",
      "state": {}
     },
     "5fdc6fa0ecae4ff4ad1b19b14704c315": {
      "model_module": "@jupyter-widgets/controls",
      "model_module_version": "1.5.0",
      "model_name": "FloatProgressModel",
      "state": {
       "bar_style": "danger",
       "description": "Train epoch=0:   0%",
       "layout": "IPY_MODEL_1e25b5a6094b4d9a8cd3d555291b96fc",
       "max": 90000,
       "style": "IPY_MODEL_ebbf05375cd3410fbd636dcbfa5b3a73"
      }
     },
     "5ff6f9dd60be4f1d951344c2e756e6fc": {
      "model_module": "@jupyter-widgets/controls",
      "model_module_version": "1.5.0",
      "model_name": "FloatProgressModel",
      "state": {
       "bar_style": "danger",
       "description": "Train epoch=0:   0%",
       "layout": "IPY_MODEL_511ed78f63214b0e99825a2a1c166a60",
       "max": 45000,
       "style": "IPY_MODEL_f92d6f22ffb0492bb82dc23cd96c0e7a"
      }
     },
     "5ffe6de944db435e82c557f26d0a0414": {
      "model_module": "@jupyter-widgets/controls",
      "model_module_version": "1.5.0",
      "model_name": "HBoxModel",
      "state": {
       "children": [
        "IPY_MODEL_d305ba024c84433cb96d3a4470b60ff4",
        "IPY_MODEL_bd32ed8a97b7405b860f9ee37137427a"
       ],
       "layout": "IPY_MODEL_1eaa9cb3b6ba4445a13baf86bafbc862"
      }
     },
     "6012439769a14cdd982eeb78075e9bbc": {
      "model_module": "@jupyter-widgets/controls",
      "model_module_version": "1.5.0",
      "model_name": "HTMLModel",
      "state": {
       "layout": "IPY_MODEL_eb84a5826e32482780dcd7b003914013",
       "style": "IPY_MODEL_571a8bb5b28c4435893a3afc1953dfe2",
       "value": " 0/90000 [01:05&lt;?, ?it/s]"
      }
     },
     "6051b760168640b0ac3044324b139297": {
      "model_module": "@jupyter-widgets/base",
      "model_module_version": "1.2.0",
      "model_name": "LayoutModel",
      "state": {}
     },
     "605606745cae4df1b1d5cf7f06edb08e": {
      "model_module": "@jupyter-widgets/controls",
      "model_module_version": "1.5.0",
      "model_name": "FloatProgressModel",
      "state": {
       "bar_style": "danger",
       "description": "Train:   0%",
       "layout": "IPY_MODEL_473afc458ee843bbb2f7cc6906a0c488",
       "max": 12,
       "style": "IPY_MODEL_21b0d49a62634d7c8bde54eda5440123"
      }
     },
     "606187d8be2842938ac7945e5e1db92f": {
      "model_module": "@jupyter-widgets/controls",
      "model_module_version": "1.5.0",
      "model_name": "DescriptionStyleModel",
      "state": {
       "description_width": ""
      }
     },
     "6063074118694050a9a947b237974e8f": {
      "model_module": "@jupyter-widgets/base",
      "model_module_version": "1.2.0",
      "model_name": "LayoutModel",
      "state": {}
     },
     "60698684e3904bf3a5c03f47985ee8b3": {
      "model_module": "@jupyter-widgets/controls",
      "model_module_version": "1.5.0",
      "model_name": "DescriptionStyleModel",
      "state": {
       "description_width": ""
      }
     },
     "60785dd0ebb24199b74cb2b9beb3cb00": {
      "model_module": "@jupyter-widgets/base",
      "model_module_version": "1.2.0",
      "model_name": "LayoutModel",
      "state": {}
     },
     "60799d79ce0a4a77bbcb7482cdaa67bc": {
      "model_module": "@jupyter-widgets/controls",
      "model_module_version": "1.5.0",
      "model_name": "HBoxModel",
      "state": {
       "children": [
        "IPY_MODEL_726dccaea96f440bb3ca9ff13203213c",
        "IPY_MODEL_49b0632adbaa49c69d41093d88f8a420"
       ],
       "layout": "IPY_MODEL_586f1945c0cc48f4b6307b5695d33437"
      }
     },
     "607b41e184c34a978f1f97c7e3b7befc": {
      "model_module": "@jupyter-widgets/controls",
      "model_module_version": "1.5.0",
      "model_name": "DescriptionStyleModel",
      "state": {
       "description_width": ""
      }
     },
     "60a07a829854487482c0013b43325252": {
      "model_module": "@jupyter-widgets/controls",
      "model_module_version": "1.5.0",
      "model_name": "DescriptionStyleModel",
      "state": {
       "description_width": ""
      }
     },
     "60a5dc961d6e43df97e4667d6a8f0075": {
      "model_module": "@jupyter-widgets/controls",
      "model_module_version": "1.5.0",
      "model_name": "DescriptionStyleModel",
      "state": {
       "description_width": ""
      }
     },
     "60b6bd7f7f0846c8898b4fc79b43d1a1": {
      "model_module": "@jupyter-widgets/base",
      "model_module_version": "1.2.0",
      "model_name": "LayoutModel",
      "state": {}
     },
     "60f94cd2d1374317ad0d6edda5b3de08": {
      "model_module": "@jupyter-widgets/controls",
      "model_module_version": "1.5.0",
      "model_name": "DescriptionStyleModel",
      "state": {
       "description_width": ""
      }
     },
     "60fc57d4879e479e86b4d05e43336381": {
      "model_module": "@jupyter-widgets/controls",
      "model_module_version": "1.5.0",
      "model_name": "ProgressStyleModel",
      "state": {
       "description_width": "initial"
      }
     },
     "610d4c9545c04a40b73e78c85472ea62": {
      "model_module": "@jupyter-widgets/base",
      "model_module_version": "1.2.0",
      "model_name": "LayoutModel",
      "state": {}
     },
     "610ed2b98246465990c70cdca69a2456": {
      "model_module": "@jupyter-widgets/controls",
      "model_module_version": "1.5.0",
      "model_name": "FloatProgressModel",
      "state": {
       "bar_style": "danger",
       "description": "Valid iteration=0:   0%",
       "layout": "IPY_MODEL_0b2c2e94cb58423089bc7d894862cfa0",
       "max": 5000,
       "style": "IPY_MODEL_519521bcf2084f18899d36aba6803e03"
      }
     },
     "61161137ec934d1a93a2ebaac330b6be": {
      "model_module": "@jupyter-widgets/base",
      "model_module_version": "1.2.0",
      "model_name": "LayoutModel",
      "state": {}
     },
     "612285ee62d844f687e42c6564508f9c": {
      "model_module": "@jupyter-widgets/base",
      "model_module_version": "1.2.0",
      "model_name": "LayoutModel",
      "state": {}
     },
     "613196f0b98b4b8cb8bae7886bf1bcab": {
      "model_module": "@jupyter-widgets/controls",
      "model_module_version": "1.5.0",
      "model_name": "HBoxModel",
      "state": {
       "children": [
        "IPY_MODEL_b885c7bedafd4c27b9bc05b88518a231",
        "IPY_MODEL_6d8ec14403eb4702a5b644520894bf1c"
       ],
       "layout": "IPY_MODEL_dd4974e73d654c549de1d459036dcad1"
      }
     },
     "61495dd0ebc94d9783fc48fc2ea915c0": {
      "model_module": "@jupyter-widgets/base",
      "model_module_version": "1.2.0",
      "model_name": "LayoutModel",
      "state": {}
     },
     "614bc0fa27464e60b361a1a67ca50f5b": {
      "model_module": "@jupyter-widgets/controls",
      "model_module_version": "1.5.0",
      "model_name": "ProgressStyleModel",
      "state": {
       "description_width": "initial"
      }
     },
     "616537f0049d4e2bbd68f886d14bd3db": {
      "model_module": "@jupyter-widgets/controls",
      "model_module_version": "1.5.0",
      "model_name": "ProgressStyleModel",
      "state": {
       "description_width": "initial"
      }
     },
     "616c02d317db4a08bb38115e75b6439b": {
      "model_module": "@jupyter-widgets/base",
      "model_module_version": "1.2.0",
      "model_name": "LayoutModel",
      "state": {}
     },
     "6177505960a340619c7cf6f45d47f10c": {
      "model_module": "@jupyter-widgets/controls",
      "model_module_version": "1.5.0",
      "model_name": "DescriptionStyleModel",
      "state": {
       "description_width": ""
      }
     },
     "617e248161a44925a5f6dc8daee2a317": {
      "model_module": "@jupyter-widgets/base",
      "model_module_version": "1.2.0",
      "model_name": "LayoutModel",
      "state": {}
     },
     "61863bbaee134f8f832d55fc2c332333": {
      "model_module": "@jupyter-widgets/controls",
      "model_module_version": "1.5.0",
      "model_name": "ProgressStyleModel",
      "state": {
       "description_width": "initial"
      }
     },
     "61a43c06597f4681a3abada08a4370f3": {
      "model_module": "@jupyter-widgets/controls",
      "model_module_version": "1.5.0",
      "model_name": "FloatProgressModel",
      "state": {
       "bar_style": "danger",
       "description": "Valid iteration=2000:   0%",
       "layout": "IPY_MODEL_21b129cd7096422c98bbfdbc06f63483",
       "max": 10000,
       "style": "IPY_MODEL_98630f828db64b658039d71f88fc94c1"
      }
     },
     "61b82517e14a42b6a43ebdb3ff5ce17b": {
      "model_module": "@jupyter-widgets/controls",
      "model_module_version": "1.5.0",
      "model_name": "HBoxModel",
      "state": {
       "children": [
        "IPY_MODEL_72016f1a124a421e9797bde45bfde5d2",
        "IPY_MODEL_0bed80af2cc54bd98292cda70473a3ee"
       ],
       "layout": "IPY_MODEL_4271cc41eaaa4f00addbeadc8d0885e0"
      }
     },
     "61be429c60304fc0a1d0c56feac79052": {
      "model_module": "@jupyter-widgets/controls",
      "model_module_version": "1.5.0",
      "model_name": "DescriptionStyleModel",
      "state": {
       "description_width": ""
      }
     },
     "61cbc2298d0e4746acb8f2625d5a8cc8": {
      "model_module": "@jupyter-widgets/controls",
      "model_module_version": "1.5.0",
      "model_name": "DescriptionStyleModel",
      "state": {
       "description_width": ""
      }
     },
     "61f3d783caba44ce9b6b4c37092e11f1": {
      "model_module": "@jupyter-widgets/base",
      "model_module_version": "1.2.0",
      "model_name": "LayoutModel",
      "state": {}
     },
     "61feafb820cc490089a0ba2bee1c5116": {
      "model_module": "@jupyter-widgets/base",
      "model_module_version": "1.2.0",
      "model_name": "LayoutModel",
      "state": {}
     },
     "620a13826dd04badb977fe986ba21a8c": {
      "model_module": "@jupyter-widgets/controls",
      "model_module_version": "1.5.0",
      "model_name": "FloatProgressModel",
      "state": {
       "bar_style": "danger",
       "description": "Train:   0%",
       "layout": "IPY_MODEL_a3b99ca0f2df45ac8173c77509584e2b",
       "max": 12,
       "style": "IPY_MODEL_692a0ededb9d47c0abea382eae531362"
      }
     },
     "622589d1f57847939bb9401bb7501708": {
      "model_module": "@jupyter-widgets/controls",
      "model_module_version": "1.5.0",
      "model_name": "HTMLModel",
      "state": {
       "layout": "IPY_MODEL_09bdd3ddaa4b4674b82369c9e7a9b343",
       "style": "IPY_MODEL_bb693b3d3d1d4bdda93418f334872076",
       "value": " 0/10000 [00:01&lt;?, ?it/s]"
      }
     },
     "623fa87de1d6420f924f793905ace12c": {
      "model_module": "@jupyter-widgets/controls",
      "model_module_version": "1.5.0",
      "model_name": "HTMLModel",
      "state": {
       "layout": "IPY_MODEL_7d7a20cfa7bc4c90817e68c7802c3cf4",
       "style": "IPY_MODEL_405418bdceaa4ab09aae6d60659b8579",
       "value": " 0/12 [01:30&lt;?, ?it/s]"
      }
     },
     "624ec355e5dd45a4b4d6fb7ba8321194": {
      "model_module": "@jupyter-widgets/base",
      "model_module_version": "1.2.0",
      "model_name": "LayoutModel",
      "state": {}
     },
     "625158613e134d21ae09e27c68a31638": {
      "model_module": "@jupyter-widgets/base",
      "model_module_version": "1.2.0",
      "model_name": "LayoutModel",
      "state": {}
     },
     "625a06c2b1e845feac4de156ba5253f8": {
      "model_module": "@jupyter-widgets/controls",
      "model_module_version": "1.5.0",
      "model_name": "ProgressStyleModel",
      "state": {
       "description_width": "initial"
      }
     },
     "62637c44b6374de1ae5f91e999bbd859": {
      "model_module": "@jupyter-widgets/controls",
      "model_module_version": "1.5.0",
      "model_name": "ProgressStyleModel",
      "state": {
       "description_width": "initial"
      }
     },
     "628e3a626d1c4d9b81cb333b536c0b08": {
      "model_module": "@jupyter-widgets/controls",
      "model_module_version": "1.5.0",
      "model_name": "DescriptionStyleModel",
      "state": {
       "description_width": ""
      }
     },
     "62c3789030944ee0be18ad929da5e9b1": {
      "model_module": "@jupyter-widgets/controls",
      "model_module_version": "1.5.0",
      "model_name": "ProgressStyleModel",
      "state": {
       "description_width": "initial"
      }
     },
     "62cf92089ae64dc99dc98dade98180f2": {
      "model_module": "@jupyter-widgets/controls",
      "model_module_version": "1.5.0",
      "model_name": "HBoxModel",
      "state": {
       "children": [
        "IPY_MODEL_8f8ab789fdab4471a733374e38921b13",
        "IPY_MODEL_3d8da7fb48d84b8e84f6ce8896b5ea6f"
       ],
       "layout": "IPY_MODEL_f3cf3920b748445eb9711686043969d7"
      }
     },
     "62d3c18a2a0543df88c202dc83ff8b9e": {
      "model_module": "@jupyter-widgets/controls",
      "model_module_version": "1.5.0",
      "model_name": "DescriptionStyleModel",
      "state": {
       "description_width": ""
      }
     },
     "62ec7ea5f29f477ca6c4b28b72baa16e": {
      "model_module": "@jupyter-widgets/base",
      "model_module_version": "1.2.0",
      "model_name": "LayoutModel",
      "state": {}
     },
     "63000020d2fe4394a2ee3ed729403160": {
      "model_module": "@jupyter-widgets/controls",
      "model_module_version": "1.5.0",
      "model_name": "FloatProgressModel",
      "state": {
       "bar_style": "danger",
       "description": "Train:   0%",
       "layout": "IPY_MODEL_2ca32eb42bd849a794428997d8442727",
       "max": 12,
       "style": "IPY_MODEL_8ce74c0f4a76494885573076372ae946"
      }
     },
     "6304dce655984979bb63e4bddc5ca043": {
      "model_module": "@jupyter-widgets/base",
      "model_module_version": "1.2.0",
      "model_name": "LayoutModel",
      "state": {}
     },
     "6307dc24b019410f96c4029815fdecc9": {
      "model_module": "@jupyter-widgets/controls",
      "model_module_version": "1.5.0",
      "model_name": "HTMLModel",
      "state": {
       "layout": "IPY_MODEL_87da448c22d34c1dbb182ec4c7c56f18",
       "style": "IPY_MODEL_9e6d19c496034842a6ea78fd906ff6f1",
       "value": " 0/12 [00:38&lt;?, ?it/s]"
      }
     },
     "6314c8d955444e37a78561aae20901ed": {
      "model_module": "@jupyter-widgets/base",
      "model_module_version": "1.2.0",
      "model_name": "LayoutModel",
      "state": {}
     },
     "63273ff5dab04fafad46ab99f99cd2c6": {
      "model_module": "@jupyter-widgets/base",
      "model_module_version": "1.2.0",
      "model_name": "LayoutModel",
      "state": {}
     },
     "635e06550594414db2912928c81464c0": {
      "model_module": "@jupyter-widgets/controls",
      "model_module_version": "1.5.0",
      "model_name": "ProgressStyleModel",
      "state": {
       "description_width": "initial"
      }
     },
     "6378a9ddbd7b40a19240619f9975050c": {
      "model_module": "@jupyter-widgets/base",
      "model_module_version": "1.2.0",
      "model_name": "LayoutModel",
      "state": {}
     },
     "637be26712ed4f69bc6356130f3a04b5": {
      "model_module": "@jupyter-widgets/controls",
      "model_module_version": "1.5.0",
      "model_name": "DescriptionStyleModel",
      "state": {
       "description_width": ""
      }
     },
     "637d343b7a944c8a9d457c7073742846": {
      "model_module": "@jupyter-widgets/controls",
      "model_module_version": "1.5.0",
      "model_name": "HBoxModel",
      "state": {
       "children": [
        "IPY_MODEL_8770a37d881a4f3e826652c64c731932",
        "IPY_MODEL_a574c9a61e9945709eae486899fa0f73"
       ],
       "layout": "IPY_MODEL_fa642e65fb664dbea969174733e07cf3"
      }
     },
     "63808864215745118f5e1e6b6d165c8d": {
      "model_module": "@jupyter-widgets/controls",
      "model_module_version": "1.5.0",
      "model_name": "DescriptionStyleModel",
      "state": {
       "description_width": ""
      }
     },
     "6384b5b415e049219f5ce74415acb7e6": {
      "model_module": "@jupyter-widgets/controls",
      "model_module_version": "1.5.0",
      "model_name": "HBoxModel",
      "state": {
       "children": [
        "IPY_MODEL_7b923569035b4ab5b0db98455398c7bb",
        "IPY_MODEL_0050effdd94347bba5ed79774bf0a1aa"
       ],
       "layout": "IPY_MODEL_12ca327f820b4534a789cee394426825"
      }
     },
     "6387ffb505a14c5d9af4ee56f0e7efd6": {
      "model_module": "@jupyter-widgets/base",
      "model_module_version": "1.2.0",
      "model_name": "LayoutModel",
      "state": {}
     },
     "639500b4f12d40d39609a315f21bb2e0": {
      "model_module": "@jupyter-widgets/base",
      "model_module_version": "1.2.0",
      "model_name": "LayoutModel",
      "state": {}
     },
     "63c7863cb3094ecd95445cdc45a664b7": {
      "model_module": "@jupyter-widgets/base",
      "model_module_version": "1.2.0",
      "model_name": "LayoutModel",
      "state": {}
     },
     "640f16d4ac8c4c80a52f3b8cdff70d50": {
      "model_module": "@jupyter-widgets/controls",
      "model_module_version": "1.5.0",
      "model_name": "FloatProgressModel",
      "state": {
       "bar_style": "danger",
       "description": "Train:   0%",
       "layout": "IPY_MODEL_a521ec8d9006415298efd0c151392dff",
       "max": 12,
       "style": "IPY_MODEL_41727bd9df724d2b9a73d1d3cfb15400"
      }
     },
     "641c40a568774b02bcde2b8da3d0695d": {
      "model_module": "@jupyter-widgets/controls",
      "model_module_version": "1.5.0",
      "model_name": "HBoxModel",
      "state": {
       "children": [
        "IPY_MODEL_587c941a3a814a9e8c8ce115386fe807",
        "IPY_MODEL_e71e29f568a1400e83b4b0f5178094b5"
       ],
       "layout": "IPY_MODEL_692d3b970ec547c594514671a57d842f"
      }
     },
     "6433d4b5e8ef410f806377b0706b71ef": {
      "model_module": "@jupyter-widgets/base",
      "model_module_version": "1.2.0",
      "model_name": "LayoutModel",
      "state": {}
     },
     "643fb5a8747a462bad15e1287c9069db": {
      "model_module": "@jupyter-widgets/base",
      "model_module_version": "1.2.0",
      "model_name": "LayoutModel",
      "state": {}
     },
     "64402f47329145cfb50a70673e9fa2b7": {
      "model_module": "@jupyter-widgets/controls",
      "model_module_version": "1.5.0",
      "model_name": "FloatProgressModel",
      "state": {
       "bar_style": "danger",
       "description": "Train epoch=0:   0%",
       "layout": "IPY_MODEL_7d712a57f0064f39af560d2ba81305e5",
       "max": 45000,
       "style": "IPY_MODEL_d8d48a60ac3f4a1aa5818873c557a1a9"
      }
     },
     "64431b2220fd4c8796e79e9104ba9044": {
      "model_module": "@jupyter-widgets/base",
      "model_module_version": "1.2.0",
      "model_name": "LayoutModel",
      "state": {}
     },
     "644fe532724c4a27bac3b70ffdad4be6": {
      "model_module": "@jupyter-widgets/base",
      "model_module_version": "1.2.0",
      "model_name": "LayoutModel",
      "state": {}
     },
     "646664e6b6724fd19c47c4621cfe7a9f": {
      "model_module": "@jupyter-widgets/controls",
      "model_module_version": "1.5.0",
      "model_name": "HBoxModel",
      "state": {
       "children": [
        "IPY_MODEL_68c76ea8944c4f87a6241babf9529459",
        "IPY_MODEL_cefb4c99bcb5404e8651f0b403c1aad9"
       ],
       "layout": "IPY_MODEL_edb88f78fac24ebda5a6cdaf564680c2"
      }
     },
     "64852ae1cc7f497cb8e4ec5f17741ec2": {
      "model_module": "@jupyter-widgets/controls",
      "model_module_version": "1.5.0",
      "model_name": "HBoxModel",
      "state": {
       "children": [
        "IPY_MODEL_77c480a857914721bd3b7714171cd93e",
        "IPY_MODEL_f28d77f120a647d5a0d7c13702a28de6"
       ],
       "layout": "IPY_MODEL_0e2da454178e48dfa62f7e2f43921411"
      }
     },
     "6491fc99b101424597bc2b03348dd77f": {
      "model_module": "@jupyter-widgets/controls",
      "model_module_version": "1.5.0",
      "model_name": "DescriptionStyleModel",
      "state": {
       "description_width": ""
      }
     },
     "64baddc379a84d43b9399fa9637a1e6e": {
      "model_module": "@jupyter-widgets/controls",
      "model_module_version": "1.5.0",
      "model_name": "HTMLModel",
      "state": {
       "layout": "IPY_MODEL_3308823fc78246ab8dba290843c14ae8",
       "style": "IPY_MODEL_0f2bf83ae767415f83962e253f3ddc48",
       "value": " 0/5000 [05:24&lt;?, ?it/s]"
      }
     },
     "6509824de3444637bf5083619c409304": {
      "model_module": "@jupyter-widgets/controls",
      "model_module_version": "1.5.0",
      "model_name": "FloatProgressModel",
      "state": {
       "bar_style": "danger",
       "description": "Valid iteration=1000:   0%",
       "layout": "IPY_MODEL_9c2de46caf614860ab6f33b86d6a6083",
       "max": 5000,
       "style": "IPY_MODEL_b4623242791742928f51fe0bdf2aee60"
      }
     },
     "650e2d853b5b449eac9c8f8a2f7710d4": {
      "model_module": "@jupyter-widgets/controls",
      "model_module_version": "1.5.0",
      "model_name": "ProgressStyleModel",
      "state": {
       "description_width": "initial"
      }
     },
     "65140c22c8e14480ab8a9f49e2dbdb32": {
      "model_module": "@jupyter-widgets/controls",
      "model_module_version": "1.5.0",
      "model_name": "HBoxModel",
      "state": {
       "children": [
        "IPY_MODEL_77d553d28b604649b7df1a808f82551e",
        "IPY_MODEL_5d6f05dd228147c391926a43d29bc24f"
       ],
       "layout": "IPY_MODEL_2ae25a6ca6614864951cfe6abb9ce238"
      }
     },
     "651489ffdbd643e2bf8994dff0f22fa6": {
      "model_module": "@jupyter-widgets/controls",
      "model_module_version": "1.5.0",
      "model_name": "HTMLModel",
      "state": {
       "layout": "IPY_MODEL_baecc3ff3a844fd08ef728d9ad12cabc",
       "style": "IPY_MODEL_35215af5a1624adbb20d8dd98cb298b0",
       "value": " 0/45000 [01:10&lt;?, ?it/s]"
      }
     },
     "65220973edfc45e5a9d172c6353ddb37": {
      "model_module": "@jupyter-widgets/controls",
      "model_module_version": "1.5.0",
      "model_name": "HBoxModel",
      "state": {
       "children": [
        "IPY_MODEL_309a9954b04249e286d0e28b6fe75ffd",
        "IPY_MODEL_7bfbfafa967944f1b36c3f3e4d330d05"
       ],
       "layout": "IPY_MODEL_cf7a8f2d41b04b95bd42c136519ffaad"
      }
     },
     "6525ce9e0c654912a89e235b1c1ae1a4": {
      "model_module": "@jupyter-widgets/controls",
      "model_module_version": "1.5.0",
      "model_name": "DescriptionStyleModel",
      "state": {
       "description_width": ""
      }
     },
     "654b2d927e5b4246af321f3b65ce6dd6": {
      "model_module": "@jupyter-widgets/controls",
      "model_module_version": "1.5.0",
      "model_name": "FloatProgressModel",
      "state": {
       "bar_style": "danger",
       "description": "Train:   0%",
       "layout": "IPY_MODEL_a86adbea73ba42c3ae5bbcdab7e6911a",
       "max": 23,
       "style": "IPY_MODEL_a3de5bc708c243ddb5a1a614aee38311"
      }
     },
     "6572a19fb3784b98b19fff3f30079d99": {
      "model_module": "@jupyter-widgets/base",
      "model_module_version": "1.2.0",
      "model_name": "LayoutModel",
      "state": {}
     },
     "658f5b6e5e934e6f8b3bd5afa9116805": {
      "model_module": "@jupyter-widgets/controls",
      "model_module_version": "1.5.0",
      "model_name": "HBoxModel",
      "state": {
       "children": [
        "IPY_MODEL_696c2da88e6c416b970a2ee40dee27a6",
        "IPY_MODEL_731d40eb9c634483a1fb8a4b4f8bf455"
       ],
       "layout": "IPY_MODEL_7445ad56445842029ddb5e59f3418d17"
      }
     },
     "65a418aa0c6243da91ed6868817b7203": {
      "model_module": "@jupyter-widgets/base",
      "model_module_version": "1.2.0",
      "model_name": "LayoutModel",
      "state": {}
     },
     "65bce33746334e00ac4f02058dd46ab4": {
      "model_module": "@jupyter-widgets/base",
      "model_module_version": "1.2.0",
      "model_name": "LayoutModel",
      "state": {}
     },
     "65d5d986172a4d3ba54e60426c442818": {
      "model_module": "@jupyter-widgets/base",
      "model_module_version": "1.2.0",
      "model_name": "LayoutModel",
      "state": {}
     },
     "65f2589a89fb43da96e97a7be71f1008": {
      "model_module": "@jupyter-widgets/controls",
      "model_module_version": "1.5.0",
      "model_name": "HBoxModel",
      "state": {
       "children": [
        "IPY_MODEL_cb19bfc833e8434a9ac607316a15e712",
        "IPY_MODEL_84b78f74458f46979bf374cc0bc40373"
       ],
       "layout": "IPY_MODEL_5f75866a4b134a32802d6c06258784ed"
      }
     },
     "6616e3d99898419997fa8a9576d78604": {
      "model_module": "@jupyter-widgets/base",
      "model_module_version": "1.2.0",
      "model_name": "LayoutModel",
      "state": {}
     },
     "663e5c85450648a1bbf3702a9f140c5b": {
      "model_module": "@jupyter-widgets/controls",
      "model_module_version": "1.5.0",
      "model_name": "HBoxModel",
      "state": {
       "children": [
        "IPY_MODEL_14f12c6dabaa4626a65b1a8a36fc9c29",
        "IPY_MODEL_87f63ecb2ddc45c49098a11080759949"
       ],
       "layout": "IPY_MODEL_7bd5182dee964b2a8387ef47e7ce6a39"
      }
     },
     "6659eb113e7e47a2aa04fb1b72afd07c": {
      "model_module": "@jupyter-widgets/controls",
      "model_module_version": "1.5.0",
      "model_name": "DescriptionStyleModel",
      "state": {
       "description_width": ""
      }
     },
     "66627fb6e2084b6bbc33d6196b06fdd2": {
      "model_module": "@jupyter-widgets/base",
      "model_module_version": "1.2.0",
      "model_name": "LayoutModel",
      "state": {}
     },
     "6698baf20e5841a49402cee1bf602c00": {
      "model_module": "@jupyter-widgets/controls",
      "model_module_version": "1.5.0",
      "model_name": "DescriptionStyleModel",
      "state": {
       "description_width": ""
      }
     },
     "66b330cc76694e05a98d134317638a15": {
      "model_module": "@jupyter-widgets/controls",
      "model_module_version": "1.5.0",
      "model_name": "HBoxModel",
      "state": {
       "children": [
        "IPY_MODEL_8cf3b5f6562642b6af8566d49bbf09ee",
        "IPY_MODEL_6012439769a14cdd982eeb78075e9bbc"
       ],
       "layout": "IPY_MODEL_b12e35aad28a447a986d5aa834c49fa7"
      }
     },
     "66b5e69e947b483c8a932a0b38af07f7": {
      "model_module": "@jupyter-widgets/base",
      "model_module_version": "1.2.0",
      "model_name": "LayoutModel",
      "state": {}
     },
     "66ce7f2157dd43c0b1bdbe8e2c2a45be": {
      "model_module": "@jupyter-widgets/controls",
      "model_module_version": "1.5.0",
      "model_name": "ProgressStyleModel",
      "state": {
       "description_width": "initial"
      }
     },
     "66da9deeff0c491eafe6e88c52197f9c": {
      "model_module": "@jupyter-widgets/controls",
      "model_module_version": "1.5.0",
      "model_name": "FloatProgressModel",
      "state": {
       "bar_style": "danger",
       "description": "Train:   0%",
       "layout": "IPY_MODEL_d9f402ad64374427978d96c392077db5",
       "max": 12,
       "style": "IPY_MODEL_dccffd4ac56f44fab5d7396bd1afcf05"
      }
     },
     "66e80e9dc6d54bed94a2d7359cb42a68": {
      "model_module": "@jupyter-widgets/controls",
      "model_module_version": "1.5.0",
      "model_name": "HBoxModel",
      "state": {
       "children": [
        "IPY_MODEL_05ca4f7effec4aa78edde7d91be5cf07",
        "IPY_MODEL_e22e263210594e32a03864972e1be6aa"
       ],
       "layout": "IPY_MODEL_e20a901697424e4b90392fd339a0f75d"
      }
     },
     "66ee8e6150ab45fea0129d2b50a4c167": {
      "model_module": "@jupyter-widgets/base",
      "model_module_version": "1.2.0",
      "model_name": "LayoutModel",
      "state": {}
     },
     "66f4fd5523834e5d89e5da7cb18d787f": {
      "model_module": "@jupyter-widgets/controls",
      "model_module_version": "1.5.0",
      "model_name": "HBoxModel",
      "state": {
       "children": [
        "IPY_MODEL_849a1da4708f4baca25186bd46ff5ee1",
        "IPY_MODEL_3b6bcae288cc4be8a53833c99366b312"
       ],
       "layout": "IPY_MODEL_69f03b970d8247a7bc9a83961885729e"
      }
     },
     "67205d2a20764e4a9053253bffbaab42": {
      "model_module": "@jupyter-widgets/controls",
      "model_module_version": "1.5.0",
      "model_name": "FloatProgressModel",
      "state": {
       "bar_style": "danger",
       "description": "Valid iteration=0:   0%",
       "layout": "IPY_MODEL_1a0f504bc37c4f86849e0ba0b9101c8b",
       "max": 10000,
       "style": "IPY_MODEL_d993811555b8435ba23b1fcd409405c2"
      }
     },
     "6721f6424e3341d299e6c4d8d7ee20ae": {
      "model_module": "@jupyter-widgets/controls",
      "model_module_version": "1.5.0",
      "model_name": "HBoxModel",
      "state": {
       "children": [
        "IPY_MODEL_1550c9ebf944463d8a94cc77c616f51b",
        "IPY_MODEL_7d01cb653dd140e49056914a1e15033b"
       ],
       "layout": "IPY_MODEL_6572a19fb3784b98b19fff3f30079d99"
      }
     },
     "672c67f1645d46ea9fb977cb5c867188": {
      "model_module": "@jupyter-widgets/controls",
      "model_module_version": "1.5.0",
      "model_name": "DescriptionStyleModel",
      "state": {
       "description_width": ""
      }
     },
     "673e1cdc8b0f4b61b869d1ad3f69e014": {
      "model_module": "@jupyter-widgets/controls",
      "model_module_version": "1.5.0",
      "model_name": "ProgressStyleModel",
      "state": {
       "description_width": "initial"
      }
     },
     "6741a320f4544699acff9baf51a6fe26": {
      "model_module": "@jupyter-widgets/controls",
      "model_module_version": "1.5.0",
      "model_name": "DescriptionStyleModel",
      "state": {
       "description_width": ""
      }
     },
     "6756e047dd564161aef536610f08e4ee": {
      "model_module": "@jupyter-widgets/base",
      "model_module_version": "1.2.0",
      "model_name": "LayoutModel",
      "state": {}
     },
     "677ac3f6e59e4c97bed64aba1317f98f": {
      "model_module": "@jupyter-widgets/base",
      "model_module_version": "1.2.0",
      "model_name": "LayoutModel",
      "state": {}
     },
     "679d5c7f3c294bd29319b60aa9d0045b": {
      "model_module": "@jupyter-widgets/controls",
      "model_module_version": "1.5.0",
      "model_name": "HTMLModel",
      "state": {
       "layout": "IPY_MODEL_176f4e0b8aff455aa70ab88e2897fb0d",
       "style": "IPY_MODEL_c9ad3eb0fe4843d5bd38fb56b4db4115",
       "value": " 0/12 [02:41&lt;?, ?it/s]"
      }
     },
     "67ee20cc0435409eabac054388ae0fde": {
      "model_module": "@jupyter-widgets/controls",
      "model_module_version": "1.5.0",
      "model_name": "FloatProgressModel",
      "state": {
       "bar_style": "danger",
       "description": "Valid iteration=1000:   0%",
       "layout": "IPY_MODEL_7fab48ecd6714579911c52c498663e02",
       "max": 5000,
       "style": "IPY_MODEL_418cab4d0c2d4d859fe84319a6486a21"
      }
     },
     "67ff7b808b0f4c2d997adeee2712dfff": {
      "model_module": "@jupyter-widgets/base",
      "model_module_version": "1.2.0",
      "model_name": "LayoutModel",
      "state": {}
     },
     "680c796874784c18bbfe11ebdbecf1a6": {
      "model_module": "@jupyter-widgets/base",
      "model_module_version": "1.2.0",
      "model_name": "LayoutModel",
      "state": {}
     },
     "6810a54cebd047ba9e05961ec3792247": {
      "model_module": "@jupyter-widgets/base",
      "model_module_version": "1.2.0",
      "model_name": "LayoutModel",
      "state": {}
     },
     "6836bb8a3117494d9f2ac57199b9eb14": {
      "model_module": "@jupyter-widgets/controls",
      "model_module_version": "1.5.0",
      "model_name": "DescriptionStyleModel",
      "state": {
       "description_width": ""
      }
     },
     "68512373f1584b178fecb2ac9260ff08": {
      "model_module": "@jupyter-widgets/base",
      "model_module_version": "1.2.0",
      "model_name": "LayoutModel",
      "state": {}
     },
     "6875dce7ee714bbfb9158b8c25e905e2": {
      "model_module": "@jupyter-widgets/controls",
      "model_module_version": "1.5.0",
      "model_name": "HTMLModel",
      "state": {
       "layout": "IPY_MODEL_ba45b38b9cb94e58adc2bf83c6fd21bc",
       "style": "IPY_MODEL_0e44c657c9c14d739f1e4a5fafad64b0",
       "value": " 0/12 [00:13&lt;?, ?it/s]"
      }
     },
     "6897061e450743e884c92d40284e8ebc": {
      "model_module": "@jupyter-widgets/controls",
      "model_module_version": "1.5.0",
      "model_name": "FloatProgressModel",
      "state": {
       "bar_style": "danger",
       "description": "Valid iteration=0:   0%",
       "layout": "IPY_MODEL_2c6747f5008943daa9335c14f34a51f6",
       "max": 5000,
       "style": "IPY_MODEL_dba83b251a334123bad685d94ca19c9b"
      }
     },
     "68ac4e4e366444f187d533f286004ce0": {
      "model_module": "@jupyter-widgets/controls",
      "model_module_version": "1.5.0",
      "model_name": "ProgressStyleModel",
      "state": {
       "description_width": "initial"
      }
     },
     "68b6c22c104f4fadbd057a33331b1e16": {
      "model_module": "@jupyter-widgets/controls",
      "model_module_version": "1.5.0",
      "model_name": "HTMLModel",
      "state": {
       "layout": "IPY_MODEL_8df56b28a69c4a69ae86fc67be98d001",
       "style": "IPY_MODEL_40ac25d0b48c4fa882e6acee82a308f4",
       "value": " 0/90000 [00:13&lt;?, ?it/s]"
      }
     },
     "68bda2fcfa364e4bbd5337bef94ec340": {
      "model_module": "@jupyter-widgets/controls",
      "model_module_version": "1.5.0",
      "model_name": "DescriptionStyleModel",
      "state": {
       "description_width": ""
      }
     },
     "68c1b76a62e248afb2567dfe623fbce6": {
      "model_module": "@jupyter-widgets/controls",
      "model_module_version": "1.5.0",
      "model_name": "HBoxModel",
      "state": {
       "children": [
        "IPY_MODEL_bbd2393cae754a80b714c66960a35342",
        "IPY_MODEL_b0a918a80008494d8522ec818a3e3792"
       ],
       "layout": "IPY_MODEL_034693a07a7c4052bd991a2bbcf4e53c"
      }
     },
     "68c76ea8944c4f87a6241babf9529459": {
      "model_module": "@jupyter-widgets/controls",
      "model_module_version": "1.5.0",
      "model_name": "FloatProgressModel",
      "state": {
       "bar_style": "danger",
       "description": "Train epoch=0:   0%",
       "layout": "IPY_MODEL_7b9c1db2b7ee4816ac7a25e7de44bfe4",
       "max": 90000,
       "style": "IPY_MODEL_3a24f00557c8415986f83223539548bc"
      }
     },
     "68f99c6661154fd6bc9f5c4acecfbe88": {
      "model_module": "@jupyter-widgets/base",
      "model_module_version": "1.2.0",
      "model_name": "LayoutModel",
      "state": {}
     },
     "6925ddcff8ef40e1b5388f3763a534ba": {
      "model_module": "@jupyter-widgets/base",
      "model_module_version": "1.2.0",
      "model_name": "LayoutModel",
      "state": {}
     },
     "69267ca745c34326887656f9054fcc37": {
      "model_module": "@jupyter-widgets/controls",
      "model_module_version": "1.5.0",
      "model_name": "HTMLModel",
      "state": {
       "layout": "IPY_MODEL_950440567eb74dcea4e8c3256c7c546e",
       "style": "IPY_MODEL_607b41e184c34a978f1f97c7e3b7befc",
       "value": " 0/23 [00:02&lt;?, ?it/s]"
      }
     },
     "6926eb6540894002b6ca9e563534b166": {
      "model_module": "@jupyter-widgets/controls",
      "model_module_version": "1.5.0",
      "model_name": "HTMLModel",
      "state": {
       "layout": "IPY_MODEL_aae3842cbc344f01bfcc8f569ae36eb1",
       "style": "IPY_MODEL_2a009356adcf445aa81aca483d1c9617",
       "value": " 0/10000 [28:27&lt;?, ?it/s]"
      }
     },
     "692a0ededb9d47c0abea382eae531362": {
      "model_module": "@jupyter-widgets/controls",
      "model_module_version": "1.5.0",
      "model_name": "ProgressStyleModel",
      "state": {
       "description_width": "initial"
      }
     },
     "692c1b257ce44e4885896cd27a6f40a9": {
      "model_module": "@jupyter-widgets/base",
      "model_module_version": "1.2.0",
      "model_name": "LayoutModel",
      "state": {}
     },
     "692d3b970ec547c594514671a57d842f": {
      "model_module": "@jupyter-widgets/base",
      "model_module_version": "1.2.0",
      "model_name": "LayoutModel",
      "state": {}
     },
     "692ff4cb47584a82b8f61adec10a2a2e": {
      "model_module": "@jupyter-widgets/base",
      "model_module_version": "1.2.0",
      "model_name": "LayoutModel",
      "state": {}
     },
     "6947c6b3a86b491ca682f9337db95b4a": {
      "model_module": "@jupyter-widgets/controls",
      "model_module_version": "1.5.0",
      "model_name": "HBoxModel",
      "state": {
       "children": [
        "IPY_MODEL_6cafeea5e57044b2864b03cdb776d966",
        "IPY_MODEL_21f842dd6c1541148dd16c1de97452d8"
       ],
       "layout": "IPY_MODEL_62ec7ea5f29f477ca6c4b28b72baa16e"
      }
     },
     "6964692857e24e58abdbfaf5dfacbb4a": {
      "model_module": "@jupyter-widgets/controls",
      "model_module_version": "1.5.0",
      "model_name": "DescriptionStyleModel",
      "state": {
       "description_width": ""
      }
     },
     "696c2da88e6c416b970a2ee40dee27a6": {
      "model_module": "@jupyter-widgets/controls",
      "model_module_version": "1.5.0",
      "model_name": "FloatProgressModel",
      "state": {
       "bar_style": "danger",
       "description": "Train epoch=0:   1%",
       "layout": "IPY_MODEL_396ac5e2c63b4964b0ceeb8c9a8677b0",
       "max": 45000,
       "style": "IPY_MODEL_de88d14566724028bc415caf3bae80ff",
       "value": 541
      }
     },
     "698bf6f21d16489393effbd2e84c638e": {
      "model_module": "@jupyter-widgets/controls",
      "model_module_version": "1.5.0",
      "model_name": "HBoxModel",
      "state": {
       "children": [
        "IPY_MODEL_2df5a09c99ac46d4a75f9facfe33f10f",
        "IPY_MODEL_d7aaafd4fd884e49bd97114e2f2b5d2e"
       ],
       "layout": "IPY_MODEL_6f3444d991594074817ef764e3dc90f7"
      }
     },
     "699d7319d4e94042861ef2265c4d91da": {
      "model_module": "@jupyter-widgets/controls",
      "model_module_version": "1.5.0",
      "model_name": "HTMLModel",
      "state": {
       "layout": "IPY_MODEL_b2d3de561e5246c69b4001144a8eeb34",
       "style": "IPY_MODEL_6525ce9e0c654912a89e235b1c1ae1a4",
       "value": " 95/90000 [00:55&lt;10:06:47,  2.47it/s]"
      }
     },
     "69aed97628f44470862bc460511c7598": {
      "model_module": "@jupyter-widgets/base",
      "model_module_version": "1.2.0",
      "model_name": "LayoutModel",
      "state": {}
     },
     "69b209083e9c40f28139922416d824fd": {
      "model_module": "@jupyter-widgets/controls",
      "model_module_version": "1.5.0",
      "model_name": "HTMLModel",
      "state": {
       "layout": "IPY_MODEL_ff6af231c4d94afe8e2fb02894b2635e",
       "style": "IPY_MODEL_e19b315a9fc24db2bc5cb24306271576",
       "value": " 37/90000 [02:50&lt;9:30:29,  2.63it/s]"
      }
     },
     "69b541f222c143cc87da69ec1688fdd8": {
      "model_module": "@jupyter-widgets/controls",
      "model_module_version": "1.5.0",
      "model_name": "HTMLModel",
      "state": {
       "layout": "IPY_MODEL_9fce00998d6846cd9c1a96c2de788962",
       "style": "IPY_MODEL_8c0ba6ef5ce34c658cb6d388598e9754",
       "value": " 17/90000 [00:49&lt;11:03:26,  2.26it/s]"
      }
     },
     "69c04aa0a788463db20eff8c1131428c": {
      "model_module": "@jupyter-widgets/controls",
      "model_module_version": "1.5.0",
      "model_name": "HTMLModel",
      "state": {
       "layout": "IPY_MODEL_4a1701a08a464a1090bb9d35e454892b",
       "style": "IPY_MODEL_7fd171e919544b23a3d68f4b8e77b405",
       "value": " 0/10000 [00:36&lt;?, ?it/s]"
      }
     },
     "69f03b970d8247a7bc9a83961885729e": {
      "model_module": "@jupyter-widgets/base",
      "model_module_version": "1.2.0",
      "model_name": "LayoutModel",
      "state": {}
     },
     "6a0e39c2a86943719862a44027ba987a": {
      "model_module": "@jupyter-widgets/base",
      "model_module_version": "1.2.0",
      "model_name": "LayoutModel",
      "state": {}
     },
     "6a1309a738414bc592da22cd101ee439": {
      "model_module": "@jupyter-widgets/controls",
      "model_module_version": "1.5.0",
      "model_name": "FloatProgressModel",
      "state": {
       "bar_style": "danger",
       "description": "Valid iteration=0:   0%",
       "layout": "IPY_MODEL_9add96ece84d4a83b22d9cae3abc9e92",
       "max": 5000,
       "style": "IPY_MODEL_40782c64c8fd4631843009add34f536e"
      }
     },
     "6a46037bc52543238bec816b066abe7a": {
      "model_module": "@jupyter-widgets/controls",
      "model_module_version": "1.5.0",
      "model_name": "FloatProgressModel",
      "state": {
       "bar_style": "danger",
       "description": "Train:   0%",
       "layout": "IPY_MODEL_1ba39da03aa34cc7a55c1cd928e5cefc",
       "max": 23,
       "style": "IPY_MODEL_eeb20ed930644070bc4ba0a7e8cd0e62"
      }
     },
     "6a52a9d11de74ed7b891c28aa4b9c8de": {
      "model_module": "@jupyter-widgets/base",
      "model_module_version": "1.2.0",
      "model_name": "LayoutModel",
      "state": {}
     },
     "6a761e5907944a99b087873261a877d5": {
      "model_module": "@jupyter-widgets/controls",
      "model_module_version": "1.5.0",
      "model_name": "DescriptionStyleModel",
      "state": {
       "description_width": ""
      }
     },
     "6a9bf9acd9374ebdb1c41c252cd7e7f7": {
      "model_module": "@jupyter-widgets/controls",
      "model_module_version": "1.5.0",
      "model_name": "ProgressStyleModel",
      "state": {
       "description_width": "initial"
      }
     },
     "6a9eb8d7f6074ccd877bb3ee7a6021bb": {
      "model_module": "@jupyter-widgets/base",
      "model_module_version": "1.2.0",
      "model_name": "LayoutModel",
      "state": {}
     },
     "6ad9d761d1e74f89bf775536b40d96aa": {
      "model_module": "@jupyter-widgets/controls",
      "model_module_version": "1.5.0",
      "model_name": "ProgressStyleModel",
      "state": {
       "description_width": "initial"
      }
     },
     "6ae04b5c993d4a9199081d195f976e76": {
      "model_module": "@jupyter-widgets/controls",
      "model_module_version": "1.5.0",
      "model_name": "DescriptionStyleModel",
      "state": {
       "description_width": ""
      }
     },
     "6ae5574a58894b04a683390209928655": {
      "model_module": "@jupyter-widgets/controls",
      "model_module_version": "1.5.0",
      "model_name": "ProgressStyleModel",
      "state": {
       "description_width": "initial"
      }
     },
     "6b19abba27cd4c08b3db38f1d0dd3baf": {
      "model_module": "@jupyter-widgets/base",
      "model_module_version": "1.2.0",
      "model_name": "LayoutModel",
      "state": {}
     },
     "6b2a7e1afa3b434a97f3466e59552835": {
      "model_module": "@jupyter-widgets/base",
      "model_module_version": "1.2.0",
      "model_name": "LayoutModel",
      "state": {}
     },
     "6b2aea2d36994d70bc2e690596384e99": {
      "model_module": "@jupyter-widgets/controls",
      "model_module_version": "1.5.0",
      "model_name": "HBoxModel",
      "state": {
       "children": [
        "IPY_MODEL_5ba1c43753494d70a0ba826cefe048bd",
        "IPY_MODEL_add07c44c0234248b4ae49f689d07458"
       ],
       "layout": "IPY_MODEL_fe391fa5a16a4901b71c147dfbd5b2e5"
      }
     },
     "6b329131356a4f1284b3aa691f82f61d": {
      "model_module": "@jupyter-widgets/base",
      "model_module_version": "1.2.0",
      "model_name": "LayoutModel",
      "state": {}
     },
     "6b44d63b5260476f8a40d865e3263fb9": {
      "model_module": "@jupyter-widgets/controls",
      "model_module_version": "1.5.0",
      "model_name": "HTMLModel",
      "state": {
       "layout": "IPY_MODEL_355167d8197a4fc09f742e6e1cd8f33f",
       "style": "IPY_MODEL_ef21287950934c2990c35dc075d2246d",
       "value": " 326/90000 [02:32&lt;12:17:08,  2.03it/s]"
      }
     },
     "6b4f8344b3ee4c3bab161401853e9049": {
      "model_module": "@jupyter-widgets/controls",
      "model_module_version": "1.5.0",
      "model_name": "HTMLModel",
      "state": {
       "layout": "IPY_MODEL_ac8e542fce5e40b0923dec7a377c0f47",
       "style": "IPY_MODEL_9b46d3450fce4926b0594892f1e771b0",
       "value": " 0/90000 [01:47&lt;?, ?it/s]"
      }
     },
     "6b659174f9f64f68b4aa98bed866d8f7": {
      "model_module": "@jupyter-widgets/base",
      "model_module_version": "1.2.0",
      "model_name": "LayoutModel",
      "state": {}
     },
     "6b738948d3b9430b805b2b24fa0d3bae": {
      "model_module": "@jupyter-widgets/controls",
      "model_module_version": "1.5.0",
      "model_name": "HBoxModel",
      "state": {
       "children": [
        "IPY_MODEL_95a0a1329e8d4aca8187fecf961093f6",
        "IPY_MODEL_5467f25b52f04aa68dcc9f8b323e3bef"
       ],
       "layout": "IPY_MODEL_be3b3265a36d457db63eec07c536abbe"
      }
     },
     "6b83e50c0aa740af8041707a1a88f66a": {
      "model_module": "@jupyter-widgets/controls",
      "model_module_version": "1.5.0",
      "model_name": "HTMLModel",
      "state": {
       "layout": "IPY_MODEL_a3695c0f187e4380887d9cc3a6c4f927",
       "style": "IPY_MODEL_b3538c19f99d4c3a952208ad16ad5836",
       "value": " 0/10000 [00:55&lt;?, ?it/s]"
      }
     },
     "6b85a0e1561243dba101b051c03cd838": {
      "model_module": "@jupyter-widgets/controls",
      "model_module_version": "1.5.0",
      "model_name": "FloatProgressModel",
      "state": {
       "bar_style": "danger",
       "description": "Valid iteration=0:   0%",
       "layout": "IPY_MODEL_19398264672a4a1b9f63d52f7fca41a3",
       "max": 5000,
       "style": "IPY_MODEL_28ab97598e4e40859938d362c79228e9"
      }
     },
     "6b9e951a5e5b43c99657b2774d110c2a": {
      "model_module": "@jupyter-widgets/base",
      "model_module_version": "1.2.0",
      "model_name": "LayoutModel",
      "state": {}
     },
     "6bd1bb9932004eae93da116719965646": {
      "model_module": "@jupyter-widgets/controls",
      "model_module_version": "1.5.0",
      "model_name": "HBoxModel",
      "state": {
       "children": [
        "IPY_MODEL_e2eb5833a5294f51912c5d96b148297a",
        "IPY_MODEL_51a0427adab9498d88f38adb13c8d37e"
       ],
       "layout": "IPY_MODEL_58cdb684d6594c84a8c0cff05f879cc7"
      }
     },
     "6bdd009eaeae462eaf3fa778553a03ee": {
      "model_module": "@jupyter-widgets/base",
      "model_module_version": "1.2.0",
      "model_name": "LayoutModel",
      "state": {}
     },
     "6be14727ac544c90b947a4304caaeddb": {
      "model_module": "@jupyter-widgets/controls",
      "model_module_version": "1.5.0",
      "model_name": "HBoxModel",
      "state": {
       "children": [
        "IPY_MODEL_964ade2fb81b4045a127690871fc8f79",
        "IPY_MODEL_863c79391338430d9b8398a9709319a5"
       ],
       "layout": "IPY_MODEL_d32863e9bdac4fc3a2b85e42b436d044"
      }
     },
     "6be7e59eba764a03a864f6a71f9feb46": {
      "model_module": "@jupyter-widgets/controls",
      "model_module_version": "1.5.0",
      "model_name": "HBoxModel",
      "state": {
       "children": [
        "IPY_MODEL_831ac609e637456985a379539ac27037",
        "IPY_MODEL_ca08f4822479490dbd7c071ea06b68d5"
       ],
       "layout": "IPY_MODEL_5a76c2f3e3684ccbb050cd277d8cb12d"
      }
     },
     "6be89020de4e4b22826962ad8722e1bc": {
      "model_module": "@jupyter-widgets/controls",
      "model_module_version": "1.5.0",
      "model_name": "DescriptionStyleModel",
      "state": {
       "description_width": ""
      }
     },
     "6bfb22c740794320959514d35c9fd5e2": {
      "model_module": "@jupyter-widgets/controls",
      "model_module_version": "1.5.0",
      "model_name": "HBoxModel",
      "state": {
       "children": [
        "IPY_MODEL_792374f3a22c43509caaf3b4ad19b5ab",
        "IPY_MODEL_34d4040a8a03408bb6f06eccf0a85f02"
       ],
       "layout": "IPY_MODEL_34af3f56310a4278a1eff28e648ed7c1"
      }
     },
     "6c0258c8ff2547d59d0e479fbd4cd24d": {
      "model_module": "@jupyter-widgets/controls",
      "model_module_version": "1.5.0",
      "model_name": "HTMLModel",
      "state": {
       "layout": "IPY_MODEL_9cfd8cb225624fcdba5659c3f9493527",
       "style": "IPY_MODEL_9139c2f7c0d3478fa85ebe5f8afda809",
       "value": " 0/12 [00:34&lt;?, ?it/s]"
      }
     },
     "6c03f96678f14685815c62187c578662": {
      "model_module": "@jupyter-widgets/controls",
      "model_module_version": "1.5.0",
      "model_name": "HBoxModel",
      "state": {
       "children": [
        "IPY_MODEL_e2b1f77c8ece4e0281599f3651aa59ad",
        "IPY_MODEL_30370e44de434354b3e2d444f0de95ca"
       ],
       "layout": "IPY_MODEL_30016fe9deaf42969749b61fe6b10ea3"
      }
     },
     "6c3b35b4f17e49f0a164e450996b34a3": {
      "model_module": "@jupyter-widgets/base",
      "model_module_version": "1.2.0",
      "model_name": "LayoutModel",
      "state": {}
     },
     "6c4e27ecfe70439ab9bc7cc618ae1319": {
      "model_module": "@jupyter-widgets/base",
      "model_module_version": "1.2.0",
      "model_name": "LayoutModel",
      "state": {}
     },
     "6c5691111a9149ea858ef148cbea335c": {
      "model_module": "@jupyter-widgets/controls",
      "model_module_version": "1.5.0",
      "model_name": "DescriptionStyleModel",
      "state": {
       "description_width": ""
      }
     },
     "6c7f28356c1a4a1e916baf3639823cfa": {
      "model_module": "@jupyter-widgets/controls",
      "model_module_version": "1.5.0",
      "model_name": "FloatProgressModel",
      "state": {
       "bar_style": "danger",
       "description": "Valid iteration=0:   0%",
       "layout": "IPY_MODEL_40bc3db910434b40b8ea5f42adbf6915",
       "max": 5000,
       "style": "IPY_MODEL_af8795b1a2574f8985edee8b20847f9f"
      }
     },
     "6cafeea5e57044b2864b03cdb776d966": {
      "model_module": "@jupyter-widgets/controls",
      "model_module_version": "1.5.0",
      "model_name": "FloatProgressModel",
      "state": {
       "bar_style": "danger",
       "description": "Train epoch=0:   1%",
       "layout": "IPY_MODEL_a5e29042ed674a5fb97c9a1d6d41b4ea",
       "max": 90000,
       "style": "IPY_MODEL_d2c260f8c6284733b8cdbe585fab04e1",
       "value": 604
      }
     },
     "6cf03e82ac074dae826360ffc78dcf8e": {
      "model_module": "@jupyter-widgets/base",
      "model_module_version": "1.2.0",
      "model_name": "LayoutModel",
      "state": {}
     },
     "6d13c81818ae4e41874cc94832388cf7": {
      "model_module": "@jupyter-widgets/base",
      "model_module_version": "1.2.0",
      "model_name": "LayoutModel",
      "state": {}
     },
     "6d2f45fee6ac4dc0b89a2dd1fe77e172": {
      "model_module": "@jupyter-widgets/controls",
      "model_module_version": "1.5.0",
      "model_name": "HBoxModel",
      "state": {
       "children": [
        "IPY_MODEL_a47add9ccca749ddbdb34090c45b69a4",
        "IPY_MODEL_028d8feff3224f3b97a40c6747f30a6a"
       ],
       "layout": "IPY_MODEL_9807323825e64efb8e53cd7edb501bd1"
      }
     },
     "6d33a45aee37408286a1373995f5e2e9": {
      "model_module": "@jupyter-widgets/controls",
      "model_module_version": "1.5.0",
      "model_name": "HBoxModel",
      "state": {
       "children": [
        "IPY_MODEL_37853ceb631a4f25a9d38189c1de12b5",
        "IPY_MODEL_cfde25e8052d4522922df69b0fc178a7"
       ],
       "layout": "IPY_MODEL_6b659174f9f64f68b4aa98bed866d8f7"
      }
     },
     "6d3498a4f302430e94e4e343bd600699": {
      "model_module": "@jupyter-widgets/controls",
      "model_module_version": "1.5.0",
      "model_name": "FloatProgressModel",
      "state": {
       "bar_style": "danger",
       "description": "Valid iteration=0:   0%",
       "layout": "IPY_MODEL_6314c8d955444e37a78561aae20901ed",
       "max": 10000,
       "style": "IPY_MODEL_62c3789030944ee0be18ad929da5e9b1"
      }
     },
     "6d4bf13b56d74a6d9f80385567c3867e": {
      "model_module": "@jupyter-widgets/controls",
      "model_module_version": "1.5.0",
      "model_name": "ProgressStyleModel",
      "state": {
       "description_width": "initial"
      }
     },
     "6d65350914744890bbd1c900965c53ba": {
      "model_module": "@jupyter-widgets/base",
      "model_module_version": "1.2.0",
      "model_name": "LayoutModel",
      "state": {}
     },
     "6d72da46992e4c43a95e305fefead3dd": {
      "model_module": "@jupyter-widgets/base",
      "model_module_version": "1.2.0",
      "model_name": "LayoutModel",
      "state": {}
     },
     "6d89b20f86874487895d1993679cdef2": {
      "model_module": "@jupyter-widgets/controls",
      "model_module_version": "1.5.0",
      "model_name": "HTMLModel",
      "state": {
       "layout": "IPY_MODEL_729d2fa2f0e14fdba4e20d0291737b04",
       "style": "IPY_MODEL_f2c9c3586b94416ba4b74437978dea1a",
       "value": " 1/5000 [09:24&lt;783:24:29, 564.17s/it]"
      }
     },
     "6d8ac6d3a09945cfb9b60382bcab0723": {
      "model_module": "@jupyter-widgets/controls",
      "model_module_version": "1.5.0",
      "model_name": "HBoxModel",
      "state": {
       "children": [
        "IPY_MODEL_1562e0073a9e401e89f2461da0403b68",
        "IPY_MODEL_2f39699b45e846459dd3a7985839ba35"
       ],
       "layout": "IPY_MODEL_25b60bf9eae94345acabb90510c92df9"
      }
     },
     "6d8ec14403eb4702a5b644520894bf1c": {
      "model_module": "@jupyter-widgets/controls",
      "model_module_version": "1.5.0",
      "model_name": "HTMLModel",
      "state": {
       "layout": "IPY_MODEL_3aa37186541c4beeb33f7169e5304bb7",
       "style": "IPY_MODEL_83da9b99392849ac8430e2c3556ff78d",
       "value": " 8/90000 [00:12&lt;13:16:29,  1.88it/s]"
      }
     },
     "6d9a1cf2bc104fc8a7d6af93ecfba90d": {
      "model_module": "@jupyter-widgets/base",
      "model_module_version": "1.2.0",
      "model_name": "LayoutModel",
      "state": {}
     },
     "6dbfd7e54fea4005a6ee9f49a8bc2ea4": {
      "model_module": "@jupyter-widgets/controls",
      "model_module_version": "1.5.0",
      "model_name": "ProgressStyleModel",
      "state": {
       "description_width": "initial"
      }
     },
     "6dde1a6bbab446f180e0200e5dc55d51": {
      "model_module": "@jupyter-widgets/controls",
      "model_module_version": "1.5.0",
      "model_name": "ProgressStyleModel",
      "state": {
       "description_width": "initial"
      }
     },
     "6de81b4e400840e2828f352546ef319c": {
      "model_module": "@jupyter-widgets/controls",
      "model_module_version": "1.5.0",
      "model_name": "ProgressStyleModel",
      "state": {
       "description_width": "initial"
      }
     },
     "6deb2de7ff8d46e69ea05b6c66c14dce": {
      "model_module": "@jupyter-widgets/controls",
      "model_module_version": "1.5.0",
      "model_name": "FloatProgressModel",
      "state": {
       "bar_style": "danger",
       "description": "Valid iteration=0:   0%",
       "layout": "IPY_MODEL_8c8eadfdf5d6411b8535433fc018a1c7",
       "max": 5000,
       "style": "IPY_MODEL_4ab06203efe74ba98e226198c3aadf27"
      }
     },
     "6e0fa63113764fa6b2e3f9557bc33236": {
      "model_module": "@jupyter-widgets/controls",
      "model_module_version": "1.5.0",
      "model_name": "ProgressStyleModel",
      "state": {
       "description_width": "initial"
      }
     },
     "6e32f3e75b6c47159cf04d8334374ff3": {
      "model_module": "@jupyter-widgets/controls",
      "model_module_version": "1.5.0",
      "model_name": "ProgressStyleModel",
      "state": {
       "description_width": "initial"
      }
     },
     "6e556d181c7c4cdba6933f695fdc18d7": {
      "model_module": "@jupyter-widgets/controls",
      "model_module_version": "1.5.0",
      "model_name": "HTMLModel",
      "state": {
       "layout": "IPY_MODEL_20a0e6b707b144bfa728802f2e3d8aaa",
       "style": "IPY_MODEL_0c1786487f7c46f882f88d9147da120d",
       "value": " 0/12 [00:18&lt;?, ?it/s]"
      }
     },
     "6e6689885849436887066fa05069aedf": {
      "model_module": "@jupyter-widgets/controls",
      "model_module_version": "1.5.0",
      "model_name": "ProgressStyleModel",
      "state": {
       "description_width": "initial"
      }
     },
     "6e6b06b634da486a9695621d11fe6e60": {
      "model_module": "@jupyter-widgets/base",
      "model_module_version": "1.2.0",
      "model_name": "LayoutModel",
      "state": {}
     },
     "6e778934139d4736ba4752b1f39190fd": {
      "model_module": "@jupyter-widgets/controls",
      "model_module_version": "1.5.0",
      "model_name": "HTMLModel",
      "state": {
       "layout": "IPY_MODEL_3d3ec4dd93b443a2a05ac496b3411d25",
       "style": "IPY_MODEL_20c05ca713914e5897a9fd536dbfa1ff",
       "value": " 99/90000 [00:40&lt;9:03:27,  2.76it/s]"
      }
     },
     "6e7963d7964d461698aa078b39f59649": {
      "model_module": "@jupyter-widgets/base",
      "model_module_version": "1.2.0",
      "model_name": "LayoutModel",
      "state": {}
     },
     "6e814d72b4664f1f9b81048e8758870d": {
      "model_module": "@jupyter-widgets/base",
      "model_module_version": "1.2.0",
      "model_name": "LayoutModel",
      "state": {}
     },
     "6ea1e5c342454cecaaf05219d81a3d08": {
      "model_module": "@jupyter-widgets/controls",
      "model_module_version": "1.5.0",
      "model_name": "DescriptionStyleModel",
      "state": {
       "description_width": ""
      }
     },
     "6edb0f542a2548899064ead7beddff20": {
      "model_module": "@jupyter-widgets/base",
      "model_module_version": "1.2.0",
      "model_name": "LayoutModel",
      "state": {}
     },
     "6efdbabc38b54bdba418e5ee764468e2": {
      "model_module": "@jupyter-widgets/controls",
      "model_module_version": "1.5.0",
      "model_name": "ProgressStyleModel",
      "state": {
       "description_width": "initial"
      }
     },
     "6f0526adb8de40a3a91333bea2d09768": {
      "model_module": "@jupyter-widgets/controls",
      "model_module_version": "1.5.0",
      "model_name": "ProgressStyleModel",
      "state": {
       "description_width": "initial"
      }
     },
     "6f3444d991594074817ef764e3dc90f7": {
      "model_module": "@jupyter-widgets/base",
      "model_module_version": "1.2.0",
      "model_name": "LayoutModel",
      "state": {}
     },
     "6f35651bb9fb4f76988a7ddbdfcf156d": {
      "model_module": "@jupyter-widgets/controls",
      "model_module_version": "1.5.0",
      "model_name": "ProgressStyleModel",
      "state": {
       "description_width": "initial"
      }
     },
     "6f37d1920bbc4b3a959609d33f7abe68": {
      "model_module": "@jupyter-widgets/controls",
      "model_module_version": "1.5.0",
      "model_name": "DescriptionStyleModel",
      "state": {
       "description_width": ""
      }
     },
     "6f3f09260a6d4b51a6a2d4cce59319d3": {
      "model_module": "@jupyter-widgets/base",
      "model_module_version": "1.2.0",
      "model_name": "LayoutModel",
      "state": {}
     },
     "6f73be6b547f4ae19eb4e4a706d0521e": {
      "model_module": "@jupyter-widgets/base",
      "model_module_version": "1.2.0",
      "model_name": "LayoutModel",
      "state": {}
     },
     "6f79b6482e844d8194fb211d45db646d": {
      "model_module": "@jupyter-widgets/controls",
      "model_module_version": "1.5.0",
      "model_name": "FloatProgressModel",
      "state": {
       "bar_style": "danger",
       "description": "Train:   0%",
       "layout": "IPY_MODEL_74adb5c9e080424596bc712925eec5ed",
       "max": 23,
       "style": "IPY_MODEL_bdf2f10a9a074b24888e023e06845b86"
      }
     },
     "6f9e836777f84a598a297f43a071da2a": {
      "model_module": "@jupyter-widgets/controls",
      "model_module_version": "1.5.0",
      "model_name": "HBoxModel",
      "state": {
       "children": [
        "IPY_MODEL_d6e3efd232014222adc5b8a328100b56",
        "IPY_MODEL_894d105fa0cd4b128e28514acf7ec74f"
       ],
       "layout": "IPY_MODEL_1697fe5d7e1e463388c819995076997c"
      }
     },
     "6fa71334c24c4c188747911d065e2ce8": {
      "model_module": "@jupyter-widgets/controls",
      "model_module_version": "1.5.0",
      "model_name": "ProgressStyleModel",
      "state": {
       "description_width": "initial"
      }
     },
     "6fc236bd80c049f8aca1edac054b326c": {
      "model_module": "@jupyter-widgets/base",
      "model_module_version": "1.2.0",
      "model_name": "LayoutModel",
      "state": {}
     },
     "6fd84e824af74629a47abe4f0f3a5f3d": {
      "model_module": "@jupyter-widgets/controls",
      "model_module_version": "1.5.0",
      "model_name": "HBoxModel",
      "state": {
       "children": [
        "IPY_MODEL_11c6c02a5af24f94aa681dcb551e00c7",
        "IPY_MODEL_6c0258c8ff2547d59d0e479fbd4cd24d"
       ],
       "layout": "IPY_MODEL_b79a5dc649b94046a01234095abc0d17"
      }
     },
     "6fe0bc14509946f4886e341c4b9b21a7": {
      "model_module": "@jupyter-widgets/controls",
      "model_module_version": "1.5.0",
      "model_name": "ProgressStyleModel",
      "state": {
       "description_width": "initial"
      }
     },
     "701806d36adb4d01a16ec6d97cf3013d": {
      "model_module": "@jupyter-widgets/base",
      "model_module_version": "1.2.0",
      "model_name": "LayoutModel",
      "state": {}
     },
     "7027c5f5841f4f11af50b99a4a3d9e1d": {
      "model_module": "@jupyter-widgets/controls",
      "model_module_version": "1.5.0",
      "model_name": "HTMLModel",
      "state": {
       "layout": "IPY_MODEL_0627dd1850b94171a0de7529e0ad7406",
       "style": "IPY_MODEL_ed9fc9042b1a4d30b0190b9af88ccaf5",
       "value": " 0/12 [01:12&lt;?, ?it/s]"
      }
     },
     "7075c8c1196841f281f2125c30149a36": {
      "model_module": "@jupyter-widgets/base",
      "model_module_version": "1.2.0",
      "model_name": "LayoutModel",
      "state": {}
     },
     "708250104af74113a5168fb084569c01": {
      "model_module": "@jupyter-widgets/controls",
      "model_module_version": "1.5.0",
      "model_name": "DescriptionStyleModel",
      "state": {
       "description_width": ""
      }
     },
     "70955d2bfcb44d4fbd9679ecfdaac87e": {
      "model_module": "@jupyter-widgets/base",
      "model_module_version": "1.2.0",
      "model_name": "LayoutModel",
      "state": {}
     },
     "7099086097d64f1483589379a69db6ae": {
      "model_module": "@jupyter-widgets/controls",
      "model_module_version": "1.5.0",
      "model_name": "DescriptionStyleModel",
      "state": {
       "description_width": ""
      }
     },
     "709aa181cde24c6594053954c7f3dabd": {
      "model_module": "@jupyter-widgets/base",
      "model_module_version": "1.2.0",
      "model_name": "LayoutModel",
      "state": {}
     },
     "709cd3924fa640a080b6d06b07564d91": {
      "model_module": "@jupyter-widgets/controls",
      "model_module_version": "1.5.0",
      "model_name": "DescriptionStyleModel",
      "state": {
       "description_width": ""
      }
     },
     "709e0f3642e04a46887ca27c44e31c70": {
      "model_module": "@jupyter-widgets/base",
      "model_module_version": "1.2.0",
      "model_name": "LayoutModel",
      "state": {}
     },
     "70b63e68fb514e01af86ccc449668592": {
      "model_module": "@jupyter-widgets/controls",
      "model_module_version": "1.5.0",
      "model_name": "HTMLModel",
      "state": {
       "layout": "IPY_MODEL_32f6c1b097cb4e09a4601d3d1ae03cfa",
       "style": "IPY_MODEL_98045d6c307a416ba3a8323aff030975",
       "value": " 0/10000 [00:01&lt;?, ?it/s]"
      }
     },
     "70bcfb0d10c24045b99dea2c2acd0669": {
      "model_module": "@jupyter-widgets/controls",
      "model_module_version": "1.5.0",
      "model_name": "HBoxModel",
      "state": {
       "children": [
        "IPY_MODEL_99c25d003277428395526cab0e4dc222",
        "IPY_MODEL_1d47adc67de34f829a523eb7dda176d3"
       ],
       "layout": "IPY_MODEL_4772443c930046d0aed07e2171306c35"
      }
     },
     "70ebc5b243bc41d3945fdd2ba297116c": {
      "model_module": "@jupyter-widgets/controls",
      "model_module_version": "1.5.0",
      "model_name": "HTMLModel",
      "state": {
       "layout": "IPY_MODEL_5cb0a1d46d454c6aa9e9d1dc083193a0",
       "style": "IPY_MODEL_870c6b3e59894e2d96c8dd871ed5c5d6",
       "value": " 0/10000 [01:36&lt;?, ?it/s]"
      }
     },
     "710664ec3bec4597be7837fe02b2ef2b": {
      "model_module": "@jupyter-widgets/base",
      "model_module_version": "1.2.0",
      "model_name": "LayoutModel",
      "state": {}
     },
     "7107185a455d4e5cbe671d71e5319c95": {
      "model_module": "@jupyter-widgets/controls",
      "model_module_version": "1.5.0",
      "model_name": "HTMLModel",
      "state": {
       "layout": "IPY_MODEL_889b21d9ab564c0ca6b1a1134dfe98fc",
       "style": "IPY_MODEL_6a761e5907944a99b087873261a877d5",
       "value": " 0/45000 [00:27&lt;?, ?it/s]"
      }
     },
     "7133647c67934403bd374f68b19600cb": {
      "model_module": "@jupyter-widgets/base",
      "model_module_version": "1.2.0",
      "model_name": "LayoutModel",
      "state": {}
     },
     "71481c0f51164737adbabc3816dea757": {
      "model_module": "@jupyter-widgets/controls",
      "model_module_version": "1.5.0",
      "model_name": "DescriptionStyleModel",
      "state": {
       "description_width": ""
      }
     },
     "714a62b7c9414a47994793de1c8d9571": {
      "model_module": "@jupyter-widgets/base",
      "model_module_version": "1.2.0",
      "model_name": "LayoutModel",
      "state": {}
     },
     "7158b48b92084f879fa2f6f256ce602a": {
      "model_module": "@jupyter-widgets/controls",
      "model_module_version": "1.5.0",
      "model_name": "FloatProgressModel",
      "state": {
       "bar_style": "danger",
       "description": "Valid iteration=0:   0%",
       "layout": "IPY_MODEL_aa6db23a8b604931ba16a6cd308f4a99",
       "max": 10000,
       "style": "IPY_MODEL_a13ff833497e42a18f1849466ac68c1b"
      }
     },
     "7180f3bc746e47908a3dbb39086cb553": {
      "model_module": "@jupyter-widgets/controls",
      "model_module_version": "1.5.0",
      "model_name": "HTMLModel",
      "state": {
       "layout": "IPY_MODEL_21e05561e81f406d9a05eaab4f747459",
       "style": "IPY_MODEL_2c12b891ae414e7ba421f1b6be3d0bcf",
       "value": " 0/12 [00:52&lt;?, ?it/s]"
      }
     },
     "71a52d1d39ab4b56a3406b1eeb3f7040": {
      "model_module": "@jupyter-widgets/controls",
      "model_module_version": "1.5.0",
      "model_name": "FloatProgressModel",
      "state": {
       "bar_style": "danger",
       "description": "Valid iteration=0:   0%",
       "layout": "IPY_MODEL_4b6e2d39e34746c582e0e3235c9c3a67",
       "max": 5000,
       "style": "IPY_MODEL_1488c5facbb64c2ea6541cbadb7b264c"
      }
     },
     "71c3369555fc42539f9e7af7525559bb": {
      "model_module": "@jupyter-widgets/controls",
      "model_module_version": "1.5.0",
      "model_name": "HBoxModel",
      "state": {
       "children": [
        "IPY_MODEL_879c007e27d54db9a4a8752b1ab1af64",
        "IPY_MODEL_1284c75bcd094a4eb87b0e242e239b38"
       ],
       "layout": "IPY_MODEL_bdc4146bdbf24c138700e46de02dbc53"
      }
     },
     "71cc25055f3a4f9c8cbed644c7f4b00d": {
      "model_module": "@jupyter-widgets/controls",
      "model_module_version": "1.5.0",
      "model_name": "HBoxModel",
      "state": {
       "children": [
        "IPY_MODEL_53cf4b2fd2924cfd9e0222e9b08bac6d",
        "IPY_MODEL_6b44d63b5260476f8a40d865e3263fb9"
       ],
       "layout": "IPY_MODEL_e504e8361dcd44149f3c876bc1654b54"
      }
     },
     "71cd3f57fa26468a9553ddd1a8deed85": {
      "model_module": "@jupyter-widgets/base",
      "model_module_version": "1.2.0",
      "model_name": "LayoutModel",
      "state": {}
     },
     "71d22429344f4b92ad14147eb36860fa": {
      "model_module": "@jupyter-widgets/controls",
      "model_module_version": "1.5.0",
      "model_name": "HTMLModel",
      "state": {
       "layout": "IPY_MODEL_07807f8849604dbab75714bce1b0b689",
       "style": "IPY_MODEL_51b59fd83ff744309b631dcbbe0e1069",
       "value": " 0/10000 [00:01&lt;?, ?it/s]"
      }
     },
     "71e39e1b7755424fbec107ffe3a703ce": {
      "model_module": "@jupyter-widgets/base",
      "model_module_version": "1.2.0",
      "model_name": "LayoutModel",
      "state": {}
     },
     "71e7ecf613eb4cb6860139fb55363ed5": {
      "model_module": "@jupyter-widgets/controls",
      "model_module_version": "1.5.0",
      "model_name": "DescriptionStyleModel",
      "state": {
       "description_width": ""
      }
     },
     "71ef4c988f0c49bab9765625a028d7e6": {
      "model_module": "@jupyter-widgets/controls",
      "model_module_version": "1.5.0",
      "model_name": "DescriptionStyleModel",
      "state": {
       "description_width": ""
      }
     },
     "71fc3c9fc9084bc48fe1f7931097250f": {
      "model_module": "@jupyter-widgets/controls",
      "model_module_version": "1.5.0",
      "model_name": "ProgressStyleModel",
      "state": {
       "description_width": "initial"
      }
     },
     "72016f1a124a421e9797bde45bfde5d2": {
      "model_module": "@jupyter-widgets/controls",
      "model_module_version": "1.5.0",
      "model_name": "FloatProgressModel",
      "state": {
       "bar_style": "danger",
       "description": "Train epoch=0:  29%",
       "layout": "IPY_MODEL_fbcb344c487345f9ab161e0f9c49843c",
       "max": 45000,
       "style": "IPY_MODEL_2650c582f40b495d8fc62110e755940b",
       "value": 12826
      }
     },
     "720657d9d1f54d1383fa97c3c4718d2c": {
      "model_module": "@jupyter-widgets/controls",
      "model_module_version": "1.5.0",
      "model_name": "FloatProgressModel",
      "state": {
       "bar_style": "danger",
       "description": "Valid iteration=0:   0%",
       "layout": "IPY_MODEL_31d07afdd21a4a7d894195c6de1d0e81",
       "max": 10000,
       "style": "IPY_MODEL_8778f0ff517d4edebfa4578e29b15abf"
      }
     },
     "7232f9ece9fb40348997ebae50564beb": {
      "model_module": "@jupyter-widgets/base",
      "model_module_version": "1.2.0",
      "model_name": "LayoutModel",
      "state": {}
     },
     "723df77532b54b3189b576215ea5a8be": {
      "model_module": "@jupyter-widgets/controls",
      "model_module_version": "1.5.0",
      "model_name": "ProgressStyleModel",
      "state": {
       "description_width": "initial"
      }
     },
     "72403f691dee477b8b35d58dd83a82e2": {
      "model_module": "@jupyter-widgets/controls",
      "model_module_version": "1.5.0",
      "model_name": "ProgressStyleModel",
      "state": {
       "description_width": "initial"
      }
     },
     "725a766141d6412fab824f46f804a895": {
      "model_module": "@jupyter-widgets/base",
      "model_module_version": "1.2.0",
      "model_name": "LayoutModel",
      "state": {}
     },
     "726dccaea96f440bb3ca9ff13203213c": {
      "model_module": "@jupyter-widgets/controls",
      "model_module_version": "1.5.0",
      "model_name": "FloatProgressModel",
      "state": {
       "bar_style": "danger",
       "description": "Valid iteration=6000:   0%",
       "layout": "IPY_MODEL_96c5ead63701429ab10d89d929813589",
       "max": 10000,
       "style": "IPY_MODEL_321a9e1348f747aab82864cefcab71c0"
      }
     },
     "72759a48a27a4c9ea6b0fd60cb7b14ee": {
      "model_module": "@jupyter-widgets/controls",
      "model_module_version": "1.5.0",
      "model_name": "ProgressStyleModel",
      "state": {
       "description_width": "initial"
      }
     },
     "728166b5e3154913b34b97bbc4ea8bf5": {
      "model_module": "@jupyter-widgets/base",
      "model_module_version": "1.2.0",
      "model_name": "LayoutModel",
      "state": {}
     },
     "729d2fa2f0e14fdba4e20d0291737b04": {
      "model_module": "@jupyter-widgets/base",
      "model_module_version": "1.2.0",
      "model_name": "LayoutModel",
      "state": {}
     },
     "72a67b71f7bd4179b557c90fa36f3412": {
      "model_module": "@jupyter-widgets/controls",
      "model_module_version": "1.5.0",
      "model_name": "FloatProgressModel",
      "state": {
       "bar_style": "danger",
       "description": "Valid iteration=0:   0%",
       "layout": "IPY_MODEL_52ee251ecdc44e50ad4da6f436074673",
       "max": 10000,
       "style": "IPY_MODEL_0d87c55369dc40068b2afe824c3b8abf"
      }
     },
     "72e166a9d73f4948b807b5b021d73f10": {
      "model_module": "@jupyter-widgets/base",
      "model_module_version": "1.2.0",
      "model_name": "LayoutModel",
      "state": {}
     },
     "7311f3b9503c4c4c9ecdbb507996db66": {
      "model_module": "@jupyter-widgets/base",
      "model_module_version": "1.2.0",
      "model_name": "LayoutModel",
      "state": {}
     },
     "731d40eb9c634483a1fb8a4b4f8bf455": {
      "model_module": "@jupyter-widgets/controls",
      "model_module_version": "1.5.0",
      "model_name": "HTMLModel",
      "state": {
       "layout": "IPY_MODEL_3ce038c4008e469dbb098cff3dfc1aa8",
       "style": "IPY_MODEL_4e46344d8fe14a6bb6375c97f8a2ad7c",
       "value": " 541/45000 [02:44&lt;3:48:05,  3.25it/s]"
      }
     },
     "7327df87cb2f476084da5d67571a8df9": {
      "model_module": "@jupyter-widgets/controls",
      "model_module_version": "1.5.0",
      "model_name": "HTMLModel",
      "state": {
       "layout": "IPY_MODEL_209797e11c1d444599a0f6c7dae07a88",
       "style": "IPY_MODEL_5c6bd313fdf94853abf94e976b17f6b2",
       "value": " 0/90000 [00:25&lt;?, ?it/s]"
      }
     },
     "732c321f63ff4dcc8bae45e9806c5f4d": {
      "model_module": "@jupyter-widgets/base",
      "model_module_version": "1.2.0",
      "model_name": "LayoutModel",
      "state": {}
     },
     "733b41fab09e4ecfb9bdd509bebefd1a": {
      "model_module": "@jupyter-widgets/controls",
      "model_module_version": "1.5.0",
      "model_name": "HBoxModel",
      "state": {
       "children": [
        "IPY_MODEL_b297c92f752e4263afc524eb92fd9765",
        "IPY_MODEL_e6ef1298ee104fcfb70811c1211a7ec5"
       ],
       "layout": "IPY_MODEL_26701c6d5b05466993e86b263bcf3dd5"
      }
     },
     "733dc6c737404f2eb9439fa21894050f": {
      "model_module": "@jupyter-widgets/controls",
      "model_module_version": "1.5.0",
      "model_name": "HTMLModel",
      "state": {
       "layout": "IPY_MODEL_bc1a438f2f3644a3b3872a997f3665db",
       "style": "IPY_MODEL_5d09b4ca208f4869ab379f667a1913df",
       "value": " 0/23 [01:10&lt;?, ?it/s]"
      }
     },
     "7345f0226cd546008af718c5b8b7f10f": {
      "model_module": "@jupyter-widgets/base",
      "model_module_version": "1.2.0",
      "model_name": "LayoutModel",
      "state": {}
     },
     "734bfde315924a66b1730df17f85d2d9": {
      "model_module": "@jupyter-widgets/base",
      "model_module_version": "1.2.0",
      "model_name": "LayoutModel",
      "state": {}
     },
     "737bf82f2c514e108232f2843b021295": {
      "model_module": "@jupyter-widgets/controls",
      "model_module_version": "1.5.0",
      "model_name": "FloatProgressModel",
      "state": {
       "bar_style": "danger",
       "description": "Train epoch=0:   0%",
       "layout": "IPY_MODEL_84337e42097f4647b8afb4508e9295dc",
       "max": 90000,
       "style": "IPY_MODEL_e2bb8bdddb2c49008242467e6bb83dbd"
      }
     },
     "73833548d7ce4a1b9f4f4637e3ad6c57": {
      "model_module": "@jupyter-widgets/controls",
      "model_module_version": "1.5.0",
      "model_name": "ProgressStyleModel",
      "state": {
       "description_width": "initial"
      }
     },
     "738e4e2dc2a4416cb1cbd62a8cc49273": {
      "model_module": "@jupyter-widgets/controls",
      "model_module_version": "1.5.0",
      "model_name": "ProgressStyleModel",
      "state": {
       "description_width": "initial"
      }
     },
     "739a3d810e13411795eaeb5d5796435d": {
      "model_module": "@jupyter-widgets/controls",
      "model_module_version": "1.5.0",
      "model_name": "HTMLModel",
      "state": {
       "layout": "IPY_MODEL_8bd178208e8c4ee2b02927015c3427b7",
       "style": "IPY_MODEL_b689e229f452456a855fc152411a88ae",
       "value": " 9/90000 [00:05&lt;12:13:35,  2.04it/s]"
      }
     },
     "73a79b7b894a44c78d917519969b4df3": {
      "model_module": "@jupyter-widgets/controls",
      "model_module_version": "1.5.0",
      "model_name": "HTMLModel",
      "state": {
       "layout": "IPY_MODEL_a167f4649acb4ffebe9cc0a32e951e6f",
       "style": "IPY_MODEL_11d3aff2910542739a5df7de61eb9d81",
       "value": " 0/12 [00:25&lt;?, ?it/s]"
      }
     },
     "7403aeffe6c747439d01567223c5d418": {
      "model_module": "@jupyter-widgets/controls",
      "model_module_version": "1.5.0",
      "model_name": "ProgressStyleModel",
      "state": {
       "description_width": "initial"
      }
     },
     "7406b44796ec4ca7b3dded4d00404ede": {
      "model_module": "@jupyter-widgets/base",
      "model_module_version": "1.2.0",
      "model_name": "LayoutModel",
      "state": {}
     },
     "741a60f226244e1aa661636d41dab3ad": {
      "model_module": "@jupyter-widgets/base",
      "model_module_version": "1.2.0",
      "model_name": "LayoutModel",
      "state": {}
     },
     "7428156beff44861b59990a274d3d4de": {
      "model_module": "@jupyter-widgets/controls",
      "model_module_version": "1.5.0",
      "model_name": "FloatProgressModel",
      "state": {
       "bar_style": "danger",
       "description": "Valid iteration=2000:   0%",
       "layout": "IPY_MODEL_be22f80c4b2648d99da2af4b3d14aea5",
       "max": 5000,
       "style": "IPY_MODEL_6efdbabc38b54bdba418e5ee764468e2"
      }
     },
     "743a51a8ec6449908864f4d46cf0eb74": {
      "model_module": "@jupyter-widgets/controls",
      "model_module_version": "1.5.0",
      "model_name": "ProgressStyleModel",
      "state": {
       "description_width": "initial"
      }
     },
     "743aa166a95f4cde9ef125db5aa142b7": {
      "model_module": "@jupyter-widgets/controls",
      "model_module_version": "1.5.0",
      "model_name": "HBoxModel",
      "state": {
       "children": [
        "IPY_MODEL_17cf85f3529c44bcb9b7b2a791d30af7",
        "IPY_MODEL_aada134e33e94fe7ad4f0825f6b72d8b"
       ],
       "layout": "IPY_MODEL_a5125210980b406d8580dbf5c4c4545b"
      }
     },
     "743dd3623bc94b189f07b698588ea53f": {
      "model_module": "@jupyter-widgets/controls",
      "model_module_version": "1.5.0",
      "model_name": "HBoxModel",
      "state": {
       "children": [
        "IPY_MODEL_b64ef6424c164d9dad9dc53ca2dcaa60",
        "IPY_MODEL_d0401e7d790c4107874788bef834ba8a"
       ],
       "layout": "IPY_MODEL_015c6d113b974d03a9ab7828fdcf28cc"
      }
     },
     "7440542146c14f4aa19efce0341e1127": {
      "model_module": "@jupyter-widgets/controls",
      "model_module_version": "1.5.0",
      "model_name": "ProgressStyleModel",
      "state": {
       "description_width": "initial"
      }
     },
     "7445ad56445842029ddb5e59f3418d17": {
      "model_module": "@jupyter-widgets/base",
      "model_module_version": "1.2.0",
      "model_name": "LayoutModel",
      "state": {}
     },
     "7448afd4f81347bf883050d98993d6f6": {
      "model_module": "@jupyter-widgets/base",
      "model_module_version": "1.2.0",
      "model_name": "LayoutModel",
      "state": {}
     },
     "7460c55298c34085a86264496a156632": {
      "model_module": "@jupyter-widgets/base",
      "model_module_version": "1.2.0",
      "model_name": "LayoutModel",
      "state": {}
     },
     "746b85c2151f4f6d8a0937954f919921": {
      "model_module": "@jupyter-widgets/base",
      "model_module_version": "1.2.0",
      "model_name": "LayoutModel",
      "state": {}
     },
     "74956770010d4428bf6271a1291c4834": {
      "model_module": "@jupyter-widgets/controls",
      "model_module_version": "1.5.0",
      "model_name": "HBoxModel",
      "state": {
       "children": [
        "IPY_MODEL_e919949156e64979836a4739edc00978",
        "IPY_MODEL_21eff853974f47f49c2d1c3278a615ed"
       ],
       "layout": "IPY_MODEL_762c3aa42c0a401d90734d46bfe1497b"
      }
     },
     "74aa99b434614848bb3527f140a249db": {
      "model_module": "@jupyter-widgets/controls",
      "model_module_version": "1.5.0",
      "model_name": "HTMLModel",
      "state": {
       "layout": "IPY_MODEL_8d6f813b3c584230b726454790cd0274",
       "style": "IPY_MODEL_f9351909a214466f9c5f324cc655b40e",
       "value": " 0/23 [01:31&lt;?, ?it/s]"
      }
     },
     "74adb5c9e080424596bc712925eec5ed": {
      "model_module": "@jupyter-widgets/base",
      "model_module_version": "1.2.0",
      "model_name": "LayoutModel",
      "state": {}
     },
     "74c212022eb141b49442cc1ea89c4d10": {
      "model_module": "@jupyter-widgets/base",
      "model_module_version": "1.2.0",
      "model_name": "LayoutModel",
      "state": {}
     },
     "74e2dc0a46fd4bb192b6731e49093bc2": {
      "model_module": "@jupyter-widgets/base",
      "model_module_version": "1.2.0",
      "model_name": "LayoutModel",
      "state": {}
     },
     "74f36cc2526a4f88957694e5d12ef0b2": {
      "model_module": "@jupyter-widgets/base",
      "model_module_version": "1.2.0",
      "model_name": "LayoutModel",
      "state": {}
     },
     "752cfdeabe10461fa80c1f731610d11a": {
      "model_module": "@jupyter-widgets/controls",
      "model_module_version": "1.5.0",
      "model_name": "ProgressStyleModel",
      "state": {
       "description_width": "initial"
      }
     },
     "7531475046564cab96b44ac5eb7d9942": {
      "model_module": "@jupyter-widgets/controls",
      "model_module_version": "1.5.0",
      "model_name": "HTMLModel",
      "state": {
       "layout": "IPY_MODEL_5d42ae279f8e4a92bf3d82d5cdce91da",
       "style": "IPY_MODEL_7d8bbe38aed0434999405da827124951",
       "value": " 0/90000 [01:01&lt;?, ?it/s]"
      }
     },
     "754648802c8a4e46b1a7e57cfc3be00f": {
      "model_module": "@jupyter-widgets/base",
      "model_module_version": "1.2.0",
      "model_name": "LayoutModel",
      "state": {}
     },
     "754b757d59434d20aa992ef45d9c28e3": {
      "model_module": "@jupyter-widgets/controls",
      "model_module_version": "1.5.0",
      "model_name": "FloatProgressModel",
      "state": {
       "bar_style": "danger",
       "description": "Train epoch=0:   0%",
       "layout": "IPY_MODEL_5c9e85e946404658afeca1787d50c8bf",
       "max": 90000,
       "style": "IPY_MODEL_91ebdb1433e94b3797d04c445bb113c6",
       "value": 17
      }
     },
     "754cb9e0afc74bf4bac631385961d1dc": {
      "model_module": "@jupyter-widgets/controls",
      "model_module_version": "1.5.0",
      "model_name": "ProgressStyleModel",
      "state": {
       "description_width": "initial"
      }
     },
     "756b61b51c9d49e1bb4d8946a8d50d03": {
      "model_module": "@jupyter-widgets/base",
      "model_module_version": "1.2.0",
      "model_name": "LayoutModel",
      "state": {}
     },
     "758660b0a5c24487b057d427f48cfc0c": {
      "model_module": "@jupyter-widgets/controls",
      "model_module_version": "1.5.0",
      "model_name": "DescriptionStyleModel",
      "state": {
       "description_width": ""
      }
     },
     "7587a75244414f24b931568de0023349": {
      "model_module": "@jupyter-widgets/controls",
      "model_module_version": "1.5.0",
      "model_name": "HTMLModel",
      "state": {
       "layout": "IPY_MODEL_8b78e743012147799e1f882133169a49",
       "style": "IPY_MODEL_2b79f3314bc842d28c114a680f6f6a6e",
       "value": " 1492/90000 [07:11&lt;4:41:09,  5.25it/s]"
      }
     },
     "75a955c02eca458b961ca01d7998cf05": {
      "model_module": "@jupyter-widgets/controls",
      "model_module_version": "1.5.0",
      "model_name": "HTMLModel",
      "state": {
       "layout": "IPY_MODEL_9de421ba4cac41298f0022b0087c1f6c",
       "style": "IPY_MODEL_140183c8bab3407caa567dc3bf25a58d",
       "value": " 0/5000 [14:20&lt;?, ?it/s]"
      }
     },
     "75c7272ee54b49778a7f169a365729da": {
      "model_module": "@jupyter-widgets/controls",
      "model_module_version": "1.5.0",
      "model_name": "HBoxModel",
      "state": {
       "children": [
        "IPY_MODEL_5fdc6fa0ecae4ff4ad1b19b14704c315",
        "IPY_MODEL_d33b47f8e0df4588b01afb09843ef82c"
       ],
       "layout": "IPY_MODEL_f23945e6f1754e35ab415b020bc1a09c"
      }
     },
     "75f1fde238d54abe851e5a7f0ea1d4ec": {
      "model_module": "@jupyter-widgets/base",
      "model_module_version": "1.2.0",
      "model_name": "LayoutModel",
      "state": {}
     },
     "75fac48086c740ce9943d1ee394bca77": {
      "model_module": "@jupyter-widgets/base",
      "model_module_version": "1.2.0",
      "model_name": "LayoutModel",
      "state": {}
     },
     "760daa0524ea4516984f6604d62d488e": {
      "model_module": "@jupyter-widgets/controls",
      "model_module_version": "1.5.0",
      "model_name": "FloatProgressModel",
      "state": {
       "bar_style": "danger",
       "description": "Train epoch=0:   1%",
       "layout": "IPY_MODEL_70955d2bfcb44d4fbd9679ecfdaac87e",
       "max": 90000,
       "style": "IPY_MODEL_5813452dc28f4d3c8a1fd05de6ff88ee",
       "value": 674
      }
     },
     "76166cc6c7134261b8737ad1eda902f8": {
      "model_module": "@jupyter-widgets/base",
      "model_module_version": "1.2.0",
      "model_name": "LayoutModel",
      "state": {}
     },
     "761ae5b06f654c3a993a4b92c79b6e4e": {
      "model_module": "@jupyter-widgets/base",
      "model_module_version": "1.2.0",
      "model_name": "LayoutModel",
      "state": {}
     },
     "762080dce1f84c4d898bcc45745994fd": {
      "model_module": "@jupyter-widgets/base",
      "model_module_version": "1.2.0",
      "model_name": "LayoutModel",
      "state": {}
     },
     "76238e2b606646b997d8bd9e2969b72b": {
      "model_module": "@jupyter-widgets/base",
      "model_module_version": "1.2.0",
      "model_name": "LayoutModel",
      "state": {}
     },
     "762c3aa42c0a401d90734d46bfe1497b": {
      "model_module": "@jupyter-widgets/base",
      "model_module_version": "1.2.0",
      "model_name": "LayoutModel",
      "state": {}
     },
     "763dd323925e4efbbf66d5b3394088d5": {
      "model_module": "@jupyter-widgets/controls",
      "model_module_version": "1.5.0",
      "model_name": "FloatProgressModel",
      "state": {
       "bar_style": "danger",
       "description": "Train:   0%",
       "layout": "IPY_MODEL_471893a391034416a70cb50c95b00a9b",
       "max": 12,
       "style": "IPY_MODEL_c1f6f627184c479bb547507620044145"
      }
     },
     "7655746a962e4775805be0a28ce5654c": {
      "model_module": "@jupyter-widgets/base",
      "model_module_version": "1.2.0",
      "model_name": "LayoutModel",
      "state": {}
     },
     "76a8365098c84a3bb75ae0b6219d1dfa": {
      "model_module": "@jupyter-widgets/controls",
      "model_module_version": "1.5.0",
      "model_name": "FloatProgressModel",
      "state": {
       "bar_style": "danger",
       "description": "Train:   0%",
       "layout": "IPY_MODEL_38c375e79745443ca5aa202fe9eb7f13",
       "max": 12,
       "style": "IPY_MODEL_8a5b6b8956c44a86bc0657c1ba7b1603"
      }
     },
     "76d666ee9d024bdfb4378b54fc93ce62": {
      "model_module": "@jupyter-widgets/controls",
      "model_module_version": "1.5.0",
      "model_name": "ProgressStyleModel",
      "state": {
       "description_width": "initial"
      }
     },
     "77005d70fdf0450baf3e23ac8ccd6483": {
      "model_module": "@jupyter-widgets/controls",
      "model_module_version": "1.5.0",
      "model_name": "FloatProgressModel",
      "state": {
       "bar_style": "danger",
       "description": "Train:   0%",
       "layout": "IPY_MODEL_0a04bac07e454535b73a9efb7fb906d2",
       "max": 23,
       "style": "IPY_MODEL_24618250935c422c8c10ddc8f09ba025"
      }
     },
     "770c7fe23d4b4b9bb5c1c155e3b8dadd": {
      "model_module": "@jupyter-widgets/base",
      "model_module_version": "1.2.0",
      "model_name": "LayoutModel",
      "state": {}
     },
     "776b5d4ffe504bebb1fcc1be18c84bdc": {
      "model_module": "@jupyter-widgets/controls",
      "model_module_version": "1.5.0",
      "model_name": "ProgressStyleModel",
      "state": {
       "description_width": "initial"
      }
     },
     "776daa40b91d4817b122e81ac82066c6": {
      "model_module": "@jupyter-widgets/controls",
      "model_module_version": "1.5.0",
      "model_name": "FloatProgressModel",
      "state": {
       "bar_style": "danger",
       "description": "Valid iteration=0:   0%",
       "layout": "IPY_MODEL_c830b8e1c41e4e309d772ce38d7d1bdc",
       "max": 10000,
       "style": "IPY_MODEL_9dd8d100a023440e80445e1d9f07162b"
      }
     },
     "77718e8633da4bfa9a957934704ae27b": {
      "model_module": "@jupyter-widgets/base",
      "model_module_version": "1.2.0",
      "model_name": "LayoutModel",
      "state": {}
     },
     "7794569ac6664aceabbabbe3bddcbab0": {
      "model_module": "@jupyter-widgets/controls",
      "model_module_version": "1.5.0",
      "model_name": "FloatProgressModel",
      "state": {
       "bar_style": "danger",
       "description": "Train:   0%",
       "layout": "IPY_MODEL_f89a1232ef7c48b38e82b405cc7cfdc4",
       "max": 12,
       "style": "IPY_MODEL_1f17a0a2f1b64a24b4ee73a965ce7b35"
      }
     },
     "77bbe16a8b3841b8ab2e70d3824f419b": {
      "model_module": "@jupyter-widgets/base",
      "model_module_version": "1.2.0",
      "model_name": "LayoutModel",
      "state": {}
     },
     "77c3ff04d9934202935bc4deae4b0422": {
      "model_module": "@jupyter-widgets/base",
      "model_module_version": "1.2.0",
      "model_name": "LayoutModel",
      "state": {}
     },
     "77c480a857914721bd3b7714171cd93e": {
      "model_module": "@jupyter-widgets/controls",
      "model_module_version": "1.5.0",
      "model_name": "FloatProgressModel",
      "state": {
       "bar_style": "danger",
       "description": "Valid iteration=0:   0%",
       "layout": "IPY_MODEL_c35201a57dc5417bb9ccecb736661a0b",
       "max": 5000,
       "style": "IPY_MODEL_7d3d77bc66e74e0190ba459caf947263"
      }
     },
     "77d553d28b604649b7df1a808f82551e": {
      "model_module": "@jupyter-widgets/controls",
      "model_module_version": "1.5.0",
      "model_name": "FloatProgressModel",
      "state": {
       "bar_style": "danger",
       "description": "Train epoch=0:   0%",
       "layout": "IPY_MODEL_5a9599b693c546809b41c0a13196565b",
       "max": 90000,
       "style": "IPY_MODEL_328404aaf64a4bff99a74546ea4aef18",
       "value": 25
      }
     },
     "780202170b7944ba85dc9589ae3540da": {
      "model_module": "@jupyter-widgets/controls",
      "model_module_version": "1.5.0",
      "model_name": "HBoxModel",
      "state": {
       "children": [
        "IPY_MODEL_92b30bffc1144b3ab220684fb3727690",
        "IPY_MODEL_7964ec8455f54d05bd16a0ee305c37af"
       ],
       "layout": "IPY_MODEL_0cbbcb25ed1e4abdb654ea06fd4f426c"
      }
     },
     "78085392655343f5b38fefb9615b7d17": {
      "model_module": "@jupyter-widgets/base",
      "model_module_version": "1.2.0",
      "model_name": "LayoutModel",
      "state": {}
     },
     "7811b67dac4f43c8915fd0315f5eca04": {
      "model_module": "@jupyter-widgets/controls",
      "model_module_version": "1.5.0",
      "model_name": "DescriptionStyleModel",
      "state": {
       "description_width": ""
      }
     },
     "7811c16330194a959abf0a2789b0ef0b": {
      "model_module": "@jupyter-widgets/base",
      "model_module_version": "1.2.0",
      "model_name": "LayoutModel",
      "state": {}
     },
     "7830e683a9154ebeb08688b0bbdf169a": {
      "model_module": "@jupyter-widgets/base",
      "model_module_version": "1.2.0",
      "model_name": "LayoutModel",
      "state": {}
     },
     "784fb98daab949e58205b718a96e3de1": {
      "model_module": "@jupyter-widgets/controls",
      "model_module_version": "1.5.0",
      "model_name": "ProgressStyleModel",
      "state": {
       "description_width": "initial"
      }
     },
     "789380c063264c71a98bc3f4741177ae": {
      "model_module": "@jupyter-widgets/controls",
      "model_module_version": "1.5.0",
      "model_name": "DescriptionStyleModel",
      "state": {
       "description_width": ""
      }
     },
     "789d71c211d34d5f84b0f8bb7682594a": {
      "model_module": "@jupyter-widgets/controls",
      "model_module_version": "1.5.0",
      "model_name": "HBoxModel",
      "state": {
       "children": [
        "IPY_MODEL_f7f6a2688558489ca5d8676e2e55b011",
        "IPY_MODEL_623fa87de1d6420f924f793905ace12c"
       ],
       "layout": "IPY_MODEL_c53bb38ff7d543c29b2be81deb085eda"
      }
     },
     "78a0c63436e64b71b945f46045ddd72c": {
      "model_module": "@jupyter-widgets/base",
      "model_module_version": "1.2.0",
      "model_name": "LayoutModel",
      "state": {}
     },
     "78a255f0b3a24ba888766b811a4c39e7": {
      "model_module": "@jupyter-widgets/base",
      "model_module_version": "1.2.0",
      "model_name": "LayoutModel",
      "state": {}
     },
     "78ef61c1e6c046b4b140eab5cf15d90b": {
      "model_module": "@jupyter-widgets/base",
      "model_module_version": "1.2.0",
      "model_name": "LayoutModel",
      "state": {}
     },
     "78fb64e8d79c4faa8eff7a8fd457675b": {
      "model_module": "@jupyter-widgets/controls",
      "model_module_version": "1.5.0",
      "model_name": "HBoxModel",
      "state": {
       "children": [
        "IPY_MODEL_c2ae99aeae49410286390ce29539cd3f",
        "IPY_MODEL_19903bf60d0746b8a42ee5b69871a0f5"
       ],
       "layout": "IPY_MODEL_1d7231b9f8a24230bd5f5cb667645c85"
      }
     },
     "78fe4bff46634858b327a853899e05de": {
      "model_module": "@jupyter-widgets/controls",
      "model_module_version": "1.5.0",
      "model_name": "FloatProgressModel",
      "state": {
       "bar_style": "danger",
       "description": "Valid iteration=0:   0%",
       "layout": "IPY_MODEL_11d56427cea34d2d97f4e1e612f30959",
       "max": 5000,
       "style": "IPY_MODEL_52657a4662a149a5a70ad40168b6b0d7"
      }
     },
     "790a6bf944fd4780a153228ac44be14a": {
      "model_module": "@jupyter-widgets/base",
      "model_module_version": "1.2.0",
      "model_name": "LayoutModel",
      "state": {}
     },
     "7919d6b8f1ec4bd38ded87287fd3415e": {
      "model_module": "@jupyter-widgets/controls",
      "model_module_version": "1.5.0",
      "model_name": "DescriptionStyleModel",
      "state": {
       "description_width": ""
      }
     },
     "792374f3a22c43509caaf3b4ad19b5ab": {
      "model_module": "@jupyter-widgets/controls",
      "model_module_version": "1.5.0",
      "model_name": "FloatProgressModel",
      "state": {
       "bar_style": "danger",
       "description": "Valid iteration=4000:   0%",
       "layout": "IPY_MODEL_07871d78b75d4df7ad2f8a910f112d9d",
       "max": 10000,
       "style": "IPY_MODEL_c5650b68b02842ca9b1d143a37b303d2"
      }
     },
     "79323c4760fa4864aaeac7e7b25b88b2": {
      "model_module": "@jupyter-widgets/controls",
      "model_module_version": "1.5.0",
      "model_name": "ProgressStyleModel",
      "state": {
       "description_width": "initial"
      }
     },
     "79335c584e0541de8a4283fb7407c4cf": {
      "model_module": "@jupyter-widgets/controls",
      "model_module_version": "1.5.0",
      "model_name": "DescriptionStyleModel",
      "state": {
       "description_width": ""
      }
     },
     "7945d726abad42d7b44540fb9d01c656": {
      "model_module": "@jupyter-widgets/controls",
      "model_module_version": "1.5.0",
      "model_name": "DescriptionStyleModel",
      "state": {
       "description_width": ""
      }
     },
     "794796f0c34d45d9aedddab989ca87a2": {
      "model_module": "@jupyter-widgets/controls",
      "model_module_version": "1.5.0",
      "model_name": "HBoxModel",
      "state": {
       "children": [
        "IPY_MODEL_bd819c2c4cec4bb79889f78313abb29f",
        "IPY_MODEL_b16c2a4c5f654840a60abe1b87567c27"
       ],
       "layout": "IPY_MODEL_1808624a3b5c4e9ba089652e1405ab9c"
      }
     },
     "794cb9ffbd5f4e8d84132e1628c7b37d": {
      "model_module": "@jupyter-widgets/controls",
      "model_module_version": "1.5.0",
      "model_name": "FloatProgressModel",
      "state": {
       "bar_style": "danger",
       "description": "Train:   0%",
       "layout": "IPY_MODEL_5280183aac18425bac2415fd9d2f0993",
       "max": 12,
       "style": "IPY_MODEL_59346b636df241d093573e1c90140002"
      }
     },
     "794d020356ec48958b0ba7de961a4ab0": {
      "model_module": "@jupyter-widgets/base",
      "model_module_version": "1.2.0",
      "model_name": "LayoutModel",
      "state": {}
     },
     "7952321af75d495bb04c3227d7af3627": {
      "model_module": "@jupyter-widgets/controls",
      "model_module_version": "1.5.0",
      "model_name": "ProgressStyleModel",
      "state": {
       "description_width": "initial"
      }
     },
     "7955751d3fdb458d8dab906d9d728ed5": {
      "model_module": "@jupyter-widgets/base",
      "model_module_version": "1.2.0",
      "model_name": "LayoutModel",
      "state": {}
     },
     "7964cb2f0887423a8a48e86c479907fd": {
      "model_module": "@jupyter-widgets/controls",
      "model_module_version": "1.5.0",
      "model_name": "ProgressStyleModel",
      "state": {
       "description_width": "initial"
      }
     },
     "7964ec8455f54d05bd16a0ee305c37af": {
      "model_module": "@jupyter-widgets/controls",
      "model_module_version": "1.5.0",
      "model_name": "HTMLModel",
      "state": {
       "layout": "IPY_MODEL_fc8c90f4bf78414c811c4820718b64b6",
       "style": "IPY_MODEL_86a761a9688b41c6998ebe15fc2661af",
       "value": " 1522/90000 [09:01&lt;8:25:26,  2.92it/s]"
      }
     },
     "7970bde0ce9041f3a909a5717b1d1a28": {
      "model_module": "@jupyter-widgets/base",
      "model_module_version": "1.2.0",
      "model_name": "LayoutModel",
      "state": {}
     },
     "7973b873eeca4228afe0692c0dff94b4": {
      "model_module": "@jupyter-widgets/controls",
      "model_module_version": "1.5.0",
      "model_name": "DescriptionStyleModel",
      "state": {
       "description_width": ""
      }
     },
     "797ee0a01ace4138aa0c86732f173753": {
      "model_module": "@jupyter-widgets/controls",
      "model_module_version": "1.5.0",
      "model_name": "HBoxModel",
      "state": {
       "children": [
        "IPY_MODEL_238d7a6845eb4888beb23012a050ca12",
        "IPY_MODEL_23594f6bb1044f349ed0c94b795a15b9"
       ],
       "layout": "IPY_MODEL_7cd2e66047f742e5986d1b94d53bb74a"
      }
     },
     "799ad490924f423d8e5012bda4539073": {
      "model_module": "@jupyter-widgets/controls",
      "model_module_version": "1.5.0",
      "model_name": "HBoxModel",
      "state": {
       "children": [
        "IPY_MODEL_fcd30694cb62468d88f525da761ecc6a",
        "IPY_MODEL_b484479a781c4ed98042e6d959ecb9dd"
       ],
       "layout": "IPY_MODEL_39749eb51d8143e08921fd2573a10ff1"
      }
     },
     "79a8980de4154f848287192f2b734e6b": {
      "model_module": "@jupyter-widgets/controls",
      "model_module_version": "1.5.0",
      "model_name": "DescriptionStyleModel",
      "state": {
       "description_width": ""
      }
     },
     "79bafc963ab84687885796f8a8b8f409": {
      "model_module": "@jupyter-widgets/base",
      "model_module_version": "1.2.0",
      "model_name": "LayoutModel",
      "state": {}
     },
     "79c6e62de30e47c284c94f923974220f": {
      "model_module": "@jupyter-widgets/base",
      "model_module_version": "1.2.0",
      "model_name": "LayoutModel",
      "state": {}
     },
     "79ccabf36c5442c7b851799418821f3b": {
      "model_module": "@jupyter-widgets/base",
      "model_module_version": "1.2.0",
      "model_name": "LayoutModel",
      "state": {}
     },
     "79d218f31a594715ab0b2293c72cb302": {
      "model_module": "@jupyter-widgets/base",
      "model_module_version": "1.2.0",
      "model_name": "LayoutModel",
      "state": {}
     },
     "7a0fad2eeeca42c0baf6e09f15af6d45": {
      "model_module": "@jupyter-widgets/controls",
      "model_module_version": "1.5.0",
      "model_name": "HBoxModel",
      "state": {
       "children": [
        "IPY_MODEL_0f6702967c9b40ada2f048a5cfc78b10",
        "IPY_MODEL_945201c57dca41cd83e4b8fb0fb4e91c"
       ],
       "layout": "IPY_MODEL_78ef61c1e6c046b4b140eab5cf15d90b"
      }
     },
     "7a2addfb2fce41ac9c6985e7c0d19407": {
      "model_module": "@jupyter-widgets/controls",
      "model_module_version": "1.5.0",
      "model_name": "HTMLModel",
      "state": {
       "layout": "IPY_MODEL_403bc7db52ef44ee958df1c7b8592309",
       "style": "IPY_MODEL_e1273464d7ef4035942d36b297c99c8f",
       "value": " 0/12 [00:48&lt;?, ?it/s]"
      }
     },
     "7a3fde3ec0b34446967f9ac7b5a3962d": {
      "model_module": "@jupyter-widgets/base",
      "model_module_version": "1.2.0",
      "model_name": "LayoutModel",
      "state": {}
     },
     "7a6af749e6b64399a913eeb9e08c6d7a": {
      "model_module": "@jupyter-widgets/base",
      "model_module_version": "1.2.0",
      "model_name": "LayoutModel",
      "state": {}
     },
     "7a7bdd199eff4128a57c16a03dfa5262": {
      "model_module": "@jupyter-widgets/controls",
      "model_module_version": "1.5.0",
      "model_name": "HBoxModel",
      "state": {
       "children": [
        "IPY_MODEL_e32d54cf4dda407db49f566cecf55298",
        "IPY_MODEL_36383a166aed4370bb8fa3f30a7cf263"
       ],
       "layout": "IPY_MODEL_8d8483e62daa488093ca895f4867ca23"
      }
     },
     "7a89add5bd504a8daa546a2f368cd06f": {
      "model_module": "@jupyter-widgets/base",
      "model_module_version": "1.2.0",
      "model_name": "LayoutModel",
      "state": {}
     },
     "7a9c5e3501464bcf8e8da76d3b6a3c27": {
      "model_module": "@jupyter-widgets/controls",
      "model_module_version": "1.5.0",
      "model_name": "ProgressStyleModel",
      "state": {
       "description_width": "initial"
      }
     },
     "7aa0a965807c453db90a6362a0bdc148": {
      "model_module": "@jupyter-widgets/controls",
      "model_module_version": "1.5.0",
      "model_name": "FloatProgressModel",
      "state": {
       "bar_style": "danger",
       "description": "Valid iteration=0:   0%",
       "layout": "IPY_MODEL_fbb2c4ce9f5f4ec088e81571b6f0743f",
       "max": 10000,
       "style": "IPY_MODEL_1b97f3df0c6947e7a3c2a1189265cf63"
      }
     },
     "7aa740b97c754570a20f3c25dfcd1107": {
      "model_module": "@jupyter-widgets/controls",
      "model_module_version": "1.5.0",
      "model_name": "DescriptionStyleModel",
      "state": {
       "description_width": ""
      }
     },
     "7ac08f5cf8014780930ce1dfaec3bd34": {
      "model_module": "@jupyter-widgets/controls",
      "model_module_version": "1.5.0",
      "model_name": "HTMLModel",
      "state": {
       "layout": "IPY_MODEL_af73ca436bf84d68b63585bac95f8565",
       "style": "IPY_MODEL_bcac559d06dc49488a12a57b69c8d47b",
       "value": " 1072/90000 [08:10&lt;11:13:06,  2.20it/s]"
      }
     },
     "7aca2c3bb3a9427c95b0f5c47007ef96": {
      "model_module": "@jupyter-widgets/controls",
      "model_module_version": "1.5.0",
      "model_name": "HTMLModel",
      "state": {
       "layout": "IPY_MODEL_5c8e233c132547de95ad27b5c5dcf0b8",
       "style": "IPY_MODEL_7973b873eeca4228afe0692c0dff94b4",
       "value": " 5/90000 [00:11&lt;22:10:03,  1.13it/s]"
      }
     },
     "7ad3f395ef204ebaa97ed628b28d3f64": {
      "model_module": "@jupyter-widgets/controls",
      "model_module_version": "1.5.0",
      "model_name": "FloatProgressModel",
      "state": {
       "bar_style": "danger",
       "description": "Train epoch=0:   0%",
       "layout": "IPY_MODEL_fb7381c919d94c41a8f074d5b7496372",
       "max": 90000,
       "style": "IPY_MODEL_ff7f2ec465a04638b9e6086b8d6fb392",
       "value": 35
      }
     },
     "7ad8ac519e4346f3b3a53e909a18d181": {
      "model_module": "@jupyter-widgets/controls",
      "model_module_version": "1.5.0",
      "model_name": "FloatProgressModel",
      "state": {
       "bar_style": "danger",
       "description": "Train epoch=0:   0%",
       "layout": "IPY_MODEL_9175f1d278ae4dc292b60a7e9aaca88e",
       "max": 90000,
       "style": "IPY_MODEL_e9c741a8074b41a9a88ca2f9bddba699",
       "value": 29
      }
     },
     "7b46a3cf56174fbf81470bb5b087a1f9": {
      "model_module": "@jupyter-widgets/controls",
      "model_module_version": "1.5.0",
      "model_name": "FloatProgressModel",
      "state": {
       "bar_style": "danger",
       "description": "Train:   0%",
       "layout": "IPY_MODEL_43ab5534061f44e3b57db3d9c5829005",
       "max": 12,
       "style": "IPY_MODEL_12080fa013c84efdb5e97d213a47a760"
      }
     },
     "7b67b7c9843f498498f22428b186d549": {
      "model_module": "@jupyter-widgets/controls",
      "model_module_version": "1.5.0",
      "model_name": "HBoxModel",
      "state": {
       "children": [
        "IPY_MODEL_47485dbbf88a4fd19b196dd056769dac",
        "IPY_MODEL_372e4ca3b2e34da9adc9afa77bd61d55"
       ],
       "layout": "IPY_MODEL_01f93a2c90284808a9e267e6791cfbff"
      }
     },
     "7b73b919421b413daf4e7a6ef9861bce": {
      "model_module": "@jupyter-widgets/controls",
      "model_module_version": "1.5.0",
      "model_name": "DescriptionStyleModel",
      "state": {
       "description_width": ""
      }
     },
     "7b90318c917c4b86b9a5bc522e50f583": {
      "model_module": "@jupyter-widgets/controls",
      "model_module_version": "1.5.0",
      "model_name": "HTMLModel",
      "state": {
       "layout": "IPY_MODEL_78a0c63436e64b71b945f46045ddd72c",
       "style": "IPY_MODEL_cfc8e7aeeac848a59d93e1bc5aaebc80",
       "value": " 0/23 [00:52&lt;?, ?it/s]"
      }
     },
     "7b923569035b4ab5b0db98455398c7bb": {
      "model_module": "@jupyter-widgets/controls",
      "model_module_version": "1.5.0",
      "model_name": "FloatProgressModel",
      "state": {
       "bar_style": "danger",
       "description": "Train:   0%",
       "layout": "IPY_MODEL_d6e56cd019834ddfb96ff568a13f2071",
       "max": 12,
       "style": "IPY_MODEL_09c257af04744da38a4cd82af82a13f0"
      }
     },
     "7b9c1db2b7ee4816ac7a25e7de44bfe4": {
      "model_module": "@jupyter-widgets/base",
      "model_module_version": "1.2.0",
      "model_name": "LayoutModel",
      "state": {}
     },
     "7b9ca3e6b70144e7951f61e22322f7d7": {
      "model_module": "@jupyter-widgets/controls",
      "model_module_version": "1.5.0",
      "model_name": "FloatProgressModel",
      "state": {
       "bar_style": "danger",
       "description": "Train:   0%",
       "layout": "IPY_MODEL_099c9c906e7341d6906490b842b1b762",
       "max": 23,
       "style": "IPY_MODEL_58fc50cb87c34294b4a3a4169513d5d5"
      }
     },
     "7ba6ea5384044b27b75290cb9d95be79": {
      "model_module": "@jupyter-widgets/controls",
      "model_module_version": "1.5.0",
      "model_name": "DescriptionStyleModel",
      "state": {
       "description_width": ""
      }
     },
     "7bb10753cbd34c9e96ab3cb3a7e1fa04": {
      "model_module": "@jupyter-widgets/controls",
      "model_module_version": "1.5.0",
      "model_name": "FloatProgressModel",
      "state": {
       "bar_style": "danger",
       "description": "Train:   0%",
       "layout": "IPY_MODEL_48c91c2e6a074654aca11cfb0b0412f6",
       "max": 12,
       "style": "IPY_MODEL_9e310cfd2a094f3a9195b80a09e14236"
      }
     },
     "7bc2308657b74792adfe1dca49792630": {
      "model_module": "@jupyter-widgets/controls",
      "model_module_version": "1.5.0",
      "model_name": "HBoxModel",
      "state": {
       "children": [
        "IPY_MODEL_85bf1f4cf7e44520bae2bfab5843048e",
        "IPY_MODEL_f4874d9c757644e6b7312d49137a57a0"
       ],
       "layout": "IPY_MODEL_dccf1e47899a4eb3b45a564194e0c8d8"
      }
     },
     "7bcc5f95415845d89dd01d803af0c738": {
      "model_module": "@jupyter-widgets/controls",
      "model_module_version": "1.5.0",
      "model_name": "DescriptionStyleModel",
      "state": {
       "description_width": ""
      }
     },
     "7bd48d8769f140088682897676805838": {
      "model_module": "@jupyter-widgets/controls",
      "model_module_version": "1.5.0",
      "model_name": "FloatProgressModel",
      "state": {
       "bar_style": "danger",
       "description": "Train epoch=0:   0%",
       "layout": "IPY_MODEL_9071bb5c60de44d0983a283dbed3a7f9",
       "max": 90000,
       "style": "IPY_MODEL_9459c1c6bec647b4beb4ff1c94f4e5a9",
       "value": 74
      }
     },
     "7bd5182dee964b2a8387ef47e7ce6a39": {
      "model_module": "@jupyter-widgets/base",
      "model_module_version": "1.2.0",
      "model_name": "LayoutModel",
      "state": {}
     },
     "7be08377412447a383f1df0f4a07a065": {
      "model_module": "@jupyter-widgets/base",
      "model_module_version": "1.2.0",
      "model_name": "LayoutModel",
      "state": {}
     },
     "7bf52f7bc7064fbf860c9de7b70b0d06": {
      "model_module": "@jupyter-widgets/controls",
      "model_module_version": "1.5.0",
      "model_name": "DescriptionStyleModel",
      "state": {
       "description_width": ""
      }
     },
     "7bfbfafa967944f1b36c3f3e4d330d05": {
      "model_module": "@jupyter-widgets/controls",
      "model_module_version": "1.5.0",
      "model_name": "HTMLModel",
      "state": {
       "layout": "IPY_MODEL_ef6cf643a53e419496f87935f1ee8fc0",
       "style": "IPY_MODEL_7919d6b8f1ec4bd38ded87287fd3415e",
       "value": " 0/10000 [49:22&lt;?, ?it/s]"
      }
     },
     "7bfca44cb35849ef9a8b3dd7b8d90aef": {
      "model_module": "@jupyter-widgets/controls",
      "model_module_version": "1.5.0",
      "model_name": "FloatProgressModel",
      "state": {
       "bar_style": "danger",
       "description": "Train epoch=0:   0%",
       "layout": "IPY_MODEL_21e54f584fec4765bbd341aba36c55a9",
       "max": 90000,
       "style": "IPY_MODEL_b352f06b5a224ca6969f3279c3e2c81e",
       "value": 115
      }
     },
     "7c06d2f11ff64e16898eff62c0cb81f2": {
      "model_module": "@jupyter-widgets/controls",
      "model_module_version": "1.5.0",
      "model_name": "ProgressStyleModel",
      "state": {
       "description_width": "initial"
      }
     },
     "7c075ece007e4542b72bb109299524eb": {
      "model_module": "@jupyter-widgets/controls",
      "model_module_version": "1.5.0",
      "model_name": "FloatProgressModel",
      "state": {
       "bar_style": "danger",
       "description": "Train:   0%",
       "layout": "IPY_MODEL_ece6815d31aa4c7db0708a898e1c8a12",
       "max": 12,
       "style": "IPY_MODEL_e5b5e733fe374d4eac2f3c63676fa12a"
      }
     },
     "7c372d40145541a0b39a50a7dd21af35": {
      "model_module": "@jupyter-widgets/controls",
      "model_module_version": "1.5.0",
      "model_name": "HTMLModel",
      "state": {
       "layout": "IPY_MODEL_794d020356ec48958b0ba7de961a4ab0",
       "style": "IPY_MODEL_2c966bf129eb4f909cbf48da0c3da6c1",
       "value": " 0/12 [01:51&lt;?, ?it/s]"
      }
     },
     "7c445b757f254b6597ed43d94b1ec66c": {
      "model_module": "@jupyter-widgets/controls",
      "model_module_version": "1.5.0",
      "model_name": "FloatProgressModel",
      "state": {
       "bar_style": "danger",
       "description": "Train epoch=0:   0%",
       "layout": "IPY_MODEL_a00f5a73b8864d75b925c92fa3c70f12",
       "max": 90000,
       "style": "IPY_MODEL_f21eafd401494613af7f0805f23532c0",
       "value": 242
      }
     },
     "7c6c5423ab5749faa3500b37ee378894": {
      "model_module": "@jupyter-widgets/base",
      "model_module_version": "1.2.0",
      "model_name": "LayoutModel",
      "state": {}
     },
     "7c6d82ba7c4947caa95720ba49f08ffd": {
      "model_module": "@jupyter-widgets/controls",
      "model_module_version": "1.5.0",
      "model_name": "HBoxModel",
      "state": {
       "children": [
        "IPY_MODEL_5ceb2cffdc2a48d99552b347db9256d5",
        "IPY_MODEL_5ccf0399241b406b891a598e0bbdb22a"
       ],
       "layout": "IPY_MODEL_2e0f31969f3b4ec6b5a993cb6fb8dfca"
      }
     },
     "7c79acc5bb4b49d6b543d14d0dfbd1a1": {
      "model_module": "@jupyter-widgets/base",
      "model_module_version": "1.2.0",
      "model_name": "LayoutModel",
      "state": {}
     },
     "7c7ff52bcaa9451fa5397724f9282134": {
      "model_module": "@jupyter-widgets/base",
      "model_module_version": "1.2.0",
      "model_name": "LayoutModel",
      "state": {}
     },
     "7c876fe7f9964fe9ab75d05fe32c2c31": {
      "model_module": "@jupyter-widgets/controls",
      "model_module_version": "1.5.0",
      "model_name": "HTMLModel",
      "state": {
       "layout": "IPY_MODEL_7345f0226cd546008af718c5b8b7f10f",
       "style": "IPY_MODEL_a406999107714f52985570db1a27cbfa",
       "value": " 0/12 [01:36&lt;?, ?it/s]"
      }
     },
     "7c8c6cc29357422cb349fd82645cdbe1": {
      "model_module": "@jupyter-widgets/controls",
      "model_module_version": "1.5.0",
      "model_name": "ProgressStyleModel",
      "state": {
       "description_width": "initial"
      }
     },
     "7cd2e66047f742e5986d1b94d53bb74a": {
      "model_module": "@jupyter-widgets/base",
      "model_module_version": "1.2.0",
      "model_name": "LayoutModel",
      "state": {}
     },
     "7ce90e7b1081485fbbdca98a53a0ae7c": {
      "model_module": "@jupyter-widgets/base",
      "model_module_version": "1.2.0",
      "model_name": "LayoutModel",
      "state": {}
     },
     "7cefecc5fa9541dea4ae70b632320a9b": {
      "model_module": "@jupyter-widgets/base",
      "model_module_version": "1.2.0",
      "model_name": "LayoutModel",
      "state": {}
     },
     "7d01421be44e418f878fdeeef568ee2b": {
      "model_module": "@jupyter-widgets/base",
      "model_module_version": "1.2.0",
      "model_name": "LayoutModel",
      "state": {}
     },
     "7d01cb653dd140e49056914a1e15033b": {
      "model_module": "@jupyter-widgets/controls",
      "model_module_version": "1.5.0",
      "model_name": "HTMLModel",
      "state": {
       "layout": "IPY_MODEL_142ab0a3bd29456cb7aca70be97010f8",
       "style": "IPY_MODEL_48846a0578934f4394765394a22ad7eb",
       "value": " 0/12 [00:50&lt;?, ?it/s]"
      }
     },
     "7d11bb5f742b4053b0466633d3c07cd9": {
      "model_module": "@jupyter-widgets/base",
      "model_module_version": "1.2.0",
      "model_name": "LayoutModel",
      "state": {}
     },
     "7d26e19c16a94213ad7ffa316335fa7b": {
      "model_module": "@jupyter-widgets/controls",
      "model_module_version": "1.5.0",
      "model_name": "DescriptionStyleModel",
      "state": {
       "description_width": ""
      }
     },
     "7d3033b6c35f4d6fb48e5699aca642b9": {
      "model_module": "@jupyter-widgets/base",
      "model_module_version": "1.2.0",
      "model_name": "LayoutModel",
      "state": {}
     },
     "7d3d77bc66e74e0190ba459caf947263": {
      "model_module": "@jupyter-widgets/controls",
      "model_module_version": "1.5.0",
      "model_name": "ProgressStyleModel",
      "state": {
       "description_width": "initial"
      }
     },
     "7d44fea140694c978445d5e873922706": {
      "model_module": "@jupyter-widgets/controls",
      "model_module_version": "1.5.0",
      "model_name": "HTMLModel",
      "state": {
       "layout": "IPY_MODEL_1bde0c6e14ec492aab3a8d66637f1a23",
       "style": "IPY_MODEL_e3b480baf8dd4bdb8e9dc9bb5dcb80c9",
       "value": " 0/12 [00:16&lt;?, ?it/s]"
      }
     },
     "7d6a2f2832e14c578386ba533b5d1427": {
      "model_module": "@jupyter-widgets/base",
      "model_module_version": "1.2.0",
      "model_name": "LayoutModel",
      "state": {}
     },
     "7d701974826f4c429c4923a74001f1ef": {
      "model_module": "@jupyter-widgets/controls",
      "model_module_version": "1.5.0",
      "model_name": "DescriptionStyleModel",
      "state": {
       "description_width": ""
      }
     },
     "7d712a57f0064f39af560d2ba81305e5": {
      "model_module": "@jupyter-widgets/base",
      "model_module_version": "1.2.0",
      "model_name": "LayoutModel",
      "state": {}
     },
     "7d7a20cfa7bc4c90817e68c7802c3cf4": {
      "model_module": "@jupyter-widgets/base",
      "model_module_version": "1.2.0",
      "model_name": "LayoutModel",
      "state": {}
     },
     "7d7c7b80872647f7873f3bb7ebc987d2": {
      "model_module": "@jupyter-widgets/controls",
      "model_module_version": "1.5.0",
      "model_name": "FloatProgressModel",
      "state": {
       "bar_style": "danger",
       "description": "Valid iteration=0:   0%",
       "layout": "IPY_MODEL_7d11bb5f742b4053b0466633d3c07cd9",
       "max": 10000,
       "style": "IPY_MODEL_18e2100680364b06974b229c3c8a8b8d"
      }
     },
     "7d8bbe38aed0434999405da827124951": {
      "model_module": "@jupyter-widgets/controls",
      "model_module_version": "1.5.0",
      "model_name": "DescriptionStyleModel",
      "state": {
       "description_width": ""
      }
     },
     "7d8c9787caba4a96bb0e7e64078d5dcc": {
      "model_module": "@jupyter-widgets/base",
      "model_module_version": "1.2.0",
      "model_name": "LayoutModel",
      "state": {}
     },
     "7da0793ee7cc4c359cfaf2b4ccc28b1a": {
      "model_module": "@jupyter-widgets/controls",
      "model_module_version": "1.5.0",
      "model_name": "HTMLModel",
      "state": {
       "layout": "IPY_MODEL_6810a54cebd047ba9e05961ec3792247",
       "style": "IPY_MODEL_a642d47bafdf4869a51080c22b2707ce",
       "value": " 0/23 [00:15&lt;?, ?it/s]"
      }
     },
     "7dadb67be1104c7db1c6acbb92632285": {
      "model_module": "@jupyter-widgets/controls",
      "model_module_version": "1.5.0",
      "model_name": "DescriptionStyleModel",
      "state": {
       "description_width": ""
      }
     },
     "7db55fcec5d740ba9fb749aa71939ee6": {
      "model_module": "@jupyter-widgets/controls",
      "model_module_version": "1.5.0",
      "model_name": "DescriptionStyleModel",
      "state": {
       "description_width": ""
      }
     },
     "7db9bf3af72d47f8af0316ad88bcf27c": {
      "model_module": "@jupyter-widgets/controls",
      "model_module_version": "1.5.0",
      "model_name": "DescriptionStyleModel",
      "state": {
       "description_width": ""
      }
     },
     "7dbc2bf313c34bd19d1d3f032288987c": {
      "model_module": "@jupyter-widgets/controls",
      "model_module_version": "1.5.0",
      "model_name": "HBoxModel",
      "state": {
       "children": [
        "IPY_MODEL_e650cb93dee242f6b5c0cc86c7bd9ece",
        "IPY_MODEL_4ec68cc413824953a14a76a5ab003449"
       ],
       "layout": "IPY_MODEL_00407c9c679d4b5d9f3c3d9703791ce7"
      }
     },
     "7dc5dbaddee44753a422942fad9b1ae7": {
      "model_module": "@jupyter-widgets/controls",
      "model_module_version": "1.5.0",
      "model_name": "DescriptionStyleModel",
      "state": {
       "description_width": ""
      }
     },
     "7dd6a9d3db5d4bb0bd6d1ec22f44b061": {
      "model_module": "@jupyter-widgets/base",
      "model_module_version": "1.2.0",
      "model_name": "LayoutModel",
      "state": {}
     },
     "7dfe8bedc1a141b4b4d5463ff16b191c": {
      "model_module": "@jupyter-widgets/base",
      "model_module_version": "1.2.0",
      "model_name": "LayoutModel",
      "state": {}
     },
     "7e055d8adb3e44eb9e88f528f38f3023": {
      "model_module": "@jupyter-widgets/base",
      "model_module_version": "1.2.0",
      "model_name": "LayoutModel",
      "state": {}
     },
     "7e15174c21a74a62917d18e7a19df3e4": {
      "model_module": "@jupyter-widgets/controls",
      "model_module_version": "1.5.0",
      "model_name": "HTMLModel",
      "state": {
       "layout": "IPY_MODEL_8883920f0fd349c7b10153690c4220b3",
       "style": "IPY_MODEL_8baa7cc7f77d435eaa3e117c790dfb75",
       "value": " 0/90000 [00:01&lt;?, ?it/s]"
      }
     },
     "7e2f28443cd644e8ab8aca6e380ef335": {
      "model_module": "@jupyter-widgets/base",
      "model_module_version": "1.2.0",
      "model_name": "LayoutModel",
      "state": {}
     },
     "7e76b70195214c73b6ea4fe7eab36c40": {
      "model_module": "@jupyter-widgets/base",
      "model_module_version": "1.2.0",
      "model_name": "LayoutModel",
      "state": {}
     },
     "7e7c887cbfb6416f89b591b4940606a6": {
      "model_module": "@jupyter-widgets/controls",
      "model_module_version": "1.5.0",
      "model_name": "FloatProgressModel",
      "state": {
       "bar_style": "danger",
       "description": "Valid iteration=0:   0%",
       "layout": "IPY_MODEL_304e23c65bc24a49b8e83b92a81ee526",
       "max": 10000,
       "style": "IPY_MODEL_3abcb97e104849b4970067c46712fa5c"
      }
     },
     "7e9ca6f7cc3a4b88a00910b0afebeff3": {
      "model_module": "@jupyter-widgets/base",
      "model_module_version": "1.2.0",
      "model_name": "LayoutModel",
      "state": {}
     },
     "7e9f04bd4db74f32bdd173ffd584a1b0": {
      "model_module": "@jupyter-widgets/controls",
      "model_module_version": "1.5.0",
      "model_name": "HTMLModel",
      "state": {
       "layout": "IPY_MODEL_b854e193af6645dbaaef4ba911ba0d33",
       "style": "IPY_MODEL_ca7318f4bb604dea8e9e335dd051f082",
       "value": " 0/10000 [00:01&lt;?, ?it/s]"
      }
     },
     "7eea64659f5f416ebbb94464d81e7b62": {
      "model_module": "@jupyter-widgets/base",
      "model_module_version": "1.2.0",
      "model_name": "LayoutModel",
      "state": {}
     },
     "7f1ae4c741524bdd874494f088f0a3d8": {
      "model_module": "@jupyter-widgets/base",
      "model_module_version": "1.2.0",
      "model_name": "LayoutModel",
      "state": {}
     },
     "7f32d80e6a3242e6b63702735bbbf1d7": {
      "model_module": "@jupyter-widgets/base",
      "model_module_version": "1.2.0",
      "model_name": "LayoutModel",
      "state": {}
     },
     "7f386649e51b4ac1bf50c961e3124b99": {
      "model_module": "@jupyter-widgets/base",
      "model_module_version": "1.2.0",
      "model_name": "LayoutModel",
      "state": {}
     },
     "7f51d1e633954030a721008a88313823": {
      "model_module": "@jupyter-widgets/controls",
      "model_module_version": "1.5.0",
      "model_name": "DescriptionStyleModel",
      "state": {
       "description_width": ""
      }
     },
     "7f6990565b9649248766a93224351e3c": {
      "model_module": "@jupyter-widgets/controls",
      "model_module_version": "1.5.0",
      "model_name": "HBoxModel",
      "state": {
       "children": [
        "IPY_MODEL_3eee619a6b444345ae993b568d41dafb",
        "IPY_MODEL_7587a75244414f24b931568de0023349"
       ],
       "layout": "IPY_MODEL_68f99c6661154fd6bc9f5c4acecfbe88"
      }
     },
     "7f69e8e11a7f4373b9c40b5724ba93dc": {
      "model_module": "@jupyter-widgets/controls",
      "model_module_version": "1.5.0",
      "model_name": "HBoxModel",
      "state": {
       "children": [
        "IPY_MODEL_ea6e73080d5147a4a54bf6e5369b06d2",
        "IPY_MODEL_39e718d7fd9343c6a5876e9f99ca65bb"
       ],
       "layout": "IPY_MODEL_7be08377412447a383f1df0f4a07a065"
      }
     },
     "7f73e129de6145cda3fd9fe770bd79bc": {
      "model_module": "@jupyter-widgets/controls",
      "model_module_version": "1.5.0",
      "model_name": "FloatProgressModel",
      "state": {
       "bar_style": "danger",
       "description": "Train:   0%",
       "layout": "IPY_MODEL_f113a8e9c3f74e43a30bf0ad5eddaa7d",
       "max": 23,
       "style": "IPY_MODEL_07441dad850b4a50bfaf280cf9adaab7"
      }
     },
     "7f777f79ea6047b5ad65ea2b15a5b817": {
      "model_module": "@jupyter-widgets/base",
      "model_module_version": "1.2.0",
      "model_name": "LayoutModel",
      "state": {}
     },
     "7f7b565a4393442fb74b9dbebc0aee06": {
      "model_module": "@jupyter-widgets/controls",
      "model_module_version": "1.5.0",
      "model_name": "FloatProgressModel",
      "state": {
       "bar_style": "danger",
       "description": "Valid iteration=0:   0%",
       "layout": "IPY_MODEL_c3cc8044471c4458b0c906167b6cea86",
       "max": 5000,
       "style": "IPY_MODEL_fd54fcd650934e6e890867ad9aef06cc"
      }
     },
     "7f94e145fcb94bb0bdf23581428fcdb8": {
      "model_module": "@jupyter-widgets/base",
      "model_module_version": "1.2.0",
      "model_name": "LayoutModel",
      "state": {}
     },
     "7fab48ecd6714579911c52c498663e02": {
      "model_module": "@jupyter-widgets/base",
      "model_module_version": "1.2.0",
      "model_name": "LayoutModel",
      "state": {}
     },
     "7fd171e919544b23a3d68f4b8e77b405": {
      "model_module": "@jupyter-widgets/controls",
      "model_module_version": "1.5.0",
      "model_name": "DescriptionStyleModel",
      "state": {
       "description_width": ""
      }
     },
     "800769ccbc0a4a34ac7ac44f48b383b7": {
      "model_module": "@jupyter-widgets/controls",
      "model_module_version": "1.5.0",
      "model_name": "DescriptionStyleModel",
      "state": {
       "description_width": ""
      }
     },
     "801254dda2b34511a0f3b11dad95f0ca": {
      "model_module": "@jupyter-widgets/base",
      "model_module_version": "1.2.0",
      "model_name": "LayoutModel",
      "state": {}
     },
     "8012cea6b576476abe0e9315c99e99d1": {
      "model_module": "@jupyter-widgets/controls",
      "model_module_version": "1.5.0",
      "model_name": "HBoxModel",
      "state": {
       "children": [
        "IPY_MODEL_f0f69c0786e34d8886d1838cc49fe114",
        "IPY_MODEL_35933a5aedc44ce484e01dad39cf1759"
       ],
       "layout": "IPY_MODEL_39994286827f41569f8fea2d0f8a12c2"
      }
     },
     "804acb9f302d47f0ade406faee8731f5": {
      "model_module": "@jupyter-widgets/controls",
      "model_module_version": "1.5.0",
      "model_name": "ProgressStyleModel",
      "state": {
       "description_width": "initial"
      }
     },
     "8055c2d1d9554b0ba04236972e8a8820": {
      "model_module": "@jupyter-widgets/controls",
      "model_module_version": "1.5.0",
      "model_name": "HBoxModel",
      "state": {
       "children": [
        "IPY_MODEL_8a334fda38b6428091f06366a20148fa",
        "IPY_MODEL_7ac08f5cf8014780930ce1dfaec3bd34"
       ],
       "layout": "IPY_MODEL_701806d36adb4d01a16ec6d97cf3013d"
      }
     },
     "806d50b96a0c41349e1292a8fe854a0d": {
      "model_module": "@jupyter-widgets/base",
      "model_module_version": "1.2.0",
      "model_name": "LayoutModel",
      "state": {}
     },
     "808458bebe6f45f7921d187281237005": {
      "model_module": "@jupyter-widgets/controls",
      "model_module_version": "1.5.0",
      "model_name": "HTMLModel",
      "state": {
       "layout": "IPY_MODEL_fc089cebd0404dc8a5c338d7ce0bb581",
       "style": "IPY_MODEL_39a4bd9087024e71b101ca9addaf38b4",
       "value": " 0/12 [00:39&lt;?, ?it/s]"
      }
     },
     "809f543d4b6b4c8dbd660dfb21a6be56": {
      "model_module": "@jupyter-widgets/base",
      "model_module_version": "1.2.0",
      "model_name": "LayoutModel",
      "state": {}
     },
     "80a4612c01d442dcb5ac9491d1d07924": {
      "model_module": "@jupyter-widgets/controls",
      "model_module_version": "1.5.0",
      "model_name": "ProgressStyleModel",
      "state": {
       "description_width": "initial"
      }
     },
     "80b3ab3a919d465f88ecaeb3209b158d": {
      "model_module": "@jupyter-widgets/base",
      "model_module_version": "1.2.0",
      "model_name": "LayoutModel",
      "state": {}
     },
     "80d1bb4fdffc465a9529e4efc896e36d": {
      "model_module": "@jupyter-widgets/base",
      "model_module_version": "1.2.0",
      "model_name": "LayoutModel",
      "state": {}
     },
     "80f659ba30994617be1784775ca16073": {
      "model_module": "@jupyter-widgets/controls",
      "model_module_version": "1.5.0",
      "model_name": "DescriptionStyleModel",
      "state": {
       "description_width": ""
      }
     },
     "8108c54cbda64653832f27c211638b7b": {
      "model_module": "@jupyter-widgets/controls",
      "model_module_version": "1.5.0",
      "model_name": "HBoxModel",
      "state": {
       "children": [
        "IPY_MODEL_30dbfe3dcbee4464a67e792ebb4256c2",
        "IPY_MODEL_74aa99b434614848bb3527f140a249db"
       ],
       "layout": "IPY_MODEL_6d72da46992e4c43a95e305fefead3dd"
      }
     },
     "810cff65dc7f4f2d826cec931238571e": {
      "model_module": "@jupyter-widgets/controls",
      "model_module_version": "1.5.0",
      "model_name": "DescriptionStyleModel",
      "state": {
       "description_width": ""
      }
     },
     "810d590e62164e6a98339b5c0d4be4da": {
      "model_module": "@jupyter-widgets/base",
      "model_module_version": "1.2.0",
      "model_name": "LayoutModel",
      "state": {}
     },
     "811729fd0a84430aac60f26892c6e03b": {
      "model_module": "@jupyter-widgets/base",
      "model_module_version": "1.2.0",
      "model_name": "LayoutModel",
      "state": {}
     },
     "81188dff14ba47a0b5badfa0eba15a3a": {
      "model_module": "@jupyter-widgets/controls",
      "model_module_version": "1.5.0",
      "model_name": "HBoxModel",
      "state": {
       "children": [
        "IPY_MODEL_d78a7ce4d51d4929aaca2f39d97f5788",
        "IPY_MODEL_a26f843590764f849c5ae794e39c82d1"
       ],
       "layout": "IPY_MODEL_e8dfe454aebb454083a0949a5d7ffaa7"
      }
     },
     "813eddbbd38a412eae292c32f6dea939": {
      "model_module": "@jupyter-widgets/base",
      "model_module_version": "1.2.0",
      "model_name": "LayoutModel",
      "state": {}
     },
     "814b323641254993b89004db2a88a9c0": {
      "model_module": "@jupyter-widgets/controls",
      "model_module_version": "1.5.0",
      "model_name": "ProgressStyleModel",
      "state": {
       "description_width": "initial"
      }
     },
     "815157af46c04f4a816ee30a8cdf4978": {
      "model_module": "@jupyter-widgets/controls",
      "model_module_version": "1.5.0",
      "model_name": "HBoxModel",
      "state": {
       "children": [
        "IPY_MODEL_fecea009a1b74bdba22df5e93a52f89a",
        "IPY_MODEL_35aa392f152b4d08bfdca915073ab05c"
       ],
       "layout": "IPY_MODEL_67ff7b808b0f4c2d997adeee2712dfff"
      }
     },
     "8152e1b2b6974e0eac278778e895f470": {
      "model_module": "@jupyter-widgets/base",
      "model_module_version": "1.2.0",
      "model_name": "LayoutModel",
      "state": {}
     },
     "8159f5f0b7e144ec86123cd12f436086": {
      "model_module": "@jupyter-widgets/controls",
      "model_module_version": "1.5.0",
      "model_name": "DescriptionStyleModel",
      "state": {
       "description_width": ""
      }
     },
     "818d64df019b4d44a3150c6ae795d701": {
      "model_module": "@jupyter-widgets/controls",
      "model_module_version": "1.5.0",
      "model_name": "HBoxModel",
      "state": {
       "children": [
        "IPY_MODEL_42c2427101104395a0fa7dda6e85201d",
        "IPY_MODEL_1c60f9a68bba445f80ff6a8dbb60a09b"
       ],
       "layout": "IPY_MODEL_ccf6150c0d1545f6ac179e52761a64d6"
      }
     },
     "81ad5eb38c594fca826e15591a15d9c6": {
      "model_module": "@jupyter-widgets/controls",
      "model_module_version": "1.5.0",
      "model_name": "DescriptionStyleModel",
      "state": {
       "description_width": ""
      }
     },
     "81b3a1ecc4a9453abf508df09e3e79fb": {
      "model_module": "@jupyter-widgets/controls",
      "model_module_version": "1.5.0",
      "model_name": "DescriptionStyleModel",
      "state": {
       "description_width": ""
      }
     },
     "81d6ac4eed0b4edea02e7d8dddeb6b6b": {
      "model_module": "@jupyter-widgets/controls",
      "model_module_version": "1.5.0",
      "model_name": "ProgressStyleModel",
      "state": {
       "description_width": "initial"
      }
     },
     "81ea54d739554dc99d2723718cf421b3": {
      "model_module": "@jupyter-widgets/controls",
      "model_module_version": "1.5.0",
      "model_name": "HBoxModel",
      "state": {
       "children": [
        "IPY_MODEL_b5b5e660608b4229a55b28e3b0b8e215",
        "IPY_MODEL_a61359a97cb54fc3a68dcca0dc767fd4"
       ],
       "layout": "IPY_MODEL_0886ff0605a24902943ba5a354b5108c"
      }
     },
     "81ecf720d0204a609b08e38625bd14ae": {
      "model_module": "@jupyter-widgets/controls",
      "model_module_version": "1.5.0",
      "model_name": "DescriptionStyleModel",
      "state": {
       "description_width": ""
      }
     },
     "81fc82c7730e409fa4ed26abfed88962": {
      "model_module": "@jupyter-widgets/base",
      "model_module_version": "1.2.0",
      "model_name": "LayoutModel",
      "state": {}
     },
     "81fcf7ccaf7c44c089d93568ac73a6c9": {
      "model_module": "@jupyter-widgets/base",
      "model_module_version": "1.2.0",
      "model_name": "LayoutModel",
      "state": {}
     },
     "82182f615a744098a35f641c88b62cde": {
      "model_module": "@jupyter-widgets/controls",
      "model_module_version": "1.5.0",
      "model_name": "HBoxModel",
      "state": {
       "children": [
        "IPY_MODEL_c6c376e0c04242429998f38813d22c06",
        "IPY_MODEL_597de506c90143d69d00f9fc0acc4b29"
       ],
       "layout": "IPY_MODEL_b432b88f9ce64128bd9c55b3c795f437"
      }
     },
     "8246f03cd45646f0888b547ccd6c49bc": {
      "model_module": "@jupyter-widgets/controls",
      "model_module_version": "1.5.0",
      "model_name": "ProgressStyleModel",
      "state": {
       "description_width": "initial"
      }
     },
     "82483a8befc24a59aeb8a6d17f3d85a5": {
      "model_module": "@jupyter-widgets/controls",
      "model_module_version": "1.5.0",
      "model_name": "HBoxModel",
      "state": {
       "children": [
        "IPY_MODEL_95f7c26cde1840c9891babf0592460ee",
        "IPY_MODEL_8d76d200a1eb4452b3d71495ee6bacf6"
       ],
       "layout": "IPY_MODEL_dc04b54b349346d1a07a3ee0d83c2aa9"
      }
     },
     "82913c8bf66b49a5a44230be0111d72b": {
      "model_module": "@jupyter-widgets/base",
      "model_module_version": "1.2.0",
      "model_name": "LayoutModel",
      "state": {}
     },
     "82a0f5fcb312456ca1d650550a0c66c4": {
      "model_module": "@jupyter-widgets/controls",
      "model_module_version": "1.5.0",
      "model_name": "HTMLModel",
      "state": {
       "layout": "IPY_MODEL_ea8f3df934ca4507b04709b2b06f9dbe",
       "style": "IPY_MODEL_79a8980de4154f848287192f2b734e6b",
       "value": " 0/10000 [07:11&lt;?, ?it/s]"
      }
     },
     "82bb188771c746e4b5920515a91b4b5f": {
      "model_module": "@jupyter-widgets/controls",
      "model_module_version": "1.5.0",
      "model_name": "HTMLModel",
      "state": {
       "layout": "IPY_MODEL_a8f3f6f2ab344453bd012917db0f6700",
       "style": "IPY_MODEL_272ffbb4ec01431cbb013be3ac07b50b",
       "value": " 0/12 [01:49&lt;?, ?it/s]"
      }
     },
     "83051bff82df412d9a8365d7d873b58e": {
      "model_module": "@jupyter-widgets/controls",
      "model_module_version": "1.5.0",
      "model_name": "ProgressStyleModel",
      "state": {
       "description_width": "initial"
      }
     },
     "8312b12f5d90405a81bbcfcc455c1c7e": {
      "model_module": "@jupyter-widgets/controls",
      "model_module_version": "1.5.0",
      "model_name": "DescriptionStyleModel",
      "state": {
       "description_width": ""
      }
     },
     "831ac609e637456985a379539ac27037": {
      "model_module": "@jupyter-widgets/controls",
      "model_module_version": "1.5.0",
      "model_name": "FloatProgressModel",
      "state": {
       "bar_style": "danger",
       "description": "Valid iteration=0:   0%",
       "layout": "IPY_MODEL_8c37dde7e93945ccb6249f98164329b3",
       "max": 10000,
       "style": "IPY_MODEL_9c50ad8991164f35a9386b393ee4ce8e"
      }
     },
     "832710c7e7d94b768c7fa4321108324f": {
      "model_module": "@jupyter-widgets/controls",
      "model_module_version": "1.5.0",
      "model_name": "HTMLModel",
      "state": {
       "layout": "IPY_MODEL_b0c10e88a6a948e988ee2839a99723da",
       "style": "IPY_MODEL_ef953702ec994593b53646b3414f96cf",
       "value": " 0/45000 [00:28&lt;?, ?it/s]"
      }
     },
     "8343441f84554a91851f448befbb52ca": {
      "model_module": "@jupyter-widgets/controls",
      "model_module_version": "1.5.0",
      "model_name": "HTMLModel",
      "state": {
       "layout": "IPY_MODEL_53abf383c99e45f592efd961a48b9af7",
       "style": "IPY_MODEL_9b52555aa2964d0b918773b8bbf8af06",
       "value": " 0/5000 [00:01&lt;?, ?it/s]"
      }
     },
     "83496e0eb0ff496c89ba35b00f95e2b1": {
      "model_module": "@jupyter-widgets/base",
      "model_module_version": "1.2.0",
      "model_name": "LayoutModel",
      "state": {}
     },
     "83563504a64f4876ba0df62e4bd96fbe": {
      "model_module": "@jupyter-widgets/base",
      "model_module_version": "1.2.0",
      "model_name": "LayoutModel",
      "state": {}
     },
     "83965008fd3c4dcbaf4cad160ad708c1": {
      "model_module": "@jupyter-widgets/base",
      "model_module_version": "1.2.0",
      "model_name": "LayoutModel",
      "state": {}
     },
     "839fa682ddb0498281a6493d75193a77": {
      "model_module": "@jupyter-widgets/controls",
      "model_module_version": "1.5.0",
      "model_name": "FloatProgressModel",
      "state": {
       "bar_style": "danger",
       "description": "Valid iteration=0:   0%",
       "layout": "IPY_MODEL_cdff9c4af0b64cd1aadf9c340939a507",
       "max": 10000,
       "style": "IPY_MODEL_e65ed83c1b9d45fc94e96709c398b83f"
      }
     },
     "83af22d4d2d940f2aa8a2c0a85a1fe38": {
      "model_module": "@jupyter-widgets/base",
      "model_module_version": "1.2.0",
      "model_name": "LayoutModel",
      "state": {}
     },
     "83da8be0525e4543bafd5f1c76ae2823": {
      "model_module": "@jupyter-widgets/base",
      "model_module_version": "1.2.0",
      "model_name": "LayoutModel",
      "state": {}
     },
     "83da9b99392849ac8430e2c3556ff78d": {
      "model_module": "@jupyter-widgets/controls",
      "model_module_version": "1.5.0",
      "model_name": "DescriptionStyleModel",
      "state": {
       "description_width": ""
      }
     },
     "83fa8da8e296410595c38b23b57abdb0": {
      "model_module": "@jupyter-widgets/controls",
      "model_module_version": "1.5.0",
      "model_name": "ProgressStyleModel",
      "state": {
       "description_width": "initial"
      }
     },
     "84121fabf80b45d283be247c5cb3ac94": {
      "model_module": "@jupyter-widgets/base",
      "model_module_version": "1.2.0",
      "model_name": "LayoutModel",
      "state": {}
     },
     "841250ea4db44196af3cbd0d913a9140": {
      "model_module": "@jupyter-widgets/controls",
      "model_module_version": "1.5.0",
      "model_name": "FloatProgressModel",
      "state": {
       "bar_style": "danger",
       "description": "Train:   0%",
       "layout": "IPY_MODEL_1d999462e5974e0cb9e352b17d00ddcb",
       "max": 12,
       "style": "IPY_MODEL_61863bbaee134f8f832d55fc2c332333"
      }
     },
     "84337e42097f4647b8afb4508e9295dc": {
      "model_module": "@jupyter-widgets/base",
      "model_module_version": "1.2.0",
      "model_name": "LayoutModel",
      "state": {}
     },
     "84468ecf2f454e71a096314459d85491": {
      "model_module": "@jupyter-widgets/controls",
      "model_module_version": "1.5.0",
      "model_name": "DescriptionStyleModel",
      "state": {
       "description_width": ""
      }
     },
     "844ebaab3744430c835ff45838554db0": {
      "model_module": "@jupyter-widgets/controls",
      "model_module_version": "1.5.0",
      "model_name": "DescriptionStyleModel",
      "state": {
       "description_width": ""
      }
     },
     "849a1da4708f4baca25186bd46ff5ee1": {
      "model_module": "@jupyter-widgets/controls",
      "model_module_version": "1.5.0",
      "model_name": "FloatProgressModel",
      "state": {
       "bar_style": "danger",
       "description": "Valid iteration=0:   0%",
       "layout": "IPY_MODEL_7311f3b9503c4c4c9ecdbb507996db66",
       "max": 5000,
       "style": "IPY_MODEL_8f1b856ea7aa4399b4d6a5e239278208"
      }
     },
     "84b2d7af6f614ec9a21485e73f6b72ac": {
      "model_module": "@jupyter-widgets/controls",
      "model_module_version": "1.5.0",
      "model_name": "ProgressStyleModel",
      "state": {
       "description_width": "initial"
      }
     },
     "84b78f74458f46979bf374cc0bc40373": {
      "model_module": "@jupyter-widgets/controls",
      "model_module_version": "1.5.0",
      "model_name": "HTMLModel",
      "state": {
       "layout": "IPY_MODEL_625158613e134d21ae09e27c68a31638",
       "style": "IPY_MODEL_f528db3337a74575aec11598f0babc89",
       "value": " 0/45000 [00:33&lt;?, ?it/s]"
      }
     },
     "84dff370b108488b9ab6bcdb0f29009e": {
      "model_module": "@jupyter-widgets/base",
      "model_module_version": "1.2.0",
      "model_name": "LayoutModel",
      "state": {}
     },
     "84e331b198ca4660af99da603b2d6790": {
      "model_module": "@jupyter-widgets/base",
      "model_module_version": "1.2.0",
      "model_name": "LayoutModel",
      "state": {}
     },
     "84fbfce052b94ecc8d42c2e66e0b4b15": {
      "model_module": "@jupyter-widgets/base",
      "model_module_version": "1.2.0",
      "model_name": "LayoutModel",
      "state": {}
     },
     "8523fc0556a54e7b9a4bc807293b0338": {
      "model_module": "@jupyter-widgets/base",
      "model_module_version": "1.2.0",
      "model_name": "LayoutModel",
      "state": {}
     },
     "8561b173df234b7fbc74046d6710f8ce": {
      "model_module": "@jupyter-widgets/controls",
      "model_module_version": "1.5.0",
      "model_name": "HTMLModel",
      "state": {
       "layout": "IPY_MODEL_fd256b3f05e84361b9a017919a852b0f",
       "style": "IPY_MODEL_0c81b4a939944f0ead647ec09f86d80c",
       "value": " 0/12 [07:11&lt;?, ?it/s]"
      }
     },
     "8562b2306d884b33a038511ac4a43eb8": {
      "model_module": "@jupyter-widgets/base",
      "model_module_version": "1.2.0",
      "model_name": "LayoutModel",
      "state": {}
     },
     "8564c5486013419d9906322e36310997": {
      "model_module": "@jupyter-widgets/controls",
      "model_module_version": "1.5.0",
      "model_name": "HBoxModel",
      "state": {
       "children": [
        "IPY_MODEL_99f12be85ac64a38b09e76a9c65e58b3",
        "IPY_MODEL_c52a9f6a2472406799557c621137020c"
       ],
       "layout": "IPY_MODEL_b78839695dbe4fb6856757a5aef83584"
      }
     },
     "857802ce65774c27b67d985d0c5f8df0": {
      "model_module": "@jupyter-widgets/controls",
      "model_module_version": "1.5.0",
      "model_name": "HTMLModel",
      "state": {
       "layout": "IPY_MODEL_ab99b78a94e442e19fe3cecdb4c60dbd",
       "style": "IPY_MODEL_36231eef9ecf45d180505f7af2bb022c",
       "value": " 0/5000 [29:40&lt;?, ?it/s]"
      }
     },
     "85bf1f4cf7e44520bae2bfab5843048e": {
      "model_module": "@jupyter-widgets/controls",
      "model_module_version": "1.5.0",
      "model_name": "FloatProgressModel",
      "state": {
       "bar_style": "danger",
       "description": "Valid iteration=8000:   0%",
       "layout": "IPY_MODEL_26b478328f7e4c7097a0c24ec5122f28",
       "max": 10000,
       "style": "IPY_MODEL_8b3a0c9ffc6646848ee66cc5dcaa0162"
      }
     },
     "860bc9b985ca46199bfee959b3d0b9f8": {
      "model_module": "@jupyter-widgets/controls",
      "model_module_version": "1.5.0",
      "model_name": "FloatProgressModel",
      "state": {
       "bar_style": "danger",
       "description": "Valid iteration=0:   0%",
       "layout": "IPY_MODEL_142558e10787403b863a9dff0b8dfe78",
       "max": 10000,
       "style": "IPY_MODEL_e892e4448e464213818766c1533c9091"
      }
     },
     "8611dae856174261849f3776f699be19": {
      "model_module": "@jupyter-widgets/base",
      "model_module_version": "1.2.0",
      "model_name": "LayoutModel",
      "state": {}
     },
     "863151222e0a4e76aac0d23d2595e631": {
      "model_module": "@jupyter-widgets/controls",
      "model_module_version": "1.5.0",
      "model_name": "DescriptionStyleModel",
      "state": {
       "description_width": ""
      }
     },
     "863c79391338430d9b8398a9709319a5": {
      "model_module": "@jupyter-widgets/controls",
      "model_module_version": "1.5.0",
      "model_name": "HTMLModel",
      "state": {
       "layout": "IPY_MODEL_fc3333e381fc440cb2f2581148f7a612",
       "style": "IPY_MODEL_8312b12f5d90405a81bbcfcc455c1c7e",
       "value": " 0/12 [00:28&lt;?, ?it/s]"
      }
     },
     "867fa606e5cd4a4a9f15a65879d35642": {
      "model_module": "@jupyter-widgets/controls",
      "model_module_version": "1.5.0",
      "model_name": "DescriptionStyleModel",
      "state": {
       "description_width": ""
      }
     },
     "86809217e18b43f7ba260b03d6883bc0": {
      "model_module": "@jupyter-widgets/controls",
      "model_module_version": "1.5.0",
      "model_name": "HTMLModel",
      "state": {
       "layout": "IPY_MODEL_2b9fff1722684f209365319e2d5a2af2",
       "style": "IPY_MODEL_8db7e2ce0b5a429a80ad8021ba0e9662",
       "value": " 750/45000 [03:19&lt;3:08:07,  3.92it/s]"
      }
     },
     "8694a0e32a794362ba287f0f4e135e83": {
      "model_module": "@jupyter-widgets/controls",
      "model_module_version": "1.5.0",
      "model_name": "HBoxModel",
      "state": {
       "children": [
        "IPY_MODEL_f440cd08028b4c2d9fa1d26715cebf9d",
        "IPY_MODEL_4f9610a568194453a65f84a630225651"
       ],
       "layout": "IPY_MODEL_7133647c67934403bd374f68b19600cb"
      }
     },
     "869c4722e1ad4ea8bcfebca8fbfac0e7": {
      "model_module": "@jupyter-widgets/base",
      "model_module_version": "1.2.0",
      "model_name": "LayoutModel",
      "state": {}
     },
     "86a761a9688b41c6998ebe15fc2661af": {
      "model_module": "@jupyter-widgets/controls",
      "model_module_version": "1.5.0",
      "model_name": "DescriptionStyleModel",
      "state": {
       "description_width": ""
      }
     },
     "86ad51c428dc4700b5f6986e5b14ccb8": {
      "model_module": "@jupyter-widgets/base",
      "model_module_version": "1.2.0",
      "model_name": "LayoutModel",
      "state": {}
     },
     "86e8080361d44cf4b65f2e4b326b9169": {
      "model_module": "@jupyter-widgets/base",
      "model_module_version": "1.2.0",
      "model_name": "LayoutModel",
      "state": {}
     },
     "86f0264143ac4c73921ec6335dfb5d34": {
      "model_module": "@jupyter-widgets/base",
      "model_module_version": "1.2.0",
      "model_name": "LayoutModel",
      "state": {}
     },
     "87041756fc034651a4be103cd25e65d7": {
      "model_module": "@jupyter-widgets/base",
      "model_module_version": "1.2.0",
      "model_name": "LayoutModel",
      "state": {}
     },
     "870c6b3e59894e2d96c8dd871ed5c5d6": {
      "model_module": "@jupyter-widgets/controls",
      "model_module_version": "1.5.0",
      "model_name": "DescriptionStyleModel",
      "state": {
       "description_width": ""
      }
     },
     "8719c77fa74048a6b36b4a73b349048f": {
      "model_module": "@jupyter-widgets/controls",
      "model_module_version": "1.5.0",
      "model_name": "FloatProgressModel",
      "state": {
       "bar_style": "danger",
       "description": "Train epoch=0:   1%",
       "layout": "IPY_MODEL_7e9ca6f7cc3a4b88a00910b0afebeff3",
       "max": 45000,
       "style": "IPY_MODEL_11d2fa78cae840bcbc93b046abea0feb",
       "value": 634
      }
     },
     "87448d1213394c54a3b39cd9efcf6417": {
      "model_module": "@jupyter-widgets/controls",
      "model_module_version": "1.5.0",
      "model_name": "HBoxModel",
      "state": {
       "children": [
        "IPY_MODEL_220441e1ed694fc3960f7ec3124f4c7e",
        "IPY_MODEL_de19e6ceab2949158cf0799de21b4ef4"
       ],
       "layout": "IPY_MODEL_40243b7385d94140b6b842329926ac67"
      }
     },
     "874973ff2dfe487ba5dd21845de7999b": {
      "model_module": "@jupyter-widgets/controls",
      "model_module_version": "1.5.0",
      "model_name": "DescriptionStyleModel",
      "state": {
       "description_width": ""
      }
     },
     "87518af885bd436fa26e6c61cbf4715d": {
      "model_module": "@jupyter-widgets/controls",
      "model_module_version": "1.5.0",
      "model_name": "HBoxModel",
      "state": {
       "children": [
        "IPY_MODEL_040d5dfa7fa84dff99fb42e753e1f43c",
        "IPY_MODEL_27217cac7ca542f9a7e74c10943238d6"
       ],
       "layout": "IPY_MODEL_b47f79481cea4265a4bc6682882c4fc8"
      }
     },
     "876809955c4541df9c38dc4db9dc6b16": {
      "model_module": "@jupyter-widgets/base",
      "model_module_version": "1.2.0",
      "model_name": "LayoutModel",
      "state": {}
     },
     "8770a37d881a4f3e826652c64c731932": {
      "model_module": "@jupyter-widgets/controls",
      "model_module_version": "1.5.0",
      "model_name": "FloatProgressModel",
      "state": {
       "bar_style": "danger",
       "description": "Train:   0%",
       "layout": "IPY_MODEL_375313e6a8be4f9ba61ded7acadf8f84",
       "max": 23,
       "style": "IPY_MODEL_6de81b4e400840e2828f352546ef319c"
      }
     },
     "8775db7effef4319a178b26a0f28b8c9": {
      "model_module": "@jupyter-widgets/base",
      "model_module_version": "1.2.0",
      "model_name": "LayoutModel",
      "state": {}
     },
     "8778f0ff517d4edebfa4578e29b15abf": {
      "model_module": "@jupyter-widgets/controls",
      "model_module_version": "1.5.0",
      "model_name": "ProgressStyleModel",
      "state": {
       "description_width": "initial"
      }
     },
     "8783afa649e143929b5982fac2cd1aba": {
      "model_module": "@jupyter-widgets/base",
      "model_module_version": "1.2.0",
      "model_name": "LayoutModel",
      "state": {}
     },
     "879c007e27d54db9a4a8752b1ab1af64": {
      "model_module": "@jupyter-widgets/controls",
      "model_module_version": "1.5.0",
      "model_name": "FloatProgressModel",
      "state": {
       "bar_style": "danger",
       "description": "Valid iteration=0:   0%",
       "layout": "IPY_MODEL_1d06a6847ce1402bbacadc3c9dd1cbc6",
       "max": 10000,
       "style": "IPY_MODEL_c2bedf05334746219b78b8938d0cdb93"
      }
     },
     "87b871bfc0d7414da1193d0bf7df2949": {
      "model_module": "@jupyter-widgets/controls",
      "model_module_version": "1.5.0",
      "model_name": "DescriptionStyleModel",
      "state": {
       "description_width": ""
      }
     },
     "87da448c22d34c1dbb182ec4c7c56f18": {
      "model_module": "@jupyter-widgets/base",
      "model_module_version": "1.2.0",
      "model_name": "LayoutModel",
      "state": {}
     },
     "87de83a5f0e840e28ed1fcc08ee751b8": {
      "model_module": "@jupyter-widgets/base",
      "model_module_version": "1.2.0",
      "model_name": "LayoutModel",
      "state": {}
     },
     "87f63ecb2ddc45c49098a11080759949": {
      "model_module": "@jupyter-widgets/controls",
      "model_module_version": "1.5.0",
      "model_name": "HTMLModel",
      "state": {
       "layout": "IPY_MODEL_4f0db81d1b45478390bfdc53bdba5c11",
       "style": "IPY_MODEL_959b37931b224baebe1e1b49943943d5",
       "value": " 0/12 [00:12&lt;?, ?it/s]"
      }
     },
     "87f90dfd9f524846879a50c2873bbfef": {
      "model_module": "@jupyter-widgets/controls",
      "model_module_version": "1.5.0",
      "model_name": "ProgressStyleModel",
      "state": {
       "description_width": "initial"
      }
     },
     "883830610c024ff7b604bf9cc497ed79": {
      "model_module": "@jupyter-widgets/base",
      "model_module_version": "1.2.0",
      "model_name": "LayoutModel",
      "state": {}
     },
     "884ad6f9b8c44fcd942c13d6ac89c85b": {
      "model_module": "@jupyter-widgets/controls",
      "model_module_version": "1.5.0",
      "model_name": "HBoxModel",
      "state": {
       "children": [
        "IPY_MODEL_e21f8941d5a8443098bb334fbbd5019a",
        "IPY_MODEL_ceeacf370b614c92aacc773d41234865"
       ],
       "layout": "IPY_MODEL_500be0355d2f4a8f98f4b073ea98d3b1"
      }
     },
     "8882f41605cb4fedaf2b89d07e8814eb": {
      "model_module": "@jupyter-widgets/controls",
      "model_module_version": "1.5.0",
      "model_name": "ProgressStyleModel",
      "state": {
       "description_width": "initial"
      }
     },
     "8883920f0fd349c7b10153690c4220b3": {
      "model_module": "@jupyter-widgets/base",
      "model_module_version": "1.2.0",
      "model_name": "LayoutModel",
      "state": {}
     },
     "889378f01c144b819819465fe400c833": {
      "model_module": "@jupyter-widgets/controls",
      "model_module_version": "1.5.0",
      "model_name": "ProgressStyleModel",
      "state": {
       "description_width": "initial"
      }
     },
     "889b21d9ab564c0ca6b1a1134dfe98fc": {
      "model_module": "@jupyter-widgets/base",
      "model_module_version": "1.2.0",
      "model_name": "LayoutModel",
      "state": {}
     },
     "88ba6a89a83c4052a0a832be02c0408a": {
      "model_module": "@jupyter-widgets/controls",
      "model_module_version": "1.5.0",
      "model_name": "HBoxModel",
      "state": {
       "children": [
        "IPY_MODEL_5dd6cef67c054747932f1daac956b8bc",
        "IPY_MODEL_89ff4f5b134b48b289f47d46dc2ee5e9"
       ],
       "layout": "IPY_MODEL_dca909b72ec545bd83f6e8e5d003f2c6"
      }
     },
     "88cf95d11a5448e6a9d634eaa07795b5": {
      "model_module": "@jupyter-widgets/controls",
      "model_module_version": "1.5.0",
      "model_name": "DescriptionStyleModel",
      "state": {
       "description_width": ""
      }
     },
     "88e18c3c596745bf888a283c883c8bf8": {
      "model_module": "@jupyter-widgets/controls",
      "model_module_version": "1.5.0",
      "model_name": "ProgressStyleModel",
      "state": {
       "description_width": "initial"
      }
     },
     "88ecd62a12f1466e8186f850f3e2d88d": {
      "model_module": "@jupyter-widgets/controls",
      "model_module_version": "1.5.0",
      "model_name": "FloatProgressModel",
      "state": {
       "bar_style": "danger",
       "description": "Valid iteration=2000:   0%",
       "layout": "IPY_MODEL_bdd1896c41cc47e1a680b286197dde87",
       "max": 10000,
       "style": "IPY_MODEL_84b2d7af6f614ec9a21485e73f6b72ac"
      }
     },
     "88f25741f2a94a499ee4aca78690e525": {
      "model_module": "@jupyter-widgets/base",
      "model_module_version": "1.2.0",
      "model_name": "LayoutModel",
      "state": {}
     },
     "89036f34e9b44f299d2f10316f0b6a46": {
      "model_module": "@jupyter-widgets/controls",
      "model_module_version": "1.5.0",
      "model_name": "DescriptionStyleModel",
      "state": {
       "description_width": ""
      }
     },
     "890b697881c24aa1a645690fd95e0864": {
      "model_module": "@jupyter-widgets/controls",
      "model_module_version": "1.5.0",
      "model_name": "FloatProgressModel",
      "state": {
       "bar_style": "danger",
       "description": "Train epoch=0:   0%",
       "layout": "IPY_MODEL_3ac0cf73446044bda4cc3459c49fd030",
       "max": 90000,
       "style": "IPY_MODEL_6ad9d761d1e74f89bf775536b40d96aa",
       "value": 205
      }
     },
     "894d105fa0cd4b128e28514acf7ec74f": {
      "model_module": "@jupyter-widgets/controls",
      "model_module_version": "1.5.0",
      "model_name": "HTMLModel",
      "state": {
       "layout": "IPY_MODEL_8e1bbb8e93874578a767eec491cd0a04",
       "style": "IPY_MODEL_8f7d46f1861b4ef2b1364953407346e2",
       "value": " 0/23 [26:51&lt;?, ?it/s]"
      }
     },
     "89737885df084e2396f0e97635e022eb": {
      "model_module": "@jupyter-widgets/base",
      "model_module_version": "1.2.0",
      "model_name": "LayoutModel",
      "state": {}
     },
     "89808dabe7a2491f8427c7d33572cce0": {
      "model_module": "@jupyter-widgets/controls",
      "model_module_version": "1.5.0",
      "model_name": "HTMLModel",
      "state": {
       "layout": "IPY_MODEL_d36f6c8da8394e18abdd1768eee3d707",
       "style": "IPY_MODEL_7dc5dbaddee44753a422942fad9b1ae7",
       "value": " 0/12 [01:04&lt;?, ?it/s]"
      }
     },
     "898c8fd4419c49478fb9ff8cdd1131a1": {
      "model_module": "@jupyter-widgets/base",
      "model_module_version": "1.2.0",
      "model_name": "LayoutModel",
      "state": {}
     },
     "899c685b8ab545c89ef31a394899756e": {
      "model_module": "@jupyter-widgets/base",
      "model_module_version": "1.2.0",
      "model_name": "LayoutModel",
      "state": {}
     },
     "899ebe65f3094f37a69c92f382869485": {
      "model_module": "@jupyter-widgets/controls",
      "model_module_version": "1.5.0",
      "model_name": "DescriptionStyleModel",
      "state": {
       "description_width": ""
      }
     },
     "89be508fcb18436faf899dcc16471b01": {
      "model_module": "@jupyter-widgets/controls",
      "model_module_version": "1.5.0",
      "model_name": "ProgressStyleModel",
      "state": {
       "description_width": "initial"
      }
     },
     "89e649db21714fc4a1f98b15f95ca03e": {
      "model_module": "@jupyter-widgets/controls",
      "model_module_version": "1.5.0",
      "model_name": "DescriptionStyleModel",
      "state": {
       "description_width": ""
      }
     },
     "89ff4f5b134b48b289f47d46dc2ee5e9": {
      "model_module": "@jupyter-widgets/controls",
      "model_module_version": "1.5.0",
      "model_name": "HTMLModel",
      "state": {
       "layout": "IPY_MODEL_9541e5c5dc274bd6b6493e40d0d4b04b",
       "style": "IPY_MODEL_36d978d72c254032b3b4b2c93b34cd6a",
       "value": " 0/23 [01:08&lt;?, ?it/s]"
      }
     },
     "8a05e9a248b640118b5a474dd6ac41dc": {
      "model_module": "@jupyter-widgets/base",
      "model_module_version": "1.2.0",
      "model_name": "LayoutModel",
      "state": {}
     },
     "8a1ba7bbdbbd451bbe68e24304135a8d": {
      "model_module": "@jupyter-widgets/base",
      "model_module_version": "1.2.0",
      "model_name": "LayoutModel",
      "state": {}
     },
     "8a334fda38b6428091f06366a20148fa": {
      "model_module": "@jupyter-widgets/controls",
      "model_module_version": "1.5.0",
      "model_name": "FloatProgressModel",
      "state": {
       "bar_style": "danger",
       "description": "Train epoch=0:   1%",
       "layout": "IPY_MODEL_06b42523ed304e62b3088e1e71071ba0",
       "max": 90000,
       "style": "IPY_MODEL_3c0ccf022fce48e6bcc4468e0893ae4d",
       "value": 1072
      }
     },
     "8a380876276b4da9a61c020ad7e496ec": {
      "model_module": "@jupyter-widgets/controls",
      "model_module_version": "1.5.0",
      "model_name": "HBoxModel",
      "state": {
       "children": [
        "IPY_MODEL_e6dbff33a0fa4a0db40046cd964a08f0",
        "IPY_MODEL_1021b2636fcb46c9a24ff4b121ad16e5"
       ],
       "layout": "IPY_MODEL_e501bc476ae74168acfb038c4b2454f9"
      }
     },
     "8a39bb6096e6482db1c19814fa2a881a": {
      "model_module": "@jupyter-widgets/base",
      "model_module_version": "1.2.0",
      "model_name": "LayoutModel",
      "state": {}
     },
     "8a526fc9f84c4722be7b0ef47a9b277c": {
      "model_module": "@jupyter-widgets/base",
      "model_module_version": "1.2.0",
      "model_name": "LayoutModel",
      "state": {}
     },
     "8a5b6b8956c44a86bc0657c1ba7b1603": {
      "model_module": "@jupyter-widgets/controls",
      "model_module_version": "1.5.0",
      "model_name": "ProgressStyleModel",
      "state": {
       "description_width": "initial"
      }
     },
     "8a646cc34bdd4a3db6e93e20bfe9310f": {
      "model_module": "@jupyter-widgets/controls",
      "model_module_version": "1.5.0",
      "model_name": "DescriptionStyleModel",
      "state": {
       "description_width": ""
      }
     },
     "8a76d18a9b1b4faba08931976c32633c": {
      "model_module": "@jupyter-widgets/controls",
      "model_module_version": "1.5.0",
      "model_name": "HTMLModel",
      "state": {
       "layout": "IPY_MODEL_6d13c81818ae4e41874cc94832388cf7",
       "style": "IPY_MODEL_072b1b706500437eb78fd1c05531d812",
       "value": " 0/90000 [00:48&lt;?, ?it/s]"
      }
     },
     "8a841dc510444732b5a35a566e3958c5": {
      "model_module": "@jupyter-widgets/base",
      "model_module_version": "1.2.0",
      "model_name": "LayoutModel",
      "state": {}
     },
     "8aa81e5bba9d4bc382c7cbe32bd642b9": {
      "model_module": "@jupyter-widgets/controls",
      "model_module_version": "1.5.0",
      "model_name": "HBoxModel",
      "state": {
       "children": [
        "IPY_MODEL_914d96edff114f38a6688409949ce070",
        "IPY_MODEL_f3de5eafe567470aa3d939ba592b1a21"
       ],
       "layout": "IPY_MODEL_cab05da4213549439a6f49eefbbea4b8"
      }
     },
     "8aeccc53ed544600af89c35f77f685f7": {
      "model_module": "@jupyter-widgets/base",
      "model_module_version": "1.2.0",
      "model_name": "LayoutModel",
      "state": {}
     },
     "8b026c7d64f74867892e8d8cf3cdc602": {
      "model_module": "@jupyter-widgets/base",
      "model_module_version": "1.2.0",
      "model_name": "LayoutModel",
      "state": {}
     },
     "8b04808cd6464f43b3d57d8e5f31c941": {
      "model_module": "@jupyter-widgets/controls",
      "model_module_version": "1.5.0",
      "model_name": "DescriptionStyleModel",
      "state": {
       "description_width": ""
      }
     },
     "8b1b44894fcc47148799e22dce8a8f63": {
      "model_module": "@jupyter-widgets/controls",
      "model_module_version": "1.5.0",
      "model_name": "ProgressStyleModel",
      "state": {
       "description_width": "initial"
      }
     },
     "8b22a080c92745d38d1d8f5e4affbe70": {
      "model_module": "@jupyter-widgets/base",
      "model_module_version": "1.2.0",
      "model_name": "LayoutModel",
      "state": {}
     },
     "8b3a0c9ffc6646848ee66cc5dcaa0162": {
      "model_module": "@jupyter-widgets/controls",
      "model_module_version": "1.5.0",
      "model_name": "ProgressStyleModel",
      "state": {
       "description_width": "initial"
      }
     },
     "8b5ad7068243411a86c77e5e9bc264bf": {
      "model_module": "@jupyter-widgets/controls",
      "model_module_version": "1.5.0",
      "model_name": "DescriptionStyleModel",
      "state": {
       "description_width": ""
      }
     },
     "8b78e743012147799e1f882133169a49": {
      "model_module": "@jupyter-widgets/base",
      "model_module_version": "1.2.0",
      "model_name": "LayoutModel",
      "state": {}
     },
     "8baa7cc7f77d435eaa3e117c790dfb75": {
      "model_module": "@jupyter-widgets/controls",
      "model_module_version": "1.5.0",
      "model_name": "DescriptionStyleModel",
      "state": {
       "description_width": ""
      }
     },
     "8bba300581c04b3face50ffb0419e37c": {
      "model_module": "@jupyter-widgets/base",
      "model_module_version": "1.2.0",
      "model_name": "LayoutModel",
      "state": {}
     },
     "8bc0104225e94875ae687aa109218d04": {
      "model_module": "@jupyter-widgets/controls",
      "model_module_version": "1.5.0",
      "model_name": "HBoxModel",
      "state": {
       "children": [
        "IPY_MODEL_aa6244cef7524351aa2d6234e032edfd",
        "IPY_MODEL_dce00cf651a641c3906508dac588f570"
       ],
       "layout": "IPY_MODEL_93ae3de7a37044cea3b22afb4fb08a0a"
      }
     },
     "8bc823b64bb4483a8c2b542dc965539d": {
      "model_module": "@jupyter-widgets/controls",
      "model_module_version": "1.5.0",
      "model_name": "HBoxModel",
      "state": {
       "children": [
        "IPY_MODEL_d42529e9e57b441688f6e8468974916c",
        "IPY_MODEL_5d44cac8171d43b7a9260abc1529283d"
       ],
       "layout": "IPY_MODEL_76166cc6c7134261b8737ad1eda902f8"
      }
     },
     "8bd178208e8c4ee2b02927015c3427b7": {
      "model_module": "@jupyter-widgets/base",
      "model_module_version": "1.2.0",
      "model_name": "LayoutModel",
      "state": {}
     },
     "8be232c26c8241dea55806581847a82b": {
      "model_module": "@jupyter-widgets/controls",
      "model_module_version": "1.5.0",
      "model_name": "FloatProgressModel",
      "state": {
       "bar_style": "danger",
       "description": "Train epoch=0:   0%",
       "layout": "IPY_MODEL_33ec4c75c56a46edb886fe4244fb0d1d",
       "max": 45000,
       "style": "IPY_MODEL_635e06550594414db2912928c81464c0"
      }
     },
     "8be8c534a93345b8b9f57c76545c7edc": {
      "model_module": "@jupyter-widgets/controls",
      "model_module_version": "1.5.0",
      "model_name": "HBoxModel",
      "state": {
       "children": [
        "IPY_MODEL_f237ff19722940b2af965bfcf0e89ca1",
        "IPY_MODEL_252f6f2bfc45408c8d1e1922b99af4f4"
       ],
       "layout": "IPY_MODEL_6925ddcff8ef40e1b5388f3763a534ba"
      }
     },
     "8bf47819770748f3b11dcd2fffde90fd": {
      "model_module": "@jupyter-widgets/base",
      "model_module_version": "1.2.0",
      "model_name": "LayoutModel",
      "state": {}
     },
     "8bfaff30f70648e5967fb8d529ace400": {
      "model_module": "@jupyter-widgets/base",
      "model_module_version": "1.2.0",
      "model_name": "LayoutModel",
      "state": {}
     },
     "8c0a4b81145a4b3ca8c94f39ff9718a3": {
      "model_module": "@jupyter-widgets/controls",
      "model_module_version": "1.5.0",
      "model_name": "FloatProgressModel",
      "state": {
       "bar_style": "danger",
       "description": "Train epoch=0:   0%",
       "layout": "IPY_MODEL_7075c8c1196841f281f2125c30149a36",
       "max": 45000,
       "style": "IPY_MODEL_4712006b7a57403a84c86f79e9baf10b"
      }
     },
     "8c0ba6ef5ce34c658cb6d388598e9754": {
      "model_module": "@jupyter-widgets/controls",
      "model_module_version": "1.5.0",
      "model_name": "DescriptionStyleModel",
      "state": {
       "description_width": ""
      }
     },
     "8c18e20e96f6453d9392a4257eaddea4": {
      "model_module": "@jupyter-widgets/controls",
      "model_module_version": "1.5.0",
      "model_name": "HBoxModel",
      "state": {
       "children": [
        "IPY_MODEL_fb3de4a4283d4043ada767966b51b716",
        "IPY_MODEL_daa827a58013421d9378fd106a18a49f"
       ],
       "layout": "IPY_MODEL_c8051e2fd28f477298d4b110a25da383"
      }
     },
     "8c1fdf091c244566b947e4c7faec3c01": {
      "model_module": "@jupyter-widgets/base",
      "model_module_version": "1.2.0",
      "model_name": "LayoutModel",
      "state": {}
     },
     "8c25b32a5757451eb38c5b03b6acdbd6": {
      "model_module": "@jupyter-widgets/controls",
      "model_module_version": "1.5.0",
      "model_name": "FloatProgressModel",
      "state": {
       "bar_style": "danger",
       "description": "Train:   0%",
       "layout": "IPY_MODEL_a7bc19c841ae400cad3964c86e29e375",
       "max": 23,
       "style": "IPY_MODEL_83051bff82df412d9a8365d7d873b58e"
      }
     },
     "8c37dde7e93945ccb6249f98164329b3": {
      "model_module": "@jupyter-widgets/base",
      "model_module_version": "1.2.0",
      "model_name": "LayoutModel",
      "state": {}
     },
     "8c724c624c2744a6804e47b78c251fa1": {
      "model_module": "@jupyter-widgets/base",
      "model_module_version": "1.2.0",
      "model_name": "LayoutModel",
      "state": {}
     },
     "8c8eadfdf5d6411b8535433fc018a1c7": {
      "model_module": "@jupyter-widgets/base",
      "model_module_version": "1.2.0",
      "model_name": "LayoutModel",
      "state": {}
     },
     "8c92244b742441debc7e5d762dd10f72": {
      "model_module": "@jupyter-widgets/controls",
      "model_module_version": "1.5.0",
      "model_name": "HTMLModel",
      "state": {
       "layout": "IPY_MODEL_306d81138fc846a9bfc2af6858bc4702",
       "style": "IPY_MODEL_16c0607c0d194b71914f28f82526e997",
       "value": " 0/90000 [00:26&lt;?, ?it/s]"
      }
     },
     "8ca7d55458c8423590f778a819a228c5": {
      "model_module": "@jupyter-widgets/base",
      "model_module_version": "1.2.0",
      "model_name": "LayoutModel",
      "state": {}
     },
     "8caf8341e47445618f3e789cc1fc0af0": {
      "model_module": "@jupyter-widgets/base",
      "model_module_version": "1.2.0",
      "model_name": "LayoutModel",
      "state": {}
     },
     "8cb71cba84a14bfd8600b60691e36122": {
      "model_module": "@jupyter-widgets/controls",
      "model_module_version": "1.5.0",
      "model_name": "ProgressStyleModel",
      "state": {
       "description_width": "initial"
      }
     },
     "8cc344f4bcdd4b49904e89940dcf1ffc": {
      "model_module": "@jupyter-widgets/base",
      "model_module_version": "1.2.0",
      "model_name": "LayoutModel",
      "state": {}
     },
     "8ce74c0f4a76494885573076372ae946": {
      "model_module": "@jupyter-widgets/controls",
      "model_module_version": "1.5.0",
      "model_name": "ProgressStyleModel",
      "state": {
       "description_width": "initial"
      }
     },
     "8cf32ecc3a9445d8b9177476e09fc8eb": {
      "model_module": "@jupyter-widgets/controls",
      "model_module_version": "1.5.0",
      "model_name": "HBoxModel",
      "state": {
       "children": [
        "IPY_MODEL_dac95c0907cd48bc943b770376104c8e",
        "IPY_MODEL_70ebc5b243bc41d3945fdd2ba297116c"
       ],
       "layout": "IPY_MODEL_c70c3bc283c94a86b2f23b4d9ffe9996"
      }
     },
     "8cf3b5f6562642b6af8566d49bbf09ee": {
      "model_module": "@jupyter-widgets/controls",
      "model_module_version": "1.5.0",
      "model_name": "FloatProgressModel",
      "state": {
       "bar_style": "danger",
       "description": "Train epoch=0:   0%",
       "layout": "IPY_MODEL_24f286cf2b5f41aeb66d13c2aac5358b",
       "max": 90000,
       "style": "IPY_MODEL_5eb137be5cfa435eb5cc988188ebab68"
      }
     },
     "8d1b49bc7f884b9daebcd1ec0a99c3cf": {
      "model_module": "@jupyter-widgets/base",
      "model_module_version": "1.2.0",
      "model_name": "LayoutModel",
      "state": {}
     },
     "8d2675358ec940248fdc8404ea49bc3f": {
      "model_module": "@jupyter-widgets/controls",
      "model_module_version": "1.5.0",
      "model_name": "HBoxModel",
      "state": {
       "children": [
        "IPY_MODEL_bf3a3bc32d424496b38c81796e7ba586",
        "IPY_MODEL_24b2722fd7db42e8a3a8ca14dff64af0"
       ],
       "layout": "IPY_MODEL_49fb8882b8814f5cb49355ac29900f50"
      }
     },
     "8d3e638f28e24134a94b756d7cfacb94": {
      "model_module": "@jupyter-widgets/base",
      "model_module_version": "1.2.0",
      "model_name": "LayoutModel",
      "state": {}
     },
     "8d6f813b3c584230b726454790cd0274": {
      "model_module": "@jupyter-widgets/base",
      "model_module_version": "1.2.0",
      "model_name": "LayoutModel",
      "state": {}
     },
     "8d76d200a1eb4452b3d71495ee6bacf6": {
      "model_module": "@jupyter-widgets/controls",
      "model_module_version": "1.5.0",
      "model_name": "HTMLModel",
      "state": {
       "layout": "IPY_MODEL_d698fbd99f974ef4b7a41937b5484eab",
       "style": "IPY_MODEL_a6a10781d5214396be669d903ba42b25",
       "value": " 0/5000 [28:59&lt;?, ?it/s]"
      }
     },
     "8d8483e62daa488093ca895f4867ca23": {
      "model_module": "@jupyter-widgets/base",
      "model_module_version": "1.2.0",
      "model_name": "LayoutModel",
      "state": {}
     },
     "8da883996c4c48a09e758f96899bb786": {
      "model_module": "@jupyter-widgets/base",
      "model_module_version": "1.2.0",
      "model_name": "LayoutModel",
      "state": {}
     },
     "8da891c2272d45febaf86d1006c788e1": {
      "model_module": "@jupyter-widgets/controls",
      "model_module_version": "1.5.0",
      "model_name": "ProgressStyleModel",
      "state": {
       "description_width": "initial"
      }
     },
     "8db7e2ce0b5a429a80ad8021ba0e9662": {
      "model_module": "@jupyter-widgets/controls",
      "model_module_version": "1.5.0",
      "model_name": "DescriptionStyleModel",
      "state": {
       "description_width": ""
      }
     },
     "8dbe03712ea54c4ba9719dde8f1cfad6": {
      "model_module": "@jupyter-widgets/base",
      "model_module_version": "1.2.0",
      "model_name": "LayoutModel",
      "state": {}
     },
     "8dca3496ea294d359fed35606a748874": {
      "model_module": "@jupyter-widgets/controls",
      "model_module_version": "1.5.0",
      "model_name": "FloatProgressModel",
      "state": {
       "bar_style": "danger",
       "description": "Valid iteration=0:   0%",
       "layout": "IPY_MODEL_dc9344093db74b2f8c5c6b550724cb4e",
       "max": 10000,
       "style": "IPY_MODEL_cc6c1d6c4dab46338d6742b2d62612d2"
      }
     },
     "8dd92b747c064a20b068cd1f669a5493": {
      "model_module": "@jupyter-widgets/base",
      "model_module_version": "1.2.0",
      "model_name": "LayoutModel",
      "state": {}
     },
     "8df56b28a69c4a69ae86fc67be98d001": {
      "model_module": "@jupyter-widgets/base",
      "model_module_version": "1.2.0",
      "model_name": "LayoutModel",
      "state": {}
     },
     "8df6c699976e4f71891a97009fff89fa": {
      "model_module": "@jupyter-widgets/controls",
      "model_module_version": "1.5.0",
      "model_name": "ProgressStyleModel",
      "state": {
       "description_width": "initial"
      }
     },
     "8e126c6b96be43c689f14be72c7f5d99": {
      "model_module": "@jupyter-widgets/base",
      "model_module_version": "1.2.0",
      "model_name": "LayoutModel",
      "state": {}
     },
     "8e18a249664049c581ad4c4926adde0f": {
      "model_module": "@jupyter-widgets/controls",
      "model_module_version": "1.5.0",
      "model_name": "DescriptionStyleModel",
      "state": {
       "description_width": ""
      }
     },
     "8e1bbb8e93874578a767eec491cd0a04": {
      "model_module": "@jupyter-widgets/base",
      "model_module_version": "1.2.0",
      "model_name": "LayoutModel",
      "state": {}
     },
     "8e2d89e26a9e419a8c713ffc4d937d69": {
      "model_module": "@jupyter-widgets/controls",
      "model_module_version": "1.5.0",
      "model_name": "FloatProgressModel",
      "state": {
       "bar_style": "danger",
       "description": "Train epoch=0:   0%",
       "layout": "IPY_MODEL_ef34a6590faf4d5cbe423e1b65c03f2b",
       "max": 90000,
       "style": "IPY_MODEL_c5b8506fa54a493999621ea6612d4144"
      }
     },
     "8e3f0f41ea6c44789c5703893cc47709": {
      "model_module": "@jupyter-widgets/base",
      "model_module_version": "1.2.0",
      "model_name": "LayoutModel",
      "state": {}
     },
     "8e4519b71c3a4b579143fea5550d1a64": {
      "model_module": "@jupyter-widgets/controls",
      "model_module_version": "1.5.0",
      "model_name": "ProgressStyleModel",
      "state": {
       "description_width": "initial"
      }
     },
     "8e628d02531a4c9492defbea500270ab": {
      "model_module": "@jupyter-widgets/controls",
      "model_module_version": "1.5.0",
      "model_name": "ProgressStyleModel",
      "state": {
       "description_width": "initial"
      }
     },
     "8e6c4f45770e43c7954e0ef46dcc03d4": {
      "model_module": "@jupyter-widgets/controls",
      "model_module_version": "1.5.0",
      "model_name": "HTMLModel",
      "state": {
       "layout": "IPY_MODEL_0e8b869ddb2943daa9e7c2569fa4aa5b",
       "style": "IPY_MODEL_de4923029f4e481eb5dc3b7e3765485d",
       "value": " 0/45000 [00:16&lt;?, ?it/s]"
      }
     },
     "8e6ced4ea7c744519957fa5c47347c22": {
      "model_module": "@jupyter-widgets/base",
      "model_module_version": "1.2.0",
      "model_name": "LayoutModel",
      "state": {}
     },
     "8e6f192798a14d469587d99889386077": {
      "model_module": "@jupyter-widgets/base",
      "model_module_version": "1.2.0",
      "model_name": "LayoutModel",
      "state": {}
     },
     "8e7f8bc55177440b975dfc3569ede630": {
      "model_module": "@jupyter-widgets/base",
      "model_module_version": "1.2.0",
      "model_name": "LayoutModel",
      "state": {}
     },
     "8e82ac49dfa04841a194457067d22dd9": {
      "model_module": "@jupyter-widgets/controls",
      "model_module_version": "1.5.0",
      "model_name": "HBoxModel",
      "state": {
       "children": [
        "IPY_MODEL_f08305954ba9469f9e651c29171ba68c",
        "IPY_MODEL_966aec641adf4206bebef97c6cea4061"
       ],
       "layout": "IPY_MODEL_42d11c30e9e34eac9903efe0763b9e7d"
      }
     },
     "8e86cc3b5d1e492faaa136543c903181": {
      "model_module": "@jupyter-widgets/controls",
      "model_module_version": "1.5.0",
      "model_name": "HBoxModel",
      "state": {
       "children": [
        "IPY_MODEL_3696c5d8ae334b3c8ef960abcf2adbde",
        "IPY_MODEL_d66116de6b224974840584677f2b9bdb"
       ],
       "layout": "IPY_MODEL_1cbaf921c0a04390b270b60507664e43"
      }
     },
     "8eab0244bd344bb4aedcb9f96a2092b2": {
      "model_module": "@jupyter-widgets/controls",
      "model_module_version": "1.5.0",
      "model_name": "FloatProgressModel",
      "state": {
       "bar_style": "danger",
       "description": "Valid iteration=0:   0%",
       "layout": "IPY_MODEL_5ad533511de64b89bbd2c2109c11359f",
       "max": 10000,
       "style": "IPY_MODEL_2b28fd445d4342e28c149b45cd56c347"
      }
     },
     "8f00381505df4aed9e6158b40a8c3a31": {
      "model_module": "@jupyter-widgets/controls",
      "model_module_version": "1.5.0",
      "model_name": "HBoxModel",
      "state": {
       "children": [
        "IPY_MODEL_3da595c3e2b04b958d9f28f906c807bb",
        "IPY_MODEL_556cc179f7b44336909b7e6e657d1b24"
       ],
       "layout": "IPY_MODEL_790a6bf944fd4780a153228ac44be14a"
      }
     },
     "8f142af151894f9d8ef71e1222aaf5bd": {
      "model_module": "@jupyter-widgets/controls",
      "model_module_version": "1.5.0",
      "model_name": "ProgressStyleModel",
      "state": {
       "description_width": "initial"
      }
     },
     "8f1b856ea7aa4399b4d6a5e239278208": {
      "model_module": "@jupyter-widgets/controls",
      "model_module_version": "1.5.0",
      "model_name": "ProgressStyleModel",
      "state": {
       "description_width": "initial"
      }
     },
     "8f57978dfd8f405fa631c61eb4f32c6b": {
      "model_module": "@jupyter-widgets/base",
      "model_module_version": "1.2.0",
      "model_name": "LayoutModel",
      "state": {}
     },
     "8f7d46f1861b4ef2b1364953407346e2": {
      "model_module": "@jupyter-widgets/controls",
      "model_module_version": "1.5.0",
      "model_name": "DescriptionStyleModel",
      "state": {
       "description_width": ""
      }
     },
     "8f82a13821754c39834593745dec61b7": {
      "model_module": "@jupyter-widgets/controls",
      "model_module_version": "1.5.0",
      "model_name": "HBoxModel",
      "state": {
       "children": [
        "IPY_MODEL_c9339223ccc847a28436f93f6fb527e0",
        "IPY_MODEL_0fd1f68770724db8a031aa1b138768a6"
       ],
       "layout": "IPY_MODEL_5de50b7dfed0439eb7865eaf654672aa"
      }
     },
     "8f8ab789fdab4471a733374e38921b13": {
      "model_module": "@jupyter-widgets/controls",
      "model_module_version": "1.5.0",
      "model_name": "FloatProgressModel",
      "state": {
       "bar_style": "danger",
       "description": "Train:   0%",
       "layout": "IPY_MODEL_7655746a962e4775805be0a28ce5654c",
       "max": 12,
       "style": "IPY_MODEL_0763de9ae75f4623aca88be5d1a11dec"
      }
     },
     "8fc55c56bfc7422a8fcc1cb4008ac9b6": {
      "model_module": "@jupyter-widgets/controls",
      "model_module_version": "1.5.0",
      "model_name": "HTMLModel",
      "state": {
       "layout": "IPY_MODEL_725a766141d6412fab824f46f804a895",
       "style": "IPY_MODEL_57fec01a0a0d4b2580d67832a96c9061",
       "value": " 0/90000 [00:56&lt;?, ?it/s]"
      }
     },
     "8fd2bab22f424f92a318617bd88483a6": {
      "model_module": "@jupyter-widgets/base",
      "model_module_version": "1.2.0",
      "model_name": "LayoutModel",
      "state": {}
     },
     "90027fbd18ca4779a0001b566f8ea8f6": {
      "model_module": "@jupyter-widgets/controls",
      "model_module_version": "1.5.0",
      "model_name": "ProgressStyleModel",
      "state": {
       "description_width": "initial"
      }
     },
     "900651549e2c413eab048ccbd7e09057": {
      "model_module": "@jupyter-widgets/base",
      "model_module_version": "1.2.0",
      "model_name": "LayoutModel",
      "state": {}
     },
     "900f6fea432d47628e3c9a31e2582ed8": {
      "model_module": "@jupyter-widgets/controls",
      "model_module_version": "1.5.0",
      "model_name": "ProgressStyleModel",
      "state": {
       "description_width": "initial"
      }
     },
     "902b651b83e84fcb824c30bcbffe92cf": {
      "model_module": "@jupyter-widgets/controls",
      "model_module_version": "1.5.0",
      "model_name": "HTMLModel",
      "state": {
       "layout": "IPY_MODEL_0b82b430d6ee47d5b77bede3e390b82c",
       "style": "IPY_MODEL_7811b67dac4f43c8915fd0315f5eca04",
       "value": " 0/12 [01:06&lt;?, ?it/s]"
      }
     },
     "903f583896e34cc5814c4a5334fc5307": {
      "model_module": "@jupyter-widgets/controls",
      "model_module_version": "1.5.0",
      "model_name": "FloatProgressModel",
      "state": {
       "bar_style": "danger",
       "description": "Train epoch=0:   0%",
       "layout": "IPY_MODEL_7a89add5bd504a8daa546a2f368cd06f",
       "max": 45000,
       "style": "IPY_MODEL_df265c1aca8341eaad153c80661a9f69"
      }
     },
     "90650e410bd043d2941899c796b3424d": {
      "model_module": "@jupyter-widgets/base",
      "model_module_version": "1.2.0",
      "model_name": "LayoutModel",
      "state": {}
     },
     "9071bb5c60de44d0983a283dbed3a7f9": {
      "model_module": "@jupyter-widgets/base",
      "model_module_version": "1.2.0",
      "model_name": "LayoutModel",
      "state": {}
     },
     "9090fbc42b6244c3b1631532820ff11b": {
      "model_module": "@jupyter-widgets/base",
      "model_module_version": "1.2.0",
      "model_name": "LayoutModel",
      "state": {}
     },
     "9095b345616e430fbdab941e4ac77dd1": {
      "model_module": "@jupyter-widgets/controls",
      "model_module_version": "1.5.0",
      "model_name": "ProgressStyleModel",
      "state": {
       "description_width": "initial"
      }
     },
     "90961e14babb4815ab34675fb8c24ac2": {
      "model_module": "@jupyter-widgets/controls",
      "model_module_version": "1.5.0",
      "model_name": "ProgressStyleModel",
      "state": {
       "description_width": "initial"
      }
     },
     "909a4cfec82145058b864902f0cf37ce": {
      "model_module": "@jupyter-widgets/base",
      "model_module_version": "1.2.0",
      "model_name": "LayoutModel",
      "state": {}
     },
     "90e1f9825be4483e808337ecc31f84b1": {
      "model_module": "@jupyter-widgets/controls",
      "model_module_version": "1.5.0",
      "model_name": "DescriptionStyleModel",
      "state": {
       "description_width": ""
      }
     },
     "9139c2f7c0d3478fa85ebe5f8afda809": {
      "model_module": "@jupyter-widgets/controls",
      "model_module_version": "1.5.0",
      "model_name": "DescriptionStyleModel",
      "state": {
       "description_width": ""
      }
     },
     "914baec4f2c44ba6838fc528dd7cf0b3": {
      "model_module": "@jupyter-widgets/controls",
      "model_module_version": "1.5.0",
      "model_name": "HBoxModel",
      "state": {
       "children": [
        "IPY_MODEL_8eab0244bd344bb4aedcb9f96a2092b2",
        "IPY_MODEL_5c441b88e75448cf8ddab4a5f9e55804"
       ],
       "layout": "IPY_MODEL_2ead91a047b249adaf28654ae2ea5b15"
      }
     },
     "914d96edff114f38a6688409949ce070": {
      "model_module": "@jupyter-widgets/controls",
      "model_module_version": "1.5.0",
      "model_name": "FloatProgressModel",
      "state": {
       "bar_style": "danger",
       "description": "Valid iteration=0:   0%",
       "layout": "IPY_MODEL_8ca7d55458c8423590f778a819a228c5",
       "max": 10000,
       "style": "IPY_MODEL_aadef2ef6bc547e78ec5c67d3575854e"
      }
     },
     "91512307b5664af2911cb5695b149ae5": {
      "model_module": "@jupyter-widgets/controls",
      "model_module_version": "1.5.0",
      "model_name": "HBoxModel",
      "state": {
       "children": [
        "IPY_MODEL_dc560a65ea4745d58f159276684055cf",
        "IPY_MODEL_f34bfa105bb845fc99847cbc3cd57c65"
       ],
       "layout": "IPY_MODEL_770c7fe23d4b4b9bb5c1c155e3b8dadd"
      }
     },
     "9153b28cf0e34f2c8550b71f6c1e744e": {
      "model_module": "@jupyter-widgets/base",
      "model_module_version": "1.2.0",
      "model_name": "LayoutModel",
      "state": {}
     },
     "9175f1d278ae4dc292b60a7e9aaca88e": {
      "model_module": "@jupyter-widgets/base",
      "model_module_version": "1.2.0",
      "model_name": "LayoutModel",
      "state": {}
     },
     "917778599be6460884ac04ec1be07d45": {
      "model_module": "@jupyter-widgets/controls",
      "model_module_version": "1.5.0",
      "model_name": "ProgressStyleModel",
      "state": {
       "description_width": "initial"
      }
     },
     "918b96f3bdfe42fc8399a5947116d92b": {
      "model_module": "@jupyter-widgets/controls",
      "model_module_version": "1.5.0",
      "model_name": "HBoxModel",
      "state": {
       "children": [
        "IPY_MODEL_620a13826dd04badb977fe986ba21a8c",
        "IPY_MODEL_6e556d181c7c4cdba6933f695fdc18d7"
       ],
       "layout": "IPY_MODEL_a233680cd63b44e9ba26483353879dfc"
      }
     },
     "91b69ed56db14b6fbc4343bcf8caadec": {
      "model_module": "@jupyter-widgets/controls",
      "model_module_version": "1.5.0",
      "model_name": "DescriptionStyleModel",
      "state": {
       "description_width": ""
      }
     },
     "91bb6ffa15914c948efce1062e03945b": {
      "model_module": "@jupyter-widgets/base",
      "model_module_version": "1.2.0",
      "model_name": "LayoutModel",
      "state": {}
     },
     "91ebdb1433e94b3797d04c445bb113c6": {
      "model_module": "@jupyter-widgets/controls",
      "model_module_version": "1.5.0",
      "model_name": "ProgressStyleModel",
      "state": {
       "description_width": "initial"
      }
     },
     "91fe7d178f1541f49c4e5ff5f9e1367b": {
      "model_module": "@jupyter-widgets/controls",
      "model_module_version": "1.5.0",
      "model_name": "ProgressStyleModel",
      "state": {
       "description_width": "initial"
      }
     },
     "9255d785305a48d193a7b396af060ae3": {
      "model_module": "@jupyter-widgets/base",
      "model_module_version": "1.2.0",
      "model_name": "LayoutModel",
      "state": {}
     },
     "9293b43cdde34605a9dc8b222a64796d": {
      "model_module": "@jupyter-widgets/base",
      "model_module_version": "1.2.0",
      "model_name": "LayoutModel",
      "state": {}
     },
     "92b30bffc1144b3ab220684fb3727690": {
      "model_module": "@jupyter-widgets/controls",
      "model_module_version": "1.5.0",
      "model_name": "FloatProgressModel",
      "state": {
       "bar_style": "danger",
       "description": "Train epoch=0:   2%",
       "layout": "IPY_MODEL_3a141590fb62430996227f2568217c0a",
       "max": 90000,
       "style": "IPY_MODEL_4a9dba9c29274efbaa14cbcea9087277",
       "value": 1522
      }
     },
     "92c70ca0a6174d3caed5f399a54fb222": {
      "model_module": "@jupyter-widgets/controls",
      "model_module_version": "1.5.0",
      "model_name": "HTMLModel",
      "state": {
       "layout": "IPY_MODEL_c653e2b2b449472497014f3781b3a0a9",
       "style": "IPY_MODEL_e1b9e5e9e85d48d4a04d89e6b364d787",
       "value": " 0/23 [11:46&lt;?, ?it/s]"
      }
     },
     "92cc54b7338045f3992d9950d15405ae": {
      "model_module": "@jupyter-widgets/base",
      "model_module_version": "1.2.0",
      "model_name": "LayoutModel",
      "state": {}
     },
     "92dc64d4ad35463ba7e39307331ff46a": {
      "model_module": "@jupyter-widgets/controls",
      "model_module_version": "1.5.0",
      "model_name": "HTMLModel",
      "state": {
       "layout": "IPY_MODEL_810d590e62164e6a98339b5c0d4be4da",
       "style": "IPY_MODEL_09c394eeb92e4349a7654b60a55bc7e2",
       "value": " 169/90000 [01:13&lt;9:50:45,  2.53it/s]"
      }
     },
     "92f3a135b653460ba94af485e734eb9c": {
      "model_module": "@jupyter-widgets/base",
      "model_module_version": "1.2.0",
      "model_name": "LayoutModel",
      "state": {}
     },
     "930b45aca9e94ae48067bbb29f68993f": {
      "model_module": "@jupyter-widgets/controls",
      "model_module_version": "1.5.0",
      "model_name": "HTMLModel",
      "state": {
       "layout": "IPY_MODEL_9911e501dc974313bc098561321df1a2",
       "style": "IPY_MODEL_447247337b8740ba9c7c03607bbaddbb",
       "value": " 0/5000 [19:03&lt;?, ?it/s]"
      }
     },
     "93253cbb40c64f2eaa2f9cf1fd48d31f": {
      "model_module": "@jupyter-widgets/controls",
      "model_module_version": "1.5.0",
      "model_name": "HTMLModel",
      "state": {
       "layout": "IPY_MODEL_202edc11aa064f1580287b5aed5d6ecd",
       "style": "IPY_MODEL_333af4c42e9148e9b25bc039a20088d3",
       "value": " 0/10000 [02:10&lt;?, ?it/s]"
      }
     },
     "93370cd7b1664326a1e606db87650388": {
      "model_module": "@jupyter-widgets/controls",
      "model_module_version": "1.5.0",
      "model_name": "HTMLModel",
      "state": {
       "layout": "IPY_MODEL_e7f5e08311aa42c5a3b303d069aa1975",
       "style": "IPY_MODEL_8a646cc34bdd4a3db6e93e20bfe9310f",
       "value": " 0/90000 [00:25&lt;?, ?it/s]"
      }
     },
     "934848da48004870818dcf39e112554c": {
      "model_module": "@jupyter-widgets/base",
      "model_module_version": "1.2.0",
      "model_name": "LayoutModel",
      "state": {}
     },
     "937c78f6996745a48f26a550554217cc": {
      "model_module": "@jupyter-widgets/controls",
      "model_module_version": "1.5.0",
      "model_name": "HTMLModel",
      "state": {
       "layout": "IPY_MODEL_4937ea24aa6345e39399bf1b016b5c7e",
       "style": "IPY_MODEL_3b91b1b0cbed416887654a79064accd8",
       "value": " 2563/45000 [28:48&lt;7:46:10,  1.52it/s]"
      }
     },
     "93a4318f506743fa9d1dab3dd7e67619": {
      "model_module": "@jupyter-widgets/controls",
      "model_module_version": "1.5.0",
      "model_name": "DescriptionStyleModel",
      "state": {
       "description_width": ""
      }
     },
     "93a6deda80bf420db9b350b25ea8f21b": {
      "model_module": "@jupyter-widgets/controls",
      "model_module_version": "1.5.0",
      "model_name": "HBoxModel",
      "state": {
       "children": [
        "IPY_MODEL_fea578cba25c4a7dace2366340df9799",
        "IPY_MODEL_b00effc6af27443fb30c71dee06edd9b"
       ],
       "layout": "IPY_MODEL_5c50fb3be784458eace35427ed93a158"
      }
     },
     "93a9a4bed24149bc9bfca2f17d42bd4e": {
      "model_module": "@jupyter-widgets/controls",
      "model_module_version": "1.5.0",
      "model_name": "DescriptionStyleModel",
      "state": {
       "description_width": ""
      }
     },
     "93ae3de7a37044cea3b22afb4fb08a0a": {
      "model_module": "@jupyter-widgets/base",
      "model_module_version": "1.2.0",
      "model_name": "LayoutModel",
      "state": {}
     },
     "93cc2854b4c64fe59a0c8bd8ea87518d": {
      "model_module": "@jupyter-widgets/controls",
      "model_module_version": "1.5.0",
      "model_name": "ProgressStyleModel",
      "state": {
       "description_width": "initial"
      }
     },
     "93e2fe40f8ac4531915ad080aeebf454": {
      "model_module": "@jupyter-widgets/base",
      "model_module_version": "1.2.0",
      "model_name": "LayoutModel",
      "state": {}
     },
     "93f95ea27fa64c2a8c427dc5cb9be675": {
      "model_module": "@jupyter-widgets/controls",
      "model_module_version": "1.5.0",
      "model_name": "ProgressStyleModel",
      "state": {
       "description_width": "initial"
      }
     },
     "9425bd6774294b0dbfcc26a3c292f037": {
      "model_module": "@jupyter-widgets/controls",
      "model_module_version": "1.5.0",
      "model_name": "DescriptionStyleModel",
      "state": {
       "description_width": ""
      }
     },
     "945201c57dca41cd83e4b8fb0fb4e91c": {
      "model_module": "@jupyter-widgets/controls",
      "model_module_version": "1.5.0",
      "model_name": "HTMLModel",
      "state": {
       "layout": "IPY_MODEL_af989da48173471da816248e4a786ad0",
       "style": "IPY_MODEL_f8d1fd90d7d84c11855d3e1dd7664387",
       "value": " 2/45000 [00:02&lt;21:44:41,  1.74s/it]"
      }
     },
     "9459c1c6bec647b4beb4ff1c94f4e5a9": {
      "model_module": "@jupyter-widgets/controls",
      "model_module_version": "1.5.0",
      "model_name": "ProgressStyleModel",
      "state": {
       "description_width": "initial"
      }
     },
     "9484d506674c4fc18f6966d38694bd19": {
      "model_module": "@jupyter-widgets/controls",
      "model_module_version": "1.5.0",
      "model_name": "FloatProgressModel",
      "state": {
       "bar_style": "danger",
       "description": "Train epoch=0:   0%",
       "layout": "IPY_MODEL_63c7863cb3094ecd95445cdc45a664b7",
       "max": 90000,
       "style": "IPY_MODEL_9bde2c188823496386a3ab7903555575"
      }
     },
     "9486860b12654dffb0fd8cc9695db8f0": {
      "model_module": "@jupyter-widgets/controls",
      "model_module_version": "1.5.0",
      "model_name": "DescriptionStyleModel",
      "state": {
       "description_width": ""
      }
     },
     "9492b61000204cfca1f871e91765fed2": {
      "model_module": "@jupyter-widgets/controls",
      "model_module_version": "1.5.0",
      "model_name": "HBoxModel",
      "state": {
       "children": [
        "IPY_MODEL_0fc8c75bd06d4772b52466e5c8307aa3",
        "IPY_MODEL_b766800261c3470286da8c8087455f91"
       ],
       "layout": "IPY_MODEL_e5040155e60341d585816d8f08c1739e"
      }
     },
     "94970e3f754f40ddaddbcb0d935ed156": {
      "model_module": "@jupyter-widgets/base",
      "model_module_version": "1.2.0",
      "model_name": "LayoutModel",
      "state": {}
     },
     "94b1d7c5f85a4bee8b336a5e1118052e": {
      "model_module": "@jupyter-widgets/base",
      "model_module_version": "1.2.0",
      "model_name": "LayoutModel",
      "state": {}
     },
     "94d81595ffc1456fa8bb9eeb488b4b18": {
      "model_module": "@jupyter-widgets/base",
      "model_module_version": "1.2.0",
      "model_name": "LayoutModel",
      "state": {}
     },
     "95026738826d442991c100d89adcfe6e": {
      "model_module": "@jupyter-widgets/controls",
      "model_module_version": "1.5.0",
      "model_name": "HTMLModel",
      "state": {
       "layout": "IPY_MODEL_33c3651e16c94ddfaa32ecfaea57d562",
       "style": "IPY_MODEL_87b871bfc0d7414da1193d0bf7df2949",
       "value": " 0/10000 [00:21&lt;?, ?it/s]"
      }
     },
     "950440567eb74dcea4e8c3256c7c546e": {
      "model_module": "@jupyter-widgets/base",
      "model_module_version": "1.2.0",
      "model_name": "LayoutModel",
      "state": {}
     },
     "95301c059306416fa124be1476c403f7": {
      "model_module": "@jupyter-widgets/controls",
      "model_module_version": "1.5.0",
      "model_name": "HTMLModel",
      "state": {
       "layout": "IPY_MODEL_6063074118694050a9a947b237974e8f",
       "style": "IPY_MODEL_637be26712ed4f69bc6356130f3a04b5",
       "value": " 205/90000 [01:59&lt;11:28:46,  2.17it/s]"
      }
     },
     "953d6f38b1f24d69962892623ea628fe": {
      "model_module": "@jupyter-widgets/controls",
      "model_module_version": "1.5.0",
      "model_name": "HTMLModel",
      "state": {
       "layout": "IPY_MODEL_7f1ae4c741524bdd874494f088f0a3d8",
       "style": "IPY_MODEL_bb50d82b29a84a2094ca93e2cbf17062",
       "value": " 0/10000 [03:10&lt;?, ?it/s]"
      }
     },
     "9541e5c5dc274bd6b6493e40d0d4b04b": {
      "model_module": "@jupyter-widgets/base",
      "model_module_version": "1.2.0",
      "model_name": "LayoutModel",
      "state": {}
     },
     "95579280ffaf4c3f989cad4a2f5ddd23": {
      "model_module": "@jupyter-widgets/base",
      "model_module_version": "1.2.0",
      "model_name": "LayoutModel",
      "state": {}
     },
     "955e28318aaa4ef68e5973af57451775": {
      "model_module": "@jupyter-widgets/base",
      "model_module_version": "1.2.0",
      "model_name": "LayoutModel",
      "state": {}
     },
     "958f6fd0d97a4bf79fd346a87eb61bc8": {
      "model_module": "@jupyter-widgets/controls",
      "model_module_version": "1.5.0",
      "model_name": "FloatProgressModel",
      "state": {
       "bar_style": "danger",
       "description": "Train epoch=0:   0%",
       "layout": "IPY_MODEL_b86f1e0153b14c05b509ddbab272b6bf",
       "max": 90000,
       "style": "IPY_MODEL_6ae5574a58894b04a683390209928655"
      }
     },
     "95934cf89a3144a586da3d26175e3ad1": {
      "model_module": "@jupyter-widgets/base",
      "model_module_version": "1.2.0",
      "model_name": "LayoutModel",
      "state": {}
     },
     "959b37931b224baebe1e1b49943943d5": {
      "model_module": "@jupyter-widgets/controls",
      "model_module_version": "1.5.0",
      "model_name": "DescriptionStyleModel",
      "state": {
       "description_width": ""
      }
     },
     "95a0a1329e8d4aca8187fecf961093f6": {
      "model_module": "@jupyter-widgets/controls",
      "model_module_version": "1.5.0",
      "model_name": "FloatProgressModel",
      "state": {
       "bar_style": "danger",
       "description": "Train epoch=0:   0%",
       "layout": "IPY_MODEL_5bb85ca4ecd3459794821caffdc36190",
       "max": 90000,
       "style": "IPY_MODEL_804acb9f302d47f0ade406faee8731f5"
      }
     },
     "95cb7b1764104542afe84253d241be7b": {
      "model_module": "@jupyter-widgets/controls",
      "model_module_version": "1.5.0",
      "model_name": "ProgressStyleModel",
      "state": {
       "description_width": "initial"
      }
     },
     "95e6b160022842f59bbd40481e56a615": {
      "model_module": "@jupyter-widgets/base",
      "model_module_version": "1.2.0",
      "model_name": "LayoutModel",
      "state": {}
     },
     "95e89eaa64d346a2ac991a671a04b357": {
      "model_module": "@jupyter-widgets/base",
      "model_module_version": "1.2.0",
      "model_name": "LayoutModel",
      "state": {}
     },
     "95f6b8b1634a465782d70fcf80ce5c68": {
      "model_module": "@jupyter-widgets/base",
      "model_module_version": "1.2.0",
      "model_name": "LayoutModel",
      "state": {}
     },
     "95f7c26cde1840c9891babf0592460ee": {
      "model_module": "@jupyter-widgets/controls",
      "model_module_version": "1.5.0",
      "model_name": "FloatProgressModel",
      "state": {
       "bar_style": "danger",
       "description": "Valid iteration=2000:   0%",
       "layout": "IPY_MODEL_b3cf57294ca64079aab8f0887ee7c2ba",
       "max": 5000,
       "style": "IPY_MODEL_8e628d02531a4c9492defbea500270ab"
      }
     },
     "960127a19ebf4889a0855bd8c9f568ca": {
      "model_module": "@jupyter-widgets/controls",
      "model_module_version": "1.5.0",
      "model_name": "FloatProgressModel",
      "state": {
       "bar_style": "danger",
       "description": "Valid iteration=1000:   0%",
       "layout": "IPY_MODEL_12735ee96a1f411eb9a0604510e871c4",
       "max": 10000,
       "style": "IPY_MODEL_fc42abd765d14c59a27ece86793d25b5"
      }
     },
     "962cc67ffb234fdab803a5f11a072d8d": {
      "model_module": "@jupyter-widgets/controls",
      "model_module_version": "1.5.0",
      "model_name": "HTMLModel",
      "state": {
       "layout": "IPY_MODEL_2813499413d44db3b4da6ee96f502d7b",
       "style": "IPY_MODEL_1c776ee468f447a49170d2204b388277",
       "value": " 0/5000 [42:57&lt;?, ?it/s]"
      }
     },
     "963cc50543cc4fc8b97385987efe4325": {
      "model_module": "@jupyter-widgets/base",
      "model_module_version": "1.2.0",
      "model_name": "LayoutModel",
      "state": {}
     },
     "964ade2fb81b4045a127690871fc8f79": {
      "model_module": "@jupyter-widgets/controls",
      "model_module_version": "1.5.0",
      "model_name": "FloatProgressModel",
      "state": {
       "bar_style": "danger",
       "description": "Train:   0%",
       "layout": "IPY_MODEL_045d6c9c9837402dbbd2037ff196b46e",
       "max": 12,
       "style": "IPY_MODEL_f1215691ab8d4242bd9e70ea3dda1c28"
      }
     },
     "966aec641adf4206bebef97c6cea4061": {
      "model_module": "@jupyter-widgets/controls",
      "model_module_version": "1.5.0",
      "model_name": "HTMLModel",
      "state": {
       "layout": "IPY_MODEL_617e248161a44925a5f6dc8daee2a317",
       "style": "IPY_MODEL_b7194db09d734ca5af59364460d07020",
       "value": " 0/10000 [01:06&lt;?, ?it/s]"
      }
     },
     "9683f6b6cf0a4799b0b8241348399802": {
      "model_module": "@jupyter-widgets/controls",
      "model_module_version": "1.5.0",
      "model_name": "DescriptionStyleModel",
      "state": {
       "description_width": ""
      }
     },
     "969d9ac509424dbc88f515734dd105e3": {
      "model_module": "@jupyter-widgets/controls",
      "model_module_version": "1.5.0",
      "model_name": "DescriptionStyleModel",
      "state": {
       "description_width": ""
      }
     },
     "96a6acea898b4c4aaaf44f8daa872b09": {
      "model_module": "@jupyter-widgets/controls",
      "model_module_version": "1.5.0",
      "model_name": "FloatProgressModel",
      "state": {
       "bar_style": "danger",
       "description": "Train:   0%",
       "layout": "IPY_MODEL_f5406cff13f14b6eb2474fa0b3e2693e",
       "max": 12,
       "style": "IPY_MODEL_3500bbdbcd0d4639bd0f146f8e87ad42"
      }
     },
     "96a7668d0edd49d38b5acc65fd2056a7": {
      "model_module": "@jupyter-widgets/controls",
      "model_module_version": "1.5.0",
      "model_name": "DescriptionStyleModel",
      "state": {
       "description_width": ""
      }
     },
     "96c5ead63701429ab10d89d929813589": {
      "model_module": "@jupyter-widgets/base",
      "model_module_version": "1.2.0",
      "model_name": "LayoutModel",
      "state": {}
     },
     "96c798773d2f4070af69cbe05a72736f": {
      "model_module": "@jupyter-widgets/controls",
      "model_module_version": "1.5.0",
      "model_name": "HTMLModel",
      "state": {
       "layout": "IPY_MODEL_2cf1da09449c42909d423021cc7b0a6c",
       "style": "IPY_MODEL_511e52b8e2594326b09b4573877d91e2",
       "value": " 0/12 [00:55&lt;?, ?it/s]"
      }
     },
     "96ce7424e5ba4f039d2eed95ff0ba17c": {
      "model_module": "@jupyter-widgets/controls",
      "model_module_version": "1.5.0",
      "model_name": "ProgressStyleModel",
      "state": {
       "description_width": "initial"
      }
     },
     "96d4b8bf7f374707bb39a6ad48565824": {
      "model_module": "@jupyter-widgets/controls",
      "model_module_version": "1.5.0",
      "model_name": "FloatProgressModel",
      "state": {
       "bar_style": "danger",
       "description": "Train:   0%",
       "layout": "IPY_MODEL_b0d67574dcaa474ebb6316351fd368f0",
       "max": 23,
       "style": "IPY_MODEL_90027fbd18ca4779a0001b566f8ea8f6"
      }
     },
     "96d6e7881e544d1d9bfec2dea9a424ed": {
      "model_module": "@jupyter-widgets/base",
      "model_module_version": "1.2.0",
      "model_name": "LayoutModel",
      "state": {}
     },
     "96d8344347ec4100a27eecbe88967910": {
      "model_module": "@jupyter-widgets/controls",
      "model_module_version": "1.5.0",
      "model_name": "ProgressStyleModel",
      "state": {
       "description_width": "initial"
      }
     },
     "9730f3168bdf49919f5e7abcafe08eef": {
      "model_module": "@jupyter-widgets/controls",
      "model_module_version": "1.5.0",
      "model_name": "DescriptionStyleModel",
      "state": {
       "description_width": ""
      }
     },
     "97519ca5bac84732a04520ca53d8cd35": {
      "model_module": "@jupyter-widgets/base",
      "model_module_version": "1.2.0",
      "model_name": "LayoutModel",
      "state": {}
     },
     "97669c097e954a67a7bd833ad3d7753f": {
      "model_module": "@jupyter-widgets/controls",
      "model_module_version": "1.5.0",
      "model_name": "DescriptionStyleModel",
      "state": {
       "description_width": ""
      }
     },
     "9777079a018b40d582c08d6688cb3ed2": {
      "model_module": "@jupyter-widgets/controls",
      "model_module_version": "1.5.0",
      "model_name": "HBoxModel",
      "state": {
       "children": [
        "IPY_MODEL_9e7b891d947f4245a28ec0ce5abe3f87",
        "IPY_MODEL_3e27c8bb3d424ba5a1b853a2a6474099"
       ],
       "layout": "IPY_MODEL_ef8ad132a3ff41649c5113585c6120e3"
      }
     },
     "978d5704f81e426bbb08d4f9fc693f59": {
      "model_module": "@jupyter-widgets/controls",
      "model_module_version": "1.5.0",
      "model_name": "HBoxModel",
      "state": {
       "children": [
        "IPY_MODEL_fd516ddadb054a1788eb6593f415f376",
        "IPY_MODEL_e4c421ffdb7443f09b4eed93a1de9258"
       ],
       "layout": "IPY_MODEL_8da883996c4c48a09e758f96899bb786"
      }
     },
     "97a054ca6939476784012d9e6cc71853": {
      "model_module": "@jupyter-widgets/controls",
      "model_module_version": "1.5.0",
      "model_name": "FloatProgressModel",
      "state": {
       "bar_style": "danger",
       "description": "Train epoch=0:   0%",
       "layout": "IPY_MODEL_bd9001dd60e9441f91b5e0f846ffd058",
       "max": 45000,
       "style": "IPY_MODEL_d59f6dd449014ffcae888e0121618fda"
      }
     },
     "97c84b7668e64ea6882a74e241d414b4": {
      "model_module": "@jupyter-widgets/controls",
      "model_module_version": "1.5.0",
      "model_name": "ProgressStyleModel",
      "state": {
       "description_width": "initial"
      }
     },
     "97c86b0b92d14b428d2f0e1886cc5230": {
      "model_module": "@jupyter-widgets/controls",
      "model_module_version": "1.5.0",
      "model_name": "HTMLModel",
      "state": {
       "layout": "IPY_MODEL_b478045159fb4616a7ee3cdcbd3c9739",
       "style": "IPY_MODEL_6491fc99b101424597bc2b03348dd77f",
       "value": " 0/12 [00:55&lt;?, ?it/s]"
      }
     },
     "97fb81efd134405899807603b15711ac": {
      "model_module": "@jupyter-widgets/controls",
      "model_module_version": "1.5.0",
      "model_name": "ProgressStyleModel",
      "state": {
       "description_width": "initial"
      }
     },
     "98045d6c307a416ba3a8323aff030975": {
      "model_module": "@jupyter-widgets/controls",
      "model_module_version": "1.5.0",
      "model_name": "DescriptionStyleModel",
      "state": {
       "description_width": ""
      }
     },
     "9807323825e64efb8e53cd7edb501bd1": {
      "model_module": "@jupyter-widgets/base",
      "model_module_version": "1.2.0",
      "model_name": "LayoutModel",
      "state": {}
     },
     "9838592bfe5242a8bb9c1a8892fec62d": {
      "model_module": "@jupyter-widgets/controls",
      "model_module_version": "1.5.0",
      "model_name": "HBoxModel",
      "state": {
       "children": [
        "IPY_MODEL_28684d71e36b44459ab92e28d329de2c",
        "IPY_MODEL_7b90318c917c4b86b9a5bc522e50f583"
       ],
       "layout": "IPY_MODEL_ea091e0e385c49adb20546adc65c0758"
      }
     },
     "983bde2cf1ac49bf99f5edd3d9b7e803": {
      "model_module": "@jupyter-widgets/base",
      "model_module_version": "1.2.0",
      "model_name": "LayoutModel",
      "state": {}
     },
     "9843ed1b305e4128b246ab657ba51b46": {
      "model_module": "@jupyter-widgets/controls",
      "model_module_version": "1.5.0",
      "model_name": "ProgressStyleModel",
      "state": {
       "description_width": "initial"
      }
     },
     "98630f828db64b658039d71f88fc94c1": {
      "model_module": "@jupyter-widgets/controls",
      "model_module_version": "1.5.0",
      "model_name": "ProgressStyleModel",
      "state": {
       "description_width": "initial"
      }
     },
     "98691b7d4970414abe3ec5573ad5719a": {
      "model_module": "@jupyter-widgets/controls",
      "model_module_version": "1.5.0",
      "model_name": "HBoxModel",
      "state": {
       "children": [
        "IPY_MODEL_2adc261ca046428fbed2bcc59547ef09",
        "IPY_MODEL_3f862e82b23045598748a4e93d0b89ec"
       ],
       "layout": "IPY_MODEL_60b6bd7f7f0846c8898b4fc79b43d1a1"
      }
     },
     "986d19c85eaa411eb1377641a56ee1ad": {
      "model_module": "@jupyter-widgets/controls",
      "model_module_version": "1.5.0",
      "model_name": "HTMLModel",
      "state": {
       "layout": "IPY_MODEL_7a6af749e6b64399a913eeb9e08c6d7a",
       "style": "IPY_MODEL_4eac0865b7dd49fcae619f89369e8635",
       "value": " 0/10000 [00:01&lt;?, ?it/s]"
      }
     },
     "988b3d5e2395487d85bb2dc1c1f3e95e": {
      "model_module": "@jupyter-widgets/controls",
      "model_module_version": "1.5.0",
      "model_name": "ProgressStyleModel",
      "state": {
       "description_width": "initial"
      }
     },
     "9899fb863ca7463298ea130ff9544ade": {
      "model_module": "@jupyter-widgets/base",
      "model_module_version": "1.2.0",
      "model_name": "LayoutModel",
      "state": {}
     },
     "98c70260672d4bd08c5a9f929dcead97": {
      "model_module": "@jupyter-widgets/base",
      "model_module_version": "1.2.0",
      "model_name": "LayoutModel",
      "state": {}
     },
     "98daa1b6e512430e8922a0fcd159be05": {
      "model_module": "@jupyter-widgets/controls",
      "model_module_version": "1.5.0",
      "model_name": "HBoxModel",
      "state": {
       "children": [
        "IPY_MODEL_d5ece7637a7c40a390f7e62d5f0ad3d4",
        "IPY_MODEL_8561b173df234b7fbc74046d6710f8ce"
       ],
       "layout": "IPY_MODEL_29e9059fc19f4b529d990f74fcbdfdb3"
      }
     },
     "98f298bcf4674e1490a9f99763c7eee2": {
      "model_module": "@jupyter-widgets/controls",
      "model_module_version": "1.5.0",
      "model_name": "HBoxModel",
      "state": {
       "children": [
        "IPY_MODEL_9484d506674c4fc18f6966d38694bd19",
        "IPY_MODEL_47112281a6ac4fefa834e0b8e86da672"
       ],
       "layout": "IPY_MODEL_4555d36fe1284ba9ba2596c4135eb269"
      }
     },
     "98fc5b1f5a3a43dfbdae5dacdc5ed952": {
      "model_module": "@jupyter-widgets/controls",
      "model_module_version": "1.5.0",
      "model_name": "FloatProgressModel",
      "state": {
       "bar_style": "danger",
       "description": "Valid iteration=0:   0%",
       "layout": "IPY_MODEL_d7424fc42014426898db1d84111dbac8",
       "max": 10000,
       "style": "IPY_MODEL_54a996a33b214ce08362c81ecbd4428f"
      }
     },
     "9911e501dc974313bc098561321df1a2": {
      "model_module": "@jupyter-widgets/base",
      "model_module_version": "1.2.0",
      "model_name": "LayoutModel",
      "state": {}
     },
     "9913187145c7497da2067b9967439605": {
      "model_module": "@jupyter-widgets/base",
      "model_module_version": "1.2.0",
      "model_name": "LayoutModel",
      "state": {}
     },
     "991d43718d264ea183c9b9033f14504b": {
      "model_module": "@jupyter-widgets/controls",
      "model_module_version": "1.5.0",
      "model_name": "HTMLModel",
      "state": {
       "layout": "IPY_MODEL_9f3c522dc0ba4366bcb855a2b4eac7dd",
       "style": "IPY_MODEL_800769ccbc0a4a34ac7ac44f48b383b7",
       "value": " 0/45000 [00:34&lt;?, ?it/s]"
      }
     },
     "99724616a03740858ce0842df83855fc": {
      "model_module": "@jupyter-widgets/controls",
      "model_module_version": "1.5.0",
      "model_name": "DescriptionStyleModel",
      "state": {
       "description_width": ""
      }
     },
     "9975d8fab4ab4e4682745b0f21f7191e": {
      "model_module": "@jupyter-widgets/controls",
      "model_module_version": "1.5.0",
      "model_name": "FloatProgressModel",
      "state": {
       "bar_style": "danger",
       "description": "Train epoch=0:   0%",
       "layout": "IPY_MODEL_84dff370b108488b9ab6bcdb0f29009e",
       "max": 90000,
       "style": "IPY_MODEL_62637c44b6374de1ae5f91e999bbd859",
       "value": 18
      }
     },
     "9978c7ce2d2041b4b38efcc0c64a7e92": {
      "model_module": "@jupyter-widgets/base",
      "model_module_version": "1.2.0",
      "model_name": "LayoutModel",
      "state": {}
     },
     "997dc846cf47473e819247772f6d85d2": {
      "model_module": "@jupyter-widgets/controls",
      "model_module_version": "1.5.0",
      "model_name": "ProgressStyleModel",
      "state": {
       "description_width": "initial"
      }
     },
     "9989ad33676e4fd488858069f77f02cd": {
      "model_module": "@jupyter-widgets/controls",
      "model_module_version": "1.5.0",
      "model_name": "HBoxModel",
      "state": {
       "children": [
        "IPY_MODEL_72a67b71f7bd4179b557c90fa36f3412",
        "IPY_MODEL_e2cc9e1d98714552acded9c19a5c38d5"
       ],
       "layout": "IPY_MODEL_cf2f79bed65b49dd929b18eb3868c2d5"
      }
     },
     "99ae7bb008e54091b81e52a0a1eaa856": {
      "model_module": "@jupyter-widgets/controls",
      "model_module_version": "1.5.0",
      "model_name": "DescriptionStyleModel",
      "state": {
       "description_width": ""
      }
     },
     "99be822546724dc88c130da5520da4a3": {
      "model_module": "@jupyter-widgets/base",
      "model_module_version": "1.2.0",
      "model_name": "LayoutModel",
      "state": {}
     },
     "99c25d003277428395526cab0e4dc222": {
      "model_module": "@jupyter-widgets/controls",
      "model_module_version": "1.5.0",
      "model_name": "FloatProgressModel",
      "state": {
       "bar_style": "danger",
       "description": "Valid iteration=0:   0%",
       "layout": "IPY_MODEL_7232f9ece9fb40348997ebae50564beb",
       "max": 5000,
       "style": "IPY_MODEL_917778599be6460884ac04ec1be07d45"
      }
     },
     "99dbbdd3de8d4d2893a7c9f34ccbd683": {
      "model_module": "@jupyter-widgets/controls",
      "model_module_version": "1.5.0",
      "model_name": "FloatProgressModel",
      "state": {
       "bar_style": "danger",
       "description": "Train:   0%",
       "layout": "IPY_MODEL_77bbe16a8b3841b8ab2e70d3824f419b",
       "max": 12,
       "style": "IPY_MODEL_af07d34b49a544bf81fbb9d198617a7b"
      }
     },
     "99dd428ba307491d9e3cb69b855ffb23": {
      "model_module": "@jupyter-widgets/base",
      "model_module_version": "1.2.0",
      "model_name": "LayoutModel",
      "state": {}
     },
     "99f12be85ac64a38b09e76a9c65e58b3": {
      "model_module": "@jupyter-widgets/controls",
      "model_module_version": "1.5.0",
      "model_name": "FloatProgressModel",
      "state": {
       "bar_style": "danger",
       "description": "Valid iteration=0:   0%",
       "layout": "IPY_MODEL_9d54a34659fa416ab0769f9230b3d886",
       "max": 10000,
       "style": "IPY_MODEL_27c73e42cf154fa69ad06faac023cdba"
      }
     },
     "99f94b683bdf462b9b42de8f961d8a1f": {
      "model_module": "@jupyter-widgets/base",
      "model_module_version": "1.2.0",
      "model_name": "LayoutModel",
      "state": {}
     },
     "9a07f12437114415a0eb66c8c89b24f1": {
      "model_module": "@jupyter-widgets/controls",
      "model_module_version": "1.5.0",
      "model_name": "HTMLModel",
      "state": {
       "layout": "IPY_MODEL_0e5c16b1c99640e1bbc8043b1fe260a1",
       "style": "IPY_MODEL_f22e3a4847bb4a039e1b0727538d23fe",
       "value": " 0/23 [00:19&lt;?, ?it/s]"
      }
     },
     "9a42d1d5a5a74a20b6eb137332907a78": {
      "model_module": "@jupyter-widgets/controls",
      "model_module_version": "1.5.0",
      "model_name": "ProgressStyleModel",
      "state": {
       "description_width": "initial"
      }
     },
     "9a63372b79204833b76721ef90700e34": {
      "model_module": "@jupyter-widgets/controls",
      "model_module_version": "1.5.0",
      "model_name": "HBoxModel",
      "state": {
       "children": [
        "IPY_MODEL_fd5a5b929d9f4d2eb2bce81d8989c6a5",
        "IPY_MODEL_c16dd9b636794c958fcbc303edc07ca6"
       ],
       "layout": "IPY_MODEL_dc9d0827b97d4638a78f5ce8d5bd1990"
      }
     },
     "9a8ba9cb2084406c9045701ce3b1402a": {
      "model_module": "@jupyter-widgets/base",
      "model_module_version": "1.2.0",
      "model_name": "LayoutModel",
      "state": {}
     },
     "9a97b2e5226747e2a5cbdda95dd2ceb7": {
      "model_module": "@jupyter-widgets/base",
      "model_module_version": "1.2.0",
      "model_name": "LayoutModel",
      "state": {}
     },
     "9ab14a9d41aa4d63b3de1d672751bfc2": {
      "model_module": "@jupyter-widgets/controls",
      "model_module_version": "1.5.0",
      "model_name": "DescriptionStyleModel",
      "state": {
       "description_width": ""
      }
     },
     "9ac7926236d5404ebebad02de124756c": {
      "model_module": "@jupyter-widgets/controls",
      "model_module_version": "1.5.0",
      "model_name": "HBoxModel",
      "state": {
       "children": [
        "IPY_MODEL_f302f9cf54f14589baed55ae51f7e1cf",
        "IPY_MODEL_4a820d2f7202476386e76aa3c149ec26"
       ],
       "layout": "IPY_MODEL_cd0173046f5341d99513694c7f7fe291"
      }
     },
     "9ad7db1c39f84eb496ca5a15cb554d28": {
      "model_module": "@jupyter-widgets/controls",
      "model_module_version": "1.5.0",
      "model_name": "HBoxModel",
      "state": {
       "children": [
        "IPY_MODEL_516ba1f547f246779a2117d5a470d0bb",
        "IPY_MODEL_e8aed5a37e9547119dddc9c1ead55e40"
       ],
       "layout": "IPY_MODEL_52c5efe6531a4e95a6cff193a9c1c96c"
      }
     },
     "9add96ece84d4a83b22d9cae3abc9e92": {
      "model_module": "@jupyter-widgets/base",
      "model_module_version": "1.2.0",
      "model_name": "LayoutModel",
      "state": {}
     },
     "9ae3ec103bdb44e9a26351552fe3961f": {
      "model_module": "@jupyter-widgets/controls",
      "model_module_version": "1.5.0",
      "model_name": "HBoxModel",
      "state": {
       "children": [
        "IPY_MODEL_5eeaa3c94c5a4bebaf15be33d74326d6",
        "IPY_MODEL_fd23325947a24bb9ac1bf7d88f12a530"
       ],
       "layout": "IPY_MODEL_abb81d0ed3614e7ba7476120ff7aa9f4"
      }
     },
     "9aedc1eba1e44f699b84123a6543c57f": {
      "model_module": "@jupyter-widgets/base",
      "model_module_version": "1.2.0",
      "model_name": "LayoutModel",
      "state": {}
     },
     "9afbe3b6245d4c5a9a05b0868cba7ea9": {
      "model_module": "@jupyter-widgets/base",
      "model_module_version": "1.2.0",
      "model_name": "LayoutModel",
      "state": {}
     },
     "9b1244c58265450896f2c16ae1f9d787": {
      "model_module": "@jupyter-widgets/controls",
      "model_module_version": "1.5.0",
      "model_name": "ProgressStyleModel",
      "state": {
       "description_width": "initial"
      }
     },
     "9b46d3450fce4926b0594892f1e771b0": {
      "model_module": "@jupyter-widgets/controls",
      "model_module_version": "1.5.0",
      "model_name": "DescriptionStyleModel",
      "state": {
       "description_width": ""
      }
     },
     "9b52555aa2964d0b918773b8bbf8af06": {
      "model_module": "@jupyter-widgets/controls",
      "model_module_version": "1.5.0",
      "model_name": "DescriptionStyleModel",
      "state": {
       "description_width": ""
      }
     },
     "9b6143b54a76464aba9f18f2cec75d6a": {
      "model_module": "@jupyter-widgets/base",
      "model_module_version": "1.2.0",
      "model_name": "LayoutModel",
      "state": {}
     },
     "9b6321d7c97f4a30b9845674f63ce319": {
      "model_module": "@jupyter-widgets/controls",
      "model_module_version": "1.5.0",
      "model_name": "HBoxModel",
      "state": {
       "children": [
        "IPY_MODEL_430b78d148d04d5a9cc4a73509327029",
        "IPY_MODEL_50eca8f2fb404231954cb4f05ad9d152"
       ],
       "layout": "IPY_MODEL_9d50f7d126044df89a62594b965e9e16"
      }
     },
     "9b6a4b7200bf4daf95fb2511b3e4f2d7": {
      "model_module": "@jupyter-widgets/controls",
      "model_module_version": "1.5.0",
      "model_name": "FloatProgressModel",
      "state": {
       "bar_style": "danger",
       "description": "Train epoch=0:   0%",
       "layout": "IPY_MODEL_35b35924a0aa45b48a008fe9b232451d",
       "max": 90000,
       "style": "IPY_MODEL_ab1206858d0a4d108c98d7d9e23d8c7d"
      }
     },
     "9b882676adcf42b39f9fe933c9d71b75": {
      "model_module": "@jupyter-widgets/controls",
      "model_module_version": "1.5.0",
      "model_name": "HTMLModel",
      "state": {
       "layout": "IPY_MODEL_ba6bc4bb73c54d119bfa913add823bf0",
       "style": "IPY_MODEL_71ef4c988f0c49bab9765625a028d7e6",
       "value": " 0/90000 [00:24&lt;?, ?it/s]"
      }
     },
     "9b8c6865c17c453086d1867b59c18046": {
      "model_module": "@jupyter-widgets/controls",
      "model_module_version": "1.5.0",
      "model_name": "HTMLModel",
      "state": {
       "layout": "IPY_MODEL_d388250511154a298c54b942bb9dd09f",
       "style": "IPY_MODEL_6659eb113e7e47a2aa04fb1b72afd07c",
       "value": " 0/10000 [00:01&lt;?, ?it/s]"
      }
     },
     "9bc9a369242e4dbf9bc9360fa9f61013": {
      "model_module": "@jupyter-widgets/controls",
      "model_module_version": "1.5.0",
      "model_name": "HTMLModel",
      "state": {
       "layout": "IPY_MODEL_7d01421be44e418f878fdeeef568ee2b",
       "style": "IPY_MODEL_ca190319a6614f46a4da095443682423",
       "value": " 0/90000 [00:10&lt;?, ?it/s]"
      }
     },
     "9bde2c188823496386a3ab7903555575": {
      "model_module": "@jupyter-widgets/controls",
      "model_module_version": "1.5.0",
      "model_name": "ProgressStyleModel",
      "state": {
       "description_width": "initial"
      }
     },
     "9bef5f8694ff45878ee74e679affa842": {
      "model_module": "@jupyter-widgets/controls",
      "model_module_version": "1.5.0",
      "model_name": "FloatProgressModel",
      "state": {
       "bar_style": "danger",
       "description": "Valid iteration=5000:   0%",
       "layout": "IPY_MODEL_df9ac7ef8a4942519241f59ba9c191d2",
       "max": 5000,
       "style": "IPY_MODEL_c3babe15a53448cc870aee37f24f9d37",
       "value": 1
      }
     },
     "9c048d69e643489996a573085bab4a51": {
      "model_module": "@jupyter-widgets/controls",
      "model_module_version": "1.5.0",
      "model_name": "HBoxModel",
      "state": {
       "children": [
        "IPY_MODEL_bf0d92e34f874a8bb775cdf859871f4a",
        "IPY_MODEL_0f3ebdff09054fb39ad94f09cd7763fd"
       ],
       "layout": "IPY_MODEL_41a536e892ac4619954eec125641bcd1"
      }
     },
     "9c2de46caf614860ab6f33b86d6a6083": {
      "model_module": "@jupyter-widgets/base",
      "model_module_version": "1.2.0",
      "model_name": "LayoutModel",
      "state": {}
     },
     "9c4f60a575b2474ea15ad2b7f40a5b41": {
      "model_module": "@jupyter-widgets/controls",
      "model_module_version": "1.5.0",
      "model_name": "ProgressStyleModel",
      "state": {
       "description_width": "initial"
      }
     },
     "9c50ad8991164f35a9386b393ee4ce8e": {
      "model_module": "@jupyter-widgets/controls",
      "model_module_version": "1.5.0",
      "model_name": "ProgressStyleModel",
      "state": {
       "description_width": "initial"
      }
     },
     "9c64be61db3c48519039aebbe018f90d": {
      "model_module": "@jupyter-widgets/controls",
      "model_module_version": "1.5.0",
      "model_name": "FloatProgressModel",
      "state": {
       "bar_style": "danger",
       "description": "Valid iteration=0:   0%",
       "layout": "IPY_MODEL_c30dcc3d1e9a48a0bc2731feebfa0810",
       "max": 10000,
       "style": "IPY_MODEL_d88e87fd60c44a0ba00deba5b455be0e"
      }
     },
     "9c6c1dc48e6348f08b15cf35c3847b2d": {
      "model_module": "@jupyter-widgets/base",
      "model_module_version": "1.2.0",
      "model_name": "LayoutModel",
      "state": {}
     },
     "9c96c942563a4d2aabb8048943b6f525": {
      "model_module": "@jupyter-widgets/controls",
      "model_module_version": "1.5.0",
      "model_name": "ProgressStyleModel",
      "state": {
       "description_width": "initial"
      }
     },
     "9caf942d1ff848a5922fcb2c3137c7f4": {
      "model_module": "@jupyter-widgets/controls",
      "model_module_version": "1.5.0",
      "model_name": "DescriptionStyleModel",
      "state": {
       "description_width": ""
      }
     },
     "9cc9752f63404a2d81d747de40301520": {
      "model_module": "@jupyter-widgets/base",
      "model_module_version": "1.2.0",
      "model_name": "LayoutModel",
      "state": {}
     },
     "9cfd8cb225624fcdba5659c3f9493527": {
      "model_module": "@jupyter-widgets/base",
      "model_module_version": "1.2.0",
      "model_name": "LayoutModel",
      "state": {}
     },
     "9d21fe2ebb8345f4b4d9134c63232dd8": {
      "model_module": "@jupyter-widgets/base",
      "model_module_version": "1.2.0",
      "model_name": "LayoutModel",
      "state": {}
     },
     "9d34fd52294e463094fed85bd9ee2b9d": {
      "model_module": "@jupyter-widgets/base",
      "model_module_version": "1.2.0",
      "model_name": "LayoutModel",
      "state": {}
     },
     "9d36a42ac6a14eaaae1d40cf32f4f990": {
      "model_module": "@jupyter-widgets/base",
      "model_module_version": "1.2.0",
      "model_name": "LayoutModel",
      "state": {}
     },
     "9d50f7d126044df89a62594b965e9e16": {
      "model_module": "@jupyter-widgets/base",
      "model_module_version": "1.2.0",
      "model_name": "LayoutModel",
      "state": {}
     },
     "9d54a34659fa416ab0769f9230b3d886": {
      "model_module": "@jupyter-widgets/base",
      "model_module_version": "1.2.0",
      "model_name": "LayoutModel",
      "state": {}
     },
     "9d8e3d4219984d4583893fdd2aa5040b": {
      "model_module": "@jupyter-widgets/controls",
      "model_module_version": "1.5.0",
      "model_name": "HBoxModel",
      "state": {
       "children": [
        "IPY_MODEL_1f9217b129024d58acf21217c2390b5d",
        "IPY_MODEL_0a116406b1374fa2b7e5c0910ee8c996"
       ],
       "layout": "IPY_MODEL_18fecdbd8c1f4ac6be02b5e3c24f4efc"
      }
     },
     "9da2b08fae40420b925803c712d86e9a": {
      "model_module": "@jupyter-widgets/base",
      "model_module_version": "1.2.0",
      "model_name": "LayoutModel",
      "state": {}
     },
     "9dd8d100a023440e80445e1d9f07162b": {
      "model_module": "@jupyter-widgets/controls",
      "model_module_version": "1.5.0",
      "model_name": "ProgressStyleModel",
      "state": {
       "description_width": "initial"
      }
     },
     "9de421ba4cac41298f0022b0087c1f6c": {
      "model_module": "@jupyter-widgets/base",
      "model_module_version": "1.2.0",
      "model_name": "LayoutModel",
      "state": {}
     },
     "9dfab72804dc480db7277c8251346be9": {
      "model_module": "@jupyter-widgets/base",
      "model_module_version": "1.2.0",
      "model_name": "LayoutModel",
      "state": {}
     },
     "9e080b4443f84d04ad8135adf17cf247": {
      "model_module": "@jupyter-widgets/base",
      "model_module_version": "1.2.0",
      "model_name": "LayoutModel",
      "state": {}
     },
     "9e1925d036e846f59038852454de93ba": {
      "model_module": "@jupyter-widgets/controls",
      "model_module_version": "1.5.0",
      "model_name": "DescriptionStyleModel",
      "state": {
       "description_width": ""
      }
     },
     "9e1935b22cc9412cb6cfa40856ca8f11": {
      "model_module": "@jupyter-widgets/base",
      "model_module_version": "1.2.0",
      "model_name": "LayoutModel",
      "state": {}
     },
     "9e310cfd2a094f3a9195b80a09e14236": {
      "model_module": "@jupyter-widgets/controls",
      "model_module_version": "1.5.0",
      "model_name": "ProgressStyleModel",
      "state": {
       "description_width": "initial"
      }
     },
     "9e5427bb24c94fad8efad83729a5c082": {
      "model_module": "@jupyter-widgets/base",
      "model_module_version": "1.2.0",
      "model_name": "LayoutModel",
      "state": {}
     },
     "9e6d19c496034842a6ea78fd906ff6f1": {
      "model_module": "@jupyter-widgets/controls",
      "model_module_version": "1.5.0",
      "model_name": "DescriptionStyleModel",
      "state": {
       "description_width": ""
      }
     },
     "9e72d93a11f2463eb7006c948a680c0d": {
      "model_module": "@jupyter-widgets/controls",
      "model_module_version": "1.5.0",
      "model_name": "HBoxModel",
      "state": {
       "children": [
        "IPY_MODEL_43e48a840b8a492fab9daa7fba8f7f08",
        "IPY_MODEL_bc7070ae648e4c71b88d7c7211d3c1e1"
       ],
       "layout": "IPY_MODEL_98c70260672d4bd08c5a9f929dcead97"
      }
     },
     "9e7b891d947f4245a28ec0ce5abe3f87": {
      "model_module": "@jupyter-widgets/controls",
      "model_module_version": "1.5.0",
      "model_name": "FloatProgressModel",
      "state": {
       "bar_style": "danger",
       "description": "Valid iteration=0:   0%",
       "layout": "IPY_MODEL_cbbb96706ac0465f8e4a7f2c5d258235",
       "max": 5000,
       "style": "IPY_MODEL_91fe7d178f1541f49c4e5ff5f9e1367b"
      }
     },
     "9e7e21a622374da7a6d34602abcf286f": {
      "model_module": "@jupyter-widgets/base",
      "model_module_version": "1.2.0",
      "model_name": "LayoutModel",
      "state": {}
     },
     "9ec9ace561b2433e8931ab9cee202624": {
      "model_module": "@jupyter-widgets/controls",
      "model_module_version": "1.5.0",
      "model_name": "HBoxModel",
      "state": {
       "children": [
        "IPY_MODEL_c85db78d4e304ad6b1fce7cc41ac4c9b",
        "IPY_MODEL_0bd883346b854f869fa8962dd1e6bcc1"
       ],
       "layout": "IPY_MODEL_3b11e0d3f4ba4a2296cd33cab4569906"
      }
     },
     "9ecb4b63e2f74c4aa37f38fb9ddafa60": {
      "model_module": "@jupyter-widgets/base",
      "model_module_version": "1.2.0",
      "model_name": "LayoutModel",
      "state": {}
     },
     "9eeca9aeb5f84aa985ccfbd30b457176": {
      "model_module": "@jupyter-widgets/controls",
      "model_module_version": "1.5.0",
      "model_name": "ProgressStyleModel",
      "state": {
       "description_width": "initial"
      }
     },
     "9f034392b40e45a7a0f63c5ff08b6e2f": {
      "model_module": "@jupyter-widgets/base",
      "model_module_version": "1.2.0",
      "model_name": "LayoutModel",
      "state": {}
     },
     "9f09157328474175be4b19a68d0f6435": {
      "model_module": "@jupyter-widgets/controls",
      "model_module_version": "1.5.0",
      "model_name": "ProgressStyleModel",
      "state": {
       "description_width": "initial"
      }
     },
     "9f0ebdb57d0445fbb7e827493f2b1969": {
      "model_module": "@jupyter-widgets/controls",
      "model_module_version": "1.5.0",
      "model_name": "ProgressStyleModel",
      "state": {
       "description_width": "initial"
      }
     },
     "9f1f96f43637499b8885ea11a10e5069": {
      "model_module": "@jupyter-widgets/base",
      "model_module_version": "1.2.0",
      "model_name": "LayoutModel",
      "state": {}
     },
     "9f209948748848a88a96c95967806353": {
      "model_module": "@jupyter-widgets/base",
      "model_module_version": "1.2.0",
      "model_name": "LayoutModel",
      "state": {}
     },
     "9f32fecdfd9f4001b6dfc317a4231d16": {
      "model_module": "@jupyter-widgets/base",
      "model_module_version": "1.2.0",
      "model_name": "LayoutModel",
      "state": {}
     },
     "9f34d0308968464da81e270532486b31": {
      "model_module": "@jupyter-widgets/controls",
      "model_module_version": "1.5.0",
      "model_name": "HTMLModel",
      "state": {
       "layout": "IPY_MODEL_04bbe310080b4fc9b953a4ea80962670",
       "style": "IPY_MODEL_ba8249fcb3fa470b8b0156648927e18d",
       "value": " 0/45000 [00:20&lt;?, ?it/s]"
      }
     },
     "9f3c522dc0ba4366bcb855a2b4eac7dd": {
      "model_module": "@jupyter-widgets/base",
      "model_module_version": "1.2.0",
      "model_name": "LayoutModel",
      "state": {}
     },
     "9f43c925356a421f9a68bf523ec23493": {
      "model_module": "@jupyter-widgets/base",
      "model_module_version": "1.2.0",
      "model_name": "LayoutModel",
      "state": {}
     },
     "9f44354d206049f4ae2350ab373c770d": {
      "model_module": "@jupyter-widgets/base",
      "model_module_version": "1.2.0",
      "model_name": "LayoutModel",
      "state": {}
     },
     "9f50ca2846e841348984fe08c5c99fe2": {
      "model_module": "@jupyter-widgets/base",
      "model_module_version": "1.2.0",
      "model_name": "LayoutModel",
      "state": {}
     },
     "9f71431b0b4f4bcca460c51322e3d7be": {
      "model_module": "@jupyter-widgets/base",
      "model_module_version": "1.2.0",
      "model_name": "LayoutModel",
      "state": {}
     },
     "9f8bd1a84528485a8532d6d0f17cd5b3": {
      "model_module": "@jupyter-widgets/controls",
      "model_module_version": "1.5.0",
      "model_name": "ProgressStyleModel",
      "state": {
       "description_width": "initial"
      }
     },
     "9f9b2fd3399b44c5806d7abb3dac80cd": {
      "model_module": "@jupyter-widgets/controls",
      "model_module_version": "1.5.0",
      "model_name": "HTMLModel",
      "state": {
       "layout": "IPY_MODEL_16094305b3354ee29e21d531becf9da7",
       "style": "IPY_MODEL_edff406960034117b235e440c03dee09",
       "value": " 0/10000 [01:37&lt;?, ?it/s]"
      }
     },
     "9fae4cb14748431685df257209b9a143": {
      "model_module": "@jupyter-widgets/controls",
      "model_module_version": "1.5.0",
      "model_name": "DescriptionStyleModel",
      "state": {
       "description_width": ""
      }
     },
     "9fce00998d6846cd9c1a96c2de788962": {
      "model_module": "@jupyter-widgets/base",
      "model_module_version": "1.2.0",
      "model_name": "LayoutModel",
      "state": {}
     },
     "9fd168098ca042a4bba1b2840c406cc1": {
      "model_module": "@jupyter-widgets/controls",
      "model_module_version": "1.5.0",
      "model_name": "HBoxModel",
      "state": {
       "children": [
        "IPY_MODEL_7d7c7b80872647f7873f3bb7ebc987d2",
        "IPY_MODEL_7e9f04bd4db74f32bdd173ffd584a1b0"
       ],
       "layout": "IPY_MODEL_ea7862ba42824bc5b05799d0a9b9ac30"
      }
     },
     "9fd4f92876104237a8577e0fdfb436ad": {
      "model_module": "@jupyter-widgets/controls",
      "model_module_version": "1.5.0",
      "model_name": "DescriptionStyleModel",
      "state": {
       "description_width": ""
      }
     },
     "a00f5a73b8864d75b925c92fa3c70f12": {
      "model_module": "@jupyter-widgets/base",
      "model_module_version": "1.2.0",
      "model_name": "LayoutModel",
      "state": {}
     },
     "a01bec3b4ed648f88d4b2601285cb617": {
      "model_module": "@jupyter-widgets/controls",
      "model_module_version": "1.5.0",
      "model_name": "HBoxModel",
      "state": {
       "children": [
        "IPY_MODEL_4d2e0acf75cc4458b08fc0fe9ac4aae9",
        "IPY_MODEL_c8e68a781b8d46f4bebf8199b66fe3f8"
       ],
       "layout": "IPY_MODEL_624ec355e5dd45a4b4d6fb7ba8321194"
      }
     },
     "a025f45f0faf400dbecfb52c87aaaf19": {
      "model_module": "@jupyter-widgets/controls",
      "model_module_version": "1.5.0",
      "model_name": "DescriptionStyleModel",
      "state": {
       "description_width": ""
      }
     },
     "a080c13a55a7461c9887108d59c1ad4b": {
      "model_module": "@jupyter-widgets/controls",
      "model_module_version": "1.5.0",
      "model_name": "DescriptionStyleModel",
      "state": {
       "description_width": ""
      }
     },
     "a085f630879d41a28bbf667b062e1fa4": {
      "model_module": "@jupyter-widgets/base",
      "model_module_version": "1.2.0",
      "model_name": "LayoutModel",
      "state": {}
     },
     "a09a73d092144762b208f7e4164dbdc0": {
      "model_module": "@jupyter-widgets/base",
      "model_module_version": "1.2.0",
      "model_name": "LayoutModel",
      "state": {}
     },
     "a09d2afe3cae40cfba3c69e963e9164f": {
      "model_module": "@jupyter-widgets/base",
      "model_module_version": "1.2.0",
      "model_name": "LayoutModel",
      "state": {}
     },
     "a0c61d30865c44d0a4a27d20f463a1b8": {
      "model_module": "@jupyter-widgets/controls",
      "model_module_version": "1.5.0",
      "model_name": "DescriptionStyleModel",
      "state": {
       "description_width": ""
      }
     },
     "a0f402d472754ca1acf01d7525071a01": {
      "model_module": "@jupyter-widgets/controls",
      "model_module_version": "1.5.0",
      "model_name": "FloatProgressModel",
      "state": {
       "bar_style": "danger",
       "description": "Train:   0%",
       "layout": "IPY_MODEL_9cc9752f63404a2d81d747de40301520",
       "max": 12,
       "style": "IPY_MODEL_4044e70853aa46839660c68f441f1846"
      }
     },
     "a0f47be8525449b582159cd2dbb9dd88": {
      "model_module": "@jupyter-widgets/controls",
      "model_module_version": "1.5.0",
      "model_name": "HTMLModel",
      "state": {
       "layout": "IPY_MODEL_5b63105f383a4df3882fab2d7b499867",
       "style": "IPY_MODEL_c14a76472e534133a43a96fd0e3a2829",
       "value": " 0/12 [00:16&lt;?, ?it/s]"
      }
     },
     "a0fd45664c014631aee18d8b07c268df": {
      "model_module": "@jupyter-widgets/base",
      "model_module_version": "1.2.0",
      "model_name": "LayoutModel",
      "state": {}
     },
     "a10012839ff2459b807bc7e36f2c9ce0": {
      "model_module": "@jupyter-widgets/controls",
      "model_module_version": "1.5.0",
      "model_name": "HBoxModel",
      "state": {
       "children": [
        "IPY_MODEL_e70b2969418747728e4967c11a040e59",
        "IPY_MODEL_27528b8595bf4abd81e4a95033220360"
       ],
       "layout": "IPY_MODEL_c079eb7d22274290b3b3d479b0400ecf"
      }
     },
     "a12e59dae217457aa33ab3a6cb030d02": {
      "model_module": "@jupyter-widgets/base",
      "model_module_version": "1.2.0",
      "model_name": "LayoutModel",
      "state": {}
     },
     "a13ff833497e42a18f1849466ac68c1b": {
      "model_module": "@jupyter-widgets/controls",
      "model_module_version": "1.5.0",
      "model_name": "ProgressStyleModel",
      "state": {
       "description_width": "initial"
      }
     },
     "a140f21dd3fe4505bb999767a1c7a0f1": {
      "model_module": "@jupyter-widgets/base",
      "model_module_version": "1.2.0",
      "model_name": "LayoutModel",
      "state": {}
     },
     "a14307ee68244f18b450f4eb464d6ee1": {
      "model_module": "@jupyter-widgets/controls",
      "model_module_version": "1.5.0",
      "model_name": "HTMLModel",
      "state": {
       "layout": "IPY_MODEL_5c33b771483047f1a191caf002ccc972",
       "style": "IPY_MODEL_8b5ad7068243411a86c77e5e9bc264bf",
       "value": " 0/10000 [01:27&lt;?, ?it/s]"
      }
     },
     "a143f702792e4f989529391b93fca59e": {
      "model_module": "@jupyter-widgets/controls",
      "model_module_version": "1.5.0",
      "model_name": "HBoxModel",
      "state": {
       "children": [
        "IPY_MODEL_f771786595d44b8d92efb5bafb1f202c",
        "IPY_MODEL_bec97379c0c14e9c8b411c2ae9f93972"
       ],
       "layout": "IPY_MODEL_164cdc9fde8c4e9d9a5b9924ac4abe6e"
      }
     },
     "a155bccf123249cb9b49b0cfb7714b1f": {
      "model_module": "@jupyter-widgets/base",
      "model_module_version": "1.2.0",
      "model_name": "LayoutModel",
      "state": {}
     },
     "a15f2b30a503471e876de0bc3a57b213": {
      "model_module": "@jupyter-widgets/controls",
      "model_module_version": "1.5.0",
      "model_name": "HBoxModel",
      "state": {
       "children": [
        "IPY_MODEL_860bc9b985ca46199bfee959b3d0b9f8",
        "IPY_MODEL_53f63b787b6d4907939cca319194927f"
       ],
       "layout": "IPY_MODEL_fd0b96f1bdd64d188e5dc8c6a4e413d7"
      }
     },
     "a167f4649acb4ffebe9cc0a32e951e6f": {
      "model_module": "@jupyter-widgets/base",
      "model_module_version": "1.2.0",
      "model_name": "LayoutModel",
      "state": {}
     },
     "a18dfe1abcaf4e2f9e80610eabf9e9d1": {
      "model_module": "@jupyter-widgets/base",
      "model_module_version": "1.2.0",
      "model_name": "LayoutModel",
      "state": {}
     },
     "a1a32fcff85c4266af865585c335f467": {
      "model_module": "@jupyter-widgets/controls",
      "model_module_version": "1.5.0",
      "model_name": "HBoxModel",
      "state": {
       "children": [
        "IPY_MODEL_e2dc4396a16f422bbaac75e24b8ebdef",
        "IPY_MODEL_dc7fa5b79705486fb97e9278919cb079"
       ],
       "layout": "IPY_MODEL_5c85a395da8d4468a5030ce1cd2a94dd"
      }
     },
     "a1c64ad6b952491ab6cdf0981dea6981": {
      "model_module": "@jupyter-widgets/controls",
      "model_module_version": "1.5.0",
      "model_name": "ProgressStyleModel",
      "state": {
       "description_width": "initial"
      }
     },
     "a1e10886261b4ecb995ed8bf291513f4": {
      "model_module": "@jupyter-widgets/base",
      "model_module_version": "1.2.0",
      "model_name": "LayoutModel",
      "state": {}
     },
     "a1f6d6832946488eaf0181a412e434de": {
      "model_module": "@jupyter-widgets/controls",
      "model_module_version": "1.5.0",
      "model_name": "DescriptionStyleModel",
      "state": {
       "description_width": ""
      }
     },
     "a201f2126a8f4d3a9067b1cc9a3fb780": {
      "model_module": "@jupyter-widgets/controls",
      "model_module_version": "1.5.0",
      "model_name": "HBoxModel",
      "state": {
       "children": [
        "IPY_MODEL_6509824de3444637bf5083619c409304",
        "IPY_MODEL_56c67ce8918045bba703676d78e2f466"
       ],
       "layout": "IPY_MODEL_84e331b198ca4660af99da603b2d6790"
      }
     },
     "a211e4c5d4264a17926038d3a59ec34a": {
      "model_module": "@jupyter-widgets/base",
      "model_module_version": "1.2.0",
      "model_name": "LayoutModel",
      "state": {}
     },
     "a226d05b76a3488aba8b831ff3ca401e": {
      "model_module": "@jupyter-widgets/base",
      "model_module_version": "1.2.0",
      "model_name": "LayoutModel",
      "state": {}
     },
     "a2289690c9f24e849c203f0398c41c54": {
      "model_module": "@jupyter-widgets/base",
      "model_module_version": "1.2.0",
      "model_name": "LayoutModel",
      "state": {}
     },
     "a233680cd63b44e9ba26483353879dfc": {
      "model_module": "@jupyter-widgets/base",
      "model_module_version": "1.2.0",
      "model_name": "LayoutModel",
      "state": {}
     },
     "a233c21467e64e7d9b37f2a14dadc19a": {
      "model_module": "@jupyter-widgets/controls",
      "model_module_version": "1.5.0",
      "model_name": "FloatProgressModel",
      "state": {
       "bar_style": "danger",
       "description": "Train:   0%",
       "layout": "IPY_MODEL_94b1d7c5f85a4bee8b336a5e1118052e",
       "max": 12,
       "style": "IPY_MODEL_db889d00557d486693c9be32fab26abd"
      }
     },
     "a26f843590764f849c5ae794e39c82d1": {
      "model_module": "@jupyter-widgets/controls",
      "model_module_version": "1.5.0",
      "model_name": "HTMLModel",
      "state": {
       "layout": "IPY_MODEL_b05e93e1dd804ba79d0d9d1c435a1d54",
       "style": "IPY_MODEL_1048d6def1384ea492ebe90b99d1fdfa",
       "value": " 218/90000 [01:08&lt;4:56:39,  5.04it/s]"
      }
     },
     "a2ce7d77f67744e18bd10093d4139497": {
      "model_module": "@jupyter-widgets/controls",
      "model_module_version": "1.5.0",
      "model_name": "HTMLModel",
      "state": {
       "layout": "IPY_MODEL_b37f8bf2b7934477adecaff6848e8fd2",
       "style": "IPY_MODEL_874973ff2dfe487ba5dd21845de7999b",
       "value": " 0/23 [04:35&lt;?, ?it/s]"
      }
     },
     "a2e0fc742db94ef193a34a159f589eec": {
      "model_module": "@jupyter-widgets/controls",
      "model_module_version": "1.5.0",
      "model_name": "DescriptionStyleModel",
      "state": {
       "description_width": ""
      }
     },
     "a2eb5362d161453eb2258ba76f71db7c": {
      "model_module": "@jupyter-widgets/controls",
      "model_module_version": "1.5.0",
      "model_name": "HBoxModel",
      "state": {
       "children": [
        "IPY_MODEL_ae68ef3736344cbf87d18b1ed138d354",
        "IPY_MODEL_da1bd440b53f425180bddcddc6ca8a4f"
       ],
       "layout": "IPY_MODEL_8dd92b747c064a20b068cd1f669a5493"
      }
     },
     "a2fed170d5814d499bd5b68f03e38dd6": {
      "model_module": "@jupyter-widgets/controls",
      "model_module_version": "1.5.0",
      "model_name": "HBoxModel",
      "state": {
       "children": [
        "IPY_MODEL_97a054ca6939476784012d9e6cc71853",
        "IPY_MODEL_ed693787bf24488389c72b2afb4a8a3e"
       ],
       "layout": "IPY_MODEL_3d73c0bb8a7a4a6ab05e43bd83d41497"
      }
     },
     "a31e3bdde8db4981b3575d608d7c09fb": {
      "model_module": "@jupyter-widgets/base",
      "model_module_version": "1.2.0",
      "model_name": "LayoutModel",
      "state": {}
     },
     "a32380c034af42739f089bdb54ce0256": {
      "model_module": "@jupyter-widgets/base",
      "model_module_version": "1.2.0",
      "model_name": "LayoutModel",
      "state": {}
     },
     "a3598d162a5043dba0adc0c4287fc6b7": {
      "model_module": "@jupyter-widgets/base",
      "model_module_version": "1.2.0",
      "model_name": "LayoutModel",
      "state": {}
     },
     "a366d63015f94e5ea59b8dea34261843": {
      "model_module": "@jupyter-widgets/controls",
      "model_module_version": "1.5.0",
      "model_name": "HBoxModel",
      "state": {
       "children": [
        "IPY_MODEL_67205d2a20764e4a9053253bffbaab42",
        "IPY_MODEL_3baf7a500d1540eeb6cf6c56627c5214"
       ],
       "layout": "IPY_MODEL_248d4d76e21d403e9a1774322fb4f534"
      }
     },
     "a3695c0f187e4380887d9cc3a6c4f927": {
      "model_module": "@jupyter-widgets/base",
      "model_module_version": "1.2.0",
      "model_name": "LayoutModel",
      "state": {}
     },
     "a37a8da8e02646eba42c5bd3361d0ebf": {
      "model_module": "@jupyter-widgets/controls",
      "model_module_version": "1.5.0",
      "model_name": "HBoxModel",
      "state": {
       "children": [
        "IPY_MODEL_f35cfb8a69904b2384e774f10cb53d16",
        "IPY_MODEL_aa9225899ed04d79a6da50a259ff4067"
       ],
       "layout": "IPY_MODEL_8e6f192798a14d469587d99889386077"
      }
     },
     "a38f6859c50f49dc84d279890764c724": {
      "model_module": "@jupyter-widgets/controls",
      "model_module_version": "1.5.0",
      "model_name": "ProgressStyleModel",
      "state": {
       "description_width": "initial"
      }
     },
     "a393f3da442f40dfabce990e28df915e": {
      "model_module": "@jupyter-widgets/base",
      "model_module_version": "1.2.0",
      "model_name": "LayoutModel",
      "state": {}
     },
     "a3abec041d6f44d0bcdfeab4ddd023d3": {
      "model_module": "@jupyter-widgets/base",
      "model_module_version": "1.2.0",
      "model_name": "LayoutModel",
      "state": {}
     },
     "a3ae711ed271494589f027d158030904": {
      "model_module": "@jupyter-widgets/base",
      "model_module_version": "1.2.0",
      "model_name": "LayoutModel",
      "state": {}
     },
     "a3b99ca0f2df45ac8173c77509584e2b": {
      "model_module": "@jupyter-widgets/base",
      "model_module_version": "1.2.0",
      "model_name": "LayoutModel",
      "state": {}
     },
     "a3c6e4ddba194cb597286854b46aab89": {
      "model_module": "@jupyter-widgets/controls",
      "model_module_version": "1.5.0",
      "model_name": "HBoxModel",
      "state": {
       "children": [
        "IPY_MODEL_c848cfe07ed34d59815790b2037a30d0",
        "IPY_MODEL_4989b3057b1f435c8e58799d1f40f831"
       ],
       "layout": "IPY_MODEL_c13d19a4953746898efcd15cbc74581b"
      }
     },
     "a3dced2646aa420388cff9c70d8f076a": {
      "model_module": "@jupyter-widgets/controls",
      "model_module_version": "1.5.0",
      "model_name": "HTMLModel",
      "state": {
       "layout": "IPY_MODEL_21e8c97ae01a4b5b992bb0870dd30468",
       "style": "IPY_MODEL_6c5691111a9149ea858ef148cbea335c",
       "value": " 0/90000 [03:48&lt;?, ?it/s]"
      }
     },
     "a3de5bc708c243ddb5a1a614aee38311": {
      "model_module": "@jupyter-widgets/controls",
      "model_module_version": "1.5.0",
      "model_name": "ProgressStyleModel",
      "state": {
       "description_width": "initial"
      }
     },
     "a3e4c13eb83c4ff689168fec2f601738": {
      "model_module": "@jupyter-widgets/controls",
      "model_module_version": "1.5.0",
      "model_name": "HBoxModel",
      "state": {
       "children": [
        "IPY_MODEL_c439c7380bbd450d969c6560d1ef3a50",
        "IPY_MODEL_c719570ff48a4dd99727000018f961f9"
       ],
       "layout": "IPY_MODEL_e3e692cd21f5483daa9adabdc3ef0057"
      }
     },
     "a3e6daca72e740a1be46e35b7638980d": {
      "model_module": "@jupyter-widgets/controls",
      "model_module_version": "1.5.0",
      "model_name": "DescriptionStyleModel",
      "state": {
       "description_width": ""
      }
     },
     "a4052d8b148e46a9b76936b759787b62": {
      "model_module": "@jupyter-widgets/controls",
      "model_module_version": "1.5.0",
      "model_name": "FloatProgressModel",
      "state": {
       "bar_style": "danger",
       "description": "Valid iteration=0:   0%",
       "layout": "IPY_MODEL_8caf8341e47445618f3e789cc1fc0af0",
       "max": 10000,
       "style": "IPY_MODEL_8cb71cba84a14bfd8600b60691e36122"
      }
     },
     "a406999107714f52985570db1a27cbfa": {
      "model_module": "@jupyter-widgets/controls",
      "model_module_version": "1.5.0",
      "model_name": "DescriptionStyleModel",
      "state": {
       "description_width": ""
      }
     },
     "a4113b18adbd4a80b46031ff42911c54": {
      "model_module": "@jupyter-widgets/controls",
      "model_module_version": "1.5.0",
      "model_name": "HTMLModel",
      "state": {
       "layout": "IPY_MODEL_74e2dc0a46fd4bb192b6731e49093bc2",
       "style": "IPY_MODEL_127b200583cf4ea18b79fbab6679ef47",
       "value": " 0/10000 [12:30&lt;?, ?it/s]"
      }
     },
     "a41a5ae759534a66bc633d623628fa81": {
      "model_module": "@jupyter-widgets/controls",
      "model_module_version": "1.5.0",
      "model_name": "ProgressStyleModel",
      "state": {
       "description_width": "initial"
      }
     },
     "a41cfc0a6f56497280824cbf7af122a6": {
      "model_module": "@jupyter-widgets/base",
      "model_module_version": "1.2.0",
      "model_name": "LayoutModel",
      "state": {}
     },
     "a437ff3eafd045b4a3a7cb31d89356fa": {
      "model_module": "@jupyter-widgets/controls",
      "model_module_version": "1.5.0",
      "model_name": "DescriptionStyleModel",
      "state": {
       "description_width": ""
      }
     },
     "a460130619a044d1b8b505c83b3305a9": {
      "model_module": "@jupyter-widgets/controls",
      "model_module_version": "1.5.0",
      "model_name": "FloatProgressModel",
      "state": {
       "bar_style": "danger",
       "description": "Train:   0%",
       "layout": "IPY_MODEL_e667e2b2935b42ad83e9ab83c353acae",
       "max": 12,
       "style": "IPY_MODEL_80a4612c01d442dcb5ac9491d1d07924"
      }
     },
     "a47add9ccca749ddbdb34090c45b69a4": {
      "model_module": "@jupyter-widgets/controls",
      "model_module_version": "1.5.0",
      "model_name": "FloatProgressModel",
      "state": {
       "bar_style": "danger",
       "description": "Train:   0%",
       "layout": "IPY_MODEL_29ea48d0bfc04229977eab0adf9d3cd6",
       "max": 23,
       "style": "IPY_MODEL_c073d5d9977d4f23805c611a67d1c107"
      }
     },
     "a4ab05182236462a9e0a033419a0c658": {
      "model_module": "@jupyter-widgets/controls",
      "model_module_version": "1.5.0",
      "model_name": "HBoxModel",
      "state": {
       "children": [
        "IPY_MODEL_12c4d8c5400449afafa18aab86371910",
        "IPY_MODEL_024102221bff4e1895463ebe52f8b6b0"
       ],
       "layout": "IPY_MODEL_69aed97628f44470862bc460511c7598"
      }
     },
     "a4f19c334e89457099f13b3f439f469f": {
      "model_module": "@jupyter-widgets/controls",
      "model_module_version": "1.5.0",
      "model_name": "ProgressStyleModel",
      "state": {
       "description_width": "initial"
      }
     },
     "a4fa8ed907794f729eb9c7cd08a069fe": {
      "model_module": "@jupyter-widgets/controls",
      "model_module_version": "1.5.0",
      "model_name": "ProgressStyleModel",
      "state": {
       "description_width": "initial"
      }
     },
     "a506151b873349babbb2242c454699e4": {
      "model_module": "@jupyter-widgets/controls",
      "model_module_version": "1.5.0",
      "model_name": "ProgressStyleModel",
      "state": {
       "description_width": "initial"
      }
     },
     "a5125210980b406d8580dbf5c4c4545b": {
      "model_module": "@jupyter-widgets/base",
      "model_module_version": "1.2.0",
      "model_name": "LayoutModel",
      "state": {}
     },
     "a51b2f89d0e74b9c9a072ee422289168": {
      "model_module": "@jupyter-widgets/controls",
      "model_module_version": "1.5.0",
      "model_name": "HBoxModel",
      "state": {
       "children": [
        "IPY_MODEL_a460130619a044d1b8b505c83b3305a9",
        "IPY_MODEL_fd1c2681b19e49009889065ce5227746"
       ],
       "layout": "IPY_MODEL_97519ca5bac84732a04520ca53d8cd35"
      }
     },
     "a521ec8d9006415298efd0c151392dff": {
      "model_module": "@jupyter-widgets/base",
      "model_module_version": "1.2.0",
      "model_name": "LayoutModel",
      "state": {}
     },
     "a531f4da4ab64de6b8a2ef9300a8fa19": {
      "model_module": "@jupyter-widgets/base",
      "model_module_version": "1.2.0",
      "model_name": "LayoutModel",
      "state": {}
     },
     "a545381c6d9b439bad5904091f47d0fd": {
      "model_module": "@jupyter-widgets/controls",
      "model_module_version": "1.5.0",
      "model_name": "HBoxModel",
      "state": {
       "children": [
        "IPY_MODEL_b82dce91163b48098b0514871c73440f",
        "IPY_MODEL_937c78f6996745a48f26a550554217cc"
       ],
       "layout": "IPY_MODEL_efceb3ccaa3e45d09f9a7a623b1f7aa4"
      }
     },
     "a5694b645f274f87ae3419989543462a": {
      "model_module": "@jupyter-widgets/controls",
      "model_module_version": "1.5.0",
      "model_name": "FloatProgressModel",
      "state": {
       "bar_style": "danger",
       "description": "Train:   0%",
       "layout": "IPY_MODEL_4674426b8d994997aff50479b7ed9a65",
       "max": 12,
       "style": "IPY_MODEL_9a42d1d5a5a74a20b6eb137332907a78"
      }
     },
     "a574c9a61e9945709eae486899fa0f73": {
      "model_module": "@jupyter-widgets/controls",
      "model_module_version": "1.5.0",
      "model_name": "HTMLModel",
      "state": {
       "layout": "IPY_MODEL_741a60f226244e1aa661636d41dab3ad",
       "style": "IPY_MODEL_52b0811a2ced438cab72cd626ffae548",
       "value": " 0/23 [00:59&lt;?, ?it/s]"
      }
     },
     "a575c403c2e240e29569f78de2793f81": {
      "model_module": "@jupyter-widgets/controls",
      "model_module_version": "1.5.0",
      "model_name": "ProgressStyleModel",
      "state": {
       "description_width": "initial"
      }
     },
     "a58a04fbd5f84a4fafe4381c484b61e9": {
      "model_module": "@jupyter-widgets/controls",
      "model_module_version": "1.5.0",
      "model_name": "HTMLModel",
      "state": {
       "layout": "IPY_MODEL_56a8840471344d23a6553a10625cf165",
       "style": "IPY_MODEL_1e12f769d26246589cbd9785cbf3475d",
       "value": " 0/45000 [00:00&lt;?, ?it/s]"
      }
     },
     "a58d45b37cff4a37bd42c0e32d994a39": {
      "model_module": "@jupyter-widgets/controls",
      "model_module_version": "1.5.0",
      "model_name": "ProgressStyleModel",
      "state": {
       "description_width": "initial"
      }
     },
     "a58e1181b0ea498991ed11801a501d94": {
      "model_module": "@jupyter-widgets/controls",
      "model_module_version": "1.5.0",
      "model_name": "HTMLModel",
      "state": {
       "layout": "IPY_MODEL_9a8ba9cb2084406c9045701ce3b1402a",
       "style": "IPY_MODEL_1df39978e0f84cc0865099004e089d1c",
       "value": " 0/12 [00:39&lt;?, ?it/s]"
      }
     },
     "a58f9309da2c48a5846724c3f2886691": {
      "model_module": "@jupyter-widgets/base",
      "model_module_version": "1.2.0",
      "model_name": "LayoutModel",
      "state": {}
     },
     "a59825095f504bc0ad2c27a65036ea0f": {
      "model_module": "@jupyter-widgets/controls",
      "model_module_version": "1.5.0",
      "model_name": "HTMLModel",
      "state": {
       "layout": "IPY_MODEL_95e6b160022842f59bbd40481e56a615",
       "style": "IPY_MODEL_9fd4f92876104237a8577e0fdfb436ad",
       "value": " 0/5000 [00:01&lt;?, ?it/s]"
      }
     },
     "a59b65c7c6aa4c0687923bd562827939": {
      "model_module": "@jupyter-widgets/base",
      "model_module_version": "1.2.0",
      "model_name": "LayoutModel",
      "state": {}
     },
     "a59bf518c97a42f49d0841bbcf4768c8": {
      "model_module": "@jupyter-widgets/controls",
      "model_module_version": "1.5.0",
      "model_name": "FloatProgressModel",
      "state": {
       "bar_style": "danger",
       "description": "Train epoch=0:   0%",
       "layout": "IPY_MODEL_3e10f7d8eb1e4957b9023ebee35f0b48",
       "max": 45000,
       "style": "IPY_MODEL_650e2d853b5b449eac9c8f8a2f7710d4"
      }
     },
     "a5a11b252a724e87a16be18bbd5eb305": {
      "model_module": "@jupyter-widgets/controls",
      "model_module_version": "1.5.0",
      "model_name": "HBoxModel",
      "state": {
       "children": [
        "IPY_MODEL_f02c3eedf0584b9c9a1d3c4edfa4b589",
        "IPY_MODEL_7da0793ee7cc4c359cfaf2b4ccc28b1a"
       ],
       "layout": "IPY_MODEL_c74f360b35794f1196c0ceab2d3feae9"
      }
     },
     "a5cb4d90e4f2412aa3db93dc18440708": {
      "model_module": "@jupyter-widgets/base",
      "model_module_version": "1.2.0",
      "model_name": "LayoutModel",
      "state": {}
     },
     "a5d5669ccf0341878cc1fa3f979e38ad": {
      "model_module": "@jupyter-widgets/controls",
      "model_module_version": "1.5.0",
      "model_name": "ProgressStyleModel",
      "state": {
       "description_width": "initial"
      }
     },
     "a5d5b76a101b49f78754c5a31471b5eb": {
      "model_module": "@jupyter-widgets/controls",
      "model_module_version": "1.5.0",
      "model_name": "ProgressStyleModel",
      "state": {
       "description_width": "initial"
      }
     },
     "a5e29042ed674a5fb97c9a1d6d41b4ea": {
      "model_module": "@jupyter-widgets/base",
      "model_module_version": "1.2.0",
      "model_name": "LayoutModel",
      "state": {}
     },
     "a5e4a4a473184286b7f18db41d27a5e7": {
      "model_module": "@jupyter-widgets/controls",
      "model_module_version": "1.5.0",
      "model_name": "HTMLModel",
      "state": {
       "layout": "IPY_MODEL_d8629375f80148f0a92748c8dceb076b",
       "style": "IPY_MODEL_9730f3168bdf49919f5e7abcafe08eef",
       "value": " 240/90000 [01:45&lt;10:16:29,  2.43it/s]"
      }
     },
     "a5f2b4580d634b12aed673a4b7cce35a": {
      "model_module": "@jupyter-widgets/controls",
      "model_module_version": "1.5.0",
      "model_name": "DescriptionStyleModel",
      "state": {
       "description_width": ""
      }
     },
     "a5fe1752c3364eeca54664580ef16cb1": {
      "model_module": "@jupyter-widgets/controls",
      "model_module_version": "1.5.0",
      "model_name": "HTMLModel",
      "state": {
       "layout": "IPY_MODEL_e463a96cdc434c1d88661a0de5b5d64f",
       "style": "IPY_MODEL_ab3c71eb2a1a42bc8beac0acf25f144d",
       "value": " 0/12 [01:47&lt;?, ?it/s]"
      }
     },
     "a5fee8cacd844dd7bc82afb30bf09b54": {
      "model_module": "@jupyter-widgets/controls",
      "model_module_version": "1.5.0",
      "model_name": "HBoxModel",
      "state": {
       "children": [
        "IPY_MODEL_182a234ceb7a40d49959bcbecbff0318",
        "IPY_MODEL_0b95260836b3469c801a71151372a947"
       ],
       "layout": "IPY_MODEL_40ab0993257942288131cc802fa5d345"
      }
     },
     "a61359a97cb54fc3a68dcca0dc767fd4": {
      "model_module": "@jupyter-widgets/controls",
      "model_module_version": "1.5.0",
      "model_name": "HTMLModel",
      "state": {
       "layout": "IPY_MODEL_66ee8e6150ab45fea0129d2b50a4c167",
       "style": "IPY_MODEL_a1f6d6832946488eaf0181a412e434de",
       "value": " 0/10000 [04:47&lt;?, ?it/s]"
      }
     },
     "a61eee59062d4d84aaf9985f26f4c936": {
      "model_module": "@jupyter-widgets/base",
      "model_module_version": "1.2.0",
      "model_name": "LayoutModel",
      "state": {}
     },
     "a63da02a6f6b4f0a89cef0a51ce39289": {
      "model_module": "@jupyter-widgets/controls",
      "model_module_version": "1.5.0",
      "model_name": "ProgressStyleModel",
      "state": {
       "description_width": "initial"
      }
     },
     "a642d47bafdf4869a51080c22b2707ce": {
      "model_module": "@jupyter-widgets/controls",
      "model_module_version": "1.5.0",
      "model_name": "DescriptionStyleModel",
      "state": {
       "description_width": ""
      }
     },
     "a67b4011142d4cc88cfe728249aab74c": {
      "model_module": "@jupyter-widgets/base",
      "model_module_version": "1.2.0",
      "model_name": "LayoutModel",
      "state": {}
     },
     "a68b6875a1f14421be3cb030a7f61c80": {
      "model_module": "@jupyter-widgets/controls",
      "model_module_version": "1.5.0",
      "model_name": "HTMLModel",
      "state": {
       "layout": "IPY_MODEL_8dbe03712ea54c4ba9719dde8f1cfad6",
       "style": "IPY_MODEL_91b69ed56db14b6fbc4343bcf8caadec",
       "value": " 0/12 [00:01&lt;?, ?it/s]"
      }
     },
     "a6a10781d5214396be669d903ba42b25": {
      "model_module": "@jupyter-widgets/controls",
      "model_module_version": "1.5.0",
      "model_name": "DescriptionStyleModel",
      "state": {
       "description_width": ""
      }
     },
     "a6cc3f572a954f9eaac9c1082b37acf6": {
      "model_module": "@jupyter-widgets/base",
      "model_module_version": "1.2.0",
      "model_name": "LayoutModel",
      "state": {}
     },
     "a718474baf464b0a91def64d11c46333": {
      "model_module": "@jupyter-widgets/controls",
      "model_module_version": "1.5.0",
      "model_name": "HBoxModel",
      "state": {
       "children": [
        "IPY_MODEL_d559714d73f347609f3be7ef716ffc2e",
        "IPY_MODEL_181a11fecbcd430e82f0034c0eacdfac"
       ],
       "layout": "IPY_MODEL_4dfa4384ceb84b07b691fe4a229932a8"
      }
     },
     "a729ee67e40945dd957d30e6e08a3967": {
      "model_module": "@jupyter-widgets/controls",
      "model_module_version": "1.5.0",
      "model_name": "HBoxModel",
      "state": {
       "children": [
        "IPY_MODEL_cb6a10f4356d4b2993eb888d4d6c7626",
        "IPY_MODEL_103029c5836c45ee9ac52548097b3687"
       ],
       "layout": "IPY_MODEL_ec2dc5b921b945d499c7121c73d9b288"
      }
     },
     "a738e913bc6547928942bf50ce8c523f": {
      "model_module": "@jupyter-widgets/base",
      "model_module_version": "1.2.0",
      "model_name": "LayoutModel",
      "state": {}
     },
     "a740e0d6a26d45d2be96f14d53d48469": {
      "model_module": "@jupyter-widgets/controls",
      "model_module_version": "1.5.0",
      "model_name": "FloatProgressModel",
      "state": {
       "bar_style": "danger",
       "description": "Valid iteration=9000:   0%",
       "layout": "IPY_MODEL_0dcc877a7fb84280a0379acf4b230879",
       "max": 10000,
       "style": "IPY_MODEL_c9d2286213b54eb9bd52da74fade8bbd"
      }
     },
     "a745f706ed5341748fa48d03033e0187": {
      "model_module": "@jupyter-widgets/base",
      "model_module_version": "1.2.0",
      "model_name": "LayoutModel",
      "state": {}
     },
     "a767272fae864479b27798e7bf44a373": {
      "model_module": "@jupyter-widgets/controls",
      "model_module_version": "1.5.0",
      "model_name": "DescriptionStyleModel",
      "state": {
       "description_width": ""
      }
     },
     "a77dd1efd0ab493ebcb7dfb253a92185": {
      "model_module": "@jupyter-widgets/controls",
      "model_module_version": "1.5.0",
      "model_name": "HBoxModel",
      "state": {
       "children": [
        "IPY_MODEL_2bdd8133dfd8493481a745c00945561d",
        "IPY_MODEL_95026738826d442991c100d89adcfe6e"
       ],
       "layout": "IPY_MODEL_79ccabf36c5442c7b851799418821f3b"
      }
     },
     "a77e9e10c2cb439bbbeb801b048da260": {
      "model_module": "@jupyter-widgets/base",
      "model_module_version": "1.2.0",
      "model_name": "LayoutModel",
      "state": {}
     },
     "a79034f897a6408da788c06e243c613d": {
      "model_module": "@jupyter-widgets/controls",
      "model_module_version": "1.5.0",
      "model_name": "HTMLModel",
      "state": {
       "layout": "IPY_MODEL_294e624e53b14722899e5217c33d7976",
       "style": "IPY_MODEL_07898ed972cc4d92af4c39730b9ffe66",
       "value": " 0/45000 [02:21&lt;?, ?it/s]"
      }
     },
     "a7aa65a45c0f442ca86151b100b05f90": {
      "model_module": "@jupyter-widgets/controls",
      "model_module_version": "1.5.0",
      "model_name": "DescriptionStyleModel",
      "state": {
       "description_width": ""
      }
     },
     "a7b1304e2eab4c26b0133c9f97d7af35": {
      "model_module": "@jupyter-widgets/controls",
      "model_module_version": "1.5.0",
      "model_name": "DescriptionStyleModel",
      "state": {
       "description_width": ""
      }
     },
     "a7b1e0b40a5a46f1b074142b51ae7a29": {
      "model_module": "@jupyter-widgets/base",
      "model_module_version": "1.2.0",
      "model_name": "LayoutModel",
      "state": {}
     },
     "a7ba6c14e17e42d7bb1279d28d71d965": {
      "model_module": "@jupyter-widgets/controls",
      "model_module_version": "1.5.0",
      "model_name": "HTMLModel",
      "state": {
       "layout": "IPY_MODEL_b3907981a8cf4549ac9c95d005a57169",
       "style": "IPY_MODEL_ea28c6420701451f94c654a216414722",
       "value": " 0/12 [00:56&lt;?, ?it/s]"
      }
     },
     "a7bc19c841ae400cad3964c86e29e375": {
      "model_module": "@jupyter-widgets/base",
      "model_module_version": "1.2.0",
      "model_name": "LayoutModel",
      "state": {}
     },
     "a7c72ecebbd044c3ba68b5cd94d9f231": {
      "model_module": "@jupyter-widgets/controls",
      "model_module_version": "1.5.0",
      "model_name": "HBoxModel",
      "state": {
       "children": [
        "IPY_MODEL_b8ebe3ff6bc44d3da6975911ec8e56f9",
        "IPY_MODEL_2ea99ae54f8d45a39ed32819dcf72b83"
       ],
       "layout": "IPY_MODEL_8e3f0f41ea6c44789c5703893cc47709"
      }
     },
     "a7db7eb0843d4a3abc3b33f979773276": {
      "model_module": "@jupyter-widgets/controls",
      "model_module_version": "1.5.0",
      "model_name": "DescriptionStyleModel",
      "state": {
       "description_width": ""
      }
     },
     "a7f4fb238fb0457a99b9644fd33a4eba": {
      "model_module": "@jupyter-widgets/base",
      "model_module_version": "1.2.0",
      "model_name": "LayoutModel",
      "state": {}
     },
     "a7f970cb57874988b915cae6d6e460d4": {
      "model_module": "@jupyter-widgets/base",
      "model_module_version": "1.2.0",
      "model_name": "LayoutModel",
      "state": {}
     },
     "a81c0775e209475abfdc32d6adecb9e1": {
      "model_module": "@jupyter-widgets/base",
      "model_module_version": "1.2.0",
      "model_name": "LayoutModel",
      "state": {}
     },
     "a82ec61ac57f46289a11c79f2fc54922": {
      "model_module": "@jupyter-widgets/controls",
      "model_module_version": "1.5.0",
      "model_name": "FloatProgressModel",
      "state": {
       "bar_style": "danger",
       "description": "Train epoch=0:   0%",
       "layout": "IPY_MODEL_ae8ebbdc8896435193779f1f2ab40f97",
       "max": 90000,
       "style": "IPY_MODEL_dbbae240c35144c0b9ce076fb5411172"
      }
     },
     "a833fa0a2a6944a7b0260a66826e5d09": {
      "model_module": "@jupyter-widgets/controls",
      "model_module_version": "1.5.0",
      "model_name": "FloatProgressModel",
      "state": {
       "bar_style": "danger",
       "description": "Valid iteration=0:   0%",
       "layout": "IPY_MODEL_8b026c7d64f74867892e8d8cf3cdc602",
       "max": 10000,
       "style": "IPY_MODEL_eb7b80fd9ed34e1387219cb86c99082e"
      }
     },
     "a842bff0a4334c13a4be0de90adf39cc": {
      "model_module": "@jupyter-widgets/controls",
      "model_module_version": "1.5.0",
      "model_name": "HTMLModel",
      "state": {
       "layout": "IPY_MODEL_9f50ca2846e841348984fe08c5c99fe2",
       "style": "IPY_MODEL_71481c0f51164737adbabc3816dea757",
       "value": " 0/23 [03:38&lt;?, ?it/s]"
      }
     },
     "a8453f4fd42d4e85b9d105924f211912": {
      "model_module": "@jupyter-widgets/controls",
      "model_module_version": "1.5.0",
      "model_name": "FloatProgressModel",
      "state": {
       "bar_style": "danger",
       "description": "Valid iteration=0:   0%",
       "layout": "IPY_MODEL_b60b6bd917d74f629aff454b999e0d89",
       "max": 10000,
       "style": "IPY_MODEL_0a9c55fd70784318b6d90f016b1010d1"
      }
     },
     "a8567d7c00ff4f4ea3d26bca614f7fb9": {
      "model_module": "@jupyter-widgets/controls",
      "model_module_version": "1.5.0",
      "model_name": "HBoxModel",
      "state": {
       "children": [
        "IPY_MODEL_e676e503fe2f4290833b73e85fe5202d",
        "IPY_MODEL_f5153cbbefb24b9893fe8b7f76b922d1"
       ],
       "layout": "IPY_MODEL_2af4e6445d414e96891c3bac195fa1bf"
      }
     },
     "a85a828967464d64a8bb20161fb603f6": {
      "model_module": "@jupyter-widgets/controls",
      "model_module_version": "1.5.0",
      "model_name": "HBoxModel",
      "state": {
       "children": [
        "IPY_MODEL_10f234236697443a98d701ff3a353dad",
        "IPY_MODEL_fae948e2174b45e5b7f8336b208c1f50"
       ],
       "layout": "IPY_MODEL_8d3e638f28e24134a94b756d7cfacb94"
      }
     },
     "a8686e95ba964f4cae0cdcadae92c5b2": {
      "model_module": "@jupyter-widgets/base",
      "model_module_version": "1.2.0",
      "model_name": "LayoutModel",
      "state": {}
     },
     "a86adbea73ba42c3ae5bbcdab7e6911a": {
      "model_module": "@jupyter-widgets/base",
      "model_module_version": "1.2.0",
      "model_name": "LayoutModel",
      "state": {}
     },
     "a8a137a007ab4e25b5e711f7750b69e2": {
      "model_module": "@jupyter-widgets/base",
      "model_module_version": "1.2.0",
      "model_name": "LayoutModel",
      "state": {}
     },
     "a8a52d15d52d47119bebbafa81b8a0ed": {
      "model_module": "@jupyter-widgets/base",
      "model_module_version": "1.2.0",
      "model_name": "LayoutModel",
      "state": {}
     },
     "a8a92efa7f19417abca983e5efd7764c": {
      "model_module": "@jupyter-widgets/controls",
      "model_module_version": "1.5.0",
      "model_name": "ProgressStyleModel",
      "state": {
       "description_width": "initial"
      }
     },
     "a8bd6838e2b0445899ac5918578868c0": {
      "model_module": "@jupyter-widgets/controls",
      "model_module_version": "1.5.0",
      "model_name": "ProgressStyleModel",
      "state": {
       "description_width": "initial"
      }
     },
     "a8d177817dba438d9463feb8f842377d": {
      "model_module": "@jupyter-widgets/controls",
      "model_module_version": "1.5.0",
      "model_name": "HTMLModel",
      "state": {
       "layout": "IPY_MODEL_1f252c5c909d4225aa1f477e2500a0cb",
       "style": "IPY_MODEL_3825b09cc5a44da2ba62cc684e7f0906",
       "value": " 0/5000 [09:17&lt;?, ?it/s]"
      }
     },
     "a8f3f6f2ab344453bd012917db0f6700": {
      "model_module": "@jupyter-widgets/base",
      "model_module_version": "1.2.0",
      "model_name": "LayoutModel",
      "state": {}
     },
     "a8f8b228ddb049a29f3cd13315c5c26a": {
      "model_module": "@jupyter-widgets/controls",
      "model_module_version": "1.5.0",
      "model_name": "DescriptionStyleModel",
      "state": {
       "description_width": ""
      }
     },
     "a937b6cea9024634b45ff550b98eb11e": {
      "model_module": "@jupyter-widgets/controls",
      "model_module_version": "1.5.0",
      "model_name": "HTMLModel",
      "state": {
       "layout": "IPY_MODEL_faad18d56a914949a6a26c5c900ecfa4",
       "style": "IPY_MODEL_b0feaea265a34a009cb57562b8838750",
       "value": " 0/12 [00:24&lt;?, ?it/s]"
      }
     },
     "a956858d023a4f7f8661956b6211d3e5": {
      "model_module": "@jupyter-widgets/controls",
      "model_module_version": "1.5.0",
      "model_name": "ProgressStyleModel",
      "state": {
       "description_width": "initial"
      }
     },
     "a957e0fc605e4b8594e26f459a2838c0": {
      "model_module": "@jupyter-widgets/controls",
      "model_module_version": "1.5.0",
      "model_name": "HTMLModel",
      "state": {
       "layout": "IPY_MODEL_c7e9346a7967459e8f95fa50f3f1ca35",
       "style": "IPY_MODEL_cb177e3efc3242f5b750a2512ba1c212",
       "value": " 0/5000 [30:13&lt;?, ?it/s]"
      }
     },
     "a95a62fa4a594917b218e456a2cf442b": {
      "model_module": "@jupyter-widgets/controls",
      "model_module_version": "1.5.0",
      "model_name": "ProgressStyleModel",
      "state": {
       "description_width": "initial"
      }
     },
     "a95d6c41d7924b2ab4f475b02a58987c": {
      "model_module": "@jupyter-widgets/controls",
      "model_module_version": "1.5.0",
      "model_name": "DescriptionStyleModel",
      "state": {
       "description_width": ""
      }
     },
     "a9680faef12e4840b1b94e8952b360b6": {
      "model_module": "@jupyter-widgets/base",
      "model_module_version": "1.2.0",
      "model_name": "LayoutModel",
      "state": {}
     },
     "a96dbe7017204607993fe6c244d5e9fa": {
      "model_module": "@jupyter-widgets/controls",
      "model_module_version": "1.5.0",
      "model_name": "HTMLModel",
      "state": {
       "layout": "IPY_MODEL_9afbe3b6245d4c5a9a05b0868cba7ea9",
       "style": "IPY_MODEL_7d26e19c16a94213ad7ffa316335fa7b",
       "value": " 115/90000 [00:55&lt;10:21:52,  2.41it/s]"
      }
     },
     "a96f49efdbf84b09b66ed8333590a552": {
      "model_module": "@jupyter-widgets/base",
      "model_module_version": "1.2.0",
      "model_name": "LayoutModel",
      "state": {}
     },
     "a9d7bf5e28af4b4cb37f89022cbf6b28": {
      "model_module": "@jupyter-widgets/controls",
      "model_module_version": "1.5.0",
      "model_name": "FloatProgressModel",
      "state": {
       "bar_style": "danger",
       "description": "Train:   0%",
       "layout": "IPY_MODEL_dc9a8e89039c4989b0c411cdb480a95c",
       "max": 12,
       "style": "IPY_MODEL_c5c6aa1eb1734f8e97080f0a80c00e06"
      }
     },
     "a9f609fbb7074e0984f6dd5e1d94a4f6": {
      "model_module": "@jupyter-widgets/base",
      "model_module_version": "1.2.0",
      "model_name": "LayoutModel",
      "state": {}
     },
     "aa0c4b837ad5437d9ad891eb5e301f24": {
      "model_module": "@jupyter-widgets/base",
      "model_module_version": "1.2.0",
      "model_name": "LayoutModel",
      "state": {}
     },
     "aa25de63a24a4650a6dc6c99ad899691": {
      "model_module": "@jupyter-widgets/controls",
      "model_module_version": "1.5.0",
      "model_name": "ProgressStyleModel",
      "state": {
       "description_width": "initial"
      }
     },
     "aa6244cef7524351aa2d6234e032edfd": {
      "model_module": "@jupyter-widgets/controls",
      "model_module_version": "1.5.0",
      "model_name": "FloatProgressModel",
      "state": {
       "bar_style": "danger",
       "description": "Valid iteration=0:   0%",
       "layout": "IPY_MODEL_cd6a2d9da374472b83de055b4c488637",
       "max": 10000,
       "style": "IPY_MODEL_58eb746e8a4d4057afc311c16cc86e6f"
      }
     },
     "aa6db23a8b604931ba16a6cd308f4a99": {
      "model_module": "@jupyter-widgets/base",
      "model_module_version": "1.2.0",
      "model_name": "LayoutModel",
      "state": {}
     },
     "aa7d557769264681bc2f68ac83746f9b": {
      "model_module": "@jupyter-widgets/controls",
      "model_module_version": "1.5.0",
      "model_name": "FloatProgressModel",
      "state": {
       "bar_style": "danger",
       "description": "Train:   0%",
       "layout": "IPY_MODEL_eab8e1aeadda462298d2baa912ed1eaa",
       "max": 12,
       "style": "IPY_MODEL_1b55dde9bdf1416689063efbb5e81a7f"
      }
     },
     "aa8bcc041a45464896ea7aee55988d21": {
      "model_module": "@jupyter-widgets/controls",
      "model_module_version": "1.5.0",
      "model_name": "DescriptionStyleModel",
      "state": {
       "description_width": ""
      }
     },
     "aa8fe0c041114edda0235a05bd512d98": {
      "model_module": "@jupyter-widgets/controls",
      "model_module_version": "1.5.0",
      "model_name": "FloatProgressModel",
      "state": {
       "bar_style": "danger",
       "description": "Valid iteration=0:   0%",
       "layout": "IPY_MODEL_014409d41245406e8afb0c7fcbecce15",
       "max": 10000,
       "style": "IPY_MODEL_d948732941504b2ea18d077becbfc1b0"
      }
     },
     "aa9225899ed04d79a6da50a259ff4067": {
      "model_module": "@jupyter-widgets/controls",
      "model_module_version": "1.5.0",
      "model_name": "HTMLModel",
      "state": {
       "layout": "IPY_MODEL_e09383bd63c447d98331b99a7f3d2ded",
       "style": "IPY_MODEL_a080c13a55a7461c9887108d59c1ad4b",
       "value": " 2887/90000 [19:26&lt;9:39:19,  2.51it/s]"
      }
     },
     "aab7dbe05280419293a7a847fc091246": {
      "model_module": "@jupyter-widgets/base",
      "model_module_version": "1.2.0",
      "model_name": "LayoutModel",
      "state": {}
     },
     "aada134e33e94fe7ad4f0825f6b72d8b": {
      "model_module": "@jupyter-widgets/controls",
      "model_module_version": "1.5.0",
      "model_name": "HTMLModel",
      "state": {
       "layout": "IPY_MODEL_79c6e62de30e47c284c94f923974220f",
       "style": "IPY_MODEL_9caf942d1ff848a5922fcb2c3137c7f4",
       "value": " 0/12 [00:31&lt;?, ?it/s]"
      }
     },
     "aadef2ef6bc547e78ec5c67d3575854e": {
      "model_module": "@jupyter-widgets/controls",
      "model_module_version": "1.5.0",
      "model_name": "ProgressStyleModel",
      "state": {
       "description_width": "initial"
      }
     },
     "aae2cd01342047f5af260d31af1bd7c2": {
      "model_module": "@jupyter-widgets/controls",
      "model_module_version": "1.5.0",
      "model_name": "DescriptionStyleModel",
      "state": {
       "description_width": ""
      }
     },
     "aae3842cbc344f01bfcc8f569ae36eb1": {
      "model_module": "@jupyter-widgets/base",
      "model_module_version": "1.2.0",
      "model_name": "LayoutModel",
      "state": {}
     },
     "ab1206858d0a4d108c98d7d9e23d8c7d": {
      "model_module": "@jupyter-widgets/controls",
      "model_module_version": "1.5.0",
      "model_name": "ProgressStyleModel",
      "state": {
       "description_width": "initial"
      }
     },
     "ab1ed79ed07445e09f7c3494ea1604e5": {
      "model_module": "@jupyter-widgets/base",
      "model_module_version": "1.2.0",
      "model_name": "LayoutModel",
      "state": {}
     },
     "ab3c71eb2a1a42bc8beac0acf25f144d": {
      "model_module": "@jupyter-widgets/controls",
      "model_module_version": "1.5.0",
      "model_name": "DescriptionStyleModel",
      "state": {
       "description_width": ""
      }
     },
     "ab9738f01c794309bbfcf183a26adec5": {
      "model_module": "@jupyter-widgets/controls",
      "model_module_version": "1.5.0",
      "model_name": "ProgressStyleModel",
      "state": {
       "description_width": "initial"
      }
     },
     "ab99b78a94e442e19fe3cecdb4c60dbd": {
      "model_module": "@jupyter-widgets/base",
      "model_module_version": "1.2.0",
      "model_name": "LayoutModel",
      "state": {}
     },
     "aba421003204419fab85dabe7207a868": {
      "model_module": "@jupyter-widgets/controls",
      "model_module_version": "1.5.0",
      "model_name": "HBoxModel",
      "state": {
       "children": [
        "IPY_MODEL_7f7b565a4393442fb74b9dbebc0aee06",
        "IPY_MODEL_05292a9252ab42cc81956eaa5cfabea8"
       ],
       "layout": "IPY_MODEL_3c63f707ee604837833f023513f248c7"
      }
     },
     "abb81d0ed3614e7ba7476120ff7aa9f4": {
      "model_module": "@jupyter-widgets/base",
      "model_module_version": "1.2.0",
      "model_name": "LayoutModel",
      "state": {}
     },
     "abbf2cc47dde4e2eb737d4b53d41e1e2": {
      "model_module": "@jupyter-widgets/base",
      "model_module_version": "1.2.0",
      "model_name": "LayoutModel",
      "state": {}
     },
     "abccf4929808427793dacdfdd483871e": {
      "model_module": "@jupyter-widgets/controls",
      "model_module_version": "1.5.0",
      "model_name": "FloatProgressModel",
      "state": {
       "bar_style": "danger",
       "description": "Train:   0%",
       "layout": "IPY_MODEL_43faa286e8f94947beaf279bb6c33cf9",
       "max": 12,
       "style": "IPY_MODEL_2ac45984ecd14763aab3d63d962955cb"
      }
     },
     "abe1084a60c44696b67be25b0e782e4f": {
      "model_module": "@jupyter-widgets/controls",
      "model_module_version": "1.5.0",
      "model_name": "HBoxModel",
      "state": {
       "children": [
        "IPY_MODEL_8c0a4b81145a4b3ca8c94f39ff9718a3",
        "IPY_MODEL_3e99cadc8e574ad6b10593341b4da037"
       ],
       "layout": "IPY_MODEL_900651549e2c413eab048ccbd7e09057"
      }
     },
     "abe39451003044098187e99e8c513408": {
      "model_module": "@jupyter-widgets/base",
      "model_module_version": "1.2.0",
      "model_name": "LayoutModel",
      "state": {}
     },
     "ac590c4d384549299b9ef7a98b4c1004": {
      "model_module": "@jupyter-widgets/base",
      "model_module_version": "1.2.0",
      "model_name": "LayoutModel",
      "state": {}
     },
     "ac616b6634b84afebe1c363f3a651b9f": {
      "model_module": "@jupyter-widgets/base",
      "model_module_version": "1.2.0",
      "model_name": "LayoutModel",
      "state": {}
     },
     "ac781e77289a424abb55b45abf8ddac8": {
      "model_module": "@jupyter-widgets/base",
      "model_module_version": "1.2.0",
      "model_name": "LayoutModel",
      "state": {}
     },
     "ac83baa7baef490bb9946fcc1aef1531": {
      "model_module": "@jupyter-widgets/controls",
      "model_module_version": "1.5.0",
      "model_name": "FloatProgressModel",
      "state": {
       "bar_style": "danger",
       "description": "Valid iteration=0:   0%",
       "layout": "IPY_MODEL_8cc344f4bcdd4b49904e89940dcf1ffc",
       "max": 5000,
       "style": "IPY_MODEL_7964cb2f0887423a8a48e86c479907fd"
      }
     },
     "ac8e542fce5e40b0923dec7a377c0f47": {
      "model_module": "@jupyter-widgets/base",
      "model_module_version": "1.2.0",
      "model_name": "LayoutModel",
      "state": {}
     },
     "ac955b651f7c46158174483ee78ec0cc": {
      "model_module": "@jupyter-widgets/base",
      "model_module_version": "1.2.0",
      "model_name": "LayoutModel",
      "state": {}
     },
     "acbb7173fcbe456380be0072befa3503": {
      "model_module": "@jupyter-widgets/controls",
      "model_module_version": "1.5.0",
      "model_name": "ProgressStyleModel",
      "state": {
       "description_width": "initial"
      }
     },
     "acea126ba09645f4ad5b0f59b301b6eb": {
      "model_module": "@jupyter-widgets/controls",
      "model_module_version": "1.5.0",
      "model_name": "FloatProgressModel",
      "state": {
       "bar_style": "danger",
       "description": "Train epoch=0:   0%",
       "layout": "IPY_MODEL_20dd44819fbd44c1938f2f49e4c19699",
       "max": 90000,
       "style": "IPY_MODEL_ee4f62f95e744ebf9d667502ea76bde8"
      }
     },
     "acfaa1f9becc44b1a227a07f2235b9ee": {
      "model_module": "@jupyter-widgets/base",
      "model_module_version": "1.2.0",
      "model_name": "LayoutModel",
      "state": {}
     },
     "ad2ed15612754a57986c774767a30696": {
      "model_module": "@jupyter-widgets/controls",
      "model_module_version": "1.5.0",
      "model_name": "DescriptionStyleModel",
      "state": {
       "description_width": ""
      }
     },
     "ad58d8138c35412d82b02c9ffbc12b54": {
      "model_module": "@jupyter-widgets/controls",
      "model_module_version": "1.5.0",
      "model_name": "FloatProgressModel",
      "state": {
       "bar_style": "danger",
       "description": "Train epoch=0:   0%",
       "layout": "IPY_MODEL_2e49041636c742b8a1bc718e31bb63db",
       "max": 90000,
       "style": "IPY_MODEL_9843ed1b305e4128b246ab657ba51b46"
      }
     },
     "ad74dc71fff64499a062bccc189ee782": {
      "model_module": "@jupyter-widgets/base",
      "model_module_version": "1.2.0",
      "model_name": "LayoutModel",
      "state": {}
     },
     "ad7e9b12f0014b7db47e567edd5c49d0": {
      "model_module": "@jupyter-widgets/controls",
      "model_module_version": "1.5.0",
      "model_name": "HBoxModel",
      "state": {
       "children": [
        "IPY_MODEL_479d3df5681f44f48b4e3c755927e43f",
        "IPY_MODEL_e9fcc08f499e490880566ba679ead90e"
       ],
       "layout": "IPY_MODEL_8a526fc9f84c4722be7b0ef47a9b277c"
      }
     },
     "ad96e902d21c4f91b141268af38f0e53": {
      "model_module": "@jupyter-widgets/controls",
      "model_module_version": "1.5.0",
      "model_name": "FloatProgressModel",
      "state": {
       "bar_style": "danger",
       "description": "Train epoch=0:   0%",
       "layout": "IPY_MODEL_373f48f9474a4ba690eebc9f75e87657",
       "max": 90000,
       "style": "IPY_MODEL_daac929c8f574779898e4689e86174ea",
       "value": 215
      }
     },
     "add07c44c0234248b4ae49f689d07458": {
      "model_module": "@jupyter-widgets/controls",
      "model_module_version": "1.5.0",
      "model_name": "HTMLModel",
      "state": {
       "layout": "IPY_MODEL_5fc0ae414a764684b8c2624a6eadb825",
       "style": "IPY_MODEL_2b4bcb4290ac4b56bab7f2d43e9d2498",
       "value": " 0/10000 [00:01&lt;?, ?it/s]"
      }
     },
     "aded2e6ff18247a9a2c6ba40f00f4530": {
      "model_module": "@jupyter-widgets/base",
      "model_module_version": "1.2.0",
      "model_name": "LayoutModel",
      "state": {}
     },
     "ae00dd6379544b439bf29101d2d3d175": {
      "model_module": "@jupyter-widgets/controls",
      "model_module_version": "1.5.0",
      "model_name": "HTMLModel",
      "state": {
       "layout": "IPY_MODEL_d15684db686c4f9b935352569d5cacbf",
       "style": "IPY_MODEL_899ebe65f3094f37a69c92f382869485",
       "value": " 0/12 [19:26&lt;?, ?it/s]"
      }
     },
     "ae08db1b64b24cc5a19d72a1b4ef6c42": {
      "model_module": "@jupyter-widgets/base",
      "model_module_version": "1.2.0",
      "model_name": "LayoutModel",
      "state": {}
     },
     "ae68ef3736344cbf87d18b1ed138d354": {
      "model_module": "@jupyter-widgets/controls",
      "model_module_version": "1.5.0",
      "model_name": "FloatProgressModel",
      "state": {
       "bar_style": "danger",
       "description": "Valid iteration=0:   0%",
       "layout": "IPY_MODEL_24c73fe5686c46369aee7da4a5316209",
       "max": 5000,
       "style": "IPY_MODEL_ed9ef91dd5974b2c9324280cafe6e515"
      }
     },
     "ae84bdf85d454c269715026baace8eb9": {
      "model_module": "@jupyter-widgets/controls",
      "model_module_version": "1.5.0",
      "model_name": "FloatProgressModel",
      "state": {
       "bar_style": "danger",
       "description": "Train:   0%",
       "layout": "IPY_MODEL_12a281a033984327b717fa7bba41cb40",
       "max": 12,
       "style": "IPY_MODEL_9eeca9aeb5f84aa985ccfbd30b457176"
      }
     },
     "ae8ebbdc8896435193779f1f2ab40f97": {
      "model_module": "@jupyter-widgets/base",
      "model_module_version": "1.2.0",
      "model_name": "LayoutModel",
      "state": {}
     },
     "aec6dcaf47f546d88ad5a8c3079049c0": {
      "model_module": "@jupyter-widgets/controls",
      "model_module_version": "1.5.0",
      "model_name": "DescriptionStyleModel",
      "state": {
       "description_width": ""
      }
     },
     "af045312b376491ca1c4fed4fbab958d": {
      "model_module": "@jupyter-widgets/controls",
      "model_module_version": "1.5.0",
      "model_name": "FloatProgressModel",
      "state": {
       "bar_style": "danger",
       "description": "Train:   0%",
       "layout": "IPY_MODEL_c2679c3ecce34b3cbc3eca52f1f1cac3",
       "max": 12,
       "style": "IPY_MODEL_b72dc6ab31e44680ba6a8e4d9a6d5311"
      }
     },
     "af07d34b49a544bf81fbb9d198617a7b": {
      "model_module": "@jupyter-widgets/controls",
      "model_module_version": "1.5.0",
      "model_name": "ProgressStyleModel",
      "state": {
       "description_width": "initial"
      }
     },
     "af1b170815b7495badf163cad77e021e": {
      "model_module": "@jupyter-widgets/controls",
      "model_module_version": "1.5.0",
      "model_name": "HBoxModel",
      "state": {
       "children": [
        "IPY_MODEL_46fc2b8fd007483eacd098a142d0e488",
        "IPY_MODEL_0ed8faed5452445faaf35c360e7efcba"
       ],
       "layout": "IPY_MODEL_d6d28f41e9004d93bf00d059b15bd96d"
      }
     },
     "af1e29ed17b84c9c8b5fabee726f4939": {
      "model_module": "@jupyter-widgets/controls",
      "model_module_version": "1.5.0",
      "model_name": "HTMLModel",
      "state": {
       "layout": "IPY_MODEL_b7cc1040c5ad4d9c9d15247097a5b674",
       "style": "IPY_MODEL_628e3a626d1c4d9b81cb333b536c0b08",
       "value": " 0/12 [00:47&lt;?, ?it/s]"
      }
     },
     "af2154b21f7c415c9ea8c66cc345f8cf": {
      "model_module": "@jupyter-widgets/base",
      "model_module_version": "1.2.0",
      "model_name": "LayoutModel",
      "state": {}
     },
     "af2b9e9c4c854de7a3bf8b4fac07e0fe": {
      "model_module": "@jupyter-widgets/controls",
      "model_module_version": "1.5.0",
      "model_name": "HBoxModel",
      "state": {
       "children": [
        "IPY_MODEL_b1dd49d8cebf44f399ffd61ce8a76b96",
        "IPY_MODEL_1f3027b49ff44b5eba0612fa088749e3"
       ],
       "layout": "IPY_MODEL_2e26a67fea51455d95cd4db135795864"
      }
     },
     "af3cf13627ad4ca5b957edae9e12062e": {
      "model_module": "@jupyter-widgets/controls",
      "model_module_version": "1.5.0",
      "model_name": "FloatProgressModel",
      "state": {
       "bar_style": "danger",
       "description": "Train:   0%",
       "layout": "IPY_MODEL_b9835f1de2314ff4875762b91edaf594",
       "max": 23,
       "style": "IPY_MODEL_5d0a2fc343b44b6fb9882babb2d327c6"
      }
     },
     "af47052e21fd40679a241a953a42f230": {
      "model_module": "@jupyter-widgets/controls",
      "model_module_version": "1.5.0",
      "model_name": "HTMLModel",
      "state": {
       "layout": "IPY_MODEL_1555dfea5bb1467aaf73ca5b0f39811b",
       "style": "IPY_MODEL_465c56a79f814a3e8999b1eceec8a735",
       "value": " 0/23 [00:27&lt;?, ?it/s]"
      }
     },
     "af5788f3aff041b49ccd94ed11e71092": {
      "model_module": "@jupyter-widgets/controls",
      "model_module_version": "1.5.0",
      "model_name": "HTMLModel",
      "state": {
       "layout": "IPY_MODEL_20e84a33c93a4fc2bcafaae942914e04",
       "style": "IPY_MODEL_60698684e3904bf3a5c03f47985ee8b3",
       "value": " 0/10000 [00:01&lt;?, ?it/s]"
      }
     },
     "af73ca436bf84d68b63585bac95f8565": {
      "model_module": "@jupyter-widgets/base",
      "model_module_version": "1.2.0",
      "model_name": "LayoutModel",
      "state": {}
     },
     "af8795b1a2574f8985edee8b20847f9f": {
      "model_module": "@jupyter-widgets/controls",
      "model_module_version": "1.5.0",
      "model_name": "ProgressStyleModel",
      "state": {
       "description_width": "initial"
      }
     },
     "af989da48173471da816248e4a786ad0": {
      "model_module": "@jupyter-widgets/base",
      "model_module_version": "1.2.0",
      "model_name": "LayoutModel",
      "state": {}
     },
     "afb2c59dd6734caca8a388a85ba499c6": {
      "model_module": "@jupyter-widgets/controls",
      "model_module_version": "1.5.0",
      "model_name": "HTMLModel",
      "state": {
       "layout": "IPY_MODEL_d47609538cdc4d45b5947be208617347",
       "style": "IPY_MODEL_5646cfcee27d44fd825fad830df9342c",
       "value": " 0/10000 [42:19&lt;?, ?it/s]"
      }
     },
     "afc84a4d9a2b41239f2753a09f997154": {
      "model_module": "@jupyter-widgets/controls",
      "model_module_version": "1.5.0",
      "model_name": "FloatProgressModel",
      "state": {
       "bar_style": "danger",
       "description": "Valid iteration=0:   0%",
       "layout": "IPY_MODEL_869c4722e1ad4ea8bcfebca8fbfac0e7",
       "max": 10000,
       "style": "IPY_MODEL_f4ebef48e1d74c3ba9cea3543c2d452c"
      }
     },
     "afd20f2ed48d4e589f04f8d06ecdc187": {
      "model_module": "@jupyter-widgets/base",
      "model_module_version": "1.2.0",
      "model_name": "LayoutModel",
      "state": {}
     },
     "afdeb54e106147f7b42452a4c2982db7": {
      "model_module": "@jupyter-widgets/controls",
      "model_module_version": "1.5.0",
      "model_name": "HBoxModel",
      "state": {
       "children": [
        "IPY_MODEL_b70796fe7e7e412983504dde449e5731",
        "IPY_MODEL_0924358663774bfc8e65216c438f4a6d"
       ],
       "layout": "IPY_MODEL_d5d8aa9306994b4a928d5aa6d71da4f1"
      }
     },
     "afea1f55a10d423f81bd8d8433d6edd2": {
      "model_module": "@jupyter-widgets/base",
      "model_module_version": "1.2.0",
      "model_name": "LayoutModel",
      "state": {}
     },
     "b001b1d2e4f449b2a76ec981bdbef052": {
      "model_module": "@jupyter-widgets/base",
      "model_module_version": "1.2.0",
      "model_name": "LayoutModel",
      "state": {}
     },
     "b00effc6af27443fb30c71dee06edd9b": {
      "model_module": "@jupyter-widgets/controls",
      "model_module_version": "1.5.0",
      "model_name": "HTMLModel",
      "state": {
       "layout": "IPY_MODEL_bb4f569eda8b46659f7cde8f4400afb2",
       "style": "IPY_MODEL_d0f62aabb0244820b1865d230c2dd063",
       "value": " 0/10000 [00:01&lt;?, ?it/s]"
      }
     },
     "b0456d92a20f4ad5994e992b011ffbff": {
      "model_module": "@jupyter-widgets/controls",
      "model_module_version": "1.5.0",
      "model_name": "FloatProgressModel",
      "state": {
       "bar_style": "danger",
       "description": "Valid iteration=1000:   0%",
       "layout": "IPY_MODEL_23167644c90b4d21a7306f6fe44c6ab6",
       "max": 10000,
       "style": "IPY_MODEL_b549a80f3a1c46fe9bd5e1d0e86d894c"
      }
     },
     "b04e20536f0049edb0bce98d9c1a5cf7": {
      "model_module": "@jupyter-widgets/controls",
      "model_module_version": "1.5.0",
      "model_name": "FloatProgressModel",
      "state": {
       "bar_style": "danger",
       "description": "Train epoch=0:   0%",
       "layout": "IPY_MODEL_355ebe5bad464d9785ee69553f7a4ee0",
       "max": 90000,
       "style": "IPY_MODEL_e1f7024d41a5440d85c059f2daa4fe21"
      }
     },
     "b04ea04a65e54cd88deb069725174255": {
      "model_module": "@jupyter-widgets/base",
      "model_module_version": "1.2.0",
      "model_name": "LayoutModel",
      "state": {}
     },
     "b0519f04b1f7401cb0e71ec269190f36": {
      "model_module": "@jupyter-widgets/base",
      "model_module_version": "1.2.0",
      "model_name": "LayoutModel",
      "state": {}
     },
     "b05e93e1dd804ba79d0d9d1c435a1d54": {
      "model_module": "@jupyter-widgets/base",
      "model_module_version": "1.2.0",
      "model_name": "LayoutModel",
      "state": {}
     },
     "b06f6c5f1faf49e6b97f7b2f3e67f1c5": {
      "model_module": "@jupyter-widgets/base",
      "model_module_version": "1.2.0",
      "model_name": "LayoutModel",
      "state": {}
     },
     "b0a311933fa347508b9b35a83db700d4": {
      "model_module": "@jupyter-widgets/base",
      "model_module_version": "1.2.0",
      "model_name": "LayoutModel",
      "state": {}
     },
     "b0a918a80008494d8522ec818a3e3792": {
      "model_module": "@jupyter-widgets/controls",
      "model_module_version": "1.5.0",
      "model_name": "HTMLModel",
      "state": {
       "layout": "IPY_MODEL_14f6ddc794ca4937a0dd7c79ce46f694",
       "style": "IPY_MODEL_280ada516bfc403bb1089f27d604a443",
       "value": " 0/5000 [08:45&lt;?, ?it/s]"
      }
     },
     "b0ad73460e86478b8e95987a9076ff71": {
      "model_module": "@jupyter-widgets/controls",
      "model_module_version": "1.5.0",
      "model_name": "ProgressStyleModel",
      "state": {
       "description_width": "initial"
      }
     },
     "b0bd6a4c447e4e4fad528ef8ec367629": {
      "model_module": "@jupyter-widgets/controls",
      "model_module_version": "1.5.0",
      "model_name": "HTMLModel",
      "state": {
       "layout": "IPY_MODEL_547119c714834b9d8fc4f522685a9c5c",
       "style": "IPY_MODEL_1454d3e1cc9342bda76a2fc68d220e03",
       "value": " 0/90000 [00:54&lt;?, ?it/s]"
      }
     },
     "b0c10e88a6a948e988ee2839a99723da": {
      "model_module": "@jupyter-widgets/base",
      "model_module_version": "1.2.0",
      "model_name": "LayoutModel",
      "state": {}
     },
     "b0d2155ca50342b88bfd4a66d7ce825e": {
      "model_module": "@jupyter-widgets/controls",
      "model_module_version": "1.5.0",
      "model_name": "DescriptionStyleModel",
      "state": {
       "description_width": ""
      }
     },
     "b0d67574dcaa474ebb6316351fd368f0": {
      "model_module": "@jupyter-widgets/base",
      "model_module_version": "1.2.0",
      "model_name": "LayoutModel",
      "state": {}
     },
     "b0f06964b4254b79a65726f3b4c870f7": {
      "model_module": "@jupyter-widgets/controls",
      "model_module_version": "1.5.0",
      "model_name": "DescriptionStyleModel",
      "state": {
       "description_width": ""
      }
     },
     "b0feaea265a34a009cb57562b8838750": {
      "model_module": "@jupyter-widgets/controls",
      "model_module_version": "1.5.0",
      "model_name": "DescriptionStyleModel",
      "state": {
       "description_width": ""
      }
     },
     "b11ca200e76a41b29a825a87b60fa2aa": {
      "model_module": "@jupyter-widgets/base",
      "model_module_version": "1.2.0",
      "model_name": "LayoutModel",
      "state": {}
     },
     "b1295af32e5544b9bfd38f5259fbd36d": {
      "model_module": "@jupyter-widgets/controls",
      "model_module_version": "1.5.0",
      "model_name": "FloatProgressModel",
      "state": {
       "bar_style": "danger",
       "description": "Valid iteration=0:   0%",
       "layout": "IPY_MODEL_1cb0e9411ecf42f3adccc8914f683e78",
       "max": 10000,
       "style": "IPY_MODEL_46358b7b43134d13aa4bbda54359d26a"
      }
     },
     "b12e35aad28a447a986d5aa834c49fa7": {
      "model_module": "@jupyter-widgets/base",
      "model_module_version": "1.2.0",
      "model_name": "LayoutModel",
      "state": {}
     },
     "b1328aa50ec94f569768cfbab07bd935": {
      "model_module": "@jupyter-widgets/controls",
      "model_module_version": "1.5.0",
      "model_name": "HBoxModel",
      "state": {
       "children": [
        "IPY_MODEL_12cb0451933d4bfeba2dbe9f53695808",
        "IPY_MODEL_17af1d744004461183565bc205608064"
       ],
       "layout": "IPY_MODEL_86e8080361d44cf4b65f2e4b326b9169"
      }
     },
     "b13a714a1c744ac1ac70cb96f1565d9f": {
      "model_module": "@jupyter-widgets/controls",
      "model_module_version": "1.5.0",
      "model_name": "HBoxModel",
      "state": {
       "children": [
        "IPY_MODEL_523af47c3a454760949a2b710ad0d315",
        "IPY_MODEL_9f9b2fd3399b44c5806d7abb3dac80cd"
       ],
       "layout": "IPY_MODEL_fdc1907b53804a09b69a26b4fb329756"
      }
     },
     "b13daf3fe292438498403c20888fce49": {
      "model_module": "@jupyter-widgets/base",
      "model_module_version": "1.2.0",
      "model_name": "LayoutModel",
      "state": {}
     },
     "b1440adb9e84428685a6ddd3b96cfca3": {
      "model_module": "@jupyter-widgets/controls",
      "model_module_version": "1.5.0",
      "model_name": "DescriptionStyleModel",
      "state": {
       "description_width": ""
      }
     },
     "b14468c80efc4018a6c9d3a813141a56": {
      "model_module": "@jupyter-widgets/controls",
      "model_module_version": "1.5.0",
      "model_name": "FloatProgressModel",
      "state": {
       "bar_style": "danger",
       "description": "Valid iteration=0:   0%",
       "layout": "IPY_MODEL_5440c9a280e64a8092f3fe4eb280eb5a",
       "max": 10000,
       "style": "IPY_MODEL_a5d5669ccf0341878cc1fa3f979e38ad"
      }
     },
     "b16948663ace4ea9937692df7a952c7e": {
      "model_module": "@jupyter-widgets/base",
      "model_module_version": "1.2.0",
      "model_name": "LayoutModel",
      "state": {}
     },
     "b16c2a4c5f654840a60abe1b87567c27": {
      "model_module": "@jupyter-widgets/controls",
      "model_module_version": "1.5.0",
      "model_name": "HTMLModel",
      "state": {
       "layout": "IPY_MODEL_34c161e726144e178532e9f25808ee3b",
       "style": "IPY_MODEL_6be89020de4e4b22826962ad8722e1bc",
       "value": " 0/10000 [00:01&lt;?, ?it/s]"
      }
     },
     "b17c99283af14f93aee07fca4ae98e03": {
      "model_module": "@jupyter-widgets/base",
      "model_module_version": "1.2.0",
      "model_name": "LayoutModel",
      "state": {}
     },
     "b1c6ade2bed6494c9d91ab746acbb82d": {
      "model_module": "@jupyter-widgets/controls",
      "model_module_version": "1.5.0",
      "model_name": "HBoxModel",
      "state": {
       "children": [
        "IPY_MODEL_b04e20536f0049edb0bce98d9c1a5cf7",
        "IPY_MODEL_4dbd696587e3465eaec446555aae23f5"
       ],
       "layout": "IPY_MODEL_2de4e639015e4d28935600240e8d935a"
      }
     },
     "b1ca2435ccec4768af53877c20ddf6a0": {
      "model_module": "@jupyter-widgets/base",
      "model_module_version": "1.2.0",
      "model_name": "LayoutModel",
      "state": {}
     },
     "b1d1cd2281b94adc9e8fcb834c6daf6e": {
      "model_module": "@jupyter-widgets/controls",
      "model_module_version": "1.5.0",
      "model_name": "HTMLModel",
      "state": {
       "layout": "IPY_MODEL_e6861695137f48689f5a83f17fec16d5",
       "style": "IPY_MODEL_115d2bb76a994133b346a60396d5429f",
       "value": " 0/10000 [00:24&lt;?, ?it/s]"
      }
     },
     "b1dd49d8cebf44f399ffd61ce8a76b96": {
      "model_module": "@jupyter-widgets/controls",
      "model_module_version": "1.5.0",
      "model_name": "FloatProgressModel",
      "state": {
       "bar_style": "danger",
       "description": "Train epoch=0:   0%",
       "layout": "IPY_MODEL_ce9fb79a99bb457db5bd9527a6365643",
       "max": 45000,
       "style": "IPY_MODEL_599f345eba7b4e50bd27450d16ad2115",
       "value": 219
      }
     },
     "b1e17a1101bf4d9695a1420f2c471e7e": {
      "model_module": "@jupyter-widgets/base",
      "model_module_version": "1.2.0",
      "model_name": "LayoutModel",
      "state": {}
     },
     "b1ea9c2e82e64654928c47a64cf6dba9": {
      "model_module": "@jupyter-widgets/controls",
      "model_module_version": "1.5.0",
      "model_name": "DescriptionStyleModel",
      "state": {
       "description_width": ""
      }
     },
     "b1f6e98a1e97453fbb70428470874ab5": {
      "model_module": "@jupyter-widgets/base",
      "model_module_version": "1.2.0",
      "model_name": "LayoutModel",
      "state": {}
     },
     "b222ebe96e1c4669a271d0c91aa59e12": {
      "model_module": "@jupyter-widgets/controls",
      "model_module_version": "1.5.0",
      "model_name": "DescriptionStyleModel",
      "state": {
       "description_width": ""
      }
     },
     "b22763e1391a497693fd6d9b45e93253": {
      "model_module": "@jupyter-widgets/base",
      "model_module_version": "1.2.0",
      "model_name": "LayoutModel",
      "state": {}
     },
     "b27d172b030a40758d868d751189990f": {
      "model_module": "@jupyter-widgets/controls",
      "model_module_version": "1.5.0",
      "model_name": "HBoxModel",
      "state": {
       "children": [
        "IPY_MODEL_fe1b25580b9547b68a80eb837e27b51f",
        "IPY_MODEL_6926eb6540894002b6ca9e563534b166"
       ],
       "layout": "IPY_MODEL_9153b28cf0e34f2c8550b71f6c1e744e"
      }
     },
     "b297c92f752e4263afc524eb92fd9765": {
      "model_module": "@jupyter-widgets/controls",
      "model_module_version": "1.5.0",
      "model_name": "FloatProgressModel",
      "state": {
       "bar_style": "danger",
       "description": "Valid iteration=0:   0%",
       "layout": "IPY_MODEL_de3968985cd74659aa0cbfe844f8c338",
       "max": 10000,
       "style": "IPY_MODEL_513208c0920f4ccaabe4eccdf7cda7f3"
      }
     },
     "b2c571ff01c44e3abf63d5a831dd23e0": {
      "model_module": "@jupyter-widgets/controls",
      "model_module_version": "1.5.0",
      "model_name": "DescriptionStyleModel",
      "state": {
       "description_width": ""
      }
     },
     "b2d3de561e5246c69b4001144a8eeb34": {
      "model_module": "@jupyter-widgets/base",
      "model_module_version": "1.2.0",
      "model_name": "LayoutModel",
      "state": {}
     },
     "b2de200aa88f425c97e2e03412864d6c": {
      "model_module": "@jupyter-widgets/base",
      "model_module_version": "1.2.0",
      "model_name": "LayoutModel",
      "state": {}
     },
     "b352f06b5a224ca6969f3279c3e2c81e": {
      "model_module": "@jupyter-widgets/controls",
      "model_module_version": "1.5.0",
      "model_name": "ProgressStyleModel",
      "state": {
       "description_width": "initial"
      }
     },
     "b35388a59a464f53bc92031756a26fd6": {
      "model_module": "@jupyter-widgets/base",
      "model_module_version": "1.2.0",
      "model_name": "LayoutModel",
      "state": {}
     },
     "b3538c19f99d4c3a952208ad16ad5836": {
      "model_module": "@jupyter-widgets/controls",
      "model_module_version": "1.5.0",
      "model_name": "DescriptionStyleModel",
      "state": {
       "description_width": ""
      }
     },
     "b37f8bf2b7934477adecaff6848e8fd2": {
      "model_module": "@jupyter-widgets/base",
      "model_module_version": "1.2.0",
      "model_name": "LayoutModel",
      "state": {}
     },
     "b3907981a8cf4549ac9c95d005a57169": {
      "model_module": "@jupyter-widgets/base",
      "model_module_version": "1.2.0",
      "model_name": "LayoutModel",
      "state": {}
     },
     "b391d10e71014792a32d46ab8681eeb6": {
      "model_module": "@jupyter-widgets/base",
      "model_module_version": "1.2.0",
      "model_name": "LayoutModel",
      "state": {}
     },
     "b39b992c18bb4dd4b4b4492c9a55adcc": {
      "model_module": "@jupyter-widgets/controls",
      "model_module_version": "1.5.0",
      "model_name": "HBoxModel",
      "state": {
       "children": [
        "IPY_MODEL_610ed2b98246465990c70cdca69a2456",
        "IPY_MODEL_da9ef0efa4d1453298dd54774f5d8285"
       ],
       "layout": "IPY_MODEL_097d161a4d804761b299add7c8f89314"
      }
     },
     "b3b3c68a8217422ba8a93e5ad7e34421": {
      "model_module": "@jupyter-widgets/controls",
      "model_module_version": "1.5.0",
      "model_name": "DescriptionStyleModel",
      "state": {
       "description_width": ""
      }
     },
     "b3b3df8edf4b44e198412b05510f9d59": {
      "model_module": "@jupyter-widgets/base",
      "model_module_version": "1.2.0",
      "model_name": "LayoutModel",
      "state": {}
     },
     "b3b5fd0225774cdbb41d120c7bdca6dd": {
      "model_module": "@jupyter-widgets/base",
      "model_module_version": "1.2.0",
      "model_name": "LayoutModel",
      "state": {}
     },
     "b3beff5b5cde43fdbf901ca1fb85f69e": {
      "model_module": "@jupyter-widgets/base",
      "model_module_version": "1.2.0",
      "model_name": "LayoutModel",
      "state": {}
     },
     "b3cf57294ca64079aab8f0887ee7c2ba": {
      "model_module": "@jupyter-widgets/base",
      "model_module_version": "1.2.0",
      "model_name": "LayoutModel",
      "state": {}
     },
     "b40fdbbeee3643dfb3f74b2c0c474b6b": {
      "model_module": "@jupyter-widgets/controls",
      "model_module_version": "1.5.0",
      "model_name": "DescriptionStyleModel",
      "state": {
       "description_width": ""
      }
     },
     "b432b88f9ce64128bd9c55b3c795f437": {
      "model_module": "@jupyter-widgets/base",
      "model_module_version": "1.2.0",
      "model_name": "LayoutModel",
      "state": {}
     },
     "b4338abe9081488f9e012604ba218a19": {
      "model_module": "@jupyter-widgets/controls",
      "model_module_version": "1.5.0",
      "model_name": "FloatProgressModel",
      "state": {
       "bar_style": "danger",
       "description": "Train epoch=0:   0%",
       "layout": "IPY_MODEL_9090fbc42b6244c3b1631532820ff11b",
       "max": 90000,
       "style": "IPY_MODEL_57894494dc3a4a2d8b5c882dd214499b",
       "value": 196
      }
     },
     "b43fb15d13b5439e9e8f1db4ab140922": {
      "model_module": "@jupyter-widgets/controls",
      "model_module_version": "1.5.0",
      "model_name": "HBoxModel",
      "state": {
       "children": [
        "IPY_MODEL_7158b48b92084f879fa2f6f256ce602a",
        "IPY_MODEL_2b8837e6e87848f494daacab401078e4"
       ],
       "layout": "IPY_MODEL_b2de200aa88f425c97e2e03412864d6c"
      }
     },
     "b4623242791742928f51fe0bdf2aee60": {
      "model_module": "@jupyter-widgets/controls",
      "model_module_version": "1.5.0",
      "model_name": "ProgressStyleModel",
      "state": {
       "description_width": "initial"
      }
     },
     "b478045159fb4616a7ee3cdcbd3c9739": {
      "model_module": "@jupyter-widgets/base",
      "model_module_version": "1.2.0",
      "model_name": "LayoutModel",
      "state": {}
     },
     "b47f79481cea4265a4bc6682882c4fc8": {
      "model_module": "@jupyter-widgets/base",
      "model_module_version": "1.2.0",
      "model_name": "LayoutModel",
      "state": {}
     },
     "b484479a781c4ed98042e6d959ecb9dd": {
      "model_module": "@jupyter-widgets/controls",
      "model_module_version": "1.5.0",
      "model_name": "HTMLModel",
      "state": {
       "layout": "IPY_MODEL_55821e4c9b1d41f0b044b80b1962cf79",
       "style": "IPY_MODEL_844ebaab3744430c835ff45838554db0",
       "value": " 0/12 [01:37&lt;?, ?it/s]"
      }
     },
     "b494eac98c6049f5973bc012d33dc0f8": {
      "model_module": "@jupyter-widgets/base",
      "model_module_version": "1.2.0",
      "model_name": "LayoutModel",
      "state": {}
     },
     "b500551ba51044de81a4a97a05fb0abc": {
      "model_module": "@jupyter-widgets/base",
      "model_module_version": "1.2.0",
      "model_name": "LayoutModel",
      "state": {}
     },
     "b5320bf89a4c4be8b51386e1b6a78fb5": {
      "model_module": "@jupyter-widgets/base",
      "model_module_version": "1.2.0",
      "model_name": "LayoutModel",
      "state": {}
     },
     "b5329b1c4698400cb6646b06f10c11e4": {
      "model_module": "@jupyter-widgets/controls",
      "model_module_version": "1.5.0",
      "model_name": "HBoxModel",
      "state": {
       "children": [
        "IPY_MODEL_99dbbdd3de8d4d2893a7c9f34ccbd683",
        "IPY_MODEL_137cb695d277482b803470d8b87a11a9"
       ],
       "layout": "IPY_MODEL_316cf0b1de1e48bca7c96a1e346e2337"
      }
     },
     "b5356db26e234932b56cf4a720b08716": {
      "model_module": "@jupyter-widgets/base",
      "model_module_version": "1.2.0",
      "model_name": "LayoutModel",
      "state": {}
     },
     "b549a80f3a1c46fe9bd5e1d0e86d894c": {
      "model_module": "@jupyter-widgets/controls",
      "model_module_version": "1.5.0",
      "model_name": "ProgressStyleModel",
      "state": {
       "description_width": "initial"
      }
     },
     "b54f199a635b4624b62d7bf3eb1f7f14": {
      "model_module": "@jupyter-widgets/base",
      "model_module_version": "1.2.0",
      "model_name": "LayoutModel",
      "state": {}
     },
     "b564f4a1b77e49108040511e7cfc8a07": {
      "model_module": "@jupyter-widgets/base",
      "model_module_version": "1.2.0",
      "model_name": "LayoutModel",
      "state": {}
     },
     "b57428fbd91e4690aeff9283fc605b08": {
      "model_module": "@jupyter-widgets/base",
      "model_module_version": "1.2.0",
      "model_name": "LayoutModel",
      "state": {}
     },
     "b582c233dedf4712ae6191448d0e21cd": {
      "model_module": "@jupyter-widgets/base",
      "model_module_version": "1.2.0",
      "model_name": "LayoutModel",
      "state": {}
     },
     "b5873885b7574368b6663584de19e772": {
      "model_module": "@jupyter-widgets/controls",
      "model_module_version": "1.5.0",
      "model_name": "ProgressStyleModel",
      "state": {
       "description_width": "initial"
      }
     },
     "b5a3d6688b614af59f15284c6fb7962e": {
      "model_module": "@jupyter-widgets/base",
      "model_module_version": "1.2.0",
      "model_name": "LayoutModel",
      "state": {}
     },
     "b5b401ebe431485cabf747cde9d8aacc": {
      "model_module": "@jupyter-widgets/controls",
      "model_module_version": "1.5.0",
      "model_name": "ProgressStyleModel",
      "state": {
       "description_width": "initial"
      }
     },
     "b5b5e660608b4229a55b28e3b0b8e215": {
      "model_module": "@jupyter-widgets/controls",
      "model_module_version": "1.5.0",
      "model_name": "FloatProgressModel",
      "state": {
       "bar_style": "danger",
       "description": "Valid iteration=0:   0%",
       "layout": "IPY_MODEL_95e89eaa64d346a2ac991a671a04b357",
       "max": 10000,
       "style": "IPY_MODEL_2136ac419b7c43d18bf9fc0f391ecd7e"
      }
     },
     "b5d5e8f03e004f3d8a224a5109d9f44d": {
      "model_module": "@jupyter-widgets/base",
      "model_module_version": "1.2.0",
      "model_name": "LayoutModel",
      "state": {}
     },
     "b5e713e1518a4fa8b74cb828f7f85036": {
      "model_module": "@jupyter-widgets/controls",
      "model_module_version": "1.5.0",
      "model_name": "FloatProgressModel",
      "state": {
       "bar_style": "danger",
       "description": "Train:   0%",
       "layout": "IPY_MODEL_fe516a8addc545d48c24d13a15ed9d61",
       "max": 23,
       "style": "IPY_MODEL_dc716c7e406e4613b97d92fd5e5584f6"
      }
     },
     "b5e93c9051b8496cbf8d0ca4d6329470": {
      "model_module": "@jupyter-widgets/controls",
      "model_module_version": "1.5.0",
      "model_name": "ProgressStyleModel",
      "state": {
       "description_width": "initial"
      }
     },
     "b60b6bd917d74f629aff454b999e0d89": {
      "model_module": "@jupyter-widgets/base",
      "model_module_version": "1.2.0",
      "model_name": "LayoutModel",
      "state": {}
     },
     "b6286b8a2c254d09ac0b707e5f5001fd": {
      "model_module": "@jupyter-widgets/controls",
      "model_module_version": "1.5.0",
      "model_name": "HBoxModel",
      "state": {
       "children": [
        "IPY_MODEL_0c03a1d7a24d405a88a52a61390623cb",
        "IPY_MODEL_c217daecdf0546e995bd764024f778df"
       ],
       "layout": "IPY_MODEL_0031e99f41cd47658f70a85519719d89"
      }
     },
     "b629a0deda534470900d03c9c3ec2297": {
      "model_module": "@jupyter-widgets/controls",
      "model_module_version": "1.5.0",
      "model_name": "ProgressStyleModel",
      "state": {
       "description_width": "initial"
      }
     },
     "b64ef6424c164d9dad9dc53ca2dcaa60": {
      "model_module": "@jupyter-widgets/controls",
      "model_module_version": "1.5.0",
      "model_name": "FloatProgressModel",
      "state": {
       "bar_style": "danger",
       "description": "Train epoch=0:   0%",
       "layout": "IPY_MODEL_644fe532724c4a27bac3b70ffdad4be6",
       "max": 90000,
       "style": "IPY_MODEL_b6790df291dc4a04ac6bce7fa84e0c66"
      }
     },
     "b65120218f724399b62561463da84e08": {
      "model_module": "@jupyter-widgets/base",
      "model_module_version": "1.2.0",
      "model_name": "LayoutModel",
      "state": {}
     },
     "b655e06736c8408baa342021c15b5b03": {
      "model_module": "@jupyter-widgets/base",
      "model_module_version": "1.2.0",
      "model_name": "LayoutModel",
      "state": {}
     },
     "b65e82e532e94525b5c9eb32ecec1bad": {
      "model_module": "@jupyter-widgets/controls",
      "model_module_version": "1.5.0",
      "model_name": "FloatProgressModel",
      "state": {
       "bar_style": "danger",
       "description": "Train epoch=0:   2%",
       "layout": "IPY_MODEL_56c45d904d08415d900293e9711d283b",
       "max": 45000,
       "style": "IPY_MODEL_3d38e81523ec4b7d8bfcdca893a827ac",
       "value": 750
      }
     },
     "b66ef5741f0b482688ae31cab791c68e": {
      "model_module": "@jupyter-widgets/controls",
      "model_module_version": "1.5.0",
      "model_name": "HBoxModel",
      "state": {
       "children": [
        "IPY_MODEL_2313faf4b0354759a9c3b8f8aa488d9b",
        "IPY_MODEL_4e8227a608054360afd27c983db1b15f"
       ],
       "layout": "IPY_MODEL_b8e69e73caaa4e7c93853ad8c607c0b5"
      }
     },
     "b67787a4cf9d4d538c9eea328ab34f9a": {
      "model_module": "@jupyter-widgets/controls",
      "model_module_version": "1.5.0",
      "model_name": "HBoxModel",
      "state": {
       "children": [
        "IPY_MODEL_de1386a14a22466ea9293b055c0d8f6b",
        "IPY_MODEL_d169290087b742e7a2e79a9ea98e3c01"
       ],
       "layout": "IPY_MODEL_fa2115294f4d4207862935ea8d3eea35"
      }
     },
     "b6790df291dc4a04ac6bce7fa84e0c66": {
      "model_module": "@jupyter-widgets/controls",
      "model_module_version": "1.5.0",
      "model_name": "ProgressStyleModel",
      "state": {
       "description_width": "initial"
      }
     },
     "b689e229f452456a855fc152411a88ae": {
      "model_module": "@jupyter-widgets/controls",
      "model_module_version": "1.5.0",
      "model_name": "DescriptionStyleModel",
      "state": {
       "description_width": ""
      }
     },
     "b68bb2efc9cb4b5390d74f4a669c08fe": {
      "model_module": "@jupyter-widgets/controls",
      "model_module_version": "1.5.0",
      "model_name": "DescriptionStyleModel",
      "state": {
       "description_width": ""
      }
     },
     "b6b1c1b619a542fb87d9fe8853c40374": {
      "model_module": "@jupyter-widgets/controls",
      "model_module_version": "1.5.0",
      "model_name": "FloatProgressModel",
      "state": {
       "bar_style": "danger",
       "description": "Valid iteration=0:   0%",
       "layout": "IPY_MODEL_45030994245a401dadda7e00990a1957",
       "max": 10000,
       "style": "IPY_MODEL_e4b87e4dd4fd487992d14b2a804da3ff"
      }
     },
     "b6b5357db10942dbb12d75ef04a4ac72": {
      "model_module": "@jupyter-widgets/controls",
      "model_module_version": "1.5.0",
      "model_name": "DescriptionStyleModel",
      "state": {
       "description_width": ""
      }
     },
     "b6bcb0fde23147058d503a6811c73878": {
      "model_module": "@jupyter-widgets/controls",
      "model_module_version": "1.5.0",
      "model_name": "HBoxModel",
      "state": {
       "children": [
        "IPY_MODEL_12c7f204818e448f9e009a5b63e3ca99",
        "IPY_MODEL_1ad2d4ef3d734a3b8b0f2c23a725de51"
       ],
       "layout": "IPY_MODEL_2ab52c05113e4e0a8fa83edc20ceb56e"
      }
     },
     "b6c2d0b5f4a14a15a59a5790fb95d322": {
      "model_module": "@jupyter-widgets/controls",
      "model_module_version": "1.5.0",
      "model_name": "HBoxModel",
      "state": {
       "children": [
        "IPY_MODEL_d2ca28dc8eab4344b00b9eac329e6be3",
        "IPY_MODEL_c0bdd51c072942f4a01c23e2073610a8"
       ],
       "layout": "IPY_MODEL_ca71ff2e8c45490da70c70421b64eaaf"
      }
     },
     "b6c4a6602d764844a9490d633586f617": {
      "model_module": "@jupyter-widgets/controls",
      "model_module_version": "1.5.0",
      "model_name": "ProgressStyleModel",
      "state": {
       "description_width": "initial"
      }
     },
     "b6debf8fe23c406bb8301c0b625fecee": {
      "model_module": "@jupyter-widgets/controls",
      "model_module_version": "1.5.0",
      "model_name": "FloatProgressModel",
      "state": {
       "bar_style": "danger",
       "description": "Train:   0%",
       "layout": "IPY_MODEL_6c3b35b4f17e49f0a164e450996b34a3",
       "max": 23,
       "style": "IPY_MODEL_1e0b1b1113d542aea9894b66c86aedbf"
      }
     },
     "b70796fe7e7e412983504dde449e5731": {
      "model_module": "@jupyter-widgets/controls",
      "model_module_version": "1.5.0",
      "model_name": "FloatProgressModel",
      "state": {
       "bar_style": "danger",
       "description": "Valid iteration=0:   0%",
       "layout": "IPY_MODEL_be46a050aa4a4beea5c9cef2971a5587",
       "max": 10000,
       "style": "IPY_MODEL_c52bb7f6254b4aa28e789d42c0b27eb9"
      }
     },
     "b70e3f84a26c4ca7a4c80da77a2efdb4": {
      "model_module": "@jupyter-widgets/base",
      "model_module_version": "1.2.0",
      "model_name": "LayoutModel",
      "state": {}
     },
     "b717930fe2cd4d8faf981bac67ab31a0": {
      "model_module": "@jupyter-widgets/controls",
      "model_module_version": "1.5.0",
      "model_name": "DescriptionStyleModel",
      "state": {
       "description_width": ""
      }
     },
     "b7194db09d734ca5af59364460d07020": {
      "model_module": "@jupyter-widgets/controls",
      "model_module_version": "1.5.0",
      "model_name": "DescriptionStyleModel",
      "state": {
       "description_width": ""
      }
     },
     "b723b27cd18242bfbf778b8ede83f1a4": {
      "model_module": "@jupyter-widgets/base",
      "model_module_version": "1.2.0",
      "model_name": "LayoutModel",
      "state": {}
     },
     "b72dc6ab31e44680ba6a8e4d9a6d5311": {
      "model_module": "@jupyter-widgets/controls",
      "model_module_version": "1.5.0",
      "model_name": "ProgressStyleModel",
      "state": {
       "description_width": "initial"
      }
     },
     "b73720c2ce18489fb73b5df7a3cb5929": {
      "model_module": "@jupyter-widgets/controls",
      "model_module_version": "1.5.0",
      "model_name": "HTMLModel",
      "state": {
       "layout": "IPY_MODEL_178b9e0cd49e49e48937a5a5612a5fba",
       "style": "IPY_MODEL_57a4c3d74d3040b3bf6b78436c7f3772",
       "value": " 0/5000 [07:47&lt;?, ?it/s]"
      }
     },
     "b73b0865b7e24dd3b2ad2f67c7d490ce": {
      "model_module": "@jupyter-widgets/controls",
      "model_module_version": "1.5.0",
      "model_name": "FloatProgressModel",
      "state": {
       "bar_style": "danger",
       "description": "Train epoch=0:   0%",
       "layout": "IPY_MODEL_7f32d80e6a3242e6b63702735bbbf1d7",
       "max": 45000,
       "style": "IPY_MODEL_2b9541d24684496792eb835df81d4ad8"
      }
     },
     "b766800261c3470286da8c8087455f91": {
      "model_module": "@jupyter-widgets/controls",
      "model_module_version": "1.5.0",
      "model_name": "HTMLModel",
      "state": {
       "layout": "IPY_MODEL_2cca06944a8c4140ba1f171c88873001",
       "style": "IPY_MODEL_f76e7492d81341abac10a865584c1b4b",
       "value": " 0/12 [00:10&lt;?, ?it/s]"
      }
     },
     "b78839695dbe4fb6856757a5aef83584": {
      "model_module": "@jupyter-widgets/base",
      "model_module_version": "1.2.0",
      "model_name": "LayoutModel",
      "state": {}
     },
     "b78a00d9bffe4a00b6ed1174344c576a": {
      "model_module": "@jupyter-widgets/controls",
      "model_module_version": "1.5.0",
      "model_name": "HTMLModel",
      "state": {
       "layout": "IPY_MODEL_e9f58649975f4e0686cb8284f0cbb550",
       "style": "IPY_MODEL_479cad4502dc432a997a11c0fe48241c",
       "value": " 0/10000 [09:01&lt;?, ?it/s]"
      }
     },
     "b79a5dc649b94046a01234095abc0d17": {
      "model_module": "@jupyter-widgets/base",
      "model_module_version": "1.2.0",
      "model_name": "LayoutModel",
      "state": {}
     },
     "b7a3217c1dcc44adad484c67022acb5b": {
      "model_module": "@jupyter-widgets/base",
      "model_module_version": "1.2.0",
      "model_name": "LayoutModel",
      "state": {}
     },
     "b7c62c568f8343ccb6e93635cd37346d": {
      "model_module": "@jupyter-widgets/controls",
      "model_module_version": "1.5.0",
      "model_name": "FloatProgressModel",
      "state": {
       "bar_style": "danger",
       "description": "Train:   0%",
       "layout": "IPY_MODEL_f1d132c399fe44caa7c8fdd6408dd0f6",
       "max": 12,
       "style": "IPY_MODEL_21db36f373294e689091efd2a0dda712"
      }
     },
     "b7cc1040c5ad4d9c9d15247097a5b674": {
      "model_module": "@jupyter-widgets/base",
      "model_module_version": "1.2.0",
      "model_name": "LayoutModel",
      "state": {}
     },
     "b7cf829a50304d4e9d2e57158377e722": {
      "model_module": "@jupyter-widgets/controls",
      "model_module_version": "1.5.0",
      "model_name": "DescriptionStyleModel",
      "state": {
       "description_width": ""
      }
     },
     "b7f3838e4a474ea6a854c3e60cbcb0b6": {
      "model_module": "@jupyter-widgets/controls",
      "model_module_version": "1.5.0",
      "model_name": "HBoxModel",
      "state": {
       "children": [
        "IPY_MODEL_67ee20cc0435409eabac054388ae0fde",
        "IPY_MODEL_930b45aca9e94ae48067bbb29f68993f"
       ],
       "layout": "IPY_MODEL_564b630ba30a48299fe287a913f9bebb"
      }
     },
     "b811e39163184086b48aeacf2f25d123": {
      "model_module": "@jupyter-widgets/controls",
      "model_module_version": "1.5.0",
      "model_name": "ProgressStyleModel",
      "state": {
       "description_width": "initial"
      }
     },
     "b828da50db6343a3b225a2b37b880a22": {
      "model_module": "@jupyter-widgets/controls",
      "model_module_version": "1.5.0",
      "model_name": "HBoxModel",
      "state": {
       "children": [
        "IPY_MODEL_3f3a117cee8647bda45deb67278db131",
        "IPY_MODEL_df77c2ea2d8e4ed6a75812b33e45a07a"
       ],
       "layout": "IPY_MODEL_3d5a06f00f554871b5258ce668de3a9f"
      }
     },
     "b82dce91163b48098b0514871c73440f": {
      "model_module": "@jupyter-widgets/controls",
      "model_module_version": "1.5.0",
      "model_name": "FloatProgressModel",
      "state": {
       "bar_style": "danger",
       "description": "Train epoch=0:   6%",
       "layout": "IPY_MODEL_c517dbfdace54f2e95dbcb074361d011",
       "max": 45000,
       "style": "IPY_MODEL_73833548d7ce4a1b9f4f4637e3ad6c57",
       "value": 2563
      }
     },
     "b82e3467766b451298e8f637ed29c9e9": {
      "model_module": "@jupyter-widgets/base",
      "model_module_version": "1.2.0",
      "model_name": "LayoutModel",
      "state": {}
     },
     "b854e193af6645dbaaef4ba911ba0d33": {
      "model_module": "@jupyter-widgets/base",
      "model_module_version": "1.2.0",
      "model_name": "LayoutModel",
      "state": {}
     },
     "b86ec5c804064c31932ce730cb669a57": {
      "model_module": "@jupyter-widgets/base",
      "model_module_version": "1.2.0",
      "model_name": "LayoutModel",
      "state": {}
     },
     "b86f1e0153b14c05b509ddbab272b6bf": {
      "model_module": "@jupyter-widgets/base",
      "model_module_version": "1.2.0",
      "model_name": "LayoutModel",
      "state": {}
     },
     "b885c7bedafd4c27b9bc05b88518a231": {
      "model_module": "@jupyter-widgets/controls",
      "model_module_version": "1.5.0",
      "model_name": "FloatProgressModel",
      "state": {
       "bar_style": "danger",
       "description": "Train epoch=0:   0%",
       "layout": "IPY_MODEL_a41cfc0a6f56497280824cbf7af122a6",
       "max": 90000,
       "style": "IPY_MODEL_232830fbd8394878ba79530f0bb601f1",
       "value": 8
      }
     },
     "b88ac9aadbf1466cb68c15720bbd74f9": {
      "model_module": "@jupyter-widgets/base",
      "model_module_version": "1.2.0",
      "model_name": "LayoutModel",
      "state": {}
     },
     "b89affed294b401abd4aa88ea43a2563": {
      "model_module": "@jupyter-widgets/controls",
      "model_module_version": "1.5.0",
      "model_name": "FloatProgressModel",
      "state": {
       "bar_style": "danger",
       "description": "Valid iteration=1000:   0%",
       "layout": "IPY_MODEL_297c76bd48e8415c9be989d25bdf7a36",
       "max": 10000,
       "style": "IPY_MODEL_ba7f6f05187f4f5bb09cad154ceb8016"
      }
     },
     "b8b5615490fd4dcb8702b2de25058d9a": {
      "model_module": "@jupyter-widgets/base",
      "model_module_version": "1.2.0",
      "model_name": "LayoutModel",
      "state": {}
     },
     "b8d21787da6d44b0a51e5ed95f3f914a": {
      "model_module": "@jupyter-widgets/controls",
      "model_module_version": "1.5.0",
      "model_name": "FloatProgressModel",
      "state": {
       "bar_style": "danger",
       "description": "Train:   0%",
       "layout": "IPY_MODEL_be47548bd77344f486ac5cc68fcfaeba",
       "max": 23,
       "style": "IPY_MODEL_4191355b794c49df85bbac9edef43bec"
      }
     },
     "b8e69e73caaa4e7c93853ad8c607c0b5": {
      "model_module": "@jupyter-widgets/base",
      "model_module_version": "1.2.0",
      "model_name": "LayoutModel",
      "state": {}
     },
     "b8e8df754278489fb06e674d294ea67e": {
      "model_module": "@jupyter-widgets/controls",
      "model_module_version": "1.5.0",
      "model_name": "ProgressStyleModel",
      "state": {
       "description_width": "initial"
      }
     },
     "b8ebe3ff6bc44d3da6975911ec8e56f9": {
      "model_module": "@jupyter-widgets/controls",
      "model_module_version": "1.5.0",
      "model_name": "FloatProgressModel",
      "state": {
       "bar_style": "danger",
       "description": "Train epoch=0:   0%",
       "layout": "IPY_MODEL_f6425bd548744966b75a03ae21a77121",
       "max": 45000,
       "style": "IPY_MODEL_fa58530327a64bb7b25217c1e0920e07"
      }
     },
     "b93c9539ca5d4901a060606c00281b28": {
      "model_module": "@jupyter-widgets/base",
      "model_module_version": "1.2.0",
      "model_name": "LayoutModel",
      "state": {}
     },
     "b947821652604f28b6e8817191a1acd7": {
      "model_module": "@jupyter-widgets/controls",
      "model_module_version": "1.5.0",
      "model_name": "FloatProgressModel",
      "state": {
       "bar_style": "danger",
       "description": "Train:   0%",
       "layout": "IPY_MODEL_a77e9e10c2cb439bbbeb801b048da260",
       "max": 23,
       "style": "IPY_MODEL_889378f01c144b819819465fe400c833"
      }
     },
     "b94bcadabb0f4ee3b580df3b90c6ab48": {
      "model_module": "@jupyter-widgets/controls",
      "model_module_version": "1.5.0",
      "model_name": "ProgressStyleModel",
      "state": {
       "description_width": "initial"
      }
     },
     "b96a19477e694fbabda622d5947863ac": {
      "model_module": "@jupyter-widgets/base",
      "model_module_version": "1.2.0",
      "model_name": "LayoutModel",
      "state": {}
     },
     "b9835f1de2314ff4875762b91edaf594": {
      "model_module": "@jupyter-widgets/base",
      "model_module_version": "1.2.0",
      "model_name": "LayoutModel",
      "state": {}
     },
     "b9b93d1385fa40d7be3e4c0fc75654e0": {
      "model_module": "@jupyter-widgets/controls",
      "model_module_version": "1.5.0",
      "model_name": "HBoxModel",
      "state": {
       "children": [
        "IPY_MODEL_a5694b645f274f87ae3419989543462a",
        "IPY_MODEL_d3d66f0c6b7c48e8823a21ede0151bda"
       ],
       "layout": "IPY_MODEL_8e7f8bc55177440b975dfc3569ede630"
      }
     },
     "b9c49f0badc642e39ec2479baed5eff6": {
      "model_module": "@jupyter-widgets/base",
      "model_module_version": "1.2.0",
      "model_name": "LayoutModel",
      "state": {}
     },
     "b9d541de28a94ff891cd2c99356248f5": {
      "model_module": "@jupyter-widgets/controls",
      "model_module_version": "1.5.0",
      "model_name": "FloatProgressModel",
      "state": {
       "bar_style": "danger",
       "description": "Valid iteration=0:   0%",
       "layout": "IPY_MODEL_4c04819e93cf4f31be574228d1dff53d",
       "max": 10000,
       "style": "IPY_MODEL_fc7522f7dd9f4c27b07ea0cae9e1cff8"
      }
     },
     "ba057ab71a3a4560a211592c05b83264": {
      "model_module": "@jupyter-widgets/base",
      "model_module_version": "1.2.0",
      "model_name": "LayoutModel",
      "state": {}
     },
     "ba24a2468acc48c0a559e16a99fb5fca": {
      "model_module": "@jupyter-widgets/controls",
      "model_module_version": "1.5.0",
      "model_name": "HBoxModel",
      "state": {
       "children": [
        "IPY_MODEL_01fa36f2687e4dd796e924ab8d1ed5bb",
        "IPY_MODEL_68b6c22c104f4fadbd057a33331b1e16"
       ],
       "layout": "IPY_MODEL_3fd177cbb08746f6b9aede3f56f375de"
      }
     },
     "ba45b38b9cb94e58adc2bf83c6fd21bc": {
      "model_module": "@jupyter-widgets/base",
      "model_module_version": "1.2.0",
      "model_name": "LayoutModel",
      "state": {}
     },
     "ba6198e3ceed441ebc76b649df887c45": {
      "model_module": "@jupyter-widgets/controls",
      "model_module_version": "1.5.0",
      "model_name": "HTMLModel",
      "state": {
       "layout": "IPY_MODEL_d5d497328c644c87a64e264040b9e559",
       "style": "IPY_MODEL_7db55fcec5d740ba9fb749aa71939ee6",
       "value": " 0/10000 [00:01&lt;?, ?it/s]"
      }
     },
     "ba6bc4bb73c54d119bfa913add823bf0": {
      "model_module": "@jupyter-widgets/base",
      "model_module_version": "1.2.0",
      "model_name": "LayoutModel",
      "state": {}
     },
     "ba786698bd1f4c9f817cf31197466c84": {
      "model_module": "@jupyter-widgets/controls",
      "model_module_version": "1.5.0",
      "model_name": "ProgressStyleModel",
      "state": {
       "description_width": "initial"
      }
     },
     "ba7f6f05187f4f5bb09cad154ceb8016": {
      "model_module": "@jupyter-widgets/controls",
      "model_module_version": "1.5.0",
      "model_name": "ProgressStyleModel",
      "state": {
       "description_width": "initial"
      }
     },
     "ba8249fcb3fa470b8b0156648927e18d": {
      "model_module": "@jupyter-widgets/controls",
      "model_module_version": "1.5.0",
      "model_name": "DescriptionStyleModel",
      "state": {
       "description_width": ""
      }
     },
     "ba8aca823f5f422fbad6130478057203": {
      "model_module": "@jupyter-widgets/controls",
      "model_module_version": "1.5.0",
      "model_name": "HBoxModel",
      "state": {
       "children": [
        "IPY_MODEL_6d3498a4f302430e94e4e343bd600699",
        "IPY_MODEL_0e4bf9855a3749ab9e2dd3f467e76508"
       ],
       "layout": "IPY_MODEL_74f36cc2526a4f88957694e5d12ef0b2"
      }
     },
     "ba8e684a8e734170824bba1a0aa72e39": {
      "model_module": "@jupyter-widgets/controls",
      "model_module_version": "1.5.0",
      "model_name": "HTMLModel",
      "state": {
       "layout": "IPY_MODEL_9978c7ce2d2041b4b38efcc0c64a7e92",
       "style": "IPY_MODEL_bf359cdabf5745ceaebe4dc899e33731",
       "value": " 34/90000 [00:24&lt;10:29:05,  2.38it/s]"
      }
     },
     "ba931e51145a42a4896e9463bc786e00": {
      "model_module": "@jupyter-widgets/base",
      "model_module_version": "1.2.0",
      "model_name": "LayoutModel",
      "state": {}
     },
     "babaf6f534af4e19bb0fe98cd6b9c7ee": {
      "model_module": "@jupyter-widgets/base",
      "model_module_version": "1.2.0",
      "model_name": "LayoutModel",
      "state": {}
     },
     "bac267799e994aaa8ba9568c23d74718": {
      "model_module": "@jupyter-widgets/controls",
      "model_module_version": "1.5.0",
      "model_name": "HTMLModel",
      "state": {
       "layout": "IPY_MODEL_3be558c0198b403f9aa5652acb348b23",
       "style": "IPY_MODEL_fabce331087641f982e65c9ccf1330f9",
       "value": " 0/5000 [03:17&lt;?, ?it/s]"
      }
     },
     "bac61abb18cf4046bf506fd5e488a1f3": {
      "model_module": "@jupyter-widgets/controls",
      "model_module_version": "1.5.0",
      "model_name": "DescriptionStyleModel",
      "state": {
       "description_width": ""
      }
     },
     "baecc3ff3a844fd08ef728d9ad12cabc": {
      "model_module": "@jupyter-widgets/base",
      "model_module_version": "1.2.0",
      "model_name": "LayoutModel",
      "state": {}
     },
     "bafc1b0c1cb94b31abcc196fe12c68de": {
      "model_module": "@jupyter-widgets/base",
      "model_module_version": "1.2.0",
      "model_name": "LayoutModel",
      "state": {}
     },
     "bb187b00904741f888b8ed1f7306a973": {
      "model_module": "@jupyter-widgets/base",
      "model_module_version": "1.2.0",
      "model_name": "LayoutModel",
      "state": {}
     },
     "bb4be17620dc4c89a2ec6dbf1e2028a2": {
      "model_module": "@jupyter-widgets/controls",
      "model_module_version": "1.5.0",
      "model_name": "HBoxModel",
      "state": {
       "children": [
        "IPY_MODEL_ad58d8138c35412d82b02c9ffbc12b54",
        "IPY_MODEL_8fc55c56bfc7422a8fcc1cb4008ac9b6"
       ],
       "layout": "IPY_MODEL_1f69ca78865e452896269de8b3641dce"
      }
     },
     "bb4f569eda8b46659f7cde8f4400afb2": {
      "model_module": "@jupyter-widgets/base",
      "model_module_version": "1.2.0",
      "model_name": "LayoutModel",
      "state": {}
     },
     "bb50d82b29a84a2094ca93e2cbf17062": {
      "model_module": "@jupyter-widgets/controls",
      "model_module_version": "1.5.0",
      "model_name": "DescriptionStyleModel",
      "state": {
       "description_width": ""
      }
     },
     "bb540fb041584429becb56f9b2a05d86": {
      "model_module": "@jupyter-widgets/base",
      "model_module_version": "1.2.0",
      "model_name": "LayoutModel",
      "state": {}
     },
     "bb64b713c9464f20aad86d6ef5070dab": {
      "model_module": "@jupyter-widgets/controls",
      "model_module_version": "1.5.0",
      "model_name": "HTMLModel",
      "state": {
       "layout": "IPY_MODEL_9293b43cdde34605a9dc8b222a64796d",
       "style": "IPY_MODEL_d13e8e993ac544c785c2ba77b1798f4b",
       "value": " 0/5000 [00:11&lt;?, ?it/s]"
      }
     },
     "bb693b3d3d1d4bdda93418f334872076": {
      "model_module": "@jupyter-widgets/controls",
      "model_module_version": "1.5.0",
      "model_name": "DescriptionStyleModel",
      "state": {
       "description_width": ""
      }
     },
     "bb6f034ba9fb4c5fbd09f69fd735012c": {
      "model_module": "@jupyter-widgets/base",
      "model_module_version": "1.2.0",
      "model_name": "LayoutModel",
      "state": {}
     },
     "bb7beb30db8049598b685b99dc86cb32": {
      "model_module": "@jupyter-widgets/controls",
      "model_module_version": "1.5.0",
      "model_name": "DescriptionStyleModel",
      "state": {
       "description_width": ""
      }
     },
     "bb81bfcf9b8e40538685c9e5df5b0080": {
      "model_module": "@jupyter-widgets/controls",
      "model_module_version": "1.5.0",
      "model_name": "ProgressStyleModel",
      "state": {
       "description_width": "initial"
      }
     },
     "bb863bd0bfee4879b3585c551250fcf3": {
      "model_module": "@jupyter-widgets/controls",
      "model_module_version": "1.5.0",
      "model_name": "HBoxModel",
      "state": {
       "children": [
        "IPY_MODEL_562cc12ebfdf4e7cb25cb64a3f89792c",
        "IPY_MODEL_e3fd42b97d284e598b9bdeb499ba5cd3"
       ],
       "layout": "IPY_MODEL_5563c949d7694942925ca371502a62f7"
      }
     },
     "bb878f782e31462988331ad7661a8709": {
      "model_module": "@jupyter-widgets/base",
      "model_module_version": "1.2.0",
      "model_name": "LayoutModel",
      "state": {}
     },
     "bb9b4f89c66b42a190709b6958189fe5": {
      "model_module": "@jupyter-widgets/base",
      "model_module_version": "1.2.0",
      "model_name": "LayoutModel",
      "state": {}
     },
     "bb9deaf1041046aea042c099442d861a": {
      "model_module": "@jupyter-widgets/controls",
      "model_module_version": "1.5.0",
      "model_name": "HBoxModel",
      "state": {
       "children": [
        "IPY_MODEL_5e9ff4aaadfe495d828b87d35f3e76f6",
        "IPY_MODEL_c8ef6936c9f047909ca8bfe823084186"
       ],
       "layout": "IPY_MODEL_9da2b08fae40420b925803c712d86e9a"
      }
     },
     "bbd2393cae754a80b714c66960a35342": {
      "model_module": "@jupyter-widgets/controls",
      "model_module_version": "1.5.0",
      "model_name": "FloatProgressModel",
      "state": {
       "bar_style": "danger",
       "description": "Valid iteration=3000:   0%",
       "layout": "IPY_MODEL_e02eff51bdfe4224b9fa49fe180ff063",
       "max": 5000,
       "style": "IPY_MODEL_814b323641254993b89004db2a88a9c0"
      }
     },
     "bbdcb383564742eab0ac55e01e42e1b1": {
      "model_module": "@jupyter-widgets/base",
      "model_module_version": "1.2.0",
      "model_name": "LayoutModel",
      "state": {}
     },
     "bbf207f868c141e79dde74969cd27e2c": {
      "model_module": "@jupyter-widgets/controls",
      "model_module_version": "1.5.0",
      "model_name": "HBoxModel",
      "state": {
       "children": [
        "IPY_MODEL_7ad8ac519e4346f3b3a53e909a18d181",
        "IPY_MODEL_59f4d38312a046fbbbaeec63595dcf2b"
       ],
       "layout": "IPY_MODEL_295a9586dd6f4fc3a4e0fb9980042f92"
      }
     },
     "bbfd3816de234442bf4b5756357b2795": {
      "model_module": "@jupyter-widgets/base",
      "model_module_version": "1.2.0",
      "model_name": "LayoutModel",
      "state": {}
     },
     "bc0717be50eb4446acab21411d73661d": {
      "model_module": "@jupyter-widgets/controls",
      "model_module_version": "1.5.0",
      "model_name": "HBoxModel",
      "state": {
       "children": [
        "IPY_MODEL_9c64be61db3c48519039aebbe018f90d",
        "IPY_MODEL_03ac1828032a415089058ec67fa8c5ed"
       ],
       "layout": "IPY_MODEL_8a05e9a248b640118b5a474dd6ac41dc"
      }
     },
     "bc1a438f2f3644a3b3872a997f3665db": {
      "model_module": "@jupyter-widgets/base",
      "model_module_version": "1.2.0",
      "model_name": "LayoutModel",
      "state": {}
     },
     "bc1f0f15587848a982628bfecf209298": {
      "model_module": "@jupyter-widgets/controls",
      "model_module_version": "1.5.0",
      "model_name": "DescriptionStyleModel",
      "state": {
       "description_width": ""
      }
     },
     "bc5504e327884042931cf7f28f1a1be9": {
      "model_module": "@jupyter-widgets/controls",
      "model_module_version": "1.5.0",
      "model_name": "FloatProgressModel",
      "state": {
       "bar_style": "danger",
       "description": "Valid iteration=0:   0%",
       "layout": "IPY_MODEL_0efe1d528f3f480b9cf3a6311f2232a8",
       "max": 10000,
       "style": "IPY_MODEL_f3bec3943fcd4cd880f0b2e5cda1a736"
      }
     },
     "bc611bb2293849579ef4989032980c8d": {
      "model_module": "@jupyter-widgets/controls",
      "model_module_version": "1.5.0",
      "model_name": "FloatProgressModel",
      "state": {
       "bar_style": "danger",
       "description": "Valid iteration=0:   0%",
       "layout": "IPY_MODEL_83da8be0525e4543bafd5f1c76ae2823",
       "max": 5000,
       "style": "IPY_MODEL_15c9f6ba8ea64222aab86f56814a7e0a"
      }
     },
     "bc6cb126dee4488e9817d39f7db82339": {
      "model_module": "@jupyter-widgets/controls",
      "model_module_version": "1.5.0",
      "model_name": "ProgressStyleModel",
      "state": {
       "description_width": "initial"
      }
     },
     "bc7070ae648e4c71b88d7c7211d3c1e1": {
      "model_module": "@jupyter-widgets/controls",
      "model_module_version": "1.5.0",
      "model_name": "HTMLModel",
      "state": {
       "layout": "IPY_MODEL_9dfab72804dc480db7277c8251346be9",
       "style": "IPY_MODEL_a8f8b228ddb049a29f3cd13315c5c26a",
       "value": " 4333/45000 [26:50&lt;4:01:56,  2.80it/s]"
      }
     },
     "bc772f0916834c8c889a831c6af869a3": {
      "model_module": "@jupyter-widgets/base",
      "model_module_version": "1.2.0",
      "model_name": "LayoutModel",
      "state": {}
     },
     "bc82f751e85f4e40941dab8adb7a300a": {
      "model_module": "@jupyter-widgets/base",
      "model_module_version": "1.2.0",
      "model_name": "LayoutModel",
      "state": {}
     },
     "bc8c2d6df46d4e4aa83dad8a5b1d1544": {
      "model_module": "@jupyter-widgets/controls",
      "model_module_version": "1.5.0",
      "model_name": "FloatProgressModel",
      "state": {
       "bar_style": "danger",
       "description": "Train:   0%",
       "layout": "IPY_MODEL_ea93ad9025cb46cf9de86b306ceda18c",
       "max": 12,
       "style": "IPY_MODEL_269da9e67a4a4ace82bfbfcfb2d7b8b8"
      }
     },
     "bc999d02ae5d43808d38c316812a6f2f": {
      "model_module": "@jupyter-widgets/controls",
      "model_module_version": "1.5.0",
      "model_name": "FloatProgressModel",
      "state": {
       "bar_style": "danger",
       "description": "Train epoch=0:   0%",
       "layout": "IPY_MODEL_548ec52a4cb749c4b0a38e76b7631e54",
       "max": 90000,
       "style": "IPY_MODEL_24be9a757c1a4aa9a35b3a67315a068e"
      }
     },
     "bcabab9a3e4341989ae1c914e8e02939": {
      "model_module": "@jupyter-widgets/base",
      "model_module_version": "1.2.0",
      "model_name": "LayoutModel",
      "state": {}
     },
     "bcac559d06dc49488a12a57b69c8d47b": {
      "model_module": "@jupyter-widgets/controls",
      "model_module_version": "1.5.0",
      "model_name": "DescriptionStyleModel",
      "state": {
       "description_width": ""
      }
     },
     "bcdf864f93504a859dc42d6c6fe585ac": {
      "model_module": "@jupyter-widgets/base",
      "model_module_version": "1.2.0",
      "model_name": "LayoutModel",
      "state": {}
     },
     "bd3142c6310d43a89027d8270a0cee75": {
      "model_module": "@jupyter-widgets/base",
      "model_module_version": "1.2.0",
      "model_name": "LayoutModel",
      "state": {}
     },
     "bd32ed8a97b7405b860f9ee37137427a": {
      "model_module": "@jupyter-widgets/controls",
      "model_module_version": "1.5.0",
      "model_name": "HTMLModel",
      "state": {
       "layout": "IPY_MODEL_3dc41c8b1c4842a6ad6cd6b5eeaa667b",
       "style": "IPY_MODEL_81ecf720d0204a609b08e38625bd14ae",
       "value": " 0/12 [00:26&lt;?, ?it/s]"
      }
     },
     "bd376bdd11334836ba007512ec6a3a6f": {
      "model_module": "@jupyter-widgets/controls",
      "model_module_version": "1.5.0",
      "model_name": "DescriptionStyleModel",
      "state": {
       "description_width": ""
      }
     },
     "bd4c86522c58452c8d756450999a114f": {
      "model_module": "@jupyter-widgets/base",
      "model_module_version": "1.2.0",
      "model_name": "LayoutModel",
      "state": {}
     },
     "bd819c2c4cec4bb79889f78313abb29f": {
      "model_module": "@jupyter-widgets/controls",
      "model_module_version": "1.5.0",
      "model_name": "FloatProgressModel",
      "state": {
       "bar_style": "danger",
       "description": "Valid iteration=0:   0%",
       "layout": "IPY_MODEL_58e296248f684f5e82ce9e081a03442c",
       "max": 10000,
       "style": "IPY_MODEL_cb95d0a165674b8793d3fd5f8eea4c5c"
      }
     },
     "bd9001dd60e9441f91b5e0f846ffd058": {
      "model_module": "@jupyter-widgets/base",
      "model_module_version": "1.2.0",
      "model_name": "LayoutModel",
      "state": {}
     },
     "bdc4146bdbf24c138700e46de02dbc53": {
      "model_module": "@jupyter-widgets/base",
      "model_module_version": "1.2.0",
      "model_name": "LayoutModel",
      "state": {}
     },
     "bdcefdd6206842ec96946659dc80d000": {
      "model_module": "@jupyter-widgets/controls",
      "model_module_version": "1.5.0",
      "model_name": "ProgressStyleModel",
      "state": {
       "description_width": "initial"
      }
     },
     "bdd1896c41cc47e1a680b286197dde87": {
      "model_module": "@jupyter-widgets/base",
      "model_module_version": "1.2.0",
      "model_name": "LayoutModel",
      "state": {}
     },
     "bdd933df5b95492bbc106ece6608de53": {
      "model_module": "@jupyter-widgets/base",
      "model_module_version": "1.2.0",
      "model_name": "LayoutModel",
      "state": {}
     },
     "bde343f1f3b64fe99a7d3ecb02bfef9d": {
      "model_module": "@jupyter-widgets/base",
      "model_module_version": "1.2.0",
      "model_name": "LayoutModel",
      "state": {}
     },
     "bde551dd235c46cda49ce44e0dda0081": {
      "model_module": "@jupyter-widgets/base",
      "model_module_version": "1.2.0",
      "model_name": "LayoutModel",
      "state": {}
     },
     "bdf2f10a9a074b24888e023e06845b86": {
      "model_module": "@jupyter-widgets/controls",
      "model_module_version": "1.5.0",
      "model_name": "ProgressStyleModel",
      "state": {
       "description_width": "initial"
      }
     },
     "be099a16d46e4963bdb1c2626f810ecd": {
      "model_module": "@jupyter-widgets/controls",
      "model_module_version": "1.5.0",
      "model_name": "HBoxModel",
      "state": {
       "children": [
        "IPY_MODEL_3be9192e20be45368d4d91fec5549edc",
        "IPY_MODEL_6b4f8344b3ee4c3bab161401853e9049"
       ],
       "layout": "IPY_MODEL_f5bdcf6d9a814e539e6e7fb99feb7eab"
      }
     },
     "be22f80c4b2648d99da2af4b3d14aea5": {
      "model_module": "@jupyter-widgets/base",
      "model_module_version": "1.2.0",
      "model_name": "LayoutModel",
      "state": {}
     },
     "be3b3265a36d457db63eec07c536abbe": {
      "model_module": "@jupyter-widgets/base",
      "model_module_version": "1.2.0",
      "model_name": "LayoutModel",
      "state": {}
     },
     "be46a050aa4a4beea5c9cef2971a5587": {
      "model_module": "@jupyter-widgets/base",
      "model_module_version": "1.2.0",
      "model_name": "LayoutModel",
      "state": {}
     },
     "be47548bd77344f486ac5cc68fcfaeba": {
      "model_module": "@jupyter-widgets/base",
      "model_module_version": "1.2.0",
      "model_name": "LayoutModel",
      "state": {}
     },
     "be4c5af6ba294fec879ed22b19791b1d": {
      "model_module": "@jupyter-widgets/base",
      "model_module_version": "1.2.0",
      "model_name": "LayoutModel",
      "state": {}
     },
     "be4d1ee9d5a4484e9dbb3514c79fb42d": {
      "model_module": "@jupyter-widgets/controls",
      "model_module_version": "1.5.0",
      "model_name": "HBoxModel",
      "state": {
       "children": [
        "IPY_MODEL_ae84bdf85d454c269715026baace8eb9",
        "IPY_MODEL_25690bb30eee4d9ebe91ad61b9491ed2"
       ],
       "layout": "IPY_MODEL_18c2ef885cf54611913fb293c74bcf0f"
      }
     },
     "be4ef5c5b2774a849656674f605ee4eb": {
      "model_module": "@jupyter-widgets/base",
      "model_module_version": "1.2.0",
      "model_name": "LayoutModel",
      "state": {}
     },
     "be9cdfab6ae045f2baab15ae71063d06": {
      "model_module": "@jupyter-widgets/controls",
      "model_module_version": "1.5.0",
      "model_name": "FloatProgressModel",
      "state": {
       "bar_style": "danger",
       "description": "Train epoch=0:   0%",
       "layout": "IPY_MODEL_ead2e918166c44f8b3d23ed739fa006a",
       "max": 45000,
       "style": "IPY_MODEL_f56533b306cf4b0184158b6dfb337912"
      }
     },
     "bea1a26fbf1c4fe29e9865806feb8e03": {
      "model_module": "@jupyter-widgets/base",
      "model_module_version": "1.2.0",
      "model_name": "LayoutModel",
      "state": {}
     },
     "bec0f9feb7c646c59cf793c1236fb9b1": {
      "model_module": "@jupyter-widgets/controls",
      "model_module_version": "1.5.0",
      "model_name": "HBoxModel",
      "state": {
       "children": [
        "IPY_MODEL_b8d21787da6d44b0a51e5ed95f3f914a",
        "IPY_MODEL_3081d363ddca4956a96befdd4f7c66d5"
       ],
       "layout": "IPY_MODEL_61495dd0ebc94d9783fc48fc2ea915c0"
      }
     },
     "bec97379c0c14e9c8b411c2ae9f93972": {
      "model_module": "@jupyter-widgets/controls",
      "model_module_version": "1.5.0",
      "model_name": "HTMLModel",
      "state": {
       "layout": "IPY_MODEL_eee0cc023d3c48968e2c624b63251948",
       "style": "IPY_MODEL_7bcc5f95415845d89dd01d803af0c738",
       "value": " 0/10000 [00:42&lt;?, ?it/s]"
      }
     },
     "bed0c4a5711a4fbf9a55d88b17304dbe": {
      "model_module": "@jupyter-widgets/controls",
      "model_module_version": "1.5.0",
      "model_name": "ProgressStyleModel",
      "state": {
       "description_width": "initial"
      }
     },
     "bed1680ccbdc4a82828f1ff8e6e279a8": {
      "model_module": "@jupyter-widgets/controls",
      "model_module_version": "1.5.0",
      "model_name": "DescriptionStyleModel",
      "state": {
       "description_width": ""
      }
     },
     "beda537ab8dc44a0ab8da8b4e2bb92f1": {
      "model_module": "@jupyter-widgets/controls",
      "model_module_version": "1.5.0",
      "model_name": "DescriptionStyleModel",
      "state": {
       "description_width": ""
      }
     },
     "bee9090100784b62a1ee61bdd115d380": {
      "model_module": "@jupyter-widgets/controls",
      "model_module_version": "1.5.0",
      "model_name": "FloatProgressModel",
      "state": {
       "bar_style": "danger",
       "description": "Train:   0%",
       "layout": "IPY_MODEL_4868e874fce94fcc9ccbcd667a6f1e04",
       "max": 23,
       "style": "IPY_MODEL_bed0c4a5711a4fbf9a55d88b17304dbe"
      }
     },
     "beee9752ab984767b5bb7330c791f7dc": {
      "model_module": "@jupyter-widgets/controls",
      "model_module_version": "1.5.0",
      "model_name": "ProgressStyleModel",
      "state": {
       "description_width": "initial"
      }
     },
     "bef2fa4b5c2c4f789c1561fc6b76da74": {
      "model_module": "@jupyter-widgets/controls",
      "model_module_version": "1.5.0",
      "model_name": "ProgressStyleModel",
      "state": {
       "description_width": "initial"
      }
     },
     "bf0d92e34f874a8bb775cdf859871f4a": {
      "model_module": "@jupyter-widgets/controls",
      "model_module_version": "1.5.0",
      "model_name": "FloatProgressModel",
      "state": {
       "bar_style": "danger",
       "description": "Train:   0%",
       "layout": "IPY_MODEL_3623095697294264b9ae2e509fc630bb",
       "max": 12,
       "style": "IPY_MODEL_625a06c2b1e845feac4de156ba5253f8"
      }
     },
     "bf1602469d504fb482e7063aa530237e": {
      "model_module": "@jupyter-widgets/base",
      "model_module_version": "1.2.0",
      "model_name": "LayoutModel",
      "state": {}
     },
     "bf359cdabf5745ceaebe4dc899e33731": {
      "model_module": "@jupyter-widgets/controls",
      "model_module_version": "1.5.0",
      "model_name": "DescriptionStyleModel",
      "state": {
       "description_width": ""
      }
     },
     "bf3a3bc32d424496b38c81796e7ba586": {
      "model_module": "@jupyter-widgets/controls",
      "model_module_version": "1.5.0",
      "model_name": "FloatProgressModel",
      "state": {
       "bar_style": "danger",
       "description": "Train:   0%",
       "layout": "IPY_MODEL_5e82020faa3643c38be20483fc96f33f",
       "max": 12,
       "style": "IPY_MODEL_b5873885b7574368b6663584de19e772"
      }
     },
     "bf503322c7fd43b383e3ef0bd98519a3": {
      "model_module": "@jupyter-widgets/controls",
      "model_module_version": "1.5.0",
      "model_name": "HBoxModel",
      "state": {
       "children": [
        "IPY_MODEL_13456cd8074946caa1b55041e4395bc7",
        "IPY_MODEL_bac267799e994aaa8ba9568c23d74718"
       ],
       "layout": "IPY_MODEL_4e3926bac65f4fe4a23b2a1a7372551a"
      }
     },
     "bf62af82eee8488c88a2d5c10105c1be": {
      "model_module": "@jupyter-widgets/controls",
      "model_module_version": "1.5.0",
      "model_name": "HTMLModel",
      "state": {
       "layout": "IPY_MODEL_bf1602469d504fb482e7063aa530237e",
       "style": "IPY_MODEL_d447e803891f4f8586a80bb16dad7e19",
       "value": " 0/10000 [05:29&lt;?, ?it/s]"
      }
     },
     "bf68c253a7a5443f98230c598a9cbca3": {
      "model_module": "@jupyter-widgets/base",
      "model_module_version": "1.2.0",
      "model_name": "LayoutModel",
      "state": {}
     },
     "bf927b8429a4400baf5f9d3593d00672": {
      "model_module": "@jupyter-widgets/controls",
      "model_module_version": "1.5.0",
      "model_name": "FloatProgressModel",
      "state": {
       "bar_style": "danger",
       "description": "Valid iteration=0:   0%",
       "layout": "IPY_MODEL_af2154b21f7c415c9ea8c66cc345f8cf",
       "max": 10000,
       "style": "IPY_MODEL_8f142af151894f9d8ef71e1222aaf5bd"
      }
     },
     "bf94becde0114ff89b74e6787bdefff6": {
      "model_module": "@jupyter-widgets/controls",
      "model_module_version": "1.5.0",
      "model_name": "DescriptionStyleModel",
      "state": {
       "description_width": ""
      }
     },
     "bfc46c9b8e69406290786686830b458e": {
      "model_module": "@jupyter-widgets/controls",
      "model_module_version": "1.5.0",
      "model_name": "HBoxModel",
      "state": {
       "children": [
        "IPY_MODEL_bc8c2d6df46d4e4aa83dad8a5b1d1544",
        "IPY_MODEL_21e6744b0bbf40e28ffdb5bdcc4b1510"
       ],
       "layout": "IPY_MODEL_1d67084d72674a95a415d9620d25cfc5"
      }
     },
     "bfdc1f73f3cc4f2c8dedda7a62757d59": {
      "model_module": "@jupyter-widgets/base",
      "model_module_version": "1.2.0",
      "model_name": "LayoutModel",
      "state": {}
     },
     "bfdfbed80b394fa090939880f27c573a": {
      "model_module": "@jupyter-widgets/base",
      "model_module_version": "1.2.0",
      "model_name": "LayoutModel",
      "state": {}
     },
     "bfef27f2452c4b3aa143013d6e9aa4e1": {
      "model_module": "@jupyter-widgets/controls",
      "model_module_version": "1.5.0",
      "model_name": "HTMLModel",
      "state": {
       "layout": "IPY_MODEL_d1ad3a4c6b9947bda987f5744bc43686",
       "style": "IPY_MODEL_3000cf835f2f4653a001db8b41946415",
       "value": " 674/90000 [04:47&lt;11:21:00,  2.19it/s]"
      }
     },
     "bfef4ae1bcd04f35b5a3db1659aca143": {
      "model_module": "@jupyter-widgets/base",
      "model_module_version": "1.2.0",
      "model_name": "LayoutModel",
      "state": {}
     },
     "bffd50a6936146f2a963bb6e03b83bd6": {
      "model_module": "@jupyter-widgets/controls",
      "model_module_version": "1.5.0",
      "model_name": "HBoxModel",
      "state": {
       "children": [
        "IPY_MODEL_ef9c37769cb742308e045fadb432a34c",
        "IPY_MODEL_0b6e36b825ca4c328ce95a7959c4a422"
       ],
       "layout": "IPY_MODEL_cebeaee5ceb44995a65652fa04b574c2"
      }
     },
     "c00be09cc22b472c91a70fe4fc2aef3e": {
      "model_module": "@jupyter-widgets/controls",
      "model_module_version": "1.5.0",
      "model_name": "FloatProgressModel",
      "state": {
       "bar_style": "danger",
       "description": "Train epoch=0:   0%",
       "layout": "IPY_MODEL_d597ea98d9ac4bf48006938d6fc47c7c",
       "max": 90000,
       "style": "IPY_MODEL_eb7e0def29ae4b9ebdfc9da4a668f99c"
      }
     },
     "c00f7ec904b74cd59abed9d85bb5711e": {
      "model_module": "@jupyter-widgets/base",
      "model_module_version": "1.2.0",
      "model_name": "LayoutModel",
      "state": {}
     },
     "c016711b5ab54a1bb333bcb0d337f83f": {
      "model_module": "@jupyter-widgets/controls",
      "model_module_version": "1.5.0",
      "model_name": "HTMLModel",
      "state": {
       "layout": "IPY_MODEL_78085392655343f5b38fefb9615b7d17",
       "style": "IPY_MODEL_fb6cd8715b004be3adecd239fafa841e",
       "value": " 0/23 [04:46&lt;?, ?it/s]"
      }
     },
     "c01b761cc671475e898eb9c555dbee20": {
      "model_module": "@jupyter-widgets/base",
      "model_module_version": "1.2.0",
      "model_name": "LayoutModel",
      "state": {}
     },
     "c02b34fb926143cfab6184846b7dc92f": {
      "model_module": "@jupyter-widgets/controls",
      "model_module_version": "1.5.0",
      "model_name": "HBoxModel",
      "state": {
       "children": [
        "IPY_MODEL_dd846e29c95b4fb8ab47e1bbe8c2553f",
        "IPY_MODEL_5ac2e4ffe7ea422e83fe9a0d6f61ad64"
       ],
       "layout": "IPY_MODEL_54f6c1a1c0654729812b7cf682cced20"
      }
     },
     "c049444c947a4a6f856001ec4bfa43ee": {
      "model_module": "@jupyter-widgets/controls",
      "model_module_version": "1.5.0",
      "model_name": "ProgressStyleModel",
      "state": {
       "description_width": "initial"
      }
     },
     "c073d5d9977d4f23805c611a67d1c107": {
      "model_module": "@jupyter-widgets/controls",
      "model_module_version": "1.5.0",
      "model_name": "ProgressStyleModel",
      "state": {
       "description_width": "initial"
      }
     },
     "c079eb7d22274290b3b3d479b0400ecf": {
      "model_module": "@jupyter-widgets/base",
      "model_module_version": "1.2.0",
      "model_name": "LayoutModel",
      "state": {}
     },
     "c0bad9b64a4e423c85a4b2ce20795bdc": {
      "model_module": "@jupyter-widgets/base",
      "model_module_version": "1.2.0",
      "model_name": "LayoutModel",
      "state": {}
     },
     "c0bdd51c072942f4a01c23e2073610a8": {
      "model_module": "@jupyter-widgets/controls",
      "model_module_version": "1.5.0",
      "model_name": "HTMLModel",
      "state": {
       "layout": "IPY_MODEL_f19e7e52d01f4cf3afc569d8af36641d",
       "style": "IPY_MODEL_f060a512abea47ec9d3078066ce79150",
       "value": " 0/10000 [00:01&lt;?, ?it/s]"
      }
     },
     "c0be29f4fac5410e8b7a4a56cb788882": {
      "model_module": "@jupyter-widgets/controls",
      "model_module_version": "1.5.0",
      "model_name": "HBoxModel",
      "state": {
       "children": [
        "IPY_MODEL_56661b22d42644cbab2a642042e9c96e",
        "IPY_MODEL_9bc9a369242e4dbf9bc9360fa9f61013"
       ],
       "layout": "IPY_MODEL_d84ea1cd66214ad19aa265661853c8b1"
      }
     },
     "c0e98948d9994b26958176b2c13a918a": {
      "model_module": "@jupyter-widgets/base",
      "model_module_version": "1.2.0",
      "model_name": "LayoutModel",
      "state": {}
     },
     "c13d19a4953746898efcd15cbc74581b": {
      "model_module": "@jupyter-widgets/base",
      "model_module_version": "1.2.0",
      "model_name": "LayoutModel",
      "state": {}
     },
     "c14a76472e534133a43a96fd0e3a2829": {
      "model_module": "@jupyter-widgets/controls",
      "model_module_version": "1.5.0",
      "model_name": "DescriptionStyleModel",
      "state": {
       "description_width": ""
      }
     },
     "c1610edd24e54918a268df4369d95c81": {
      "model_module": "@jupyter-widgets/base",
      "model_module_version": "1.2.0",
      "model_name": "LayoutModel",
      "state": {}
     },
     "c164dc04dc204d4e9d96a05d3b547c1b": {
      "model_module": "@jupyter-widgets/controls",
      "model_module_version": "1.5.0",
      "model_name": "HTMLModel",
      "state": {
       "layout": "IPY_MODEL_7eea64659f5f416ebbb94464d81e7b62",
       "style": "IPY_MODEL_f2fa7a722cf248b68de17695f5dc4ffa",
       "value": " 18/90000 [00:11&lt;10:11:26,  2.45it/s]"
      }
     },
     "c16dd9b636794c958fcbc303edc07ca6": {
      "model_module": "@jupyter-widgets/controls",
      "model_module_version": "1.5.0",
      "model_name": "HTMLModel",
      "state": {
       "layout": "IPY_MODEL_7f386649e51b4ac1bf50c961e3124b99",
       "style": "IPY_MODEL_59795e1dd46542f9a973d525796eb5e9",
       "value": " 0/23 [00:20&lt;?, ?it/s]"
      }
     },
     "c194f344da7b483ca9349460ea9b82b5": {
      "model_module": "@jupyter-widgets/base",
      "model_module_version": "1.2.0",
      "model_name": "LayoutModel",
      "state": {}
     },
     "c195e0af64394cbba11a21df15c2272a": {
      "model_module": "@jupyter-widgets/controls",
      "model_module_version": "1.5.0",
      "model_name": "HBoxModel",
      "state": {
       "children": [
        "IPY_MODEL_c7ddcef6491c44f2af87e7c0e9a421b4",
        "IPY_MODEL_30f3aca9e82040609f1a4d70f52b22da"
       ],
       "layout": "IPY_MODEL_f81c6c58ef35494dbb326f878c1aca49"
      }
     },
     "c19d3a996eb8451ca16376cfe976a8a0": {
      "model_module": "@jupyter-widgets/base",
      "model_module_version": "1.2.0",
      "model_name": "LayoutModel",
      "state": {}
     },
     "c1ad42fae3fc480093cac88450a55c5f": {
      "model_module": "@jupyter-widgets/controls",
      "model_module_version": "1.5.0",
      "model_name": "HTMLModel",
      "state": {
       "layout": "IPY_MODEL_3880658ed8814795a2f27a71805f3f8d",
       "style": "IPY_MODEL_5d36c4c604ae413a833f4c5720218202",
       "value": " 0/10000 [00:01&lt;?, ?it/s]"
      }
     },
     "c1bbbcebd0df426bb0e5bc69a0c7c22b": {
      "model_module": "@jupyter-widgets/controls",
      "model_module_version": "1.5.0",
      "model_name": "ProgressStyleModel",
      "state": {
       "description_width": "initial"
      }
     },
     "c1d3d7f36fce4b6f8a274449e0b866da": {
      "model_module": "@jupyter-widgets/controls",
      "model_module_version": "1.5.0",
      "model_name": "DescriptionStyleModel",
      "state": {
       "description_width": ""
      }
     },
     "c1f6f627184c479bb547507620044145": {
      "model_module": "@jupyter-widgets/controls",
      "model_module_version": "1.5.0",
      "model_name": "ProgressStyleModel",
      "state": {
       "description_width": "initial"
      }
     },
     "c1fe36cd58ab4b38b7befcad6da3cf1d": {
      "model_module": "@jupyter-widgets/base",
      "model_module_version": "1.2.0",
      "model_name": "LayoutModel",
      "state": {}
     },
     "c217daecdf0546e995bd764024f778df": {
      "model_module": "@jupyter-widgets/controls",
      "model_module_version": "1.5.0",
      "model_name": "HTMLModel",
      "state": {
       "layout": "IPY_MODEL_b70e3f84a26c4ca7a4c80da77a2efdb4",
       "style": "IPY_MODEL_606187d8be2842938ac7945e5e1db92f",
       "value": " 0/10000 [00:01&lt;?, ?it/s]"
      }
     },
     "c25d9d416b68436e866b54a57174d103": {
      "model_module": "@jupyter-widgets/controls",
      "model_module_version": "1.5.0",
      "model_name": "HTMLModel",
      "state": {
       "layout": "IPY_MODEL_f790d02d52bf46019ad6ecc2da9d007d",
       "style": "IPY_MODEL_f62238be0d674112911a49314112b6c3",
       "value": " 0/5000 [00:01&lt;?, ?it/s]"
      }
     },
     "c2679c3ecce34b3cbc3eca52f1f1cac3": {
      "model_module": "@jupyter-widgets/base",
      "model_module_version": "1.2.0",
      "model_name": "LayoutModel",
      "state": {}
     },
     "c267c85dacfa4f2c8ee3a9ce087e74b7": {
      "model_module": "@jupyter-widgets/controls",
      "model_module_version": "1.5.0",
      "model_name": "HTMLModel",
      "state": {
       "layout": "IPY_MODEL_60785dd0ebb24199b74cb2b9beb3cb00",
       "style": "IPY_MODEL_dc9eee7651f4468588a74cec93534844",
       "value": " 0/12 [01:28&lt;?, ?it/s]"
      }
     },
     "c2a01f9329314df7901628ebecd04678": {
      "model_module": "@jupyter-widgets/controls",
      "model_module_version": "1.5.0",
      "model_name": "HTMLModel",
      "state": {
       "layout": "IPY_MODEL_6f73be6b547f4ae19eb4e4a706d0521e",
       "style": "IPY_MODEL_88cf95d11a5448e6a9d634eaa07795b5",
       "value": " 0/5000 [02:02&lt;?, ?it/s]"
      }
     },
     "c2ae99aeae49410286390ce29539cd3f": {
      "model_module": "@jupyter-widgets/controls",
      "model_module_version": "1.5.0",
      "model_name": "FloatProgressModel",
      "state": {
       "bar_style": "danger",
       "description": "Train epoch=0:   0%",
       "layout": "IPY_MODEL_babaf6f534af4e19bb0fe98cd6b9c7ee",
       "max": 90000,
       "style": "IPY_MODEL_9b1244c58265450896f2c16ae1f9d787",
       "value": 78
      }
     },
     "c2bedf05334746219b78b8938d0cdb93": {
      "model_module": "@jupyter-widgets/controls",
      "model_module_version": "1.5.0",
      "model_name": "ProgressStyleModel",
      "state": {
       "description_width": "initial"
      }
     },
     "c2c23e9971144917b1c35ed1e2ffbd7c": {
      "model_module": "@jupyter-widgets/controls",
      "model_module_version": "1.5.0",
      "model_name": "DescriptionStyleModel",
      "state": {
       "description_width": ""
      }
     },
     "c2f6b3bc300d484aa66dc75354c335a6": {
      "model_module": "@jupyter-widgets/controls",
      "model_module_version": "1.5.0",
      "model_name": "DescriptionStyleModel",
      "state": {
       "description_width": ""
      }
     },
     "c2f74aa495704416978ee894606fbc74": {
      "model_module": "@jupyter-widgets/base",
      "model_module_version": "1.2.0",
      "model_name": "LayoutModel",
      "state": {}
     },
     "c303c1dc567446929110c4f36c6152c4": {
      "model_module": "@jupyter-widgets/base",
      "model_module_version": "1.2.0",
      "model_name": "LayoutModel",
      "state": {}
     },
     "c30dcc3d1e9a48a0bc2731feebfa0810": {
      "model_module": "@jupyter-widgets/base",
      "model_module_version": "1.2.0",
      "model_name": "LayoutModel",
      "state": {}
     },
     "c34607ebaf924d4ebe5b228d549f5d2e": {
      "model_module": "@jupyter-widgets/controls",
      "model_module_version": "1.5.0",
      "model_name": "HBoxModel",
      "state": {
       "children": [
        "IPY_MODEL_4bcf07ceacff4e8bb72bb68757257a64",
        "IPY_MODEL_536388003ef548268b4f35224858d46f"
       ],
       "layout": "IPY_MODEL_8a39bb6096e6482db1c19814fa2a881a"
      }
     },
     "c35201a57dc5417bb9ccecb736661a0b": {
      "model_module": "@jupyter-widgets/base",
      "model_module_version": "1.2.0",
      "model_name": "LayoutModel",
      "state": {}
     },
     "c397cd0677cb420fb478e4bca934f66b": {
      "model_module": "@jupyter-widgets/controls",
      "model_module_version": "1.5.0",
      "model_name": "ProgressStyleModel",
      "state": {
       "description_width": "initial"
      }
     },
     "c3babe15a53448cc870aee37f24f9d37": {
      "model_module": "@jupyter-widgets/controls",
      "model_module_version": "1.5.0",
      "model_name": "ProgressStyleModel",
      "state": {
       "description_width": "initial"
      }
     },
     "c3cc8044471c4458b0c906167b6cea86": {
      "model_module": "@jupyter-widgets/base",
      "model_module_version": "1.2.0",
      "model_name": "LayoutModel",
      "state": {}
     },
     "c3eb9944c51540c39d1aaf00050ac5ed": {
      "model_module": "@jupyter-widgets/controls",
      "model_module_version": "1.5.0",
      "model_name": "HBoxModel",
      "state": {
       "children": [
        "IPY_MODEL_57d4dfebefc54fe28069e97e4faf4ffd",
        "IPY_MODEL_a0f47be8525449b582159cd2dbb9dd88"
       ],
       "layout": "IPY_MODEL_f4911d4256f24da0b1cefa3b3eed6714"
      }
     },
     "c404170dbb134f9aad9cc8c27678db73": {
      "model_module": "@jupyter-widgets/base",
      "model_module_version": "1.2.0",
      "model_name": "LayoutModel",
      "state": {}
     },
     "c42865250ab04cb9882aefdd9cf1decc": {
      "model_module": "@jupyter-widgets/controls",
      "model_module_version": "1.5.0",
      "model_name": "FloatProgressModel",
      "state": {
       "bar_style": "danger",
       "description": "Valid iteration=0:   0%",
       "layout": "IPY_MODEL_2663de17bd5e4c1298124380a93c5a1a",
       "max": 10000,
       "style": "IPY_MODEL_068616e4b4f34db1bd0d3f511192001f"
      }
     },
     "c42c544426e942a6a250cc7353c060e4": {
      "model_module": "@jupyter-widgets/base",
      "model_module_version": "1.2.0",
      "model_name": "LayoutModel",
      "state": {}
     },
     "c439c7380bbd450d969c6560d1ef3a50": {
      "model_module": "@jupyter-widgets/controls",
      "model_module_version": "1.5.0",
      "model_name": "FloatProgressModel",
      "state": {
       "bar_style": "danger",
       "description": "Train:   0%",
       "layout": "IPY_MODEL_963cc50543cc4fc8b97385987efe4325",
       "max": 23,
       "style": "IPY_MODEL_e2eb5de9254940a68b3b82ae01625c5c"
      }
     },
     "c454897709374e5581d5e48a8605d2bd": {
      "model_module": "@jupyter-widgets/base",
      "model_module_version": "1.2.0",
      "model_name": "LayoutModel",
      "state": {}
     },
     "c496eb1fccfe4803b33c80323fefe5e9": {
      "model_module": "@jupyter-widgets/controls",
      "model_module_version": "1.5.0",
      "model_name": "ProgressStyleModel",
      "state": {
       "description_width": "initial"
      }
     },
     "c49de67a7bb446728fad2b11a38c9869": {
      "model_module": "@jupyter-widgets/controls",
      "model_module_version": "1.5.0",
      "model_name": "HTMLModel",
      "state": {
       "layout": "IPY_MODEL_a8a52d15d52d47119bebbafa81b8a0ed",
       "style": "IPY_MODEL_60a07a829854487482c0013b43325252",
       "value": " 0/23 [00:28&lt;?, ?it/s]"
      }
     },
     "c4b775b53cec446d9862da36a40345a5": {
      "model_module": "@jupyter-widgets/controls",
      "model_module_version": "1.5.0",
      "model_name": "HBoxModel",
      "state": {
       "children": [
        "IPY_MODEL_e10b634e2d764e7d9e62f0c26746bf04",
        "IPY_MODEL_06b79818a4bc48c596019c6f9e9aee86"
       ],
       "layout": "IPY_MODEL_32a2a900502e4d5681e9fca090a940a5"
      }
     },
     "c4bba488071440e7b1330bca4b4eb300": {
      "model_module": "@jupyter-widgets/controls",
      "model_module_version": "1.5.0",
      "model_name": "ProgressStyleModel",
      "state": {
       "description_width": "initial"
      }
     },
     "c4dc42fd73e2472bafaee9c47177ef85": {
      "model_module": "@jupyter-widgets/controls",
      "model_module_version": "1.5.0",
      "model_name": "HBoxModel",
      "state": {
       "children": [
        "IPY_MODEL_d48b70ca4f3c4b1fb2531457cbc619c0",
        "IPY_MODEL_15470d28af8a4e9d86a29419cd272cf0"
       ],
       "layout": "IPY_MODEL_03b6414e5b434ae4b4ea69314e954779"
      }
     },
     "c4dcad6ddbb2486bb08fe04a8243a68c": {
      "model_module": "@jupyter-widgets/base",
      "model_module_version": "1.2.0",
      "model_name": "LayoutModel",
      "state": {}
     },
     "c4faa74bfdbe463ab212228163eaee9c": {
      "model_module": "@jupyter-widgets/controls",
      "model_module_version": "1.5.0",
      "model_name": "FloatProgressModel",
      "state": {
       "bar_style": "danger",
       "description": "Valid iteration=1000:   0%",
       "layout": "IPY_MODEL_a085f630879d41a28bbf667b062e1fa4",
       "max": 10000,
       "style": "IPY_MODEL_49ff38692e4d429caff6680a3def1f96"
      }
     },
     "c50b529f02af4195be2e2cef4d364005": {
      "model_module": "@jupyter-widgets/controls",
      "model_module_version": "1.5.0",
      "model_name": "DescriptionStyleModel",
      "state": {
       "description_width": ""
      }
     },
     "c517dbfdace54f2e95dbcb074361d011": {
      "model_module": "@jupyter-widgets/base",
      "model_module_version": "1.2.0",
      "model_name": "LayoutModel",
      "state": {}
     },
     "c52a9f6a2472406799557c621137020c": {
      "model_module": "@jupyter-widgets/controls",
      "model_module_version": "1.5.0",
      "model_name": "HTMLModel",
      "state": {
       "layout": "IPY_MODEL_b7a3217c1dcc44adad484c67022acb5b",
       "style": "IPY_MODEL_48c05ef41ca642a8ac71f5a0d9946d27",
       "value": " 0/10000 [00:12&lt;?, ?it/s]"
      }
     },
     "c52bb7f6254b4aa28e789d42c0b27eb9": {
      "model_module": "@jupyter-widgets/controls",
      "model_module_version": "1.5.0",
      "model_name": "ProgressStyleModel",
      "state": {
       "description_width": "initial"
      }
     },
     "c53bb38ff7d543c29b2be81deb085eda": {
      "model_module": "@jupyter-widgets/base",
      "model_module_version": "1.2.0",
      "model_name": "LayoutModel",
      "state": {}
     },
     "c53fe035b03c4830ae431e35a114a1c1": {
      "model_module": "@jupyter-widgets/controls",
      "model_module_version": "1.5.0",
      "model_name": "HTMLModel",
      "state": {
       "layout": "IPY_MODEL_0ed1144e3e394cae87eb857765ef9d2f",
       "style": "IPY_MODEL_7099086097d64f1483589379a69db6ae",
       "value": " 0/10000 [00:47&lt;?, ?it/s]"
      }
     },
     "c5504cae4de340e3a512a429a28c30e5": {
      "model_module": "@jupyter-widgets/controls",
      "model_module_version": "1.5.0",
      "model_name": "FloatProgressModel",
      "state": {
       "bar_style": "danger",
       "description": "Valid iteration=0:   0%",
       "layout": "IPY_MODEL_3cfd3b0163244b28b8102540070f8a7e",
       "max": 10000,
       "style": "IPY_MODEL_a8a92efa7f19417abca983e5efd7764c"
      }
     },
     "c5641e131c344d0592cdb7d768a3ba84": {
      "model_module": "@jupyter-widgets/base",
      "model_module_version": "1.2.0",
      "model_name": "LayoutModel",
      "state": {}
     },
     "c5650b68b02842ca9b1d143a37b303d2": {
      "model_module": "@jupyter-widgets/controls",
      "model_module_version": "1.5.0",
      "model_name": "ProgressStyleModel",
      "state": {
       "description_width": "initial"
      }
     },
     "c579795346c9443c8c99278141a993a0": {
      "model_module": "@jupyter-widgets/base",
      "model_module_version": "1.2.0",
      "model_name": "LayoutModel",
      "state": {}
     },
     "c57de310d67648f09259cbd724be3d3a": {
      "model_module": "@jupyter-widgets/controls",
      "model_module_version": "1.5.0",
      "model_name": "DescriptionStyleModel",
      "state": {
       "description_width": ""
      }
     },
     "c57f309039ac43e58431797208703826": {
      "model_module": "@jupyter-widgets/base",
      "model_module_version": "1.2.0",
      "model_name": "LayoutModel",
      "state": {}
     },
     "c588cabf49f243fbadc0503e831271ce": {
      "model_module": "@jupyter-widgets/base",
      "model_module_version": "1.2.0",
      "model_name": "LayoutModel",
      "state": {}
     },
     "c5a986e77fbc4683a1148b009f11de37": {
      "model_module": "@jupyter-widgets/base",
      "model_module_version": "1.2.0",
      "model_name": "LayoutModel",
      "state": {}
     },
     "c5b8506fa54a493999621ea6612d4144": {
      "model_module": "@jupyter-widgets/controls",
      "model_module_version": "1.5.0",
      "model_name": "ProgressStyleModel",
      "state": {
       "description_width": "initial"
      }
     },
     "c5c6aa1eb1734f8e97080f0a80c00e06": {
      "model_module": "@jupyter-widgets/controls",
      "model_module_version": "1.5.0",
      "model_name": "ProgressStyleModel",
      "state": {
       "description_width": "initial"
      }
     },
     "c5eea66808044ef49933c9c0fcb16cf8": {
      "model_module": "@jupyter-widgets/controls",
      "model_module_version": "1.5.0",
      "model_name": "ProgressStyleModel",
      "state": {
       "description_width": "initial"
      }
     },
     "c613540607c449deb6d6b563c4741a8c": {
      "model_module": "@jupyter-widgets/base",
      "model_module_version": "1.2.0",
      "model_name": "LayoutModel",
      "state": {}
     },
     "c63932156c18437dbf30b9ed40c93668": {
      "model_module": "@jupyter-widgets/base",
      "model_module_version": "1.2.0",
      "model_name": "LayoutModel",
      "state": {}
     },
     "c645a5a0ae5d4353a554b4ac7cde9952": {
      "model_module": "@jupyter-widgets/controls",
      "model_module_version": "1.5.0",
      "model_name": "HBoxModel",
      "state": {
       "children": [
        "IPY_MODEL_119207a12c904ed0a5313a39802661ed",
        "IPY_MODEL_d9ac92ca12a648008e2c843a48e64746"
       ],
       "layout": "IPY_MODEL_cccadb4568c34909bbc96625da736c36"
      }
     },
     "c65025d400764bd394daa3b55e959688": {
      "model_module": "@jupyter-widgets/controls",
      "model_module_version": "1.5.0",
      "model_name": "HBoxModel",
      "state": {
       "children": [
        "IPY_MODEL_d8204c52efee4f8b8674d340056aa8d8",
        "IPY_MODEL_1bce9ab14a54426b82fc4861adac3730"
       ],
       "layout": "IPY_MODEL_e69cab8bc7244ec685fbb9d43aa01c36"
      }
     },
     "c653e2b2b449472497014f3781b3a0a9": {
      "model_module": "@jupyter-widgets/base",
      "model_module_version": "1.2.0",
      "model_name": "LayoutModel",
      "state": {}
     },
     "c660253c879043b2beaadd5b914ab6f9": {
      "model_module": "@jupyter-widgets/controls",
      "model_module_version": "1.5.0",
      "model_name": "HTMLModel",
      "state": {
       "layout": "IPY_MODEL_78a255f0b3a24ba888766b811a4c39e7",
       "style": "IPY_MODEL_34313c2db93c4983a4afec7ba95c2c55",
       "value": " 0/23 [00:16&lt;?, ?it/s]"
      }
     },
     "c66acd9ca50042638e55a8b070bb4352": {
      "model_module": "@jupyter-widgets/controls",
      "model_module_version": "1.5.0",
      "model_name": "HBoxModel",
      "state": {
       "children": [
        "IPY_MODEL_3289952ae40848538bb727735c7b94de",
        "IPY_MODEL_2b8f028ed8324659be39569c97b76598"
       ],
       "layout": "IPY_MODEL_612285ee62d844f687e42c6564508f9c"
      }
     },
     "c6719d436dfe4d118a71b66ea6d628fe": {
      "model_module": "@jupyter-widgets/base",
      "model_module_version": "1.2.0",
      "model_name": "LayoutModel",
      "state": {}
     },
     "c6c376e0c04242429998f38813d22c06": {
      "model_module": "@jupyter-widgets/controls",
      "model_module_version": "1.5.0",
      "model_name": "FloatProgressModel",
      "state": {
       "bar_style": "danger",
       "description": "Valid iteration=0:   0%",
       "layout": "IPY_MODEL_42ebdb565c344879bb04dea717eb261d",
       "max": 10000,
       "style": "IPY_MODEL_673e1cdc8b0f4b61b869d1ad3f69e014"
      }
     },
     "c6d16e3f5a3f4917a63f1ceaa887c0b8": {
      "model_module": "@jupyter-widgets/controls",
      "model_module_version": "1.5.0",
      "model_name": "DescriptionStyleModel",
      "state": {
       "description_width": ""
      }
     },
     "c70c3bc283c94a86b2f23b4d9ffe9996": {
      "model_module": "@jupyter-widgets/base",
      "model_module_version": "1.2.0",
      "model_name": "LayoutModel",
      "state": {}
     },
     "c7100fd957e5453abad287d00d6a4af3": {
      "model_module": "@jupyter-widgets/controls",
      "model_module_version": "1.5.0",
      "model_name": "HTMLModel",
      "state": {
       "layout": "IPY_MODEL_6d9a1cf2bc104fc8a7d6af93ecfba90d",
       "style": "IPY_MODEL_f179d98df5824f56887f4ffc1df73e6e",
       "value": " 0/10000 [05:54&lt;?, ?it/s]"
      }
     },
     "c719570ff48a4dd99727000018f961f9": {
      "model_module": "@jupyter-widgets/controls",
      "model_module_version": "1.5.0",
      "model_name": "HTMLModel",
      "state": {
       "layout": "IPY_MODEL_5f03c8c1c82a4a29b872a5c80f089a83",
       "style": "IPY_MODEL_e74ff7f253494f17b8738f8ce4eb13d0",
       "value": " 0/23 [00:12&lt;?, ?it/s]"
      }
     },
     "c73272dbe31742868b8e0b756ce57b7c": {
      "model_module": "@jupyter-widgets/base",
      "model_module_version": "1.2.0",
      "model_name": "LayoutModel",
      "state": {}
     },
     "c7349a58e7aa4f6799a617333ae78bef": {
      "model_module": "@jupyter-widgets/controls",
      "model_module_version": "1.5.0",
      "model_name": "FloatProgressModel",
      "state": {
       "bar_style": "danger",
       "description": "Valid iteration=0:   0%",
       "layout": "IPY_MODEL_1cc5a5909a704bcc84ea734c9346504f",
       "max": 5000,
       "style": "IPY_MODEL_752cfdeabe10461fa80c1f731610d11a"
      }
     },
     "c74bf2e1ec43492f97db6d84fc3d5ba8": {
      "model_module": "@jupyter-widgets/controls",
      "model_module_version": "1.5.0",
      "model_name": "DescriptionStyleModel",
      "state": {
       "description_width": ""
      }
     },
     "c74f360b35794f1196c0ceab2d3feae9": {
      "model_module": "@jupyter-widgets/base",
      "model_module_version": "1.2.0",
      "model_name": "LayoutModel",
      "state": {}
     },
     "c787afdbff4d40a08b476ebc16614ec2": {
      "model_module": "@jupyter-widgets/controls",
      "model_module_version": "1.5.0",
      "model_name": "FloatProgressModel",
      "state": {
       "bar_style": "danger",
       "description": "Train epoch=0:   0%",
       "layout": "IPY_MODEL_abbf2cc47dde4e2eb737d4b53d41e1e2",
       "max": 45000,
       "style": "IPY_MODEL_d7e6479631644e4195d9ed6b618b8869"
      }
     },
     "c7a0caf000334265a4641c8fdd8f7ae4": {
      "model_module": "@jupyter-widgets/controls",
      "model_module_version": "1.5.0",
      "model_name": "HTMLModel",
      "state": {
       "layout": "IPY_MODEL_d1e113034bca4fb8995f2eba6005d8e3",
       "style": "IPY_MODEL_4a20b5a0a85b4e668698c0de2f8ca5de",
       "value": " 0/10000 [19:33&lt;?, ?it/s]"
      }
     },
     "c7ab4781bba842d89b992976e8d5c588": {
      "model_module": "@jupyter-widgets/controls",
      "model_module_version": "1.5.0",
      "model_name": "HTMLModel",
      "state": {
       "layout": "IPY_MODEL_ba057ab71a3a4560a211592c05b83264",
       "style": "IPY_MODEL_2e520f554f7b4256801666faf5bb2787",
       "value": " 142/90000 [01:04&lt;10:59:10,  2.27it/s]"
      }
     },
     "c7b7921687854fe79d48003e0974a09f": {
      "model_module": "@jupyter-widgets/base",
      "model_module_version": "1.2.0",
      "model_name": "LayoutModel",
      "state": {}
     },
     "c7b7c2b632cc4f689fc004aca35564c2": {
      "model_module": "@jupyter-widgets/base",
      "model_module_version": "1.2.0",
      "model_name": "LayoutModel",
      "state": {}
     },
     "c7db97b35ccd426db4e6a62128b8f47a": {
      "model_module": "@jupyter-widgets/base",
      "model_module_version": "1.2.0",
      "model_name": "LayoutModel",
      "state": {}
     },
     "c7ddcef6491c44f2af87e7c0e9a421b4": {
      "model_module": "@jupyter-widgets/controls",
      "model_module_version": "1.5.0",
      "model_name": "FloatProgressModel",
      "state": {
       "bar_style": "danger",
       "description": "Train epoch=0:   1%",
       "layout": "IPY_MODEL_09b8148f661647e58f91c4ac309b1942",
       "max": 90000,
       "style": "IPY_MODEL_008371b740ec43ce9964d406032aa261",
       "value": 605
      }
     },
     "c7e9346a7967459e8f95fa50f3f1ca35": {
      "model_module": "@jupyter-widgets/base",
      "model_module_version": "1.2.0",
      "model_name": "LayoutModel",
      "state": {}
     },
     "c7ee8136237842ee85720801f8172156": {
      "model_module": "@jupyter-widgets/controls",
      "model_module_version": "1.5.0",
      "model_name": "HTMLModel",
      "state": {
       "layout": "IPY_MODEL_56339768f6fb4d688d9852f01d313f26",
       "style": "IPY_MODEL_a7b1304e2eab4c26b0133c9f97d7af35",
       "value": " 0/10000 [00:01&lt;?, ?it/s]"
      }
     },
     "c7f708d2b6374c00902a8ce6b8895fcd": {
      "model_module": "@jupyter-widgets/base",
      "model_module_version": "1.2.0",
      "model_name": "LayoutModel",
      "state": {}
     },
     "c8051e2fd28f477298d4b110a25da383": {
      "model_module": "@jupyter-widgets/base",
      "model_module_version": "1.2.0",
      "model_name": "LayoutModel",
      "state": {}
     },
     "c8257ecbfbe84b0a9f00a03c647501de": {
      "model_module": "@jupyter-widgets/base",
      "model_module_version": "1.2.0",
      "model_name": "LayoutModel",
      "state": {}
     },
     "c830b8e1c41e4e309d772ce38d7d1bdc": {
      "model_module": "@jupyter-widgets/base",
      "model_module_version": "1.2.0",
      "model_name": "LayoutModel",
      "state": {}
     },
     "c842b2cb7bb043459808965b51cca69a": {
      "model_module": "@jupyter-widgets/controls",
      "model_module_version": "1.5.0",
      "model_name": "FloatProgressModel",
      "state": {
       "bar_style": "danger",
       "description": "Valid iteration=0:   0%",
       "layout": "IPY_MODEL_3a8e88ee37bc417b9551e8adcea23084",
       "max": 10000,
       "style": "IPY_MODEL_a38f6859c50f49dc84d279890764c724"
      }
     },
     "c846d9cd923145e28e2cb51aed8a54cd": {
      "model_module": "@jupyter-widgets/controls",
      "model_module_version": "1.5.0",
      "model_name": "ProgressStyleModel",
      "state": {
       "description_width": "initial"
      }
     },
     "c848cfe07ed34d59815790b2037a30d0": {
      "model_module": "@jupyter-widgets/controls",
      "model_module_version": "1.5.0",
      "model_name": "FloatProgressModel",
      "state": {
       "bar_style": "danger",
       "description": "Valid iteration=0:   0%",
       "layout": "IPY_MODEL_d13017217b164ef38b34051e8299e54a",
       "max": 10000,
       "style": "IPY_MODEL_b6c4a6602d764844a9490d633586f617"
      }
     },
     "c85db78d4e304ad6b1fce7cc41ac4c9b": {
      "model_module": "@jupyter-widgets/controls",
      "model_module_version": "1.5.0",
      "model_name": "FloatProgressModel",
      "state": {
       "bar_style": "danger",
       "description": "Valid iteration=3000:   0%",
       "layout": "IPY_MODEL_95934cf89a3144a586da3d26175e3ad1",
       "max": 5000,
       "style": "IPY_MODEL_35cf9eee38234ea5a0bf2bbdf2298895"
      }
     },
     "c8a7e0065b394a81b7d972e19802e533": {
      "model_module": "@jupyter-widgets/controls",
      "model_module_version": "1.5.0",
      "model_name": "ProgressStyleModel",
      "state": {
       "description_width": "initial"
      }
     },
     "c8bac48ffd6041cabc5a74468f9aee91": {
      "model_module": "@jupyter-widgets/base",
      "model_module_version": "1.2.0",
      "model_name": "LayoutModel",
      "state": {}
     },
     "c8cd68d7157f4676947659b6db1967c8": {
      "model_module": "@jupyter-widgets/base",
      "model_module_version": "1.2.0",
      "model_name": "LayoutModel",
      "state": {}
     },
     "c8d4b634fa9847e3af46fd01ac9ac72f": {
      "model_module": "@jupyter-widgets/controls",
      "model_module_version": "1.5.0",
      "model_name": "HTMLModel",
      "state": {
       "layout": "IPY_MODEL_108777cbd77a4ac7a886ffe9828b0e9e",
       "style": "IPY_MODEL_2c4626e3932a48829654991996b00d87",
       "value": " 0/10000 [00:01&lt;?, ?it/s]"
      }
     },
     "c8e68a781b8d46f4bebf8199b66fe3f8": {
      "model_module": "@jupyter-widgets/controls",
      "model_module_version": "1.5.0",
      "model_name": "HTMLModel",
      "state": {
       "layout": "IPY_MODEL_43ac4a380998471faa0d9076c4c0e350",
       "style": "IPY_MODEL_a2e0fc742db94ef193a34a159f589eec",
       "value": " 0/10000 [00:21&lt;?, ?it/s]"
      }
     },
     "c8ef6936c9f047909ca8bfe823084186": {
      "model_module": "@jupyter-widgets/controls",
      "model_module_version": "1.5.0",
      "model_name": "HTMLModel",
      "state": {
       "layout": "IPY_MODEL_b54f199a635b4624b62d7bf3eb1f7f14",
       "style": "IPY_MODEL_aa8bcc041a45464896ea7aee55988d21",
       "value": " 0/10000 [00:01&lt;?, ?it/s]"
      }
     },
     "c906afd1db2c4d1dac2d13abdf93552d": {
      "model_module": "@jupyter-widgets/controls",
      "model_module_version": "1.5.0",
      "model_name": "DescriptionStyleModel",
      "state": {
       "description_width": ""
      }
     },
     "c90ff77c15b54b578281ce6da9180e9b": {
      "model_module": "@jupyter-widgets/controls",
      "model_module_version": "1.5.0",
      "model_name": "HBoxModel",
      "state": {
       "children": [
        "IPY_MODEL_af045312b376491ca1c4fed4fbab958d",
        "IPY_MODEL_d7eb8b77f2de41be93d4dfeb5f00b410"
       ],
       "layout": "IPY_MODEL_fb2822076f0f4ac5a4694c39d6bca0f9"
      }
     },
     "c9132eb147f643d0a8283ff9d377b257": {
      "model_module": "@jupyter-widgets/controls",
      "model_module_version": "1.5.0",
      "model_name": "DescriptionStyleModel",
      "state": {
       "description_width": ""
      }
     },
     "c91a7f44883a438c8f623c4f9a4a7eda": {
      "model_module": "@jupyter-widgets/base",
      "model_module_version": "1.2.0",
      "model_name": "LayoutModel",
      "state": {}
     },
     "c9339223ccc847a28436f93f6fb527e0": {
      "model_module": "@jupyter-widgets/controls",
      "model_module_version": "1.5.0",
      "model_name": "FloatProgressModel",
      "state": {
       "bar_style": "danger",
       "description": "Train:   0%",
       "layout": "IPY_MODEL_e4a119d36d7f49fc93256bb2badf2b28",
       "max": 12,
       "style": "IPY_MODEL_88e18c3c596745bf888a283c883c8bf8"
      }
     },
     "c93d35bea36d493ca983406edce7a07d": {
      "model_module": "@jupyter-widgets/controls",
      "model_module_version": "1.5.0",
      "model_name": "HBoxModel",
      "state": {
       "children": [
        "IPY_MODEL_d13a44ebc2b543c7acdab90374e50d09",
        "IPY_MODEL_97c86b0b92d14b428d2f0e1886cc5230"
       ],
       "layout": "IPY_MODEL_8bf47819770748f3b11dcd2fffde90fd"
      }
     },
     "c959fa90ec924ace963cb4c811a7640a": {
      "model_module": "@jupyter-widgets/controls",
      "model_module_version": "1.5.0",
      "model_name": "ProgressStyleModel",
      "state": {
       "description_width": "initial"
      }
     },
     "c9ad3eb0fe4843d5bd38fb56b4db4115": {
      "model_module": "@jupyter-widgets/controls",
      "model_module_version": "1.5.0",
      "model_name": "DescriptionStyleModel",
      "state": {
       "description_width": ""
      }
     },
     "c9d2286213b54eb9bd52da74fade8bbd": {
      "model_module": "@jupyter-widgets/controls",
      "model_module_version": "1.5.0",
      "model_name": "ProgressStyleModel",
      "state": {
       "description_width": "initial"
      }
     },
     "c9d8de9b7114421b9b697be18e332a1b": {
      "model_module": "@jupyter-widgets/base",
      "model_module_version": "1.2.0",
      "model_name": "LayoutModel",
      "state": {}
     },
     "c9f933758c9943bf8e91cf61f27136a3": {
      "model_module": "@jupyter-widgets/controls",
      "model_module_version": "1.5.0",
      "model_name": "ProgressStyleModel",
      "state": {
       "description_width": "initial"
      }
     },
     "ca08f4822479490dbd7c071ea06b68d5": {
      "model_module": "@jupyter-widgets/controls",
      "model_module_version": "1.5.0",
      "model_name": "HTMLModel",
      "state": {
       "layout": "IPY_MODEL_2d4960eec931446188880c5bcdc1378e",
       "style": "IPY_MODEL_708250104af74113a5168fb084569c01",
       "value": " 0/10000 [00:01&lt;?, ?it/s]"
      }
     },
     "ca190319a6614f46a4da095443682423": {
      "model_module": "@jupyter-widgets/controls",
      "model_module_version": "1.5.0",
      "model_name": "DescriptionStyleModel",
      "state": {
       "description_width": ""
      }
     },
     "ca3f84f9283c4407bc9b7cb3bd6fbe90": {
      "model_module": "@jupyter-widgets/controls",
      "model_module_version": "1.5.0",
      "model_name": "DescriptionStyleModel",
      "state": {
       "description_width": ""
      }
     },
     "ca6418fdffe34e62859edc0a0548b406": {
      "model_module": "@jupyter-widgets/controls",
      "model_module_version": "1.5.0",
      "model_name": "HBoxModel",
      "state": {
       "children": [
        "IPY_MODEL_61a43c06597f4681a3abada08a4370f3",
        "IPY_MODEL_32ac9fd7ab764989bb5380d9af7eeb7c"
       ],
       "layout": "IPY_MODEL_57e51660774243beac83392415ad4367"
      }
     },
     "ca71ff2e8c45490da70c70421b64eaaf": {
      "model_module": "@jupyter-widgets/base",
      "model_module_version": "1.2.0",
      "model_name": "LayoutModel",
      "state": {}
     },
     "ca7318f4bb604dea8e9e335dd051f082": {
      "model_module": "@jupyter-widgets/controls",
      "model_module_version": "1.5.0",
      "model_name": "DescriptionStyleModel",
      "state": {
       "description_width": ""
      }
     },
     "ca896bb08ae74a708f2028d3a69581c8": {
      "model_module": "@jupyter-widgets/base",
      "model_module_version": "1.2.0",
      "model_name": "LayoutModel",
      "state": {}
     },
     "ca8b46df807445da96bcedd6fcb25867": {
      "model_module": "@jupyter-widgets/controls",
      "model_module_version": "1.5.0",
      "model_name": "DescriptionStyleModel",
      "state": {
       "description_width": ""
      }
     },
     "cab05da4213549439a6f49eefbbea4b8": {
      "model_module": "@jupyter-widgets/base",
      "model_module_version": "1.2.0",
      "model_name": "LayoutModel",
      "state": {}
     },
     "cac012ff439140079561f1e344e2e772": {
      "model_module": "@jupyter-widgets/controls",
      "model_module_version": "1.5.0",
      "model_name": "HBoxModel",
      "state": {
       "children": [
        "IPY_MODEL_a0f402d472754ca1acf01d7525071a01",
        "IPY_MODEL_dfbbbeb370784dd288656c8f1e555389"
       ],
       "layout": "IPY_MODEL_692c1b257ce44e4885896cd27a6f40a9"
      }
     },
     "caca839a7ac041e9ae53b148dc854e89": {
      "model_module": "@jupyter-widgets/controls",
      "model_module_version": "1.5.0",
      "model_name": "HTMLModel",
      "state": {
       "layout": "IPY_MODEL_cf568b7b40c6405d960775269ac64520",
       "style": "IPY_MODEL_ad2ed15612754a57986c774767a30696",
       "value": " 0/23 [00:20&lt;?, ?it/s]"
      }
     },
     "cb0b614c2e7b40e996dd2f0f63606529": {
      "model_module": "@jupyter-widgets/controls",
      "model_module_version": "1.5.0",
      "model_name": "DescriptionStyleModel",
      "state": {
       "description_width": ""
      }
     },
     "cb110a3c7347446d9de2269d884bcdbd": {
      "model_module": "@jupyter-widgets/base",
      "model_module_version": "1.2.0",
      "model_name": "LayoutModel",
      "state": {}
     },
     "cb177e3efc3242f5b750a2512ba1c212": {
      "model_module": "@jupyter-widgets/controls",
      "model_module_version": "1.5.0",
      "model_name": "DescriptionStyleModel",
      "state": {
       "description_width": ""
      }
     },
     "cb19bfc833e8434a9ac607316a15e712": {
      "model_module": "@jupyter-widgets/controls",
      "model_module_version": "1.5.0",
      "model_name": "FloatProgressModel",
      "state": {
       "bar_style": "danger",
       "description": "Train epoch=0:   0%",
       "layout": "IPY_MODEL_0f4aa141134e43f2a6a84ae91ea71250",
       "max": 45000,
       "style": "IPY_MODEL_a41a5ae759534a66bc633d623628fa81"
      }
     },
     "cb6a10f4356d4b2993eb888d4d6c7626": {
      "model_module": "@jupyter-widgets/controls",
      "model_module_version": "1.5.0",
      "model_name": "FloatProgressModel",
      "state": {
       "bar_style": "danger",
       "description": "Valid iteration=7000:   0%",
       "layout": "IPY_MODEL_bdd933df5b95492bbc106ece6608de53",
       "max": 10000,
       "style": "IPY_MODEL_a575c403c2e240e29569f78de2793f81"
      }
     },
     "cb6ffb6d414f4f169dddfe092236550e": {
      "model_module": "@jupyter-widgets/base",
      "model_module_version": "1.2.0",
      "model_name": "LayoutModel",
      "state": {}
     },
     "cb7295243a07405f95a98c668d2df5ff": {
      "model_module": "@jupyter-widgets/controls",
      "model_module_version": "1.5.0",
      "model_name": "DescriptionStyleModel",
      "state": {
       "description_width": ""
      }
     },
     "cb767a3027f2436783fdd1986a81acdb": {
      "model_module": "@jupyter-widgets/controls",
      "model_module_version": "1.5.0",
      "model_name": "FloatProgressModel",
      "state": {
       "bar_style": "danger",
       "description": "Train epoch=0:   3%",
       "layout": "IPY_MODEL_983bde2cf1ac49bf99f5edd3d9b7e803",
       "max": 45000,
       "style": "IPY_MODEL_a956858d023a4f7f8661956b6211d3e5",
       "value": 1240
      }
     },
     "cb81cdd60b25494cb3d8af5559a32695": {
      "model_module": "@jupyter-widgets/controls",
      "model_module_version": "1.5.0",
      "model_name": "HBoxModel",
      "state": {
       "children": [
        "IPY_MODEL_583af364c9954a7a982405b3299b8af0",
        "IPY_MODEL_b0bd6a4c447e4e4fad528ef8ec367629"
       ],
       "layout": "IPY_MODEL_22088478178f47178d6e0debbe4299c8"
      }
     },
     "cb95d0a165674b8793d3fd5f8eea4c5c": {
      "model_module": "@jupyter-widgets/controls",
      "model_module_version": "1.5.0",
      "model_name": "ProgressStyleModel",
      "state": {
       "description_width": "initial"
      }
     },
     "cbbafdf5be284bf3afdcf68ca7c5c8ab": {
      "model_module": "@jupyter-widgets/controls",
      "model_module_version": "1.5.0",
      "model_name": "DescriptionStyleModel",
      "state": {
       "description_width": ""
      }
     },
     "cbbb96706ac0465f8e4a7f2c5d258235": {
      "model_module": "@jupyter-widgets/base",
      "model_module_version": "1.2.0",
      "model_name": "LayoutModel",
      "state": {}
     },
     "cbbbfd64349847158e04b68e0fd74c4b": {
      "model_module": "@jupyter-widgets/base",
      "model_module_version": "1.2.0",
      "model_name": "LayoutModel",
      "state": {}
     },
     "cbc500cd2b104d858f585969ea1e4266": {
      "model_module": "@jupyter-widgets/controls",
      "model_module_version": "1.5.0",
      "model_name": "HBoxModel",
      "state": {
       "children": [
        "IPY_MODEL_f79e2ca715314a51838b69d489c4fa70",
        "IPY_MODEL_fe0a5c754ea44090b57b94e1a56d2ed6"
       ],
       "layout": "IPY_MODEL_9b6143b54a76464aba9f18f2cec75d6a"
      }
     },
     "cbd1c77b29d243f2a44204c471bd1d78": {
      "model_module": "@jupyter-widgets/base",
      "model_module_version": "1.2.0",
      "model_name": "LayoutModel",
      "state": {}
     },
     "cbd54a207ea646c09220977348234a37": {
      "model_module": "@jupyter-widgets/controls",
      "model_module_version": "1.5.0",
      "model_name": "DescriptionStyleModel",
      "state": {
       "description_width": ""
      }
     },
     "cbf3d3ceff0f405ba342db27a652851c": {
      "model_module": "@jupyter-widgets/controls",
      "model_module_version": "1.5.0",
      "model_name": "ProgressStyleModel",
      "state": {
       "description_width": "initial"
      }
     },
     "cc096ba894ce44e0925e4f9fa7cae4fe": {
      "model_module": "@jupyter-widgets/base",
      "model_module_version": "1.2.0",
      "model_name": "LayoutModel",
      "state": {}
     },
     "cc17349a6dfc4bbab83357bcc6160cb7": {
      "model_module": "@jupyter-widgets/controls",
      "model_module_version": "1.5.0",
      "model_name": "HBoxModel",
      "state": {
       "children": [
        "IPY_MODEL_71a52d1d39ab4b56a3406b1eeb3f7040",
        "IPY_MODEL_124f27c651e640e8938c878888552fbc"
       ],
       "layout": "IPY_MODEL_c6719d436dfe4d118a71b66ea6d628fe"
      }
     },
     "cc58cea642214d35a87f31afbff84fa0": {
      "model_module": "@jupyter-widgets/controls",
      "model_module_version": "1.5.0",
      "model_name": "HBoxModel",
      "state": {
       "children": [
        "IPY_MODEL_3f17d1bfb1e440d7b9bd2b261363c126",
        "IPY_MODEL_a957e0fc605e4b8594e26f459a2838c0"
       ],
       "layout": "IPY_MODEL_bcabab9a3e4341989ae1c914e8e02939"
      }
     },
     "cc5fe47eca9b49f0ad04ca278648bd80": {
      "model_module": "@jupyter-widgets/controls",
      "model_module_version": "1.5.0",
      "model_name": "HTMLModel",
      "state": {
       "layout": "IPY_MODEL_93e2fe40f8ac4531915ad080aeebf454",
       "style": "IPY_MODEL_17baaf001fe24ea08dfdca5e15a1c356",
       "value": " 0/10000 [00:13&lt;?, ?it/s]"
      }
     },
     "cc6018449d1c43b9be3c3bc653b5739b": {
      "model_module": "@jupyter-widgets/base",
      "model_module_version": "1.2.0",
      "model_name": "LayoutModel",
      "state": {}
     },
     "cc6c1d6c4dab46338d6742b2d62612d2": {
      "model_module": "@jupyter-widgets/controls",
      "model_module_version": "1.5.0",
      "model_name": "ProgressStyleModel",
      "state": {
       "description_width": "initial"
      }
     },
     "cc771f9bbbd44c6186878eef0ee529c3": {
      "model_module": "@jupyter-widgets/controls",
      "model_module_version": "1.5.0",
      "model_name": "ProgressStyleModel",
      "state": {
       "description_width": "initial"
      }
     },
     "cc7b57999ad746ffaf51194053fa971f": {
      "model_module": "@jupyter-widgets/controls",
      "model_module_version": "1.5.0",
      "model_name": "HBoxModel",
      "state": {
       "children": [
        "IPY_MODEL_a8453f4fd42d4e85b9d105924f211912",
        "IPY_MODEL_49a8b02eb7fb4804bc37470cb6f44232"
       ],
       "layout": "IPY_MODEL_f6225f21b9b443ff87c624888460b9bd"
      }
     },
     "cccadb4568c34909bbc96625da736c36": {
      "model_module": "@jupyter-widgets/base",
      "model_module_version": "1.2.0",
      "model_name": "LayoutModel",
      "state": {}
     },
     "ccec8a58143c4980807905775de8265a": {
      "model_module": "@jupyter-widgets/controls",
      "model_module_version": "1.5.0",
      "model_name": "FloatProgressModel",
      "state": {
       "bar_style": "danger",
       "description": "Valid iteration=2000:   0%",
       "layout": "IPY_MODEL_82913c8bf66b49a5a44230be0111d72b",
       "max": 5000,
       "style": "IPY_MODEL_7c8c6cc29357422cb349fd82645cdbe1"
      }
     },
     "ccf6150c0d1545f6ac179e52761a64d6": {
      "model_module": "@jupyter-widgets/base",
      "model_module_version": "1.2.0",
      "model_name": "LayoutModel",
      "state": {}
     },
     "cd0173046f5341d99513694c7f7fe291": {
      "model_module": "@jupyter-widgets/base",
      "model_module_version": "1.2.0",
      "model_name": "LayoutModel",
      "state": {}
     },
     "cd0699c8a6ea4e999dac00ce1177d84c": {
      "model_module": "@jupyter-widgets/base",
      "model_module_version": "1.2.0",
      "model_name": "LayoutModel",
      "state": {}
     },
     "cd0a3c4010ff446e98b978e59f34addd": {
      "model_module": "@jupyter-widgets/controls",
      "model_module_version": "1.5.0",
      "model_name": "HTMLModel",
      "state": {
       "layout": "IPY_MODEL_b564f4a1b77e49108040511e7cfc8a07",
       "style": "IPY_MODEL_d30c0733e93242dbbaa3420f2d25bc13",
       "value": " 5776/90000 [43:27&lt;10:56:28,  2.14it/s]"
      }
     },
     "cd29649f6c4b4b4aa9bddce7e1a5b453": {
      "model_module": "@jupyter-widgets/controls",
      "model_module_version": "1.5.0",
      "model_name": "HBoxModel",
      "state": {
       "children": [
        "IPY_MODEL_5eb8a90b0075431db4e4497ab00673fb",
        "IPY_MODEL_4de5e2e0858c4f54ab3ee290851a7c20"
       ],
       "layout": "IPY_MODEL_2fb13289913f45dbbd79a3d2b5963e4b"
      }
     },
     "cd6a2d9da374472b83de055b4c488637": {
      "model_module": "@jupyter-widgets/base",
      "model_module_version": "1.2.0",
      "model_name": "LayoutModel",
      "state": {}
     },
     "cd6e39020d0a4355b87c2e12527bbdd5": {
      "model_module": "@jupyter-widgets/controls",
      "model_module_version": "1.5.0",
      "model_name": "HBoxModel",
      "state": {
       "children": [
        "IPY_MODEL_f9b095280e884e6d8ce979febefab48d",
        "IPY_MODEL_dd2b6ed9ccbd4872b83ed2f8683cdf0a"
       ],
       "layout": "IPY_MODEL_b0a311933fa347508b9b35a83db700d4"
      }
     },
     "cd79b035d0e347eeb1eb8c7be1e6cc85": {
      "model_module": "@jupyter-widgets/base",
      "model_module_version": "1.2.0",
      "model_name": "LayoutModel",
      "state": {}
     },
     "cd848f231d774fd699b1f1904ab14162": {
      "model_module": "@jupyter-widgets/controls",
      "model_module_version": "1.5.0",
      "model_name": "DescriptionStyleModel",
      "state": {
       "description_width": ""
      }
     },
     "cd85caeece5446d59c6bf808bd1972f8": {
      "model_module": "@jupyter-widgets/controls",
      "model_module_version": "1.5.0",
      "model_name": "FloatProgressModel",
      "state": {
       "bar_style": "danger",
       "description": "Valid iteration=0:   0%",
       "layout": "IPY_MODEL_c8cd68d7157f4676947659b6db1967c8",
       "max": 10000,
       "style": "IPY_MODEL_b5e93c9051b8496cbf8d0ca4d6329470"
      }
     },
     "cd8f23edd2bc4a918ab013f46b5a7b47": {
      "model_module": "@jupyter-widgets/base",
      "model_module_version": "1.2.0",
      "model_name": "LayoutModel",
      "state": {}
     },
     "cd9b21b2461941a59d68bc8c1eec2911": {
      "model_module": "@jupyter-widgets/base",
      "model_module_version": "1.2.0",
      "model_name": "LayoutModel",
      "state": {}
     },
     "cdb44e9d75564fe388b2cad7a8237ddb": {
      "model_module": "@jupyter-widgets/controls",
      "model_module_version": "1.5.0",
      "model_name": "HBoxModel",
      "state": {
       "children": [
        "IPY_MODEL_78fe4bff46634858b327a853899e05de",
        "IPY_MODEL_38b1747de2dc4811bd41c4ef743241f7"
       ],
       "layout": "IPY_MODEL_801254dda2b34511a0f3b11dad95f0ca"
      }
     },
     "cdbdef85d8de4301b95860aaee836be5": {
      "model_module": "@jupyter-widgets/controls",
      "model_module_version": "1.5.0",
      "model_name": "DescriptionStyleModel",
      "state": {
       "description_width": ""
      }
     },
     "cdff9c4af0b64cd1aadf9c340939a507": {
      "model_module": "@jupyter-widgets/base",
      "model_module_version": "1.2.0",
      "model_name": "LayoutModel",
      "state": {}
     },
     "ce009a0cfee346d2a179c317bca8dbc8": {
      "model_module": "@jupyter-widgets/controls",
      "model_module_version": "1.5.0",
      "model_name": "ProgressStyleModel",
      "state": {
       "description_width": "initial"
      }
     },
     "ce25c57e8e0346f7a54ba2f0443f8f90": {
      "model_module": "@jupyter-widgets/controls",
      "model_module_version": "1.5.0",
      "model_name": "HBoxModel",
      "state": {
       "children": [
        "IPY_MODEL_839fa682ddb0498281a6493d75193a77",
        "IPY_MODEL_cc5fe47eca9b49f0ad04ca278648bd80"
       ],
       "layout": "IPY_MODEL_65bce33746334e00ac4f02058dd46ab4"
      }
     },
     "ce44b1e7235e4704aa2e5945a2d097ef": {
      "model_module": "@jupyter-widgets/controls",
      "model_module_version": "1.5.0",
      "model_name": "HTMLModel",
      "state": {
       "layout": "IPY_MODEL_32f6d120b7d34875a359fabf67c83ba3",
       "style": "IPY_MODEL_81b3a1ecc4a9453abf508df09e3e79fb",
       "value": " 0/23 [42:57&lt;?, ?it/s]"
      }
     },
     "ce51b8c903974be2a90d806b8ce18f35": {
      "model_module": "@jupyter-widgets/controls",
      "model_module_version": "1.5.0",
      "model_name": "FloatProgressModel",
      "state": {
       "bar_style": "danger",
       "description": "Train:   0%",
       "layout": "IPY_MODEL_d728012c99404a50ae1315948023984e",
       "max": 23,
       "style": "IPY_MODEL_ebcc188c81ab419188fed80bff7f630b"
      }
     },
     "ce5311b3bd1449b2b4fe5bab9e32b111": {
      "model_module": "@jupyter-widgets/base",
      "model_module_version": "1.2.0",
      "model_name": "LayoutModel",
      "state": {}
     },
     "ce766984bcf84d54a0737b394355380e": {
      "model_module": "@jupyter-widgets/base",
      "model_module_version": "1.2.0",
      "model_name": "LayoutModel",
      "state": {}
     },
     "ce9fb79a99bb457db5bd9527a6365643": {
      "model_module": "@jupyter-widgets/base",
      "model_module_version": "1.2.0",
      "model_name": "LayoutModel",
      "state": {}
     },
     "cebeaee5ceb44995a65652fa04b574c2": {
      "model_module": "@jupyter-widgets/base",
      "model_module_version": "1.2.0",
      "model_name": "LayoutModel",
      "state": {}
     },
     "cec1e9bc14b642449480f5428bc93548": {
      "model_module": "@jupyter-widgets/controls",
      "model_module_version": "1.5.0",
      "model_name": "HBoxModel",
      "state": {
       "children": [
        "IPY_MODEL_d7480360068547d1a204d6e37231f3fe",
        "IPY_MODEL_a4113b18adbd4a80b46031ff42911c54"
       ],
       "layout": "IPY_MODEL_e0ef38c7ce854670b4d1827e5d014937"
      }
     },
     "ced6dd05ef5e4a91b9da5b4f47e5fa0e": {
      "model_module": "@jupyter-widgets/base",
      "model_module_version": "1.2.0",
      "model_name": "LayoutModel",
      "state": {}
     },
     "cee944047b7843428d8cdba6972e2379": {
      "model_module": "@jupyter-widgets/controls",
      "model_module_version": "1.5.0",
      "model_name": "DescriptionStyleModel",
      "state": {
       "description_width": ""
      }
     },
     "ceeacf370b614c92aacc773d41234865": {
      "model_module": "@jupyter-widgets/controls",
      "model_module_version": "1.5.0",
      "model_name": "HTMLModel",
      "state": {
       "layout": "IPY_MODEL_49ef05c2e94e4b91ae11a851cea6a35b",
       "style": "IPY_MODEL_ef13490e30a04ae3901a4744e7bcbe53",
       "value": " 0/90000 [01:51&lt;?, ?it/s]"
      }
     },
     "ceecf9bbb62a401eaba6dc9842d3fba4": {
      "model_module": "@jupyter-widgets/controls",
      "model_module_version": "1.5.0",
      "model_name": "ProgressStyleModel",
      "state": {
       "description_width": "initial"
      }
     },
     "cefb4c99bcb5404e8651f0b403c1aad9": {
      "model_module": "@jupyter-widgets/controls",
      "model_module_version": "1.5.0",
      "model_name": "HTMLModel",
      "state": {
       "layout": "IPY_MODEL_b5a3d6688b614af59f15284c6fb7962e",
       "style": "IPY_MODEL_99724616a03740858ce0842df83855fc",
       "value": " 0/90000 [01:28&lt;?, ?it/s]"
      }
     },
     "cf0b3c75c7cc428ab859c4d76c52ea0e": {
      "model_module": "@jupyter-widgets/base",
      "model_module_version": "1.2.0",
      "model_name": "LayoutModel",
      "state": {}
     },
     "cf134e979ad146d7b7cc1e11fccb08a3": {
      "model_module": "@jupyter-widgets/controls",
      "model_module_version": "1.5.0",
      "model_name": "DescriptionStyleModel",
      "state": {
       "description_width": ""
      }
     },
     "cf13da3cc31148b0afe9e075176b723c": {
      "model_module": "@jupyter-widgets/controls",
      "model_module_version": "1.5.0",
      "model_name": "ProgressStyleModel",
      "state": {
       "description_width": "initial"
      }
     },
     "cf24620b3f194b458affcf5d7e7af159": {
      "model_module": "@jupyter-widgets/controls",
      "model_module_version": "1.5.0",
      "model_name": "ProgressStyleModel",
      "state": {
       "description_width": "initial"
      }
     },
     "cf2f79bed65b49dd929b18eb3868c2d5": {
      "model_module": "@jupyter-widgets/base",
      "model_module_version": "1.2.0",
      "model_name": "LayoutModel",
      "state": {}
     },
     "cf47b58ff0b7418f89050839a23dc43c": {
      "model_module": "@jupyter-widgets/controls",
      "model_module_version": "1.5.0",
      "model_name": "DescriptionStyleModel",
      "state": {
       "description_width": ""
      }
     },
     "cf4d179191694f72b3cd30e0b72e3c31": {
      "model_module": "@jupyter-widgets/base",
      "model_module_version": "1.2.0",
      "model_name": "LayoutModel",
      "state": {}
     },
     "cf568b7b40c6405d960775269ac64520": {
      "model_module": "@jupyter-widgets/base",
      "model_module_version": "1.2.0",
      "model_name": "LayoutModel",
      "state": {}
     },
     "cf63268f2acf4e58b4fb4ff34fa29b4f": {
      "model_module": "@jupyter-widgets/controls",
      "model_module_version": "1.5.0",
      "model_name": "DescriptionStyleModel",
      "state": {
       "description_width": ""
      }
     },
     "cf7a8f2d41b04b95bd42c136519ffaad": {
      "model_module": "@jupyter-widgets/base",
      "model_module_version": "1.2.0",
      "model_name": "LayoutModel",
      "state": {}
     },
     "cf8a20a2295b49008f16ba1744149a94": {
      "model_module": "@jupyter-widgets/controls",
      "model_module_version": "1.5.0",
      "model_name": "HBoxModel",
      "state": {
       "children": [
        "IPY_MODEL_bc5504e327884042931cf7f28f1a1be9",
        "IPY_MODEL_2e23ea84ee3d49e199bd411c0914144a"
       ],
       "layout": "IPY_MODEL_1acc16b99c0d4a0e9bfc71ac074b63ea"
      }
     },
     "cf9151de519149aa979109610bf55bb9": {
      "model_module": "@jupyter-widgets/controls",
      "model_module_version": "1.5.0",
      "model_name": "ProgressStyleModel",
      "state": {
       "description_width": "initial"
      }
     },
     "cfc8e7aeeac848a59d93e1bc5aaebc80": {
      "model_module": "@jupyter-widgets/controls",
      "model_module_version": "1.5.0",
      "model_name": "DescriptionStyleModel",
      "state": {
       "description_width": ""
      }
     },
     "cfd317907cc34d77a5f7a8da3b82e5ef": {
      "model_module": "@jupyter-widgets/controls",
      "model_module_version": "1.5.0",
      "model_name": "FloatProgressModel",
      "state": {
       "bar_style": "danger",
       "description": "Train epoch=0:   0%",
       "layout": "IPY_MODEL_a1e10886261b4ecb995ed8bf291513f4",
       "max": 45000,
       "style": "IPY_MODEL_8da891c2272d45febaf86d1006c788e1"
      }
     },
     "cfde25e8052d4522922df69b0fc178a7": {
      "model_module": "@jupyter-widgets/controls",
      "model_module_version": "1.5.0",
      "model_name": "HTMLModel",
      "state": {
       "layout": "IPY_MODEL_dc0aeb0437ed4788a5f912109c383265",
       "style": "IPY_MODEL_3c4b44864eaf4224886a43fc582a497a",
       "value": " 0/12 [00:06&lt;?, ?it/s]"
      }
     },
     "cffc6fc351ba4a53bca4bd8eb1325c7c": {
      "model_module": "@jupyter-widgets/base",
      "model_module_version": "1.2.0",
      "model_name": "LayoutModel",
      "state": {}
     },
     "d004fe8f4c604f85a357f33a2953c112": {
      "model_module": "@jupyter-widgets/base",
      "model_module_version": "1.2.0",
      "model_name": "LayoutModel",
      "state": {}
     },
     "d0371ab4abfd45c1b379fd20f88dfb48": {
      "model_module": "@jupyter-widgets/controls",
      "model_module_version": "1.5.0",
      "model_name": "HTMLModel",
      "state": {
       "layout": "IPY_MODEL_29dbd81a3e6d4474a3cecb265b5bb104",
       "style": "IPY_MODEL_1d20c4dd0da04448935a43b1615fe363",
       "value": " 0/12 [43:27&lt;?, ?it/s]"
      }
     },
     "d0390b056f074e15ab8e8c15ce989206": {
      "model_module": "@jupyter-widgets/base",
      "model_module_version": "1.2.0",
      "model_name": "LayoutModel",
      "state": {}
     },
     "d0401e7d790c4107874788bef834ba8a": {
      "model_module": "@jupyter-widgets/controls",
      "model_module_version": "1.5.0",
      "model_name": "HTMLModel",
      "state": {
       "layout": "IPY_MODEL_da074e8ba0624eeb82e95d7c091196fd",
       "style": "IPY_MODEL_cbbafdf5be284bf3afdcf68ca7c5c8ab",
       "value": " 0/90000 [00:16&lt;?, ?it/s]"
      }
     },
     "d058576b455946cea219b27a4e9aa812": {
      "model_module": "@jupyter-widgets/controls",
      "model_module_version": "1.5.0",
      "model_name": "HBoxModel",
      "state": {
       "children": [
        "IPY_MODEL_be9cdfab6ae045f2baab15ae71063d06",
        "IPY_MODEL_461e59cc6ecd479aa0e4499c45163842"
       ],
       "layout": "IPY_MODEL_7e76b70195214c73b6ea4fe7eab36c40"
      }
     },
     "d05b5afe1fdd4ea1a87fd8740bea466a": {
      "model_module": "@jupyter-widgets/base",
      "model_module_version": "1.2.0",
      "model_name": "LayoutModel",
      "state": {}
     },
     "d06c1eefa651499b8babb8601e81aa6d": {
      "model_module": "@jupyter-widgets/controls",
      "model_module_version": "1.5.0",
      "model_name": "HTMLModel",
      "state": {
       "layout": "IPY_MODEL_b86ec5c804064c31932ce730cb669a57",
       "style": "IPY_MODEL_cee944047b7843428d8cdba6972e2379",
       "value": " 0/10000 [12:44&lt;?, ?it/s]"
      }
     },
     "d0a0332cd5594ac9b64e4217e1d5144e": {
      "model_module": "@jupyter-widgets/controls",
      "model_module_version": "1.5.0",
      "model_name": "HBoxModel",
      "state": {
       "children": [
        "IPY_MODEL_7b46a3cf56174fbf81470bb5b087a1f9",
        "IPY_MODEL_0709dd584b40431a98d994e8770a2bb3"
       ],
       "layout": "IPY_MODEL_7c7ff52bcaa9451fa5397724f9282134"
      }
     },
     "d0a217f2f4944761a0c60f9510952325": {
      "model_module": "@jupyter-widgets/controls",
      "model_module_version": "1.5.0",
      "model_name": "HBoxModel",
      "state": {
       "children": [
        "IPY_MODEL_e415b64ed0814211ad21b80811802318",
        "IPY_MODEL_c7100fd957e5453abad287d00d6a4af3"
       ],
       "layout": "IPY_MODEL_db0fe629dd364ac1aaa875ff1da52f19"
      }
     },
     "d0b41e3ef55345be86ae0a70db468738": {
      "model_module": "@jupyter-widgets/controls",
      "model_module_version": "1.5.0",
      "model_name": "HBoxModel",
      "state": {
       "children": [
        "IPY_MODEL_760daa0524ea4516984f6604d62d488e",
        "IPY_MODEL_bfef27f2452c4b3aa143013d6e9aa4e1"
       ],
       "layout": "IPY_MODEL_0f7451b7f73845f2a001f7a0bef907d4"
      }
     },
     "d0dd3dcba15743b0b65c6749d489a874": {
      "model_module": "@jupyter-widgets/controls",
      "model_module_version": "1.5.0",
      "model_name": "ProgressStyleModel",
      "state": {
       "description_width": "initial"
      }
     },
     "d0e691c0fb77444aaf25d77cadf7c35f": {
      "model_module": "@jupyter-widgets/controls",
      "model_module_version": "1.5.0",
      "model_name": "DescriptionStyleModel",
      "state": {
       "description_width": ""
      }
     },
     "d0f62aabb0244820b1865d230c2dd063": {
      "model_module": "@jupyter-widgets/controls",
      "model_module_version": "1.5.0",
      "model_name": "DescriptionStyleModel",
      "state": {
       "description_width": ""
      }
     },
     "d11c3b661b28449aa5c8dbbadd7b8c6f": {
      "model_module": "@jupyter-widgets/base",
      "model_module_version": "1.2.0",
      "model_name": "LayoutModel",
      "state": {}
     },
     "d123eae202f94e22b50e4e48f20e1991": {
      "model_module": "@jupyter-widgets/base",
      "model_module_version": "1.2.0",
      "model_name": "LayoutModel",
      "state": {}
     },
     "d13017217b164ef38b34051e8299e54a": {
      "model_module": "@jupyter-widgets/base",
      "model_module_version": "1.2.0",
      "model_name": "LayoutModel",
      "state": {}
     },
     "d1364c15039b444b925c587a633fb707": {
      "model_module": "@jupyter-widgets/base",
      "model_module_version": "1.2.0",
      "model_name": "LayoutModel",
      "state": {}
     },
     "d13a44ebc2b543c7acdab90374e50d09": {
      "model_module": "@jupyter-widgets/controls",
      "model_module_version": "1.5.0",
      "model_name": "FloatProgressModel",
      "state": {
       "bar_style": "danger",
       "description": "Train:   0%",
       "layout": "IPY_MODEL_f7ff0f654d884691834ab7f428434b07",
       "max": 12,
       "style": "IPY_MODEL_f0a0f5d77b4940f8ae135d8b3a206f24"
      }
     },
     "d13e8e993ac544c785c2ba77b1798f4b": {
      "model_module": "@jupyter-widgets/controls",
      "model_module_version": "1.5.0",
      "model_name": "DescriptionStyleModel",
      "state": {
       "description_width": ""
      }
     },
     "d14e2942ad5140418f72f480eafe29ab": {
      "model_module": "@jupyter-widgets/base",
      "model_module_version": "1.2.0",
      "model_name": "LayoutModel",
      "state": {}
     },
     "d15684db686c4f9b935352569d5cacbf": {
      "model_module": "@jupyter-widgets/base",
      "model_module_version": "1.2.0",
      "model_name": "LayoutModel",
      "state": {}
     },
     "d15927c942d54de4974fe0febfd2830c": {
      "model_module": "@jupyter-widgets/base",
      "model_module_version": "1.2.0",
      "model_name": "LayoutModel",
      "state": {}
     },
     "d169290087b742e7a2e79a9ea98e3c01": {
      "model_module": "@jupyter-widgets/controls",
      "model_module_version": "1.5.0",
      "model_name": "HTMLModel",
      "state": {
       "layout": "IPY_MODEL_a3ae711ed271494589f027d158030904",
       "style": "IPY_MODEL_173a645efc5f42f394907eb5acff40e9",
       "value": " 0/12 [00:35&lt;?, ?it/s]"
      }
     },
     "d16b872ef1bb49878112491a51f096df": {
      "model_module": "@jupyter-widgets/controls",
      "model_module_version": "1.5.0",
      "model_name": "HBoxModel",
      "state": {
       "children": [
        "IPY_MODEL_06ea6eb7811c424c829a467e3804ad4a",
        "IPY_MODEL_fae2c0d64c0e4a65ae8d4c77b535a212"
       ],
       "layout": "IPY_MODEL_b723b27cd18242bfbf778b8ede83f1a4"
      }
     },
     "d18529c558dd408b9a4086cb9ff03ab2": {
      "model_module": "@jupyter-widgets/base",
      "model_module_version": "1.2.0",
      "model_name": "LayoutModel",
      "state": {}
     },
     "d1ad3a4c6b9947bda987f5744bc43686": {
      "model_module": "@jupyter-widgets/base",
      "model_module_version": "1.2.0",
      "model_name": "LayoutModel",
      "state": {}
     },
     "d1c304c6a4d64562962f7b92c3f84ff5": {
      "model_module": "@jupyter-widgets/base",
      "model_module_version": "1.2.0",
      "model_name": "LayoutModel",
      "state": {}
     },
     "d1d520cb4b9945c98aa2b96dc377564d": {
      "model_module": "@jupyter-widgets/controls",
      "model_module_version": "1.5.0",
      "model_name": "HBoxModel",
      "state": {
       "children": [
        "IPY_MODEL_f20d2fdf06104b83b88b998c86f4ec5d",
        "IPY_MODEL_b73720c2ce18489fb73b5df7a3cb5929"
       ],
       "layout": "IPY_MODEL_ea4fff82ebe94d4798ff775165fc0d65"
      }
     },
     "d1e113034bca4fb8995f2eba6005d8e3": {
      "model_module": "@jupyter-widgets/base",
      "model_module_version": "1.2.0",
      "model_name": "LayoutModel",
      "state": {}
     },
     "d206bd8bf5ef498abb2e12f968ddcdc5": {
      "model_module": "@jupyter-widgets/controls",
      "model_module_version": "1.5.0",
      "model_name": "HTMLModel",
      "state": {
       "layout": "IPY_MODEL_a7f970cb57874988b915cae6d6e460d4",
       "style": "IPY_MODEL_14f0cc196678431b85a421f337c0c7f5",
       "value": " 126/90000 [01:16&lt;10:43:41,  2.33it/s]"
      }
     },
     "d20b5f5e1e584e38a795242a2f438f33": {
      "model_module": "@jupyter-widgets/base",
      "model_module_version": "1.2.0",
      "model_name": "LayoutModel",
      "state": {}
     },
     "d20c680a9bee488f9a82a27e8242ccd0": {
      "model_module": "@jupyter-widgets/controls",
      "model_module_version": "1.5.0",
      "model_name": "FloatProgressModel",
      "state": {
       "bar_style": "danger",
       "description": "Valid iteration=4000:   0%",
       "layout": "IPY_MODEL_d3ccdc62943247fa8ef474d501939eba",
       "max": 5000,
       "style": "IPY_MODEL_614bc0fa27464e60b361a1a67ca50f5b"
      }
     },
     "d2494cc0c7fc4226accb5ae2713143d3": {
      "model_module": "@jupyter-widgets/controls",
      "model_module_version": "1.5.0",
      "model_name": "ProgressStyleModel",
      "state": {
       "description_width": "initial"
      }
     },
     "d2763fcc9ac6496c8514fec50542e203": {
      "model_module": "@jupyter-widgets/controls",
      "model_module_version": "1.5.0",
      "model_name": "HBoxModel",
      "state": {
       "children": [
        "IPY_MODEL_e99169809e7548a9838f0ed339ae752d",
        "IPY_MODEL_e011381ed0024ae1be2a482657972370"
       ],
       "layout": "IPY_MODEL_ede61d5931d94c8690c64b5bc2ff7fe3"
      }
     },
     "d27ec7969c7b47378610bc339dad24b9": {
      "model_module": "@jupyter-widgets/controls",
      "model_module_version": "1.5.0",
      "model_name": "DescriptionStyleModel",
      "state": {
       "description_width": ""
      }
     },
     "d2c260f8c6284733b8cdbe585fab04e1": {
      "model_module": "@jupyter-widgets/controls",
      "model_module_version": "1.5.0",
      "model_name": "ProgressStyleModel",
      "state": {
       "description_width": "initial"
      }
     },
     "d2ca28dc8eab4344b00b9eac329e6be3": {
      "model_module": "@jupyter-widgets/controls",
      "model_module_version": "1.5.0",
      "model_name": "FloatProgressModel",
      "state": {
       "bar_style": "danger",
       "description": "Valid iteration=0:   0%",
       "layout": "IPY_MODEL_4f3d1f4466314fad8a897c3ee5826c10",
       "max": 10000,
       "style": "IPY_MODEL_bef2fa4b5c2c4f789c1561fc6b76da74"
      }
     },
     "d2e3c38e05be4fa99ff1c0c0bd2470af": {
      "model_module": "@jupyter-widgets/base",
      "model_module_version": "1.2.0",
      "model_name": "LayoutModel",
      "state": {}
     },
     "d305ba024c84433cb96d3a4470b60ff4": {
      "model_module": "@jupyter-widgets/controls",
      "model_module_version": "1.5.0",
      "model_name": "FloatProgressModel",
      "state": {
       "bar_style": "danger",
       "description": "Train:   0%",
       "layout": "IPY_MODEL_ddb45f70cf5e4e3e88b7af9161c75fdc",
       "max": 12,
       "style": "IPY_MODEL_8882f41605cb4fedaf2b89d07e8814eb"
      }
     },
     "d307193fe30a495a9be4b04c53362c3c": {
      "model_module": "@jupyter-widgets/base",
      "model_module_version": "1.2.0",
      "model_name": "LayoutModel",
      "state": {}
     },
     "d3087c58dd1046ecbac67cd1f2a6b050": {
      "model_module": "@jupyter-widgets/controls",
      "model_module_version": "1.5.0",
      "model_name": "HTMLModel",
      "state": {
       "layout": "IPY_MODEL_c588cabf49f243fbadc0503e831271ce",
       "style": "IPY_MODEL_4aaacd2a6fd6443a9d804512c4540ffa",
       "value": " 0/12 [09:01&lt;?, ?it/s]"
      }
     },
     "d30c0733e93242dbbaa3420f2d25bc13": {
      "model_module": "@jupyter-widgets/controls",
      "model_module_version": "1.5.0",
      "model_name": "DescriptionStyleModel",
      "state": {
       "description_width": ""
      }
     },
     "d30e31076d974961b822bb7d6abe450b": {
      "model_module": "@jupyter-widgets/controls",
      "model_module_version": "1.5.0",
      "model_name": "DescriptionStyleModel",
      "state": {
       "description_width": ""
      }
     },
     "d32863e9bdac4fc3a2b85e42b436d044": {
      "model_module": "@jupyter-widgets/base",
      "model_module_version": "1.2.0",
      "model_name": "LayoutModel",
      "state": {}
     },
     "d332801bf97341beba35295abe0eb882": {
      "model_module": "@jupyter-widgets/base",
      "model_module_version": "1.2.0",
      "model_name": "LayoutModel",
      "state": {}
     },
     "d332d9b37bed4e30885496372cf8bb2b": {
      "model_module": "@jupyter-widgets/controls",
      "model_module_version": "1.5.0",
      "model_name": "HTMLModel",
      "state": {
       "layout": "IPY_MODEL_3823877f6fd2490a9323ff9ad2dd6039",
       "style": "IPY_MODEL_08c947d1285542c58dbbf1d4e64a2b51",
       "value": " 0/5000 [11:45&lt;?, ?it/s]"
      }
     },
     "d33b47f8e0df4588b01afb09843ef82c": {
      "model_module": "@jupyter-widgets/controls",
      "model_module_version": "1.5.0",
      "model_name": "HTMLModel",
      "state": {
       "layout": "IPY_MODEL_7ce90e7b1081485fbbdca98a53a0ae7c",
       "style": "IPY_MODEL_9fae4cb14748431685df257209b9a143",
       "value": " 0/90000 [00:55&lt;?, ?it/s]"
      }
     },
     "d3450e6b9b40407e805455295e1a96f7": {
      "model_module": "@jupyter-widgets/controls",
      "model_module_version": "1.5.0",
      "model_name": "DescriptionStyleModel",
      "state": {
       "description_width": ""
      }
     },
     "d36f6c8da8394e18abdd1768eee3d707": {
      "model_module": "@jupyter-widgets/base",
      "model_module_version": "1.2.0",
      "model_name": "LayoutModel",
      "state": {}
     },
     "d388250511154a298c54b942bb9dd09f": {
      "model_module": "@jupyter-widgets/base",
      "model_module_version": "1.2.0",
      "model_name": "LayoutModel",
      "state": {}
     },
     "d3910de1384346379fc257d469b71810": {
      "model_module": "@jupyter-widgets/base",
      "model_module_version": "1.2.0",
      "model_name": "LayoutModel",
      "state": {}
     },
     "d3ccdc62943247fa8ef474d501939eba": {
      "model_module": "@jupyter-widgets/base",
      "model_module_version": "1.2.0",
      "model_name": "LayoutModel",
      "state": {}
     },
     "d3d66f0c6b7c48e8823a21ede0151bda": {
      "model_module": "@jupyter-widgets/controls",
      "model_module_version": "1.5.0",
      "model_name": "HTMLModel",
      "state": {
       "layout": "IPY_MODEL_5660d37bc7314f6eb2593a4ad8db2997",
       "style": "IPY_MODEL_96a7668d0edd49d38b5acc65fd2056a7",
       "value": " 0/12 [01:08&lt;?, ?it/s]"
      }
     },
     "d42529e9e57b441688f6e8468974916c": {
      "model_module": "@jupyter-widgets/controls",
      "model_module_version": "1.5.0",
      "model_name": "FloatProgressModel",
      "state": {
       "bar_style": "danger",
       "description": "Train epoch=0:   0%",
       "layout": "IPY_MODEL_c73272dbe31742868b8e0b756ce57b7c",
       "max": 90000,
       "style": "IPY_MODEL_ce009a0cfee346d2a179c317bca8dbc8",
       "value": 181
      }
     },
     "d435ba4c1fee4a93841c4a30c6f7860d": {
      "model_module": "@jupyter-widgets/base",
      "model_module_version": "1.2.0",
      "model_name": "LayoutModel",
      "state": {}
     },
     "d43ce5cfca8f4104bbc0dc6a07b5c5c0": {
      "model_module": "@jupyter-widgets/controls",
      "model_module_version": "1.5.0",
      "model_name": "HTMLModel",
      "state": {
       "layout": "IPY_MODEL_1d1de2df125f4a44aedab3d9cea631e9",
       "style": "IPY_MODEL_45ce992b704b46e69c1d8db26e44238a",
       "value": " 5/45000 [00:11&lt;14:36:47,  1.17s/it]"
      }
     },
     "d447e803891f4f8586a80bb16dad7e19": {
      "model_module": "@jupyter-widgets/controls",
      "model_module_version": "1.5.0",
      "model_name": "DescriptionStyleModel",
      "state": {
       "description_width": ""
      }
     },
     "d4500feee5f04478b0c11c01eeabc17a": {
      "model_module": "@jupyter-widgets/base",
      "model_module_version": "1.2.0",
      "model_name": "LayoutModel",
      "state": {}
     },
     "d47609538cdc4d45b5947be208617347": {
      "model_module": "@jupyter-widgets/base",
      "model_module_version": "1.2.0",
      "model_name": "LayoutModel",
      "state": {}
     },
     "d48b70ca4f3c4b1fb2531457cbc619c0": {
      "model_module": "@jupyter-widgets/controls",
      "model_module_version": "1.5.0",
      "model_name": "FloatProgressModel",
      "state": {
       "bar_style": "danger",
       "description": "Train epoch=0:   0%",
       "layout": "IPY_MODEL_6d65350914744890bbd1c900965c53ba",
       "max": 90000,
       "style": "IPY_MODEL_31bb9f40f3664d4ba4db7b0f61a12ab4"
      }
     },
     "d4c65d8f2b774c43ab28535515048981": {
      "model_module": "@jupyter-widgets/controls",
      "model_module_version": "1.5.0",
      "model_name": "HBoxModel",
      "state": {
       "children": [
        "IPY_MODEL_179183711e4a44dabfd80fcffde37b14",
        "IPY_MODEL_e9ffa9cbc74b435a84acb81101bd7332"
       ],
       "layout": "IPY_MODEL_3a58f2029fbc4f04bd988ccbb518c7b8"
      }
     },
     "d4d77f7f1cb8431a982d55ed0fda7211": {
      "model_module": "@jupyter-widgets/controls",
      "model_module_version": "1.5.0",
      "model_name": "DescriptionStyleModel",
      "state": {
       "description_width": ""
      }
     },
     "d507924524824b1c8abfc525d46a94ee": {
      "model_module": "@jupyter-widgets/controls",
      "model_module_version": "1.5.0",
      "model_name": "ProgressStyleModel",
      "state": {
       "description_width": "initial"
      }
     },
     "d53002b8ee9a4f8dabfb00afead9d308": {
      "model_module": "@jupyter-widgets/base",
      "model_module_version": "1.2.0",
      "model_name": "LayoutModel",
      "state": {}
     },
     "d53bd9103c584124ae608a4d5ef72150": {
      "model_module": "@jupyter-widgets/controls",
      "model_module_version": "1.5.0",
      "model_name": "DescriptionStyleModel",
      "state": {
       "description_width": ""
      }
     },
     "d559714d73f347609f3be7ef716ffc2e": {
      "model_module": "@jupyter-widgets/controls",
      "model_module_version": "1.5.0",
      "model_name": "FloatProgressModel",
      "state": {
       "bar_style": "danger",
       "description": "Train:   0%",
       "layout": "IPY_MODEL_f92f264bfd124d54bd0923cbbfda27eb",
       "max": 23,
       "style": "IPY_MODEL_29d59f83ad5447d4a5d9829328cee093"
      }
     },
     "d58089c51c79490d9beda63413b84ea0": {
      "model_module": "@jupyter-widgets/controls",
      "model_module_version": "1.5.0",
      "model_name": "HTMLModel",
      "state": {
       "layout": "IPY_MODEL_6a52a9d11de74ed7b891c28aa4b9c8de",
       "style": "IPY_MODEL_189b49f9657f4c59bc8afc45f97933b8",
       "value": " 0/10000 [00:01&lt;?, ?it/s]"
      }
     },
     "d586ba3ffdd74787a68dd50e553df2bf": {
      "model_module": "@jupyter-widgets/base",
      "model_module_version": "1.2.0",
      "model_name": "LayoutModel",
      "state": {}
     },
     "d597ea98d9ac4bf48006938d6fc47c7c": {
      "model_module": "@jupyter-widgets/base",
      "model_module_version": "1.2.0",
      "model_name": "LayoutModel",
      "state": {}
     },
     "d59f6dd449014ffcae888e0121618fda": {
      "model_module": "@jupyter-widgets/controls",
      "model_module_version": "1.5.0",
      "model_name": "ProgressStyleModel",
      "state": {
       "description_width": "initial"
      }
     },
     "d5a4815ab876481c995d89361d173853": {
      "model_module": "@jupyter-widgets/base",
      "model_module_version": "1.2.0",
      "model_name": "LayoutModel",
      "state": {}
     },
     "d5b1d6afcbc946bfb921df8db5861c79": {
      "model_module": "@jupyter-widgets/base",
      "model_module_version": "1.2.0",
      "model_name": "LayoutModel",
      "state": {}
     },
     "d5d497328c644c87a64e264040b9e559": {
      "model_module": "@jupyter-widgets/base",
      "model_module_version": "1.2.0",
      "model_name": "LayoutModel",
      "state": {}
     },
     "d5d8aa9306994b4a928d5aa6d71da4f1": {
      "model_module": "@jupyter-widgets/base",
      "model_module_version": "1.2.0",
      "model_name": "LayoutModel",
      "state": {}
     },
     "d5ece7637a7c40a390f7e62d5f0ad3d4": {
      "model_module": "@jupyter-widgets/controls",
      "model_module_version": "1.5.0",
      "model_name": "FloatProgressModel",
      "state": {
       "bar_style": "danger",
       "description": "Train:   0%",
       "layout": "IPY_MODEL_7830e683a9154ebeb08688b0bbdf169a",
       "max": 12,
       "style": "IPY_MODEL_e256f1d4c71e48f98a7c5b0b052023d8"
      }
     },
     "d5f11b49e3334cfb80706269efaa457a": {
      "model_module": "@jupyter-widgets/controls",
      "model_module_version": "1.5.0",
      "model_name": "HTMLModel",
      "state": {
       "layout": "IPY_MODEL_7c6c5423ab5749faa3500b37ee378894",
       "style": "IPY_MODEL_cbd54a207ea646c09220977348234a37",
       "value": " 35/90000 [00:18&lt;9:55:22,  2.52it/s]"
      }
     },
     "d5f5f4892d044a95b643873f122211ba": {
      "model_module": "@jupyter-widgets/controls",
      "model_module_version": "1.5.0",
      "model_name": "ProgressStyleModel",
      "state": {
       "description_width": "initial"
      }
     },
     "d602217a032644c78c9b014996a29b84": {
      "model_module": "@jupyter-widgets/base",
      "model_module_version": "1.2.0",
      "model_name": "LayoutModel",
      "state": {}
     },
     "d606439e5c2544b18fa379045e3f34de": {
      "model_module": "@jupyter-widgets/controls",
      "model_module_version": "1.5.0",
      "model_name": "HBoxModel",
      "state": {
       "children": [
        "IPY_MODEL_b1295af32e5544b9bfd38f5259fbd36d",
        "IPY_MODEL_ba6198e3ceed441ebc76b649df887c45"
       ],
       "layout": "IPY_MODEL_5942f9887f074eb393ce60d6a4ee0254"
      }
     },
     "d61b3c1188b3460ab837b396c819a4bf": {
      "model_module": "@jupyter-widgets/controls",
      "model_module_version": "1.5.0",
      "model_name": "HBoxModel",
      "state": {
       "children": [
        "IPY_MODEL_0e2b2b4b3dce42caa706d600cda29d7f",
        "IPY_MODEL_0ebe617bf0814356b3526cdb5aa2b936"
       ],
       "layout": "IPY_MODEL_f1dad840efef4335ab34078fdaaa9178"
      }
     },
     "d61efeae8ea94567b002cda27b0527c4": {
      "model_module": "@jupyter-widgets/controls",
      "model_module_version": "1.5.0",
      "model_name": "ProgressStyleModel",
      "state": {
       "description_width": "initial"
      }
     },
     "d62d607377c04ce9bd4fd7b9a5f01693": {
      "model_module": "@jupyter-widgets/controls",
      "model_module_version": "1.5.0",
      "model_name": "HTMLModel",
      "state": {
       "layout": "IPY_MODEL_d4500feee5f04478b0c11c01eeabc17a",
       "style": "IPY_MODEL_bd376bdd11334836ba007512ec6a3a6f",
       "value": " 0/12 [07:06&lt;?, ?it/s]"
      }
     },
     "d650e2dd4256472b87ae51b975eb889c": {
      "model_module": "@jupyter-widgets/controls",
      "model_module_version": "1.5.0",
      "model_name": "FloatProgressModel",
      "state": {
       "bar_style": "danger",
       "description": "Train:   0%",
       "layout": "IPY_MODEL_e86eda7886024848849c08748e3d4f4e",
       "max": 12,
       "style": "IPY_MODEL_58e19f828b944ad598ed086fb59804c0"
      }
     },
     "d65b59fce8af4e1fa4fdcf130f7c434c": {
      "model_module": "@jupyter-widgets/controls",
      "model_module_version": "1.5.0",
      "model_name": "HBoxModel",
      "state": {
       "children": [
        "IPY_MODEL_1549aef7cd984a1d9857b0181d61cdec",
        "IPY_MODEL_f6ecfbbf25eb4696b059a03f14c0b177"
       ],
       "layout": "IPY_MODEL_bde343f1f3b64fe99a7d3ecb02bfef9d"
      }
     },
     "d66116de6b224974840584677f2b9bdb": {
      "model_module": "@jupyter-widgets/controls",
      "model_module_version": "1.5.0",
      "model_name": "HTMLModel",
      "state": {
       "layout": "IPY_MODEL_2679785ac2c9415c861ff178c7854bcc",
       "style": "IPY_MODEL_b7cf829a50304d4e9d2e57158377e722",
       "value": " 0/10000 [00:01&lt;?, ?it/s]"
      }
     },
     "d698fbd99f974ef4b7a41937b5484eab": {
      "model_module": "@jupyter-widgets/base",
      "model_module_version": "1.2.0",
      "model_name": "LayoutModel",
      "state": {}
     },
     "d69a961e112c466b8ece6bf46f281412": {
      "model_module": "@jupyter-widgets/controls",
      "model_module_version": "1.5.0",
      "model_name": "HTMLModel",
      "state": {
       "layout": "IPY_MODEL_df0acff682e84bf78deb4e4814db1b9f",
       "style": "IPY_MODEL_bc1f0f15587848a982628bfecf209298",
       "value": " 0/5000 [35:52&lt;?, ?it/s]"
      }
     },
     "d6a3ccafa7b14a6e92592a58357a524a": {
      "model_module": "@jupyter-widgets/controls",
      "model_module_version": "1.5.0",
      "model_name": "HTMLModel",
      "state": {
       "layout": "IPY_MODEL_0ef548e6da644b73a7ad748b4d4b0b51",
       "style": "IPY_MODEL_213c574e18bc45b58b3a75d9a41aeed2",
       "value": " 1033/90000 [00:37&lt;51:48, 28.62it/s]"
      }
     },
     "d6a74cc287dd42aa90448a69c729209e": {
      "model_module": "@jupyter-widgets/controls",
      "model_module_version": "1.5.0",
      "model_name": "HBoxModel",
      "state": {
       "children": [
        "IPY_MODEL_09b5293acc484ff4bb172798872d481d",
        "IPY_MODEL_622589d1f57847939bb9401bb7501708"
       ],
       "layout": "IPY_MODEL_54af1979a78645f7901f85fabf424e30"
      }
     },
     "d6a7c4273e414cbf86a8fdb67b2c899c": {
      "model_module": "@jupyter-widgets/controls",
      "model_module_version": "1.5.0",
      "model_name": "HBoxModel",
      "state": {
       "children": [
        "IPY_MODEL_d20c680a9bee488f9a82a27e8242ccd0",
        "IPY_MODEL_4e2f59d9c3004550a19de2d05f50536b"
       ],
       "layout": "IPY_MODEL_d7946b0caa014f618a9f0e7db87fdbe7"
      }
     },
     "d6b230b3308446e5902d89ced1995f00": {
      "model_module": "@jupyter-widgets/controls",
      "model_module_version": "1.5.0",
      "model_name": "DescriptionStyleModel",
      "state": {
       "description_width": ""
      }
     },
     "d6d28f41e9004d93bf00d059b15bd96d": {
      "model_module": "@jupyter-widgets/base",
      "model_module_version": "1.2.0",
      "model_name": "LayoutModel",
      "state": {}
     },
     "d6dcf9f30b114ccaa5a2bd9b5186fd52": {
      "model_module": "@jupyter-widgets/base",
      "model_module_version": "1.2.0",
      "model_name": "LayoutModel",
      "state": {}
     },
     "d6e3efd232014222adc5b8a328100b56": {
      "model_module": "@jupyter-widgets/controls",
      "model_module_version": "1.5.0",
      "model_name": "FloatProgressModel",
      "state": {
       "bar_style": "danger",
       "description": "Train:   0%",
       "layout": "IPY_MODEL_d05b5afe1fdd4ea1a87fd8740bea466a",
       "max": 23,
       "style": "IPY_MODEL_c4bba488071440e7b1330bca4b4eb300"
      }
     },
     "d6e56cd019834ddfb96ff568a13f2071": {
      "model_module": "@jupyter-widgets/base",
      "model_module_version": "1.2.0",
      "model_name": "LayoutModel",
      "state": {}
     },
     "d722ac1d6ede4de0a468b1dd0265cb4b": {
      "model_module": "@jupyter-widgets/base",
      "model_module_version": "1.2.0",
      "model_name": "LayoutModel",
      "state": {}
     },
     "d7239b78eb484c2db19c87351d047b5e": {
      "model_module": "@jupyter-widgets/controls",
      "model_module_version": "1.5.0",
      "model_name": "DescriptionStyleModel",
      "state": {
       "description_width": ""
      }
     },
     "d728012c99404a50ae1315948023984e": {
      "model_module": "@jupyter-widgets/base",
      "model_module_version": "1.2.0",
      "model_name": "LayoutModel",
      "state": {}
     },
     "d7424fc42014426898db1d84111dbac8": {
      "model_module": "@jupyter-widgets/base",
      "model_module_version": "1.2.0",
      "model_name": "LayoutModel",
      "state": {}
     },
     "d7480360068547d1a204d6e37231f3fe": {
      "model_module": "@jupyter-widgets/controls",
      "model_module_version": "1.5.0",
      "model_name": "FloatProgressModel",
      "state": {
       "bar_style": "danger",
       "description": "Valid iteration=10000:   0%",
       "layout": "IPY_MODEL_806d50b96a0c41349e1292a8fe854a0d",
       "max": 10000,
       "style": "IPY_MODEL_2824267041254f2bb31b399ded7580df"
      }
     },
     "d76021de1c6e42cf9e04fccbe8d147dc": {
      "model_module": "@jupyter-widgets/controls",
      "model_module_version": "1.5.0",
      "model_name": "HTMLModel",
      "state": {
       "layout": "IPY_MODEL_0478024bb3884e59827ccc59bf009fae",
       "style": "IPY_MODEL_040d098e497148e9bcdc6acd021df030",
       "value": " 0/10000 [01:30&lt;?, ?it/s]"
      }
     },
     "d78a7ce4d51d4929aaca2f39d97f5788": {
      "model_module": "@jupyter-widgets/controls",
      "model_module_version": "1.5.0",
      "model_name": "FloatProgressModel",
      "state": {
       "bar_style": "danger",
       "description": "Train epoch=0:   0%",
       "layout": "IPY_MODEL_677ac3f6e59e4c97bed64aba1317f98f",
       "max": 90000,
       "style": "IPY_MODEL_02dee6686ed04e6688f0e3ef6474f590",
       "value": 218
      }
     },
     "d7946b0caa014f618a9f0e7db87fdbe7": {
      "model_module": "@jupyter-widgets/base",
      "model_module_version": "1.2.0",
      "model_name": "LayoutModel",
      "state": {}
     },
     "d7aaafd4fd884e49bd97114e2f2b5d2e": {
      "model_module": "@jupyter-widgets/controls",
      "model_module_version": "1.5.0",
      "model_name": "HTMLModel",
      "state": {
       "layout": "IPY_MODEL_2de6d10330dd4f9f8ae5dab9edf93bca",
       "style": "IPY_MODEL_a767272fae864479b27798e7bf44a373",
       "value": " 0/5000 [00:01&lt;?, ?it/s]"
      }
     },
     "d7e6479631644e4195d9ed6b618b8869": {
      "model_module": "@jupyter-widgets/controls",
      "model_module_version": "1.5.0",
      "model_name": "ProgressStyleModel",
      "state": {
       "description_width": "initial"
      }
     },
     "d7eb8b77f2de41be93d4dfeb5f00b410": {
      "model_module": "@jupyter-widgets/controls",
      "model_module_version": "1.5.0",
      "model_name": "HTMLModel",
      "state": {
       "layout": "IPY_MODEL_35fa36776ed34e2894e44e2db6a8965b",
       "style": "IPY_MODEL_47dde2f9c4714c86888f31bd681f0e92",
       "value": " 0/12 [00:28&lt;?, ?it/s]"
      }
     },
     "d8204c52efee4f8b8674d340056aa8d8": {
      "model_module": "@jupyter-widgets/controls",
      "model_module_version": "1.5.0",
      "model_name": "FloatProgressModel",
      "state": {
       "bar_style": "danger",
       "description": "Train epoch=0:   0%",
       "layout": "IPY_MODEL_68512373f1584b178fecb2ac9260ff08",
       "max": 90000,
       "style": "IPY_MODEL_6e6689885849436887066fa05069aedf"
      }
     },
     "d84ea1cd66214ad19aa265661853c8b1": {
      "model_module": "@jupyter-widgets/base",
      "model_module_version": "1.2.0",
      "model_name": "LayoutModel",
      "state": {}
     },
     "d84fda1fb8784db084388cd72b76d1c3": {
      "model_module": "@jupyter-widgets/base",
      "model_module_version": "1.2.0",
      "model_name": "LayoutModel",
      "state": {}
     },
     "d8629375f80148f0a92748c8dceb076b": {
      "model_module": "@jupyter-widgets/base",
      "model_module_version": "1.2.0",
      "model_name": "LayoutModel",
      "state": {}
     },
     "d88e87fd60c44a0ba00deba5b455be0e": {
      "model_module": "@jupyter-widgets/controls",
      "model_module_version": "1.5.0",
      "model_name": "ProgressStyleModel",
      "state": {
       "description_width": "initial"
      }
     },
     "d8948d2cbc0543b18247fe867dc5bd0b": {
      "model_module": "@jupyter-widgets/base",
      "model_module_version": "1.2.0",
      "model_name": "LayoutModel",
      "state": {}
     },
     "d895e47a6e584489bfafcc081e9952ca": {
      "model_module": "@jupyter-widgets/controls",
      "model_module_version": "1.5.0",
      "model_name": "HBoxModel",
      "state": {
       "children": [
        "IPY_MODEL_720657d9d1f54d1383fa97c3c4718d2c",
        "IPY_MODEL_fc29b62c4f954bd887744f703e25c182"
       ],
       "layout": "IPY_MODEL_71e39e1b7755424fbec107ffe3a703ce"
      }
     },
     "d896f24549364cdbba4907f8bab65d35": {
      "model_module": "@jupyter-widgets/base",
      "model_module_version": "1.2.0",
      "model_name": "LayoutModel",
      "state": {}
     },
     "d8d48a60ac3f4a1aa5818873c557a1a9": {
      "model_module": "@jupyter-widgets/controls",
      "model_module_version": "1.5.0",
      "model_name": "ProgressStyleModel",
      "state": {
       "description_width": "initial"
      }
     },
     "d8fb88f4869c481ca9774bd8a99e393d": {
      "model_module": "@jupyter-widgets/base",
      "model_module_version": "1.2.0",
      "model_name": "LayoutModel",
      "state": {}
     },
     "d901e3bdcee8499881267f18097e8c5a": {
      "model_module": "@jupyter-widgets/controls",
      "model_module_version": "1.5.0",
      "model_name": "HTMLModel",
      "state": {
       "layout": "IPY_MODEL_54d53286cda546439b70ab5402c90fb3",
       "style": "IPY_MODEL_d53bd9103c584124ae608a4d5ef72150",
       "value": " 0/10000 [00:01&lt;?, ?it/s]"
      }
     },
     "d93ceb8bb01d42e3aadd91ca7ec004a3": {
      "model_module": "@jupyter-widgets/controls",
      "model_module_version": "1.5.0",
      "model_name": "HTMLModel",
      "state": {
       "layout": "IPY_MODEL_9899fb863ca7463298ea130ff9544ade",
       "style": "IPY_MODEL_556e7f675e4141569d410efd889677ad",
       "value": " 0/5000 [00:20&lt;?, ?it/s]"
      }
     },
     "d948732941504b2ea18d077becbfc1b0": {
      "model_module": "@jupyter-widgets/controls",
      "model_module_version": "1.5.0",
      "model_name": "ProgressStyleModel",
      "state": {
       "description_width": "initial"
      }
     },
     "d94d16cef518406ca3e733bc8a5b03f0": {
      "model_module": "@jupyter-widgets/controls",
      "model_module_version": "1.5.0",
      "model_name": "HBoxModel",
      "state": {
       "children": [
        "IPY_MODEL_b947821652604f28b6e8817191a1acd7",
        "IPY_MODEL_2a85a7d4e6394405825786eeabc86dbf"
       ],
       "layout": "IPY_MODEL_f9b05fd83289446f931e210e8311bedc"
      }
     },
     "d958c658c19c48cab23551d06e29a96a": {
      "model_module": "@jupyter-widgets/controls",
      "model_module_version": "1.5.0",
      "model_name": "DescriptionStyleModel",
      "state": {
       "description_width": ""
      }
     },
     "d95ce962a2d144c1a1963e0ebaec8975": {
      "model_module": "@jupyter-widgets/base",
      "model_module_version": "1.2.0",
      "model_name": "LayoutModel",
      "state": {}
     },
     "d95da2b1d4a24ca3adef0790ff7fecc9": {
      "model_module": "@jupyter-widgets/base",
      "model_module_version": "1.2.0",
      "model_name": "LayoutModel",
      "state": {}
     },
     "d9607618cb0e42949a0149393af38105": {
      "model_module": "@jupyter-widgets/base",
      "model_module_version": "1.2.0",
      "model_name": "LayoutModel",
      "state": {}
     },
     "d98d574bfd9347d3b8364fbf302f8085": {
      "model_module": "@jupyter-widgets/base",
      "model_module_version": "1.2.0",
      "model_name": "LayoutModel",
      "state": {}
     },
     "d993811555b8435ba23b1fcd409405c2": {
      "model_module": "@jupyter-widgets/controls",
      "model_module_version": "1.5.0",
      "model_name": "ProgressStyleModel",
      "state": {
       "description_width": "initial"
      }
     },
     "d9ac92ca12a648008e2c843a48e64746": {
      "model_module": "@jupyter-widgets/controls",
      "model_module_version": "1.5.0",
      "model_name": "HTMLModel",
      "state": {
       "layout": "IPY_MODEL_c404170dbb134f9aad9cc8c27678db73",
       "style": "IPY_MODEL_11e2a55cead340bd900a56809b8159df",
       "value": " 4175/45000 [29:40&lt;4:36:45,  2.46it/s]"
      }
     },
     "d9b5ac125f994256b1a7081980a928dd": {
      "model_module": "@jupyter-widgets/controls",
      "model_module_version": "1.5.0",
      "model_name": "DescriptionStyleModel",
      "state": {
       "description_width": ""
      }
     },
     "d9e71f7c504f4347b7ba2e2aad681c52": {
      "model_module": "@jupyter-widgets/controls",
      "model_module_version": "1.5.0",
      "model_name": "FloatProgressModel",
      "state": {
       "bar_style": "danger",
       "description": "Valid iteration=0:   0%",
       "layout": "IPY_MODEL_45c49c0424a047ecbb238ff9a7ba3368",
       "max": 5000,
       "style": "IPY_MODEL_2a6341799dd44559bbf3b2ae6b390f06"
      }
     },
     "d9f2d7192636422ca15647216205d8ca": {
      "model_module": "@jupyter-widgets/controls",
      "model_module_version": "1.5.0",
      "model_name": "HTMLModel",
      "state": {
       "layout": "IPY_MODEL_9f209948748848a88a96c95967806353",
       "style": "IPY_MODEL_93a4318f506743fa9d1dab3dd7e67619",
       "value": " 1/90000 [00:36&lt;61:57:30,  2.48s/it]"
      }
     },
     "d9f402ad64374427978d96c392077db5": {
      "model_module": "@jupyter-widgets/base",
      "model_module_version": "1.2.0",
      "model_name": "LayoutModel",
      "state": {}
     },
     "da074e8ba0624eeb82e95d7c091196fd": {
      "model_module": "@jupyter-widgets/base",
      "model_module_version": "1.2.0",
      "model_name": "LayoutModel",
      "state": {}
     },
     "da1bd440b53f425180bddcddc6ca8a4f": {
      "model_module": "@jupyter-widgets/controls",
      "model_module_version": "1.5.0",
      "model_name": "HTMLModel",
      "state": {
       "layout": "IPY_MODEL_8d1b49bc7f884b9daebcd1ec0a99c3cf",
       "style": "IPY_MODEL_321ecc4a6e8d4113b31d45c91ff1b8e4",
       "value": " 0/5000 [26:51&lt;?, ?it/s]"
      }
     },
     "da9ef0efa4d1453298dd54774f5d8285": {
      "model_module": "@jupyter-widgets/controls",
      "model_module_version": "1.5.0",
      "model_name": "HTMLModel",
      "state": {
       "layout": "IPY_MODEL_92cc54b7338045f3992d9950d15405ae",
       "style": "IPY_MODEL_097dff445f3d4d2989bb273b0cf5b44f",
       "value": " 0/5000 [04:46&lt;?, ?it/s]"
      }
     },
     "daa1d3b5494c4f69bece5cfa10b3e830": {
      "model_module": "@jupyter-widgets/base",
      "model_module_version": "1.2.0",
      "model_name": "LayoutModel",
      "state": {}
     },
     "daa827a58013421d9378fd106a18a49f": {
      "model_module": "@jupyter-widgets/controls",
      "model_module_version": "1.5.0",
      "model_name": "HTMLModel",
      "state": {
       "layout": "IPY_MODEL_2e027122f5d2489da6803cc7b218be1d",
       "style": "IPY_MODEL_178e6e99d60a4857a6069eb6d5208187",
       "value": " 878/45000 [03:38&lt;3:39:00,  3.36it/s]"
      }
     },
     "daac929c8f574779898e4689e86174ea": {
      "model_module": "@jupyter-widgets/controls",
      "model_module_version": "1.5.0",
      "model_name": "ProgressStyleModel",
      "state": {
       "description_width": "initial"
      }
     },
     "daadf4e5a19f4c379773ad9bb4879c69": {
      "model_module": "@jupyter-widgets/base",
      "model_module_version": "1.2.0",
      "model_name": "LayoutModel",
      "state": {}
     },
     "dac004a5e56f4201b716849aa5e77f1f": {
      "model_module": "@jupyter-widgets/base",
      "model_module_version": "1.2.0",
      "model_name": "LayoutModel",
      "state": {}
     },
     "dac3af3a5d5b47038de60b5c1f687aeb": {
      "model_module": "@jupyter-widgets/controls",
      "model_module_version": "1.5.0",
      "model_name": "FloatProgressModel",
      "state": {
       "bar_style": "danger",
       "description": "Train:   0%",
       "layout": "IPY_MODEL_883830610c024ff7b604bf9cc497ed79",
       "max": 12,
       "style": "IPY_MODEL_e5356fb841fd4ac2b59ccf537c5c6e2d"
      }
     },
     "dac95c0907cd48bc943b770376104c8e": {
      "model_module": "@jupyter-widgets/controls",
      "model_module_version": "1.5.0",
      "model_name": "FloatProgressModel",
      "state": {
       "bar_style": "danger",
       "description": "Valid iteration=0:   0%",
       "layout": "IPY_MODEL_29f9be63641847b8b38bf352ce0ef9ef",
       "max": 10000,
       "style": "IPY_MODEL_080d00b3432543ee960c0f9b3d7a8d0e"
      }
     },
     "db01c671b5fd4099a0f99fda1a91013d": {
      "model_module": "@jupyter-widgets/base",
      "model_module_version": "1.2.0",
      "model_name": "LayoutModel",
      "state": {}
     },
     "db0fe629dd364ac1aaa875ff1da52f19": {
      "model_module": "@jupyter-widgets/base",
      "model_module_version": "1.2.0",
      "model_name": "LayoutModel",
      "state": {}
     },
     "db2ed4eb305d4d94b5f8292d694893ea": {
      "model_module": "@jupyter-widgets/controls",
      "model_module_version": "1.5.0",
      "model_name": "DescriptionStyleModel",
      "state": {
       "description_width": ""
      }
     },
     "db4a8d6456894312a59880c27604926b": {
      "model_module": "@jupyter-widgets/controls",
      "model_module_version": "1.5.0",
      "model_name": "DescriptionStyleModel",
      "state": {
       "description_width": ""
      }
     },
     "db73965b54d8452785f4acfdc44ec9ca": {
      "model_module": "@jupyter-widgets/base",
      "model_module_version": "1.2.0",
      "model_name": "LayoutModel",
      "state": {}
     },
     "db8569a7199843408e46eeac66dc04ff": {
      "model_module": "@jupyter-widgets/controls",
      "model_module_version": "1.5.0",
      "model_name": "HTMLModel",
      "state": {
       "layout": "IPY_MODEL_83af22d4d2d940f2aa8a2c0a85a1fe38",
       "style": "IPY_MODEL_1ce15f28bc4c4caba021fb0723dc3393",
       "value": " 0/5000 [00:34&lt;?, ?it/s]"
      }
     },
     "db889d00557d486693c9be32fab26abd": {
      "model_module": "@jupyter-widgets/controls",
      "model_module_version": "1.5.0",
      "model_name": "ProgressStyleModel",
      "state": {
       "description_width": "initial"
      }
     },
     "db99d70a3fe14643a3f65d89f0f91f85": {
      "model_module": "@jupyter-widgets/base",
      "model_module_version": "1.2.0",
      "model_name": "LayoutModel",
      "state": {}
     },
     "dba83b251a334123bad685d94ca19c9b": {
      "model_module": "@jupyter-widgets/controls",
      "model_module_version": "1.5.0",
      "model_name": "ProgressStyleModel",
      "state": {
       "description_width": "initial"
      }
     },
     "dbbae240c35144c0b9ce076fb5411172": {
      "model_module": "@jupyter-widgets/controls",
      "model_module_version": "1.5.0",
      "model_name": "ProgressStyleModel",
      "state": {
       "description_width": "initial"
      }
     },
     "dbe6717df7d34be8acc9721c31899f56": {
      "model_module": "@jupyter-widgets/controls",
      "model_module_version": "1.5.0",
      "model_name": "FloatProgressModel",
      "state": {
       "bar_style": "danger",
       "description": "Train epoch=0:   0%",
       "layout": "IPY_MODEL_b96a19477e694fbabda622d5947863ac",
       "max": 90000,
       "style": "IPY_MODEL_e4a13bd701d749a79cf9ffbdf4d27db5"
      }
     },
     "dc04b54b349346d1a07a3ee0d83c2aa9": {
      "model_module": "@jupyter-widgets/base",
      "model_module_version": "1.2.0",
      "model_name": "LayoutModel",
      "state": {}
     },
     "dc0aeb0437ed4788a5f912109c383265": {
      "model_module": "@jupyter-widgets/base",
      "model_module_version": "1.2.0",
      "model_name": "LayoutModel",
      "state": {}
     },
     "dc23d3f4f74b463bae37aa19f6084a6d": {
      "model_module": "@jupyter-widgets/controls",
      "model_module_version": "1.5.0",
      "model_name": "HBoxModel",
      "state": {
       "children": [
        "IPY_MODEL_8be232c26c8241dea55806581847a82b",
        "IPY_MODEL_e0ca6176fe6841388dbb92a58b59110c"
       ],
       "layout": "IPY_MODEL_76238e2b606646b997d8bd9e2969b72b"
      }
     },
     "dc23e904dbf74cb19f647d0265521824": {
      "model_module": "@jupyter-widgets/base",
      "model_module_version": "1.2.0",
      "model_name": "LayoutModel",
      "state": {}
     },
     "dc3603c1569b49129e22036c2cd5ca52": {
      "model_module": "@jupyter-widgets/controls",
      "model_module_version": "1.5.0",
      "model_name": "FloatProgressModel",
      "state": {
       "bar_style": "danger",
       "description": "Train epoch=0:   0%",
       "layout": "IPY_MODEL_84121fabf80b45d283be247c5cb3ac94",
       "max": 90000,
       "style": "IPY_MODEL_576bb3af20ea42dea5f098459afcc616"
      }
     },
     "dc560a65ea4745d58f159276684055cf": {
      "model_module": "@jupyter-widgets/controls",
      "model_module_version": "1.5.0",
      "model_name": "FloatProgressModel",
      "state": {
       "bar_style": "danger",
       "description": "Train epoch=0:   0%",
       "layout": "IPY_MODEL_1f079dcc6f2348d2adea8ae2e5f6ed8e",
       "max": 90000,
       "style": "IPY_MODEL_36d4bdcd75194610bd83084d84dc5466",
       "value": 109
      }
     },
     "dc716c7e406e4613b97d92fd5e5584f6": {
      "model_module": "@jupyter-widgets/controls",
      "model_module_version": "1.5.0",
      "model_name": "ProgressStyleModel",
      "state": {
       "description_width": "initial"
      }
     },
     "dc7fa5b79705486fb97e9278919cb079": {
      "model_module": "@jupyter-widgets/controls",
      "model_module_version": "1.5.0",
      "model_name": "HTMLModel",
      "state": {
       "layout": "IPY_MODEL_1d0bcc0a86644bfa9a5d0e6a8373b37b",
       "style": "IPY_MODEL_89e649db21714fc4a1f98b15f95ca03e",
       "value": " 41/90000 [00:20&lt;8:23:17,  2.98it/s]"
      }
     },
     "dc9344093db74b2f8c5c6b550724cb4e": {
      "model_module": "@jupyter-widgets/base",
      "model_module_version": "1.2.0",
      "model_name": "LayoutModel",
      "state": {}
     },
     "dc9a8e89039c4989b0c411cdb480a95c": {
      "model_module": "@jupyter-widgets/base",
      "model_module_version": "1.2.0",
      "model_name": "LayoutModel",
      "state": {}
     },
     "dc9d0827b97d4638a78f5ce8d5bd1990": {
      "model_module": "@jupyter-widgets/base",
      "model_module_version": "1.2.0",
      "model_name": "LayoutModel",
      "state": {}
     },
     "dc9eee7651f4468588a74cec93534844": {
      "model_module": "@jupyter-widgets/controls",
      "model_module_version": "1.5.0",
      "model_name": "DescriptionStyleModel",
      "state": {
       "description_width": ""
      }
     },
     "dca909b72ec545bd83f6e8e5d003f2c6": {
      "model_module": "@jupyter-widgets/base",
      "model_module_version": "1.2.0",
      "model_name": "LayoutModel",
      "state": {}
     },
     "dcc784bf1d284a0088091df3b4395f87": {
      "model_module": "@jupyter-widgets/controls",
      "model_module_version": "1.5.0",
      "model_name": "FloatProgressModel",
      "state": {
       "bar_style": "danger",
       "description": "Train epoch=0:   0%",
       "layout": "IPY_MODEL_1aeaa5612bb3422297548194a89ebb5c",
       "max": 90000,
       "style": "IPY_MODEL_f5aa749569f04246beff7556dacc49e6"
      }
     },
     "dccf1e47899a4eb3b45a564194e0c8d8": {
      "model_module": "@jupyter-widgets/base",
      "model_module_version": "1.2.0",
      "model_name": "LayoutModel",
      "state": {}
     },
     "dccffd4ac56f44fab5d7396bd1afcf05": {
      "model_module": "@jupyter-widgets/controls",
      "model_module_version": "1.5.0",
      "model_name": "ProgressStyleModel",
      "state": {
       "description_width": "initial"
      }
     },
     "dce00cf651a641c3906508dac588f570": {
      "model_module": "@jupyter-widgets/controls",
      "model_module_version": "1.5.0",
      "model_name": "HTMLModel",
      "state": {
       "layout": "IPY_MODEL_275aa58885ba451a909c51abba26ed5d",
       "style": "IPY_MODEL_15b141e6d9de4913a8b32d76bf279d8f",
       "value": " 0/10000 [00:16&lt;?, ?it/s]"
      }
     },
     "dce14ae78cec45cda58502458d2ba2da": {
      "model_module": "@jupyter-widgets/controls",
      "model_module_version": "1.5.0",
      "model_name": "HBoxModel",
      "state": {
       "children": [
        "IPY_MODEL_e0864797ea564607965b0c85cf4870c9",
        "IPY_MODEL_e5264239cd7343b4b82760645d91a28b"
       ],
       "layout": "IPY_MODEL_46905f30203644a6b6bc40653bc1fbc1"
      }
     },
     "dce6bac01c864685b56de3edca1f5321": {
      "model_module": "@jupyter-widgets/base",
      "model_module_version": "1.2.0",
      "model_name": "LayoutModel",
      "state": {}
     },
     "dce81160a09e4ca59db252bc3217580b": {
      "model_module": "@jupyter-widgets/controls",
      "model_module_version": "1.5.0",
      "model_name": "HTMLModel",
      "state": {
       "layout": "IPY_MODEL_6051b760168640b0ac3044324b139297",
       "style": "IPY_MODEL_7bf52f7bc7064fbf860c9de7b70b0d06",
       "value": " 0/90000 [00:52&lt;?, ?it/s]"
      }
     },
     "dcf48eb82a2046498b484f3771165ef8": {
      "model_module": "@jupyter-widgets/base",
      "model_module_version": "1.2.0",
      "model_name": "LayoutModel",
      "state": {}
     },
     "dcf6cd78eafb4a37967b61f459621fa5": {
      "model_module": "@jupyter-widgets/base",
      "model_module_version": "1.2.0",
      "model_name": "LayoutModel",
      "state": {}
     },
     "dd0862b0ad8c4a3eba57fb76c3ca69a9": {
      "model_module": "@jupyter-widgets/controls",
      "model_module_version": "1.5.0",
      "model_name": "DescriptionStyleModel",
      "state": {
       "description_width": ""
      }
     },
     "dd18ffbf9ffb4c968f70d53096cf565f": {
      "model_module": "@jupyter-widgets/base",
      "model_module_version": "1.2.0",
      "model_name": "LayoutModel",
      "state": {}
     },
     "dd2b6ed9ccbd4872b83ed2f8683cdf0a": {
      "model_module": "@jupyter-widgets/controls",
      "model_module_version": "1.5.0",
      "model_name": "HTMLModel",
      "state": {
       "layout": "IPY_MODEL_29f568c7113a4e028bc06babcf117a42",
       "style": "IPY_MODEL_45a8ca4a4900431d9b20b400661a52e9",
       "value": " 0/10000 [00:01&lt;?, ?it/s]"
      }
     },
     "dd38947032c84771a9c925576258c56b": {
      "model_module": "@jupyter-widgets/controls",
      "model_module_version": "1.5.0",
      "model_name": "HBoxModel",
      "state": {
       "children": [
        "IPY_MODEL_5f1bec3e8cab43c9b67d0cc010b6e7b0",
        "IPY_MODEL_bb64b713c9464f20aad86d6ef5070dab"
       ],
       "layout": "IPY_MODEL_a211e4c5d4264a17926038d3a59ec34a"
      }
     },
     "dd4974e73d654c549de1d459036dcad1": {
      "model_module": "@jupyter-widgets/base",
      "model_module_version": "1.2.0",
      "model_name": "LayoutModel",
      "state": {}
     },
     "dd846e29c95b4fb8ab47e1bbe8c2553f": {
      "model_module": "@jupyter-widgets/controls",
      "model_module_version": "1.5.0",
      "model_name": "FloatProgressModel",
      "state": {
       "bar_style": "danger",
       "description": "Valid iteration=0:   0%",
       "layout": "IPY_MODEL_c8bac48ffd6041cabc5a74468f9aee91",
       "max": 5000,
       "style": "IPY_MODEL_a4f19c334e89457099f13b3f439f469f"
      }
     },
     "dd907674259a4146b9712385e02472c3": {
      "model_module": "@jupyter-widgets/controls",
      "model_module_version": "1.5.0",
      "model_name": "FloatProgressModel",
      "state": {
       "bar_style": "danger",
       "description": "Valid iteration=4000:   0%",
       "layout": "IPY_MODEL_39c996121b4e42558f8daf4858d85379",
       "max": 5000,
       "style": "IPY_MODEL_6fa71334c24c4c188747911d065e2ce8"
      }
     },
     "dd9a2eb63904457fafeada49c1474ef1": {
      "model_module": "@jupyter-widgets/controls",
      "model_module_version": "1.5.0",
      "model_name": "ProgressStyleModel",
      "state": {
       "description_width": "initial"
      }
     },
     "ddb45f70cf5e4e3e88b7af9161c75fdc": {
      "model_module": "@jupyter-widgets/base",
      "model_module_version": "1.2.0",
      "model_name": "LayoutModel",
      "state": {}
     },
     "ddc5844c131848c6962209bb717564ce": {
      "model_module": "@jupyter-widgets/controls",
      "model_module_version": "1.5.0",
      "model_name": "FloatProgressModel",
      "state": {
       "bar_style": "danger",
       "description": "Valid iteration=0:   0%",
       "layout": "IPY_MODEL_52ceb358066a4c2eb93859a827e80e9a",
       "max": 10000,
       "style": "IPY_MODEL_c8a7e0065b394a81b7d972e19802e533"
      }
     },
     "ddccdbc80db1419fba4397dc27d99873": {
      "model_module": "@jupyter-widgets/controls",
      "model_module_version": "1.5.0",
      "model_name": "DescriptionStyleModel",
      "state": {
       "description_width": ""
      }
     },
     "dde1f24f4cf24ea886cd95f82da351f4": {
      "model_module": "@jupyter-widgets/controls",
      "model_module_version": "1.5.0",
      "model_name": "HTMLModel",
      "state": {
       "layout": "IPY_MODEL_a7b1e0b40a5a46f1b074142b51ae7a29",
       "style": "IPY_MODEL_fc03acd47ac0462ba1073e9f063d912c",
       "value": " 0/5000 [15:43&lt;?, ?it/s]"
      }
     },
     "de12f9acc32f4d44a5985fa905bdb3d0": {
      "model_module": "@jupyter-widgets/controls",
      "model_module_version": "1.5.0",
      "model_name": "HTMLModel",
      "state": {
       "layout": "IPY_MODEL_99be822546724dc88c130da5520da4a3",
       "style": "IPY_MODEL_45a0ccca17e146b9b53e8a2e9002fc2f",
       "value": " 476/90000 [02:52&lt;9:08:32,  2.72it/s]"
      }
     },
     "de1386a14a22466ea9293b055c0d8f6b": {
      "model_module": "@jupyter-widgets/controls",
      "model_module_version": "1.5.0",
      "model_name": "FloatProgressModel",
      "state": {
       "bar_style": "danger",
       "description": "Train:   0%",
       "layout": "IPY_MODEL_0961784c67a64ee3b15d4681d8d54b8d",
       "max": 12,
       "style": "IPY_MODEL_9f0ebdb57d0445fbb7e827493f2b1969"
      }
     },
     "de19e6ceab2949158cf0799de21b4ef4": {
      "model_module": "@jupyter-widgets/controls",
      "model_module_version": "1.5.0",
      "model_name": "HTMLModel",
      "state": {
       "layout": "IPY_MODEL_89737885df084e2396f0e97635e022eb",
       "style": "IPY_MODEL_68bda2fcfa364e4bbd5337bef94ec340",
       "value": " 0/90000 [00:38&lt;?, ?it/s]"
      }
     },
     "de3968985cd74659aa0cbfe844f8c338": {
      "model_module": "@jupyter-widgets/base",
      "model_module_version": "1.2.0",
      "model_name": "LayoutModel",
      "state": {}
     },
     "de413a858c5947c39a67544650d5700b": {
      "model_module": "@jupyter-widgets/controls",
      "model_module_version": "1.5.0",
      "model_name": "FloatProgressModel",
      "state": {
       "bar_style": "danger",
       "description": "Train:   0%",
       "layout": "IPY_MODEL_81fc82c7730e409fa4ed26abfed88962",
       "max": 12,
       "style": "IPY_MODEL_b94bcadabb0f4ee3b580df3b90c6ab48"
      }
     },
     "de4923029f4e481eb5dc3b7e3765485d": {
      "model_module": "@jupyter-widgets/controls",
      "model_module_version": "1.5.0",
      "model_name": "DescriptionStyleModel",
      "state": {
       "description_width": ""
      }
     },
     "de555ce3050e4284b183ef01a10e9530": {
      "model_module": "@jupyter-widgets/controls",
      "model_module_version": "1.5.0",
      "model_name": "DescriptionStyleModel",
      "state": {
       "description_width": ""
      }
     },
     "de6750f015314164b2c8543e94a048b3": {
      "model_module": "@jupyter-widgets/controls",
      "model_module_version": "1.5.0",
      "model_name": "FloatProgressModel",
      "state": {
       "bar_style": "danger",
       "description": "Train epoch=0:   0%",
       "layout": "IPY_MODEL_7970bde0ce9041f3a909a5717b1d1a28",
       "max": 90000,
       "style": "IPY_MODEL_d5f5f4892d044a95b643873f122211ba"
      }
     },
     "de84b67e4141437ca7c4ec27d737cae5": {
      "model_module": "@jupyter-widgets/base",
      "model_module_version": "1.2.0",
      "model_name": "LayoutModel",
      "state": {}
     },
     "de88d14566724028bc415caf3bae80ff": {
      "model_module": "@jupyter-widgets/controls",
      "model_module_version": "1.5.0",
      "model_name": "ProgressStyleModel",
      "state": {
       "description_width": "initial"
      }
     },
     "de8cc2aa8a8b4864a62f9df4f11433e5": {
      "model_module": "@jupyter-widgets/controls",
      "model_module_version": "1.5.0",
      "model_name": "FloatProgressModel",
      "state": {
       "bar_style": "danger",
       "description": "Valid iteration=0:   0%",
       "layout": "IPY_MODEL_f1db316c85f942c3be5da2cc3aa6d3f4",
       "max": 5000,
       "style": "IPY_MODEL_988b3d5e2395487d85bb2dc1c1f3e95e"
      }
     },
     "de906daf9e664c5695ac9ffa9b9e4b9e": {
      "model_module": "@jupyter-widgets/controls",
      "model_module_version": "1.5.0",
      "model_name": "DescriptionStyleModel",
      "state": {
       "description_width": ""
      }
     },
     "deba3b7edc5f4f038b968bcd2d701b2e": {
      "model_module": "@jupyter-widgets/base",
      "model_module_version": "1.2.0",
      "model_name": "LayoutModel",
      "state": {}
     },
     "dedd3b5c564c4872b7fd8a65a8b96fa2": {
      "model_module": "@jupyter-widgets/base",
      "model_module_version": "1.2.0",
      "model_name": "LayoutModel",
      "state": {}
     },
     "def440ffb4ed4bd1b690f15bc73e18b0": {
      "model_module": "@jupyter-widgets/controls",
      "model_module_version": "1.5.0",
      "model_name": "HBoxModel",
      "state": {
       "children": [
        "IPY_MODEL_45f941aacd8945f8b19aadfbe5e51fa0",
        "IPY_MODEL_f4df0533b5d54e3b8b9c82994461bbf7"
       ],
       "layout": "IPY_MODEL_dedd3b5c564c4872b7fd8a65a8b96fa2"
      }
     },
     "df0acff682e84bf78deb4e4814db1b9f": {
      "model_module": "@jupyter-widgets/base",
      "model_module_version": "1.2.0",
      "model_name": "LayoutModel",
      "state": {}
     },
     "df265c1aca8341eaad153c80661a9f69": {
      "model_module": "@jupyter-widgets/controls",
      "model_module_version": "1.5.0",
      "model_name": "ProgressStyleModel",
      "state": {
       "description_width": "initial"
      }
     },
     "df45f5d75d9c4b48a7c66019a7f6f986": {
      "model_module": "@jupyter-widgets/base",
      "model_module_version": "1.2.0",
      "model_name": "LayoutModel",
      "state": {}
     },
     "df760944798e449b8e3e23806b2d8af3": {
      "model_module": "@jupyter-widgets/base",
      "model_module_version": "1.2.0",
      "model_name": "LayoutModel",
      "state": {}
     },
     "df77c2ea2d8e4ed6a75812b33e45a07a": {
      "model_module": "@jupyter-widgets/controls",
      "model_module_version": "1.5.0",
      "model_name": "HTMLModel",
      "state": {
       "layout": "IPY_MODEL_c0bad9b64a4e423c85a4b2ce20795bdc",
       "style": "IPY_MODEL_24bf08133cc140ec9e4fa9f330bde0ab",
       "value": " 0/12 [01:16&lt;?, ?it/s]"
      }
     },
     "df9ac7ef8a4942519241f59ba9c191d2": {
      "model_module": "@jupyter-widgets/base",
      "model_module_version": "1.2.0",
      "model_name": "LayoutModel",
      "state": {}
     },
     "dfbbbeb370784dd288656c8f1e555389": {
      "model_module": "@jupyter-widgets/controls",
      "model_module_version": "1.5.0",
      "model_name": "HTMLModel",
      "state": {
       "layout": "IPY_MODEL_f7086a30f88b4bdab531eaf47d2738f9",
       "style": "IPY_MODEL_3124a842482f4a3f953f134917d08b75",
       "value": " 0/12 [04:47&lt;?, ?it/s]"
      }
     },
     "dfda971e44074426b57ad2ea996459ae": {
      "model_module": "@jupyter-widgets/controls",
      "model_module_version": "1.5.0",
      "model_name": "HTMLModel",
      "state": {
       "layout": "IPY_MODEL_0707c1c1a6b2434abde0f28398730734",
       "style": "IPY_MODEL_b717930fe2cd4d8faf981bac67ab31a0",
       "value": " 0/12 [03:48&lt;?, ?it/s]"
      }
     },
     "dfe2b65d795d4530a5c965399a7b5861": {
      "model_module": "@jupyter-widgets/base",
      "model_module_version": "1.2.0",
      "model_name": "LayoutModel",
      "state": {}
     },
     "dfea956c958d47c18fb773ca64f40b7d": {
      "model_module": "@jupyter-widgets/base",
      "model_module_version": "1.2.0",
      "model_name": "LayoutModel",
      "state": {}
     },
     "dff96b629209479fa144334e5df5f24f": {
      "model_module": "@jupyter-widgets/base",
      "model_module_version": "1.2.0",
      "model_name": "LayoutModel",
      "state": {}
     },
     "e011381ed0024ae1be2a482657972370": {
      "model_module": "@jupyter-widgets/controls",
      "model_module_version": "1.5.0",
      "model_name": "HTMLModel",
      "state": {
       "layout": "IPY_MODEL_88f25741f2a94a499ee4aca78690e525",
       "style": "IPY_MODEL_bed1680ccbdc4a82828f1ff8e6e279a8",
       "value": " 0/90000 [01:28&lt;?, ?it/s]"
      }
     },
     "e02eff51bdfe4224b9fa49fe180ff063": {
      "model_module": "@jupyter-widgets/base",
      "model_module_version": "1.2.0",
      "model_name": "LayoutModel",
      "state": {}
     },
     "e03224d3d3504e01b6d1d98c7006afd9": {
      "model_module": "@jupyter-widgets/controls",
      "model_module_version": "1.5.0",
      "model_name": "HBoxModel",
      "state": {
       "children": [
        "IPY_MODEL_24a45e8bac6e4f6486fc5f2d26e63088",
        "IPY_MODEL_a14307ee68244f18b450f4eb464d6ee1"
       ],
       "layout": "IPY_MODEL_c0e98948d9994b26958176b2c13a918a"
      }
     },
     "e03afef7b403413fa7a591595f5f5dcd": {
      "model_module": "@jupyter-widgets/controls",
      "model_module_version": "1.5.0",
      "model_name": "HTMLModel",
      "state": {
       "layout": "IPY_MODEL_582343bcea444e4f84d3ab85d1ffaae8",
       "style": "IPY_MODEL_cf47b58ff0b7418f89050839a23dc43c",
       "value": " 0/12 [01:59&lt;?, ?it/s]"
      }
     },
     "e072a5b538f546e98e20e163ea630736": {
      "model_module": "@jupyter-widgets/controls",
      "model_module_version": "1.5.0",
      "model_name": "HBoxModel",
      "state": {
       "children": [
        "IPY_MODEL_63000020d2fe4394a2ee3ed729403160",
        "IPY_MODEL_ae00dd6379544b439bf29101d2d3d175"
       ],
       "layout": "IPY_MODEL_df45f5d75d9c4b48a7c66019a7f6f986"
      }
     },
     "e0864797ea564607965b0c85cf4870c9": {
      "model_module": "@jupyter-widgets/controls",
      "model_module_version": "1.5.0",
      "model_name": "FloatProgressModel",
      "state": {
       "bar_style": "danger",
       "description": "Valid iteration=3000:   0%",
       "layout": "IPY_MODEL_86f0264143ac4c73921ec6335dfb5d34",
       "max": 5000,
       "style": "IPY_MODEL_4bae6250eb644808984887059ad9a2a8"
      }
     },
     "e09383bd63c447d98331b99a7f3d2ded": {
      "model_module": "@jupyter-widgets/base",
      "model_module_version": "1.2.0",
      "model_name": "LayoutModel",
      "state": {}
     },
     "e0a7dec596864ec19867af83db8ed8cf": {
      "model_module": "@jupyter-widgets/controls",
      "model_module_version": "1.5.0",
      "model_name": "FloatProgressModel",
      "state": {
       "bar_style": "danger",
       "description": "Train epoch=0:   0%",
       "layout": "IPY_MODEL_278757f18ba64634a602111f803b46cc",
       "max": 90000,
       "style": "IPY_MODEL_30abab10a1694710930a667900f24840",
       "value": 9
      }
     },
     "e0ca6176fe6841388dbb92a58b59110c": {
      "model_module": "@jupyter-widgets/controls",
      "model_module_version": "1.5.0",
      "model_name": "HTMLModel",
      "state": {
       "layout": "IPY_MODEL_2cf48c30ef9747fd88fdaa3be2e93070",
       "style": "IPY_MODEL_cb0b614c2e7b40e996dd2f0f63606529",
       "value": " 0/45000 [01:41&lt;?, ?it/s]"
      }
     },
     "e0ef38c7ce854670b4d1827e5d014937": {
      "model_module": "@jupyter-widgets/base",
      "model_module_version": "1.2.0",
      "model_name": "LayoutModel",
      "state": {}
     },
     "e0efa402207d4c56bda870405f0a563b": {
      "model_module": "@jupyter-widgets/base",
      "model_module_version": "1.2.0",
      "model_name": "LayoutModel",
      "state": {}
     },
     "e10b3a4ff0ba4332955cf4cc2300b398": {
      "model_module": "@jupyter-widgets/controls",
      "model_module_version": "1.5.0",
      "model_name": "FloatProgressModel",
      "state": {
       "bar_style": "danger",
       "description": "Train epoch=0:  13%",
       "layout": "IPY_MODEL_260fc2d1dc5442228e7768bd6c912dcf",
       "max": 90000,
       "style": "IPY_MODEL_f583044939094409a57b9fd3f2d51fd6",
       "value": 11696
      }
     },
     "e10b634e2d764e7d9e62f0c26746bf04": {
      "model_module": "@jupyter-widgets/controls",
      "model_module_version": "1.5.0",
      "model_name": "FloatProgressModel",
      "state": {
       "bar_style": "danger",
       "description": "Train:   0%",
       "layout": "IPY_MODEL_be4c5af6ba294fec879ed22b19791b1d",
       "max": 12,
       "style": "IPY_MODEL_f2d3ac01399340e7a4fe2a640e16a0a3"
      }
     },
     "e1239df7465b4f97b94901f8d9f05869": {
      "model_module": "@jupyter-widgets/controls",
      "model_module_version": "1.5.0",
      "model_name": "ProgressStyleModel",
      "state": {
       "description_width": "initial"
      }
     },
     "e1273464d7ef4035942d36b297c99c8f": {
      "model_module": "@jupyter-widgets/controls",
      "model_module_version": "1.5.0",
      "model_name": "DescriptionStyleModel",
      "state": {
       "description_width": ""
      }
     },
     "e1353b42a2444b93ab0adad64bf4ef6a": {
      "model_module": "@jupyter-widgets/base",
      "model_module_version": "1.2.0",
      "model_name": "LayoutModel",
      "state": {}
     },
     "e14a5ee00ea24e5cbc896a3a34fbcfda": {
      "model_module": "@jupyter-widgets/controls",
      "model_module_version": "1.5.0",
      "model_name": "HBoxModel",
      "state": {
       "children": [
        "IPY_MODEL_03fc74a9c258413b93502a433fbc9f15",
        "IPY_MODEL_e6667e4da98b418e8f64c61741ac69af"
       ],
       "layout": "IPY_MODEL_a18dfe1abcaf4e2f9e80610eabf9e9d1"
      }
     },
     "e1521107829c4d2a97950f9540bbf2de": {
      "model_module": "@jupyter-widgets/base",
      "model_module_version": "1.2.0",
      "model_name": "LayoutModel",
      "state": {}
     },
     "e15a3a5e9fea47e3bc0f4ea27c4c57c9": {
      "model_module": "@jupyter-widgets/controls",
      "model_module_version": "1.5.0",
      "model_name": "HBoxModel",
      "state": {
       "children": [
        "IPY_MODEL_890b697881c24aa1a645690fd95e0864",
        "IPY_MODEL_95301c059306416fa124be1476c403f7"
       ],
       "layout": "IPY_MODEL_d9607618cb0e42949a0149393af38105"
      }
     },
     "e187af3952b64419b2b28f5b3828ae8f": {
      "model_module": "@jupyter-widgets/base",
      "model_module_version": "1.2.0",
      "model_name": "LayoutModel",
      "state": {}
     },
     "e18a10541aae4df0aee2a73ad58fe66d": {
      "model_module": "@jupyter-widgets/base",
      "model_module_version": "1.2.0",
      "model_name": "LayoutModel",
      "state": {}
     },
     "e19b315a9fc24db2bc5cb24306271576": {
      "model_module": "@jupyter-widgets/controls",
      "model_module_version": "1.5.0",
      "model_name": "DescriptionStyleModel",
      "state": {
       "description_width": ""
      }
     },
     "e1b9e5e9e85d48d4a04d89e6b364d787": {
      "model_module": "@jupyter-widgets/controls",
      "model_module_version": "1.5.0",
      "model_name": "DescriptionStyleModel",
      "state": {
       "description_width": ""
      }
     },
     "e1f7024d41a5440d85c059f2daa4fe21": {
      "model_module": "@jupyter-widgets/controls",
      "model_module_version": "1.5.0",
      "model_name": "ProgressStyleModel",
      "state": {
       "description_width": "initial"
      }
     },
     "e20a901697424e4b90392fd339a0f75d": {
      "model_module": "@jupyter-widgets/base",
      "model_module_version": "1.2.0",
      "model_name": "LayoutModel",
      "state": {}
     },
     "e21021f3e96e4567b30f486a229435dd": {
      "model_module": "@jupyter-widgets/controls",
      "model_module_version": "1.5.0",
      "model_name": "DescriptionStyleModel",
      "state": {
       "description_width": ""
      }
     },
     "e21f8941d5a8443098bb334fbbd5019a": {
      "model_module": "@jupyter-widgets/controls",
      "model_module_version": "1.5.0",
      "model_name": "FloatProgressModel",
      "state": {
       "bar_style": "danger",
       "description": "Train epoch=0:   0%",
       "layout": "IPY_MODEL_39888fad47dd46d6bb19df3c0b3dfbdb",
       "max": 90000,
       "style": "IPY_MODEL_60fc57d4879e479e86b4d05e43336381"
      }
     },
     "e22e263210594e32a03864972e1be6aa": {
      "model_module": "@jupyter-widgets/controls",
      "model_module_version": "1.5.0",
      "model_name": "HTMLModel",
      "state": {
       "layout": "IPY_MODEL_e8c490aa100c4200a4fa6a629a9d650c",
       "style": "IPY_MODEL_b68bb2efc9cb4b5390d74f4a669c08fe",
       "value": " 0/12 [00:11&lt;?, ?it/s]"
      }
     },
     "e24fc43fb08240e5a705853a99b567bd": {
      "model_module": "@jupyter-widgets/base",
      "model_module_version": "1.2.0",
      "model_name": "LayoutModel",
      "state": {}
     },
     "e256f1d4c71e48f98a7c5b0b052023d8": {
      "model_module": "@jupyter-widgets/controls",
      "model_module_version": "1.5.0",
      "model_name": "ProgressStyleModel",
      "state": {
       "description_width": "initial"
      }
     },
     "e26c2d1904b94bdc9fc688aef9d33a27": {
      "model_module": "@jupyter-widgets/base",
      "model_module_version": "1.2.0",
      "model_name": "LayoutModel",
      "state": {}
     },
     "e27b308f902d457592ef53c549b252d4": {
      "model_module": "@jupyter-widgets/controls",
      "model_module_version": "1.5.0",
      "model_name": "HTMLModel",
      "state": {
       "layout": "IPY_MODEL_10d613ae9bd34b1ab0f5f617d8d8c4ef",
       "style": "IPY_MODEL_fd3b1eea4c2b4fa0963bc64f2898525f",
       "value": " 0/10000 [00:01&lt;?, ?it/s]"
      }
     },
     "e27e3b4102f44d5d8faac744af37a7bf": {
      "model_module": "@jupyter-widgets/controls",
      "model_module_version": "1.5.0",
      "model_name": "HTMLModel",
      "state": {
       "layout": "IPY_MODEL_0474bb1f98bb4701a160e02927235b14",
       "style": "IPY_MODEL_5b79a817337b4f8cab490be37acbe038",
       "value": " 0/10000 [00:01&lt;?, ?it/s]"
      }
     },
     "e27e4b4afd20479288410a54b3cbd57d": {
      "model_module": "@jupyter-widgets/base",
      "model_module_version": "1.2.0",
      "model_name": "LayoutModel",
      "state": {}
     },
     "e2983213df374d65b1091a332557240a": {
      "model_module": "@jupyter-widgets/controls",
      "model_module_version": "1.5.0",
      "model_name": "DescriptionStyleModel",
      "state": {
       "description_width": ""
      }
     },
     "e2aab12b8ba749eca5c564d3ff36e9b9": {
      "model_module": "@jupyter-widgets/base",
      "model_module_version": "1.2.0",
      "model_name": "LayoutModel",
      "state": {}
     },
     "e2af6fa7cfee4967b93928e4a8704245": {
      "model_module": "@jupyter-widgets/controls",
      "model_module_version": "1.5.0",
      "model_name": "ProgressStyleModel",
      "state": {
       "description_width": "initial"
      }
     },
     "e2b1f77c8ece4e0281599f3651aa59ad": {
      "model_module": "@jupyter-widgets/controls",
      "model_module_version": "1.5.0",
      "model_name": "FloatProgressModel",
      "state": {
       "bar_style": "danger",
       "description": "Train epoch=0:   0%",
       "layout": "IPY_MODEL_b5d5e8f03e004f3d8a224a5109d9f44d",
       "max": 45000,
       "style": "IPY_MODEL_d0dd3dcba15743b0b65c6749d489a874"
      }
     },
     "e2b65b71e3d243f5aac9f430ea96627f": {
      "model_module": "@jupyter-widgets/base",
      "model_module_version": "1.2.0",
      "model_name": "LayoutModel",
      "state": {}
     },
     "e2bb8bdddb2c49008242467e6bb83dbd": {
      "model_module": "@jupyter-widgets/controls",
      "model_module_version": "1.5.0",
      "model_name": "ProgressStyleModel",
      "state": {
       "description_width": "initial"
      }
     },
     "e2cc9e1d98714552acded9c19a5c38d5": {
      "model_module": "@jupyter-widgets/controls",
      "model_module_version": "1.5.0",
      "model_name": "HTMLModel",
      "state": {
       "layout": "IPY_MODEL_a96f49efdbf84b09b66ed8333590a552",
       "style": "IPY_MODEL_12f34cd02b0943d7a4ca8f65ce1ca84b",
       "value": " 0/10000 [00:01&lt;?, ?it/s]"
      }
     },
     "e2d4f74bb8b0457ebea48adebf4ef3fd": {
      "model_module": "@jupyter-widgets/controls",
      "model_module_version": "1.5.0",
      "model_name": "HBoxModel",
      "state": {
       "children": [
        "IPY_MODEL_6897061e450743e884c92d40284e8ebc",
        "IPY_MODEL_a8d177817dba438d9463feb8f842377d"
       ],
       "layout": "IPY_MODEL_07d8a7c60ea3408796417c8954b99339"
      }
     },
     "e2d9456e835d4923943108c608753e60": {
      "model_module": "@jupyter-widgets/base",
      "model_module_version": "1.2.0",
      "model_name": "LayoutModel",
      "state": {}
     },
     "e2dc4396a16f422bbaac75e24b8ebdef": {
      "model_module": "@jupyter-widgets/controls",
      "model_module_version": "1.5.0",
      "model_name": "FloatProgressModel",
      "state": {
       "bar_style": "danger",
       "description": "Train epoch=0:   0%",
       "layout": "IPY_MODEL_ac781e77289a424abb55b45abf8ddac8",
       "max": 90000,
       "style": "IPY_MODEL_041308379af842739ec1771f69fe35b2",
       "value": 41
      }
     },
     "e2eb5833a5294f51912c5d96b148297a": {
      "model_module": "@jupyter-widgets/controls",
      "model_module_version": "1.5.0",
      "model_name": "FloatProgressModel",
      "state": {
       "bar_style": "danger",
       "description": "Valid iteration=0:   0%",
       "layout": "IPY_MODEL_a2289690c9f24e849c203f0398c41c54",
       "max": 5000,
       "style": "IPY_MODEL_558d334d36c44eb08e533bc74d78c14c"
      }
     },
     "e2eb5de9254940a68b3b82ae01625c5c": {
      "model_module": "@jupyter-widgets/controls",
      "model_module_version": "1.5.0",
      "model_name": "ProgressStyleModel",
      "state": {
       "description_width": "initial"
      }
     },
     "e2f22d1417c84bc5bcb5c0e25e0ac8f7": {
      "model_module": "@jupyter-widgets/controls",
      "model_module_version": "1.5.0",
      "model_name": "HBoxModel",
      "state": {
       "children": [
        "IPY_MODEL_abccf4929808427793dacdfdd483871e",
        "IPY_MODEL_193c4b10b9814e9ea3eafd06007e05fc"
       ],
       "layout": "IPY_MODEL_0174846dbd7e4a969c2c90b6244e025d"
      }
     },
     "e2f366fca7ad403c8cc7612d02875612": {
      "model_module": "@jupyter-widgets/base",
      "model_module_version": "1.2.0",
      "model_name": "LayoutModel",
      "state": {}
     },
     "e2fca411fd434fbbbc991299e5fc9dcd": {
      "model_module": "@jupyter-widgets/base",
      "model_module_version": "1.2.0",
      "model_name": "LayoutModel",
      "state": {}
     },
     "e319ffbf098a4bfd9bb5df18feaf9fbe": {
      "model_module": "@jupyter-widgets/controls",
      "model_module_version": "1.5.0",
      "model_name": "FloatProgressModel",
      "state": {
       "bar_style": "danger",
       "description": "Train:   0%",
       "layout": "IPY_MODEL_3eb03d66a76746ecb840c942aa928100",
       "max": 23,
       "style": "IPY_MODEL_c496eb1fccfe4803b33c80323fefe5e9"
      }
     },
     "e326c8aa12384192aaf024db9c6de1c8": {
      "model_module": "@jupyter-widgets/controls",
      "model_module_version": "1.5.0",
      "model_name": "ProgressStyleModel",
      "state": {
       "description_width": "initial"
      }
     },
     "e32d54cf4dda407db49f566cecf55298": {
      "model_module": "@jupyter-widgets/controls",
      "model_module_version": "1.5.0",
      "model_name": "FloatProgressModel",
      "state": {
       "bar_style": "danger",
       "description": "Valid iteration=0:   0%",
       "layout": "IPY_MODEL_b57428fbd91e4690aeff9283fc605b08",
       "max": 10000,
       "style": "IPY_MODEL_bdcefdd6206842ec96946659dc80d000"
      }
     },
     "e32f7119cc3c4f019743eb8ab86c9591": {
      "model_module": "@jupyter-widgets/controls",
      "model_module_version": "1.5.0",
      "model_name": "HBoxModel",
      "state": {
       "children": [
        "IPY_MODEL_b6b1c1b619a542fb87d9fe8853c40374",
        "IPY_MODEL_71d22429344f4b92ad14147eb36860fa"
       ],
       "layout": "IPY_MODEL_6f3f09260a6d4b51a6a2d4cce59319d3"
      }
     },
     "e342fdd74890491eb8b6852afe9633d6": {
      "model_module": "@jupyter-widgets/controls",
      "model_module_version": "1.5.0",
      "model_name": "HBoxModel",
      "state": {
       "children": [
        "IPY_MODEL_f7ca170f299643c7aa891731175be671",
        "IPY_MODEL_a937b6cea9024634b45ff550b98eb11e"
       ],
       "layout": "IPY_MODEL_35815e5640dc46bdbac8c4f3f141d3f8"
      }
     },
     "e3a73d91bac34a1983ab90b7c9a48fdb": {
      "model_module": "@jupyter-widgets/controls",
      "model_module_version": "1.5.0",
      "model_name": "DescriptionStyleModel",
      "state": {
       "description_width": ""
      }
     },
     "e3ade650b6ae4bd1ab88491bcd3e6d9d": {
      "model_module": "@jupyter-widgets/controls",
      "model_module_version": "1.5.0",
      "model_name": "HTMLModel",
      "state": {
       "layout": "IPY_MODEL_4465fbc40199446c90ba54c2f76a3130",
       "style": "IPY_MODEL_41b1fde3f81b49c68617ac26f951f3ef",
       "value": " 0/12 [01:06&lt;?, ?it/s]"
      }
     },
     "e3b480baf8dd4bdb8e9dc9bb5dcb80c9": {
      "model_module": "@jupyter-widgets/controls",
      "model_module_version": "1.5.0",
      "model_name": "DescriptionStyleModel",
      "state": {
       "description_width": ""
      }
     },
     "e3e4ac0a3cad4d5a8ee7b05b7504dc05": {
      "model_module": "@jupyter-widgets/base",
      "model_module_version": "1.2.0",
      "model_name": "LayoutModel",
      "state": {}
     },
     "e3e692cd21f5483daa9adabdc3ef0057": {
      "model_module": "@jupyter-widgets/base",
      "model_module_version": "1.2.0",
      "model_name": "LayoutModel",
      "state": {}
     },
     "e3fd42b97d284e598b9bdeb499ba5cd3": {
      "model_module": "@jupyter-widgets/controls",
      "model_module_version": "1.5.0",
      "model_name": "HTMLModel",
      "state": {
       "layout": "IPY_MODEL_cd79b035d0e347eeb1eb8c7be1e6cc85",
       "style": "IPY_MODEL_7d701974826f4c429c4923a74001f1ef",
       "value": " 0/10000 [28:12&lt;?, ?it/s]"
      }
     },
     "e415b64ed0814211ad21b80811802318": {
      "model_module": "@jupyter-widgets/controls",
      "model_module_version": "1.5.0",
      "model_name": "FloatProgressModel",
      "state": {
       "bar_style": "danger",
       "description": "Valid iteration=5000:   0%",
       "layout": "IPY_MODEL_159283a9cb094be89ff63a5883e10e13",
       "max": 10000,
       "style": "IPY_MODEL_1a4b676a7a9442648994c172be4c4d8b"
      }
     },
     "e42b488050a94e67ac46f735f66b0f14": {
      "model_module": "@jupyter-widgets/controls",
      "model_module_version": "1.5.0",
      "model_name": "HBoxModel",
      "state": {
       "children": [
        "IPY_MODEL_2c250cf22a8342d4813e85bd782b5df2",
        "IPY_MODEL_d76021de1c6e42cf9e04fccbe8d147dc"
       ],
       "layout": "IPY_MODEL_b17c99283af14f93aee07fca4ae98e03"
      }
     },
     "e431d1898ae34a998097656b36959778": {
      "model_module": "@jupyter-widgets/controls",
      "model_module_version": "1.5.0",
      "model_name": "HTMLModel",
      "state": {
       "layout": "IPY_MODEL_99f94b683bdf462b9b42de8f961d8a1f",
       "style": "IPY_MODEL_dd0862b0ad8c4a3eba57fb76c3ca69a9",
       "value": " 0/12 [00:55&lt;?, ?it/s]"
      }
     },
     "e445c8ae92a24eb3ab0e4c13f0530b7b": {
      "model_module": "@jupyter-widgets/controls",
      "model_module_version": "1.5.0",
      "model_name": "HBoxModel",
      "state": {
       "children": [
        "IPY_MODEL_b4338abe9081488f9e012604ba218a19",
        "IPY_MODEL_069579a32d07428da7527ff5a5e616d5"
       ],
       "layout": "IPY_MODEL_e2aab12b8ba749eca5c564d3ff36e9b9"
      }
     },
     "e463a96cdc434c1d88661a0de5b5d64f": {
      "model_module": "@jupyter-widgets/base",
      "model_module_version": "1.2.0",
      "model_name": "LayoutModel",
      "state": {}
     },
     "e470368123f04ed4917333b8dcaef032": {
      "model_module": "@jupyter-widgets/base",
      "model_module_version": "1.2.0",
      "model_name": "LayoutModel",
      "state": {}
     },
     "e4864582411147428e6b094e99731217": {
      "model_module": "@jupyter-widgets/controls",
      "model_module_version": "1.5.0",
      "model_name": "HTMLModel",
      "state": {
       "layout": "IPY_MODEL_8bba300581c04b3face50ffb0419e37c",
       "style": "IPY_MODEL_25a17aa3caef44dfa583fdd319c1c2e7",
       "value": " 0/23 [03:17&lt;?, ?it/s]"
      }
     },
     "e4a119d36d7f49fc93256bb2badf2b28": {
      "model_module": "@jupyter-widgets/base",
      "model_module_version": "1.2.0",
      "model_name": "LayoutModel",
      "state": {}
     },
     "e4a13bd701d749a79cf9ffbdf4d27db5": {
      "model_module": "@jupyter-widgets/controls",
      "model_module_version": "1.5.0",
      "model_name": "ProgressStyleModel",
      "state": {
       "description_width": "initial"
      }
     },
     "e4b87e4dd4fd487992d14b2a804da3ff": {
      "model_module": "@jupyter-widgets/controls",
      "model_module_version": "1.5.0",
      "model_name": "ProgressStyleModel",
      "state": {
       "description_width": "initial"
      }
     },
     "e4c421ffdb7443f09b4eed93a1de9258": {
      "model_module": "@jupyter-widgets/controls",
      "model_module_version": "1.5.0",
      "model_name": "HTMLModel",
      "state": {
       "layout": "IPY_MODEL_d123eae202f94e22b50e4e48f20e1991",
       "style": "IPY_MODEL_9e1925d036e846f59038852454de93ba",
       "value": " 0/90000 [01:02&lt;?, ?it/s]"
      }
     },
     "e4ca1a0e22ac481e81b4530ab9c6eeac": {
      "model_module": "@jupyter-widgets/controls",
      "model_module_version": "1.5.0",
      "model_name": "HTMLModel",
      "state": {
       "layout": "IPY_MODEL_61feafb820cc490089a0ba2bee1c5116",
       "style": "IPY_MODEL_20ad9c9022ae4e398a520e198a303603",
       "value": " 0/23 [02:01&lt;?, ?it/s]"
      }
     },
     "e4e8a73b2e924c6291f5bbdf9d9174bd": {
      "model_module": "@jupyter-widgets/controls",
      "model_module_version": "1.5.0",
      "model_name": "HBoxModel",
      "state": {
       "children": [
        "IPY_MODEL_9bef5f8694ff45878ee74e679affa842",
        "IPY_MODEL_6d89b20f86874487895d1993679cdef2"
       ],
       "layout": "IPY_MODEL_59e5ac451fd94352bb18350a0617d997"
      }
     },
     "e501bc476ae74168acfb038c4b2454f9": {
      "model_module": "@jupyter-widgets/base",
      "model_module_version": "1.2.0",
      "model_name": "LayoutModel",
      "state": {}
     },
     "e5040155e60341d585816d8f08c1739e": {
      "model_module": "@jupyter-widgets/base",
      "model_module_version": "1.2.0",
      "model_name": "LayoutModel",
      "state": {}
     },
     "e504e8361dcd44149f3c876bc1654b54": {
      "model_module": "@jupyter-widgets/base",
      "model_module_version": "1.2.0",
      "model_name": "LayoutModel",
      "state": {}
     },
     "e5264239cd7343b4b82760645d91a28b": {
      "model_module": "@jupyter-widgets/controls",
      "model_module_version": "1.5.0",
      "model_name": "HTMLModel",
      "state": {
       "layout": "IPY_MODEL_33bd9bc245d4496f86265453efd8d216",
       "style": "IPY_MODEL_186d23bf56e844e4870aacb8ec4dfd00",
       "value": " 0/5000 [22:13&lt;?, ?it/s]"
      }
     },
     "e5356fb841fd4ac2b59ccf537c5c6e2d": {
      "model_module": "@jupyter-widgets/controls",
      "model_module_version": "1.5.0",
      "model_name": "ProgressStyleModel",
      "state": {
       "description_width": "initial"
      }
     },
     "e551f3c4036143f7ad7ed8ee26faef06": {
      "model_module": "@jupyter-widgets/controls",
      "model_module_version": "1.5.0",
      "model_name": "ProgressStyleModel",
      "state": {
       "description_width": "initial"
      }
     },
     "e55593329de34de1b12f08188116765a": {
      "model_module": "@jupyter-widgets/controls",
      "model_module_version": "1.5.0",
      "model_name": "FloatProgressModel",
      "state": {
       "bar_style": "danger",
       "description": "Train epoch=0:   2%",
       "layout": "IPY_MODEL_6616e3d99898419997fa8a9576d78604",
       "max": 45000,
       "style": "IPY_MODEL_1b86004f9479497bb8072b46f71c642e",
       "value": 1071
      }
     },
     "e5933fff7c1149eba24a053e89052c12": {
      "model_module": "@jupyter-widgets/controls",
      "model_module_version": "1.5.0",
      "model_name": "HBoxModel",
      "state": {
       "children": [
        "IPY_MODEL_5b039f927454491a81c3cd8f2163a9f1",
        "IPY_MODEL_64baddc379a84d43b9399fa9637a1e6e"
       ],
       "layout": "IPY_MODEL_6387ffb505a14c5d9af4ee56f0e7efd6"
      }
     },
     "e5b5e733fe374d4eac2f3c63676fa12a": {
      "model_module": "@jupyter-widgets/controls",
      "model_module_version": "1.5.0",
      "model_name": "ProgressStyleModel",
      "state": {
       "description_width": "initial"
      }
     },
     "e5f2429b313941f0b89d1e21fc9e89b5": {
      "model_module": "@jupyter-widgets/base",
      "model_module_version": "1.2.0",
      "model_name": "LayoutModel",
      "state": {}
     },
     "e5fad44b1ebd48e7ad5a9bf199a58a01": {
      "model_module": "@jupyter-widgets/controls",
      "model_module_version": "1.5.0",
      "model_name": "ProgressStyleModel",
      "state": {
       "description_width": "initial"
      }
     },
     "e635b932fbb64b3396c5f4ddcaed2365": {
      "model_module": "@jupyter-widgets/controls",
      "model_module_version": "1.5.0",
      "model_name": "HBoxModel",
      "state": {
       "children": [
        "IPY_MODEL_e319ffbf098a4bfd9bb5df18feaf9fbe",
        "IPY_MODEL_69267ca745c34326887656f9054fcc37"
       ],
       "layout": "IPY_MODEL_83496e0eb0ff496c89ba35b00f95e2b1"
      }
     },
     "e650cb93dee242f6b5c0cc86c7bd9ece": {
      "model_module": "@jupyter-widgets/controls",
      "model_module_version": "1.5.0",
      "model_name": "FloatProgressModel",
      "state": {
       "bar_style": "danger",
       "description": "Valid iteration=0:   0%",
       "layout": "IPY_MODEL_045d848762654f808ac5dd982a5b5dc6",
       "max": 10000,
       "style": "IPY_MODEL_9095b345616e430fbdab941e4ac77dd1"
      }
     },
     "e65c52d75ec94dc5b57b22f1460dc159": {
      "model_module": "@jupyter-widgets/base",
      "model_module_version": "1.2.0",
      "model_name": "LayoutModel",
      "state": {}
     },
     "e65ed83c1b9d45fc94e96709c398b83f": {
      "model_module": "@jupyter-widgets/controls",
      "model_module_version": "1.5.0",
      "model_name": "ProgressStyleModel",
      "state": {
       "description_width": "initial"
      }
     },
     "e6667e4da98b418e8f64c61741ac69af": {
      "model_module": "@jupyter-widgets/controls",
      "model_module_version": "1.5.0",
      "model_name": "HTMLModel",
      "state": {
       "layout": "IPY_MODEL_4bf3a911b8884803ab3c33a6ade6788c",
       "style": "IPY_MODEL_84468ecf2f454e71a096314459d85491",
       "value": " 0/23 [01:10&lt;?, ?it/s]"
      }
     },
     "e667e2b2935b42ad83e9ab83c353acae": {
      "model_module": "@jupyter-widgets/base",
      "model_module_version": "1.2.0",
      "model_name": "LayoutModel",
      "state": {}
     },
     "e66a91124dd249609ef8925160519e87": {
      "model_module": "@jupyter-widgets/base",
      "model_module_version": "1.2.0",
      "model_name": "LayoutModel",
      "state": {}
     },
     "e676e503fe2f4290833b73e85fe5202d": {
      "model_module": "@jupyter-widgets/controls",
      "model_module_version": "1.5.0",
      "model_name": "FloatProgressModel",
      "state": {
       "bar_style": "danger",
       "description": "Valid iteration=0:   0%",
       "layout": "IPY_MODEL_66627fb6e2084b6bbc33d6196b06fdd2",
       "max": 10000,
       "style": "IPY_MODEL_7440542146c14f4aa19efce0341e1127"
      }
     },
     "e67d5e361e144df189be4ad320754cd8": {
      "model_module": "@jupyter-widgets/controls",
      "model_module_version": "1.5.0",
      "model_name": "ProgressStyleModel",
      "state": {
       "description_width": "initial"
      }
     },
     "e6861695137f48689f5a83f17fec16d5": {
      "model_module": "@jupyter-widgets/base",
      "model_module_version": "1.2.0",
      "model_name": "LayoutModel",
      "state": {}
     },
     "e69cab8bc7244ec685fbb9d43aa01c36": {
      "model_module": "@jupyter-widgets/base",
      "model_module_version": "1.2.0",
      "model_name": "LayoutModel",
      "state": {}
     },
     "e6dbff33a0fa4a0db40046cd964a08f0": {
      "model_module": "@jupyter-widgets/controls",
      "model_module_version": "1.5.0",
      "model_name": "FloatProgressModel",
      "state": {
       "bar_style": "danger",
       "description": "Train epoch=0:   0%",
       "layout": "IPY_MODEL_2d908c0da29f4e03a73993bbe5770599",
       "max": 90000,
       "style": "IPY_MODEL_0b2bec81493748d0911b6a713c492e97",
       "value": 136
      }
     },
     "e6ec9667cd7d43b987ca61603f1ba024": {
      "model_module": "@jupyter-widgets/controls",
      "model_module_version": "1.5.0",
      "model_name": "HBoxModel",
      "state": {
       "children": [
        "IPY_MODEL_c787afdbff4d40a08b476ebc16614ec2",
        "IPY_MODEL_0296a1cb216941be83768ca4878cc1b8"
       ],
       "layout": "IPY_MODEL_a9f609fbb7074e0984f6dd5e1d94a4f6"
      }
     },
     "e6ef1298ee104fcfb70811c1211a7ec5": {
      "model_module": "@jupyter-widgets/controls",
      "model_module_version": "1.5.0",
      "model_name": "HTMLModel",
      "state": {
       "layout": "IPY_MODEL_a531f4da4ab64de6b8a2ef9300a8fa19",
       "style": "IPY_MODEL_034c4bf4fc884d988631e0716f25d621",
       "value": " 0/10000 [01:12&lt;?, ?it/s]"
      }
     },
     "e6f56f2e07e04843a9a1162f462fb895": {
      "model_module": "@jupyter-widgets/controls",
      "model_module_version": "1.5.0",
      "model_name": "HTMLModel",
      "state": {
       "layout": "IPY_MODEL_2addd1e092e9478c90a4e6316c1d9f3d",
       "style": "IPY_MODEL_49e8f679ec0e4efb8f20d302413ba61f",
       "value": " 0/10000 [00:01&lt;?, ?it/s]"
      }
     },
     "e70b2969418747728e4967c11a040e59": {
      "model_module": "@jupyter-widgets/controls",
      "model_module_version": "1.5.0",
      "model_name": "FloatProgressModel",
      "state": {
       "bar_style": "danger",
       "description": "Train:   0%",
       "layout": "IPY_MODEL_ce5311b3bd1449b2b4fe5bab9e32b111",
       "max": 12,
       "style": "IPY_MODEL_d2494cc0c7fc4226accb5ae2713143d3"
      }
     },
     "e717ce38d09543ef890223a7580c1895": {
      "model_module": "@jupyter-widgets/controls",
      "model_module_version": "1.5.0",
      "model_name": "FloatProgressModel",
      "state": {
       "bar_style": "danger",
       "description": "Valid iteration=0:   0%",
       "layout": "IPY_MODEL_372a66d45e4b4028970b7813ff52259a",
       "max": 5000,
       "style": "IPY_MODEL_a506151b873349babbb2242c454699e4"
      }
     },
     "e71e29f568a1400e83b4b0f5178094b5": {
      "model_module": "@jupyter-widgets/controls",
      "model_module_version": "1.5.0",
      "model_name": "HTMLModel",
      "state": {
       "layout": "IPY_MODEL_086656b0fd354970be8ecf9c9715bd13",
       "style": "IPY_MODEL_058ad19bd957445a8d9c79f21f609d3d",
       "value": " 0/10000 [00:01&lt;?, ?it/s]"
      }
     },
     "e72955700d564b83bbb19e1e4a771251": {
      "model_module": "@jupyter-widgets/controls",
      "model_module_version": "1.5.0",
      "model_name": "ProgressStyleModel",
      "state": {
       "description_width": "initial"
      }
     },
     "e74ff7f253494f17b8738f8ce4eb13d0": {
      "model_module": "@jupyter-widgets/controls",
      "model_module_version": "1.5.0",
      "model_name": "DescriptionStyleModel",
      "state": {
       "description_width": ""
      }
     },
     "e7565061eda64c8b9271e452a0065038": {
      "model_module": "@jupyter-widgets/controls",
      "model_module_version": "1.5.0",
      "model_name": "ProgressStyleModel",
      "state": {
       "description_width": "initial"
      }
     },
     "e781faca274641ddbb01fd15afceb0f8": {
      "model_module": "@jupyter-widgets/base",
      "model_module_version": "1.2.0",
      "model_name": "LayoutModel",
      "state": {}
     },
     "e788ede061774fb68146a12d0aa2108e": {
      "model_module": "@jupyter-widgets/base",
      "model_module_version": "1.2.0",
      "model_name": "LayoutModel",
      "state": {}
     },
     "e7c3f725ff1a4381bf5b0a3192d3ac64": {
      "model_module": "@jupyter-widgets/controls",
      "model_module_version": "1.5.0",
      "model_name": "HBoxModel",
      "state": {
       "children": [
        "IPY_MODEL_3690abcaffe740ae9e3af56483a2b674",
        "IPY_MODEL_c7ab4781bba842d89b992976e8d5c588"
       ],
       "layout": "IPY_MODEL_cbbbfd64349847158e04b68e0fd74c4b"
      }
     },
     "e7ebc2461d7e45fbab5a9b0af1fea6d9": {
      "model_module": "@jupyter-widgets/controls",
      "model_module_version": "1.5.0",
      "model_name": "ProgressStyleModel",
      "state": {
       "description_width": "initial"
      }
     },
     "e7f5e08311aa42c5a3b303d069aa1975": {
      "model_module": "@jupyter-widgets/base",
      "model_module_version": "1.2.0",
      "model_name": "LayoutModel",
      "state": {}
     },
     "e7f98ae7f60c4ca1a68210124b016c90": {
      "model_module": "@jupyter-widgets/base",
      "model_module_version": "1.2.0",
      "model_name": "LayoutModel",
      "state": {}
     },
     "e8699a3f497041fe98c08e77596119d9": {
      "model_module": "@jupyter-widgets/controls",
      "model_module_version": "1.5.0",
      "model_name": "DescriptionStyleModel",
      "state": {
       "description_width": ""
      }
     },
     "e86eda7886024848849c08748e3d4f4e": {
      "model_module": "@jupyter-widgets/base",
      "model_module_version": "1.2.0",
      "model_name": "LayoutModel",
      "state": {}
     },
     "e87ed1b966fd42b9a5e8a144de60e031": {
      "model_module": "@jupyter-widgets/base",
      "model_module_version": "1.2.0",
      "model_name": "LayoutModel",
      "state": {}
     },
     "e892e4448e464213818766c1533c9091": {
      "model_module": "@jupyter-widgets/controls",
      "model_module_version": "1.5.0",
      "model_name": "ProgressStyleModel",
      "state": {
       "description_width": "initial"
      }
     },
     "e8aed5a37e9547119dddc9c1ead55e40": {
      "model_module": "@jupyter-widgets/controls",
      "model_module_version": "1.5.0",
      "model_name": "HTMLModel",
      "state": {
       "layout": "IPY_MODEL_051012dfd0094c14a3a59b3f567e8550",
       "style": "IPY_MODEL_2904eb67820f4619a98e28d09585153c",
       "value": " 0/10000 [00:40&lt;?, ?it/s]"
      }
     },
     "e8c490aa100c4200a4fa6a629a9d650c": {
      "model_module": "@jupyter-widgets/base",
      "model_module_version": "1.2.0",
      "model_name": "LayoutModel",
      "state": {}
     },
     "e8dfe454aebb454083a0949a5d7ffaa7": {
      "model_module": "@jupyter-widgets/base",
      "model_module_version": "1.2.0",
      "model_name": "LayoutModel",
      "state": {}
     },
     "e8fc8a1b031f4177a8d7c05c3998f085": {
      "model_module": "@jupyter-widgets/controls",
      "model_module_version": "1.5.0",
      "model_name": "ProgressStyleModel",
      "state": {
       "description_width": "initial"
      }
     },
     "e916da2d567c4893a66fd9aea9975c37": {
      "model_module": "@jupyter-widgets/controls",
      "model_module_version": "1.5.0",
      "model_name": "HTMLModel",
      "state": {
       "layout": "IPY_MODEL_d722ac1d6ede4de0a468b1dd0265cb4b",
       "style": "IPY_MODEL_ed60291be7264e1b8dd24d40b629538a",
       "value": " 0/10000 [07:06&lt;?, ?it/s]"
      }
     },
     "e919949156e64979836a4739edc00978": {
      "model_module": "@jupyter-widgets/controls",
      "model_module_version": "1.5.0",
      "model_name": "FloatProgressModel",
      "state": {
       "bar_style": "danger",
       "description": "Valid iteration=0:   0%",
       "layout": "IPY_MODEL_52e0c7b17e5c47648e1154d9e68f4c41",
       "max": 10000,
       "style": "IPY_MODEL_f73f3a0aa1954460b497be234434cd84"
      }
     },
     "e9461c11ce1b43a5ba8d9ed27091b384": {
      "model_module": "@jupyter-widgets/controls",
      "model_module_version": "1.5.0",
      "model_name": "HBoxModel",
      "state": {
       "children": [
        "IPY_MODEL_a4052d8b148e46a9b76936b759787b62",
        "IPY_MODEL_228f1a357d3041dbacb5685cc489caa3"
       ],
       "layout": "IPY_MODEL_23986c6030b5437a9d66278ea373e5a8"
      }
     },
     "e98a717b1f1a4177931e57aba300bca9": {
      "model_module": "@jupyter-widgets/controls",
      "model_module_version": "1.5.0",
      "model_name": "HBoxModel",
      "state": {
       "children": [
        "IPY_MODEL_737bf82f2c514e108232f2843b021295",
        "IPY_MODEL_7531475046564cab96b44ac5eb7d9942"
       ],
       "layout": "IPY_MODEL_0474872ae1bc4c5391f12391f274c9bf"
      }
     },
     "e99169809e7548a9838f0ed339ae752d": {
      "model_module": "@jupyter-widgets/controls",
      "model_module_version": "1.5.0",
      "model_name": "FloatProgressModel",
      "state": {
       "bar_style": "danger",
       "description": "Train epoch=0:   0%",
       "layout": "IPY_MODEL_08b6e95dc93f495889aa277b55b71715",
       "max": 90000,
       "style": "IPY_MODEL_a58d45b37cff4a37bd42c0e32d994a39"
      }
     },
     "e9924aa3ea514215b292666e2f57094c": {
      "model_module": "@jupyter-widgets/controls",
      "model_module_version": "1.5.0",
      "model_name": "FloatProgressModel",
      "state": {
       "bar_style": "danger",
       "description": "Valid iteration=0:   0%",
       "layout": "IPY_MODEL_afea1f55a10d423f81bd8d8433d6edd2",
       "max": 10000,
       "style": "IPY_MODEL_ebf6e5a2016643d58a9a701ab6e3f804"
      }
     },
     "e9af25ff996c41b8b0e6e16d30313e06": {
      "model_module": "@jupyter-widgets/controls",
      "model_module_version": "1.5.0",
      "model_name": "ProgressStyleModel",
      "state": {
       "description_width": "initial"
      }
     },
     "e9c741a8074b41a9a88ca2f9bddba699": {
      "model_module": "@jupyter-widgets/controls",
      "model_module_version": "1.5.0",
      "model_name": "ProgressStyleModel",
      "state": {
       "description_width": "initial"
      }
     },
     "e9f58649975f4e0686cb8284f0cbb550": {
      "model_module": "@jupyter-widgets/base",
      "model_module_version": "1.2.0",
      "model_name": "LayoutModel",
      "state": {}
     },
     "e9fcc08f499e490880566ba679ead90e": {
      "model_module": "@jupyter-widgets/controls",
      "model_module_version": "1.5.0",
      "model_name": "HTMLModel",
      "state": {
       "layout": "IPY_MODEL_fcda412d61c24f3e8ee45380d9df2331",
       "style": "IPY_MODEL_5a0aab5cc95c40ada9126733f99faaf4",
       "value": " 0/5000 [02:55&lt;?, ?it/s]"
      }
     },
     "e9ffa9cbc74b435a84acb81101bd7332": {
      "model_module": "@jupyter-widgets/controls",
      "model_module_version": "1.5.0",
      "model_name": "HTMLModel",
      "state": {
       "layout": "IPY_MODEL_101b3aac38264173bdf4a9657b59a3a0",
       "style": "IPY_MODEL_15c474982a144e13a2dd4f4433bb3390",
       "value": " 2/5000 [03:38&lt;06:53, 12.08it/s]"
      }
     },
     "ea0282b8c4b04ac197ad4d39b527c4b8": {
      "model_module": "@jupyter-widgets/controls",
      "model_module_version": "1.5.0",
      "model_name": "DescriptionStyleModel",
      "state": {
       "description_width": ""
      }
     },
     "ea091e0e385c49adb20546adc65c0758": {
      "model_module": "@jupyter-widgets/base",
      "model_module_version": "1.2.0",
      "model_name": "LayoutModel",
      "state": {}
     },
     "ea28c6420701451f94c654a216414722": {
      "model_module": "@jupyter-widgets/controls",
      "model_module_version": "1.5.0",
      "model_name": "DescriptionStyleModel",
      "state": {
       "description_width": ""
      }
     },
     "ea4fff82ebe94d4798ff775165fc0d65": {
      "model_module": "@jupyter-widgets/base",
      "model_module_version": "1.2.0",
      "model_name": "LayoutModel",
      "state": {}
     },
     "ea6e73080d5147a4a54bf6e5369b06d2": {
      "model_module": "@jupyter-widgets/controls",
      "model_module_version": "1.5.0",
      "model_name": "FloatProgressModel",
      "state": {
       "bar_style": "danger",
       "description": "Train epoch=0:   0%",
       "layout": "IPY_MODEL_e5f2429b313941f0b89d1e21fc9e89b5",
       "max": 90000,
       "style": "IPY_MODEL_e5fad44b1ebd48e7ad5a9bf199a58a01"
      }
     },
     "ea7862ba42824bc5b05799d0a9b9ac30": {
      "model_module": "@jupyter-widgets/base",
      "model_module_version": "1.2.0",
      "model_name": "LayoutModel",
      "state": {}
     },
     "ea8f3df934ca4507b04709b2b06f9dbe": {
      "model_module": "@jupyter-widgets/base",
      "model_module_version": "1.2.0",
      "model_name": "LayoutModel",
      "state": {}
     },
     "ea93ad9025cb46cf9de86b306ceda18c": {
      "model_module": "@jupyter-widgets/base",
      "model_module_version": "1.2.0",
      "model_name": "LayoutModel",
      "state": {}
     },
     "eaab98d21f5a41dfaa54f6607b46a69f": {
      "model_module": "@jupyter-widgets/base",
      "model_module_version": "1.2.0",
      "model_name": "LayoutModel",
      "state": {}
     },
     "eab8e1aeadda462298d2baa912ed1eaa": {
      "model_module": "@jupyter-widgets/base",
      "model_module_version": "1.2.0",
      "model_name": "LayoutModel",
      "state": {}
     },
     "ead2e918166c44f8b3d23ed739fa006a": {
      "model_module": "@jupyter-widgets/base",
      "model_module_version": "1.2.0",
      "model_name": "LayoutModel",
      "state": {}
     },
     "eb1491af55ae494a994b38e6e7c5530a": {
      "model_module": "@jupyter-widgets/controls",
      "model_module_version": "1.5.0",
      "model_name": "DescriptionStyleModel",
      "state": {
       "description_width": ""
      }
     },
     "eb1c4cba9ab341688159a56d5f579129": {
      "model_module": "@jupyter-widgets/controls",
      "model_module_version": "1.5.0",
      "model_name": "ProgressStyleModel",
      "state": {
       "description_width": "initial"
      }
     },
     "eb66f189dc574502b2c0b08e51543677": {
      "model_module": "@jupyter-widgets/controls",
      "model_module_version": "1.5.0",
      "model_name": "ProgressStyleModel",
      "state": {
       "description_width": "initial"
      }
     },
     "eb7b80fd9ed34e1387219cb86c99082e": {
      "model_module": "@jupyter-widgets/controls",
      "model_module_version": "1.5.0",
      "model_name": "ProgressStyleModel",
      "state": {
       "description_width": "initial"
      }
     },
     "eb7e0def29ae4b9ebdfc9da4a668f99c": {
      "model_module": "@jupyter-widgets/controls",
      "model_module_version": "1.5.0",
      "model_name": "ProgressStyleModel",
      "state": {
       "description_width": "initial"
      }
     },
     "eb84a5826e32482780dcd7b003914013": {
      "model_module": "@jupyter-widgets/base",
      "model_module_version": "1.2.0",
      "model_name": "LayoutModel",
      "state": {}
     },
     "ebadd34839224eb98ee200f2c5acc597": {
      "model_module": "@jupyter-widgets/controls",
      "model_module_version": "1.5.0",
      "model_name": "ProgressStyleModel",
      "state": {
       "description_width": "initial"
      }
     },
     "ebbf05375cd3410fbd636dcbfa5b3a73": {
      "model_module": "@jupyter-widgets/controls",
      "model_module_version": "1.5.0",
      "model_name": "ProgressStyleModel",
      "state": {
       "description_width": "initial"
      }
     },
     "ebcc188c81ab419188fed80bff7f630b": {
      "model_module": "@jupyter-widgets/controls",
      "model_module_version": "1.5.0",
      "model_name": "ProgressStyleModel",
      "state": {
       "description_width": "initial"
      }
     },
     "ebe4b32cc00e4fd5b4fdbb3b5e49ab2b": {
      "model_module": "@jupyter-widgets/controls",
      "model_module_version": "1.5.0",
      "model_name": "FloatProgressModel",
      "state": {
       "bar_style": "danger",
       "description": "Train epoch=0:   0%",
       "layout": "IPY_MODEL_8611dae856174261849f3776f699be19",
       "max": 45000,
       "style": "IPY_MODEL_9c96c942563a4d2aabb8048943b6f525"
      }
     },
     "ebf6e5a2016643d58a9a701ab6e3f804": {
      "model_module": "@jupyter-widgets/controls",
      "model_module_version": "1.5.0",
      "model_name": "ProgressStyleModel",
      "state": {
       "description_width": "initial"
      }
     },
     "ec0a02cbac664c749e8dd9ba43ba23e7": {
      "model_module": "@jupyter-widgets/base",
      "model_module_version": "1.2.0",
      "model_name": "LayoutModel",
      "state": {}
     },
     "ec15ec1e9369460cb432ad89c4f18df6": {
      "model_module": "@jupyter-widgets/controls",
      "model_module_version": "1.5.0",
      "model_name": "HBoxModel",
      "state": {
       "children": [
        "IPY_MODEL_07f6e7baf3274fbf8648a27d1cc25a76",
        "IPY_MODEL_f2a322b96bc34641a5ba08026acb6d96"
       ],
       "layout": "IPY_MODEL_fbf180280e84446290d2c5efa1a5872c"
      }
     },
     "ec266c531af24c669ba6e1af06682653": {
      "model_module": "@jupyter-widgets/controls",
      "model_module_version": "1.5.0",
      "model_name": "DescriptionStyleModel",
      "state": {
       "description_width": ""
      }
     },
     "ec2dc5b921b945d499c7121c73d9b288": {
      "model_module": "@jupyter-widgets/base",
      "model_module_version": "1.2.0",
      "model_name": "LayoutModel",
      "state": {}
     },
     "ec45b196d82741d58fd257467711afd4": {
      "model_module": "@jupyter-widgets/controls",
      "model_module_version": "1.5.0",
      "model_name": "HBoxModel",
      "state": {
       "children": [
        "IPY_MODEL_a82ec61ac57f46289a11c79f2fc54922",
        "IPY_MODEL_7e15174c21a74a62917d18e7a19df3e4"
       ],
       "layout": "IPY_MODEL_18361a99cef3432797d054c217832542"
      }
     },
     "ec76a69fcb67412d9556c1bc812ed207": {
      "model_module": "@jupyter-widgets/base",
      "model_module_version": "1.2.0",
      "model_name": "LayoutModel",
      "state": {}
     },
     "ecd6ec73460049a8ae8008a306f43105": {
      "model_module": "@jupyter-widgets/controls",
      "model_module_version": "1.5.0",
      "model_name": "HTMLModel",
      "state": {
       "layout": "IPY_MODEL_d1364c15039b444b925c587a633fb707",
       "style": "IPY_MODEL_4928ce2c6d4c48deb96dda1c776a835a",
       "value": " 0/12 [00:22&lt;?, ?it/s]"
      }
     },
     "ece6815d31aa4c7db0708a898e1c8a12": {
      "model_module": "@jupyter-widgets/base",
      "model_module_version": "1.2.0",
      "model_name": "LayoutModel",
      "state": {}
     },
     "ed23e34b5a0242e1ba4b1c3d4c6cace6": {
      "model_module": "@jupyter-widgets/controls",
      "model_module_version": "1.5.0",
      "model_name": "HBoxModel",
      "state": {
       "children": [
        "IPY_MODEL_841250ea4db44196af3cbd0d913a9140",
        "IPY_MODEL_e03afef7b403413fa7a591595f5f5dcd"
       ],
       "layout": "IPY_MODEL_d95ce962a2d144c1a1963e0ebaec8975"
      }
     },
     "ed60291be7264e1b8dd24d40b629538a": {
      "model_module": "@jupyter-widgets/controls",
      "model_module_version": "1.5.0",
      "model_name": "DescriptionStyleModel",
      "state": {
       "description_width": ""
      }
     },
     "ed693787bf24488389c72b2afb4a8a3e": {
      "model_module": "@jupyter-widgets/controls",
      "model_module_version": "1.5.0",
      "model_name": "HTMLModel",
      "state": {
       "layout": "IPY_MODEL_de84b67e4141437ca7c4ec27d737cae5",
       "style": "IPY_MODEL_99ae7bb008e54091b81e52a0a1eaa856",
       "value": " 0/45000 [00:19&lt;?, ?it/s]"
      }
     },
     "ed9ef91dd5974b2c9324280cafe6e515": {
      "model_module": "@jupyter-widgets/controls",
      "model_module_version": "1.5.0",
      "model_name": "ProgressStyleModel",
      "state": {
       "description_width": "initial"
      }
     },
     "ed9fc9042b1a4d30b0190b9af88ccaf5": {
      "model_module": "@jupyter-widgets/controls",
      "model_module_version": "1.5.0",
      "model_name": "DescriptionStyleModel",
      "state": {
       "description_width": ""
      }
     },
     "edb37e0579b84229ab593ba5d456fd68": {
      "model_module": "@jupyter-widgets/base",
      "model_module_version": "1.2.0",
      "model_name": "LayoutModel",
      "state": {}
     },
     "edb88f78fac24ebda5a6cdaf564680c2": {
      "model_module": "@jupyter-widgets/base",
      "model_module_version": "1.2.0",
      "model_name": "LayoutModel",
      "state": {}
     },
     "edc00a071c86498fa0112b2b172ff6f4": {
      "model_module": "@jupyter-widgets/controls",
      "model_module_version": "1.5.0",
      "model_name": "ProgressStyleModel",
      "state": {
       "description_width": "initial"
      }
     },
     "edc80a8d7a274b2da6ef604b893b169f": {
      "model_module": "@jupyter-widgets/base",
      "model_module_version": "1.2.0",
      "model_name": "LayoutModel",
      "state": {}
     },
     "ede58298e1db47bc8c97a1a9c52f4412": {
      "model_module": "@jupyter-widgets/controls",
      "model_module_version": "1.5.0",
      "model_name": "ProgressStyleModel",
      "state": {
       "description_width": "initial"
      }
     },
     "ede61d5931d94c8690c64b5bc2ff7fe3": {
      "model_module": "@jupyter-widgets/base",
      "model_module_version": "1.2.0",
      "model_name": "LayoutModel",
      "state": {}
     },
     "ede6f99f23bb47c0b52ba6261a91fef0": {
      "model_module": "@jupyter-widgets/controls",
      "model_module_version": "1.5.0",
      "model_name": "HBoxModel",
      "state": {
       "children": [
        "IPY_MODEL_8dca3496ea294d359fed35606a748874",
        "IPY_MODEL_e27b308f902d457592ef53c549b252d4"
       ],
       "layout": "IPY_MODEL_f1d0782db9744401a1d039b0f01c578f"
      }
     },
     "edfd7242c7f64d708831ac0515dc47df": {
      "model_module": "@jupyter-widgets/base",
      "model_module_version": "1.2.0",
      "model_name": "LayoutModel",
      "state": {}
     },
     "edff406960034117b235e440c03dee09": {
      "model_module": "@jupyter-widgets/controls",
      "model_module_version": "1.5.0",
      "model_name": "DescriptionStyleModel",
      "state": {
       "description_width": ""
      }
     },
     "ee1d892daa8a49da9cfe56e959f4f5e0": {
      "model_module": "@jupyter-widgets/controls",
      "model_module_version": "1.5.0",
      "model_name": "HBoxModel",
      "state": {
       "children": [
        "IPY_MODEL_5a1ad4ea68034d9ab4425a0e10a7f312",
        "IPY_MODEL_e431d1898ae34a998097656b36959778"
       ],
       "layout": "IPY_MODEL_a8a137a007ab4e25b5e711f7750b69e2"
      }
     },
     "ee2178847b7348d5a765d264b8fdfd01": {
      "model_module": "@jupyter-widgets/controls",
      "model_module_version": "1.5.0",
      "model_name": "HBoxModel",
      "state": {
       "children": [
        "IPY_MODEL_605606745cae4df1b1d5cf7f06edb08e",
        "IPY_MODEL_1eae0acb1b9044e8bb8e078ab9ab6c0d"
       ],
       "layout": "IPY_MODEL_a393f3da442f40dfabce990e28df915e"
      }
     },
     "ee4f62f95e744ebf9d667502ea76bde8": {
      "model_module": "@jupyter-widgets/controls",
      "model_module_version": "1.5.0",
      "model_name": "ProgressStyleModel",
      "state": {
       "description_width": "initial"
      }
     },
     "ee81aaf6ec8444f88c87bda34823659a": {
      "model_module": "@jupyter-widgets/base",
      "model_module_version": "1.2.0",
      "model_name": "LayoutModel",
      "state": {}
     },
     "eea2d8e040e141eda480bdbf373cedb3": {
      "model_module": "@jupyter-widgets/controls",
      "model_module_version": "1.5.0",
      "model_name": "ProgressStyleModel",
      "state": {
       "description_width": "initial"
      }
     },
     "eeb20ed930644070bc4ba0a7e8cd0e62": {
      "model_module": "@jupyter-widgets/controls",
      "model_module_version": "1.5.0",
      "model_name": "ProgressStyleModel",
      "state": {
       "description_width": "initial"
      }
     },
     "eec1cec84a7241cfb64ed3b91b1cc921": {
      "model_module": "@jupyter-widgets/controls",
      "model_module_version": "1.5.0",
      "model_name": "HBoxModel",
      "state": {
       "children": [
        "IPY_MODEL_3419b105d9f14cff93c0ce2ac97431e6",
        "IPY_MODEL_bf62af82eee8488c88a2d5c10105c1be"
       ],
       "layout": "IPY_MODEL_24c520fa467c4618b8988a1b288734f4"
      }
     },
     "eee0cc023d3c48968e2c624b63251948": {
      "model_module": "@jupyter-widgets/base",
      "model_module_version": "1.2.0",
      "model_name": "LayoutModel",
      "state": {}
     },
     "eef1edcac8664ed1ac1e809d92dafba3": {
      "model_module": "@jupyter-widgets/base",
      "model_module_version": "1.2.0",
      "model_name": "LayoutModel",
      "state": {}
     },
     "ef02674a3bf34fdf901a76f71dc653ef": {
      "model_module": "@jupyter-widgets/base",
      "model_module_version": "1.2.0",
      "model_name": "LayoutModel",
      "state": {}
     },
     "ef13490e30a04ae3901a4744e7bcbe53": {
      "model_module": "@jupyter-widgets/controls",
      "model_module_version": "1.5.0",
      "model_name": "DescriptionStyleModel",
      "state": {
       "description_width": ""
      }
     },
     "ef21287950934c2990c35dc075d2246d": {
      "model_module": "@jupyter-widgets/controls",
      "model_module_version": "1.5.0",
      "model_name": "DescriptionStyleModel",
      "state": {
       "description_width": ""
      }
     },
     "ef34a6590faf4d5cbe423e1b65c03f2b": {
      "model_module": "@jupyter-widgets/base",
      "model_module_version": "1.2.0",
      "model_name": "LayoutModel",
      "state": {}
     },
     "ef366dffb8c54d9791ad540f675a81b1": {
      "model_module": "@jupyter-widgets/controls",
      "model_module_version": "1.5.0",
      "model_name": "HBoxModel",
      "state": {
       "children": [
        "IPY_MODEL_21f3f198e75a4a669f32bf5864874b49",
        "IPY_MODEL_fe25e6ede3f4429c9190ad648ff5628a"
       ],
       "layout": "IPY_MODEL_f5b77861fe7542cb9fc4f188a7495fea"
      }
     },
     "ef6cf643a53e419496f87935f1ee8fc0": {
      "model_module": "@jupyter-widgets/base",
      "model_module_version": "1.2.0",
      "model_name": "LayoutModel",
      "state": {}
     },
     "ef7710fc1a5a4e909b9eb8b741110940": {
      "model_module": "@jupyter-widgets/controls",
      "model_module_version": "1.5.0",
      "model_name": "HTMLModel",
      "state": {
       "layout": "IPY_MODEL_9c6c1dc48e6348f08b15cf35c3847b2d",
       "style": "IPY_MODEL_561de7419caa42bda8d876fd86103e70",
       "value": " 0/12 [00:37&lt;?, ?it/s]"
      }
     },
     "ef8ad132a3ff41649c5113585c6120e3": {
      "model_module": "@jupyter-widgets/base",
      "model_module_version": "1.2.0",
      "model_name": "LayoutModel",
      "state": {}
     },
     "ef94798eb24845198ce41ca31e1980dd": {
      "model_module": "@jupyter-widgets/base",
      "model_module_version": "1.2.0",
      "model_name": "LayoutModel",
      "state": {}
     },
     "ef953702ec994593b53646b3414f96cf": {
      "model_module": "@jupyter-widgets/controls",
      "model_module_version": "1.5.0",
      "model_name": "DescriptionStyleModel",
      "state": {
       "description_width": ""
      }
     },
     "ef9c37769cb742308e045fadb432a34c": {
      "model_module": "@jupyter-widgets/controls",
      "model_module_version": "1.5.0",
      "model_name": "FloatProgressModel",
      "state": {
       "bar_style": "danger",
       "description": "Train epoch=0:   0%",
       "layout": "IPY_MODEL_c7f708d2b6374c00902a8ce6b8895fcd",
       "max": 90000,
       "style": "IPY_MODEL_9f8bd1a84528485a8532d6d0f17cd5b3"
      }
     },
     "efceb3ccaa3e45d09f9a7a623b1f7aa4": {
      "model_module": "@jupyter-widgets/base",
      "model_module_version": "1.2.0",
      "model_name": "LayoutModel",
      "state": {}
     },
     "efe2e10d4a6c4d81aff4ad4cd78dcc4e": {
      "model_module": "@jupyter-widgets/base",
      "model_module_version": "1.2.0",
      "model_name": "LayoutModel",
      "state": {}
     },
     "efe3252433164baf915f379b7eaff993": {
      "model_module": "@jupyter-widgets/base",
      "model_module_version": "1.2.0",
      "model_name": "LayoutModel",
      "state": {}
     },
     "efea08a5eb224bc2a26a627d0a106073": {
      "model_module": "@jupyter-widgets/controls",
      "model_module_version": "1.5.0",
      "model_name": "DescriptionStyleModel",
      "state": {
       "description_width": ""
      }
     },
     "f01f96f2507e44b08fc3f8695ec49a99": {
      "model_module": "@jupyter-widgets/controls",
      "model_module_version": "1.5.0",
      "model_name": "HBoxModel",
      "state": {
       "children": [
        "IPY_MODEL_5474d4334da64a36aca8646cc9dbbeda",
        "IPY_MODEL_679d5c7f3c294bd29319b60aa9d0045b"
       ],
       "layout": "IPY_MODEL_31e07ec3526e43928bd9884885992ebd"
      }
     },
     "f0218a9c53d44a2d83860664b9d9326c": {
      "model_module": "@jupyter-widgets/controls",
      "model_module_version": "1.5.0",
      "model_name": "DescriptionStyleModel",
      "state": {
       "description_width": ""
      }
     },
     "f02c3eedf0584b9c9a1d3c4edfa4b589": {
      "model_module": "@jupyter-widgets/controls",
      "model_module_version": "1.5.0",
      "model_name": "FloatProgressModel",
      "state": {
       "bar_style": "danger",
       "description": "Train:   0%",
       "layout": "IPY_MODEL_5fc55a8478dd4544ba76361402696f36",
       "max": 23,
       "style": "IPY_MODEL_8df6c699976e4f71891a97009fff89fa"
      }
     },
     "f045cd4fbcb9407bb4182b5709beaaee": {
      "model_module": "@jupyter-widgets/base",
      "model_module_version": "1.2.0",
      "model_name": "LayoutModel",
      "state": {}
     },
     "f060a512abea47ec9d3078066ce79150": {
      "model_module": "@jupyter-widgets/controls",
      "model_module_version": "1.5.0",
      "model_name": "DescriptionStyleModel",
      "state": {
       "description_width": ""
      }
     },
     "f0672cdd90304ac6bfc9a95acb109c2a": {
      "model_module": "@jupyter-widgets/controls",
      "model_module_version": "1.5.0",
      "model_name": "ProgressStyleModel",
      "state": {
       "description_width": "initial"
      }
     },
     "f08305954ba9469f9e651c29171ba68c": {
      "model_module": "@jupyter-widgets/controls",
      "model_module_version": "1.5.0",
      "model_name": "FloatProgressModel",
      "state": {
       "bar_style": "danger",
       "description": "Valid iteration=0:   0%",
       "layout": "IPY_MODEL_afd20f2ed48d4e589f04f8d06ecdc187",
       "max": 10000,
       "style": "IPY_MODEL_37816c3aac984e4091b18ef364407139"
      }
     },
     "f08e976d3575407fabe1b150dccc43c3": {
      "model_module": "@jupyter-widgets/base",
      "model_module_version": "1.2.0",
      "model_name": "LayoutModel",
      "state": {}
     },
     "f0a0f5d77b4940f8ae135d8b3a206f24": {
      "model_module": "@jupyter-widgets/controls",
      "model_module_version": "1.5.0",
      "model_name": "ProgressStyleModel",
      "state": {
       "description_width": "initial"
      }
     },
     "f0c1c3a8fd254018b91b051fc0f59a09": {
      "model_module": "@jupyter-widgets/base",
      "model_module_version": "1.2.0",
      "model_name": "LayoutModel",
      "state": {}
     },
     "f0f69c0786e34d8886d1838cc49fe114": {
      "model_module": "@jupyter-widgets/controls",
      "model_module_version": "1.5.0",
      "model_name": "FloatProgressModel",
      "state": {
       "bar_style": "danger",
       "description": "Valid iteration=0:   0%",
       "layout": "IPY_MODEL_3a4872046f6f4f3bb5265b58ad2fe6d5",
       "max": 10000,
       "style": "IPY_MODEL_e72955700d564b83bbb19e1e4a771251"
      }
     },
     "f0fc300cfa06432790cb569622d5481b": {
      "model_module": "@jupyter-widgets/controls",
      "model_module_version": "1.5.0",
      "model_name": "FloatProgressModel",
      "state": {
       "bar_style": "danger",
       "description": "Train:   0%",
       "layout": "IPY_MODEL_efe3252433164baf915f379b7eaff993",
       "max": 12,
       "style": "IPY_MODEL_2e5b2dc011be494395f7bd2809f66d68"
      }
     },
     "f102453bb89544c8886ba4e593004643": {
      "model_module": "@jupyter-widgets/controls",
      "model_module_version": "1.5.0",
      "model_name": "DescriptionStyleModel",
      "state": {
       "description_width": ""
      }
     },
     "f113a8e9c3f74e43a30bf0ad5eddaa7d": {
      "model_module": "@jupyter-widgets/base",
      "model_module_version": "1.2.0",
      "model_name": "LayoutModel",
      "state": {}
     },
     "f11c85dc3729473d83e0ca7b8dd69744": {
      "model_module": "@jupyter-widgets/controls",
      "model_module_version": "1.5.0",
      "model_name": "FloatProgressModel",
      "state": {
       "bar_style": "danger",
       "description": "Train epoch=0:   0%",
       "layout": "IPY_MODEL_a09a73d092144762b208f7e4164dbdc0",
       "max": 90000,
       "style": "IPY_MODEL_30a260e4f5e14bcdaae33ac51fc215ab"
      }
     },
     "f11d9f039e964b3d9103253bde55aa58": {
      "model_module": "@jupyter-widgets/base",
      "model_module_version": "1.2.0",
      "model_name": "LayoutModel",
      "state": {}
     },
     "f1215691ab8d4242bd9e70ea3dda1c28": {
      "model_module": "@jupyter-widgets/controls",
      "model_module_version": "1.5.0",
      "model_name": "ProgressStyleModel",
      "state": {
       "description_width": "initial"
      }
     },
     "f13acc5b4fdf46f6b16e2bda68dd4669": {
      "model_module": "@jupyter-widgets/controls",
      "model_module_version": "1.5.0",
      "model_name": "HTMLModel",
      "state": {
       "layout": "IPY_MODEL_3aefb6fea3284878b5fdab9062a6c6d3",
       "style": "IPY_MODEL_4255ab53c1e74dd0862b0447c5e2028c",
       "value": " 0/10000 [00:01&lt;?, ?it/s]"
      }
     },
     "f15bb173c6bc461cb3f95cbef47fbf3d": {
      "model_module": "@jupyter-widgets/controls",
      "model_module_version": "1.5.0",
      "model_name": "HBoxModel",
      "state": {
       "children": [
        "IPY_MODEL_b73b0865b7e24dd3b2ad2f67c7d490ce",
        "IPY_MODEL_17de5d9d9e8b4b53b8780c4519185100"
       ],
       "layout": "IPY_MODEL_db01c671b5fd4099a0f99fda1a91013d"
      }
     },
     "f1738870df4c4da99e07cd4e8eddea40": {
      "model_module": "@jupyter-widgets/base",
      "model_module_version": "1.2.0",
      "model_name": "LayoutModel",
      "state": {}
     },
     "f179d98df5824f56887f4ffc1df73e6e": {
      "model_module": "@jupyter-widgets/controls",
      "model_module_version": "1.5.0",
      "model_name": "DescriptionStyleModel",
      "state": {
       "description_width": ""
      }
     },
     "f17c058f487e4c2787a68648f03d57a0": {
      "model_module": "@jupyter-widgets/controls",
      "model_module_version": "1.5.0",
      "model_name": "HTMLModel",
      "state": {
       "layout": "IPY_MODEL_425c6a3323024fc5a2610949b7d5845f",
       "style": "IPY_MODEL_d27ec7969c7b47378610bc339dad24b9",
       "value": " 30/90000 [00:16&lt;10:18:54,  2.42it/s]"
      }
     },
     "f1888ea77cd44c69964bf7cbb261533a": {
      "model_module": "@jupyter-widgets/controls",
      "model_module_version": "1.5.0",
      "model_name": "ProgressStyleModel",
      "state": {
       "description_width": "initial"
      }
     },
     "f19e7e52d01f4cf3afc569d8af36641d": {
      "model_module": "@jupyter-widgets/base",
      "model_module_version": "1.2.0",
      "model_name": "LayoutModel",
      "state": {}
     },
     "f1a1dbfb555a4b27a4d31438f4e154fa": {
      "model_module": "@jupyter-widgets/controls",
      "model_module_version": "1.5.0",
      "model_name": "FloatProgressModel",
      "state": {
       "bar_style": "danger",
       "description": "Train epoch=0:   0%",
       "layout": "IPY_MODEL_1d7002a3b72646c6b39c926615d4ff67",
       "max": 90000,
       "style": "IPY_MODEL_7952321af75d495bb04c3227d7af3627"
      }
     },
     "f1d0782db9744401a1d039b0f01c578f": {
      "model_module": "@jupyter-widgets/base",
      "model_module_version": "1.2.0",
      "model_name": "LayoutModel",
      "state": {}
     },
     "f1d132c399fe44caa7c8fdd6408dd0f6": {
      "model_module": "@jupyter-widgets/base",
      "model_module_version": "1.2.0",
      "model_name": "LayoutModel",
      "state": {}
     },
     "f1dad840efef4335ab34078fdaaa9178": {
      "model_module": "@jupyter-widgets/base",
      "model_module_version": "1.2.0",
      "model_name": "LayoutModel",
      "state": {}
     },
     "f1db316c85f942c3be5da2cc3aa6d3f4": {
      "model_module": "@jupyter-widgets/base",
      "model_module_version": "1.2.0",
      "model_name": "LayoutModel",
      "state": {}
     },
     "f1eae997e84d48a592ccc1717c25fe1b": {
      "model_module": "@jupyter-widgets/controls",
      "model_module_version": "1.5.0",
      "model_name": "HTMLModel",
      "state": {
       "layout": "IPY_MODEL_4d0598a985544c62b9d6f532555084b2",
       "style": "IPY_MODEL_9ab14a9d41aa4d63b3de1d672751bfc2",
       "value": " 0/10000 [00:01&lt;?, ?it/s]"
      }
     },
     "f20d2fdf06104b83b88b998c86f4ec5d": {
      "model_module": "@jupyter-widgets/controls",
      "model_module_version": "1.5.0",
      "model_name": "FloatProgressModel",
      "state": {
       "bar_style": "danger",
       "description": "Valid iteration=2000:   0%",
       "layout": "IPY_MODEL_41206809855343f6a4746218bbacaf24",
       "max": 5000,
       "style": "IPY_MODEL_900f6fea432d47628e3c9a31e2582ed8"
      }
     },
     "f21eafd401494613af7f0805f23532c0": {
      "model_module": "@jupyter-widgets/controls",
      "model_module_version": "1.5.0",
      "model_name": "ProgressStyleModel",
      "state": {
       "description_width": "initial"
      }
     },
     "f22e3a4847bb4a039e1b0727538d23fe": {
      "model_module": "@jupyter-widgets/controls",
      "model_module_version": "1.5.0",
      "model_name": "DescriptionStyleModel",
      "state": {
       "description_width": ""
      }
     },
     "f237ff19722940b2af965bfcf0e89ca1": {
      "model_module": "@jupyter-widgets/controls",
      "model_module_version": "1.5.0",
      "model_name": "FloatProgressModel",
      "state": {
       "bar_style": "danger",
       "description": "Train epoch=0:   0%",
       "layout": "IPY_MODEL_6e6b06b634da486a9695621d11fe6e60",
       "max": 90000,
       "style": "IPY_MODEL_e326c8aa12384192aaf024db9c6de1c8",
       "value": 187
      }
     },
     "f23945e6f1754e35ab415b020bc1a09c": {
      "model_module": "@jupyter-widgets/base",
      "model_module_version": "1.2.0",
      "model_name": "LayoutModel",
      "state": {}
     },
     "f25687272e90487f9680536cea1008ab": {
      "model_module": "@jupyter-widgets/base",
      "model_module_version": "1.2.0",
      "model_name": "LayoutModel",
      "state": {}
     },
     "f28d77f120a647d5a0d7c13702a28de6": {
      "model_module": "@jupyter-widgets/controls",
      "model_module_version": "1.5.0",
      "model_name": "HTMLModel",
      "state": {
       "layout": "IPY_MODEL_4e4b3e86214d4e708ff6fca0272d9fee",
       "style": "IPY_MODEL_1cd766123af0406dbad8f21eb575027c",
       "value": " 0/5000 [04:35&lt;?, ?it/s]"
      }
     },
     "f293de586dd94673b59d7334e299ea0b": {
      "model_module": "@jupyter-widgets/controls",
      "model_module_version": "1.5.0",
      "model_name": "ProgressStyleModel",
      "state": {
       "description_width": "initial"
      }
     },
     "f2a322b96bc34641a5ba08026acb6d96": {
      "model_module": "@jupyter-widgets/controls",
      "model_module_version": "1.5.0",
      "model_name": "HTMLModel",
      "state": {
       "layout": "IPY_MODEL_f91afe29de214dc78859fa7a121b3ed6",
       "style": "IPY_MODEL_402491cdc27b46a5b5ccaf341492d4ee",
       "value": " 136/90000 [01:36&lt;8:48:57,  2.83it/s]"
      }
     },
     "f2c9c3586b94416ba4b74437978dea1a": {
      "model_module": "@jupyter-widgets/controls",
      "model_module_version": "1.5.0",
      "model_name": "DescriptionStyleModel",
      "state": {
       "description_width": ""
      }
     },
     "f2d3ac01399340e7a4fe2a640e16a0a3": {
      "model_module": "@jupyter-widgets/controls",
      "model_module_version": "1.5.0",
      "model_name": "ProgressStyleModel",
      "state": {
       "description_width": "initial"
      }
     },
     "f2fa7a722cf248b68de17695f5dc4ffa": {
      "model_module": "@jupyter-widgets/controls",
      "model_module_version": "1.5.0",
      "model_name": "DescriptionStyleModel",
      "state": {
       "description_width": ""
      }
     },
     "f302f9cf54f14589baed55ae51f7e1cf": {
      "model_module": "@jupyter-widgets/controls",
      "model_module_version": "1.5.0",
      "model_name": "FloatProgressModel",
      "state": {
       "bar_style": "danger",
       "description": "Train:   0%",
       "layout": "IPY_MODEL_0e47c6e7e3bb491192b57737de645eac",
       "max": 12,
       "style": "IPY_MODEL_4a310778c84440d49e56299791065577"
      }
     },
     "f30d4221018945958c9d842fdc87d914": {
      "model_module": "@jupyter-widgets/controls",
      "model_module_version": "1.5.0",
      "model_name": "FloatProgressModel",
      "state": {
       "bar_style": "danger",
       "description": "Train epoch=0:   0%",
       "layout": "IPY_MODEL_14c7f1c964a44f43ba0aed5a8377cd80",
       "max": 90000,
       "style": "IPY_MODEL_1e8b4c5dfff44e64bfba23bd20dcfca7",
       "value": 34
      }
     },
     "f34bfa105bb845fc99847cbc3cd57c65": {
      "model_module": "@jupyter-widgets/controls",
      "model_module_version": "1.5.0",
      "model_name": "HTMLModel",
      "state": {
       "layout": "IPY_MODEL_0256f65d7ee64274997c5e0590bb0047",
       "style": "IPY_MODEL_7ba6ea5384044b27b75290cb9d95be79",
       "value": " 109/90000 [00:50&lt;10:16:10,  2.43it/s]"
      }
     },
     "f35cfb8a69904b2384e774f10cb53d16": {
      "model_module": "@jupyter-widgets/controls",
      "model_module_version": "1.5.0",
      "model_name": "FloatProgressModel",
      "state": {
       "bar_style": "danger",
       "description": "Train epoch=0:   3%",
       "layout": "IPY_MODEL_3888e16e63a54eee873bed0c7fc47ddd",
       "max": 90000,
       "style": "IPY_MODEL_4bbad52cb996468098f6bc980579cf13",
       "value": 2887
      }
     },
     "f388d611f2454060a927edf92021a32a": {
      "model_module": "@jupyter-widgets/controls",
      "model_module_version": "1.5.0",
      "model_name": "HTMLModel",
      "state": {
       "layout": "IPY_MODEL_b1e17a1101bf4d9695a1420f2c471e7e",
       "style": "IPY_MODEL_6ae04b5c993d4a9199081d195f976e76",
       "value": " 0/5000 [00:59&lt;?, ?it/s]"
      }
     },
     "f3bec3943fcd4cd880f0b2e5cda1a736": {
      "model_module": "@jupyter-widgets/controls",
      "model_module_version": "1.5.0",
      "model_name": "ProgressStyleModel",
      "state": {
       "description_width": "initial"
      }
     },
     "f3cf3920b748445eb9711686043969d7": {
      "model_module": "@jupyter-widgets/base",
      "model_module_version": "1.2.0",
      "model_name": "LayoutModel",
      "state": {}
     },
     "f3d9c346c3654cc382e23bf6da8e360d": {
      "model_module": "@jupyter-widgets/base",
      "model_module_version": "1.2.0",
      "model_name": "LayoutModel",
      "state": {}
     },
     "f3de5eafe567470aa3d939ba592b1a21": {
      "model_module": "@jupyter-widgets/controls",
      "model_module_version": "1.5.0",
      "model_name": "HTMLModel",
      "state": {
       "layout": "IPY_MODEL_41905e04d7a5428a95f987d233de79d3",
       "style": "IPY_MODEL_7f51d1e633954030a721008a88313823",
       "value": " 0/10000 [00:11&lt;?, ?it/s]"
      }
     },
     "f41b67d63698446db2207684243913f1": {
      "model_module": "@jupyter-widgets/base",
      "model_module_version": "1.2.0",
      "model_name": "LayoutModel",
      "state": {}
     },
     "f440cd08028b4c2d9fa1d26715cebf9d": {
      "model_module": "@jupyter-widgets/controls",
      "model_module_version": "1.5.0",
      "model_name": "FloatProgressModel",
      "state": {
       "bar_style": "danger",
       "description": "Train:   0%",
       "layout": "IPY_MODEL_241b6ea2ecc14d349911453b280ca8d3",
       "max": 12,
       "style": "IPY_MODEL_f0672cdd90304ac6bfc9a95acb109c2a"
      }
     },
     "f442c5f91ee94f909ac3759d26377a66": {
      "model_module": "@jupyter-widgets/controls",
      "model_module_version": "1.5.0",
      "model_name": "DescriptionStyleModel",
      "state": {
       "description_width": ""
      }
     },
     "f4545525d8a44ee5809c85d90655fb1e": {
      "model_module": "@jupyter-widgets/controls",
      "model_module_version": "1.5.0",
      "model_name": "HBoxModel",
      "state": {
       "children": [
        "IPY_MODEL_d9e71f7c504f4347b7ba2e2aad681c52",
        "IPY_MODEL_518a8d50883c4256b78fe9926d42b46b"
       ],
       "layout": "IPY_MODEL_f6b4c8fa2b7e4132b93f92812393d389"
      }
     },
     "f474d371dace48099ea92362d53361b5": {
      "model_module": "@jupyter-widgets/controls",
      "model_module_version": "1.5.0",
      "model_name": "FloatProgressModel",
      "state": {
       "bar_style": "danger",
       "description": "Train:   0%",
       "layout": "IPY_MODEL_f945d39d5b0547e0a7561a2fd3c3dc90",
       "max": 12,
       "style": "IPY_MODEL_c5eea66808044ef49933c9c0fcb16cf8"
      }
     },
     "f47bb3600ca34967bc29cb02bbc7a7fd": {
      "model_module": "@jupyter-widgets/controls",
      "model_module_version": "1.5.0",
      "model_name": "HTMLModel",
      "state": {
       "layout": "IPY_MODEL_bf68c253a7a5443f98230c598a9cbca3",
       "style": "IPY_MODEL_60a5dc961d6e43df97e4667d6a8f0075",
       "value": " 0/12 [00:36&lt;?, ?it/s]"
      }
     },
     "f4874d9c757644e6b7312d49137a57a0": {
      "model_module": "@jupyter-widgets/controls",
      "model_module_version": "1.5.0",
      "model_name": "HTMLModel",
      "state": {
       "layout": "IPY_MODEL_a3abec041d6f44d0bcdfeab4ddd023d3",
       "style": "IPY_MODEL_9486860b12654dffb0fd8cc9695db8f0",
       "value": " 0/10000 [26:36&lt;?, ?it/s]"
      }
     },
     "f4911d4256f24da0b1cefa3b3eed6714": {
      "model_module": "@jupyter-widgets/base",
      "model_module_version": "1.2.0",
      "model_name": "LayoutModel",
      "state": {}
     },
     "f4abfff117c8417da3b5542fa695afe3": {
      "model_module": "@jupyter-widgets/controls",
      "model_module_version": "1.5.0",
      "model_name": "ProgressStyleModel",
      "state": {
       "description_width": "initial"
      }
     },
     "f4ccb98e7fe6493d87d1a20725287843": {
      "model_module": "@jupyter-widgets/controls",
      "model_module_version": "1.5.0",
      "model_name": "FloatProgressModel",
      "state": {
       "bar_style": "danger",
       "description": "Train epoch=0:   0%",
       "layout": "IPY_MODEL_6433d4b5e8ef410f806377b0706b71ef",
       "max": 45000,
       "style": "IPY_MODEL_1f1f4c2db93e4723aa87a1897b6d34f0"
      }
     },
     "f4d86ff14774444abf453bade15333d4": {
      "model_module": "@jupyter-widgets/controls",
      "model_module_version": "1.5.0",
      "model_name": "HBoxModel",
      "state": {
       "children": [
        "IPY_MODEL_f85da1fabc0f41df8e351e699284af14",
        "IPY_MODEL_808458bebe6f45f7921d187281237005"
       ],
       "layout": "IPY_MODEL_d004fe8f4c604f85a357f33a2953c112"
      }
     },
     "f4df0533b5d54e3b8b9c82994461bbf7": {
      "model_module": "@jupyter-widgets/controls",
      "model_module_version": "1.5.0",
      "model_name": "HTMLModel",
      "state": {
       "layout": "IPY_MODEL_5587ab95c17e4348a0db9d28a563dfc3",
       "style": "IPY_MODEL_f62c69401b3a4e3eaa3ccdaa24ae4ac1",
       "value": " 0/90000 [00:39&lt;?, ?it/s]"
      }
     },
     "f4ebef48e1d74c3ba9cea3543c2d452c": {
      "model_module": "@jupyter-widgets/controls",
      "model_module_version": "1.5.0",
      "model_name": "ProgressStyleModel",
      "state": {
       "description_width": "initial"
      }
     },
     "f514417d216949028882676a4369af02": {
      "model_module": "@jupyter-widgets/controls",
      "model_module_version": "1.5.0",
      "model_name": "ProgressStyleModel",
      "state": {
       "description_width": "initial"
      }
     },
     "f5153cbbefb24b9893fe8b7f76b922d1": {
      "model_module": "@jupyter-widgets/controls",
      "model_module_version": "1.5.0",
      "model_name": "HTMLModel",
      "state": {
       "layout": "IPY_MODEL_f9f839d561164ed3ad5e9ce9a3f740f4",
       "style": "IPY_MODEL_ec266c531af24c669ba6e1af06682653",
       "value": " 0/10000 [00:01&lt;?, ?it/s]"
      }
     },
     "f528db3337a74575aec11598f0babc89": {
      "model_module": "@jupyter-widgets/controls",
      "model_module_version": "1.5.0",
      "model_name": "DescriptionStyleModel",
      "state": {
       "description_width": ""
      }
     },
     "f5406cff13f14b6eb2474fa0b3e2693e": {
      "model_module": "@jupyter-widgets/base",
      "model_module_version": "1.2.0",
      "model_name": "LayoutModel",
      "state": {}
     },
     "f56533b306cf4b0184158b6dfb337912": {
      "model_module": "@jupyter-widgets/controls",
      "model_module_version": "1.5.0",
      "model_name": "ProgressStyleModel",
      "state": {
       "description_width": "initial"
      }
     },
     "f583044939094409a57b9fd3f2d51fd6": {
      "model_module": "@jupyter-widgets/controls",
      "model_module_version": "1.5.0",
      "model_name": "ProgressStyleModel",
      "state": {
       "description_width": "initial"
      }
     },
     "f5aa749569f04246beff7556dacc49e6": {
      "model_module": "@jupyter-widgets/controls",
      "model_module_version": "1.5.0",
      "model_name": "ProgressStyleModel",
      "state": {
       "description_width": "initial"
      }
     },
     "f5b77861fe7542cb9fc4f188a7495fea": {
      "model_module": "@jupyter-widgets/base",
      "model_module_version": "1.2.0",
      "model_name": "LayoutModel",
      "state": {}
     },
     "f5bdcf6d9a814e539e6e7fb99feb7eab": {
      "model_module": "@jupyter-widgets/base",
      "model_module_version": "1.2.0",
      "model_name": "LayoutModel",
      "state": {}
     },
     "f5f994e0901048c78571e1a677bec97e": {
      "model_module": "@jupyter-widgets/base",
      "model_module_version": "1.2.0",
      "model_name": "LayoutModel",
      "state": {}
     },
     "f62238be0d674112911a49314112b6c3": {
      "model_module": "@jupyter-widgets/controls",
      "model_module_version": "1.5.0",
      "model_name": "DescriptionStyleModel",
      "state": {
       "description_width": ""
      }
     },
     "f6225f21b9b443ff87c624888460b9bd": {
      "model_module": "@jupyter-widgets/base",
      "model_module_version": "1.2.0",
      "model_name": "LayoutModel",
      "state": {}
     },
     "f62c69401b3a4e3eaa3ccdaa24ae4ac1": {
      "model_module": "@jupyter-widgets/controls",
      "model_module_version": "1.5.0",
      "model_name": "DescriptionStyleModel",
      "state": {
       "description_width": ""
      }
     },
     "f6425bd548744966b75a03ae21a77121": {
      "model_module": "@jupyter-widgets/base",
      "model_module_version": "1.2.0",
      "model_name": "LayoutModel",
      "state": {}
     },
     "f651565f9ff24606a9763680010fbe09": {
      "model_module": "@jupyter-widgets/controls",
      "model_module_version": "1.5.0",
      "model_name": "DescriptionStyleModel",
      "state": {
       "description_width": ""
      }
     },
     "f683dcfbbae7424eb2ee5b2e97930e00": {
      "model_module": "@jupyter-widgets/controls",
      "model_module_version": "1.5.0",
      "model_name": "HBoxModel",
      "state": {
       "children": [
        "IPY_MODEL_f4ccb98e7fe6493d87d1a20725287843",
        "IPY_MODEL_8e6c4f45770e43c7954e0ef46dcc03d4"
       ],
       "layout": "IPY_MODEL_b06f6c5f1faf49e6b97f7b2f3e67f1c5"
      }
     },
     "f6878fa724244dd0b9ec10ae6cdfcdea": {
      "model_module": "@jupyter-widgets/base",
      "model_module_version": "1.2.0",
      "model_name": "LayoutModel",
      "state": {}
     },
     "f68d2b0eafd44cb982b82b9e5948c921": {
      "model_module": "@jupyter-widgets/controls",
      "model_module_version": "1.5.0",
      "model_name": "HTMLModel",
      "state": {
       "layout": "IPY_MODEL_bb9b4f89c66b42a190709b6958189fe5",
       "style": "IPY_MODEL_d3450e6b9b40407e805455295e1a96f7",
       "value": " 0/10000 [00:01&lt;?, ?it/s]"
      }
     },
     "f697064f9f9942afb61e781e044d79ba": {
      "model_module": "@jupyter-widgets/controls",
      "model_module_version": "1.5.0",
      "model_name": "FloatProgressModel",
      "state": {
       "bar_style": "danger",
       "description": "Train epoch=0:   0%",
       "layout": "IPY_MODEL_348a3319c4e74e5fb072667f114893ff",
       "max": 90000,
       "style": "IPY_MODEL_6dbfd7e54fea4005a6ee9f49a8bc2ea4"
      }
     },
     "f698a53874ec46cf9bc2f6057c42b117": {
      "model_module": "@jupyter-widgets/controls",
      "model_module_version": "1.5.0",
      "model_name": "ProgressStyleModel",
      "state": {
       "description_width": "initial"
      }
     },
     "f6a22e4dfbe3452cb44aa46dfc486628": {
      "model_module": "@jupyter-widgets/controls",
      "model_module_version": "1.5.0",
      "model_name": "ProgressStyleModel",
      "state": {
       "description_width": "initial"
      }
     },
     "f6adef2f5e754d11a3628af02dc4fe48": {
      "model_module": "@jupyter-widgets/controls",
      "model_module_version": "1.5.0",
      "model_name": "HBoxModel",
      "state": {
       "children": [
        "IPY_MODEL_124020757d3c4908948147a47d6d5667",
        "IPY_MODEL_cd0a3c4010ff446e98b978e59f34addd"
       ],
       "layout": "IPY_MODEL_7dfe8bedc1a141b4b4d5463ff16b191c"
      }
     },
     "f6b4c8fa2b7e4132b93f92812393d389": {
      "model_module": "@jupyter-widgets/base",
      "model_module_version": "1.2.0",
      "model_name": "LayoutModel",
      "state": {}
     },
     "f6d6fd5386cb419a96236facad9c722c": {
      "model_module": "@jupyter-widgets/controls",
      "model_module_version": "1.5.0",
      "model_name": "DescriptionStyleModel",
      "state": {
       "description_width": ""
      }
     },
     "f6ecfbbf25eb4696b059a03f14c0b177": {
      "model_module": "@jupyter-widgets/controls",
      "model_module_version": "1.5.0",
      "model_name": "HTMLModel",
      "state": {
       "layout": "IPY_MODEL_d98d574bfd9347d3b8364fbf302f8085",
       "style": "IPY_MODEL_79335c584e0541de8a4283fb7407c4cf",
       "value": " 0/12 [00:10&lt;?, ?it/s]"
      }
     },
     "f6ed9311c33b4ac4b3f0d8711badadfc": {
      "model_module": "@jupyter-widgets/controls",
      "model_module_version": "1.5.0",
      "model_name": "ProgressStyleModel",
      "state": {
       "description_width": "initial"
      }
     },
     "f6f01b2a5ea8406ab6eca5f46c874d23": {
      "model_module": "@jupyter-widgets/base",
      "model_module_version": "1.2.0",
      "model_name": "LayoutModel",
      "state": {}
     },
     "f7086a30f88b4bdab531eaf47d2738f9": {
      "model_module": "@jupyter-widgets/base",
      "model_module_version": "1.2.0",
      "model_name": "LayoutModel",
      "state": {}
     },
     "f71bbd89e24749d38622d9e38abdf01b": {
      "model_module": "@jupyter-widgets/controls",
      "model_module_version": "1.5.0",
      "model_name": "HBoxModel",
      "state": {
       "children": [
        "IPY_MODEL_bee9090100784b62a1ee61bdd115d380",
        "IPY_MODEL_ff6aa9ee5346477ba8b47937a347d864"
       ],
       "layout": "IPY_MODEL_732c321f63ff4dcc8bae45e9806c5f4d"
      }
     },
     "f73f3a0aa1954460b497be234434cd84": {
      "model_module": "@jupyter-widgets/controls",
      "model_module_version": "1.5.0",
      "model_name": "ProgressStyleModel",
      "state": {
       "description_width": "initial"
      }
     },
     "f745a64dd5544c2bbb7ef4325d6ed0cf": {
      "model_module": "@jupyter-widgets/base",
      "model_module_version": "1.2.0",
      "model_name": "LayoutModel",
      "state": {}
     },
     "f74d82fa681b45eb9bc2d843a540a206": {
      "model_module": "@jupyter-widgets/base",
      "model_module_version": "1.2.0",
      "model_name": "LayoutModel",
      "state": {}
     },
     "f76e7492d81341abac10a865584c1b4b": {
      "model_module": "@jupyter-widgets/controls",
      "model_module_version": "1.5.0",
      "model_name": "DescriptionStyleModel",
      "state": {
       "description_width": ""
      }
     },
     "f7710e6cbaea4dd7ab18b31d9c92483b": {
      "model_module": "@jupyter-widgets/base",
      "model_module_version": "1.2.0",
      "model_name": "LayoutModel",
      "state": {}
     },
     "f771786595d44b8d92efb5bafb1f202c": {
      "model_module": "@jupyter-widgets/controls",
      "model_module_version": "1.5.0",
      "model_name": "FloatProgressModel",
      "state": {
       "bar_style": "danger",
       "description": "Valid iteration=1000:   0%",
       "layout": "IPY_MODEL_a59b65c7c6aa4c0687923bd562827939",
       "max": 10000,
       "style": "IPY_MODEL_6f0526adb8de40a3a91333bea2d09768"
      }
     },
     "f790d02d52bf46019ad6ecc2da9d007d": {
      "model_module": "@jupyter-widgets/base",
      "model_module_version": "1.2.0",
      "model_name": "LayoutModel",
      "state": {}
     },
     "f79e2ca715314a51838b69d489c4fa70": {
      "model_module": "@jupyter-widgets/controls",
      "model_module_version": "1.5.0",
      "model_name": "FloatProgressModel",
      "state": {
       "bar_style": "danger",
       "description": "Train epoch=0:   0%",
       "layout": "IPY_MODEL_3b96382f1643425fb429cb4b71b87725",
       "max": 90000,
       "style": "IPY_MODEL_ab9738f01c794309bbfcf183a26adec5"
      }
     },
     "f7a000a81ff245c18a354373797b499d": {
      "model_module": "@jupyter-widgets/base",
      "model_module_version": "1.2.0",
      "model_name": "LayoutModel",
      "state": {}
     },
     "f7a51563117b4448b050f1d6f6662c91": {
      "model_module": "@jupyter-widgets/controls",
      "model_module_version": "1.5.0",
      "model_name": "FloatProgressModel",
      "state": {
       "bar_style": "danger",
       "description": "Train:   0%",
       "layout": "IPY_MODEL_75fac48086c740ce9943d1ee394bca77",
       "max": 12,
       "style": "IPY_MODEL_2cda62e387364d6b9b35623fbdaf5c7f"
      }
     },
     "f7ca170f299643c7aa891731175be671": {
      "model_module": "@jupyter-widgets/controls",
      "model_module_version": "1.5.0",
      "model_name": "FloatProgressModel",
      "state": {
       "bar_style": "danger",
       "description": "Train:   0%",
       "layout": "IPY_MODEL_2517d20772c04633a057eac3406cc77b",
       "max": 12,
       "style": "IPY_MODEL_72403f691dee477b8b35d58dd83a82e2"
      }
     },
     "f7d13e6738fe4f32aed057b0c8fc0898": {
      "model_module": "@jupyter-widgets/controls",
      "model_module_version": "1.5.0",
      "model_name": "HTMLModel",
      "state": {
       "layout": "IPY_MODEL_762080dce1f84c4d898bcc45745994fd",
       "style": "IPY_MODEL_c57de310d67648f09259cbd724be3d3a",
       "value": " 0/12 [02:52&lt;?, ?it/s]"
      }
     },
     "f7db7df713504fafb8744c7400e61043": {
      "model_module": "@jupyter-widgets/controls",
      "model_module_version": "1.5.0",
      "model_name": "HBoxModel",
      "state": {
       "children": [
        "IPY_MODEL_355b4868619c485495b39e90af4ccdec",
        "IPY_MODEL_e4864582411147428e6b094e99731217"
       ],
       "layout": "IPY_MODEL_54218cb0bb534dae880efd3da3a403bb"
      }
     },
     "f7f6a2688558489ca5d8676e2e55b011": {
      "model_module": "@jupyter-widgets/controls",
      "model_module_version": "1.5.0",
      "model_name": "FloatProgressModel",
      "state": {
       "bar_style": "danger",
       "description": "Train:   0%",
       "layout": "IPY_MODEL_c2f74aa495704416978ee894606fbc74",
       "max": 12,
       "style": "IPY_MODEL_0d75dfd69e044e398d7516a43e8d4ffa"
      }
     },
     "f7ff0f654d884691834ab7f428434b07": {
      "model_module": "@jupyter-widgets/base",
      "model_module_version": "1.2.0",
      "model_name": "LayoutModel",
      "state": {}
     },
     "f804d6b8b6444706b85694de0083f8e6": {
      "model_module": "@jupyter-widgets/controls",
      "model_module_version": "1.5.0",
      "model_name": "DescriptionStyleModel",
      "state": {
       "description_width": ""
      }
     },
     "f81c6c58ef35494dbb326f878c1aca49": {
      "model_module": "@jupyter-widgets/base",
      "model_module_version": "1.2.0",
      "model_name": "LayoutModel",
      "state": {}
     },
     "f85538b4a182451b9ffc53e7422570bf": {
      "model_module": "@jupyter-widgets/controls",
      "model_module_version": "1.5.0",
      "model_name": "FloatProgressModel",
      "state": {
       "bar_style": "danger",
       "description": "Valid iteration=1000:   0%",
       "layout": "IPY_MODEL_c42c544426e942a6a250cc7353c060e4",
       "max": 5000,
       "style": "IPY_MODEL_5822b8b98b2b42d29fb81a84eeae517e"
      }
     },
     "f85da1fabc0f41df8e351e699284af14": {
      "model_module": "@jupyter-widgets/controls",
      "model_module_version": "1.5.0",
      "model_name": "FloatProgressModel",
      "state": {
       "bar_style": "danger",
       "description": "Train:   0%",
       "layout": "IPY_MODEL_082b1cbe02a74071820114b3956ee86c",
       "max": 12,
       "style": "IPY_MODEL_3e3d4139dc344207947aab36cf870094"
      }
     },
     "f8608339d1b9441aa7737cf51c3b8344": {
      "model_module": "@jupyter-widgets/controls",
      "model_module_version": "1.5.0",
      "model_name": "HBoxModel",
      "state": {
       "children": [
        "IPY_MODEL_76a8365098c84a3bb75ae0b6219d1dfa",
        "IPY_MODEL_2f001057ee7f49c9b96573c33e09dbc8"
       ],
       "layout": "IPY_MODEL_b11ca200e76a41b29a825a87b60fa2aa"
      }
     },
     "f89a1232ef7c48b38e82b405cc7cfdc4": {
      "model_module": "@jupyter-widgets/base",
      "model_module_version": "1.2.0",
      "model_name": "LayoutModel",
      "state": {}
     },
     "f89c9e084a764a51b7cbbf9a8295f5dd": {
      "model_module": "@jupyter-widgets/base",
      "model_module_version": "1.2.0",
      "model_name": "LayoutModel",
      "state": {}
     },
     "f8c17d83cd8d446a84b3a14c991b9752": {
      "model_module": "@jupyter-widgets/controls",
      "model_module_version": "1.5.0",
      "model_name": "HTMLModel",
      "state": {
       "layout": "IPY_MODEL_c303c1dc567446929110c4f36c6152c4",
       "style": "IPY_MODEL_aae2cd01342047f5af260d31af1bd7c2",
       "value": " 215/90000 [01:37&lt;10:23:09,  2.40it/s]"
      }
     },
     "f8d1fd90d7d84c11855d3e1dd7664387": {
      "model_module": "@jupyter-widgets/controls",
      "model_module_version": "1.5.0",
      "model_name": "DescriptionStyleModel",
      "state": {
       "description_width": ""
      }
     },
     "f8df3281d2854b7ca385dc643f1b40cf": {
      "model_module": "@jupyter-widgets/controls",
      "model_module_version": "1.5.0",
      "model_name": "FloatProgressModel",
      "state": {
       "bar_style": "danger",
       "description": "Train:   0%",
       "layout": "IPY_MODEL_dfea956c958d47c18fb773ca64f40b7d",
       "max": 12,
       "style": "IPY_MODEL_cf24620b3f194b458affcf5d7e7af159"
      }
     },
     "f916d965b5624f31875094413488a795": {
      "model_module": "@jupyter-widgets/base",
      "model_module_version": "1.2.0",
      "model_name": "LayoutModel",
      "state": {}
     },
     "f9192a102c4f4a3c832ff0dae196f6cc": {
      "model_module": "@jupyter-widgets/controls",
      "model_module_version": "1.5.0",
      "model_name": "HTMLModel",
      "state": {
       "layout": "IPY_MODEL_e26c2d1904b94bdc9fc688aef9d33a27",
       "style": "IPY_MODEL_2595a4bacb65457986153b1abf8bf78a",
       "value": " 0/90000 [00:34&lt;?, ?it/s]"
      }
     },
     "f91afe29de214dc78859fa7a121b3ed6": {
      "model_module": "@jupyter-widgets/base",
      "model_module_version": "1.2.0",
      "model_name": "LayoutModel",
      "state": {}
     },
     "f92d6f22ffb0492bb82dc23cd96c0e7a": {
      "model_module": "@jupyter-widgets/controls",
      "model_module_version": "1.5.0",
      "model_name": "ProgressStyleModel",
      "state": {
       "description_width": "initial"
      }
     },
     "f92f264bfd124d54bd0923cbbfda27eb": {
      "model_module": "@jupyter-widgets/base",
      "model_module_version": "1.2.0",
      "model_name": "LayoutModel",
      "state": {}
     },
     "f9351909a214466f9c5f324cc655b40e": {
      "model_module": "@jupyter-widgets/controls",
      "model_module_version": "1.5.0",
      "model_name": "DescriptionStyleModel",
      "state": {
       "description_width": ""
      }
     },
     "f945d39d5b0547e0a7561a2fd3c3dc90": {
      "model_module": "@jupyter-widgets/base",
      "model_module_version": "1.2.0",
      "model_name": "LayoutModel",
      "state": {}
     },
     "f960278df9c6471d83cdcbbf6bdaaa13": {
      "model_module": "@jupyter-widgets/base",
      "model_module_version": "1.2.0",
      "model_name": "LayoutModel",
      "state": {}
     },
     "f972cd3cc181485e8178153930580553": {
      "model_module": "@jupyter-widgets/controls",
      "model_module_version": "1.5.0",
      "model_name": "HBoxModel",
      "state": {
       "children": [
        "IPY_MODEL_aa8fe0c041114edda0235a05bd512d98",
        "IPY_MODEL_e916da2d567c4893a66fd9aea9975c37"
       ],
       "layout": "IPY_MODEL_65d5d986172a4d3ba54e60426c442818"
      }
     },
     "f9824b71bb18446cab173fb2692775d7": {
      "model_module": "@jupyter-widgets/controls",
      "model_module_version": "1.5.0",
      "model_name": "HBoxModel",
      "state": {
       "children": [
        "IPY_MODEL_af3cf13627ad4ca5b957edae9e12062e",
        "IPY_MODEL_9a07f12437114415a0eb66c8c89b24f1"
       ],
       "layout": "IPY_MODEL_441c4cf543a34711b7a3f7b565867bcb"
      }
     },
     "f9b05fd83289446f931e210e8311bedc": {
      "model_module": "@jupyter-widgets/base",
      "model_module_version": "1.2.0",
      "model_name": "LayoutModel",
      "state": {}
     },
     "f9b095280e884e6d8ce979febefab48d": {
      "model_module": "@jupyter-widgets/controls",
      "model_module_version": "1.5.0",
      "model_name": "FloatProgressModel",
      "state": {
       "bar_style": "danger",
       "description": "Valid iteration=0:   0%",
       "layout": "IPY_MODEL_e7f98ae7f60c4ca1a68210124b016c90",
       "max": 10000,
       "style": "IPY_MODEL_c397cd0677cb420fb478e4bca934f66b"
      }
     },
     "f9bdfbc350524d148612fd82b2418f92": {
      "model_module": "@jupyter-widgets/controls",
      "model_module_version": "1.5.0",
      "model_name": "HBoxModel",
      "state": {
       "children": [
        "IPY_MODEL_7e7c887cbfb6416f89b591b4940606a6",
        "IPY_MODEL_986d19c85eaa411eb1377641a56ee1ad"
       ],
       "layout": "IPY_MODEL_2001720533484e0faf01cf139fb5b2eb"
      }
     },
     "f9c46af681394f56b00a8d6ec41da1fc": {
      "model_module": "@jupyter-widgets/controls",
      "model_module_version": "1.5.0",
      "model_name": "ProgressStyleModel",
      "state": {
       "description_width": "initial"
      }
     },
     "f9f839d561164ed3ad5e9ce9a3f740f4": {
      "model_module": "@jupyter-widgets/base",
      "model_module_version": "1.2.0",
      "model_name": "LayoutModel",
      "state": {}
     },
     "fa2115294f4d4207862935ea8d3eea35": {
      "model_module": "@jupyter-widgets/base",
      "model_module_version": "1.2.0",
      "model_name": "LayoutModel",
      "state": {}
     },
     "fa2191e44ebe4c69864fcb6d60ac9316": {
      "model_module": "@jupyter-widgets/base",
      "model_module_version": "1.2.0",
      "model_name": "LayoutModel",
      "state": {}
     },
     "fa3eb1886ef846b39fadfce3479663e5": {
      "model_module": "@jupyter-widgets/controls",
      "model_module_version": "1.5.0",
      "model_name": "HBoxModel",
      "state": {
       "children": [
        "IPY_MODEL_5da0cf7e803140ef8a7445676c875137",
        "IPY_MODEL_d62d607377c04ce9bd4fd7b9a5f01693"
       ],
       "layout": "IPY_MODEL_b22763e1391a497693fd6d9b45e93253"
      }
     },
     "fa58530327a64bb7b25217c1e0920e07": {
      "model_module": "@jupyter-widgets/controls",
      "model_module_version": "1.5.0",
      "model_name": "ProgressStyleModel",
      "state": {
       "description_width": "initial"
      }
     },
     "fa642e65fb664dbea969174733e07cf3": {
      "model_module": "@jupyter-widgets/base",
      "model_module_version": "1.2.0",
      "model_name": "LayoutModel",
      "state": {}
     },
     "faad18d56a914949a6a26c5c900ecfa4": {
      "model_module": "@jupyter-widgets/base",
      "model_module_version": "1.2.0",
      "model_name": "LayoutModel",
      "state": {}
     },
     "fabce331087641f982e65c9ccf1330f9": {
      "model_module": "@jupyter-widgets/controls",
      "model_module_version": "1.5.0",
      "model_name": "DescriptionStyleModel",
      "state": {
       "description_width": ""
      }
     },
     "fac780f95e96481b93eed31157347fd8": {
      "model_module": "@jupyter-widgets/controls",
      "model_module_version": "1.5.0",
      "model_name": "HBoxModel",
      "state": {
       "children": [
        "IPY_MODEL_e717ce38d09543ef890223a7580c1895",
        "IPY_MODEL_f388d611f2454060a927edf92021a32a"
       ],
       "layout": "IPY_MODEL_3daa44dd41184237a556efb43293aa68"
      }
     },
     "fad93c0f79544136bb1c8c4f6d5fa347": {
      "model_module": "@jupyter-widgets/controls",
      "model_module_version": "1.5.0",
      "model_name": "HBoxModel",
      "state": {
       "children": [
        "IPY_MODEL_5ca0e0f478f0493995fb5222e452d8ec",
        "IPY_MODEL_6875dce7ee714bbfb9158b8c25e905e2"
       ],
       "layout": "IPY_MODEL_8c724c624c2744a6804e47b78c251fa1"
      }
     },
     "fadde006d35240adbcfd84c3b481cfc2": {
      "model_module": "@jupyter-widgets/controls",
      "model_module_version": "1.5.0",
      "model_name": "HBoxModel",
      "state": {
       "children": [
        "IPY_MODEL_560ee1189e6943f6aeac8c924787e5e8",
        "IPY_MODEL_1d1080768a324c888c629bfbfc8ef5d4"
       ],
       "layout": "IPY_MODEL_0b1e0a4ce52a43a3a2b5a1acecb53adb"
      }
     },
     "fae2c0d64c0e4a65ae8d4c77b535a212": {
      "model_module": "@jupyter-widgets/controls",
      "model_module_version": "1.5.0",
      "model_name": "HTMLModel",
      "state": {
       "layout": "IPY_MODEL_134d4a0fa00e4f8daf701b6eb95dec04",
       "style": "IPY_MODEL_27b87f2eda21405485e4fa3c9d2fc4d7",
       "value": " 0/10000 [00:01&lt;?, ?it/s]"
      }
     },
     "fae948e2174b45e5b7f8336b208c1f50": {
      "model_module": "@jupyter-widgets/controls",
      "model_module_version": "1.5.0",
      "model_name": "HTMLModel",
      "state": {
       "layout": "IPY_MODEL_f25687272e90487f9680536cea1008ab",
       "style": "IPY_MODEL_aec6dcaf47f546d88ad5a8c3079049c0",
       "value": " 987/90000 [07:06&lt;10:58:52,  2.25it/s]"
      }
     },
     "fb218f30ecaf48a98f9e9a043cc5f1af": {
      "model_module": "@jupyter-widgets/controls",
      "model_module_version": "1.5.0",
      "model_name": "HBoxModel",
      "state": {
       "children": [
        "IPY_MODEL_1a6d40dffb8842aa9c28d454581d33fd",
        "IPY_MODEL_dde1f24f4cf24ea886cd95f82da351f4"
       ],
       "layout": "IPY_MODEL_64431b2220fd4c8796e79e9104ba9044"
      }
     },
     "fb2822076f0f4ac5a4694c39d6bca0f9": {
      "model_module": "@jupyter-widgets/base",
      "model_module_version": "1.2.0",
      "model_name": "LayoutModel",
      "state": {}
     },
     "fb28bdffaf2f416fb9f97fbc4a43eedd": {
      "model_module": "@jupyter-widgets/base",
      "model_module_version": "1.2.0",
      "model_name": "LayoutModel",
      "state": {}
     },
     "fb3de4a4283d4043ada767966b51b716": {
      "model_module": "@jupyter-widgets/controls",
      "model_module_version": "1.5.0",
      "model_name": "FloatProgressModel",
      "state": {
       "bar_style": "danger",
       "description": "Train epoch=0:   2%",
       "layout": "IPY_MODEL_c7b7921687854fe79d48003e0974a09f",
       "max": 45000,
       "style": "IPY_MODEL_a4fa8ed907794f729eb9c7cd08a069fe",
       "value": 878
      }
     },
     "fb6cd8715b004be3adecd239fafa841e": {
      "model_module": "@jupyter-widgets/controls",
      "model_module_version": "1.5.0",
      "model_name": "DescriptionStyleModel",
      "state": {
       "description_width": ""
      }
     },
     "fb7381c919d94c41a8f074d5b7496372": {
      "model_module": "@jupyter-widgets/base",
      "model_module_version": "1.2.0",
      "model_name": "LayoutModel",
      "state": {}
     },
     "fb8fabf6e6394b82a9745d896f35d261": {
      "model_module": "@jupyter-widgets/base",
      "model_module_version": "1.2.0",
      "model_name": "LayoutModel",
      "state": {}
     },
     "fb948b80db3642dd98d19ccaefb51b59": {
      "model_module": "@jupyter-widgets/controls",
      "model_module_version": "1.5.0",
      "model_name": "DescriptionStyleModel",
      "state": {
       "description_width": ""
      }
     },
     "fb9577a234744fd5b017e5d43aab377b": {
      "model_module": "@jupyter-widgets/controls",
      "model_module_version": "1.5.0",
      "model_name": "ProgressStyleModel",
      "state": {
       "description_width": "initial"
      }
     },
     "fbb2c4ce9f5f4ec088e81571b6f0743f": {
      "model_module": "@jupyter-widgets/base",
      "model_module_version": "1.2.0",
      "model_name": "LayoutModel",
      "state": {}
     },
     "fbc0e59df4844d489dae0434338876e8": {
      "model_module": "@jupyter-widgets/controls",
      "model_module_version": "1.5.0",
      "model_name": "FloatProgressModel",
      "state": {
       "bar_style": "danger",
       "description": "Train epoch=0:   0%",
       "layout": "IPY_MODEL_3edd371478f14ada8e89650f2916079d",
       "max": 45000,
       "style": "IPY_MODEL_b8e8df754278489fb06e674d294ea67e"
      }
     },
     "fbc84584a73049f08826a5f0dbd88b60": {
      "model_module": "@jupyter-widgets/controls",
      "model_module_version": "1.5.0",
      "model_name": "FloatProgressModel",
      "state": {
       "bar_style": "danger",
       "description": "Valid iteration=0:   0%",
       "layout": "IPY_MODEL_fee06a14637148ee8a1ffae0cc9b5c59",
       "max": 10000,
       "style": "IPY_MODEL_97c84b7668e64ea6882a74e241d414b4"
      }
     },
     "fbcb344c487345f9ab161e0f9c49843c": {
      "model_module": "@jupyter-widgets/base",
      "model_module_version": "1.2.0",
      "model_name": "LayoutModel",
      "state": {}
     },
     "fbd5840849b849b6a252d9556090215a": {
      "model_module": "@jupyter-widgets/controls",
      "model_module_version": "1.5.0",
      "model_name": "DescriptionStyleModel",
      "state": {
       "description_width": ""
      }
     },
     "fbf180280e84446290d2c5efa1a5872c": {
      "model_module": "@jupyter-widgets/base",
      "model_module_version": "1.2.0",
      "model_name": "LayoutModel",
      "state": {}
     },
     "fbfb86fe1e6940868f767a1965b8a519": {
      "model_module": "@jupyter-widgets/base",
      "model_module_version": "1.2.0",
      "model_name": "LayoutModel",
      "state": {}
     },
     "fc03acd47ac0462ba1073e9f063d912c": {
      "model_module": "@jupyter-widgets/controls",
      "model_module_version": "1.5.0",
      "model_name": "DescriptionStyleModel",
      "state": {
       "description_width": ""
      }
     },
     "fc089cebd0404dc8a5c338d7ce0bb581": {
      "model_module": "@jupyter-widgets/base",
      "model_module_version": "1.2.0",
      "model_name": "LayoutModel",
      "state": {}
     },
     "fc29b62c4f954bd887744f703e25c182": {
      "model_module": "@jupyter-widgets/controls",
      "model_module_version": "1.5.0",
      "model_name": "HTMLModel",
      "state": {
       "layout": "IPY_MODEL_d5a4815ab876481c995d89361d173853",
       "style": "IPY_MODEL_054d92755b4f49bbb16c36e2464dcd15",
       "value": " 0/10000 [01:10&lt;?, ?it/s]"
      }
     },
     "fc3333e381fc440cb2f2581148f7a612": {
      "model_module": "@jupyter-widgets/base",
      "model_module_version": "1.2.0",
      "model_name": "LayoutModel",
      "state": {}
     },
     "fc3a8fd6201e48caab324cfaade7bb93": {
      "model_module": "@jupyter-widgets/controls",
      "model_module_version": "1.5.0",
      "model_name": "DescriptionStyleModel",
      "state": {
       "description_width": ""
      }
     },
     "fc42abd765d14c59a27ece86793d25b5": {
      "model_module": "@jupyter-widgets/controls",
      "model_module_version": "1.5.0",
      "model_name": "ProgressStyleModel",
      "state": {
       "description_width": "initial"
      }
     },
     "fc4be1e945e14e7caa1b3bee1ff70348": {
      "model_module": "@jupyter-widgets/controls",
      "model_module_version": "1.5.0",
      "model_name": "FloatProgressModel",
      "state": {
       "bar_style": "danger",
       "description": "Train:   0%",
       "layout": "IPY_MODEL_c01b761cc671475e898eb9c555dbee20",
       "max": 12,
       "style": "IPY_MODEL_616537f0049d4e2bbd68f886d14bd3db"
      }
     },
     "fc5965cbe3c34585b01cb38fd9f574ba": {
      "model_module": "@jupyter-widgets/controls",
      "model_module_version": "1.5.0",
      "model_name": "HBoxModel",
      "state": {
       "children": [
        "IPY_MODEL_2c224b3084474743a3151e39e0b13bd6",
        "IPY_MODEL_ecd6ec73460049a8ae8008a306f43105"
       ],
       "layout": "IPY_MODEL_4b10ccb160854316b6a2c94c8c54576f"
      }
     },
     "fc7522f7dd9f4c27b07ea0cae9e1cff8": {
      "model_module": "@jupyter-widgets/controls",
      "model_module_version": "1.5.0",
      "model_name": "ProgressStyleModel",
      "state": {
       "description_width": "initial"
      }
     },
     "fc8c90f4bf78414c811c4820718b64b6": {
      "model_module": "@jupyter-widgets/base",
      "model_module_version": "1.2.0",
      "model_name": "LayoutModel",
      "state": {}
     },
     "fcd30694cb62468d88f525da761ecc6a": {
      "model_module": "@jupyter-widgets/controls",
      "model_module_version": "1.5.0",
      "model_name": "FloatProgressModel",
      "state": {
       "bar_style": "danger",
       "description": "Train:   0%",
       "layout": "IPY_MODEL_9d34fd52294e463094fed85bd9ee2b9d",
       "max": 12,
       "style": "IPY_MODEL_d61efeae8ea94567b002cda27b0527c4"
      }
     },
     "fcda412d61c24f3e8ee45380d9df2331": {
      "model_module": "@jupyter-widgets/base",
      "model_module_version": "1.2.0",
      "model_name": "LayoutModel",
      "state": {}
     },
     "fcea5ffe619d4941a5d4f8dde7d733d1": {
      "model_module": "@jupyter-widgets/base",
      "model_module_version": "1.2.0",
      "model_name": "LayoutModel",
      "state": {}
     },
     "fcf2dd1c873d4bb7a8d57d5540d289ab": {
      "model_module": "@jupyter-widgets/base",
      "model_module_version": "1.2.0",
      "model_name": "LayoutModel",
      "state": {}
     },
     "fd0b96f1bdd64d188e5dc8c6a4e413d7": {
      "model_module": "@jupyter-widgets/base",
      "model_module_version": "1.2.0",
      "model_name": "LayoutModel",
      "state": {}
     },
     "fd1c2681b19e49009889065ce5227746": {
      "model_module": "@jupyter-widgets/controls",
      "model_module_version": "1.5.0",
      "model_name": "HTMLModel",
      "state": {
       "layout": "IPY_MODEL_3eb4720bdb3f4dbdbed4166459246f68",
       "style": "IPY_MODEL_15eb8e94fefc470bb684c5a26c377256",
       "value": " 0/12 [1:23:00&lt;?, ?it/s]"
      }
     },
     "fd227eabfee44243b7830478cfe9ceec": {
      "model_module": "@jupyter-widgets/controls",
      "model_module_version": "1.5.0",
      "model_name": "HBoxModel",
      "state": {
       "children": [
        "IPY_MODEL_ddc5844c131848c6962209bb717564ce",
        "IPY_MODEL_e6f56f2e07e04843a9a1162f462fb895"
       ],
       "layout": "IPY_MODEL_c19d3a996eb8451ca16376cfe976a8a0"
      }
     },
     "fd23325947a24bb9ac1bf7d88f12a530": {
      "model_module": "@jupyter-widgets/controls",
      "model_module_version": "1.5.0",
      "model_name": "HTMLModel",
      "state": {
       "layout": "IPY_MODEL_b65120218f724399b62561463da84e08",
       "style": "IPY_MODEL_5d06258cfc5a454691945a87f40ff579",
       "value": " 1633/45000 [11:46&lt;4:43:02,  2.55it/s]"
      }
     },
     "fd256b3f05e84361b9a017919a852b0f": {
      "model_module": "@jupyter-widgets/base",
      "model_module_version": "1.2.0",
      "model_name": "LayoutModel",
      "state": {}
     },
     "fd3b1eea4c2b4fa0963bc64f2898525f": {
      "model_module": "@jupyter-widgets/controls",
      "model_module_version": "1.5.0",
      "model_name": "DescriptionStyleModel",
      "state": {
       "description_width": ""
      }
     },
     "fd516ddadb054a1788eb6593f415f376": {
      "model_module": "@jupyter-widgets/controls",
      "model_module_version": "1.5.0",
      "model_name": "FloatProgressModel",
      "state": {
       "bar_style": "danger",
       "description": "Train epoch=0:   0%",
       "layout": "IPY_MODEL_3eae9294051d4257aa44f34051186894",
       "max": 90000,
       "style": "IPY_MODEL_c1bbbcebd0df426bb0e5bc69a0c7c22b"
      }
     },
     "fd54fcd650934e6e890867ad9aef06cc": {
      "model_module": "@jupyter-widgets/controls",
      "model_module_version": "1.5.0",
      "model_name": "ProgressStyleModel",
      "state": {
       "description_width": "initial"
      }
     },
     "fd5a5b929d9f4d2eb2bce81d8989c6a5": {
      "model_module": "@jupyter-widgets/controls",
      "model_module_version": "1.5.0",
      "model_name": "FloatProgressModel",
      "state": {
       "bar_style": "danger",
       "description": "Train:   0%",
       "layout": "IPY_MODEL_6e7963d7964d461698aa078b39f59649",
       "max": 23,
       "style": "IPY_MODEL_6f35651bb9fb4f76988a7ddbdfcf156d"
      }
     },
     "fd7e86cf5bca44e5a8dc3ecc0a7a9dc3": {
      "model_module": "@jupyter-widgets/controls",
      "model_module_version": "1.5.0",
      "model_name": "HTMLModel",
      "state": {
       "layout": "IPY_MODEL_9d21fe2ebb8345f4b4d9134c63232dd8",
       "style": "IPY_MODEL_2123c13b764f4eac8cc82ff5e2ad033d",
       "value": " 74/90000 [00:28&lt;8:41:55,  2.87it/s]"
      }
     },
     "fd93df1948374b7e9fb0b9e820e9fdc6": {
      "model_module": "@jupyter-widgets/controls",
      "model_module_version": "1.5.0",
      "model_name": "ProgressStyleModel",
      "state": {
       "description_width": "initial"
      }
     },
     "fda8d4f18ae646f8aae36466129c6892": {
      "model_module": "@jupyter-widgets/controls",
      "model_module_version": "1.5.0",
      "model_name": "HBoxModel",
      "state": {
       "children": [
        "IPY_MODEL_0551f5eb7c9044b3b8a5e60ccb446324",
        "IPY_MODEL_3d5a82d740304b36b040a12bba7c746c"
       ],
       "layout": "IPY_MODEL_8775db7effef4319a178b26a0f28b8c9"
      }
     },
     "fdc1907b53804a09b69a26b4fb329756": {
      "model_module": "@jupyter-widgets/base",
      "model_module_version": "1.2.0",
      "model_name": "LayoutModel",
      "state": {}
     },
     "fde9d142b24d40469e219a784e8aa0ac": {
      "model_module": "@jupyter-widgets/controls",
      "model_module_version": "1.5.0",
      "model_name": "HBoxModel",
      "state": {
       "children": [
        "IPY_MODEL_ebe4b32cc00e4fd5b4fdbb3b5e49ab2b",
        "IPY_MODEL_a58a04fbd5f84a4fafe4381c484b61e9"
       ],
       "layout": "IPY_MODEL_4b0c27cb85f44b9eaa533417e427b0d0"
      }
     },
     "fe0a5c754ea44090b57b94e1a56d2ed6": {
      "model_module": "@jupyter-widgets/controls",
      "model_module_version": "1.5.0",
      "model_name": "HTMLModel",
      "state": {
       "layout": "IPY_MODEL_4e1a1493204c4b2182eee3a5c45c931d",
       "style": "IPY_MODEL_6698baf20e5841a49402cee1bf602c00",
       "value": " 0/90000 [03:49&lt;?, ?it/s]"
      }
     },
     "fe171bf13ed24e6d890e2e7382616518": {
      "model_module": "@jupyter-widgets/base",
      "model_module_version": "1.2.0",
      "model_name": "LayoutModel",
      "state": {}
     },
     "fe1b25580b9547b68a80eb837e27b51f": {
      "model_module": "@jupyter-widgets/controls",
      "model_module_version": "1.5.0",
      "model_name": "FloatProgressModel",
      "state": {
       "bar_style": "danger",
       "description": "Valid iteration=2000:   0%",
       "layout": "IPY_MODEL_eaab98d21f5a41dfaa54f6607b46a69f",
       "max": 10000,
       "style": "IPY_MODEL_6a9bf9acd9374ebdb1c41c252cd7e7f7"
      }
     },
     "fe25e6ede3f4429c9190ad648ff5628a": {
      "model_module": "@jupyter-widgets/controls",
      "model_module_version": "1.5.0",
      "model_name": "HTMLModel",
      "state": {
       "layout": "IPY_MODEL_bfef4ae1bcd04f35b5a3db1659aca143",
       "style": "IPY_MODEL_cdbdef85d8de4301b95860aaee836be5",
       "value": " 0/10000 [01:49&lt;?, ?it/s]"
      }
     },
     "fe391fa5a16a4901b71c147dfbd5b2e5": {
      "model_module": "@jupyter-widgets/base",
      "model_module_version": "1.2.0",
      "model_name": "LayoutModel",
      "state": {}
     },
     "fe4effecd3c54fb1a796255b18e896b5": {
      "model_module": "@jupyter-widgets/controls",
      "model_module_version": "1.5.0",
      "model_name": "HBoxModel",
      "state": {
       "children": [
        "IPY_MODEL_561abc75a64949dca08ea19aac3b2564",
        "IPY_MODEL_3860d89d54bf44b98ea50fd4e3d182fb"
       ],
       "layout": "IPY_MODEL_0d901578b35241b08d9db612e0bf277c"
      }
     },
     "fe516a8addc545d48c24d13a15ed9d61": {
      "model_module": "@jupyter-widgets/base",
      "model_module_version": "1.2.0",
      "model_name": "LayoutModel",
      "state": {}
     },
     "fe72a663b3c44e33b3848255d9338063": {
      "model_module": "@jupyter-widgets/controls",
      "model_module_version": "1.5.0",
      "model_name": "ProgressStyleModel",
      "state": {
       "description_width": "initial"
      }
     },
     "fea2ab5a4f3449b29fd4f8f3be569dd8": {
      "model_module": "@jupyter-widgets/controls",
      "model_module_version": "1.5.0",
      "model_name": "HBoxModel",
      "state": {
       "children": [
        "IPY_MODEL_26f2d6bb15b342538cbfedaa4fbc5020",
        "IPY_MODEL_5c7fa270869c4924a8eccda71341a00c"
       ],
       "layout": "IPY_MODEL_0649ff2ec1724485bcb8a53b72d7551e"
      }
     },
     "fea578cba25c4a7dace2366340df9799": {
      "model_module": "@jupyter-widgets/controls",
      "model_module_version": "1.5.0",
      "model_name": "FloatProgressModel",
      "state": {
       "bar_style": "danger",
       "description": "Valid iteration=0:   0%",
       "layout": "IPY_MODEL_6304dce655984979bb63e4bddc5ca043",
       "max": 10000,
       "style": "IPY_MODEL_8b1b44894fcc47148799e22dce8a8f63"
      }
     },
     "febbaf9040904c68b7a81876df92568f": {
      "model_module": "@jupyter-widgets/base",
      "model_module_version": "1.2.0",
      "model_name": "LayoutModel",
      "state": {}
     },
     "fecea009a1b74bdba22df5e93a52f89a": {
      "model_module": "@jupyter-widgets/controls",
      "model_module_version": "1.5.0",
      "model_name": "FloatProgressModel",
      "state": {
       "bar_style": "danger",
       "description": "Valid iteration=0:   0%",
       "layout": "IPY_MODEL_0539786673324d758e903227ff3cc12c",
       "max": 5000,
       "style": "IPY_MODEL_fb9577a234744fd5b017e5d43aab377b"
      }
     },
     "fee06a14637148ee8a1ffae0cc9b5c59": {
      "model_module": "@jupyter-widgets/base",
      "model_module_version": "1.2.0",
      "model_name": "LayoutModel",
      "state": {}
     },
     "ff023a040c384a5fb4bcf3980126fe59": {
      "model_module": "@jupyter-widgets/controls",
      "model_module_version": "1.5.0",
      "model_name": "HTMLModel",
      "state": {
       "layout": "IPY_MODEL_a7f4fb238fb0457a99b9644fd33a4eba",
       "style": "IPY_MODEL_32a7be6f11954fb198b5e977eca7c9bc",
       "value": " 0/12 [00:39&lt;?, ?it/s]"
      }
     },
     "ff1eec81118c4129bbe0c363eb23f9a4": {
      "model_module": "@jupyter-widgets/controls",
      "model_module_version": "1.5.0",
      "model_name": "HBoxModel",
      "state": {
       "children": [
        "IPY_MODEL_5a778cce6b0e486fb9eac2d7906d87f0",
        "IPY_MODEL_041e151e841f4df3a82be8d2f94b59e5"
       ],
       "layout": "IPY_MODEL_a0fd45664c014631aee18d8b07c268df"
      }
     },
     "ff2a122701944b10920e72cdffce3611": {
      "model_module": "@jupyter-widgets/base",
      "model_module_version": "1.2.0",
      "model_name": "LayoutModel",
      "state": {}
     },
     "ff6aa9ee5346477ba8b47937a347d864": {
      "model_module": "@jupyter-widgets/controls",
      "model_module_version": "1.5.0",
      "model_name": "HTMLModel",
      "state": {
       "layout": "IPY_MODEL_9e1935b22cc9412cb6cfa40856ca8f11",
       "style": "IPY_MODEL_7db9bf3af72d47f8af0316ad88bcf27c",
       "value": " 0/23 [00:34&lt;?, ?it/s]"
      }
     },
     "ff6af231c4d94afe8e2fb02894b2635e": {
      "model_module": "@jupyter-widgets/base",
      "model_module_version": "1.2.0",
      "model_name": "LayoutModel",
      "state": {}
     },
     "ff751d68813b43a88087f7c517b3969f": {
      "model_module": "@jupyter-widgets/base",
      "model_module_version": "1.2.0",
      "model_name": "LayoutModel",
      "state": {}
     },
     "ff7f2ec465a04638b9e6086b8d6fb392": {
      "model_module": "@jupyter-widgets/controls",
      "model_module_version": "1.5.0",
      "model_name": "ProgressStyleModel",
      "state": {
       "description_width": "initial"
      }
     },
     "ffa401133e2b4f558b765fac3fafc8ea": {
      "model_module": "@jupyter-widgets/controls",
      "model_module_version": "1.5.0",
      "model_name": "HBoxModel",
      "state": {
       "children": [
        "IPY_MODEL_de413a858c5947c39a67544650d5700b",
        "IPY_MODEL_7027c5f5841f4f11af50b99a4a3d9e1d"
       ],
       "layout": "IPY_MODEL_c579795346c9443c8c99278141a993a0"
      }
     },
     "ffcf419a9bfa455291bc2cc4a2a272e6": {
      "model_module": "@jupyter-widgets/controls",
      "model_module_version": "1.5.0",
      "model_name": "HTMLModel",
      "state": {
       "layout": "IPY_MODEL_bea1a26fbf1c4fe29e9865806feb8e03",
       "style": "IPY_MODEL_ea0282b8c4b04ac197ad4d39b527c4b8",
       "value": " 2/90000 [01:44&lt;47:45:59,  1.91s/it]"
      }
     }
    },
    "version_major": 2,
    "version_minor": 0
   }
  }
 },
 "nbformat": 4,
 "nbformat_minor": 4
}
