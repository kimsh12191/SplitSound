{
 "cells": [
  {
   "cell_type": "code",
   "execution_count": 1,
   "metadata": {},
   "outputs": [],
   "source": [
    "from src import *\n",
    "from utils import *\n",
    "import os\n",
    "import os.path as osp\n",
    "import datetime\n",
    "\n",
    "import numpy as np\n",
    "import pandas as pd\n",
    "import matplotlib.pyplot as plt\n",
    "from six.moves import cPickle\n",
    "import torch"
   ]
  },
  {
   "cell_type": "code",
   "execution_count": 2,
   "metadata": {},
   "outputs": [],
   "source": [
    "config_dict = {\n",
    "    'gpu': 0, \n",
    "    'resume': False,\n",
    "    \n",
    "    'max_iteration': 500000,\n",
    "    'lr': 0.001,\n",
    "    'weight_decay': 0.001,\n",
    "    'momentum': 0.99,\n",
    "    'batch_size': 1,\n",
    "    'model': 'fcn8',\n",
    "    'n_class': 3,\n",
    "    'interval_validate': 1000,\n",
    "}\n",
    "\n",
    "# log diectory 생성\n",
    "#here = osp.dirname(osp.abspath(__file__))\n",
    "here = osp.dirname('./')\n",
    "\n",
    "now = datetime.datetime.now()\n",
    "out = osp.join(here, 'logs', now.strftime('%Y%m%d_%H%M%S.%f'))\n",
    "\n",
    "os.makedirs(out)\n",
    "config_dict['out'] = out # log output directory 넣어줌\n",
    "args = DictToObject(config_dict)\n",
    "\n",
    "# GPU선정\n",
    "os.environ['CUDA_VISIBLE_DEVICES'] = str(args.gpu)\n",
    "os.environ['CUDA_LAUNCH_BLOCKING'] = \"1\"\n",
    "cuda = torch.cuda.is_available()\n"
   ]
  },
  {
   "cell_type": "markdown",
   "metadata": {},
   "source": [
    "# data loader"
   ]
  },
  {
   "cell_type": "code",
   "execution_count": 4,
   "metadata": {},
   "outputs": [],
   "source": [
    "label_df = pd.read_csv('./train_answer.csv')\n"
   ]
  },
  {
   "cell_type": "code",
   "execution_count": 6,
   "metadata": {},
   "outputs": [
    {
     "data": {
      "text/plain": [
       "Index(['bed', 'bird', 'cat'], dtype='object')"
      ]
     },
     "execution_count": 6,
     "metadata": {},
     "output_type": "execute_result"
    }
   ],
   "source": [
    "label_df.columns[1:4]"
   ]
  },
  {
   "cell_type": "code",
   "execution_count": 7,
   "metadata": {},
   "outputs": [],
   "source": [
    "# data loader\n",
    "\n",
    "# 앞에서 9만번까지는 train 그 다음은 valid로 사용\n",
    "train_dir_list = np.sort(glob.glob('./train/*.wav'))[:90000]\n",
    "valid_dir_list = np.sort(glob.glob('./train/*.wav'))[90000:]\n",
    "\n",
    "train_dataset = GetTrainDataset(train_dir_list, class_list=label_df.columns[1:4]) \n",
    "valid_dataset = GetTrainDataset(valid_dir_list, class_list=label_df.columns[1:4]) \n",
    "\n",
    "train_loader = DataLoader(dataset=train_dataset, batch_size=args.batch_size, shuffle=True, num_workers=0) # 이게 worker 0이어야 에러가안남 broken pipe인지뭔지\n",
    "valid_loader = DataLoader(dataset=valid_dataset, batch_size=args.batch_size, shuffle=True, num_workers=0) # 이게 worker 0이어야 에러가안남 broken pipe인지뭔지"
   ]
  },
  {
   "cell_type": "markdown",
   "metadata": {},
   "source": [
    "# model"
   ]
  },
  {
   "cell_type": "code",
   "execution_count": null,
   "metadata": {},
   "outputs": [],
   "source": [
    "model = FCN8s(n_class=args.n_class)\n",
    "start_epoch = 0\n",
    "start_iteration = 0\n",
    "if args.resume:\n",
    "    checkpoint = torch.load(args.resume)\n",
    "    model.load_state_dict(checkpoint['model_state_dict'])\n",
    "    start_epoch = checkpoint['epoch']\n",
    "    start_iteration = checkpoint['iteration']\n",
    "\n",
    "if cuda:\n",
    "    model = model.cuda()\n",
    "    \n",
    "optim = torch.optim.SGD(model.parameters(),\n",
    "    lr=args.lr,\n",
    "    momentum=args.momentum,\n",
    "    weight_decay=args.weight_decay)\n",
    "\n",
    "if args.resume:\n",
    "    optim.load_state_dict(checkpoint['optim_state_dict'])\n",
    "\n",
    "\n",
    "trainer = Trainer(\n",
    "    cuda=cuda,\n",
    "    model=model,\n",
    "    optimizer=optim,\n",
    "    train_loader=train_loader,\n",
    "    val_loader=valid_loader,\n",
    "    out=args.out, # log output director\n",
    "    max_iter=args.max_iteration,\n",
    "    n_class=args.n_class,\n",
    "    interval_validate=args.interval_validate,\n",
    ")"
   ]
  },
  {
   "cell_type": "code",
   "execution_count": null,
   "metadata": {},
   "outputs": [],
   "source": [
    "trainer.epoch = start_epoch\n",
    "trainer.iteration = start_iteration\n",
    "trainer.train()"
   ]
  }
 ],
 "metadata": {
  "kernelspec": {
   "display_name": "Python 3",
   "language": "python",
   "name": "python3"
  },
  "language_info": {
   "codemirror_mode": {
    "name": "ipython",
    "version": 3
   },
   "file_extension": ".py",
   "mimetype": "text/x-python",
   "name": "python",
   "nbconvert_exporter": "python",
   "pygments_lexer": "ipython3",
   "version": "3.6.8"
  }
 },
 "nbformat": 4,
 "nbformat_minor": 4
}
